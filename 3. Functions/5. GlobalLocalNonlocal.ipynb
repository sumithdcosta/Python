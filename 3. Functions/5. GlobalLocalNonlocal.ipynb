{
  "nbformat": 4,
  "nbformat_minor": 0,
  "metadata": {
    "colab": {
      "name": "Untitled20.ipynb",
      "provenance": [],
      "include_colab_link": true
    },
    "kernelspec": {
      "name": "python3",
      "display_name": "Python 3"
    }
  },
  "cells": [
    {
      "cell_type": "markdown",
      "metadata": {
        "id": "view-in-github",
        "colab_type": "text"
      },
      "source": [
        "<a href=\"https://colab.research.google.com/github/sumithdcosta/Python/blob/master/3.%20Functions/5.%20GlobalLocalNonlocal.ipynb\" target=\"_parent\"><img src=\"https://colab.research.google.com/assets/colab-badge.svg\" alt=\"Open In Colab\"/></a>"
      ]
    },
    {
      "cell_type": "markdown",
      "metadata": {
        "id": "y11MXdOGSEuw",
        "colab_type": "text"
      },
      "source": [
        "3. Functions/5. GlobalLocalNonlocal.ipynb"
      ]
    },
    {
      "cell_type": "markdown",
      "metadata": {
        "id": "xv08HTY0Tq53",
        "colab_type": "text"
      },
      "source": [
        "**Global Variables**\n",
        "\n",
        "In Python, a variable declared outside of the function or in global scope is known as global variable. This means, global variable can be accessed inside or outside of the function.\n",
        "\n",
        "Let's see an example on how a global variable is created in Python.\n",
        "\n",
        "**Example 1: Create a Global Variable**"
      ]
    },
    {
      "cell_type": "code",
      "metadata": {
        "id": "6IfJdfOvSEBL",
        "colab_type": "code",
        "colab": {
          "base_uri": "https://localhost:8080/",
          "height": 52
        },
        "outputId": "c1dfaf60-11e9-4545-a30c-3a92c9d12b60"
      },
      "source": [
        "x = \"global\"\n",
        "\n",
        "def foo():\n",
        "    print(\"x inside :\", x)\n",
        "\n",
        "foo()\n",
        "print(\"x outside:\", x)"
      ],
      "execution_count": 1,
      "outputs": [
        {
          "output_type": "stream",
          "text": [
            "x inside : global\n",
            "x outside: global\n"
          ],
          "name": "stdout"
        }
      ]
    },
    {
      "cell_type": "markdown",
      "metadata": {
        "id": "y_aBmoUUUAXi",
        "colab_type": "text"
      },
      "source": [
        "In above code, we created x as a global variable and defined a foo() to print the global variable x. Finally, we call the foo() which will print the value of x.\n",
        "\n",
        "What if you want to change value of x inside a function?"
      ]
    },
    {
      "cell_type": "code",
      "metadata": {
        "id": "dnDrPFjmT957",
        "colab_type": "code",
        "colab": {
          "base_uri": "https://localhost:8080/",
          "height": 327
        },
        "outputId": "3dab4174-ea00-47d3-bff7-a4174febe01b"
      },
      "source": [
        "x = \"global\"\n",
        "\n",
        "def foo():\n",
        "    x = x * 2\n",
        "    print(x)\n",
        "foo()\n",
        "#When we run the code, the will output be:\n"
      ],
      "execution_count": 2,
      "outputs": [
        {
          "output_type": "error",
          "ename": "UnboundLocalError",
          "evalue": "ignored",
          "traceback": [
            "\u001b[0;31m---------------------------------------------------------------------------\u001b[0m",
            "\u001b[0;31mUnboundLocalError\u001b[0m                         Traceback (most recent call last)",
            "\u001b[0;32m<ipython-input-2-c2736b3017fc>\u001b[0m in \u001b[0;36m<module>\u001b[0;34m()\u001b[0m\n\u001b[1;32m      4\u001b[0m     \u001b[0mx\u001b[0m \u001b[0;34m=\u001b[0m \u001b[0mx\u001b[0m \u001b[0;34m*\u001b[0m \u001b[0;36m2\u001b[0m\u001b[0;34m\u001b[0m\u001b[0;34m\u001b[0m\u001b[0m\n\u001b[1;32m      5\u001b[0m     \u001b[0mprint\u001b[0m\u001b[0;34m(\u001b[0m\u001b[0mx\u001b[0m\u001b[0;34m)\u001b[0m\u001b[0;34m\u001b[0m\u001b[0;34m\u001b[0m\u001b[0m\n\u001b[0;32m----> 6\u001b[0;31m \u001b[0mfoo\u001b[0m\u001b[0;34m(\u001b[0m\u001b[0;34m)\u001b[0m\u001b[0;34m\u001b[0m\u001b[0;34m\u001b[0m\u001b[0m\n\u001b[0m",
            "\u001b[0;32m<ipython-input-2-c2736b3017fc>\u001b[0m in \u001b[0;36mfoo\u001b[0;34m()\u001b[0m\n\u001b[1;32m      2\u001b[0m \u001b[0;34m\u001b[0m\u001b[0m\n\u001b[1;32m      3\u001b[0m \u001b[0;32mdef\u001b[0m \u001b[0mfoo\u001b[0m\u001b[0;34m(\u001b[0m\u001b[0;34m)\u001b[0m\u001b[0;34m:\u001b[0m\u001b[0;34m\u001b[0m\u001b[0;34m\u001b[0m\u001b[0m\n\u001b[0;32m----> 4\u001b[0;31m     \u001b[0mx\u001b[0m \u001b[0;34m=\u001b[0m \u001b[0mx\u001b[0m \u001b[0;34m*\u001b[0m \u001b[0;36m2\u001b[0m\u001b[0;34m\u001b[0m\u001b[0;34m\u001b[0m\u001b[0m\n\u001b[0m\u001b[1;32m      5\u001b[0m     \u001b[0mprint\u001b[0m\u001b[0;34m(\u001b[0m\u001b[0mx\u001b[0m\u001b[0;34m)\u001b[0m\u001b[0;34m\u001b[0m\u001b[0;34m\u001b[0m\u001b[0m\n\u001b[1;32m      6\u001b[0m \u001b[0mfoo\u001b[0m\u001b[0;34m(\u001b[0m\u001b[0;34m)\u001b[0m\u001b[0;34m\u001b[0m\u001b[0;34m\u001b[0m\u001b[0m\n",
            "\u001b[0;31mUnboundLocalError\u001b[0m: local variable 'x' referenced before assignment"
          ]
        }
      ]
    },
    {
      "cell_type": "markdown",
      "metadata": {
        "id": "roQHSTofUN2b",
        "colab_type": "text"
      },
      "source": [
        "The output shows an error because Python treats x as a local variable and x is also not defined inside foo().\n",
        "\n",
        "To make this work we use global keyword, "
      ]
    },
    {
      "cell_type": "code",
      "metadata": {
        "id": "z2W2jmTIUGpn",
        "colab_type": "code",
        "colab": {
          "base_uri": "https://localhost:8080/",
          "height": 34
        },
        "outputId": "cbaab2cd-4d04-435d-8746-541ef26d99d5"
      },
      "source": [
        "x = \"global\"\n",
        "\n",
        "def foo():\n",
        "    global x\n",
        "    x = x * 2\n",
        "    print(x)\n",
        "foo()\n"
      ],
      "execution_count": 5,
      "outputs": [
        {
          "output_type": "stream",
          "text": [
            "globalglobal\n"
          ],
          "name": "stdout"
        }
      ]
    },
    {
      "cell_type": "markdown",
      "metadata": {
        "id": "KWS6MYRIUqyM",
        "colab_type": "text"
      },
      "source": [
        "**Local Variables**\n",
        "\n",
        "A variable declared inside the function's body or in the local scope is known as local variable.\n",
        "\n",
        "**Example 2: Accessing local variable outside the scope**"
      ]
    },
    {
      "cell_type": "code",
      "metadata": {
        "id": "ssqvCVssUXLh",
        "colab_type": "code",
        "colab": {
          "base_uri": "https://localhost:8080/",
          "height": 203
        },
        "outputId": "724c906b-98ec-459e-96fb-ad595cb4c5ee"
      },
      "source": [
        "def foo():\n",
        "    y = \"local\"\n",
        "\n",
        "foo()\n",
        "print(y)"
      ],
      "execution_count": 6,
      "outputs": [
        {
          "output_type": "error",
          "ename": "NameError",
          "evalue": "ignored",
          "traceback": [
            "\u001b[0;31m---------------------------------------------------------------------------\u001b[0m",
            "\u001b[0;31mNameError\u001b[0m                                 Traceback (most recent call last)",
            "\u001b[0;32m<ipython-input-6-92f817b0ade3>\u001b[0m in \u001b[0;36m<module>\u001b[0;34m()\u001b[0m\n\u001b[1;32m      3\u001b[0m \u001b[0;34m\u001b[0m\u001b[0m\n\u001b[1;32m      4\u001b[0m \u001b[0mfoo\u001b[0m\u001b[0;34m(\u001b[0m\u001b[0;34m)\u001b[0m\u001b[0;34m\u001b[0m\u001b[0;34m\u001b[0m\u001b[0m\n\u001b[0;32m----> 5\u001b[0;31m \u001b[0mprint\u001b[0m\u001b[0;34m(\u001b[0m\u001b[0my\u001b[0m\u001b[0;34m)\u001b[0m\u001b[0;34m\u001b[0m\u001b[0;34m\u001b[0m\u001b[0m\n\u001b[0m",
            "\u001b[0;31mNameError\u001b[0m: name 'y' is not defined"
          ]
        }
      ]
    },
    {
      "cell_type": "markdown",
      "metadata": {
        "id": "nsnFYaGeU2mC",
        "colab_type": "text"
      },
      "source": [
        "The output shows an error, because we are trying to access a local variable y in a global scope whereas the local variable only works inside foo() or local scope.\n",
        "\n",
        "Let's see an example on how a local variable is created in Python.\n",
        "\n",
        "**Example 3: Create a Local Variable**\n",
        "\n",
        "Normally, we declare a variable inside the function to create a local variable.\n"
      ]
    },
    {
      "cell_type": "code",
      "metadata": {
        "id": "dJ-QM6HNUw2A",
        "colab_type": "code",
        "colab": {
          "base_uri": "https://localhost:8080/",
          "height": 34
        },
        "outputId": "bd2d71e0-5597-4f35-9274-1f51c4ba8c4f"
      },
      "source": [
        "def foo():\n",
        "    y = \"local\"\n",
        "    print(y)\n",
        "\n",
        "foo()"
      ],
      "execution_count": 9,
      "outputs": [
        {
          "output_type": "stream",
          "text": [
            "local\n"
          ],
          "name": "stdout"
        }
      ]
    },
    {
      "cell_type": "markdown",
      "metadata": {
        "id": "geT0jQ0cVKSx",
        "colab_type": "text"
      },
      "source": [
        "Let's take a look to the earlier problem where x was a global variable and we wanted to modify x inside foo().\n",
        "\n",
        "**Example 4: Using Global and Local variables in same code**"
      ]
    },
    {
      "cell_type": "code",
      "metadata": {
        "id": "9iLCc2Z0VCr4",
        "colab_type": "code",
        "colab": {
          "base_uri": "https://localhost:8080/",
          "height": 52
        },
        "outputId": "d67cd7bc-c557-40de-f8f8-412aefda3657"
      },
      "source": [
        "x = \"global\"\n",
        "\n",
        "\n",
        "def foo():\n",
        "    global x\n",
        "    y = \"local\"\n",
        "    x = x * 2\n",
        "    print(x)\n",
        "    print(y)\n",
        "\n",
        "\n",
        "foo()"
      ],
      "execution_count": 10,
      "outputs": [
        {
          "output_type": "stream",
          "text": [
            "globalglobal\n",
            "local\n"
          ],
          "name": "stdout"
        }
      ]
    },
    {
      "cell_type": "markdown",
      "metadata": {
        "id": "AZ2PzhnsVSdi",
        "colab_type": "text"
      },
      "source": [
        "In the above code, we declare **x** as a global and **y** as a local variable in the **foo**(). Then, we use multiplication operator * to modify the global variable **x** and we print both **x** and **y**.\n",
        "\n",
        "After calling the **foo**(), the value of **x** becomes **globalglobal** because we used the **x * 2**  to print two times global. After that, we print the value of local variable **y** i.e **local**.\n",
        "\n",
        "**Example 5: Global variable and Local variable with same name**"
      ]
    },
    {
      "cell_type": "code",
      "metadata": {
        "id": "9aOqzV_YVP_L",
        "colab_type": "code",
        "colab": {
          "base_uri": "https://localhost:8080/",
          "height": 52
        },
        "outputId": "dd12b5c7-5068-4a90-f47b-69df34c5a2b1"
      },
      "source": [
        "x = 5\n",
        "\n",
        "def foo():\n",
        "    x = 10\n",
        "    print(\"local x:\", x)\n",
        "\n",
        "foo()\n",
        "print(\"global x:\", x)"
      ],
      "execution_count": 11,
      "outputs": [
        {
          "output_type": "stream",
          "text": [
            "local x: 10\n",
            "global x: 5\n"
          ],
          "name": "stdout"
        }
      ]
    },
    {
      "cell_type": "markdown",
      "metadata": {
        "id": "0UoeKI1hV1jw",
        "colab_type": "text"
      },
      "source": [
        "In above code, we used same name **x** for both global variable and local variable. We get different result when we print same variable because the variable is declared in both scopes, i.e. the local scope inside **foo**() and global scope outside **foo**().\n",
        "\n",
        "When we print the variable inside the **foo**() it outputs **local x: 10**, this is called local scope of variable.\n",
        "\n",
        "Similarly, when we print the variable outside the **foo**(), it outputs **global x: 5**, this is called global scope of variable."
      ]
    },
    {
      "cell_type": "markdown",
      "metadata": {
        "id": "ubj-IB8HWHeG",
        "colab_type": "text"
      },
      "source": [
        "**Nonlocal Variables**\n",
        "\n",
        "Nonlocal variable are used in nested function whose local scope is not defined. This means, the variable can be neither in the local nor the global scope.\n",
        "\n",
        "Let's see an example on how a global variable is created in Python.\n",
        "\n",
        "We use **nonlocal** keyword to create nonlocal variable.\n",
        "\n",
        "**Example 6: Create a nonlocal variable**"
      ]
    },
    {
      "cell_type": "code",
      "metadata": {
        "id": "Z6k6cgC7Vtk0",
        "colab_type": "code",
        "colab": {
          "base_uri": "https://localhost:8080/",
          "height": 52
        },
        "outputId": "e12424e4-29f0-4946-ca94-f775067c183e"
      },
      "source": [
        "def outer():\n",
        "    x = \"local\"\n",
        "\n",
        "    def inner():\n",
        "        nonlocal x\n",
        "        x = \"nonlocal\"\n",
        "        print(\"inner:\", x)\n",
        "\n",
        "    inner()\n",
        "    print(\"outer:\", x)\n",
        "    \n",
        "outer()"
      ],
      "execution_count": 13,
      "outputs": [
        {
          "output_type": "stream",
          "text": [
            "inner: nonlocal\n",
            "outer: nonlocal\n"
          ],
          "name": "stdout"
        }
      ]
    },
    {
      "cell_type": "markdown",
      "metadata": {
        "id": "80tv1EEhWWlB",
        "colab_type": "text"
      },
      "source": [
        "In the above code there is a nested function **inner**(). We use **nonlocal** keyword to create nonlocal variable. The **inner**() function is defined in the scope of another function **outer**().\n",
        "\n",
        "Note : If we change value of nonlocal variable, the changes appears in the local variable."
      ]
    },
    {
      "cell_type": "code",
      "metadata": {
        "id": "xYlsqmBpWQwE",
        "colab_type": "code",
        "colab": {}
      },
      "source": [
        ""
      ],
      "execution_count": 0,
      "outputs": []
    }
  ]
}