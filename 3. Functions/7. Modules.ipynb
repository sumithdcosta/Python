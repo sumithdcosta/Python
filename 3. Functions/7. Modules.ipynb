{
  "nbformat": 4,
  "nbformat_minor": 0,
  "metadata": {
    "colab": {
      "name": "Untitled22.ipynb",
      "provenance": [],
      "include_colab_link": true
    },
    "kernelspec": {
      "name": "python3",
      "display_name": "Python 3"
    }
  },
  "cells": [
    {
      "cell_type": "markdown",
      "metadata": {
        "id": "view-in-github",
        "colab_type": "text"
      },
      "source": [
        "<a href=\"https://colab.research.google.com/github/sumithdcosta/Python/blob/master/3.%20Functions/7.%20Modules.ipynb\" target=\"_parent\"><img src=\"https://colab.research.google.com/assets/colab-badge.svg\" alt=\"Open In Colab\"/></a>"
      ]
    },
    {
      "cell_type": "markdown",
      "metadata": {
        "id": "AiqbIDaBayT8",
        "colab_type": "text"
      },
      "source": [
        "3. Functions/7. Modules.ipynb"
      ]
    },
    {
      "cell_type": "markdown",
      "metadata": {
        "id": "9ESt77Bsa7Hd",
        "colab_type": "text"
      },
      "source": [
        "**Modules**\n",
        "\n",
        "**What are modules in Python?**\n",
        "\n",
        "Modules refer to a file containing Python statements and definitions.\n",
        "\n",
        "A file containing Python code, for e.g.: **example**.py, is called a **module** and its module name would be **example**.\n",
        "\n",
        "We use modules to break down large programs into small manageable and organized files. Furthermore, modules provide reusability of code.\n",
        "\n",
        "We can define our most used functions in a module and import it, instead of copying their definitions into different programs.\n",
        "\n",
        "Let us create a module. Type the following and save it as **example.py**."
      ]
    },
    {
      "cell_type": "code",
      "metadata": {
        "id": "C-NHsT7vaxvy",
        "colab_type": "code",
        "colab": {
          "base_uri": "https://localhost:8080/",
          "height": 34
        },
        "outputId": "7745d564-901e-4790-85e2-c3016514df54"
      },
      "source": [
        "writefile = \"\"\"\n",
        "# Python Module example\n",
        "\n",
        "def add(a, b):\n",
        "   '''This program adds two\n",
        "   numbers and return the result'''\n",
        "\n",
        "   result = a + b\n",
        "   return result\n",
        "\"\"\"\n",
        "%store writefile >  \"/content/example.py\""
      ],
      "execution_count": 8,
      "outputs": [
        {
          "output_type": "stream",
          "text": [
            "Writing 'writefile' (str) to file '/content/example.py'.\n"
          ],
          "name": "stdout"
        }
      ]
    },
    {
      "cell_type": "markdown",
      "metadata": {
        "id": "TJGfJ0bSbsdr",
        "colab_type": "text"
      },
      "source": [
        "Here, we have defined a function **add**() inside a module named **example**. The function takes in two numbers and returns their sum.\n",
        "\n",
        "**How to import modules in Python?**\n",
        "\n",
        "We can import the definitions inside a module to another module or the interactive interpreter in Python.\n",
        "\n",
        "We use the **import** keyword to do this. To import our previously defined module example we type the following in the Python prompt."
      ]
    },
    {
      "cell_type": "code",
      "metadata": {
        "id": "dcMYPqwjbN6v",
        "colab_type": "code",
        "colab": {}
      },
      "source": [
        "import example"
      ],
      "execution_count": 0,
      "outputs": []
    },
    {
      "cell_type": "markdown",
      "metadata": {
        "id": "5lFiM1SccI4T",
        "colab_type": "text"
      },
      "source": [
        "This does not enter the names of the functions defined in **example** directly in the current symbol table. It only enters the module name **example** there.\n",
        "\n",
        "Using the module name we can access the function using dot (.) operation. For example:"
      ]
    },
    {
      "cell_type": "code",
      "metadata": {
        "id": "AbSDy3BLb8yX",
        "colab_type": "code",
        "colab": {
          "base_uri": "https://localhost:8080/",
          "height": 34
        },
        "outputId": "c4f7fb56-a7e1-4538-8c4a-ff491cf125bc"
      },
      "source": [
        "example.add(4,5.5)"
      ],
      "execution_count": 10,
      "outputs": [
        {
          "output_type": "execute_result",
          "data": {
            "text/plain": [
              "9.5"
            ]
          },
          "metadata": {
            "tags": []
          },
          "execution_count": 10
        }
      ]
    },
    {
      "cell_type": "markdown",
      "metadata": {
        "id": "1RFdPMfjcR2N",
        "colab_type": "text"
      },
      "source": [
        "Python has a ton of standard modules available.\n",
        "\n",
        "You can check out the full list of Python standard modules and what they are for. These files are in the Lib directory inside the location where you installed Python.\n",
        "\n",
        "Standard modules can be imported the same way as we import our user-defined modules.\n",
        "\n",
        "There are various ways to import modules. They are listed as follows."
      ]
    },
    {
      "cell_type": "markdown",
      "metadata": {
        "id": "pn-5qgW4cbBN",
        "colab_type": "text"
      },
      "source": [
        "**Python import statement**\n",
        "\n",
        "We can import a module using import statement and access the definitions inside it using the dot operator as described above. Here is an example.\n"
      ]
    },
    {
      "cell_type": "code",
      "metadata": {
        "id": "dLEJinChcQK4",
        "colab_type": "code",
        "colab": {
          "base_uri": "https://localhost:8080/",
          "height": 34
        },
        "outputId": "3681cc8e-b403-4c2b-b3c0-e1309e26d294"
      },
      "source": [
        "# import statement example\n",
        "# to import standard module math\n",
        "\n",
        "import math\n",
        "print(\"The value of pi is\", math.pi)\n",
        "\n",
        "#When you run the program, the output will be:"
      ],
      "execution_count": 11,
      "outputs": [
        {
          "output_type": "stream",
          "text": [
            "The value of pi is 3.141592653589793\n"
          ],
          "name": "stdout"
        }
      ]
    },
    {
      "cell_type": "markdown",
      "metadata": {
        "id": "E79LjlTBciGX",
        "colab_type": "text"
      },
      "source": [
        "**Import with renaming**\n",
        "\n",
        "We can import a module by renaming it as follows."
      ]
    },
    {
      "cell_type": "code",
      "metadata": {
        "id": "LZBnN1brcgoY",
        "colab_type": "code",
        "colab": {
          "base_uri": "https://localhost:8080/",
          "height": 34
        },
        "outputId": "0f0d0d76-875e-4431-ce46-45e4dcf91ce6"
      },
      "source": [
        "# import module by renaming it\n",
        "\n",
        "import math as m\n",
        "print(\"The value of pi is\", m.pi)\n"
      ],
      "execution_count": 12,
      "outputs": [
        {
          "output_type": "stream",
          "text": [
            "The value of pi is 3.141592653589793\n"
          ],
          "name": "stdout"
        }
      ]
    },
    {
      "cell_type": "markdown",
      "metadata": {
        "id": "zGMaQ4CCctpX",
        "colab_type": "text"
      },
      "source": [
        "We have renamed the math module as m. This can save us typing time in some cases.\n",
        "\n",
        "Note that the name math is not recognized in our scope. Hence, math.pi is invalid, m.pi is the correct implementation."
      ]
    },
    {
      "cell_type": "markdown",
      "metadata": {
        "id": "Ydbl_QTmczim",
        "colab_type": "text"
      },
      "source": [
        "**Python from...import statement**\n",
        "\n",
        "We can import specific names from a module without importing the module as a whole. Here is an example.\n"
      ]
    },
    {
      "cell_type": "code",
      "metadata": {
        "id": "4J0aUHQWcp6Y",
        "colab_type": "code",
        "colab": {
          "base_uri": "https://localhost:8080/",
          "height": 34
        },
        "outputId": "96baa46e-34e4-4b21-94c3-ccacf8d35684"
      },
      "source": [
        "# import only pi from math module\n",
        "\n",
        "from math import pi\n",
        "print(\"The value of pi is\", pi)"
      ],
      "execution_count": 13,
      "outputs": [
        {
          "output_type": "stream",
          "text": [
            "The value of pi is 3.141592653589793\n"
          ],
          "name": "stdout"
        }
      ]
    },
    {
      "cell_type": "markdown",
      "metadata": {
        "id": "eJV2fp1Zc5s_",
        "colab_type": "text"
      },
      "source": [
        "We imported only the attribute pi from the module.\n",
        "\n",
        "In such case we don't use the dot operator. We could have imported multiple attributes as follows.\n"
      ]
    },
    {
      "cell_type": "code",
      "metadata": {
        "id": "NeXUEofDc3Qx",
        "colab_type": "code",
        "colab": {
          "base_uri": "https://localhost:8080/",
          "height": 34
        },
        "outputId": "c8864cdf-4dc4-4775-9bf0-61d07427115d"
      },
      "source": [
        "from math import pi, e\n",
        "pi"
      ],
      "execution_count": 14,
      "outputs": [
        {
          "output_type": "execute_result",
          "data": {
            "text/plain": [
              "3.141592653589793"
            ]
          },
          "metadata": {
            "tags": []
          },
          "execution_count": 14
        }
      ]
    },
    {
      "cell_type": "code",
      "metadata": {
        "id": "8y8ZZ4Twc-KB",
        "colab_type": "code",
        "colab": {
          "base_uri": "https://localhost:8080/",
          "height": 34
        },
        "outputId": "33967494-51fa-4f9d-e194-9419a3ce81ec"
      },
      "source": [
        "e"
      ],
      "execution_count": 16,
      "outputs": [
        {
          "output_type": "execute_result",
          "data": {
            "text/plain": [
              "2.718281828459045"
            ]
          },
          "metadata": {
            "tags": []
          },
          "execution_count": 16
        }
      ]
    },
    {
      "cell_type": "markdown",
      "metadata": {
        "id": "sVBXpzEadC3e",
        "colab_type": "text"
      },
      "source": [
        "**Import all names**\n",
        "\n",
        "We can import all names(definitions) from a module using the following construct"
      ]
    },
    {
      "cell_type": "code",
      "metadata": {
        "id": "gBZxoWXPc_BZ",
        "colab_type": "code",
        "colab": {
          "base_uri": "https://localhost:8080/",
          "height": 34
        },
        "outputId": "c5bcab34-ae5d-4789-a221-e926a34553e7"
      },
      "source": [
        "# import all names from the standard module math\n",
        "\n",
        "from math import *\n",
        "print(\"The value of pi is\", pi)"
      ],
      "execution_count": 17,
      "outputs": [
        {
          "output_type": "stream",
          "text": [
            "The value of pi is 3.141592653589793\n"
          ],
          "name": "stdout"
        }
      ]
    },
    {
      "cell_type": "markdown",
      "metadata": {
        "id": "IC1Hf0bIdI2r",
        "colab_type": "text"
      },
      "source": [
        "We imported all the definitions from the math module. This makes all names except those beginnig with an underscore, visible in our scope.\n",
        "\n",
        "Importing everything with the asterisk (*) symbol is not a good programming practice. This can lead to duplicate definitions for an identifier. It also hampers the readability of our code."
      ]
    },
    {
      "cell_type": "markdown",
      "metadata": {
        "id": "QRNDlk-odS4l",
        "colab_type": "text"
      },
      "source": [
        "Python Module Search Path\n",
        "\n",
        "While importing a module, Python looks at several places. Interpreter first looks for a built-in module then (if not found) into a list of directories defined in sys.path. The search is in this order.\n",
        "\n",
        "The current directory.\n",
        "PYTHONPATH (an environment variable with a list of directory).\n",
        "The installation-dependent default directory."
      ]
    },
    {
      "cell_type": "markdown",
      "metadata": {
        "id": "yj53H07-dUyy",
        "colab_type": "text"
      },
      "source": [
        "**Python Module Search Path**\n",
        "\n",
        "While importing a module, Python looks at several places. Interpreter first looks for a built-in module then (if not found) into a list of directories defined in sys.path. The search is in this order.\n",
        "\n",
        "* The current directory.\n",
        "* PYTHONPATH (an environment variable with a list of directory).\n",
        "* The installation-dependent default directory."
      ]
    },
    {
      "cell_type": "code",
      "metadata": {
        "id": "3qC9xFH6dGcJ",
        "colab_type": "code",
        "colab": {
          "base_uri": "https://localhost:8080/",
          "height": 176
        },
        "outputId": "6e01b91b-dd18-43b4-862f-7eb3f8424139"
      },
      "source": [
        "import sys\n",
        "sys.path"
      ],
      "execution_count": 18,
      "outputs": [
        {
          "output_type": "execute_result",
          "data": {
            "text/plain": [
              "['',\n",
              " '/env/python',\n",
              " '/usr/lib/python36.zip',\n",
              " '/usr/lib/python3.6',\n",
              " '/usr/lib/python3.6/lib-dynload',\n",
              " '/usr/local/lib/python3.6/dist-packages',\n",
              " '/usr/lib/python3/dist-packages',\n",
              " '/usr/local/lib/python3.6/dist-packages/IPython/extensions',\n",
              " '/root/.ipython']"
            ]
          },
          "metadata": {
            "tags": []
          },
          "execution_count": 18
        }
      ]
    },
    {
      "cell_type": "markdown",
      "metadata": {
        "id": "8YMseTuadmjU",
        "colab_type": "text"
      },
      "source": [
        "**Reloading a module**\n",
        "\n",
        "The Python interpreter imports a module only once during a session. This makes things more efficient. Here is an example to show how this works.\n",
        "\n",
        "Suppose we have the following code in a module named **my_module**."
      ]
    },
    {
      "cell_type": "code",
      "metadata": {
        "id": "TrzM4-uOdcyr",
        "colab_type": "code",
        "colab": {
          "base_uri": "https://localhost:8080/",
          "height": 34
        },
        "outputId": "aec26ac8-4b96-4702-b23b-e5cd4ec6dc95"
      },
      "source": [
        "writefile = \"\"\"\n",
        "# This module shows the effect of\n",
        "#  multiple imports and reload\n",
        "\n",
        "print(\"This code got executed\")\n",
        "\"\"\"\n",
        "%store writefile >  \"/content/my_module.py\""
      ],
      "execution_count": 21,
      "outputs": [
        {
          "output_type": "stream",
          "text": [
            "Writing 'writefile' (str) to file '/content/my_module.py'.\n"
          ],
          "name": "stdout"
        }
      ]
    },
    {
      "cell_type": "markdown",
      "metadata": {
        "id": "cBMlTzrxdvQW",
        "colab_type": "text"
      },
      "source": [
        "Now we see the effect of multiple imports."
      ]
    },
    {
      "cell_type": "code",
      "metadata": {
        "id": "6e-t0zsfdtTj",
        "colab_type": "code",
        "colab": {
          "base_uri": "https://localhost:8080/",
          "height": 34
        },
        "outputId": "d9bae0bf-f897-47cf-c09f-e1e62dd2ff1f"
      },
      "source": [
        "import my_module\n",
        "import my_module\n",
        "import my_module"
      ],
      "execution_count": 22,
      "outputs": [
        {
          "output_type": "stream",
          "text": [
            "This code got executed\n"
          ],
          "name": "stdout"
        }
      ]
    },
    {
      "cell_type": "markdown",
      "metadata": {
        "id": "4e9c1CaId-yW",
        "colab_type": "text"
      },
      "source": [
        "We can see that our code got executed only once. This goes to say that our module was imported only once.\n",
        "\n",
        "Now if our module changed during the course of the program, we would have to reload it.One way to do this is to restart the interpreter. But this does not help much.\n",
        "\n",
        "Python provides a neat way of doing this. We can use the reload() function inside the imp module to reload a module. This is how its done."
      ]
    },
    {
      "cell_type": "code",
      "metadata": {
        "id": "u96IMx1AdyDj",
        "colab_type": "code",
        "colab": {
          "base_uri": "https://localhost:8080/",
          "height": 52
        },
        "outputId": "dda2e7b6-6433-485d-cfa2-9b65905eb2f9"
      },
      "source": [
        "import imp\n",
        "import my_module\n",
        "import my_module\n",
        "imp.reload(my_module)"
      ],
      "execution_count": 24,
      "outputs": [
        {
          "output_type": "stream",
          "text": [
            "This code got executed\n"
          ],
          "name": "stdout"
        },
        {
          "output_type": "execute_result",
          "data": {
            "text/plain": [
              "<module 'my_module' from '/content/my_module.py'>"
            ]
          },
          "metadata": {
            "tags": []
          },
          "execution_count": 24
        }
      ]
    },
    {
      "cell_type": "markdown",
      "metadata": {
        "id": "h6rk3cMEeiE0",
        "colab_type": "text"
      },
      "source": [
        "**The dir() built-in function**\n",
        "\n",
        "We can use the dir() function to find out names that are defined inside a module.\n",
        "\n",
        "For example, we have defined a function **add**() in the module **example** that we had in the beginning."
      ]
    },
    {
      "cell_type": "code",
      "metadata": {
        "id": "m_9s8LTPeN3U",
        "colab_type": "code",
        "colab": {
          "base_uri": "https://localhost:8080/",
          "height": 176
        },
        "outputId": "a5a24d8b-80c7-47d0-d7b7-02c6ba6278e3"
      },
      "source": [
        "dir(example)"
      ],
      "execution_count": 25,
      "outputs": [
        {
          "output_type": "execute_result",
          "data": {
            "text/plain": [
              "['__builtins__',\n",
              " '__cached__',\n",
              " '__doc__',\n",
              " '__file__',\n",
              " '__loader__',\n",
              " '__name__',\n",
              " '__package__',\n",
              " '__spec__',\n",
              " 'add']"
            ]
          },
          "metadata": {
            "tags": []
          },
          "execution_count": 25
        }
      ]
    },
    {
      "cell_type": "markdown",
      "metadata": {
        "id": "wWXrHbOPfQwt",
        "colab_type": "text"
      },
      "source": [
        "Here, we can see a sorted list of names (along with add). All other names that begin with an underscore are default Python attributes associated with the module (we did not define them ourself).\n",
        "\n",
        "For example, the __name__ attribute contains the name of the module."
      ]
    },
    {
      "cell_type": "code",
      "metadata": {
        "id": "PXbPjYx9eoMF",
        "colab_type": "code",
        "colab": {
          "base_uri": "https://localhost:8080/",
          "height": 34
        },
        "outputId": "5f32ccf6-c5f1-489c-867e-1bb06dde3956"
      },
      "source": [
        "import example\n",
        "example.__name__"
      ],
      "execution_count": 27,
      "outputs": [
        {
          "output_type": "execute_result",
          "data": {
            "text/plain": [
              "'example'"
            ]
          },
          "metadata": {
            "tags": []
          },
          "execution_count": 27
        }
      ]
    },
    {
      "cell_type": "markdown",
      "metadata": {
        "id": "wsYNCqn7fYsz",
        "colab_type": "text"
      },
      "source": [
        "All the names defined in our current namespace can be found out using the dir() function without any arguments."
      ]
    },
    {
      "cell_type": "code",
      "metadata": {
        "id": "j3LJAxLWfV-X",
        "colab_type": "code",
        "colab": {
          "base_uri": "https://localhost:8080/",
          "height": 1000
        },
        "outputId": "bcf07b7a-3fd2-4bb1-f98c-4b2aecfa071f"
      },
      "source": [
        "a = 1\n",
        "b = \"hello\"\n",
        "import math\n",
        "dir()"
      ],
      "execution_count": 28,
      "outputs": [
        {
          "output_type": "execute_result",
          "data": {
            "text/plain": [
              "['In',\n",
              " 'Out',\n",
              " '_',\n",
              " '_10',\n",
              " '_14',\n",
              " '_15',\n",
              " '_16',\n",
              " '_18',\n",
              " '_24',\n",
              " '_25',\n",
              " '_27',\n",
              " '__',\n",
              " '___',\n",
              " '__builtin__',\n",
              " '__builtins__',\n",
              " '__doc__',\n",
              " '__loader__',\n",
              " '__name__',\n",
              " '__package__',\n",
              " '__spec__',\n",
              " '_dh',\n",
              " '_i',\n",
              " '_i1',\n",
              " '_i10',\n",
              " '_i11',\n",
              " '_i12',\n",
              " '_i13',\n",
              " '_i14',\n",
              " '_i15',\n",
              " '_i16',\n",
              " '_i17',\n",
              " '_i18',\n",
              " '_i19',\n",
              " '_i2',\n",
              " '_i20',\n",
              " '_i21',\n",
              " '_i22',\n",
              " '_i23',\n",
              " '_i24',\n",
              " '_i25',\n",
              " '_i26',\n",
              " '_i27',\n",
              " '_i28',\n",
              " '_i3',\n",
              " '_i4',\n",
              " '_i5',\n",
              " '_i6',\n",
              " '_i7',\n",
              " '_i8',\n",
              " '_i9',\n",
              " '_ih',\n",
              " '_ii',\n",
              " '_iii',\n",
              " '_oh',\n",
              " '_sh',\n",
              " 'a',\n",
              " 'acos',\n",
              " 'acosh',\n",
              " 'add',\n",
              " 'asin',\n",
              " 'asinh',\n",
              " 'atan',\n",
              " 'atan2',\n",
              " 'atanh',\n",
              " 'b',\n",
              " 'ceil',\n",
              " 'copysign',\n",
              " 'cos',\n",
              " 'cosh',\n",
              " 'degrees',\n",
              " 'e',\n",
              " 'erf',\n",
              " 'erfc',\n",
              " 'example',\n",
              " 'exit',\n",
              " 'exp',\n",
              " 'expm1',\n",
              " 'fabs',\n",
              " 'factorial',\n",
              " 'floor',\n",
              " 'fmod',\n",
              " 'frexp',\n",
              " 'fsum',\n",
              " 'gamma',\n",
              " 'gcd',\n",
              " 'get_ipython',\n",
              " 'hypot',\n",
              " 'imp',\n",
              " 'inf',\n",
              " 'isclose',\n",
              " 'isfinite',\n",
              " 'isinf',\n",
              " 'isnan',\n",
              " 'ldexp',\n",
              " 'lgamma',\n",
              " 'log',\n",
              " 'log10',\n",
              " 'log1p',\n",
              " 'log2',\n",
              " 'm',\n",
              " 'math',\n",
              " 'modf',\n",
              " 'my_module',\n",
              " 'nan',\n",
              " 'pi',\n",
              " 'pow',\n",
              " 'quit',\n",
              " 'radians',\n",
              " 'sin',\n",
              " 'sinh',\n",
              " 'sqrt',\n",
              " 'sys',\n",
              " 'tan',\n",
              " 'tanh',\n",
              " 'tau',\n",
              " 'trunc',\n",
              " 'writefile']"
            ]
          },
          "metadata": {
            "tags": []
          },
          "execution_count": 28
        }
      ]
    },
    {
      "cell_type": "code",
      "metadata": {
        "id": "Ip0LW4MKfgGn",
        "colab_type": "code",
        "colab": {}
      },
      "source": [
        ""
      ],
      "execution_count": 0,
      "outputs": []
    }
  ]
}