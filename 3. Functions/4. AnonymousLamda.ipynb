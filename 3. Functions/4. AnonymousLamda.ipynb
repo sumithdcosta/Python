{
  "nbformat": 4,
  "nbformat_minor": 0,
  "metadata": {
    "colab": {
      "name": "Untitled19.ipynb",
      "provenance": [],
      "include_colab_link": true
    },
    "kernelspec": {
      "name": "python3",
      "display_name": "Python 3"
    }
  },
  "cells": [
    {
      "cell_type": "markdown",
      "metadata": {
        "id": "view-in-github",
        "colab_type": "text"
      },
      "source": [
        "<a href=\"https://colab.research.google.com/github/sumithdcosta/Python/blob/master/3.%20Functions/4.%20AnonymousLamda.ipynb\" target=\"_parent\"><img src=\"https://colab.research.google.com/assets/colab-badge.svg\" alt=\"Open In Colab\"/></a>"
      ]
    },
    {
      "cell_type": "markdown",
      "metadata": {
        "id": "JEp_G0PUS9cT",
        "colab_type": "text"
      },
      "source": [
        "3. Functions/4. AnonymousLamda.ipynb"
      ]
    },
    {
      "cell_type": "markdown",
      "metadata": {
        "id": "tgzp81ArTL0w",
        "colab_type": "text"
      },
      "source": [
        "**What are lambda functions in Python?**\n",
        "\n",
        "In Python, anonymous function is a function that is defined without a name.\n",
        "\n",
        "While normal functions are defined using the **def** keyword, in Python anonymous functions are defined using the **lambda** keyword.\n",
        "\n",
        "Hence, anonymous functions are also called **lambda** functions.\n",
        "\n",
        "**How to use lambda Functions in Python?**\n",
        "\n",
        "A lambda function in python has the following syntax.\n",
        "\n",
        "```\n",
        "lambda arguments: expression\n",
        "```\n",
        "Lambda functions can have any number of arguments but only one expression. The expression is evaluated and returned. Lambda functions can be used wherever function objects are required.\n"
      ]
    },
    {
      "cell_type": "markdown",
      "metadata": {
        "id": "u-V56l7dTvEt",
        "colab_type": "text"
      },
      "source": [
        "**Example of Lambda Function in python**\n",
        "\n",
        "Here is an example of lambda function that doubles the input value."
      ]
    },
    {
      "cell_type": "code",
      "metadata": {
        "id": "bTOmkKNSS8WT",
        "colab_type": "code",
        "colab": {
          "base_uri": "https://localhost:8080/",
          "height": 34
        },
        "outputId": "3384ac95-71ec-4463-c5fb-4fa7be5b46f2"
      },
      "source": [
        "# Program to show the use of lambda functions\n",
        "\n",
        "double = lambda x: x * 2\n",
        "\n",
        "# Output: 10\n",
        "print(double(5))"
      ],
      "execution_count": 1,
      "outputs": [
        {
          "output_type": "stream",
          "text": [
            "10\n"
          ],
          "name": "stdout"
        }
      ]
    },
    {
      "cell_type": "markdown",
      "metadata": {
        "id": "0PbUQV4JQfBw",
        "colab_type": "text"
      },
      "source": [
        "In the above program, **lambda x: x * 2** is the lambda function. Here x is the argument and x * 2 is the expression that gets evaluated and returned.\n",
        "\n",
        "This function has no name. It returns a function object which is assigned to the identifier double. We can now call it as a normal function. The statement"
      ]
    },
    {
      "cell_type": "code",
      "metadata": {
        "id": "NuMd7FEAQYBg",
        "colab_type": "code",
        "colab": {
          "base_uri": "https://localhost:8080/",
          "height": 34
        },
        "outputId": "f8634f87-97ca-4542-eff6-3628b31dba36"
      },
      "source": [
        "double = lambda x: x * 2\n",
        "\n",
        "#is nearly the same as\n",
        "\n",
        "def double(x):\n",
        "   return x * 2\n",
        "double(5)"
      ],
      "execution_count": 4,
      "outputs": [
        {
          "output_type": "execute_result",
          "data": {
            "text/plain": [
              "10"
            ]
          },
          "metadata": {
            "tags": []
          },
          "execution_count": 4
        }
      ]
    },
    {
      "cell_type": "markdown",
      "metadata": {
        "id": "v639bjKBQ6NS",
        "colab_type": "text"
      },
      "source": [
        "**Use of Lambda Function in python**\n",
        "\n",
        "We use lambda functions when we require a nameless function for a short period of time.\n",
        "\n",
        "In Python, we generally use it as an argument to a higher-order function (a function that takes in other functions as arguments). Lambda functions are used along with built-in functions like **filter**(), **map**() etc.\n"
      ]
    },
    {
      "cell_type": "markdown",
      "metadata": {
        "id": "djOtKO_qREpJ",
        "colab_type": "text"
      },
      "source": [
        "**Example use with filter()**\n",
        "\n",
        "The **filter**() function in Python takes in a function and a list as arguments.\n",
        "\n",
        "The function is called with all the items in the list and a new list is returned which contains items for which the function evaluats to **True**.\n",
        "\n",
        "Here is an example use of **filter**() function to filter out only even numbers from a list."
      ]
    },
    {
      "cell_type": "code",
      "metadata": {
        "id": "E1_GNKtRQxf4",
        "colab_type": "code",
        "colab": {
          "base_uri": "https://localhost:8080/",
          "height": 34
        },
        "outputId": "9133cf23-db1b-4736-fc93-b26d97ef058a"
      },
      "source": [
        "# Program to filter out only the even items from a list\n",
        "\n",
        "my_list = [1, 5, 4, 6, 8, 11, 3, 12]\n",
        "\n",
        "new_list = list(filter(lambda x: (x%2 == 0) , my_list))\n",
        "\n",
        "# Output: [4, 6, 8, 12]\n",
        "print(new_list)"
      ],
      "execution_count": 7,
      "outputs": [
        {
          "output_type": "stream",
          "text": [
            "[4, 6, 8, 12]\n"
          ],
          "name": "stdout"
        }
      ]
    },
    {
      "cell_type": "markdown",
      "metadata": {
        "id": "rPraJahURqMU",
        "colab_type": "text"
      },
      "source": [
        "**Example use with map()**\n",
        "\n",
        "The **map**() function in Python takes in a function and a list.\n",
        "\n",
        "The function is called with all the items in the list and a new list is returned which contains items returned by that function for each item.\n",
        "\n",
        "Here is an example use of **map**() function to double all the items in a list."
      ]
    },
    {
      "cell_type": "code",
      "metadata": {
        "id": "eLnx5jEORVHh",
        "colab_type": "code",
        "colab": {
          "base_uri": "https://localhost:8080/",
          "height": 34
        },
        "outputId": "3f9f7aa8-3e6f-48e5-f98b-1110368bac7a"
      },
      "source": [
        "# Program to double each item in a list using map()\n",
        "\n",
        "my_list = [1, 5, 4, 6, 8, 11, 3, 12]\n",
        "\n",
        "new_list = list(map(lambda x: x * 2 , my_list))\n",
        "\n",
        "# Output: [2, 10, 8, 12, 16, 22, 6, 24]\n",
        "print(new_list)"
      ],
      "execution_count": 8,
      "outputs": [
        {
          "output_type": "stream",
          "text": [
            "[2, 10, 8, 12, 16, 22, 6, 24]\n"
          ],
          "name": "stdout"
        }
      ]
    },
    {
      "cell_type": "code",
      "metadata": {
        "id": "MplkUmnLRyHN",
        "colab_type": "code",
        "colab": {}
      },
      "source": [
        ""
      ],
      "execution_count": 0,
      "outputs": []
    }
  ]
}