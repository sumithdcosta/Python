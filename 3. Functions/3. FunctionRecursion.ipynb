{
  "nbformat": 4,
  "nbformat_minor": 0,
  "metadata": {
    "colab": {
      "name": "Untitled18.ipynb",
      "provenance": [],
      "include_colab_link": true
    },
    "kernelspec": {
      "name": "python3",
      "display_name": "Python 3"
    }
  },
  "cells": [
    {
      "cell_type": "markdown",
      "metadata": {
        "id": "view-in-github",
        "colab_type": "text"
      },
      "source": [
        "<a href=\"https://colab.research.google.com/github/sumithdcosta/Python/blob/master/3.%20Functions/3.%20FunctionRecursion.ipynb\" target=\"_parent\"><img src=\"https://colab.research.google.com/assets/colab-badge.svg\" alt=\"Open In Colab\"/></a>"
      ]
    },
    {
      "cell_type": "markdown",
      "metadata": {
        "id": "RGSjTK7rmcs1",
        "colab_type": "text"
      },
      "source": [
        "3. Functions/3. FunctionRecursion.ipynb"
      ]
    },
    {
      "cell_type": "markdown",
      "metadata": {
        "id": "MHfcthuZRdjb",
        "colab_type": "text"
      },
      "source": [
        "**What is recursion in Python?**\n",
        "\n",
        "Recursion is the process of defining something in terms of itself.\n",
        "\n",
        "A physical world example would be to place two parallel mirrors facing each other. Any object in between them would be reflected recursively.\n",
        "\n",
        "**Python Recursive Function**\n",
        "\n",
        "We know that in Python, a function can call other functions. It is even possible for the function to call itself. These type of construct are termed as recursive functions.\n",
        "\n",
        "Following is an example of recursive function to find the factorial of an integer.\n",
        "\n",
        "Factorial of a number is the product of all the integers from 1 to that number. For example, the factorial of 6 (denoted as 6!) is 1*2*3*4*5*6 = 720.\n",
        "\n",
        "\n",
        "**Example of recursive function**"
      ]
    },
    {
      "cell_type": "code",
      "metadata": {
        "id": "h196At3oRdIJ",
        "colab_type": "code",
        "colab": {
          "base_uri": "https://localhost:8080/",
          "height": 34
        },
        "outputId": "817d8353-2312-4290-b2bc-7bd53962772b"
      },
      "source": [
        "# An example of a recursive function to\n",
        "# find the factorial of a number\n",
        "\n",
        "def calc_factorial(x):\n",
        "    \"\"\"This is a recursive function\n",
        "    to find the factorial of an integer\"\"\"\n",
        "\n",
        "    if x == 1:\n",
        "        return 1\n",
        "    else:\n",
        "        return (x * calc_factorial(x-1))\n",
        "\n",
        "num = 4\n",
        "print(\"The factorial of\", num, \"is\", calc_factorial(num))"
      ],
      "execution_count": 1,
      "outputs": [
        {
          "output_type": "stream",
          "text": [
            "The factorial of 4 is 24\n"
          ],
          "name": "stdout"
        }
      ]
    },
    {
      "cell_type": "markdown",
      "metadata": {
        "id": "TU4Illn0R9wX",
        "colab_type": "text"
      },
      "source": [
        "In the above example, **calc_factorial**() is a recursive functions as it calls itself.\n",
        "\n",
        "When we call this function with a positive integer, it will recursively call itself by decreasing the number.\n",
        "\n",
        "Each function call multiples the number with the factorial of number 1 until the number is equal to one. This recursive call can be explained in the following steps.\n",
        "\n",
        "* calc_factorial(4)              # 1st call with 4\n",
        "* 4 * calc_factorial(3)          # 2nd call with 3\n",
        "* 4 * 3 * calc_factorial(2)      # 3rd call with 2\n",
        "* 4 * 3 * 2 * calc_factorial(1)  # 4th call with 1\n",
        "* 4 * 3 * 2 * 1                  # return from 4th call as number=1\n",
        "* 4 * 3 * 2                      # return from 3rd call\n",
        "* 4 * 6                          # return from 2nd call\n",
        "* 24  \n",
        "\n",
        "Our recursion ends when the number reduces to 1. This is called the base condition.\n",
        "\n",
        "Every recursive function must have a base condition that stops the recursion or else the function calls itself infinitely."
      ]
    },
    {
      "cell_type": "markdown",
      "metadata": {
        "id": "LvUfIx9CSgGz",
        "colab_type": "text"
      },
      "source": [
        "**Advantages of Recursion**\n",
        "\n",
        "*  Recursive functions make the code look clean and elegant.\n",
        "* A complex task can be broken down into simpler sub-problems using recursion.\n",
        "* Sequence generation is easier with recursion than using some nested iteration.\n",
        "\n",
        "**Disadvantages of Recursion**\n",
        "\n",
        "* Sometimes the logic behind recursion is hard to follow through.\n",
        "* Recursive calls are expensive (inefficient) as they take up a lot of memory and time.\n",
        "* Recursive functions are hard to debug.\n"
      ]
    },
    {
      "cell_type": "code",
      "metadata": {
        "id": "fZ8Zgg1FR0Lj",
        "colab_type": "code",
        "colab": {}
      },
      "source": [
        ""
      ],
      "execution_count": 0,
      "outputs": []
    }
  ]
}