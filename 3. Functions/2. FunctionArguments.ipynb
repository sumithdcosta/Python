{
  "nbformat": 4,
  "nbformat_minor": 0,
  "metadata": {
    "colab": {
      "name": "Untitled17.ipynb",
      "provenance": [],
      "include_colab_link": true
    },
    "kernelspec": {
      "name": "python3",
      "display_name": "Python 3"
    }
  },
  "cells": [
    {
      "cell_type": "markdown",
      "metadata": {
        "id": "view-in-github",
        "colab_type": "text"
      },
      "source": [
        "<a href=\"https://colab.research.google.com/github/sumithdcosta/Python/blob/master/3.%20Functions/2.%20FunctionArguments.ipynb\" target=\"_parent\"><img src=\"https://colab.research.google.com/assets/colab-badge.svg\" alt=\"Open In Colab\"/></a>"
      ]
    },
    {
      "cell_type": "markdown",
      "metadata": {
        "id": "qrk4W3wWi98f",
        "colab_type": "text"
      },
      "source": [
        "3. Functions/2. FunctionArguments.ipynb"
      ]
    },
    {
      "cell_type": "markdown",
      "metadata": {
        "id": "ugpxPRiri5zX",
        "colab_type": "text"
      },
      "source": [
        "**Function Arguments**\n",
        "\n",
        "In user-defined function topic, we learned about defining a function and calling it. Otherwise, the function call will result into an error. Here is an example."
      ]
    },
    {
      "cell_type": "code",
      "metadata": {
        "id": "ljGarmH-jP2p",
        "colab_type": "code",
        "colab": {
          "base_uri": "https://localhost:8080/",
          "height": 34
        },
        "outputId": "5d04b26f-d6a2-46db-85ee-d61eaa1ef6fd"
      },
      "source": [
        "def greet(name,msg):\n",
        "   \"\"\"This function greets to\n",
        "   the person with the provided message\"\"\"\n",
        "   print(\"Hello\",name + ', ' + msg)\n",
        "\n",
        "greet(\"Monica\",\"Good morning!\")"
      ],
      "execution_count": 1,
      "outputs": [
        {
          "output_type": "stream",
          "text": [
            "Hello Monica, Good morning!\n"
          ],
          "name": "stdout"
        }
      ]
    },
    {
      "cell_type": "markdown",
      "metadata": {
        "id": "MbwrsJi8jhWE",
        "colab_type": "text"
      },
      "source": [
        "Here, the function **greet**() has two parameters.\n",
        "\n",
        "Since, we have called this function with two arguments, it runs smoothly and we do not get any error.\n",
        "\n",
        "If we call it with different number of arguments, the interpreter will complain. Below is a call to this function with one and no arguments along with their respective error messages."
      ]
    },
    {
      "cell_type": "code",
      "metadata": {
        "id": "SC0PfoQQjRaz",
        "colab_type": "code",
        "colab": {
          "base_uri": "https://localhost:8080/",
          "height": 163
        },
        "outputId": "1856dfd1-590b-4468-f1ab-48ccc7a6232c"
      },
      "source": [
        "greet(\"Monica\")    # only one argument"
      ],
      "execution_count": 2,
      "outputs": [
        {
          "output_type": "error",
          "ename": "TypeError",
          "evalue": "ignored",
          "traceback": [
            "\u001b[0;31m---------------------------------------------------------------------------\u001b[0m",
            "\u001b[0;31mTypeError\u001b[0m                                 Traceback (most recent call last)",
            "\u001b[0;32m<ipython-input-2-c4428734d52c>\u001b[0m in \u001b[0;36m<module>\u001b[0;34m()\u001b[0m\n\u001b[0;32m----> 1\u001b[0;31m \u001b[0mgreet\u001b[0m\u001b[0;34m(\u001b[0m\u001b[0;34m\"Monica\"\u001b[0m\u001b[0;34m)\u001b[0m    \u001b[0;31m# only one argument\u001b[0m\u001b[0;34m\u001b[0m\u001b[0;34m\u001b[0m\u001b[0m\n\u001b[0m",
            "\u001b[0;31mTypeError\u001b[0m: greet() missing 1 required positional argument: 'msg'"
          ]
        }
      ]
    },
    {
      "cell_type": "code",
      "metadata": {
        "id": "BnbnVmrNjp0I",
        "colab_type": "code",
        "colab": {
          "base_uri": "https://localhost:8080/",
          "height": 163
        },
        "outputId": "c94c1933-7a85-4ace-c0d2-c88bc8ba0485"
      },
      "source": [
        "greet()    # no arguments"
      ],
      "execution_count": 3,
      "outputs": [
        {
          "output_type": "error",
          "ename": "TypeError",
          "evalue": "ignored",
          "traceback": [
            "\u001b[0;31m---------------------------------------------------------------------------\u001b[0m",
            "\u001b[0;31mTypeError\u001b[0m                                 Traceback (most recent call last)",
            "\u001b[0;32m<ipython-input-3-76bf7a927991>\u001b[0m in \u001b[0;36m<module>\u001b[0;34m()\u001b[0m\n\u001b[0;32m----> 1\u001b[0;31m \u001b[0mgreet\u001b[0m\u001b[0;34m(\u001b[0m\u001b[0;34m)\u001b[0m    \u001b[0;31m# no arguments\u001b[0m\u001b[0;34m\u001b[0m\u001b[0;34m\u001b[0m\u001b[0m\n\u001b[0m",
            "\u001b[0;31mTypeError\u001b[0m: greet() missing 2 required positional arguments: 'name' and 'msg'"
          ]
        }
      ]
    },
    {
      "cell_type": "markdown",
      "metadata": {
        "id": "ekGp_JLSjvJk",
        "colab_type": "text"
      },
      "source": [
        "**Variable Function Arguments**\n",
        "\n",
        "Up until now functions had fixed number of arguments. In Python there are other ways to define a function which can take variable number of arguments.\n",
        "\n",
        "Three different forms of this type are described below.\n"
      ]
    },
    {
      "cell_type": "markdown",
      "metadata": {
        "id": "c4nqZVnhj1Xy",
        "colab_type": "text"
      },
      "source": [
        "**Python Default Arguments**\n",
        "\n",
        "Function arguments can have default values in Python.\n",
        "\n",
        "We can provide a default value to an argument by using the assignment operator (=). Here is an example."
      ]
    },
    {
      "cell_type": "code",
      "metadata": {
        "id": "ULwMojRrjrrP",
        "colab_type": "code",
        "colab": {
          "base_uri": "https://localhost:8080/",
          "height": 51
        },
        "outputId": "29bbcd61-9e0c-4a9c-815c-394ebf13fc57"
      },
      "source": [
        "def greet(name, msg = \"Good morning!\"):\n",
        "   \"\"\"\n",
        "   This function greets to\n",
        "   the person with the\n",
        "   provided message.\n",
        "\n",
        "   If message is not provided,\n",
        "   it defaults to \"Good\n",
        "   morning!\"\n",
        "   \"\"\"\n",
        "\n",
        "   print(\"Hello\",name + ', ' + msg)\n",
        "\n",
        "greet(\"Kate\")\n",
        "greet(\"Bruce\",\"How do you do?\")"
      ],
      "execution_count": 4,
      "outputs": [
        {
          "output_type": "stream",
          "text": [
            "Hello Kate, Good morning!\n",
            "Hello Bruce, How do you do?\n"
          ],
          "name": "stdout"
        }
      ]
    },
    {
      "cell_type": "markdown",
      "metadata": {
        "id": "3mU_fRXfj_R6",
        "colab_type": "text"
      },
      "source": [
        "\n",
        "In this function, the parameter **name** does not have a default value and is required (mandatory) during a call.\n",
        "\n",
        "On the other hand, the parameter **msg** has a default value of \"Good morning!\". So, it is optional during a call. If a value is provided, it will overwrite the default value.\n",
        "\n",
        "Any number of arguments in a function can have a default value. But once we have a default argument, all the arguments to its right must also have default values.\n",
        "\n",
        "This means to say, non-default arguments cannot follow default arguments. For example, if we had defined the function header above as:\n",
        "\n",
        "```\n",
        "def greet(msg = \"Good morning!\", name):\n",
        "```\n",
        "We would get an error as:\n",
        "\n",
        "```\n",
        "SyntaxError: non-default argument follows default argument\n",
        "```\n",
        "\n",
        "\n"
      ]
    },
    {
      "cell_type": "markdown",
      "metadata": {
        "id": "Jz-UNEPOkamW",
        "colab_type": "text"
      },
      "source": [
        "**Python Keyword Arguments**\n",
        "\n",
        "When we call a function with some values, these values get assigned to the arguments according to their position.\n",
        "\n",
        "For example, in the above function **greet**(), when we called it as **greet(\"Bruce\",\"How do you do?\")**, the value \"Bruce\" gets assigned to the argument name and similarly **\"How do you do?\"** to **msg**.\n",
        "\n",
        "Python allows functions to be called using keyword arguments. When we call functions in this way, the order (position) of the arguments can be changed. Following calls to the above function are all valid and produce the same result"
      ]
    },
    {
      "cell_type": "code",
      "metadata": {
        "id": "JTKElrfSj7IH",
        "colab_type": "code",
        "colab": {
          "base_uri": "https://localhost:8080/",
          "height": 34
        },
        "outputId": "97413996-baaa-44b5-ae73-a4f6079ebf27"
      },
      "source": [
        "# 2 keyword arguments\n",
        "greet(name = \"Bruce\",msg = \"How do you do?\")"
      ],
      "execution_count": 5,
      "outputs": [
        {
          "output_type": "stream",
          "text": [
            "Hello Bruce, How do you do?\n"
          ],
          "name": "stdout"
        }
      ]
    },
    {
      "cell_type": "code",
      "metadata": {
        "id": "NNksQlSZks2a",
        "colab_type": "code",
        "colab": {
          "base_uri": "https://localhost:8080/",
          "height": 34
        },
        "outputId": "1603c53e-789d-49dd-813f-8c179f7c8407"
      },
      "source": [
        "# 2 keyword arguments (out of order)\n",
        "greet(msg = \"How do you do?\",name = \"Bruce\") "
      ],
      "execution_count": 6,
      "outputs": [
        {
          "output_type": "stream",
          "text": [
            "Hello Bruce, How do you do?\n"
          ],
          "name": "stdout"
        }
      ]
    },
    {
      "cell_type": "code",
      "metadata": {
        "id": "si7SoHYzkwvN",
        "colab_type": "code",
        "colab": {
          "base_uri": "https://localhost:8080/",
          "height": 34
        },
        "outputId": "765fa991-0357-4a7e-8158-c2b5182fcde1"
      },
      "source": [
        "# 1 positional, 1 keyword argument\n",
        "greet(\"Bruce\",msg = \"How do you do?\")     "
      ],
      "execution_count": 7,
      "outputs": [
        {
          "output_type": "stream",
          "text": [
            "Hello Bruce, How do you do?\n"
          ],
          "name": "stdout"
        }
      ]
    },
    {
      "cell_type": "markdown",
      "metadata": {
        "id": "8QEGdIFEk5SI",
        "colab_type": "text"
      },
      "source": [
        "As we can see, we can mix positional arguments with keyword arguments during a function call. But we must keep in mind that keyword arguments must follow positional arguments.\n",
        "\n",
        "Having a positional argument after keyword arguments will result into errors. For example the function call as follows:\n",
        "\n",
        "```\n",
        "greet(name=\"Bruce\",\"How do you do?\")\n",
        "```\n",
        "\n",
        "Will result into error as:\n",
        "\n",
        "```\n",
        "SyntaxError: non-keyword arg after keyword arg\n",
        "```\n",
        "\n"
      ]
    },
    {
      "cell_type": "markdown",
      "metadata": {
        "id": "awOvJkdGlpUJ",
        "colab_type": "text"
      },
      "source": [
        "**Python Arbitrary Arguments**\n",
        "\n",
        "Sometimes, we do not know in advance the number of arguments that will be passed into a function.Python allows us to handle this kind of situation through function calls with arbitrary number of arguments.\n",
        "\n",
        "In the function definition we use an asterisk (*) before the parameter name to denote this kind of argument. Here is an example."
      ]
    },
    {
      "cell_type": "code",
      "metadata": {
        "id": "yxABbjUglxXo",
        "colab_type": "code",
        "colab": {
          "base_uri": "https://localhost:8080/",
          "height": 85
        },
        "outputId": "88a0a8ef-96b6-43b1-9361-88a86e0bff77"
      },
      "source": [
        "def greet(*names):\n",
        "   \"\"\"This function greets all\n",
        "   the person in the names tuple.\"\"\"\n",
        "\n",
        "   # names is a tuple with arguments\n",
        "   for name in names:\n",
        "       print(\"Hello\",name)\n",
        "\n",
        "greet(\"Monica\",\"Luke\",\"Steve\",\"John\")"
      ],
      "execution_count": 11,
      "outputs": [
        {
          "output_type": "stream",
          "text": [
            "Hello Monica\n",
            "Hello Luke\n",
            "Hello Steve\n",
            "Hello John\n"
          ],
          "name": "stdout"
        }
      ]
    },
    {
      "cell_type": "markdown",
      "metadata": {
        "id": "EbL_NiTLmNFj",
        "colab_type": "text"
      },
      "source": [
        "Here, we have called the function with multiple arguments. These arguments get wrapped up into a tuple before being passed into the function. Inside the function, we use a for loop to retrieve all the arguments back."
      ]
    },
    {
      "cell_type": "code",
      "metadata": {
        "id": "1RUxkzTblyIL",
        "colab_type": "code",
        "colab": {}
      },
      "source": [
        ""
      ],
      "execution_count": 0,
      "outputs": []
    }
  ]
}