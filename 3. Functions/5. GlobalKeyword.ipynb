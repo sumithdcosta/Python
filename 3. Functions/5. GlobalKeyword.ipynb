{
  "nbformat": 4,
  "nbformat_minor": 0,
  "metadata": {
    "colab": {
      "name": "Untitled21.ipynb",
      "provenance": [],
      "include_colab_link": true
    },
    "kernelspec": {
      "name": "python3",
      "display_name": "Python 3"
    }
  },
  "cells": [
    {
      "cell_type": "markdown",
      "metadata": {
        "id": "view-in-github",
        "colab_type": "text"
      },
      "source": [
        "<a href=\"https://colab.research.google.com/github/sumithdcosta/Python/blob/master/3.%20Functions/5.%20GlobalKeyword.ipynb\" target=\"_parent\"><img src=\"https://colab.research.google.com/assets/colab-badge.svg\" alt=\"Open In Colab\"/></a>"
      ]
    },
    {
      "cell_type": "markdown",
      "metadata": {
        "id": "BW5GYTNdWqyu",
        "colab_type": "text"
      },
      "source": [
        "3. Functions/5. GlobalKeyword.ipynb"
      ]
    },
    {
      "cell_type": "markdown",
      "metadata": {
        "id": "b6Me3QgOWxVu",
        "colab_type": "text"
      },
      "source": [
        "**Introduction to global Keyword**\n",
        "\n",
        "In Python, global keyword allows you to modify the variable outside of the current scope. It is used to create a global variable and make changes to the variable in a local context.\n",
        "\n",
        "**Rules of global Keyword**\n",
        "\n",
        "The basic rules for global keyword in Python are:\n",
        "\n",
        "* When we create a variable inside a function, it’s local by default.\n",
        "* When we define a variable outside of a function, it’s global by default. You don’t have to use global keyword.\n",
        "* We use global keyword to read and write a global variable inside a function.\n",
        "* Use of global keyword outside a function has no effect\n",
        "\n",
        "**Use of global Keyword (With Example)**\n",
        "\n",
        "Let’s take an example.\n",
        "\n",
        "**Example 1: Accessing global Variable From Inside a Function**"
      ]
    },
    {
      "cell_type": "code",
      "metadata": {
        "id": "rcBLjIYNWqO6",
        "colab_type": "code",
        "colab": {
          "base_uri": "https://localhost:8080/",
          "height": 34
        },
        "outputId": "584a494a-54c0-42fe-bd84-ee54fff9ccb9"
      },
      "source": [
        "c = 1 # global variable\n",
        "\n",
        "def add():\n",
        "    print(c)\n",
        "\n",
        "add()"
      ],
      "execution_count": 1,
      "outputs": [
        {
          "output_type": "stream",
          "text": [
            "1\n"
          ],
          "name": "stdout"
        }
      ]
    },
    {
      "cell_type": "markdown",
      "metadata": {
        "id": "lQw4SgiNXJyE",
        "colab_type": "text"
      },
      "source": [
        "However, we may have some scenarios where we need to modify the global variable from inside a function.\n",
        "\n",
        "**Example 2: Modifying Global Variable From Inside the Function**\n"
      ]
    },
    {
      "cell_type": "code",
      "metadata": {
        "id": "iQLFpMrVXGD-",
        "colab_type": "code",
        "colab": {
          "base_uri": "https://localhost:8080/",
          "height": 327
        },
        "outputId": "0e5c840c-79d5-4843-c701-5b48534ce056"
      },
      "source": [
        "c = 1  # global variable\n",
        "\n",
        "def add():\n",
        "    c = c + 2  # increment c by 2\n",
        "    print(c)\n",
        "\n",
        "add()\n",
        "\n",
        "#When we run above program, the output shows an error:"
      ],
      "execution_count": 2,
      "outputs": [
        {
          "output_type": "error",
          "ename": "UnboundLocalError",
          "evalue": "ignored",
          "traceback": [
            "\u001b[0;31m---------------------------------------------------------------------------\u001b[0m",
            "\u001b[0;31mUnboundLocalError\u001b[0m                         Traceback (most recent call last)",
            "\u001b[0;32m<ipython-input-2-50797879adf4>\u001b[0m in \u001b[0;36m<module>\u001b[0;34m()\u001b[0m\n\u001b[1;32m      5\u001b[0m     \u001b[0mprint\u001b[0m\u001b[0;34m(\u001b[0m\u001b[0mc\u001b[0m\u001b[0;34m)\u001b[0m\u001b[0;34m\u001b[0m\u001b[0;34m\u001b[0m\u001b[0m\n\u001b[1;32m      6\u001b[0m \u001b[0;34m\u001b[0m\u001b[0m\n\u001b[0;32m----> 7\u001b[0;31m \u001b[0madd\u001b[0m\u001b[0;34m(\u001b[0m\u001b[0;34m)\u001b[0m\u001b[0;34m\u001b[0m\u001b[0;34m\u001b[0m\u001b[0m\n\u001b[0m",
            "\u001b[0;32m<ipython-input-2-50797879adf4>\u001b[0m in \u001b[0;36madd\u001b[0;34m()\u001b[0m\n\u001b[1;32m      2\u001b[0m \u001b[0;34m\u001b[0m\u001b[0m\n\u001b[1;32m      3\u001b[0m \u001b[0;32mdef\u001b[0m \u001b[0madd\u001b[0m\u001b[0;34m(\u001b[0m\u001b[0;34m)\u001b[0m\u001b[0;34m:\u001b[0m\u001b[0;34m\u001b[0m\u001b[0;34m\u001b[0m\u001b[0m\n\u001b[0;32m----> 4\u001b[0;31m     \u001b[0mc\u001b[0m \u001b[0;34m=\u001b[0m \u001b[0mc\u001b[0m \u001b[0;34m+\u001b[0m \u001b[0;36m2\u001b[0m  \u001b[0;31m# increment c by 2\u001b[0m\u001b[0;34m\u001b[0m\u001b[0;34m\u001b[0m\u001b[0m\n\u001b[0m\u001b[1;32m      5\u001b[0m     \u001b[0mprint\u001b[0m\u001b[0;34m(\u001b[0m\u001b[0mc\u001b[0m\u001b[0;34m)\u001b[0m\u001b[0;34m\u001b[0m\u001b[0;34m\u001b[0m\u001b[0m\n\u001b[1;32m      6\u001b[0m \u001b[0;34m\u001b[0m\u001b[0m\n",
            "\u001b[0;31mUnboundLocalError\u001b[0m: local variable 'c' referenced before assignment"
          ]
        }
      ]
    },
    {
      "cell_type": "markdown",
      "metadata": {
        "id": "vUV1XCHnXVLI",
        "colab_type": "text"
      },
      "source": [
        "This is because we can only access the global variable but cannot modify it from inside the function.\n",
        "\n",
        "The solution for this is to use the global keyword."
      ]
    },
    {
      "cell_type": "code",
      "metadata": {
        "id": "cwur-WxOXQ91",
        "colab_type": "code",
        "colab": {
          "base_uri": "https://localhost:8080/",
          "height": 52
        },
        "outputId": "a3e4b4d7-8566-4e2e-fae8-d2cf238be118"
      },
      "source": [
        "c = 0 # global variable\n",
        "\n",
        "def add():\n",
        "    global c\n",
        "    c = c + 2 # increment by 2\n",
        "    print(\"Inside add():\", c)\n",
        "\n",
        "add()\n",
        "print(\"In main:\", c)"
      ],
      "execution_count": 3,
      "outputs": [
        {
          "output_type": "stream",
          "text": [
            "Inside add(): 2\n",
            "In main: 2\n"
          ],
          "name": "stdout"
        }
      ]
    },
    {
      "cell_type": "markdown",
      "metadata": {
        "id": "d6B1yfhMXbpZ",
        "colab_type": "text"
      },
      "source": [
        "In the above program, we define **c** as a global keyword inside the **add**() function.\n",
        "\n",
        "Then, we increment the variable **c** by **1**, i.e **c = c + 2**. After that, we call the **add**() function. Finally, we print global variable **c**.\n",
        "\n",
        "As we can see, change also occured on the global variable outside the function, **c = 2**."
      ]
    },
    {
      "cell_type": "markdown",
      "metadata": {
        "id": "kzX-V-NDXyTj",
        "colab_type": "text"
      },
      "source": [
        "**Global Variables Across Python Modules**\n",
        "\n",
        "In Python, we create a single module **config.py** to hold global variables and share information across Python modules within the same program.\n",
        "\n",
        "Here is how we can share global variable across the python modules.\n",
        "\n",
        "**Example 4 : Share a global Variable Across Python Modules**\n",
        "\n",
        "Create a **config.py** file, to store global variables"
      ]
    },
    {
      "cell_type": "code",
      "metadata": {
        "id": "-54idBCHXZzl",
        "colab_type": "code",
        "colab": {
          "base_uri": "https://localhost:8080/",
          "height": 34
        },
        "outputId": "a4d40051-9b73-4997-ab44-51e55815545e"
      },
      "source": [
        "writefile = \"\"\"\n",
        "a = 0\n",
        "b = \"empty\"\n",
        "\"\"\"\n",
        "%store writefile >  \"/content/config.py\""
      ],
      "execution_count": 9,
      "outputs": [
        {
          "output_type": "stream",
          "text": [
            "Writing 'writefile' (str) to file '/content/config.py'.\n"
          ],
          "name": "stdout"
        }
      ]
    },
    {
      "cell_type": "markdown",
      "metadata": {
        "id": "8xHIX_IfYFW_",
        "colab_type": "text"
      },
      "source": [
        "Create a update.py file, to change global variables"
      ]
    },
    {
      "cell_type": "code",
      "metadata": {
        "id": "ucVuGwwYYD8Y",
        "colab_type": "code",
        "colab": {
          "base_uri": "https://localhost:8080/",
          "height": 34
        },
        "outputId": "7c662476-a484-4e70-a956-090825274087"
      },
      "source": [
        "writefile = \"\"\"\n",
        "import config\n",
        "\n",
        "config.a = 10\n",
        "config.b = \"alphabet\"\n",
        "\"\"\"\n",
        "%store writefile >  \"/content/update.py\""
      ],
      "execution_count": 12,
      "outputs": [
        {
          "output_type": "stream",
          "text": [
            "Writing 'writefile' (str) to file '/content/update.py'.\n"
          ],
          "name": "stdout"
        }
      ]
    },
    {
      "cell_type": "markdown",
      "metadata": {
        "id": "spX2U9XxZTMC",
        "colab_type": "text"
      },
      "source": [
        "Create a main.py file, to test changes in value\n"
      ]
    },
    {
      "cell_type": "markdown",
      "metadata": {
        "id": "2r3ReKH6ZYiQ",
        "colab_type": "text"
      },
      "source": [
        "When we run the main.py file, the output will be"
      ]
    },
    {
      "cell_type": "code",
      "metadata": {
        "id": "eCkvRcsMYImv",
        "colab_type": "code",
        "colab": {
          "base_uri": "https://localhost:8080/",
          "height": 52
        },
        "outputId": "4a239a4c-dd9b-4bc4-fd0d-c46e1e84dab9"
      },
      "source": [
        "import config\n",
        "import update\n",
        "\n",
        "print(config.a)\n",
        "print(config.b)"
      ],
      "execution_count": 13,
      "outputs": [
        {
          "output_type": "stream",
          "text": [
            "10\n",
            "alphabet\n"
          ],
          "name": "stdout"
        }
      ]
    },
    {
      "cell_type": "markdown",
      "metadata": {
        "id": "DQnvBUwrZddW",
        "colab_type": "text"
      },
      "source": [
        "In the above, we create three files: config.py, update.py and main.py.\n",
        "\n",
        "The module config.py stores global variables of a and b. In update.py file, we import the config.py module and modify the values of a and b. Similarly, in main.py file we import both config.py and update.py module. Finally, we print and test the values of global variables whether they are changed or not."
      ]
    },
    {
      "cell_type": "markdown",
      "metadata": {
        "id": "BjApY4AHaJXo",
        "colab_type": "text"
      },
      "source": [
        "**Global in Nested Functions**\n",
        "\n",
        "Here is how you can use a global variable in nested function.\n",
        "\n",
        "**Example 5: Using a Global Variable in Nested Function**"
      ]
    },
    {
      "cell_type": "code",
      "metadata": {
        "id": "3zDfYLmSZVrx",
        "colab_type": "code",
        "colab": {
          "base_uri": "https://localhost:8080/",
          "height": 87
        },
        "outputId": "3c1b0d25-802e-41e2-8168-776cf8d13c7c"
      },
      "source": [
        "def foo():\n",
        "    x = 20\n",
        "\n",
        "    def bar():\n",
        "        global x\n",
        "        x = 25\n",
        "\n",
        "    print(\"Before calling bar: \", x)\n",
        "    print(\"Calling bar now\")\n",
        "    bar()\n",
        "    print(\"After calling bar: \", x)\n",
        "\n",
        "\n",
        "foo()\n",
        "print(\"x in main : \", x)"
      ],
      "execution_count": 14,
      "outputs": [
        {
          "output_type": "stream",
          "text": [
            "Before calling bar:  20\n",
            "Calling bar now\n",
            "After calling bar:  20\n",
            "x in main :  25\n"
          ],
          "name": "stdout"
        }
      ]
    },
    {
      "cell_type": "markdown",
      "metadata": {
        "id": "gYfTJrFkahRe",
        "colab_type": "text"
      },
      "source": [
        "In the above program, we declare global variable inside the nested function bar(). Inside foo() function, x has no effect of global keyword.\n",
        "\n",
        "Before and after calling bar(), the variable x takes the value of local variable i.e x = 20. Outside of the foo() function, the variable x will take value defined in the bar() function i.e x = 25. This is because we have used global keyword in x to create global variable inside the bar() function (local scope).\n",
        "\n",
        "If we make any changes inside the bar() function, the changes appears outside the local scope, i.e. foo()."
      ]
    },
    {
      "cell_type": "code",
      "metadata": {
        "id": "r61H5rb4aN3U",
        "colab_type": "code",
        "colab": {}
      },
      "source": [
        ""
      ],
      "execution_count": 0,
      "outputs": []
    }
  ]
}