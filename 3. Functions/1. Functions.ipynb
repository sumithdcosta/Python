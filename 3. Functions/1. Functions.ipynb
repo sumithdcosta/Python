{
  "nbformat": 4,
  "nbformat_minor": 0,
  "metadata": {
    "colab": {
      "name": "Untitled16.ipynb",
      "provenance": [],
      "include_colab_link": true
    },
    "kernelspec": {
      "name": "python3",
      "display_name": "Python 3"
    }
  },
  "cells": [
    {
      "cell_type": "markdown",
      "metadata": {
        "id": "view-in-github",
        "colab_type": "text"
      },
      "source": [
        "<a href=\"https://colab.research.google.com/github/sumithdcosta/Python/blob/master/3.%20Functions/1.%20Functions.ipynb\" target=\"_parent\"><img src=\"https://colab.research.google.com/assets/colab-badge.svg\" alt=\"Open In Colab\"/></a>"
      ]
    },
    {
      "cell_type": "markdown",
      "metadata": {
        "id": "c9TLEZpbPPSd",
        "colab_type": "text"
      },
      "source": [
        "3. Functions/1. Functions.ipynb"
      ]
    },
    {
      "cell_type": "markdown",
      "metadata": {
        "id": "t6Ol5lbKPkV6",
        "colab_type": "text"
      },
      "source": [
        "**What is a function in Python?**\n",
        "\n",
        "In Python, function is a group of related statements that perform a specific task.\n",
        "\n",
        "Functions help break our program into smaller and modular chunks. As our program grows larger and larger, functions make it more organized and manageable.\n",
        "\n",
        "Furthermore, it avoids repetition and makes code reusable.\n",
        "\n",
        "**Syntax of Function**\n",
        "\n",
        "\n",
        "```\n",
        "def function_name(parameters):\n",
        "\t\"\"\"docstring\"\"\"\n",
        "\tstatement(s)\n",
        "```\n",
        "\n",
        "Above shown is a function definition which consists of following components.\n",
        "\n",
        "1. Keyword def marks the start of function header.\n",
        "2. A function name to uniquely identify it. Function naming follows the same rules of writing identifiers in Python.\n",
        "3. Parameters (arguments) through which we pass values to a function. They are optional.\n",
        "4. A colon (:) to mark the end of function header.\n",
        "5. Optional documentation string (docstring) to describe what the function does.\n",
        "6. One or more valid python statements that make up the function body. Statements must have same indentation level (usually 4 spaces).\n",
        "7. An optional return statement to return a value from the function.\n",
        "\n",
        "Example of a function\n"
      ]
    },
    {
      "cell_type": "code",
      "metadata": {
        "id": "bPtQsediPOkj",
        "colab_type": "code",
        "colab": {}
      },
      "source": [
        "def greet(name):\n",
        "\t\"\"\"This function greets to\n",
        "\tthe person passed in as\n",
        "\tparameter\"\"\"\n",
        "\tprint(\"Hello, \" + name + \". Good morning!\")"
      ],
      "execution_count": 0,
      "outputs": []
    },
    {
      "cell_type": "markdown",
      "metadata": {
        "id": "o4yd15VXQKv9",
        "colab_type": "text"
      },
      "source": [
        "**How to call a function in python?**\n",
        "\n",
        "Once we have defined a function, we can call it from another function, program or even the Python prompt. To call a function we simply type the function name with appropriate parameters."
      ]
    },
    {
      "cell_type": "code",
      "metadata": {
        "id": "fcx1xaPhQG5N",
        "colab_type": "code",
        "colab": {
          "base_uri": "https://localhost:8080/",
          "height": 34
        },
        "outputId": "50b142da-5a95-4779-f07a-d1d63536d63e"
      },
      "source": [
        "greet('Paul')"
      ],
      "execution_count": 2,
      "outputs": [
        {
          "output_type": "stream",
          "text": [
            "Hello, Paul. Good morning!\n"
          ],
          "name": "stdout"
        }
      ]
    },
    {
      "cell_type": "markdown",
      "metadata": {
        "id": "DnHOx-mIQUan",
        "colab_type": "text"
      },
      "source": [
        "**Docstring**\n",
        "\n",
        "The first string after the function header is called the docstring and is short for documentation string. It is used to explain in brief, what a function does.\n",
        "\n",
        "Although optional, documentation is a good programming practice. Unless you can remember what you had for dinner last week, always document your code.\n",
        "\n",
        "In the above example, we have a docstring immediately below the function header. We generally use triple quotes so that docstring can extend up to multiple lines. This string is available to us as __doc__ attribute of the function.\n",
        "\n",
        "**For example:**\n",
        "\n",
        "Try running the following into the Python shell to see the output.\n",
        "\n"
      ]
    },
    {
      "cell_type": "code",
      "metadata": {
        "id": "SK4zk3N8QQg5",
        "colab_type": "code",
        "colab": {
          "base_uri": "https://localhost:8080/",
          "height": 68
        },
        "outputId": "78410c21-2595-4531-afe5-34314f1ba7c2"
      },
      "source": [
        "print(greet.__doc__)"
      ],
      "execution_count": 3,
      "outputs": [
        {
          "output_type": "stream",
          "text": [
            "This function greets to\n",
            "\tthe person passed in as\n",
            "\tparameter\n"
          ],
          "name": "stdout"
        }
      ]
    },
    {
      "cell_type": "markdown",
      "metadata": {
        "id": "pU4--FGteIQ4",
        "colab_type": "text"
      },
      "source": [
        "**The return statement**\n",
        "\n",
        "The return statement is used to exit a function and go back to the place from where it was called.\n",
        "\n",
        "**Syntax of return**\n",
        "\n",
        "```\n",
        "return [expression_list]\n",
        "```\n",
        "\n",
        "This statement can contain expression which gets evaluated and the value is returned. If there is no expression in the statement or the **return** statement itself is not present inside a function, then the function will return the **None** object.\n",
        "\n",
        "For example:"
      ]
    },
    {
      "cell_type": "code",
      "metadata": {
        "id": "ywhA6j12QwVM",
        "colab_type": "code",
        "colab": {
          "base_uri": "https://localhost:8080/",
          "height": 51
        },
        "outputId": "bff533d3-aee4-4092-80fd-d4cfa7e8e88f"
      },
      "source": [
        "print(greet(\"May\"))"
      ],
      "execution_count": 4,
      "outputs": [
        {
          "output_type": "stream",
          "text": [
            "Hello, May. Good morning!\n",
            "None\n"
          ],
          "name": "stdout"
        }
      ]
    },
    {
      "cell_type": "markdown",
      "metadata": {
        "id": "M_Xse8PEepKI",
        "colab_type": "text"
      },
      "source": [
        "Here, **None** is the returned value."
      ]
    },
    {
      "cell_type": "markdown",
      "metadata": {
        "id": "NdFPJioEes2j",
        "colab_type": "text"
      },
      "source": [
        "**Example of return**"
      ]
    },
    {
      "cell_type": "code",
      "metadata": {
        "id": "_kedMB9Feeu9",
        "colab_type": "code",
        "colab": {
          "base_uri": "https://localhost:8080/",
          "height": 51
        },
        "outputId": "3ee9f5fe-58a4-4e2a-fa78-cb929d8a45e4"
      },
      "source": [
        "def absolute_value(num):\n",
        "\t\"\"\"This function returns the absolute\n",
        "\tvalue of the entered number\"\"\"\n",
        "\n",
        "\tif num >= 0:\n",
        "\t\treturn num\n",
        "\telse:\n",
        "\t\treturn -num\n",
        "\n",
        "# Output: 2\n",
        "print(absolute_value(2))\n",
        "\n",
        "# Output: 4\n",
        "print(absolute_value(-4))"
      ],
      "execution_count": 6,
      "outputs": [
        {
          "output_type": "stream",
          "text": [
            "2\n",
            "4\n"
          ],
          "name": "stdout"
        }
      ]
    },
    {
      "cell_type": "markdown",
      "metadata": {
        "id": "nIRt1CBIe9Io",
        "colab_type": "text"
      },
      "source": [
        "**How Function works in Python?**\n",
        "\n",
        "![alt text](https://drive.google.com/uc?export=view&id=1ngNsn52O9Ugu6UVCeCAOegKJ8EK5X-CI)\n",
        "\n"
      ]
    },
    {
      "cell_type": "markdown",
      "metadata": {
        "id": "eCCt6qNpfa0_",
        "colab_type": "text"
      },
      "source": [
        "**Scope and Lifetime of variables**\n",
        "\n",
        "Scope of a variable is the portion of a program where the variable is recognized. Parameters and variables defined inside a function is not visible from outside. Hence, they have a local scope.\n",
        "\n",
        "Lifetime of a variable is the period throughout which the variable exits in the memory. The lifetime of variables inside a function is as long as the function executes.\n",
        "\n",
        "They are destroyed once we return from the function. Hence, a function does not remember the value of a variable from its previous calls.\n",
        "\n",
        "Here is an example to illustrate the scope of a variable inside a function."
      ]
    },
    {
      "cell_type": "code",
      "metadata": {
        "id": "Ej58M_3mey9P",
        "colab_type": "code",
        "colab": {
          "base_uri": "https://localhost:8080/",
          "height": 51
        },
        "outputId": "1d63f358-b983-47e7-dcf7-f06873a2eef8"
      },
      "source": [
        "def my_func():\n",
        "\tx = 10\n",
        "\tprint(\"Value inside function:\",x)\n",
        "\n",
        "x = 20\n",
        "my_func()\n",
        "print(\"Value outside function:\",x)"
      ],
      "execution_count": 8,
      "outputs": [
        {
          "output_type": "stream",
          "text": [
            "Value inside function: 10\n",
            "Value outside function: 20\n"
          ],
          "name": "stdout"
        }
      ]
    },
    {
      "cell_type": "code",
      "metadata": {
        "id": "PJ-mAcpgfq5t",
        "colab_type": "code",
        "colab": {}
      },
      "source": [
        ""
      ],
      "execution_count": 0,
      "outputs": []
    },
    {
      "cell_type": "markdown",
      "metadata": {
        "id": "eb6rHG-cfvtx",
        "colab_type": "text"
      },
      "source": [
        "Here, we can see that the value of **x** is 20 initially. Even though the function **my_func**() changed the value of **x** to 10, it did not effect the value outside the function.\n",
        "\n",
        "This is because the variable **x** inside the function is different (local to the function) from the one outside. Although they have same names, they are two different variables with different scope.\n",
        "\n",
        "On the other hand, variables outside of the function are visible from inside. They have a **global** scope.\n",
        "\n",
        "We can read these values from inside the function but cannot change (write) them. In order to modify the value of variables outside the function, they must be declared as global variables using the keyword global."
      ]
    }
  ]
}