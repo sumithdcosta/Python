{
  "nbformat": 4,
  "nbformat_minor": 0,
  "metadata": {
    "colab": {
      "name": "Untitled23.ipynb",
      "provenance": [],
      "include_colab_link": true
    },
    "kernelspec": {
      "name": "python3",
      "display_name": "Python 3"
    }
  },
  "cells": [
    {
      "cell_type": "markdown",
      "metadata": {
        "id": "view-in-github",
        "colab_type": "text"
      },
      "source": [
        "<a href=\"https://colab.research.google.com/github/sumithdcosta/Python/blob/master/3.%20Functions/8.%20Packages.ipynb\" target=\"_parent\"><img src=\"https://colab.research.google.com/assets/colab-badge.svg\" alt=\"Open In Colab\"/></a>"
      ]
    },
    {
      "cell_type": "markdown",
      "metadata": {
        "id": "V_BbQRG2G3F_",
        "colab_type": "text"
      },
      "source": [
        "3. Functions/8. Packages.ipynb"
      ]
    },
    {
      "cell_type": "code",
      "metadata": {
        "id": "rTHLuJljG2nm",
        "colab_type": "code",
        "colab": {}
      },
      "source": [
        ""
      ],
      "execution_count": 0,
      "outputs": []
    },
    {
      "cell_type": "markdown",
      "metadata": {
        "id": "LngEySAxG73v",
        "colab_type": "text"
      },
      "source": [
        "**What are packages?**\n",
        "\n",
        "We don't usually store all of our files in our computer in the same location. We use a well-organized hierarchy of directories for easier access.\n",
        "\n",
        "Similar files are kept in the same directory, for example, we may keep all the songs in the \"music\" directory. Analogous to this, Python has packages for directories and modules for files.\n",
        "\n",
        "As our application program grows larger in size with a lot of modules, we place similar modules in one package and different modules in different packages. This makes a project (program) easy to manage and conceptually clear.\n",
        "\n",
        "Similar, as a directory can contain sub-directories and files, a Python package can have sub-packages and modules.\n",
        "\n",
        "A directory must contain a file named __init__.py in order for Python to consider it as a package. This file can be left empty but we generally place the initialization code for that package in this file.\n",
        "\n",
        "Here is an example. Suppose we are developing a game, one possible organization of packages and modules could be as shown in the figure below.\n",
        "\n",
        "![alt text](https://drive.google.com/uc?export=view&id=1ZPCsjDPAqVYqdbxCx2Rm-WxbW0lqj2bL)\n",
        "\n"
      ]
    },
    {
      "cell_type": "markdown",
      "metadata": {
        "id": "GLSa-3kqHtI0",
        "colab_type": "text"
      },
      "source": [
        "**Importing module from a package**\n",
        "\n",
        "We can import modules from packages using the dot (.) operator.\n",
        "\n",
        "For example, if want to import the start module in the above example, it is done as follows.\n",
        "\n",
        "```\n",
        "import Game.Level.start\n",
        "```\n",
        "Now if this module contains a function named **select_difficulty**(), we must use the full name to reference it.\n",
        "\n",
        "```\n",
        "Game.Level.start.select_difficulty(2)\n",
        "\n",
        "```\n",
        "\n",
        "If this construct seems lengthy, we can import the module without the package prefix as follows.\n",
        "\n",
        "\n",
        "\n",
        "```\n",
        "from Game.Level import start\n",
        "```\n",
        "\n",
        "We can now call the function simply as follows.\n",
        "\n",
        "\n",
        "\n",
        "```\n",
        "start.select_difficulty(2)\n",
        "```\n",
        "\n",
        "Yet another way of importing just the required function (or class or variable) form a module within a package would be as follows\n",
        "\n",
        "\n",
        "\n",
        "```\n",
        "from Game.Level.start import select_difficulty\n",
        "```\n",
        "\n",
        "Now we can directly call this function.\n",
        "\n",
        "\n",
        "\n",
        "```\n",
        "select_difficulty(2)\n",
        "```\n",
        "\n",
        "Although easier, this method is not recommended. Using the full namespace avoids confusion and prevents two same identifier names from colliding.\n",
        "\n",
        "While importing packages, Python looks in the list of directories defined in sys.path, similar as for module search path.\n"
      ]
    }
  ]
}