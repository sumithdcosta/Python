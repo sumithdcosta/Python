{
  "nbformat": 4,
  "nbformat_minor": 0,
  "metadata": {
    "colab": {
      "name": "Untitled66.ipynb",
      "provenance": [],
      "include_colab_link": true
    },
    "kernelspec": {
      "name": "python3",
      "display_name": "Python 3"
    }
  },
  "cells": [
    {
      "cell_type": "markdown",
      "metadata": {
        "id": "view-in-github",
        "colab_type": "text"
      },
      "source": [
        "<a href=\"https://colab.research.google.com/github/sumithdcosta/Python/blob/master/9.%20Problems/ParsingMutliValuedFile.ipynb\" target=\"_parent\"><img src=\"https://colab.research.google.com/assets/colab-badge.svg\" alt=\"Open In Colab\"/></a>"
      ]
    },
    {
      "cell_type": "markdown",
      "metadata": {
        "id": "1a6HqKLqrJMP",
        "colab_type": "text"
      },
      "source": [
        "9. Problems/ParsingMutliValuedFile.ipynb"
      ]
    },
    {
      "cell_type": "markdown",
      "metadata": {
        "id": "Bhg9ZVoerDpQ",
        "colab_type": "text"
      },
      "source": [
        "processing multi values file\n",
        "\n",
        "1. multivalues.csv is mutivalued file\n",
        "2. col1 is key index\n",
        "3. col3 is mutli valued \n",
        "4. mutli valued should be joined with | paramter in target file\n",
        "\n",
        "output should be\n",
        "\n",
        "- col1,col2,col3,col4\n",
        "- 1,x1,y1|y2|y3,z1\n",
        "- 2,x2,y2,z2\n",
        "- 3,x3,y3,z3"
      ]
    },
    {
      "cell_type": "code",
      "metadata": {
        "id": "1ur7VPrVrCNS",
        "colab_type": "code",
        "outputId": "7f00e597-100a-418a-b3ba-c3f9d2e00eab",
        "colab": {
          "base_uri": "https://localhost:8080/",
          "height": 34
        }
      },
      "source": [
        "%%writefile multivalues.csv\n",
        "col1,col2,col3,col4\n",
        "1,x1,y1,z1\n",
        "2,x2,y2,y2\n",
        "1,x1,y2,z1\n",
        "1,x1,y3,z1\n",
        "1,x1,y1,z1\n",
        "3,x3,y3,y3"
      ],
      "execution_count": 0,
      "outputs": [
        {
          "output_type": "stream",
          "text": [
            "Writing multivalues.csv\n"
          ],
          "name": "stdout"
        }
      ]
    },
    {
      "cell_type": "code",
      "metadata": {
        "id": "9-VyuJe4ryaL",
        "colab_type": "code",
        "colab": {}
      },
      "source": [
        "import csv\n",
        "from collections import defaultdict\n",
        "d2 = defaultdict(set)\n",
        "d3 = defaultdict(set)\n",
        "d4 = defaultdict(set)\n"
      ],
      "execution_count": 0,
      "outputs": []
    },
    {
      "cell_type": "code",
      "metadata": {
        "id": "JbBnc4aVtxhG",
        "colab_type": "code",
        "colab": {}
      },
      "source": [
        ""
      ],
      "execution_count": 0,
      "outputs": []
    }
  ]
}