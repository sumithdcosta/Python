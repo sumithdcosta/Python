{
  "nbformat": 4,
  "nbformat_minor": 0,
  "metadata": {
    "colab": {
      "name": "Untitled66.ipynb",
      "provenance": [],
      "include_colab_link": true
    },
    "kernelspec": {
      "name": "python3",
      "display_name": "Python 3"
    }
  },
  "cells": [
    {
      "cell_type": "markdown",
      "metadata": {
        "id": "view-in-github",
        "colab_type": "text"
      },
      "source": [
        "<a href=\"https://colab.research.google.com/github/sumithdcosta/Python/blob/master/9.%20Problems/ParsingMutliValuedFile.ipynb\" target=\"_parent\"><img src=\"https://colab.research.google.com/assets/colab-badge.svg\" alt=\"Open In Colab\"/></a>"
      ]
    },
    {
      "cell_type": "markdown",
      "metadata": {
        "id": "1a6HqKLqrJMP",
        "colab_type": "text"
      },
      "source": [
        "9. Problems/ParsingMutliValuedFile.ipynb"
      ]
    },
    {
      "cell_type": "markdown",
      "metadata": {
        "id": "Bhg9ZVoerDpQ",
        "colab_type": "text"
      },
      "source": [
        "processing multi values file\n",
        "\n",
        "1. multivalues.csv is mutivalued file\n",
        "2. col1 is key index\n",
        "3. col3 is mutli valued \n",
        "4. mutli valued should be joined with | paramter in target file\n",
        "\n",
        "output should be\n",
        "\n",
        "- col1,col2,col3,col4\n",
        "- 1,x1,y1|y2|y3,z1\n",
        "- 2,x2,y2,z2\n",
        "- 3,x3,y3,z3"
      ]
    },
    {
      "cell_type": "code",
      "metadata": {
        "id": "1ur7VPrVrCNS",
        "colab_type": "code",
        "outputId": "90f8abd0-090c-48ea-e771-2a4e4765f001",
        "colab": {
          "base_uri": "https://localhost:8080/",
          "height": 34
        }
      },
      "source": [
        "%%writefile multivalues.csv\n",
        "col1,col2,col3,col4\n",
        "1,x1,y1,z1\n",
        "2,x2,y2,z2\n",
        "1,x1,y2,z1\n",
        "1,x1,y3,z1\n",
        "1,x1,y1,z1\n",
        "3,x3,y3,z3"
      ],
      "execution_count": 4,
      "outputs": [
        {
          "output_type": "stream",
          "text": [
            "Writing multivalues.csv\n"
          ],
          "name": "stdout"
        }
      ]
    },
    {
      "cell_type": "code",
      "metadata": {
        "id": "9-VyuJe4ryaL",
        "colab_type": "code",
        "outputId": "5db6dce6-3121-409a-ca41-302a915ee8e0",
        "colab": {
          "base_uri": "https://localhost:8080/",
          "height": 34
        }
      },
      "source": [
        "import csv                           # import csv package to read csv format data\n",
        "from collections import defaultdict  #defaultdict for mutli value dict for values\n",
        "d2 = defaultdict(set)                # use of set to remove duplicates from dict values\n",
        "d3 = defaultdict(set)\n",
        "d4 = defaultdict(set)\n",
        "with open('multivalues.csv','rt') as csv_file:\n",
        "  csv_reader = csv.reader(csv_file, delimiter=',') # csv reader with comma seperator\n",
        "  line_count = 0                      # set line count to ignore the header row\n",
        "  for row in csv_reader:              # here 'row' is LIST object\n",
        "    if line_count == 0:               # to capture the header row\n",
        "      header = row\n",
        "      line_count += 1\n",
        "    else:\n",
        "      col1, col2, col3, col4 = row    # named tuple to capture value to objects from row list\n",
        "      d2[col1].add(col2)              # adding values to defaultdict(which removes duplicate)\n",
        "      d3[col1].add(col3)\n",
        "      d4[col1].add(col4)\n",
        "      line_count += 1\n",
        "  print('Processed %s lines', line_count) # print row processed messages"
      ],
      "execution_count": 0,
      "outputs": [
        {
          "output_type": "stream",
          "text": [
            "Processed %s lines 7\n"
          ],
          "name": "stdout"
        }
      ]
    },
    {
      "cell_type": "code",
      "metadata": {
        "id": "JbBnc4aVtxhG",
        "colab_type": "code",
        "colab": {}
      },
      "source": [
        "line_count = 0                            # line count to print header back to target file\n",
        "with open('multivalues.out', 'wt') as csv_file:  \n",
        "  file_writer= csv.writer(csv_file, delimiter=',', quotechar='\"', quoting=csv.QUOTE_MINIMAL)\n",
        "  if line_count == 0:\n",
        "    file_writer.writerow(header)          # writing header, header is List \n",
        "    line_count += 1\n",
        "  for key in d2:                          # reading key value from dict whihc is primary key\n",
        "    row = key, ('|'.join(str(e) for e in d2[key])), \\   # making dict values as generator \n",
        "               ('|'.join(str(e) for e in sorted(d3[key]))), \\  # soting the output and concatinate with | \n",
        "               ('|'.join(str(e) for e in d4[key]))\n",
        "    file_writer.writerow(row)             # writing data to target file"
      ],
      "execution_count": 0,
      "outputs": []
    },
    {
      "cell_type": "code",
      "metadata": {
        "id": "cZHYWm6EF1g1",
        "colab_type": "code",
        "outputId": "63846a9b-041a-48d3-b2ff-7d75cee9f645",
        "colab": {
          "base_uri": "https://localhost:8080/",
          "height": 87
        }
      },
      "source": [
        "cat multivalues.out"
      ],
      "execution_count": 0,
      "outputs": [
        {
          "output_type": "stream",
          "text": [
            "col1,col2,col3,col4\r\n",
            "1,x1,y1|y2|y3,z1\r\n",
            "2,x2,y2,z2\r\n",
            "3,x3,y3,z3\r\n"
          ],
          "name": "stdout"
        }
      ]
    },
    {
      "cell_type": "markdown",
      "metadata": {
        "id": "5mNHlObGoRXE",
        "colab_type": "text"
      },
      "source": [
        "solving problem with pandas:"
      ]
    },
    {
      "cell_type": "code",
      "metadata": {
        "id": "WxPIeU66GA8c",
        "colab_type": "code",
        "colab": {}
      },
      "source": [
        "import csv\n",
        "import pandas as pd\n",
        "\n",
        "csv_read = pd.read_csv('multivalues.csv', names = ['col1','col2','col3','col4'], header = 0)\n",
        "df = pd.DataFrame(csv_read)\n",
        "df = df.sort_values('col3')\n",
        "df = df.groupby(['col1','col2','col4'])['col3'].apply(lambda x: '|'.join(x)).reset_index()\n",
        "df = df[['col1','col2','col3','col4']]\n",
        "\n",
        "df.to_csv('multivalues_pd.out', mode ='w', index=False,header=True)"
      ],
      "execution_count": 0,
      "outputs": []
    },
    {
      "cell_type": "code",
      "metadata": {
        "id": "9mCqzcJxoYn2",
        "colab_type": "code",
        "colab": {
          "base_uri": "https://localhost:8080/",
          "height": 87
        },
        "outputId": "badec971-1883-4c69-82fe-c1cb8dcc4943"
      },
      "source": [
        "cat multivalues_pd.out"
      ],
      "execution_count": 9,
      "outputs": [
        {
          "output_type": "stream",
          "text": [
            "col1,col2,col3,col4\n",
            "1,x1,y1|y1|y2|y3,z1\n",
            "2,x2,y2,z2\n",
            "3,x3,y3,z3\n"
          ],
          "name": "stdout"
        }
      ]
    },
    {
      "cell_type": "code",
      "metadata": {
        "id": "k-Ndryympq9L",
        "colab_type": "code",
        "colab": {}
      },
      "source": [
        ""
      ],
      "execution_count": 0,
      "outputs": []
    }
  ]
}