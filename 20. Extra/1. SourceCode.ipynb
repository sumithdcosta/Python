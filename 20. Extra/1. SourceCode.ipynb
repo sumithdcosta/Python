{
  "nbformat": 4,
  "nbformat_minor": 0,
  "metadata": {
    "colab": {
      "name": "Untitled62.ipynb",
      "provenance": [],
      "include_colab_link": true
    },
    "kernelspec": {
      "name": "python3",
      "display_name": "Python 3"
    }
  },
  "cells": [
    {
      "cell_type": "markdown",
      "metadata": {
        "id": "view-in-github",
        "colab_type": "text"
      },
      "source": [
        "<a href=\"https://colab.research.google.com/github/sumithdcosta/Python/blob/master/20.%20Extra/1.%20SourceCode.ipynb\" target=\"_parent\"><img src=\"https://colab.research.google.com/assets/colab-badge.svg\" alt=\"Open In Colab\"/></a>"
      ]
    },
    {
      "cell_type": "markdown",
      "metadata": {
        "id": "16xh7md1wnqM",
        "colab_type": "text"
      },
      "source": [
        "20. Extra/1. SourceCode.ipynb"
      ]
    },
    {
      "cell_type": "markdown",
      "metadata": {
        "id": "MhVFTWjQwmg0",
        "colab_type": "text"
      },
      "source": [
        "https://opensource.com/article/18/5/how-retrieve-source-code-python-functions"
      ]
    },
    {
      "cell_type": "markdown",
      "metadata": {
        "id": "rhncJGtqwrtC",
        "colab_type": "text"
      },
      "source": [
        "**How to retrieve source code of Python functions**\n",
        "\n",
        "Learn to use the inspect and dill libraries to access Python functions' source code.\n",
        "\n",
        "Sometimes we want to know what some functions' source codes look like or where they are, or we need to manipulate the source codes as character strings. In such cases, we need to have a convenient way to retrieve our Python functions' source codes.\n",
        "\n",
        "There are two Python libraries that may help:\n",
        "* inspect is a built-in standard library\n",
        "* dill is a third-party library\n",
        "\n",
        "**inspect**\n",
        "\n",
        "inspect is a built-in library. It's already there after you install Python on your computer. The inspect module provides several useful functions to help you get information about live objects, such as modules, classes, methods,  functions, tracebacks, frame objects, and code objects. Among its many features, its capability to retrieve the  source code of functions stands out.\n",
        "\n"
      ]
    },
    {
      "cell_type": "code",
      "metadata": {
        "id": "yE7mQKkNxHWa",
        "colab_type": "code",
        "colab": {
          "base_uri": "https://localhost:8080/",
          "height": 34
        },
        "outputId": "aac0d509-34f7-45f1-d4e2-ed7c7f4071f2"
      },
      "source": [
        "import pandas\n",
        "import inspect\n",
        "\n",
        "source_DF = inspect.getsource(pandas.DataFrame)\n",
        "print(type(source_DF))"
      ],
      "execution_count": 2,
      "outputs": [
        {
          "output_type": "stream",
          "text": [
            "<class 'str'>\n"
          ],
          "name": "stdout"
        }
      ]
    },
    {
      "cell_type": "code",
      "metadata": {
        "id": "ZjJj2W0nxKPa",
        "colab_type": "code",
        "colab": {
          "base_uri": "https://localhost:8080/",
          "height": 34
        },
        "outputId": "94e3c468-0353-4933-e45f-c909c7e32bfa"
      },
      "source": [
        "print(len(source_DF))"
      ],
      "execution_count": 3,
      "outputs": [
        {
          "output_type": "stream",
          "text": [
            "283063\n"
          ],
          "name": "stdout"
        }
      ]
    },
    {
      "cell_type": "code",
      "metadata": {
        "id": "hbyIP7UtzuB3",
        "colab_type": "code",
        "colab": {
          "base_uri": "https://localhost:8080/",
          "height": 204
        },
        "outputId": "2e15bed1-10a7-41df-8572-624650b66655"
      },
      "source": [
        "print(source_DF[:500])"
      ],
      "execution_count": 6,
      "outputs": [
        {
          "output_type": "stream",
          "text": [
            "class DataFrame(NDFrame):\n",
            "    \"\"\"\n",
            "    Two-dimensional size-mutable, potentially heterogeneous tabular data\n",
            "    structure with labeled axes (rows and columns). Arithmetic operations\n",
            "    align on both row and column labels. Can be thought of as a dict-like\n",
            "    container for Series objects. The primary pandas data structure.\n",
            "\n",
            "    Parameters\n",
            "    ----------\n",
            "    data : ndarray (structured or homogeneous), Iterable, dict, or DataFrame\n",
            "        Dict can contain Series, arrays, constants, or list-like obj\n"
          ],
          "name": "stdout"
        }
      ]
    },
    {
      "cell_type": "code",
      "metadata": {
        "id": "uIQN48Ciz_Ff",
        "colab_type": "code",
        "colab": {
          "base_uri": "https://localhost:8080/",
          "height": 34
        },
        "outputId": "07fa46de-fa02-4e71-9196-fb44067f2d55"
      },
      "source": [
        "source_file_DF = inspect.getsourcefile(pandas.DataFrame)\n",
        "print(source_file_DF)\n"
      ],
      "execution_count": 11,
      "outputs": [
        {
          "output_type": "stream",
          "text": [
            "/usr/local/lib/python3.6/dist-packages/pandas/core/frame.py\n"
          ],
          "name": "stdout"
        }
      ]
    },
    {
      "cell_type": "code",
      "metadata": {
        "id": "PN2Fic9Kzx23",
        "colab_type": "code",
        "colab": {
          "base_uri": "https://localhost:8080/",
          "height": 68
        },
        "outputId": "a9e62d04-2a3a-452b-d3d9-b0b8593ba42b"
      },
      "source": [
        "sourcelines_DF = inspect.getsourcelines(pandas.DataFrame)\n",
        "print(type(sourcelines_DF))\n",
        "print(len(sourcelines_DF))\n",
        "print(type(sourcelines_DF[0]))"
      ],
      "execution_count": 9,
      "outputs": [
        {
          "output_type": "stream",
          "text": [
            "<class 'tuple'>\n",
            "2\n",
            "<class 'list'>\n"
          ],
          "name": "stdout"
        }
      ]
    },
    {
      "cell_type": "code",
      "metadata": {
        "id": "1htAj6270R6Y",
        "colab_type": "code",
        "colab": {
          "base_uri": "https://localhost:8080/",
          "height": 85
        },
        "outputId": "5b1ca71b-e57f-4b1d-916f-1740737f2262"
      },
      "source": [
        "def test(x):\n",
        "\n",
        "   return x*2\n",
        "\n",
        "print(inspect.getsource(test))"
      ],
      "execution_count": 12,
      "outputs": [
        {
          "output_type": "stream",
          "text": [
            "def test(x):\n",
            "\n",
            "   return x*2\n",
            "\n"
          ],
          "name": "stdout"
        }
      ]
    },
    {
      "cell_type": "code",
      "metadata": {
        "id": "cnB7x_be0SU-",
        "colab_type": "code",
        "colab": {
          "base_uri": "https://localhost:8080/",
          "height": 34
        },
        "outputId": "d6bc0823-4ed0-490b-b468-fdd0f4f899c7"
      },
      "source": [
        "print(inspect.getsourcefile(test))"
      ],
      "execution_count": 13,
      "outputs": [
        {
          "output_type": "stream",
          "text": [
            "<ipython-input-12-60f106dae24c>\n"
          ],
          "name": "stdout"
        }
      ]
    },
    {
      "cell_type": "code",
      "metadata": {
        "id": "ofg97oxu0YHs",
        "colab_type": "code",
        "colab": {
          "base_uri": "https://localhost:8080/",
          "height": 34
        },
        "outputId": "57ae7fb9-d639-4bb7-89de-d1a711293879"
      },
      "source": [
        "print(inspect.getsourcelines(test))"
      ],
      "execution_count": 14,
      "outputs": [
        {
          "output_type": "stream",
          "text": [
            "(['def test(x): return x*2\\n'], 6)\n"
          ],
          "name": "stdout"
        }
      ]
    },
    {
      "cell_type": "markdown",
      "metadata": {
        "id": "zD3UyHDK0huU",
        "colab_type": "text"
      },
      "source": [
        "Note that retrieving source codes of self-defined functions only works in IPython or Jupyter. \n",
        "If we are using plain Python and define a function interactively, we will encounter error IOError: could not get source code and will not be able to retrieve the source code. This is because its setting only supports objects loaded from files, not interactive sessions."
      ]
    },
    {
      "cell_type": "code",
      "metadata": {
        "id": "U6Pdzewt0abt",
        "colab_type": "code",
        "colab": {}
      },
      "source": [
        ""
      ],
      "execution_count": 0,
      "outputs": []
    }
  ]
}