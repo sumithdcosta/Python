{
  "nbformat": 4,
  "nbformat_minor": 0,
  "metadata": {
    "colab": {
      "name": "Untitled65.ipynb",
      "provenance": [],
      "include_colab_link": true
    },
    "kernelspec": {
      "name": "python3",
      "display_name": "Python 3"
    }
  },
  "cells": [
    {
      "cell_type": "markdown",
      "metadata": {
        "id": "view-in-github",
        "colab_type": "text"
      },
      "source": [
        "<a href=\"https://colab.research.google.com/github/sumithdcosta/Python/blob/master/9.%20Methods/Main.ipynb\" target=\"_parent\"><img src=\"https://colab.research.google.com/assets/colab-badge.svg\" alt=\"Open In Colab\"/></a>"
      ]
    },
    {
      "cell_type": "markdown",
      "metadata": {
        "id": "0xWXHW_xk696",
        "colab_type": "text"
      },
      "source": [
        "9. Methods/Main.ipynb"
      ]
    },
    {
      "cell_type": "markdown",
      "metadata": {
        "id": "XZCwx3VDkEWZ",
        "colab_type": "text"
      },
      "source": [
        "**Main Function**\n",
        "\n",
        "**A Basic Python main()**"
      ]
    },
    {
      "cell_type": "code",
      "metadata": {
        "id": "vkx5Y3mpkDUE",
        "colab_type": "code",
        "colab": {
          "base_uri": "https://localhost:8080/",
          "height": 34
        },
        "outputId": "ef6ee14d-275d-4304-a43f-476783ae10db"
      },
      "source": [
        "def main():\n",
        "    print(\"Hello World!\")\n",
        "\n",
        "if __name__ == \"__main__\":\n",
        "    main()"
      ],
      "execution_count": 1,
      "outputs": [
        {
          "output_type": "stream",
          "text": [
            "Hello World!\n"
          ],
          "name": "stdout"
        }
      ]
    },
    {
      "cell_type": "markdown",
      "metadata": {
        "id": "UzV9GTYGlJJB",
        "colab_type": "text"
      },
      "source": [
        "In this code, there is a function called main() that prints the phrase Hello World! when the Python interpreter executes it. There is also a conditional (or if) statement that checks the value of \\_\\_name__ and compares it to the string \"\\_\\_main__\". When the if statement evaluates to True, the Python interpreter executes main()."
      ]
    },
    {
      "cell_type": "markdown",
      "metadata": {
        "id": "A8u0OR0Zla8B",
        "colab_type": "text"
      },
      "source": [
        "**Execution Modes in Python**\n",
        "There are two primary ways that you can instruct the Python interpreter to execute or use code:\n",
        "\n",
        "1. You can execute the Python file as a script using the command line.\n",
        "2. You can import the code from one Python file into another file or into the interactive interpreter.\n",
        "\n",
        "Python defines a special variable called __name__ that contains a string whose value depends on how the code is being used."
      ]
    },
    {
      "cell_type": "markdown",
      "metadata": {
        "id": "aw6dPzzml0CN",
        "colab_type": "text"
      },
      "source": [
        "We’ll use this example file, saved as execution_methods.py, to explore how the behavior of the code changes depending on the context:"
      ]
    },
    {
      "cell_type": "code",
      "metadata": {
        "id": "KLF94dELk_gi",
        "colab_type": "code",
        "colab": {
          "base_uri": "https://localhost:8080/",
          "height": 34
        },
        "outputId": "3a698cc1-f6f1-4789-e982-9d5a0b28bf12"
      },
      "source": [
        "%%writefile execution_methods.py\n",
        "print(\"This is my file to test Python's execution methods.\")\n",
        "print(\"The variable __name__ tells me which context this file is running in.\")\n",
        "print(\"The value of __name__ is:\", repr(__name__))"
      ],
      "execution_count": 12,
      "outputs": [
        {
          "output_type": "stream",
          "text": [
            "Writing execution_methods.py\n"
          ],
          "name": "stdout"
        }
      ]
    },
    {
      "cell_type": "code",
      "metadata": {
        "id": "bPpZNlSRnT-g",
        "colab_type": "code",
        "colab": {
          "base_uri": "https://localhost:8080/",
          "height": 70
        },
        "outputId": "3fde0121-a19d-430a-e4a4-60178265d758"
      },
      "source": [
        "!cat execution_methods.py"
      ],
      "execution_count": 22,
      "outputs": [
        {
          "output_type": "stream",
          "text": [
            "print(\"This is my file to test Python's execution methods.\")\n",
            "print(\"The variable __name__ tells me which context this file is running in.\")\n",
            "print(\"The value of __name__ is:\", repr(__name__))"
          ],
          "name": "stdout"
        }
      ]
    },
    {
      "cell_type": "code",
      "metadata": {
        "id": "TV7bDdw2l4vz",
        "colab_type": "code",
        "colab": {
          "base_uri": "https://localhost:8080/",
          "height": 70
        },
        "outputId": "b9583b69-acc8-40b0-fee7-455007e51e3b"
      },
      "source": [
        "!python execution_methods.py"
      ],
      "execution_count": 21,
      "outputs": [
        {
          "output_type": "stream",
          "text": [
            "This is my file to test Python's execution methods.\n",
            "The variable __name__ tells me which context this file is running in.\n",
            "The value of __name__ is: '__main__'\n"
          ],
          "name": "stdout"
        }
      ]
    },
    {
      "cell_type": "markdown",
      "metadata": {
        "id": "GwzytGt4mA6B",
        "colab_type": "text"
      },
      "source": [
        "In this file, there are three calls to print() defined. The first two print some introductory phrases. The third print() will first print the phrase The value of __name__ is, and then it will print the representation of the __name__ variable using Python’s built-in repr().\n",
        "\n",
        "In Python, repr() displays the printable representation of an object. This example uses repr() to emphasize that the value of __name__ is a string."
      ]
    },
    {
      "cell_type": "markdown",
      "metadata": {
        "id": "PW22ZigNqCKt",
        "colab_type": "text"
      },
      "source": [
        "**Importing Into a Module or the Interactive Interpreter**\n",
        "\n",
        "imports: When you are developing a module or script, you will most likely want to take advantage of modules that someone else has already built, which you can do with the import keyword.\n",
        "\n",
        "During the import process, Python executes the statements defined in the specified module."
      ]
    },
    {
      "cell_type": "code",
      "metadata": {
        "id": "vyYbolXrqCd4",
        "colab_type": "code",
        "colab": {
          "base_uri": "https://localhost:8080/",
          "height": 70
        },
        "outputId": "015d8d7c-1e81-4c21-fef5-8966838b74d2"
      },
      "source": [
        "import execution_methods"
      ],
      "execution_count": 23,
      "outputs": [
        {
          "output_type": "stream",
          "text": [
            "This is my file to test Python's execution methods.\n",
            "The variable __name__ tells me which context this file is running in.\n",
            "The value of __name__ is: 'execution_methods'\n"
          ],
          "name": "stdout"
        }
      ]
    },
    {
      "cell_type": "markdown",
      "metadata": {
        "id": "R0JXTmWUrBMC",
        "colab_type": "text"
      },
      "source": [
        "In this code output, you can see that the Python interpreter executes the three calls to print(). The first two lines of output are exactly the same as when you executed the file as a script on the command line because there are no variables in either of the first two lines. However, there is a difference in the output from the third print().\n",
        "\n",
        "When the Python interpreter imports code, the value of \\_\\_name__ is set to be the same as the name of the module that is being imported. You can see this in the third line of output above. \\_\\_name__ has the value 'execution_methods', which is the name of the .py file that Python is importing from."
      ]
    },
    {
      "cell_type": "code",
      "metadata": {
        "id": "RoF9xe6tqCtv",
        "colab_type": "code",
        "colab": {}
      },
      "source": [
        ""
      ],
      "execution_count": 0,
      "outputs": []
    }
  ]
}