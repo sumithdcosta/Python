{
  "nbformat": 4,
  "nbformat_minor": 0,
  "metadata": {
    "colab": {
      "name": "Untitled64.ipynb",
      "provenance": [],
      "include_colab_link": true
    },
    "kernelspec": {
      "name": "python3",
      "display_name": "Python 3"
    }
  },
  "cells": [
    {
      "cell_type": "markdown",
      "metadata": {
        "id": "view-in-github",
        "colab_type": "text"
      },
      "source": [
        "<a href=\"https://colab.research.google.com/github/sumithdcosta/Python/blob/master/9.%20Methods/Super.ipynb\" target=\"_parent\"><img src=\"https://colab.research.google.com/assets/colab-badge.svg\" alt=\"Open In Colab\"/></a>"
      ]
    },
    {
      "cell_type": "markdown",
      "metadata": {
        "id": "XfLEtHyuDJsZ",
        "colab_type": "text"
      },
      "source": [
        "9. Methods/Super.ipynb"
      ]
    },
    {
      "cell_type": "markdown",
      "metadata": {
        "id": "l1uc2navDvEN",
        "colab_type": "text"
      },
      "source": [
        "**An Overview of Python’s super() Function**\n",
        "\n",
        "super() gives you access to methods in a superclass from the subclass that inherits from it.super() alone returns a temporary object of the superclass that then allows you to call that superclass’s methods.a common use case is building classes that extend the functionality of previously built classes.\n",
        "\n",
        "Calling the previously built methods with super() saves you from needing to rewrite those methods in your subclass, and allows you to swap out superclasses with minimal code changes."
      ]
    },
    {
      "cell_type": "markdown",
      "metadata": {
        "id": "ZDQ5AQE4EXp9",
        "colab_type": "text"
      },
      "source": [
        "**super() in Single Inheritance**\n",
        "\n",
        " Inheritance is a concept in object-oriented programming in which a class derives (or inherits) attributes and behaviors from another class without needing to implement them again."
      ]
    },
    {
      "cell_type": "code",
      "metadata": {
        "id": "i7VF89vpDI3o",
        "colab_type": "code",
        "colab": {}
      },
      "source": [
        "class Rectangle:\n",
        "    def __init__(self, length, width):\n",
        "        self.length = length\n",
        "        self.width = width\n",
        "\n",
        "    def area(self):\n",
        "        return self.length * self.width\n",
        "\n",
        "    def perimeter(self):\n",
        "        return 2 * self.length + 2 * self.width\n",
        "\n",
        "# Here we declare that the Square class inherits from the Rectangle class\n",
        "class Square(Rectangle):\n",
        "    def __init__(self, length):\n",
        "        super().__init__(length, length)\n"
      ],
      "execution_count": 0,
      "outputs": []
    },
    {
      "cell_type": "markdown",
      "metadata": {
        "id": "0FKHc3yqE5cu",
        "colab_type": "text"
      },
      "source": [
        "you’ve used super() to call the __init__() of the Rectangle class, allowing you to use it in the Square class without repeating code. Below, the core functionality remains after making changes:"
      ]
    },
    {
      "cell_type": "code",
      "metadata": {
        "id": "ZJi0dWm-FAjN",
        "colab_type": "code",
        "colab": {
          "base_uri": "https://localhost:8080/",
          "height": 34
        },
        "outputId": "9edb4eb6-e259-452a-8944-3e561828e9ec"
      },
      "source": [
        "square = Square(4)\n",
        "square.area()"
      ],
      "execution_count": 3,
      "outputs": [
        {
          "output_type": "execute_result",
          "data": {
            "text/plain": [
              "16"
            ]
          },
          "metadata": {
            "tags": []
          },
          "execution_count": 3
        }
      ]
    },
    {
      "cell_type": "markdown",
      "metadata": {
        "id": "1oRXD71XGKeX",
        "colab_type": "text"
      },
      "source": [
        "In this example, Rectangle is the superclass, and Square is the subclass.\n",
        "\n",
        "Because the Square and Rectangle .__init__() methods are so similar, you can simply call the superclass’s .__init__() method (Rectangle.__init__()) from that of Square by using super(). This sets the .length and .width attributes even though you just had to supply a single length parameter to the Square constructor.\n",
        "\n",
        "When you run this, even though your Square class doesn’t explicitly implement it, the call to .area() will use the .area() method in the superclass and print 16. The Square class inherited .area() from the Rectangle class."
      ]
    },
    {
      "cell_type": "markdown",
      "metadata": {
        "id": "CEa_yQz9Lpq1",
        "colab_type": "text"
      },
      "source": [
        "**hat can super() do**\n",
        "\n",
        "Like in other object-oriented languages, it allows you to call methods of the superclass in your subclass. The primary use case of this is to extend the functionality of the inherited method.\n",
        "\n",
        "In the example below, you will create a class Cube that inherits from Square and extends the functionality of .area() (inherited from the Rectangle class through Square) to calculate the surface area and volume of a Cube instance:"
      ]
    },
    {
      "cell_type": "code",
      "metadata": {
        "id": "pLRX5R9JFB-O",
        "colab_type": "code",
        "colab": {}
      },
      "source": [
        "class Rectangle:\n",
        "    def __init__(self, length, width):\n",
        "        self.length = length\n",
        "        self.width = width\n",
        "\n",
        "    def area(self):\n",
        "        return self.length * self.width\n",
        "\n",
        "class Square(Rectangle):\n",
        "    def __init__(self, length):\n",
        "        super().__init__(length, length)\n",
        "\n",
        "class Cube(Square):\n",
        "    def surface_area(self):\n",
        "        face_area = super().area()\n",
        "        return face_area * 6\n",
        "\n",
        "    def volume(self):\n",
        "        face_area = super().area()\n",
        "        return face_area * self.length"
      ],
      "execution_count": 0,
      "outputs": []
    },
    {
      "cell_type": "markdown",
      "metadata": {
        "id": "ieqUc5o5MD-W",
        "colab_type": "text"
      },
      "source": [
        "Now that you’ve built the classes, let’s look at the surface area and volume of a cube with a side length of 3:"
      ]
    },
    {
      "cell_type": "code",
      "metadata": {
        "id": "65J6Aw1sMFMV",
        "colab_type": "code",
        "colab": {
          "base_uri": "https://localhost:8080/",
          "height": 34
        },
        "outputId": "5d5f0b65-d606-4d77-a7b8-c91a39b03e9b"
      },
      "source": [
        "cube = Cube(3)\n",
        "cube.surface_area()"
      ],
      "execution_count": 10,
      "outputs": [
        {
          "output_type": "execute_result",
          "data": {
            "text/plain": [
              "54"
            ]
          },
          "metadata": {
            "tags": []
          },
          "execution_count": 10
        }
      ]
    },
    {
      "cell_type": "code",
      "metadata": {
        "id": "PNct0Z_4MIe-",
        "colab_type": "code",
        "colab": {
          "base_uri": "https://localhost:8080/",
          "height": 34
        },
        "outputId": "70b44334-15c0-4590-f504-6ecfc3ec8198"
      },
      "source": [
        "cube.volume()"
      ],
      "execution_count": 11,
      "outputs": [
        {
          "output_type": "execute_result",
          "data": {
            "text/plain": [
              "27"
            ]
          },
          "metadata": {
            "tags": []
          },
          "execution_count": 11
        }
      ]
    },
    {
      "cell_type": "markdown",
      "metadata": {
        "id": "5Jx1VEIGMUqs",
        "colab_type": "text"
      },
      "source": [
        "***Caution***: Note that in our example above, super() alone won’t make the method calls for you: you have to call the method on the proxy object itself."
      ]
    },
    {
      "cell_type": "markdown",
      "metadata": {
        "id": "G5MKaFztMplC",
        "colab_type": "text"
      },
      "source": [
        "Here you have implemented two methods for the Cube class: .surface_area() and .volume(). Both of these calculations rely on calculating the area of a single face, so rather than reimplementing the area calculation, you use super() to extend the area calculation.\n",
        "\n",
        "Also notice that the Cube class definition does not have an .__init__(). Because Cube inherits from Square and .__init__() doesn’t really do anything differently for Cube than it already does for Square, you can skip defining it, and the .__init__() of the superclass (Square) will be called automatically.\n",
        "\n",
        "super() returns a delegate object to a parent class, so you call the method you want directly on it: super().area().\n",
        "\n",
        "Not only does this save us from having to rewrite the area calculations, but it also allows us to change the internal .area() logic in a single location. This is especially in handy when you have a number of subclasses inheriting from one superclass."
      ]
    },
    {
      "cell_type": "markdown",
      "metadata": {
        "id": "SBlzPB_VNBQp",
        "colab_type": "text"
      },
      "source": [
        "**A super() Deep Dive**\n",
        "\n",
        "*mechanics of super().*\n",
        "\n",
        "While the examples above (and below) call super() without any parameters, super() can also take two parameters: the first is the subclass, and the second parameter is an object that is an instance of that subclass.\n",
        "\n",
        "First, let’s see two examples showing what manipulating the first variable can do, using the classes already shown:"
      ]
    },
    {
      "cell_type": "code",
      "metadata": {
        "id": "Sv3SLgt_MPuT",
        "colab_type": "code",
        "colab": {}
      },
      "source": [
        "class Rectangle:\n",
        "    def __init__(self, length, width):\n",
        "        self.length = length\n",
        "        self.width = width\n",
        "\n",
        "    def area(self):\n",
        "        return self.length * self.width\n",
        "\n",
        "    def perimeter(self):\n",
        "        return 2 * self.length + 2 * self.width\n",
        "\n",
        "class Square(Rectangle):\n",
        "    def __init__(self, length):\n",
        "        super(Square, self).__init__(length, length)"
      ],
      "execution_count": 0,
      "outputs": []
    },
    {
      "cell_type": "markdown",
      "metadata": {
        "id": "alqikIhaNfTp",
        "colab_type": "text"
      },
      "source": [
        "In Python 3, the super(Square, self) call is equivalent to the parameterless super() call. The first parameter refers to the subclass Square, while the second parameter refers to a Square object which, in this case, is self. You can call super() with other classes as well:"
      ]
    },
    {
      "cell_type": "code",
      "metadata": {
        "id": "WDuu8jSFNm4v",
        "colab_type": "code",
        "colab": {}
      },
      "source": [
        "class Cube(Square):\n",
        "    def surface_area(self):\n",
        "        face_area = super(Square, self).area()\n",
        "        return face_area * 6\n",
        "\n",
        "    def volume(self):\n",
        "        face_area = super(Square, self).area()\n",
        "        return face_area * self.length"
      ],
      "execution_count": 0,
      "outputs": []
    },
    {
      "cell_type": "markdown",
      "metadata": {
        "id": "Axh9HWR7N3-G",
        "colab_type": "text"
      },
      "source": [
        "In this example, you are setting Square as the subclass argument to super(), instead of Cube. This causes super() to start searching for a matching method (in this case, .area()) at one level above Square in the instance hierarchy, in this case Rectangle.\n",
        "\n",
        "In this specific example, the behavior doesn’t change. But imagine that Square also implemented an .area() function that you wanted to make sure Cube did not use. Calling super() in this way allows you to do that."
      ]
    },
    {
      "cell_type": "markdown",
      "metadata": {
        "id": "AnvLArWTN_8L",
        "colab_type": "text"
      },
      "source": [
        "*Caution:* While we are doing a lot of fiddling with the parameters to super() in order to explore how it works under the hood, I’d caution against doing this regularly.\n",
        "\n",
        "The parameterless call to super() is recommended and sufficient for most use cases, and needing to change the search hierarchy regularly could be indicative of a larger design issue."
      ]
    },
    {
      "cell_type": "markdown",
      "metadata": {
        "id": "FNPrds1bOMfk",
        "colab_type": "text"
      },
      "source": [
        "What about the second parameter? Remember, this is an object that is an instance of the class used as the first parameter. For an example, isinstance(Cube, Square) must return True.\n",
        "\n",
        "By including an instantiated object, super() returns a bound method: a method that is bound to the object, which gives the method the object’s context such as any instance attributes. If this parameter is not included, the method returned is just a function, unassociated with an object’s context.\n",
        "\n",
        "For more information about bound methods, unbound methods, and functions, read the Python documentation on its descriptor system.\n",
        "\n",
        "**Note**: Technically, super() doesn’t return a method. It returns a proxy object. This is an object that delegates calls to the correct class methods without making an additional object in order to do so."
      ]
    },
    {
      "cell_type": "markdown",
      "metadata": {
        "id": "vbzSSM5aOsdL",
        "colab_type": "text"
      },
      "source": [
        "**super() in Multiple Inheritance**\n",
        "\n",
        "subclass can inherit from multiple superclasses that don’t necessarily inherit from each other (also known as sibling classes)."
      ]
    },
    {
      "cell_type": "code",
      "metadata": {
        "id": "QUGATdXbOr9p",
        "colab_type": "code",
        "colab": {}
      },
      "source": [
        "class Rectangle:\n",
        "    def __init__(self, length, width):\n",
        "        self.length = length\n",
        "        self.width = width\n",
        "\n",
        "    def area(self):\n",
        "        return self.length * self.width\n",
        "\n",
        "    def perimeter(self):\n",
        "        return 2 * self.length + 2 * self.width\n",
        "\n",
        "class Square(Rectangle):\n",
        "    def __init__(self, length):\n",
        "        super(Square, self).__init__(length, length)\n",
        "\n",
        "class Triangle:\n",
        "    def __init__(self, base, height):\n",
        "        self.base = base\n",
        "        self.height = height\n",
        "\n",
        "    def area(self):\n",
        "        return 0.5 * self.base * self.height\n",
        "\n",
        "class RightPyramid(Triangle, Square):\n",
        "    def __init__(self, base, slant_height):\n",
        "        self.base = base\n",
        "        self.slant_height = slant_height\n",
        "\n",
        "    def area(self):\n",
        "        base_area = super().area()\n",
        "        perimeter = super().perimeter()\n",
        "        return 0.5 * perimeter * self.slant_height + base_area"
      ],
      "execution_count": 0,
      "outputs": []
    },
    {
      "cell_type": "markdown",
      "metadata": {
        "id": "M8AxQq7IP7nl",
        "colab_type": "text"
      },
      "source": [
        "This example declares a Triangle class and a RightPyramid class that inherits from both Square and Triangle.\n",
        "\n",
        "You’ll see another .area() method that uses super() just like in single inheritance, with the aim of it reaching the .perimeter() and .area() methods defined all the way up in the Rectangle class.\n",
        "\n",
        "The problem, though, is that both superclasses (Triangle and Square) define a .area(). Take a second and think about what might happen when you call .area() on RightPyramid, and then try calling it like below:"
      ]
    },
    {
      "cell_type": "code",
      "metadata": {
        "id": "2gSPR4v7P1gP",
        "colab_type": "code",
        "colab": {
          "base_uri": "https://localhost:8080/",
          "height": 323
        },
        "outputId": "6c6279c6-9719-475a-f63c-52af3616c7e1"
      },
      "source": [
        "pyramid = RightPyramid(2, 4)\n",
        "pyramid.area()"
      ],
      "execution_count": 15,
      "outputs": [
        {
          "output_type": "error",
          "ename": "AttributeError",
          "evalue": "ignored",
          "traceback": [
            "\u001b[0;31m---------------------------------------------------------------------------\u001b[0m",
            "\u001b[0;31mAttributeError\u001b[0m                            Traceback (most recent call last)",
            "\u001b[0;32m<ipython-input-15-bc97e396aa36>\u001b[0m in \u001b[0;36m<module>\u001b[0;34m()\u001b[0m\n\u001b[1;32m      1\u001b[0m \u001b[0mpyramid\u001b[0m \u001b[0;34m=\u001b[0m \u001b[0mRightPyramid\u001b[0m\u001b[0;34m(\u001b[0m\u001b[0;36m2\u001b[0m\u001b[0;34m,\u001b[0m \u001b[0;36m4\u001b[0m\u001b[0;34m)\u001b[0m\u001b[0;34m\u001b[0m\u001b[0;34m\u001b[0m\u001b[0m\n\u001b[0;32m----> 2\u001b[0;31m \u001b[0mpyramid\u001b[0m\u001b[0;34m.\u001b[0m\u001b[0marea\u001b[0m\u001b[0;34m(\u001b[0m\u001b[0;34m)\u001b[0m\u001b[0;34m\u001b[0m\u001b[0;34m\u001b[0m\u001b[0m\n\u001b[0m",
            "\u001b[0;32m<ipython-input-13-692a0e6aea70>\u001b[0m in \u001b[0;36marea\u001b[0;34m(self)\u001b[0m\n\u001b[1;32m     28\u001b[0m \u001b[0;34m\u001b[0m\u001b[0m\n\u001b[1;32m     29\u001b[0m     \u001b[0;32mdef\u001b[0m \u001b[0marea\u001b[0m\u001b[0;34m(\u001b[0m\u001b[0mself\u001b[0m\u001b[0;34m)\u001b[0m\u001b[0;34m:\u001b[0m\u001b[0;34m\u001b[0m\u001b[0;34m\u001b[0m\u001b[0m\n\u001b[0;32m---> 30\u001b[0;31m         \u001b[0mbase_area\u001b[0m \u001b[0;34m=\u001b[0m \u001b[0msuper\u001b[0m\u001b[0;34m(\u001b[0m\u001b[0;34m)\u001b[0m\u001b[0;34m.\u001b[0m\u001b[0marea\u001b[0m\u001b[0;34m(\u001b[0m\u001b[0;34m)\u001b[0m\u001b[0;34m\u001b[0m\u001b[0;34m\u001b[0m\u001b[0m\n\u001b[0m\u001b[1;32m     31\u001b[0m         \u001b[0mperimeter\u001b[0m \u001b[0;34m=\u001b[0m \u001b[0msuper\u001b[0m\u001b[0;34m(\u001b[0m\u001b[0;34m)\u001b[0m\u001b[0;34m.\u001b[0m\u001b[0mperimeter\u001b[0m\u001b[0;34m(\u001b[0m\u001b[0;34m)\u001b[0m\u001b[0;34m\u001b[0m\u001b[0;34m\u001b[0m\u001b[0m\n\u001b[1;32m     32\u001b[0m         \u001b[0;32mreturn\u001b[0m \u001b[0;36m0.5\u001b[0m \u001b[0;34m*\u001b[0m \u001b[0mperimeter\u001b[0m \u001b[0;34m*\u001b[0m \u001b[0mself\u001b[0m\u001b[0;34m.\u001b[0m\u001b[0mslant_height\u001b[0m \u001b[0;34m+\u001b[0m \u001b[0mbase_area\u001b[0m\u001b[0;34m\u001b[0m\u001b[0;34m\u001b[0m\u001b[0m\n",
            "\u001b[0;32m<ipython-input-13-692a0e6aea70>\u001b[0m in \u001b[0;36marea\u001b[0;34m(self)\u001b[0m\n\u001b[1;32m     20\u001b[0m \u001b[0;34m\u001b[0m\u001b[0m\n\u001b[1;32m     21\u001b[0m     \u001b[0;32mdef\u001b[0m \u001b[0marea\u001b[0m\u001b[0;34m(\u001b[0m\u001b[0mself\u001b[0m\u001b[0;34m)\u001b[0m\u001b[0;34m:\u001b[0m\u001b[0;34m\u001b[0m\u001b[0;34m\u001b[0m\u001b[0m\n\u001b[0;32m---> 22\u001b[0;31m         \u001b[0;32mreturn\u001b[0m \u001b[0;36m0.5\u001b[0m \u001b[0;34m*\u001b[0m \u001b[0mself\u001b[0m\u001b[0;34m.\u001b[0m\u001b[0mbase\u001b[0m \u001b[0;34m*\u001b[0m \u001b[0mself\u001b[0m\u001b[0;34m.\u001b[0m\u001b[0mheight\u001b[0m\u001b[0;34m\u001b[0m\u001b[0;34m\u001b[0m\u001b[0m\n\u001b[0m\u001b[1;32m     23\u001b[0m \u001b[0;34m\u001b[0m\u001b[0m\n\u001b[1;32m     24\u001b[0m \u001b[0;32mclass\u001b[0m \u001b[0mRightPyramid\u001b[0m\u001b[0;34m(\u001b[0m\u001b[0mTriangle\u001b[0m\u001b[0;34m,\u001b[0m \u001b[0mSquare\u001b[0m\u001b[0;34m)\u001b[0m\u001b[0;34m:\u001b[0m\u001b[0;34m\u001b[0m\u001b[0;34m\u001b[0m\u001b[0m\n",
            "\u001b[0;31mAttributeError\u001b[0m: 'RightPyramid' object has no attribute 'height'"
          ]
        }
      ]
    },
    {
      "cell_type": "markdown",
      "metadata": {
        "id": "9SANxk7RQlRi",
        "colab_type": "text"
      },
      "source": [
        "Did you guess that Python will try to call Triangle.area()? This is because of something called the method resolution order."
      ]
    },
    {
      "cell_type": "markdown",
      "metadata": {
        "id": "jHsR72snQ8bw",
        "colab_type": "text"
      },
      "source": [
        "**Method Resolution Order**\n",
        "\n",
        "The method resolution order (or MRO) tells Python how to search for inherited methods. This comes in handy when you’re using super() because the MRO tells you exactly where Python will look for a method you’re calling with super() and in what order.\n",
        "\n",
        "Every class has an .__mro__ attribute that allows us to inspect the order, so let’s do that:"
      ]
    },
    {
      "cell_type": "code",
      "metadata": {
        "id": "vkl4_KR-QIQ7",
        "colab_type": "code",
        "colab": {
          "base_uri": "https://localhost:8080/",
          "height": 102
        },
        "outputId": "ba1c6b4c-fb2f-46b1-f6b7-be70d1bbcbdd"
      },
      "source": [
        "RightPyramid.__mro__"
      ],
      "execution_count": 16,
      "outputs": [
        {
          "output_type": "execute_result",
          "data": {
            "text/plain": [
              "(__main__.RightPyramid,\n",
              " __main__.Triangle,\n",
              " __main__.Square,\n",
              " __main__.Rectangle,\n",
              " object)"
            ]
          },
          "metadata": {
            "tags": []
          },
          "execution_count": 16
        }
      ]
    },
    {
      "cell_type": "markdown",
      "metadata": {
        "id": "smS6GPNeRnPP",
        "colab_type": "text"
      },
      "source": [
        "This tells us that methods will be searched first in Rightpyramid, then in Triangle, then in Square, then Rectangle, and then, if nothing is found, in object, from which all classes originate.\n",
        "\n",
        "The problem here is that the interpreter is searching for .area() in Triangle before Square and Rectangle, and upon finding .area() in Triangle, Python calls it instead of the one you want. Because Triangle.area() expects there to be a .height and a .base attribute, Python throws an AttributeError.\n",
        "\n",
        "Luckily, you have some control over how the MRO is constructed. Just by changing the signature of the RightPyramid class, you can search in the order you want, and the methods will resolve correctly:"
      ]
    },
    {
      "cell_type": "code",
      "metadata": {
        "id": "Fhv-iKQ8RiBB",
        "colab_type": "code",
        "colab": {}
      },
      "source": [
        "class RightPyramid(Square, Triangle):\n",
        "    def __init__(self, base, slant_height):\n",
        "        self.base = base\n",
        "        self.slant_height = slant_height\n",
        "        super().__init__(self.base)\n",
        "\n",
        "    def area(self):\n",
        "        base_area = super().area()\n",
        "        perimeter = super().perimeter()\n",
        "        return 0.5 * perimeter * self.slant_height + base_area"
      ],
      "execution_count": 0,
      "outputs": []
    },
    {
      "cell_type": "markdown",
      "metadata": {
        "id": "-ZorHp9TR4pY",
        "colab_type": "text"
      },
      "source": [
        "Notice that RightPyramid initializes partially with the .__init__() from the Square class. This allows .area() to use the .length on the object, as is designed.\n",
        "\n",
        "Now, you can build a pyramid, inspect the MRO, and calculate the surface area:"
      ]
    },
    {
      "cell_type": "code",
      "metadata": {
        "id": "7j4ISU-TR4Vw",
        "colab_type": "code",
        "colab": {}
      },
      "source": [
        "pyramid = RightPyramid(2, 4)"
      ],
      "execution_count": 0,
      "outputs": []
    },
    {
      "cell_type": "code",
      "metadata": {
        "id": "aLERuXxER9wo",
        "colab_type": "code",
        "colab": {
          "base_uri": "https://localhost:8080/",
          "height": 102
        },
        "outputId": "8056a48f-91fb-41a8-be28-a8fde686009c"
      },
      "source": [
        "RightPyramid.__mro__"
      ],
      "execution_count": 19,
      "outputs": [
        {
          "output_type": "execute_result",
          "data": {
            "text/plain": [
              "(__main__.RightPyramid,\n",
              " __main__.Square,\n",
              " __main__.Rectangle,\n",
              " __main__.Triangle,\n",
              " object)"
            ]
          },
          "metadata": {
            "tags": []
          },
          "execution_count": 19
        }
      ]
    },
    {
      "cell_type": "code",
      "metadata": {
        "id": "hHugudhtR-0Z",
        "colab_type": "code",
        "colab": {
          "base_uri": "https://localhost:8080/",
          "height": 34
        },
        "outputId": "07a2bfa3-83c5-4f87-a600-cba72b846f0a"
      },
      "source": [
        "pyramid.area()"
      ],
      "execution_count": 20,
      "outputs": [
        {
          "output_type": "execute_result",
          "data": {
            "text/plain": [
              "20.0"
            ]
          },
          "metadata": {
            "tags": []
          },
          "execution_count": 20
        }
      ]
    },
    {
      "cell_type": "markdown",
      "metadata": {
        "id": "oaqX90coSCDG",
        "colab_type": "text"
      },
      "source": [
        "You see that the MRO is now what you’d expect, and you can inspect the area of the pyramid as well, thanks to .area() and .perimeter().\n",
        "\n",
        "There’s still a problem here, though. For the sake of simplicity, I did a few things wrong in this example: the first, and arguably most importantly, was that I had two separate classes with the same method name and signature.\n",
        "\n",
        "This causes issues with method resolution, because the first instance of .area() that is encountered in the MRO list will be called.\n",
        "\n",
        "When you’re using super() with multiple inheritance, it’s imperative to design your classes to cooperate. Part of this is ensuring that your methods are unique so that they get resolved in the MRO, by making sure method signatures are unique—whether by using method names or method parameters.\n",
        "\n",
        "In this case, to avoid a complete overhaul of your code, you can rename the Triangle class’s .area() method to .tri_area(). This way, the area methods can continue using class properties rather than taking external parameters:\n",
        "\n"
      ]
    },
    {
      "cell_type": "code",
      "metadata": {
        "id": "79VJTmtRSAE4",
        "colab_type": "code",
        "colab": {}
      },
      "source": [
        "class Triangle:\n",
        "    def __init__(self, base, height):\n",
        "        self.base = base\n",
        "        self.height = height\n",
        "        super().__init__()\n",
        "\n",
        "    def tri_area(self):\n",
        "        return 0.5 * self.base * self.height"
      ],
      "execution_count": 0,
      "outputs": []
    },
    {
      "cell_type": "markdown",
      "metadata": {
        "id": "ERT4dcBgSax2",
        "colab_type": "text"
      },
      "source": [
        "Let’s also go ahead and use this in the RightPyramid class:"
      ]
    },
    {
      "cell_type": "code",
      "metadata": {
        "id": "sQXQlfX6Scfx",
        "colab_type": "code",
        "colab": {}
      },
      "source": [
        "class RightPyramid(Square, Triangle):\n",
        "    def __init__(self, base, slant_height):\n",
        "        self.base = base\n",
        "        self.slant_height = slant_height\n",
        "        super().__init__(self.base)\n",
        "\n",
        "    def area(self):\n",
        "        base_area = super().area()\n",
        "        perimeter = super().perimeter()\n",
        "        return 0.5 * perimeter * self.slant_height + base_area\n",
        "\n",
        "    def area_2(self):\n",
        "        base_area = super().area()\n",
        "        triangle_area = super().tri_area()\n",
        "        return triangle_area * 4 + base_area"
      ],
      "execution_count": 0,
      "outputs": []
    },
    {
      "cell_type": "markdown",
      "metadata": {
        "id": "cLsGVMLjSnvd",
        "colab_type": "text"
      },
      "source": [
        "The next issue here is that the code doesn’t have a delegated Triangle object like it does for a Square object, so calling .area_2() will give us an AttributeError since .base and .height don’t have any values.\n",
        "\n",
        "You need to do two things to fix this:\n",
        "\n",
        "1. All methods that are called with super() need to have a call to their superclass’s version of that method. This means that you will need to add super().__init__() to the .__init__() methods of Triangle and Rectangle.\n",
        "\n",
        "2. Redesign all the .__init__() calls to take a keyword dictionary. See the complete code below."
      ]
    },
    {
      "cell_type": "code",
      "metadata": {
        "id": "2iDeYDg5SXeB",
        "colab_type": "code",
        "colab": {}
      },
      "source": [
        "class Rectangle:\n",
        "    def __init__(self, length, width, **kwargs):\n",
        "        self.length = length\n",
        "        self.width = width\n",
        "        super().__init__(**kwargs)\n",
        "\n",
        "    def area(self):\n",
        "        return self.length * self.width\n",
        "\n",
        "    def perimeter(self):\n",
        "        return 2 * self.length + 2 * self.width\n",
        "\n",
        "# Here we declare that the Square class inherits from \n",
        "# the Rectangle class\n",
        "class Square(Rectangle):\n",
        "    def __init__(self, length, **kwargs):\n",
        "        super().__init__(length=length, width=length, **kwargs)\n",
        "\n",
        "class Cube(Square):\n",
        "    def surface_area(self):\n",
        "        face_area = super().area()\n",
        "        return face_area * 6\n",
        "\n",
        "    def volume(self):\n",
        "        face_area = super().area()\n",
        "        return face_area * self.length\n",
        "\n",
        "class Triangle:\n",
        "    def __init__(self, base, height, **kwargs):\n",
        "        self.base = base\n",
        "        self.height = height\n",
        "        super().__init__(**kwargs)\n",
        "\n",
        "    def tri_area(self):\n",
        "        return 0.5 * self.base * self.height\n",
        "\n",
        "class RightPyramid(Square, Triangle):\n",
        "    def __init__(self, base, slant_height, **kwargs):\n",
        "        self.base = base\n",
        "        self.slant_height = slant_height\n",
        "        kwargs[\"height\"] = slant_height\n",
        "        kwargs[\"length\"] = base\n",
        "        super().__init__(base=base, **kwargs)\n",
        "\n",
        "    def area(self):\n",
        "        base_area = super().area()\n",
        "        perimeter = super().perimeter()\n",
        "        return 0.5 * perimeter * self.slant_height + base_area\n",
        "\n",
        "    def area_2(self):\n",
        "        base_area = super().area()\n",
        "        triangle_area = super().tri_area()\n",
        "        return triangle_area * 4 + base_area"
      ],
      "execution_count": 0,
      "outputs": []
    },
    {
      "cell_type": "markdown",
      "metadata": {
        "id": "nUAqDvljUMdZ",
        "colab_type": "text"
      },
      "source": [
        "There are a number of important differences in this code:\n",
        "\n",
        "* kwargs is modified in some places (such as RightPyramid.__init__()): This will allow users of these objects to instantiate them only with the arguments that make sense for that particular object.\n",
        "\n",
        "* Setting up named arguments before \\*\\*kwargs: You can see this in RightPyramid.__init__(). This has the neat effect of popping that key right out of the \\*\\*kwargs dictionary, so that by the time that it ends up at the end of the MRO in the object class, \\*\\*kwargs is empty."
      ]
    },
    {
      "cell_type": "code",
      "metadata": {
        "id": "RG2tIZEbUs7b",
        "colab_type": "code",
        "colab": {
          "base_uri": "https://localhost:8080/",
          "height": 34
        },
        "outputId": "8f7b5188-0cd4-483e-aa8d-4acffda146b1"
      },
      "source": [
        "pyramid = RightPyramid(base=2, slant_height=4)\n",
        "pyramid.area()"
      ],
      "execution_count": 28,
      "outputs": [
        {
          "output_type": "execute_result",
          "data": {
            "text/plain": [
              "20.0"
            ]
          },
          "metadata": {
            "tags": []
          },
          "execution_count": 28
        }
      ]
    },
    {
      "cell_type": "code",
      "metadata": {
        "id": "b2z_4oLbUthA",
        "colab_type": "code",
        "colab": {
          "base_uri": "https://localhost:8080/",
          "height": 34
        },
        "outputId": "eb7e744e-c899-4051-8e34-1dff1b0893c3"
      },
      "source": [
        "pyramid.area_2()"
      ],
      "execution_count": 29,
      "outputs": [
        {
          "output_type": "execute_result",
          "data": {
            "text/plain": [
              "20.0"
            ]
          },
          "metadata": {
            "tags": []
          },
          "execution_count": 29
        }
      ]
    },
    {
      "cell_type": "code",
      "metadata": {
        "id": "A9CWSr8oUz9M",
        "colab_type": "code",
        "colab": {
          "base_uri": "https://localhost:8080/",
          "height": 102
        },
        "outputId": "b2e1995c-daf5-48eb-e9de-67f541b5af26"
      },
      "source": [
        "RightPyramid.__mro__"
      ],
      "execution_count": 30,
      "outputs": [
        {
          "output_type": "execute_result",
          "data": {
            "text/plain": [
              "(__main__.RightPyramid,\n",
              " __main__.Square,\n",
              " __main__.Rectangle,\n",
              " __main__.Triangle,\n",
              " object)"
            ]
          },
          "metadata": {
            "tags": []
          },
          "execution_count": 30
        }
      ]
    },
    {
      "cell_type": "markdown",
      "metadata": {
        "id": "yyR6FU-UVjU-",
        "colab_type": "text"
      },
      "source": [
        "**Multiple Inheritance Alternatives**\n",
        "\n",
        "As you can see, multiple inheritance can be useful but also lead to very complicated situations and code that is hard to read. It’s also rare to have objects that neatly inherit everything from more than multiple other objects.\n",
        "\n",
        "If you see yourself beginning to use multiple inheritance and a complicated class hierarchy, it’s worth asking yourself if you can achieve code that is cleaner and easier to understand by using composition instead of inheritance.\n",
        "\n",
        "With composition, you can add very specific functionality to your classes from a specialized, simple class called a mixin."
      ]
    },
    {
      "cell_type": "code",
      "metadata": {
        "id": "Z9lDtD3IU1Un",
        "colab_type": "code",
        "colab": {}
      },
      "source": [
        "class Rectangle:\n",
        "    def __init__(self, length, width):\n",
        "        self.length = length\n",
        "        self.width = width\n",
        "\n",
        "    def area(self):\n",
        "        return self.length * self.width\n",
        "\n",
        "class Square(Rectangle):\n",
        "    def __init__(self, length):\n",
        "        super().__init__(length, length)\n",
        "\n",
        "class VolumeMixin:\n",
        "    def volume(self):\n",
        "        return self.area() * self.height\n",
        "\n",
        "class Cube(VolumeMixin, Square):\n",
        "    def __init__(self, length):\n",
        "        super().__init__(length)\n",
        "        self.height = length\n",
        "\n",
        "    def face_area(self):\n",
        "        return super().area()\n",
        "\n",
        "    def surface_area(self):\n",
        "        return super().area() * 6"
      ],
      "execution_count": 0,
      "outputs": []
    },
    {
      "cell_type": "code",
      "metadata": {
        "id": "8Ip5arSFV1ZB",
        "colab_type": "code",
        "colab": {
          "base_uri": "https://localhost:8080/",
          "height": 34
        },
        "outputId": "7e0e1365-18ee-4319-f4a2-b4761f0eeb8c"
      },
      "source": [
        "cube = Cube(2)\n",
        "cube.surface_area()"
      ],
      "execution_count": 32,
      "outputs": [
        {
          "output_type": "execute_result",
          "data": {
            "text/plain": [
              "24"
            ]
          },
          "metadata": {
            "tags": []
          },
          "execution_count": 32
        }
      ]
    },
    {
      "cell_type": "code",
      "metadata": {
        "id": "EJ2SDQsFV6a5",
        "colab_type": "code",
        "colab": {
          "base_uri": "https://localhost:8080/",
          "height": 34
        },
        "outputId": "014afd05-5c33-4b99-bee1-44201c8b89e5"
      },
      "source": [
        "cube.volume()"
      ],
      "execution_count": 33,
      "outputs": [
        {
          "output_type": "execute_result",
          "data": {
            "text/plain": [
              "8"
            ]
          },
          "metadata": {
            "tags": []
          },
          "execution_count": 33
        }
      ]
    },
    {
      "cell_type": "markdown",
      "metadata": {
        "id": "phNi4eY4WGoY",
        "colab_type": "text"
      },
      "source": [
        "This mixin can be used the same way in any class that has an area defined for it and for which the formula area * height returns the correct volume."
      ]
    },
    {
      "cell_type": "code",
      "metadata": {
        "id": "yXhGWVs8V7kR",
        "colab_type": "code",
        "colab": {}
      },
      "source": [
        ""
      ],
      "execution_count": 0,
      "outputs": []
    }
  ]
}