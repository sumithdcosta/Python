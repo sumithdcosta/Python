{
  "nbformat": 4,
  "nbformat_minor": 0,
  "metadata": {
    "colab": {
      "name": "Untitled73.ipynb",
      "provenance": [],
      "authorship_tag": "ABX9TyNsPsR8I5EFYiM97RtxXB5X",
      "include_colab_link": true
    },
    "kernelspec": {
      "name": "python3",
      "display_name": "Python 3"
    }
  },
  "cells": [
    {
      "cell_type": "markdown",
      "metadata": {
        "id": "view-in-github",
        "colab_type": "text"
      },
      "source": [
        "<a href=\"https://colab.research.google.com/github/sumithdcosta/Python/blob/master/RestApi/01-Chapter/RestApi-Flask.ipynb\" target=\"_parent\"><img src=\"https://colab.research.google.com/assets/colab-badge.svg\" alt=\"Open In Colab\"/></a>"
      ]
    },
    {
      "cell_type": "code",
      "metadata": {
        "id": "XWveIP39GpZQ",
        "colab": {
          "base_uri": "https://localhost:8080/"
        },
        "outputId": "d1a050e2-2f9e-447b-a23c-de8ac38ab0ea"
      },
      "source": [
        "!pip install flask\n",
        "!pip install flask-cors\n",
        "!pip install flask-ngrok\n",
        "!pip install Flask-RESTful\n",
        "!pip install Flask-JWT\n",
        "!pip install "
      ],
      "execution_count": 2,
      "outputs": [
        {
          "output_type": "stream",
          "text": [
            "Requirement already satisfied: flask in /usr/local/lib/python3.7/dist-packages (1.1.2)\n",
            "Requirement already satisfied: itsdangerous>=0.24 in /usr/local/lib/python3.7/dist-packages (from flask) (2.0.0)\n",
            "Requirement already satisfied: Werkzeug>=0.15 in /usr/local/lib/python3.7/dist-packages (from flask) (2.0.0)\n",
            "Requirement already satisfied: Jinja2>=2.10.1 in /usr/local/lib/python3.7/dist-packages (from flask) (2.11.3)\n",
            "Requirement already satisfied: click>=5.1 in /usr/local/lib/python3.7/dist-packages (from flask) (8.0.0)\n",
            "Requirement already satisfied: MarkupSafe>=0.23 in /usr/local/lib/python3.7/dist-packages (from Jinja2>=2.10.1->flask) (2.0.0)\n",
            "Collecting flask-cors\n",
            "  Downloading https://files.pythonhosted.org/packages/db/84/901e700de86604b1c4ef4b57110d4e947c218b9997adf5d38fa7da493bce/Flask_Cors-3.0.10-py2.py3-none-any.whl\n",
            "Requirement already satisfied: Six in /usr/local/lib/python3.7/dist-packages (from flask-cors) (1.15.0)\n",
            "Requirement already satisfied: Flask>=0.9 in /usr/local/lib/python3.7/dist-packages (from flask-cors) (1.1.2)\n",
            "Requirement already satisfied: Jinja2>=2.10.1 in /usr/local/lib/python3.7/dist-packages (from Flask>=0.9->flask-cors) (2.11.3)\n",
            "Requirement already satisfied: Werkzeug>=0.15 in /usr/local/lib/python3.7/dist-packages (from Flask>=0.9->flask-cors) (2.0.0)\n",
            "Requirement already satisfied: itsdangerous>=0.24 in /usr/local/lib/python3.7/dist-packages (from Flask>=0.9->flask-cors) (2.0.0)\n",
            "Requirement already satisfied: click>=5.1 in /usr/local/lib/python3.7/dist-packages (from Flask>=0.9->flask-cors) (8.0.0)\n",
            "Requirement already satisfied: MarkupSafe>=0.23 in /usr/local/lib/python3.7/dist-packages (from Jinja2>=2.10.1->Flask>=0.9->flask-cors) (2.0.0)\n",
            "Installing collected packages: flask-cors\n",
            "Successfully installed flask-cors-3.0.10\n",
            "Collecting flask-ngrok\n",
            "  Downloading https://files.pythonhosted.org/packages/af/6c/f54cb686ad1129e27d125d182f90f52b32f284e6c8df58c1bae54fa1adbc/flask_ngrok-0.0.25-py3-none-any.whl\n",
            "Requirement already satisfied: Flask>=0.8 in /usr/local/lib/python3.7/dist-packages (from flask-ngrok) (1.1.2)\n",
            "Requirement already satisfied: requests in /usr/local/lib/python3.7/dist-packages (from flask-ngrok) (2.23.0)\n",
            "Requirement already satisfied: itsdangerous>=0.24 in /usr/local/lib/python3.7/dist-packages (from Flask>=0.8->flask-ngrok) (2.0.0)\n",
            "Requirement already satisfied: Jinja2>=2.10.1 in /usr/local/lib/python3.7/dist-packages (from Flask>=0.8->flask-ngrok) (2.11.3)\n",
            "Requirement already satisfied: click>=5.1 in /usr/local/lib/python3.7/dist-packages (from Flask>=0.8->flask-ngrok) (8.0.0)\n",
            "Requirement already satisfied: Werkzeug>=0.15 in /usr/local/lib/python3.7/dist-packages (from Flask>=0.8->flask-ngrok) (2.0.0)\n",
            "Requirement already satisfied: certifi>=2017.4.17 in /usr/local/lib/python3.7/dist-packages (from requests->flask-ngrok) (2020.12.5)\n",
            "Requirement already satisfied: chardet<4,>=3.0.2 in /usr/local/lib/python3.7/dist-packages (from requests->flask-ngrok) (3.0.4)\n",
            "Requirement already satisfied: idna<3,>=2.5 in /usr/local/lib/python3.7/dist-packages (from requests->flask-ngrok) (2.10)\n",
            "Requirement already satisfied: urllib3!=1.25.0,!=1.25.1,<1.26,>=1.21.1 in /usr/local/lib/python3.7/dist-packages (from requests->flask-ngrok) (1.24.3)\n",
            "Requirement already satisfied: MarkupSafe>=0.23 in /usr/local/lib/python3.7/dist-packages (from Jinja2>=2.10.1->Flask>=0.8->flask-ngrok) (2.0.0)\n",
            "Installing collected packages: flask-ngrok\n",
            "Successfully installed flask-ngrok-0.0.25\n",
            "Collecting Flask-RESTful\n",
            "  Downloading https://files.pythonhosted.org/packages/a9/02/7e21a73564fe0d9d1a3a4ff478dfc407815c4e2fa4e5121bcfc646ba5d15/Flask_RESTful-0.3.9-py2.py3-none-any.whl\n",
            "Requirement already satisfied: Flask>=0.8 in /usr/local/lib/python3.7/dist-packages (from Flask-RESTful) (1.1.2)\n",
            "Requirement already satisfied: six>=1.3.0 in /usr/local/lib/python3.7/dist-packages (from Flask-RESTful) (1.15.0)\n",
            "Requirement already satisfied: pytz in /usr/local/lib/python3.7/dist-packages (from Flask-RESTful) (2018.9)\n",
            "Collecting aniso8601>=0.82\n",
            "\u001b[?25l  Downloading https://files.pythonhosted.org/packages/e3/04/e97c12dc034791d7b504860acfcdd2963fa21ae61eaca1c9d31245f812c3/aniso8601-9.0.1-py2.py3-none-any.whl (52kB)\n",
            "\u001b[K     |████████████████████████████████| 61kB 7.8MB/s \n",
            "\u001b[?25hRequirement already satisfied: click>=5.1 in /usr/local/lib/python3.7/dist-packages (from Flask>=0.8->Flask-RESTful) (8.0.0)\n",
            "Requirement already satisfied: Jinja2>=2.10.1 in /usr/local/lib/python3.7/dist-packages (from Flask>=0.8->Flask-RESTful) (2.11.3)\n",
            "Requirement already satisfied: itsdangerous>=0.24 in /usr/local/lib/python3.7/dist-packages (from Flask>=0.8->Flask-RESTful) (2.0.0)\n",
            "Requirement already satisfied: Werkzeug>=0.15 in /usr/local/lib/python3.7/dist-packages (from Flask>=0.8->Flask-RESTful) (2.0.0)\n",
            "Requirement already satisfied: MarkupSafe>=0.23 in /usr/local/lib/python3.7/dist-packages (from Jinja2>=2.10.1->Flask>=0.8->Flask-RESTful) (2.0.0)\n",
            "Installing collected packages: aniso8601, Flask-RESTful\n",
            "Successfully installed Flask-RESTful-0.3.9 aniso8601-9.0.1\n",
            "Collecting Flask-JWT\n",
            "  Downloading https://files.pythonhosted.org/packages/9b/8a/5d3b2e593f1fc5c1b464aa1cbf35023a4400a2b53ce6a52801f68d7a1eeb/Flask-JWT-0.3.2.tar.gz\n",
            "Requirement already satisfied: Flask>=0.9 in /usr/local/lib/python3.7/dist-packages (from Flask-JWT) (1.1.2)\n",
            "Collecting PyJWT<1.5.0,>=1.4.0\n",
            "  Downloading https://files.pythonhosted.org/packages/b8/9c/1973e3117d43527a42f2a8afbc81e48d69a537d6e2c39412049b1592d1e2/PyJWT-1.4.2-py2.py3-none-any.whl\n",
            "Requirement already satisfied: Jinja2>=2.10.1 in /usr/local/lib/python3.7/dist-packages (from Flask>=0.9->Flask-JWT) (2.11.3)\n",
            "Requirement already satisfied: click>=5.1 in /usr/local/lib/python3.7/dist-packages (from Flask>=0.9->Flask-JWT) (8.0.0)\n",
            "Requirement already satisfied: Werkzeug>=0.15 in /usr/local/lib/python3.7/dist-packages (from Flask>=0.9->Flask-JWT) (2.0.0)\n",
            "Requirement already satisfied: itsdangerous>=0.24 in /usr/local/lib/python3.7/dist-packages (from Flask>=0.9->Flask-JWT) (2.0.0)\n",
            "Requirement already satisfied: MarkupSafe>=0.23 in /usr/local/lib/python3.7/dist-packages (from Jinja2>=2.10.1->Flask>=0.9->Flask-JWT) (2.0.0)\n",
            "Building wheels for collected packages: Flask-JWT\n",
            "  Building wheel for Flask-JWT (setup.py) ... \u001b[?25l\u001b[?25hdone\n",
            "  Created wheel for Flask-JWT: filename=Flask_JWT-0.3.2-cp37-none-any.whl size=5670 sha256=eb4409eda8f644c478a103a872f65ba4d877e030012261aae6f4bbe1e78a447b\n",
            "  Stored in directory: /root/.cache/pip/wheels/a6/8b/1f/f42f18eea64a0884185293ff01c32124c49da0e62739815f51\n",
            "Successfully built Flask-JWT\n",
            "Installing collected packages: PyJWT, Flask-JWT\n",
            "Successfully installed Flask-JWT-0.3.2 PyJWT-1.4.2\n",
            "\u001b[31mERROR: You must give at least one requirement to install (see \"pip help install\")\u001b[0m\n"
          ],
          "name": "stdout"
        }
      ]
    },
    {
      "cell_type": "code",
      "metadata": {
        "id": "ukk7r1Zx5Srw"
      },
      "source": [
        "!pip freeze"
      ],
      "execution_count": null,
      "outputs": []
    },
    {
      "cell_type": "code",
      "metadata": {
        "id": "HB1vvpZfFMyn"
      },
      "source": [
        "!mkdir bin"
      ],
      "execution_count": 3,
      "outputs": []
    },
    {
      "cell_type": "code",
      "metadata": {
        "id": "ihqd_IDpBz82",
        "colab": {
          "base_uri": "https://localhost:8080/"
        },
        "outputId": "f5c23a80-9eb6-4b1e-9a29-349066041591"
      },
      "source": [
        "%%writefile firstRestAPI.py\n",
        "from flask_ngrok import run_with_ngrok\n",
        "from flask import Flask\n",
        "\n",
        "app = Flask(__name__)\n",
        "run_with_ngrok(app)\n",
        "\n",
        "@app.route('/')   #root directory\n",
        "def home():\n",
        "  return \"Hello World !\"\n",
        "\n",
        "\n",
        "if __name__ == '__main__':\n",
        "  app.run()"
      ],
      "execution_count": null,
      "outputs": [
        {
          "output_type": "stream",
          "text": [
            "Writing firstRestAPI.py\n"
          ],
          "name": "stdout"
        }
      ]
    },
    {
      "cell_type": "code",
      "metadata": {
        "colab": {
          "base_uri": "https://localhost:8080/"
        },
        "id": "AMngIcNnHDth",
        "outputId": "2790e7af-b6c3-4d91-e550-5b220fdebe74"
      },
      "source": [
        "!python firstRestAPI.py"
      ],
      "execution_count": null,
      "outputs": [
        {
          "output_type": "stream",
          "text": [
            " * Serving Flask app \"firstRestAPI\" (lazy loading)\n",
            " * Environment: production\n",
            "\u001b[31m   WARNING: This is a development server. Do not use it in a production deployment.\u001b[0m\n",
            "\u001b[2m   Use a production WSGI server instead.\u001b[0m\n",
            " * Debug mode: off\n",
            " * Running on http://127.0.0.1:5000/ (Press CTRL+C to quit)\n",
            " * Running on http://359beffe5dda.ngrok.io\n",
            " * Traffic stats available on http://127.0.0.1:4040\n",
            "^C\n"
          ],
          "name": "stdout"
        }
      ]
    },
    {
      "cell_type": "code",
      "metadata": {
        "colab": {
          "base_uri": "https://localhost:8080/"
        },
        "id": "Syud4CqWHVS2",
        "outputId": "30858a14-9f00-4e15-b437-d9d7815d5421"
      },
      "source": [
        "%%writefile store.py\n",
        "from flask_ngrok import run_with_ngrok\n",
        "from flask import Flask,jsonify,request,render_template\n",
        "\n",
        "app = Flask(__name__)\n",
        "run_with_ngrok(app)\n",
        "\n",
        "\n",
        "stores = [\n",
        "  {\n",
        "   'name':'My Store',\n",
        "   'items':[\n",
        "      {\n",
        "        'name':'chair',\n",
        "        'price':15.99\n",
        "      }\n",
        "            \n",
        "   ]\n",
        "   }          \n",
        "]\n",
        "\n",
        "\n",
        "\n",
        "\n",
        "#post /store data: {name :}\n",
        "@app.route('/store' , methods=['POST'])\n",
        "def create_store():\n",
        "  request_data = request.get_json()\n",
        "  new_store = {\n",
        "    'name':request_data['name'],\n",
        "    'items':[]\n",
        "  }\n",
        "  stores.append(new_store)\n",
        "  return jsonify(new_store)\n",
        "  #pass\n",
        "\n",
        "#get /store/<name> data: {name :}\n",
        "@app.route('/store/<string:name>')\n",
        "def get_store(name):\n",
        "  for store in stores:\n",
        "    if store['name'] == name:\n",
        "          return jsonify(store)\n",
        "  return jsonify ({'message': 'store not found'})\n",
        "  #pass\n",
        "\n",
        "#get /store\n",
        "@app.route('/store')\n",
        "def get_stores():\n",
        "  return jsonify({'stores': stores})\n",
        "  #pass\n",
        "\n",
        "#post /store/<name> data: {name :}\n",
        "@app.route('/store/<string:name>/item' , methods=['POST'])\n",
        "def create_item_in_store(name):\n",
        "  request_data = request.get_json()\n",
        "  for store in stores:\n",
        "    if store['name'] == name:\n",
        "        new_item = {\n",
        "            'name': request_data['name'],\n",
        "            'price': request_data['price']\n",
        "        }\n",
        "        store['items'].append(new_item)\n",
        "        return jsonify(new_item)\n",
        "  return jsonify ({'message' :'store not found'})\n",
        "  #pass\n",
        "\n",
        "#get /store/<name>/item data: {name :}\n",
        "@app.route('/store/<string:name>/item')\n",
        "def get_item_in_store(name):\n",
        "  for store in stores:\n",
        "    if store['name'] == name:\n",
        "        return jsonify( {'items':store['items'] } )\n",
        "  return jsonify ({'message':'store not found'})\n",
        "\n",
        "  #pass\n",
        " \n",
        "if __name__ == '__main__':\n",
        "  app.run()"
      ],
      "execution_count": 5,
      "outputs": [
        {
          "output_type": "stream",
          "text": [
            "Overwriting store.py\n"
          ],
          "name": "stdout"
        }
      ]
    },
    {
      "cell_type": "code",
      "metadata": {
        "colab": {
          "base_uri": "https://localhost:8080/"
        },
        "id": "jU94ssHzf73B",
        "outputId": "e23b3a35-cf75-48b7-ecee-8f6c6ae280f2"
      },
      "source": [
        "!python store.py"
      ],
      "execution_count": 6,
      "outputs": [
        {
          "output_type": "stream",
          "text": [
            " * Serving Flask app \"store\" (lazy loading)\n",
            " * Environment: production\n",
            "\u001b[31m   WARNING: This is a development server. Do not use it in a production deployment.\u001b[0m\n",
            "\u001b[2m   Use a production WSGI server instead.\u001b[0m\n",
            " * Debug mode: off\n",
            " * Running on http://127.0.0.1:5000/ (Press CTRL+C to quit)\n",
            " * Running on http://8243122fb37c.ngrok.io\n",
            " * Traffic stats available on http://127.0.0.1:4040\n",
            "^C\n"
          ],
          "name": "stdout"
        }
      ]
    },
    {
      "cell_type": "code",
      "metadata": {
        "id": "w8xDvQbPf_UK"
      },
      "source": [
        "mkdir bin"
      ],
      "execution_count": 16,
      "outputs": []
    },
    {
      "cell_type": "code",
      "metadata": {
        "colab": {
          "base_uri": "https://localhost:8080/"
        },
        "id": "KkprAVO55oua",
        "outputId": "e7f4bc6e-ca24-4357-97b7-acaed52c05fa"
      },
      "source": [
        "%%writefile bin/app.py\n",
        "from flask import Flask\n",
        "from flask_restful import Resource, Api\n",
        "from flask_ngrok import run_with_ngrok\n",
        "\n",
        "app = Flask(__name__)\n",
        "api = Api(app)\n",
        "run_with_ngrok(app)\n",
        "\n",
        "class Student(Resource):\n",
        "  def get(self, name):\n",
        "    return {'student': name}\n",
        "\n",
        "api.add_resource(Student, '/student/<string:name>')\n",
        "\n",
        "if __name__ == '__main__':\n",
        "  app.run()"
      ],
      "execution_count": 21,
      "outputs": [
        {
          "output_type": "stream",
          "text": [
            "Overwriting bin/app.py\n"
          ],
          "name": "stdout"
        }
      ]
    },
    {
      "cell_type": "code",
      "metadata": {
        "colab": {
          "base_uri": "https://localhost:8080/"
        },
        "id": "K0BN_u-r5uAo",
        "outputId": "44933078-570d-4a98-b4d3-b9e3e3bd070c"
      },
      "source": [
        "!python bin/app.py"
      ],
      "execution_count": 22,
      "outputs": [
        {
          "output_type": "stream",
          "text": [
            " * Serving Flask app \"app\" (lazy loading)\n",
            " * Environment: production\n",
            "\u001b[31m   WARNING: This is a development server. Do not use it in a production deployment.\u001b[0m\n",
            "\u001b[2m   Use a production WSGI server instead.\u001b[0m\n",
            " * Debug mode: off\n",
            " * Running on http://127.0.0.1:5000/ (Press CTRL+C to quit)\n",
            " * Running on http://3dee12747a19.ngrok.io\n",
            " * Traffic stats available on http://127.0.0.1:4040\n",
            "127.0.0.1 - - [16/May/2021 11:30:37] \"GET /student/sumtih HTTP/1.1\" 200 -\n",
            "^C\n"
          ],
          "name": "stdout"
        }
      ]
    },
    {
      "cell_type": "code",
      "metadata": {
        "colab": {
          "base_uri": "https://localhost:8080/"
        },
        "id": "W45fSMds7gEy",
        "outputId": "c6e07f26-ea1e-4b0a-eb81-4de58fd18589"
      },
      "source": [
        "%%writefile bin/app.py\n",
        "from flask import Flask, request\n",
        "from flask_restful import Resource, Api\n",
        "from flask_ngrok import run_with_ngrok\n",
        "\n",
        "app = Flask(__name__)\n",
        "api = Api(app)\n",
        "run_with_ngrok(app)\n",
        "\n",
        "items = []\n",
        "\n",
        "class Item(Resource):\n",
        "  def get(self, name):\n",
        "    for item in items:\n",
        "      if item['name'] == name:\n",
        "        return item\n",
        "    return {\"item\": None}, 404\n",
        "\n",
        "  def post(self, name):\n",
        "    data = request.get_json()\n",
        "    item = {'name': name, 'price': data['price']}\n",
        "    items.append(item)\n",
        "    return item, 201\n",
        "\n",
        "class ItemList(Resource):\n",
        "  def get(self):\n",
        "    return {'items': items}\n",
        "\n",
        "\n",
        "api.add_resource(Item, '/item/<string:name>')\n",
        "api.add_resource(ItemList, '/items')\n",
        "\n",
        "if __name__ == '__main__':\n",
        "  app.run()"
      ],
      "execution_count": 29,
      "outputs": [
        {
          "output_type": "stream",
          "text": [
            "Overwriting bin/app.py\n"
          ],
          "name": "stdout"
        }
      ]
    },
    {
      "cell_type": "code",
      "metadata": {
        "id": "u7UJaZDtBEMa"
      },
      "source": [
        "!python bin/app.py"
      ],
      "execution_count": null,
      "outputs": []
    },
    {
      "cell_type": "code",
      "metadata": {
        "colab": {
          "base_uri": "https://localhost:8080/"
        },
        "id": "3qqDrUXoBHDE",
        "outputId": "ec30f1e6-73a6-4400-ebf8-32477710dc7a"
      },
      "source": [
        "%%writefile bin/app.py\n",
        "from flask import Flask, request\n",
        "from flask_restful import Resource, Api\n",
        "from flask_ngrok import run_with_ngrok\n",
        "\n",
        "app = Flask(__name__)\n",
        "api = Api(app)\n",
        "run_with_ngrok(app)\n",
        "\n",
        "items = []\n",
        "\n",
        "class Item(Resource):\n",
        "  def get(self, name):\n",
        "    item = next(filter(lambda x: x['name'] == name, items), None)\n",
        "    return {\"item\": item}, 200 if item else 404\n",
        "\n",
        "  def post(self, name):\n",
        "    if next(filter(lambda x: x['name'] == name, items), None) is not None:\n",
        "      return {'message': \" an item  '{}' exist\".format(name)}, 400\n",
        "\n",
        "    data = request.get_json()\n",
        "    item = {'name': name, 'price': data['price']}\n",
        "    items.append(item)\n",
        "    return item, 201\n",
        "\n",
        "class ItemList(Resource):\n",
        "  def get(self):\n",
        "    return {'items': items}\n",
        "\n",
        "\n",
        "api.add_resource(Item, '/item/<string:name>')\n",
        "api.add_resource(ItemList, '/items')\n",
        "\n",
        "if __name__ == '__main__':\n",
        "  app.run()"
      ],
      "execution_count": 34,
      "outputs": [
        {
          "output_type": "stream",
          "text": [
            "Overwriting bin/app.py\n"
          ],
          "name": "stdout"
        }
      ]
    },
    {
      "cell_type": "code",
      "metadata": {
        "id": "uFN3HW5QIpo8"
      },
      "source": [
        "!python bin/app.py"
      ],
      "execution_count": null,
      "outputs": []
    },
    {
      "cell_type": "code",
      "metadata": {
        "colab": {
          "base_uri": "https://localhost:8080/"
        },
        "id": "facmgQIrKNNy",
        "outputId": "00a56139-7300-4305-ab35-368e504f3ff6"
      },
      "source": [
        "%%writefile bin/security.py\n",
        "from werkzeug.security import safe_str_cmp\n",
        "from user import User\n",
        "\n",
        "users = [\n",
        "    User(1, 'bob', 'asdf'),\n",
        "    User(2, 'user2', 'abcxyz'),\n",
        "]\n",
        "\n",
        "username_table = {u.username: u for u in users}\n",
        "userid_table = {u.id: u for u in users}\n",
        "\n",
        "def authenticate(username, password):\n",
        "    user = username_table.get(username, None)\n",
        "    if user and safe_str_cmp(user.password, password):\n",
        "        return user\n",
        "\n",
        "def identity(payload):\n",
        "    user_id = payload['identity']\n",
        "    return userid_table.get(user_id, None)\n",
        "\n"
      ],
      "execution_count": 39,
      "outputs": [
        {
          "output_type": "stream",
          "text": [
            "Overwriting bin/security.py\n"
          ],
          "name": "stdout"
        }
      ]
    },
    {
      "cell_type": "code",
      "metadata": {
        "colab": {
          "base_uri": "https://localhost:8080/"
        },
        "id": "feBGPrbkL9qP",
        "outputId": "5c213bcc-f426-4d8c-ce49-2e5001c8508a"
      },
      "source": [
        "%%writefile bin/user.py\n",
        "class User(object):\n",
        "    def __init__(self, id, username, password):\n",
        "        self.id = id\n",
        "        self.username = username\n",
        "        self.password = password\n"
      ],
      "execution_count": 40,
      "outputs": [
        {
          "output_type": "stream",
          "text": [
            "Overwriting bin/user.py\n"
          ],
          "name": "stdout"
        }
      ]
    },
    {
      "cell_type": "code",
      "metadata": {
        "colab": {
          "base_uri": "https://localhost:8080/"
        },
        "id": "neD6UEDuIrXO",
        "outputId": "ae1d0215-107f-4c55-f7bd-2e4f193ea012"
      },
      "source": [
        "%%writefile bin/app.py\n",
        "from flask import Flask, request\n",
        "from flask_restful import Resource, Api,reqparse\n",
        "from flask_ngrok import run_with_ngrok\n",
        "from flask_jwt import JWT, jwt_required\n",
        "\n",
        "from security import authenticate, identity\n",
        "\n",
        "\n",
        "app = Flask(__name__)\n",
        "app.config['PROPAGATE_EXCEPTIONS'] = True # To allow flask propagating exception even if debug is set to false on app\n",
        "app.secret_key = 'jose'\n",
        "api = Api(app)\n",
        "run_with_ngrok(app)\n",
        "\n",
        "jwt = JWT(app, authenticate, identity)\n",
        "\n",
        "items = []\n",
        "\n",
        "class Item(Resource):\n",
        "    parser = reqparse.RequestParser()\n",
        "    parser.add_argument('price',\n",
        "        type=float,\n",
        "        required=True,\n",
        "        help=\"This field cannot be left blank!\"\n",
        "    )\n",
        "\n",
        "    @jwt_required()\n",
        "    def get(self, name):\n",
        "        return {'item': next(filter(lambda x: x['name'] == name, items), None)}\n",
        "\n",
        "    def post(self, name):\n",
        "        if next(filter(lambda x: x['name'] == name, items), None) is not None:\n",
        "            return {'message': \"An item with name '{}' already exists.\".format(name)}\n",
        "\n",
        "        data = Item.parser.parse_args()\n",
        "\n",
        "        item = {'name': name, 'price': data['price']}\n",
        "        items.append(item)\n",
        "        return item\n",
        "\n",
        "    @jwt_required()\n",
        "    def delete(self, name):\n",
        "        global items\n",
        "        items = list(filter(lambda x: x['name'] != name, items))\n",
        "        return {'message': 'Item deleted'}\n",
        "\n",
        "    @jwt_required()\n",
        "    def put(self, name):\n",
        "        data = Item.parser.parse_args()\n",
        "        # Once again, print something not in the args to verify everything works\n",
        "        item = next(filter(lambda x: x['name'] == name, items), None)\n",
        "        if item is None:\n",
        "            item = {'name': name, 'price': data['price']}\n",
        "            items.append(item)\n",
        "        else:\n",
        "            item.update(data)\n",
        "        return item\n",
        "\n",
        "class ItemList(Resource):\n",
        "    def get(self):\n",
        "        return {'items': items}\n",
        "\n",
        "api.add_resource(Item, '/item/<string:name>')\n",
        "api.add_resource(ItemList, '/items')\n",
        "\n",
        "if __name__ == '__main__':\n",
        "  app.run()"
      ],
      "execution_count": 43,
      "outputs": [
        {
          "output_type": "stream",
          "text": [
            "Overwriting bin/app.py\n"
          ],
          "name": "stdout"
        }
      ]
    },
    {
      "cell_type": "code",
      "metadata": {
        "id": "7fSfC19wLDou"
      },
      "source": [
        "!python bin/app.py"
      ],
      "execution_count": null,
      "outputs": []
    },
    {
      "cell_type": "code",
      "metadata": {
        "id": "OtQEa03DB8Wp"
      },
      "source": [
        "rm data.db"
      ],
      "execution_count": 11,
      "outputs": []
    },
    {
      "cell_type": "code",
      "metadata": {
        "id": "4Txy1PgYAm53",
        "outputId": "77316d41-a3c0-4dc2-9f5f-3e13413b2456",
        "colab": {
          "base_uri": "https://localhost:8080/"
        }
      },
      "source": [
        "%%writefile bin/test.py\n",
        "import sqlite3\n",
        "\n",
        "connection = sqlite3.connect('data.db')\n",
        "\n",
        "cursor = connection.cursor()\n",
        "\n",
        "create_table = \"CREATE TABLE users(id int, username text, password text)\"\n",
        "\n",
        "cursor.execute(create_table)\n",
        "\n",
        "user = (1, 'sumith', 'asdf')\n",
        "insert_query = \"INSERT INTO users VALUES(?,?,?)\"\n",
        "cursor.execute(insert_query, user)\n",
        "\n",
        "user = [\n",
        "        (2, 'sumith2', 'asdf'),\n",
        "        (3, 'amith', 'asdf')\n",
        "]\n",
        "\n",
        "cursor.executemany(insert_query, user)\n",
        "\n",
        "select_query = \"Select id, username, password FROM users\"\n",
        "for row in cursor.execute(select_query):\n",
        "  print(row)\n",
        "\n",
        "connection.commit()\n",
        "connection.close()"
      ],
      "execution_count": 12,
      "outputs": [
        {
          "output_type": "stream",
          "text": [
            "Writing bin/test.py\n"
          ],
          "name": "stdout"
        }
      ]
    },
    {
      "cell_type": "code",
      "metadata": {
        "id": "qwBMLFFEB0kE",
        "outputId": "87797fc7-373d-421b-8f4e-aaab2eff760f",
        "colab": {
          "base_uri": "https://localhost:8080/"
        }
      },
      "source": [
        "!python bin/test.py"
      ],
      "execution_count": 13,
      "outputs": [
        {
          "output_type": "stream",
          "text": [
            "(1, 'sumith', 'asdf')\n",
            "(2, 'sumith2', 'asdf')\n",
            "(3, 'amith', 'asdf')\n"
          ],
          "name": "stdout"
        }
      ]
    },
    {
      "cell_type": "code",
      "metadata": {
        "id": "UdlmqpnLELcT",
        "outputId": "d3f6e2a7-b85d-498f-cf4d-5f636d5d61ee",
        "colab": {
          "base_uri": "https://localhost:8080/"
        }
      },
      "source": [
        "%%writefile bin/user.py\n",
        "import sqlite3\n",
        "\n",
        "\n",
        "class User(object):\n",
        "    def __init__(self, id, username, password):\n",
        "        self.id = id\n",
        "        self.username = username\n",
        "        self.password = password\n",
        "\n",
        "    @classmethod  \n",
        "    def find_by_username(cls, username):\n",
        "      connection = sqlite3.connect('data.db')\n",
        "      cursor = connection.cursor()\n",
        "\n",
        "      query = \"select id, username, password FROM users WHERE username=?\"\n",
        "\n",
        "      print (username)\n",
        "      result = cursor.execute(query, (username,))\n",
        "      row = result.fetchone()\n",
        "      if row:\n",
        "        user = cls(*row)\n",
        "      else:\n",
        "        user = None\n",
        "      connection.close()\n",
        "      return user\n",
        "\n",
        "    @classmethod  \n",
        "    def find_by_id(cls, username):\n",
        "      connection = sqlite3.connect('data.db')\n",
        "      cursor = connection.cursor()\n",
        "\n",
        "      query = \"select id, username, password FROM users WHERE id=?\"\n",
        "      result = cursor.execute(query, (username,))\n",
        "      row = result.fetchone()\n",
        "      if row:\n",
        "        user = cls(*row)\n",
        "      else:\n",
        "        user = None\n",
        "      connection.close()\n",
        "      return user      "
      ],
      "execution_count": 30,
      "outputs": [
        {
          "output_type": "stream",
          "text": [
            "Overwriting bin/user.py\n"
          ],
          "name": "stdout"
        }
      ]
    },
    {
      "cell_type": "code",
      "metadata": {
        "id": "74t2WIXqEmBC",
        "outputId": "9d99ac37-be86-4a22-e27f-d1a7ddf17a00",
        "colab": {
          "base_uri": "https://localhost:8080/"
        }
      },
      "source": [
        "%%writefile bin/security.py\n",
        "from werkzeug.security import safe_str_cmp\n",
        "from user import User\n",
        "\n",
        "def authenticate(username, password):\n",
        "    user = User.find_by_username(username)\n",
        "    if user and safe_str_cmp(user.password, password):\n",
        "        return user\n",
        "\n",
        "def identity(payload):\n",
        "    user_id = payload['identity']\n",
        "    return User.find_by_id(user_id)\n"
      ],
      "execution_count": 31,
      "outputs": [
        {
          "output_type": "stream",
          "text": [
            "Overwriting bin/security.py\n"
          ],
          "name": "stdout"
        }
      ]
    },
    {
      "cell_type": "code",
      "metadata": {
        "colab": {
          "base_uri": "https://localhost:8080/"
        },
        "id": "_uDgFHX6wJp6",
        "outputId": "d775ac6d-c0a7-4084-c1c7-82f07a623290"
      },
      "source": [
        "%%writefile bin/app.py\n",
        "from flask import Flask, request\n",
        "from flask_restful import Resource, Api,reqparse\n",
        "from flask_ngrok import run_with_ngrok\n",
        "from flask_jwt import JWT, jwt_required\n",
        "\n",
        "from security import authenticate, identity\n",
        "\n",
        "\n",
        "app = Flask(__name__)\n",
        "app.config['PROPAGATE_EXCEPTIONS'] = True # To allow flask propagating exception even if debug is set to false on app\n",
        "app.secret_key = 'jose'\n",
        "api = Api(app)\n",
        "run_with_ngrok(app)\n",
        "\n",
        "jwt = JWT(app, authenticate, identity)\n",
        "\n",
        "items = []\n",
        "\n",
        "class Item(Resource):\n",
        "    parser = reqparse.RequestParser()\n",
        "    parser.add_argument('price',\n",
        "        type=float,\n",
        "        required=True,\n",
        "        help=\"This field cannot be left blank!\"\n",
        "    )\n",
        "\n",
        "    @jwt_required()\n",
        "    def get(self, name):\n",
        "        return {'item': next(filter(lambda x: x['name'] == name, items), None)}\n",
        "\n",
        "    def post(self, name):\n",
        "        if next(filter(lambda x: x['name'] == name, items), None) is not None:\n",
        "            return {'message': \"An item with name '{}' already exists.\".format(name)}\n",
        "\n",
        "        data = Item.parser.parse_args()\n",
        "\n",
        "        item = {'name': name, 'price': data['price']}\n",
        "        items.append(item)\n",
        "        return item\n",
        "\n",
        "    @jwt_required()\n",
        "    def delete(self, name):\n",
        "        global items\n",
        "        items = list(filter(lambda x: x['name'] != name, items))\n",
        "        return {'message': 'Item deleted'}\n",
        "\n",
        "    @jwt_required()\n",
        "    def put(self, name):\n",
        "        data = Item.parser.parse_args()\n",
        "        # Once again, print something not in the args to verify everything works\n",
        "        item = next(filter(lambda x: x['name'] == name, items), None)\n",
        "        if item is None:\n",
        "            item = {'name': name, 'price': data['price']}\n",
        "            items.append(item)\n",
        "        else:\n",
        "            item.update(data)\n",
        "        return item\n",
        "\n",
        "class ItemList(Resource):\n",
        "    def get(self):\n",
        "        return {'items': items}\n",
        "\n",
        "api.add_resource(Item, '/item/<string:name>')\n",
        "api.add_resource(ItemList, '/items')\n",
        "\n",
        "if __name__ == '__main__':\n",
        "  app.run()"
      ],
      "execution_count": 32,
      "outputs": [
        {
          "output_type": "stream",
          "text": [
            "Overwriting bin/app.py\n"
          ],
          "name": "stdout"
        }
      ]
    },
    {
      "cell_type": "code",
      "metadata": {
        "id": "VYAeP_wfS9jd",
        "outputId": "4ffd8409-46ee-4b00-e569-8e669aead60b",
        "colab": {
          "base_uri": "https://localhost:8080/"
        }
      },
      "source": [
        "!python bin/app.py"
      ],
      "execution_count": 33,
      "outputs": [
        {
          "output_type": "stream",
          "text": [
            " * Serving Flask app \"app\" (lazy loading)\n",
            " * Environment: production\n",
            "\u001b[31m   WARNING: This is a development server. Do not use it in a production deployment.\u001b[0m\n",
            "\u001b[2m   Use a production WSGI server instead.\u001b[0m\n",
            " * Debug mode: off\n",
            " * Running on http://127.0.0.1:5000/ (Press CTRL+C to quit)\n",
            " * Running on http://5777c2383a23.ngrok.io\n",
            " * Traffic stats available on http://127.0.0.1:4040\n",
            "sumith\n",
            "127.0.0.1 - - [18/May/2021 07:27:06] \"POST /auth HTTP/1.1\" 200 -\n",
            "^C\n"
          ],
          "name": "stdout"
        }
      ]
    },
    {
      "cell_type": "code",
      "metadata": {
        "id": "HUynF7bxTBIt"
      },
      "source": [
        ""
      ],
      "execution_count": null,
      "outputs": []
    }
  ]
}