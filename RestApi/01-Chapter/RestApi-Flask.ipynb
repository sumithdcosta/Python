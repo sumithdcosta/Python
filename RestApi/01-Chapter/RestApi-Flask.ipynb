{
  "nbformat": 4,
  "nbformat_minor": 0,
  "metadata": {
    "colab": {
      "name": "Untitled73.ipynb",
      "provenance": [],
      "authorship_tag": "ABX9TyPs+Mj8B6I4sqvd+fTIkiJr",
      "include_colab_link": true
    },
    "kernelspec": {
      "name": "python3",
      "display_name": "Python 3"
    }
  },
  "cells": [
    {
      "cell_type": "markdown",
      "metadata": {
        "id": "view-in-github",
        "colab_type": "text"
      },
      "source": [
        "<a href=\"https://colab.research.google.com/github/sumithdcosta/Python/blob/master/RestApi/01-Chapter/RestApi-Flask.ipynb\" target=\"_parent\"><img src=\"https://colab.research.google.com/assets/colab-badge.svg\" alt=\"Open In Colab\"/></a>"
      ]
    },
    {
      "cell_type": "code",
      "metadata": {
        "id": "XWveIP39GpZQ"
      },
      "source": [
        "!pip install flask\n",
        "!pip install flask-cors\n",
        "!pip install flask-ngrok"
      ],
      "execution_count": null,
      "outputs": []
    },
    {
      "cell_type": "code",
      "metadata": {
        "id": "HB1vvpZfFMyn"
      },
      "source": [
        "!mkdir bin"
      ],
      "execution_count": 4,
      "outputs": []
    },
    {
      "cell_type": "code",
      "metadata": {
        "id": "ihqd_IDpBz82",
        "colab": {
          "base_uri": "https://localhost:8080/"
        },
        "outputId": "f5c23a80-9eb6-4b1e-9a29-349066041591"
      },
      "source": [
        "%%writefile firstRestAPI.py\n",
        "from flask_ngrok import run_with_ngrok\n",
        "from flask import Flask\n",
        "\n",
        "app = Flask(__name__)\n",
        "run_with_ngrok(app)\n",
        "\n",
        "@app.route('/')   #root directory\n",
        "def home():\n",
        "  return \"Hello World !\"\n",
        "\n",
        "\n",
        "if __name__ == '__main__':\n",
        "  app.run()"
      ],
      "execution_count": 17,
      "outputs": [
        {
          "output_type": "stream",
          "text": [
            "Writing firstRestAPI.py\n"
          ],
          "name": "stdout"
        }
      ]
    },
    {
      "cell_type": "code",
      "metadata": {
        "colab": {
          "base_uri": "https://localhost:8080/"
        },
        "id": "AMngIcNnHDth",
        "outputId": "2790e7af-b6c3-4d91-e550-5b220fdebe74"
      },
      "source": [
        "!python firstRestAPI.py"
      ],
      "execution_count": 18,
      "outputs": [
        {
          "output_type": "stream",
          "text": [
            " * Serving Flask app \"firstRestAPI\" (lazy loading)\n",
            " * Environment: production\n",
            "\u001b[31m   WARNING: This is a development server. Do not use it in a production deployment.\u001b[0m\n",
            "\u001b[2m   Use a production WSGI server instead.\u001b[0m\n",
            " * Debug mode: off\n",
            " * Running on http://127.0.0.1:5000/ (Press CTRL+C to quit)\n",
            " * Running on http://359beffe5dda.ngrok.io\n",
            " * Traffic stats available on http://127.0.0.1:4040\n",
            "^C\n"
          ],
          "name": "stdout"
        }
      ]
    },
    {
      "cell_type": "code",
      "metadata": {
        "id": "Syud4CqWHVS2"
      },
      "source": [
        "%%writefile store.py\n",
        "from flask_ngrok import run_with_ngrok\n",
        "from flask import Flask\n",
        "\n",
        "app = Flask(__name__)\n",
        "run_with_ngrok(app)\n",
        "\n",
        "\n",
        "stores = [\n",
        "  {\n",
        "   'name':'My Store',\n",
        "   'items':[\n",
        "      {\n",
        "        'name':'chair',\n",
        "        'price':15.99\n",
        "      }\n",
        "            \n",
        "   ]\n",
        "   }          \n",
        "]\n",
        "\n",
        "#POST /store data: (name)\n",
        "@app.route('/store', methods=['POST'])   \n",
        "def create_store():\n",
        "  pass\n",
        "\n",
        "\n",
        "#GET /store/<string:name>\n",
        "@app.route('/store/<string:name>', methods=['GET'])   \n",
        "def get_store(name):\n",
        "  pass  \n",
        "\n",
        "#get /store\n",
        "@app.route('/store/', methods=['GET'])   \n",
        "def get_store():\n",
        "  pass \n",
        "\n",
        "#get /store\n",
        "@app.route('/store/', methods=['GET'])   \n",
        "def get_stores():\n",
        "  pass \n",
        "\n",
        "@app.route('/store/<string:name>/item', methods=['POST'])   \n",
        "def create_item_jn_store(name):\n",
        "  pass \n",
        "\n",
        "  @app.route('/store/<string:name>/item', methods=['GET'])   \n",
        "def get_items_in_store(name):\n",
        "  pass \n",
        "  \n",
        "if __name__ == '__main__':\n",
        "  app.run()"
      ],
      "execution_count": null,
      "outputs": []
    },
    {
      "cell_type": "code",
      "metadata": {
        "id": "jU94ssHzf73B"
      },
      "source": [
        "!python store.py"
      ],
      "execution_count": null,
      "outputs": []
    },
    {
      "cell_type": "code",
      "metadata": {
        "id": "w8xDvQbPf_UK"
      },
      "source": [
        ""
      ],
      "execution_count": null,
      "outputs": []
    }
  ]
}