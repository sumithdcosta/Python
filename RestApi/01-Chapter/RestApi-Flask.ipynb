{
  "nbformat": 4,
  "nbformat_minor": 0,
  "metadata": {
    "colab": {
      "name": "Untitled73.ipynb",
      "provenance": [],
      "authorship_tag": "ABX9TyMdk3fwHSqmu8aT4nGsSzbX",
      "include_colab_link": true
    },
    "kernelspec": {
      "name": "python3",
      "display_name": "Python 3"
    }
  },
  "cells": [
    {
      "cell_type": "markdown",
      "metadata": {
        "id": "view-in-github",
        "colab_type": "text"
      },
      "source": [
        "<a href=\"https://colab.research.google.com/github/sumithdcosta/Python/blob/master/RestApi/01-Chapter/RestApi-Flask.ipynb\" target=\"_parent\"><img src=\"https://colab.research.google.com/assets/colab-badge.svg\" alt=\"Open In Colab\"/></a>"
      ]
    },
    {
      "cell_type": "code",
      "metadata": {
        "id": "XWveIP39GpZQ"
      },
      "source": [
        "!pip install flask\n",
        "!pip install flask-cors\n",
        "!pip install flask-ngrok\n",
        "!pip install Flask-RESTful\n",
        "!pip install Flask-JWT"
      ],
      "execution_count": null,
      "outputs": []
    },
    {
      "cell_type": "code",
      "metadata": {
        "id": "ukk7r1Zx5Srw"
      },
      "source": [
        "!pip freeze"
      ],
      "execution_count": null,
      "outputs": []
    },
    {
      "cell_type": "code",
      "metadata": {
        "id": "HB1vvpZfFMyn"
      },
      "source": [
        "!mkdir bin"
      ],
      "execution_count": null,
      "outputs": []
    },
    {
      "cell_type": "code",
      "metadata": {
        "id": "ihqd_IDpBz82",
        "colab": {
          "base_uri": "https://localhost:8080/"
        },
        "outputId": "f5c23a80-9eb6-4b1e-9a29-349066041591"
      },
      "source": [
        "%%writefile firstRestAPI.py\n",
        "from flask_ngrok import run_with_ngrok\n",
        "from flask import Flask\n",
        "\n",
        "app = Flask(__name__)\n",
        "run_with_ngrok(app)\n",
        "\n",
        "@app.route('/')   #root directory\n",
        "def home():\n",
        "  return \"Hello World !\"\n",
        "\n",
        "\n",
        "if __name__ == '__main__':\n",
        "  app.run()"
      ],
      "execution_count": null,
      "outputs": [
        {
          "output_type": "stream",
          "text": [
            "Writing firstRestAPI.py\n"
          ],
          "name": "stdout"
        }
      ]
    },
    {
      "cell_type": "code",
      "metadata": {
        "colab": {
          "base_uri": "https://localhost:8080/"
        },
        "id": "AMngIcNnHDth",
        "outputId": "2790e7af-b6c3-4d91-e550-5b220fdebe74"
      },
      "source": [
        "!python firstRestAPI.py"
      ],
      "execution_count": null,
      "outputs": [
        {
          "output_type": "stream",
          "text": [
            " * Serving Flask app \"firstRestAPI\" (lazy loading)\n",
            " * Environment: production\n",
            "\u001b[31m   WARNING: This is a development server. Do not use it in a production deployment.\u001b[0m\n",
            "\u001b[2m   Use a production WSGI server instead.\u001b[0m\n",
            " * Debug mode: off\n",
            " * Running on http://127.0.0.1:5000/ (Press CTRL+C to quit)\n",
            " * Running on http://359beffe5dda.ngrok.io\n",
            " * Traffic stats available on http://127.0.0.1:4040\n",
            "^C\n"
          ],
          "name": "stdout"
        }
      ]
    },
    {
      "cell_type": "code",
      "metadata": {
        "colab": {
          "base_uri": "https://localhost:8080/"
        },
        "id": "Syud4CqWHVS2",
        "outputId": "30858a14-9f00-4e15-b437-d9d7815d5421"
      },
      "source": [
        "%%writefile store.py\n",
        "from flask_ngrok import run_with_ngrok\n",
        "from flask import Flask,jsonify,request,render_template\n",
        "\n",
        "app = Flask(__name__)\n",
        "run_with_ngrok(app)\n",
        "\n",
        "\n",
        "stores = [\n",
        "  {\n",
        "   'name':'My Store',\n",
        "   'items':[\n",
        "      {\n",
        "        'name':'chair',\n",
        "        'price':15.99\n",
        "      }\n",
        "            \n",
        "   ]\n",
        "   }          \n",
        "]\n",
        "\n",
        "\n",
        "\n",
        "\n",
        "#post /store data: {name :}\n",
        "@app.route('/store' , methods=['POST'])\n",
        "def create_store():\n",
        "  request_data = request.get_json()\n",
        "  new_store = {\n",
        "    'name':request_data['name'],\n",
        "    'items':[]\n",
        "  }\n",
        "  stores.append(new_store)\n",
        "  return jsonify(new_store)\n",
        "  #pass\n",
        "\n",
        "#get /store/<name> data: {name :}\n",
        "@app.route('/store/<string:name>')\n",
        "def get_store(name):\n",
        "  for store in stores:\n",
        "    if store['name'] == name:\n",
        "          return jsonify(store)\n",
        "  return jsonify ({'message': 'store not found'})\n",
        "  #pass\n",
        "\n",
        "#get /store\n",
        "@app.route('/store')\n",
        "def get_stores():\n",
        "  return jsonify({'stores': stores})\n",
        "  #pass\n",
        "\n",
        "#post /store/<name> data: {name :}\n",
        "@app.route('/store/<string:name>/item' , methods=['POST'])\n",
        "def create_item_in_store(name):\n",
        "  request_data = request.get_json()\n",
        "  for store in stores:\n",
        "    if store['name'] == name:\n",
        "        new_item = {\n",
        "            'name': request_data['name'],\n",
        "            'price': request_data['price']\n",
        "        }\n",
        "        store['items'].append(new_item)\n",
        "        return jsonify(new_item)\n",
        "  return jsonify ({'message' :'store not found'})\n",
        "  #pass\n",
        "\n",
        "#get /store/<name>/item data: {name :}\n",
        "@app.route('/store/<string:name>/item')\n",
        "def get_item_in_store(name):\n",
        "  for store in stores:\n",
        "    if store['name'] == name:\n",
        "        return jsonify( {'items':store['items'] } )\n",
        "  return jsonify ({'message':'store not found'})\n",
        "\n",
        "  #pass\n",
        " \n",
        "if __name__ == '__main__':\n",
        "  app.run()"
      ],
      "execution_count": 5,
      "outputs": [
        {
          "output_type": "stream",
          "text": [
            "Overwriting store.py\n"
          ],
          "name": "stdout"
        }
      ]
    },
    {
      "cell_type": "code",
      "metadata": {
        "colab": {
          "base_uri": "https://localhost:8080/"
        },
        "id": "jU94ssHzf73B",
        "outputId": "e23b3a35-cf75-48b7-ecee-8f6c6ae280f2"
      },
      "source": [
        "!python store.py"
      ],
      "execution_count": 6,
      "outputs": [
        {
          "output_type": "stream",
          "text": [
            " * Serving Flask app \"store\" (lazy loading)\n",
            " * Environment: production\n",
            "\u001b[31m   WARNING: This is a development server. Do not use it in a production deployment.\u001b[0m\n",
            "\u001b[2m   Use a production WSGI server instead.\u001b[0m\n",
            " * Debug mode: off\n",
            " * Running on http://127.0.0.1:5000/ (Press CTRL+C to quit)\n",
            " * Running on http://8243122fb37c.ngrok.io\n",
            " * Traffic stats available on http://127.0.0.1:4040\n",
            "^C\n"
          ],
          "name": "stdout"
        }
      ]
    },
    {
      "cell_type": "code",
      "metadata": {
        "id": "w8xDvQbPf_UK"
      },
      "source": [
        "mkdir bin"
      ],
      "execution_count": 16,
      "outputs": []
    },
    {
      "cell_type": "code",
      "metadata": {
        "colab": {
          "base_uri": "https://localhost:8080/"
        },
        "id": "KkprAVO55oua",
        "outputId": "e7f4bc6e-ca24-4357-97b7-acaed52c05fa"
      },
      "source": [
        "%%writefile bin/app.py\n",
        "from flask import Flask\n",
        "from flask_restful import Resource, Api\n",
        "from flask_ngrok import run_with_ngrok\n",
        "\n",
        "app = Flask(__name__)\n",
        "api = Api(app)\n",
        "run_with_ngrok(app)\n",
        "\n",
        "class Student(Resource):\n",
        "  def get(self, name):\n",
        "    return {'student': name}\n",
        "\n",
        "api.add_resource(Student, '/student/<string:name>')\n",
        "\n",
        "if __name__ == '__main__':\n",
        "  app.run()"
      ],
      "execution_count": 21,
      "outputs": [
        {
          "output_type": "stream",
          "text": [
            "Overwriting bin/app.py\n"
          ],
          "name": "stdout"
        }
      ]
    },
    {
      "cell_type": "code",
      "metadata": {
        "colab": {
          "base_uri": "https://localhost:8080/"
        },
        "id": "K0BN_u-r5uAo",
        "outputId": "44933078-570d-4a98-b4d3-b9e3e3bd070c"
      },
      "source": [
        "!python bin/app.py"
      ],
      "execution_count": 22,
      "outputs": [
        {
          "output_type": "stream",
          "text": [
            " * Serving Flask app \"app\" (lazy loading)\n",
            " * Environment: production\n",
            "\u001b[31m   WARNING: This is a development server. Do not use it in a production deployment.\u001b[0m\n",
            "\u001b[2m   Use a production WSGI server instead.\u001b[0m\n",
            " * Debug mode: off\n",
            " * Running on http://127.0.0.1:5000/ (Press CTRL+C to quit)\n",
            " * Running on http://3dee12747a19.ngrok.io\n",
            " * Traffic stats available on http://127.0.0.1:4040\n",
            "127.0.0.1 - - [16/May/2021 11:30:37] \"GET /student/sumtih HTTP/1.1\" 200 -\n",
            "^C\n"
          ],
          "name": "stdout"
        }
      ]
    },
    {
      "cell_type": "code",
      "metadata": {
        "colab": {
          "base_uri": "https://localhost:8080/"
        },
        "id": "W45fSMds7gEy",
        "outputId": "c6e07f26-ea1e-4b0a-eb81-4de58fd18589"
      },
      "source": [
        "%%writefile bin/app.py\n",
        "from flask import Flask, request\n",
        "from flask_restful import Resource, Api\n",
        "from flask_ngrok import run_with_ngrok\n",
        "\n",
        "app = Flask(__name__)\n",
        "api = Api(app)\n",
        "run_with_ngrok(app)\n",
        "\n",
        "items = []\n",
        "\n",
        "class Item(Resource):\n",
        "  def get(self, name):\n",
        "    for item in items:\n",
        "      if item['name'] == name:\n",
        "        return item\n",
        "    return {\"item\": None}, 404\n",
        "\n",
        "  def post(self, name):\n",
        "    data = request.get_json()\n",
        "    item = {'name': name, 'price': data['price']}\n",
        "    items.append(item)\n",
        "    return item, 201\n",
        "\n",
        "class ItemList(Resource):\n",
        "  def get(self):\n",
        "    return {'items': items}\n",
        "\n",
        "\n",
        "api.add_resource(Item, '/item/<string:name>')\n",
        "api.add_resource(ItemList, '/items')\n",
        "\n",
        "if __name__ == '__main__':\n",
        "  app.run()"
      ],
      "execution_count": 29,
      "outputs": [
        {
          "output_type": "stream",
          "text": [
            "Overwriting bin/app.py\n"
          ],
          "name": "stdout"
        }
      ]
    },
    {
      "cell_type": "code",
      "metadata": {
        "colab": {
          "base_uri": "https://localhost:8080/"
        },
        "id": "u7UJaZDtBEMa",
        "outputId": "40e74b1b-e4e4-4dc0-b6ce-0b890ed678d4"
      },
      "source": [
        "!python bin/app.py"
      ],
      "execution_count": 30,
      "outputs": [
        {
          "output_type": "stream",
          "text": [
            " * Serving Flask app \"app\" (lazy loading)\n",
            " * Environment: production\n",
            "\u001b[31m   WARNING: This is a development server. Do not use it in a production deployment.\u001b[0m\n",
            "\u001b[2m   Use a production WSGI server instead.\u001b[0m\n",
            " * Debug mode: off\n",
            " * Running on http://127.0.0.1:5000/ (Press CTRL+C to quit)\n",
            " * Running on http://17f901bcae32.ngrok.io\n",
            " * Traffic stats available on http://127.0.0.1:4040\n",
            "127.0.0.1 - - [16/May/2021 12:13:11] \"\u001b[35m\u001b[1mPOST /item/x1 HTTP/1.1\u001b[0m\" 201 -\n",
            "127.0.0.1 - - [16/May/2021 12:13:29] \"GET /items HTTP/1.1\" 200 -\n",
            "127.0.0.1 - - [16/May/2021 12:13:43] \"\u001b[35m\u001b[1mPOST /item/chair HTTP/1.1\u001b[0m\" 201 -\n",
            "127.0.0.1 - - [16/May/2021 12:13:48] \"GET /items HTTP/1.1\" 200 -\n",
            "^C\n"
          ],
          "name": "stdout"
        }
      ]
    },
    {
      "cell_type": "code",
      "metadata": {
        "colab": {
          "base_uri": "https://localhost:8080/"
        },
        "id": "3qqDrUXoBHDE",
        "outputId": "ec30f1e6-73a6-4400-ebf8-32477710dc7a"
      },
      "source": [
        "%%writefile bin/app.py\n",
        "from flask import Flask, request\n",
        "from flask_restful import Resource, Api\n",
        "from flask_ngrok import run_with_ngrok\n",
        "\n",
        "app = Flask(__name__)\n",
        "api = Api(app)\n",
        "run_with_ngrok(app)\n",
        "\n",
        "items = []\n",
        "\n",
        "class Item(Resource):\n",
        "  def get(self, name):\n",
        "    item = next(filter(lambda x: x['name'] == name, items), None)\n",
        "    return {\"item\": item}, 200 if item else 404\n",
        "\n",
        "  def post(self, name):\n",
        "    if next(filter(lambda x: x['name'] == name, items), None) is not None:\n",
        "      return {'message': \" an item  '{}' exist\".format(name)}, 400\n",
        "\n",
        "    data = request.get_json()\n",
        "    item = {'name': name, 'price': data['price']}\n",
        "    items.append(item)\n",
        "    return item, 201\n",
        "\n",
        "class ItemList(Resource):\n",
        "  def get(self):\n",
        "    return {'items': items}\n",
        "\n",
        "\n",
        "api.add_resource(Item, '/item/<string:name>')\n",
        "api.add_resource(ItemList, '/items')\n",
        "\n",
        "if __name__ == '__main__':\n",
        "  app.run()"
      ],
      "execution_count": 34,
      "outputs": [
        {
          "output_type": "stream",
          "text": [
            "Overwriting bin/app.py\n"
          ],
          "name": "stdout"
        }
      ]
    },
    {
      "cell_type": "code",
      "metadata": {
        "id": "uFN3HW5QIpo8",
        "outputId": "38ef88ed-b984-482b-a6af-41f6b0feb42b",
        "colab": {
          "base_uri": "https://localhost:8080/"
        }
      },
      "source": [
        "!python bin/app.py"
      ],
      "execution_count": 36,
      "outputs": [
        {
          "output_type": "stream",
          "text": [
            " * Serving Flask app \"app\" (lazy loading)\n",
            " * Environment: production\n",
            "\u001b[31m   WARNING: This is a development server. Do not use it in a production deployment.\u001b[0m\n",
            "\u001b[2m   Use a production WSGI server instead.\u001b[0m\n",
            " * Debug mode: off\n",
            " * Running on http://127.0.0.1:5000/ (Press CTRL+C to quit)\n",
            " * Running on http://9a98de8f1f53.ngrok.io\n",
            " * Traffic stats available on http://127.0.0.1:4040\n",
            "127.0.0.1 - - [16/May/2021 12:25:04] \"\u001b[35m\u001b[1mPOST /item/chair HTTP/1.1\u001b[0m\" 201 -\n",
            "127.0.0.1 - - [16/May/2021 12:25:07] \"\u001b[31m\u001b[1mPOST /item/chair HTTP/1.1\u001b[0m\" 400 -\n",
            "127.0.0.1 - - [16/May/2021 12:25:10] \"\u001b[31m\u001b[1mPOST /item/chair HTTP/1.1\u001b[0m\" 400 -\n",
            "127.0.0.1 - - [16/May/2021 12:25:19] \"GET /items HTTP/1.1\" 200 -\n",
            "127.0.0.1 - - [16/May/2021 12:25:34] \"\u001b[31m\u001b[1mPOST /item/chair HTTP/1.1\u001b[0m\" 400 -\n",
            "127.0.0.1 - - [16/May/2021 12:25:41] \"\u001b[35m\u001b[1mPOST /item/desk HTTP/1.1\u001b[0m\" 201 -\n",
            "127.0.0.1 - - [16/May/2021 12:25:43] \"\u001b[31m\u001b[1mPOST /item/desk HTTP/1.1\u001b[0m\" 400 -\n",
            "127.0.0.1 - - [16/May/2021 12:25:48] \"GET /items HTTP/1.1\" 200 -\n",
            "127.0.0.1 - - [16/May/2021 12:26:25] \"\u001b[33mGET /item/chiar HTTP/1.1\u001b[0m\" 404 -\n",
            "127.0.0.1 - - [16/May/2021 12:26:30] \"GET /item/desk HTTP/1.1\" 200 -\n",
            "127.0.0.1 - - [16/May/2021 12:26:41] \"GET /item/chair HTTP/1.1\" 200 -\n",
            "^C\n"
          ],
          "name": "stdout"
        }
      ]
    },
    {
      "cell_type": "code",
      "metadata": {
        "id": "neD6UEDuIrXO"
      },
      "source": [
        ""
      ],
      "execution_count": null,
      "outputs": []
    }
  ]
}