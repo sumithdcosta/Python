{
  "nbformat": 4,
  "nbformat_minor": 0,
  "metadata": {
    "colab": {
      "name": "Untitled68.ipynb",
      "provenance": [],
      "include_colab_link": true
    },
    "kernelspec": {
      "name": "python3",
      "display_name": "Python 3"
    }
  },
  "cells": [
    {
      "cell_type": "markdown",
      "metadata": {
        "id": "view-in-github",
        "colab_type": "text"
      },
      "source": [
        "<a href=\"https://colab.research.google.com/github/sumithdcosta/Python/blob/master/9.%20Modules/collections%20-%20NamedTuple.ipynb\" target=\"_parent\"><img src=\"https://colab.research.google.com/assets/colab-badge.svg\" alt=\"Open In Colab\"/></a>"
      ]
    },
    {
      "cell_type": "markdown",
      "metadata": {
        "id": "UU5tH0sAJqTi",
        "colab_type": "text"
      },
      "source": [
        "9. Modules/collections - NamedTuple.ipynb"
      ]
    },
    {
      "cell_type": "markdown",
      "metadata": {
        "id": "JhYXi5XQJmVC",
        "colab_type": "text"
      },
      "source": [
        "**Namedtuple in Python**\n",
        "\n",
        "Python supports a type of container like dictionaries called “**namedtuples()**” present in module, “**collection**“. Like dictionaries they contain keys that are hashed to a particular value. But on contrary, it supports both access from key value and iteration, the functionality that dictionaries lack.\n",
        "\n",
        "Operations on namedtuple() :\n",
        "\n",
        "Access Operations\n",
        "1. Access by index : The attribute values of namedtuple() are ordered and can be accessed using the index number unlike dictionaries which are not accessible by index.\n",
        "\n",
        "2. Access by keyname : Access by keyname is also allowed as in dictionaries.\n",
        "\n",
        "3. using getattr() :- This is yet another way to access the value by giving namedtuple and key value as its argument.\n",
        "\n",
        "\n"
      ]
    },
    {
      "cell_type": "code",
      "metadata": {
        "id": "smZ8tXj-JlNM",
        "colab_type": "code",
        "colab": {
          "base_uri": "https://localhost:8080/",
          "height": 70
        },
        "outputId": "4c6dd203-c8a2-4146-d1da-57814ddffa55"
      },
      "source": [
        "# Access by name, index and getattr() \n",
        "\n",
        "# importing \"collections\" for namedtuple() \n",
        "import collections \n",
        "\n",
        "# Declaring namedtuple() \n",
        "Student = collections.namedtuple('Student',['name','age','DOB']) \n",
        "\n",
        "# Adding values \n",
        "S = Student('Sumith','25','12121982') \n",
        "\n",
        "# Access using index \n",
        "print (\"The Student age using index is : \",end =\"\") \n",
        "print (S[1]) \n",
        "\n",
        "# Access using name \n",
        "print (\"The Student name using keyname is : \",end =\"\") \n",
        "print (S.name) \n",
        "\n",
        "# Access using getattr() \n",
        "print (\"The Student DOB using getattr() is : \",end =\"\") \n",
        "print (getattr(S,'DOB')) \n"
      ],
      "execution_count": 1,
      "outputs": [
        {
          "output_type": "stream",
          "text": [
            "The Student age using index is : 25\n",
            "The Student name using keyname is : Sumith\n",
            "The Student DOB using getattr() is : 12121982\n"
          ],
          "name": "stdout"
        }
      ]
    },
    {
      "cell_type": "markdown",
      "metadata": {
        "id": "zWp04c5UPEQd",
        "colab_type": "text"
      },
      "source": [
        "**Conversion Operations**\n",
        "1. _make() :- This function is used to return a namedtuple() from the iterable passed as argument.\n",
        "\n",
        "2. _asdict() :- This function returns the OrdereDict() as constructed from the mapped values of namedtuple().\n",
        "\n",
        "3. using “**” (double star) operator :- This function is used to convert a dictionary into the namedtuple()."
      ]
    },
    {
      "cell_type": "code",
      "metadata": {
        "id": "UU-MEQ8-O4m8",
        "colab_type": "code",
        "colab": {
          "base_uri": "https://localhost:8080/",
          "height": 123
        },
        "outputId": "195ed731-08ae-41ba-e0a1-9f5d0a8ff5a7"
      },
      "source": [
        "# _make(), _asdict() and \"**\" operator \n",
        "\n",
        "# importing \"collections\" for namedtuple() \n",
        "import collections \n",
        "\n",
        "# Declaring namedtuple() \n",
        "Student = collections.namedtuple('Student',['name','age','DOB']) \n",
        "\n",
        "# Adding values \n",
        "S = Student('Sumith','25','12121982') \n",
        "\n",
        "# initializing iterable \n",
        "li = ['Rajesh', '32', '05121987' ] \n",
        "\n",
        "# initializing dict \n",
        "di = { 'name' : \"Alok\", 'age' : 37 , 'DOB' : '10011982' } \n",
        "\n",
        "# using _make() to return namedtuple() \n",
        "print (\"The namedtuple instance using iterable is : \") \n",
        "print (Student._make(li)) \n",
        "\n",
        "# using _asdict() to return an OrderedDict() \n",
        "print (\"The OrderedDict instance using namedtuple is : \") \n",
        "print (S._asdict()) \n",
        "\n",
        "# using ** operator to return namedtuple from dictionary \n",
        "print (\"The namedtuple instance from dict is : \") \n",
        "print (Student(**di)) \n"
      ],
      "execution_count": 2,
      "outputs": [
        {
          "output_type": "stream",
          "text": [
            "The namedtuple instance using iterable is : \n",
            "Student(name='Rajesh', age='32', DOB='05121987')\n",
            "The OrderedDict instance using namedtuple is : \n",
            "OrderedDict([('name', 'Sumith'), ('age', '25'), ('DOB', '12121982')])\n",
            "The namedtuple instance from dict is : \n",
            "Student(name='Alok', age=37, DOB='10011982')\n"
          ],
          "name": "stdout"
        }
      ]
    },
    {
      "cell_type": "markdown",
      "metadata": {
        "id": "E1l1xqNJQBG4",
        "colab_type": "text"
      },
      "source": [
        "Additional Operations\n",
        "\n",
        "1. _fields :- This function is used to return all the keynames of the namespace declared.\n",
        "\n",
        "2. _replace() :- This function is used to change the values mapped with the passed keyname."
      ]
    },
    {
      "cell_type": "code",
      "metadata": {
        "id": "YfPluPuWPqcT",
        "colab_type": "code",
        "colab": {
          "base_uri": "https://localhost:8080/",
          "height": 87
        },
        "outputId": "19bc0a42-79dc-4c5a-ae41-3169cdaef7ee"
      },
      "source": [
        "# _fields and _replace() \n",
        "\n",
        "# importing \"collections\" for namedtuple() \n",
        "import collections \n",
        "\n",
        "# Declaring namedtuple() \n",
        "Student = collections.namedtuple('Student',['name','age','DOB']) \n",
        "\n",
        "# Adding values \n",
        "S = Student('Sumith','25','12121982') \n",
        "\n",
        "# using _fields to display all the keynames of namedtuple() \n",
        "print (\"All the fields of students are : \") \n",
        "print (S._fields) \n",
        "\n",
        "# using _replace() to change the attribute values of namedtuple \n",
        "print (\"The modified namedtuple is : \") \n",
        "print(S._replace(name = 'Arjun')) \n"
      ],
      "execution_count": 3,
      "outputs": [
        {
          "output_type": "stream",
          "text": [
            "All the fields of students are : \n",
            "('name', 'age', 'DOB')\n",
            "The modified namedtuple is : \n",
            "Student(name='Arjun', age='25', DOB='12121982')\n"
          ],
          "name": "stdout"
        }
      ]
    },
    {
      "cell_type": "code",
      "metadata": {
        "id": "nMeyDAOtQS6Y",
        "colab_type": "code",
        "colab": {}
      },
      "source": [
        ""
      ],
      "execution_count": 0,
      "outputs": []
    }
  ]
}