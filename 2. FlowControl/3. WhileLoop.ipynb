{
  "nbformat": 4,
  "nbformat_minor": 0,
  "metadata": {
    "colab": {
      "name": "Untitled12.ipynb",
      "provenance": [],
      "include_colab_link": true
    },
    "kernelspec": {
      "name": "python3",
      "display_name": "Python 3"
    }
  },
  "cells": [
    {
      "cell_type": "markdown",
      "metadata": {
        "id": "view-in-github",
        "colab_type": "text"
      },
      "source": [
        "<a href=\"https://colab.research.google.com/github/sumithdcosta/Python/blob/master/2.%20FlowControl/3.%20WhileLoop.ipynb\" target=\"_parent\"><img src=\"https://colab.research.google.com/assets/colab-badge.svg\" alt=\"Open In Colab\"/></a>"
      ]
    },
    {
      "cell_type": "markdown",
      "metadata": {
        "id": "D_ALjphNVxtR",
        "colab_type": "text"
      },
      "source": [
        "2. FlowControl/3. WhileLoop.ipynb"
      ]
    },
    {
      "cell_type": "markdown",
      "metadata": {
        "id": "5CI9vBa-X0K6",
        "colab_type": "text"
      },
      "source": [
        "**What is while loop in Python?**\n",
        "\n",
        "The while loop in Python is used to iterate over a block of code as long as the test expression (condition) is true.\n",
        "\n",
        "We generally use this loop when we don't know beforehand, the number of times to iterate.\n",
        "\n",
        "**Syntax of while Loop in Python**\n",
        "\n",
        "```\n",
        "while test_expression:\n",
        "    Body of while\n",
        "```\n",
        "In while loop, test expression is checked first. The body of the loop is entered only if the **test_expression** evaluates to **True**. After one iteration, the test expression is checked again. This process continues until the **test_expression** evaluates to **False**.\n",
        "\n",
        "In Python, the body of the while loop is determined through indentation.\n",
        "\n",
        "Body starts with indentation and the first unindented line marks the end.\n",
        "\n",
        "Python interprets any **non-zero** value as **True**. **None** and **0** are interpreted as **False**.\n",
        "\n",
        "![alt text](https://drive.google.com/uc?export=view&id=1w0maf4am9GS5PAwUOZJ-LaTLGuwS3xAw)"
      ]
    },
    {
      "cell_type": "markdown",
      "metadata": {
        "id": "f2rVMDGkYv84",
        "colab_type": "text"
      },
      "source": [
        "**Example: Python while Loop**"
      ]
    },
    {
      "cell_type": "code",
      "metadata": {
        "id": "xbYB9MlYVwgT",
        "colab_type": "code",
        "colab": {
          "base_uri": "https://localhost:8080/",
          "height": 34
        },
        "outputId": "6790e18b-cfe0-4659-becf-e8493f1c577a"
      },
      "source": [
        "# Program to add natural\n",
        "# numbers upto \n",
        "# sum = 1+2+3+...+n\n",
        "\n",
        "# To take input from the user,\n",
        "# n = int(input(\"Enter n: \"))\n",
        "\n",
        "n = 10\n",
        "\n",
        "# initialize sum and counter\n",
        "sum = 0\n",
        "i = 1\n",
        "\n",
        "while i <= n:\n",
        "    sum = sum + i\n",
        "    i = i+1    # update counter\n",
        "\n",
        "# print the sum\n",
        "print(\"The sum is\", sum)"
      ],
      "execution_count": 1,
      "outputs": [
        {
          "output_type": "stream",
          "text": [
            "The sum is 55\n"
          ],
          "name": "stdout"
        }
      ]
    },
    {
      "cell_type": "markdown",
      "metadata": {
        "id": "aJTjWnRxY_3b",
        "colab_type": "text"
      },
      "source": [
        "In the above program, the test expression will be **True** as long as our counter variable **i** is less than or equal to **n **(10 in our program).\n",
        "\n",
        "We need to increase the value of counter variable in the body of the loop. This is very important (and mostly forgotten). Failing to do so will result in an infinite loop (never ending loop).\n",
        "\n",
        "Finally the result is displayed."
      ]
    },
    {
      "cell_type": "markdown",
      "metadata": {
        "id": "1GX0jNIEZK8g",
        "colab_type": "text"
      },
      "source": [
        "**while loop with else**\n",
        "\n",
        "Same as that of for loop, we can have an optional else block with while loop as well.\n",
        "\n",
        "The else part is executed if the condition in the while loop evaluates to False.\n",
        "\n",
        "**The while loop can be terminated with a break statement.** In such case, the else part is ignored. Hence, a while loop's else part runs if no break occurs and the condition is false.\n",
        "\n",
        "Here is an example to illustrate this."
      ]
    },
    {
      "cell_type": "code",
      "metadata": {
        "id": "Ls--YaPuYz5h",
        "colab_type": "code",
        "colab": {
          "base_uri": "https://localhost:8080/",
          "height": 87
        },
        "outputId": "03e95c30-3ede-47b7-98a1-825c3b0efbda"
      },
      "source": [
        "# Example to illustrate\n",
        "# the use of else statement\n",
        "# with the while loop\n",
        "\n",
        "counter = 0\n",
        "\n",
        "while counter < 3:\n",
        "    print(\"Inside loop\")\n",
        "    counter = counter + 1\n",
        "else:\n",
        "    print(\"Inside else\")"
      ],
      "execution_count": 2,
      "outputs": [
        {
          "output_type": "stream",
          "text": [
            "Inside loop\n",
            "Inside loop\n",
            "Inside loop\n",
            "Inside else\n"
          ],
          "name": "stdout"
        }
      ]
    },
    {
      "cell_type": "markdown",
      "metadata": {
        "id": "KzrpiDVvaUN9",
        "colab_type": "text"
      },
      "source": [
        "\n",
        "On the forth iteration, the condition in while becomes False. Hence, the else part is executed."
      ]
    },
    {
      "cell_type": "code",
      "metadata": {
        "id": "T3sX_tQ-aPFn",
        "colab_type": "code",
        "colab": {}
      },
      "source": [
        ""
      ],
      "execution_count": 0,
      "outputs": []
    }
  ]
}