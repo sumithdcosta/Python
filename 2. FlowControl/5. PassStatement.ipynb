{
  "nbformat": 4,
  "nbformat_minor": 0,
  "metadata": {
    "colab": {
      "name": "Untitled14.ipynb",
      "provenance": [],
      "include_colab_link": true
    },
    "kernelspec": {
      "name": "python3",
      "display_name": "Python 3"
    }
  },
  "cells": [
    {
      "cell_type": "markdown",
      "metadata": {
        "id": "view-in-github",
        "colab_type": "text"
      },
      "source": [
        "<a href=\"https://colab.research.google.com/github/sumithdcosta/Python/blob/master/2.%20FlowControl/5.%20PassStatement.ipynb\" target=\"_parent\"><img src=\"https://colab.research.google.com/assets/colab-badge.svg\" alt=\"Open In Colab\"/></a>"
      ]
    },
    {
      "cell_type": "markdown",
      "metadata": {
        "id": "mSn5CnRb8M1y",
        "colab_type": "text"
      },
      "source": [
        "2. FlowControl/5. PassStatement.ipynb"
      ]
    },
    {
      "cell_type": "markdown",
      "metadata": {
        "id": "DRmBAjC08UY6",
        "colab_type": "text"
      },
      "source": [
        "**What is pass statement in Python?**\n",
        "\n",
        "In Python programming, pass is a null statement. The difference between a comment and pass statement in Python is that, while the interpreter ignores a comment entirely, pass is not ignored.\n",
        "\n",
        "However, nothing happens when pass is executed. It results into no operation (NOP).\n",
        "\n",
        "**Syntax of pass**\n",
        "```\n",
        "pass\n",
        "```\n",
        "We generally use it as a placeholder.\n",
        "\n",
        "Suppose we have a loop or a function that is not implemented yet, but we want to implement it in the future. They cannot have an empty body. The interpreter would complain. So, we use the pass statement to construct a body that does nothing.\n",
        "\n",
        "Example: pass Statement"
      ]
    },
    {
      "cell_type": "code",
      "metadata": {
        "id": "BQJyCjun8nUx",
        "colab_type": "code",
        "colab": {}
      },
      "source": [
        "# pass is just a placeholder for\n",
        "# functionality to be added later.\n",
        "sequence = {'p', 'a', 's', 's'}\n",
        "for val in sequence:\n",
        "    pass\n"
      ],
      "execution_count": 0,
      "outputs": []
    },
    {
      "cell_type": "code",
      "metadata": {
        "id": "w0Zmff5P8K7b",
        "colab_type": "code",
        "colab": {}
      },
      "source": [
        "We can do the same thing in an empty function or class as well."
      ],
      "execution_count": 0,
      "outputs": []
    },
    {
      "cell_type": "code",
      "metadata": {
        "id": "OgBy_lxO8yEE",
        "colab_type": "code",
        "colab": {}
      },
      "source": [
        "def function(args):\n",
        "    pass\n",
        "\n",
        "class example:\n",
        "    pass"
      ],
      "execution_count": 0,
      "outputs": []
    },
    {
      "cell_type": "code",
      "metadata": {
        "id": "T3kNyctH8zBX",
        "colab_type": "code",
        "colab": {}
      },
      "source": [
        ""
      ],
      "execution_count": 0,
      "outputs": []
    }
  ]
}