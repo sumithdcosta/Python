{
  "nbformat": 4,
  "nbformat_minor": 0,
  "metadata": {
    "colab": {
      "name": "Untitled13.ipynb",
      "provenance": [],
      "include_colab_link": true
    },
    "kernelspec": {
      "name": "python3",
      "display_name": "Python 3"
    }
  },
  "cells": [
    {
      "cell_type": "markdown",
      "metadata": {
        "id": "view-in-github",
        "colab_type": "text"
      },
      "source": [
        "<a href=\"https://colab.research.google.com/github/sumithdcosta/Python/blob/master/2.%20FlowControl/4.%20Break%26Continue.ipynb\" target=\"_parent\"><img src=\"https://colab.research.google.com/assets/colab-badge.svg\" alt=\"Open In Colab\"/></a>"
      ]
    },
    {
      "cell_type": "markdown",
      "metadata": {
        "id": "WJjY1IwDavaQ",
        "colab_type": "text"
      },
      "source": [
        "2. FlowControl/4. Break&Continue.ipynb"
      ]
    },
    {
      "cell_type": "markdown",
      "metadata": {
        "id": "2XLFvPi6ay0U",
        "colab_type": "text"
      },
      "source": [
        "**What is the use of break and continue in Python?**\n",
        "\n",
        "In Python, break and continue statements can alter the flow of a normal loop.\n",
        "\n",
        "Loops iterate over a block of code until test expression is false, but sometimes we wish to terminate the current iteration or even the whole loop without checking test expression.\n",
        "\n",
        "The break and continue statements are used in these cases.\n",
        "\n",
        "**Python break statement**\n",
        "\n",
        "The break statement terminates the loop containing it. Control of the program flows to the statement immediately after the body of the loop.\n",
        "\n",
        "If break statement is inside a nested loop (loop inside another loop), break will terminate the innermost loop.\n",
        "\n",
        "**Syntax of break**\n",
        "\n",
        "```\n",
        "break\n",
        "```\n",
        "\n",
        "**Flowchart of break**\n",
        "\n",
        "![alt text](https://drive.google.com/uc?export=view&id=1MMDs6njMMi9uC1yP_T_1L_veDjm9NV9F)\n",
        "\n"
      ]
    },
    {
      "cell_type": "markdown",
      "metadata": {
        "id": "uNroBHwr5xxE",
        "colab_type": "text"
      },
      "source": [
        "The working of break statement in for loop and while loop is shown below.\n",
        "\n",
        "![alt text](https://drive.google.com/uc?export=view&id=1QC0IPiBqSVSJu4fF5g6dA19BC9iR5Xke)\n",
        "\n"
      ]
    },
    {
      "cell_type": "markdown",
      "metadata": {
        "id": "h-IOQIi26Mui",
        "colab_type": "text"
      },
      "source": [
        "**Example: Python break**"
      ]
    },
    {
      "cell_type": "code",
      "metadata": {
        "id": "MLTCjcRMakMt",
        "colab_type": "code",
        "colab": {
          "base_uri": "https://localhost:8080/",
          "height": 85
        },
        "outputId": "4e533ab2-1336-4bd0-dd43-d2f317e56fd1"
      },
      "source": [
        "# Use of break statement inside loop\n",
        "\n",
        "for val in \"string\":\n",
        "    if val == \"i\":\n",
        "        break\n",
        "    print(val)\n",
        "\n",
        "print(\"The end\")"
      ],
      "execution_count": 1,
      "outputs": [
        {
          "output_type": "stream",
          "text": [
            "s\n",
            "t\n",
            "r\n",
            "The end\n"
          ],
          "name": "stdout"
        }
      ]
    },
    {
      "cell_type": "markdown",
      "metadata": {
        "id": "NvyIduXD6jT-",
        "colab_type": "text"
      },
      "source": [
        "In this program, we iterate through the \"string\" sequence. We check if the letter is \"i\", upon which we break from the loop. Hence, we see in our output that all the letters up till \"i\" gets printed. After that, the loop terminates."
      ]
    },
    {
      "cell_type": "markdown",
      "metadata": {
        "id": "lycCh6qC6s93",
        "colab_type": "text"
      },
      "source": [
        "**Python continue statement**\n",
        "\n",
        "The continue statement is used to skip the rest of the code inside a loop for the current iteration only. Loop does not terminate but continues on with the next iteration.\n",
        "\n",
        "**Syntax of Continue**\n",
        "```\n",
        "continue\n",
        "```\n",
        "**Flowchart of continue**\n",
        "\n",
        "![alt text](https://drive.google.com/uc?export=view&id=11IwzBmFDxkyrVeuDOP6hSfmxRe_Ud8Ph)\n",
        "\n",
        "The working of continue statement in for and while loop is shown below.\n",
        "\n",
        "![alt text](https://drive.google.com/uc?export=view&id=1WzE9gr3EKRnjSHacVHgTt3WUeTz_ucEr)\n",
        "\n"
      ]
    },
    {
      "cell_type": "markdown",
      "metadata": {
        "id": "Vyu7cOWd7mUM",
        "colab_type": "text"
      },
      "source": [
        "**Example: Python continue**"
      ]
    },
    {
      "cell_type": "code",
      "metadata": {
        "id": "BT4zTxoE6QO1",
        "colab_type": "code",
        "colab": {
          "base_uri": "https://localhost:8080/",
          "height": 119
        },
        "outputId": "c392861d-8d9b-47b3-c84d-12f190f54735"
      },
      "source": [
        "# Program to show the use of continue statement inside loops\n",
        "\n",
        "for val in \"string\":\n",
        "    if val == \"i\":\n",
        "        continue\n",
        "    print(val)\n",
        "\n",
        "print(\"The end\")"
      ],
      "execution_count": 2,
      "outputs": [
        {
          "output_type": "stream",
          "text": [
            "s\n",
            "t\n",
            "r\n",
            "n\n",
            "g\n",
            "The end\n"
          ],
          "name": "stdout"
        }
      ]
    },
    {
      "cell_type": "markdown",
      "metadata": {
        "id": "FXJ4lZDr7v0V",
        "colab_type": "text"
      },
      "source": [
        "This program is same as the above example except the break statement has been replaced with continue.\n",
        "\n",
        "We continue with the loop, if the string is \"i\", not executing the rest of the block. Hence, we see in our output that all the letters except \"i\" gets printed."
      ]
    },
    {
      "cell_type": "code",
      "metadata": {
        "id": "gwstXyx57t_P",
        "colab_type": "code",
        "colab": {}
      },
      "source": [
        ""
      ],
      "execution_count": 0,
      "outputs": []
    }
  ]
}