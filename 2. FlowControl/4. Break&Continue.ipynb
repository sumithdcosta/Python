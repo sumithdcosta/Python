{
  "nbformat": 4,
  "nbformat_minor": 0,
  "metadata": {
    "colab": {
      "name": "Untitled13.ipynb",
      "provenance": [],
      "include_colab_link": true
    },
    "kernelspec": {
      "name": "python3",
      "display_name": "Python 3"
    }
  },
  "cells": [
    {
      "cell_type": "markdown",
      "metadata": {
        "id": "view-in-github",
        "colab_type": "text"
      },
      "source": [
        "<a href=\"https://colab.research.google.com/github/sumithdcosta/Python/blob/master/2.%20FlowControl/4.%20Break%26Continue.ipynb\" target=\"_parent\"><img src=\"https://colab.research.google.com/assets/colab-badge.svg\" alt=\"Open In Colab\"/></a>"
      ]
    },
    {
      "cell_type": "markdown",
      "metadata": {
        "id": "WJjY1IwDavaQ",
        "colab_type": "text"
      },
      "source": [
        "2. FlowControl/4. Break&Continue.ipynb"
      ]
    },
    {
      "cell_type": "markdown",
      "metadata": {
        "id": "2XLFvPi6ay0U",
        "colab_type": "text"
      },
      "source": [
        "**What is the use of break and continue in Python?**\n",
        "\n",
        "In Python, break and continue statements can alter the flow of a normal loop.\n",
        "\n",
        "Loops iterate over a block of code until test expression is false, but sometimes we wish to terminate the current iteration or even the whole loop without checking test expression.\n",
        "\n",
        "The break and continue statements are used in these cases.\n",
        "\n",
        "Python break statement\n",
        "\n",
        "The break statement terminates the loop containing it. Control of the program flows to the statement immediately after the body of the loop.\n",
        "\n",
        "If break statement is inside a nested loop (loop inside another loop), break will terminate the innermost loop.\n",
        "\n",
        "Syntax of break\n",
        "\n",
        "break\n",
        "\n",
        "Flowchart of break"
      ]
    },
    {
      "cell_type": "code",
      "metadata": {
        "id": "MLTCjcRMakMt",
        "colab_type": "code",
        "colab": {}
      },
      "source": [
        ""
      ],
      "execution_count": 0,
      "outputs": []
    }
  ]
}