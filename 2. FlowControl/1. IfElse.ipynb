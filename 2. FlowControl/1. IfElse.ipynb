{
  "nbformat": 4,
  "nbformat_minor": 0,
  "metadata": {
    "colab": {
      "name": "Untitled11.ipynb",
      "provenance": [],
      "include_colab_link": true
    },
    "kernelspec": {
      "name": "python3",
      "display_name": "Python 3"
    }
  },
  "cells": [
    {
      "cell_type": "markdown",
      "metadata": {
        "id": "view-in-github",
        "colab_type": "text"
      },
      "source": [
        "<a href=\"https://colab.research.google.com/github/sumithdcosta/Python/blob/master/2.%20FlowControl/1.%20IfElse.ipynb\" target=\"_parent\"><img src=\"https://colab.research.google.com/assets/colab-badge.svg\" alt=\"Open In Colab\"/></a>"
      ]
    },
    {
      "cell_type": "markdown",
      "metadata": {
        "id": "usM2625dA_eE",
        "colab_type": "text"
      },
      "source": [
        "2. FlowControl/1. IfElse.ipynb"
      ]
    },
    {
      "cell_type": "markdown",
      "metadata": {
        "id": "n0iMpSnzDZIa",
        "colab_type": "text"
      },
      "source": [
        "**if...else Statement**\n",
        "\n",
        "**What are if...else statement in Python?**\n",
        "\n",
        "Decision making is required when we want to execute a code only if a certain condition is satisfied.\n",
        "\n",
        "The if…elif…else statement is used in Python for decision making.\n",
        "\n",
        "**Python if Statement Syntax**\n",
        "```\n",
        "if test expression:\n",
        "    statement(s)\n",
        "```\n",
        "Here, the program evaluates the **test expression** and will execute statement(s) only if the text expression is **True**.\n",
        "\n",
        "If the text expression is **False**, the statement(s) is not executed.\n",
        "\n",
        "In Python, the body of the if statement is indicated by the indentation. Body starts with an indentation and the first unindented line marks the end.\n",
        "\n",
        "Python interprets non-zero values as **True**. **None** and **0** are interpreted as **False**.\n",
        "\n",
        "![alt text](https://drive.google.com/uc?export=view&id=1kvLk4VWXyjF_bDY1QwL8f9m7Qz9TKvtN)\n",
        "\n",
        "**Example: Python if Statement**"
      ]
    },
    {
      "cell_type": "code",
      "metadata": {
        "id": "7Gn6xaQpA4rK",
        "colab_type": "code",
        "colab": {
          "base_uri": "https://localhost:8080/",
          "height": 70
        },
        "outputId": "fee037c7-4bff-478b-a0f5-fbd846ce5a6a"
      },
      "source": [
        "# If the number is positive, we print an appropriate message\n",
        "\n",
        "num = 3\n",
        "if num > 0:\n",
        "    print(num, \"is a positive number.\")\n",
        "print(\"This is always printed.\")\n",
        "\n",
        "num = -1\n",
        "if num > 0:\n",
        "    print(num, \"is a positive number.\")\n",
        "print(\"This is also always printed.\")"
      ],
      "execution_count": 1,
      "outputs": [
        {
          "output_type": "stream",
          "text": [
            "3 is a positive number.\n",
            "This is always printed.\n",
            "This is also always printed.\n"
          ],
          "name": "stdout"
        }
      ]
    },
    {
      "cell_type": "markdown",
      "metadata": {
        "id": "NnXGGuNWEtHl",
        "colab_type": "text"
      },
      "source": [
        "In the above example, **num > 0** is the test expression.\n",
        "\n",
        "The body of **if** is executed only if this evaluates to **True**.\n",
        "\n",
        "When variable **num** is equal to 3, test expression is true and body inside body of **if** is executed.\n",
        "\n",
        "If variable **num** is equal to -1, test expression is false and body inside body of **if** is skipped.\n",
        "\n",
        "The **print**() statement falls outside of the **if** block (unindented). Hence, it is executed regardless of the test expression.\n",
        "\n",
        "**Python if...else Statement**\n",
        "\n",
        "**Syntax of if...else**\n",
        "```\n",
        "if test expression:\n",
        "    Body of if\n",
        "else:\n",
        "    Body of else\n",
        "```\n",
        "The **if..else** statement evaluates **test expression** and will execute body of **if** only when test condition is **True**.\n",
        "\n",
        "If the condition is **False**, body of **else** is executed. Indentation is used to separate the blocks.\n",
        "\n",
        "**Python if..else Flowchart**\n",
        "\n",
        "![alt text](https://drive.google.com/uc?export=view&id=1sCdf--CQO2IOyR6TLdcgzdwxjAYfKgLu)"
      ]
    },
    {
      "cell_type": "markdown",
      "metadata": {
        "id": "1wHADPcOF88s",
        "colab_type": "text"
      },
      "source": [
        "**Example of if...else**"
      ]
    },
    {
      "cell_type": "code",
      "metadata": {
        "id": "qtNd3iCqEi9N",
        "colab_type": "code",
        "colab": {
          "base_uri": "https://localhost:8080/",
          "height": 34
        },
        "outputId": "bc0b25c7-cff7-41a1-e4f3-1003440fbe4e"
      },
      "source": [
        "# Program checks if the number is positive or negative\n",
        "# And displays an appropriate message\n",
        "\n",
        "num = 3\n",
        "\n",
        "# Try these two variations as well. \n",
        "# num = -5\n",
        "# num = 0\n",
        "\n",
        "if num >= 0:\n",
        "    print(\"Positive or Zero\")\n",
        "else:\n",
        "    print(\"Negative number\")"
      ],
      "execution_count": 2,
      "outputs": [
        {
          "output_type": "stream",
          "text": [
            "Positive or Zero\n"
          ],
          "name": "stdout"
        }
      ]
    },
    {
      "cell_type": "markdown",
      "metadata": {
        "id": "MrKbPwX2GEu9",
        "colab_type": "text"
      },
      "source": [
        "In the above example, when **num** is equal to 3, the test expression is true and body of if is executed and **body** of else is skipped.\n",
        "\n",
        "If **num** is equal to -5, the test expression is false and body of **else** is executed and body of **if** is skipped.\n",
        "\n",
        "If **num** is equal to 0, the test expression is true and body of **if** is executed and body of **else** is skipped."
      ]
    },
    {
      "cell_type": "markdown",
      "metadata": {
        "id": "m90u5e3pGSOS",
        "colab_type": "text"
      },
      "source": [
        "**Python if...elif...else Statement**\n",
        "\n",
        "**Syntax of if...elif...else**\n",
        "```\n",
        "if test expression:\n",
        "    Body of if\n",
        "elif test expression:\n",
        "    Body of elif\n",
        "else: \n",
        "    Body of else\n",
        "```\n",
        "The **elif** is short for else if. It allows us to check for multiple expressions.\n",
        "\n",
        "If the condition for if is **False**, it checks the condition of the next **elif** block and so on.\n",
        "\n",
        "If all the conditions are **False**, body of else is executed.\n",
        "\n",
        "Only one block among the several **if...elif...else** blocks is executed according to the condition.\n",
        "\n",
        "The if block can have only one **else** block. But it can have multiple **elif** blocks.\n",
        "\n",
        "![alt text](https://drive.google.com/uc?export=view&id=15_m4LSZQGt93NanLT6grh-ElffTeEfNO)"
      ]
    },
    {
      "cell_type": "markdown",
      "metadata": {
        "id": "yP6edzFXG7Au",
        "colab_type": "text"
      },
      "source": [
        "**Example of if...elif...else**"
      ]
    },
    {
      "cell_type": "code",
      "metadata": {
        "id": "oBk_v2TtF_3s",
        "colab_type": "code",
        "colab": {
          "base_uri": "https://localhost:8080/",
          "height": 34
        },
        "outputId": "8b594af0-fa07-4be8-a944-19111e6f0e99"
      },
      "source": [
        "# In this program, \n",
        "# we check if the number is positive or\n",
        "# negative or zero and \n",
        "# display an appropriate message\n",
        "\n",
        "num = 3.4\n",
        "\n",
        "# Try these two variations as well:\n",
        "# num = 0\n",
        "# num = -4.5\n",
        "\n",
        "if num > 0:\n",
        "    print(\"Positive number\")\n",
        "elif num == 0:\n",
        "    print(\"Zero\")\n",
        "else:\n",
        "    print(\"Negative number\")"
      ],
      "execution_count": 3,
      "outputs": [
        {
          "output_type": "stream",
          "text": [
            "Positive number\n"
          ],
          "name": "stdout"
        }
      ]
    },
    {
      "cell_type": "markdown",
      "metadata": {
        "id": "9DyxO2KqHBnx",
        "colab_type": "text"
      },
      "source": [
        "When variable **num** is positive, Positive number is printed.\n",
        "\n",
        "If **num** is equal to 0, Zero is printed.\n",
        "\n",
        "If **num** is negative, Negative number is printed"
      ]
    },
    {
      "cell_type": "code",
      "metadata": {
        "id": "nr-nwYBpG9fA",
        "colab_type": "code",
        "colab": {}
      },
      "source": [
        ""
      ],
      "execution_count": 0,
      "outputs": []
    }
  ]
}