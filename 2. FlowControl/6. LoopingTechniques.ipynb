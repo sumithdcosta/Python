{
  "nbformat": 4,
  "nbformat_minor": 0,
  "metadata": {
    "colab": {
      "name": "Untitled15.ipynb",
      "provenance": [],
      "include_colab_link": true
    },
    "kernelspec": {
      "name": "python3",
      "display_name": "Python 3"
    }
  },
  "cells": [
    {
      "cell_type": "markdown",
      "metadata": {
        "id": "view-in-github",
        "colab_type": "text"
      },
      "source": [
        "<a href=\"https://colab.research.google.com/github/sumithdcosta/Python/blob/master/2.%20FlowControl/6.%20LoopingTechniques.ipynb\" target=\"_parent\"><img src=\"https://colab.research.google.com/assets/colab-badge.svg\" alt=\"Open In Colab\"/></a>"
      ]
    },
    {
      "cell_type": "markdown",
      "metadata": {
        "id": "JfkPU1ET9DsT",
        "colab_type": "text"
      },
      "source": [
        "2. FlowControl/6. LoopingTechniques.ipynb"
      ]
    },
    {
      "cell_type": "markdown",
      "metadata": {
        "id": "ep5sSr_D9MEO",
        "colab_type": "text"
      },
      "source": [
        "**Looping Techniques**\n",
        "\n",
        "Python programming offers two kinds of loop, the f**or loop** and the **while loop**. Using these loops along with loop control statements like **break** and **continue**, we can create various forms of loop.\n",
        "\n",
        "The infinite loop\n",
        "\n",
        "We can create an infinite loop using while statement. If the condition of **while loop** is always **True**, we get an infinite loop.\n",
        "\n",
        "**Example #1: Infinite loop using while**"
      ]
    },
    {
      "cell_type": "code",
      "metadata": {
        "id": "hz4X9gXa8_xL",
        "colab_type": "code",
        "colab": {
          "base_uri": "https://localhost:8080/",
          "height": 316
        },
        "outputId": "0097686f-fc5b-4d97-8cf3-b77ca2b2f863"
      },
      "source": [
        "# An example of infinite loop\n",
        "# press Ctrl + c to exit from the loop\n",
        "\n",
        "while True:\n",
        "   num = int(input(\"Enter an integer: \"))\n",
        "   print(\"The double of\",num,\"is\",2 * num)\n",
        " "
      ],
      "execution_count": 1,
      "outputs": [
        {
          "output_type": "stream",
          "text": [
            "Enter an integer: 3\n",
            "The double of 3 is 6\n",
            "Enter an integer: 10\n",
            "The double of 10 is 20\n",
            "Enter an integer: \n"
          ],
          "name": "stdout"
        },
        {
          "output_type": "error",
          "ename": "ValueError",
          "evalue": "ignored",
          "traceback": [
            "\u001b[0;31m---------------------------------------------------------------------------\u001b[0m",
            "\u001b[0;31mValueError\u001b[0m                                Traceback (most recent call last)",
            "\u001b[0;32m<ipython-input-1-d27fa3816ca2>\u001b[0m in \u001b[0;36m<module>\u001b[0;34m()\u001b[0m\n\u001b[1;32m      1\u001b[0m \u001b[0;34m\u001b[0m\u001b[0m\n\u001b[1;32m      2\u001b[0m \u001b[0;32mwhile\u001b[0m \u001b[0;32mTrue\u001b[0m\u001b[0;34m:\u001b[0m\u001b[0;34m\u001b[0m\u001b[0;34m\u001b[0m\u001b[0m\n\u001b[0;32m----> 3\u001b[0;31m    \u001b[0mnum\u001b[0m \u001b[0;34m=\u001b[0m \u001b[0mint\u001b[0m\u001b[0;34m(\u001b[0m\u001b[0minput\u001b[0m\u001b[0;34m(\u001b[0m\u001b[0;34m\"Enter an integer: \"\u001b[0m\u001b[0;34m)\u001b[0m\u001b[0;34m)\u001b[0m\u001b[0;34m\u001b[0m\u001b[0;34m\u001b[0m\u001b[0m\n\u001b[0m\u001b[1;32m      4\u001b[0m    \u001b[0mprint\u001b[0m\u001b[0;34m(\u001b[0m\u001b[0;34m\"The double of\"\u001b[0m\u001b[0;34m,\u001b[0m\u001b[0mnum\u001b[0m\u001b[0;34m,\u001b[0m\u001b[0;34m\"is\"\u001b[0m\u001b[0;34m,\u001b[0m\u001b[0;36m2\u001b[0m \u001b[0;34m*\u001b[0m \u001b[0mnum\u001b[0m\u001b[0;34m)\u001b[0m\u001b[0;34m\u001b[0m\u001b[0;34m\u001b[0m\u001b[0m\n\u001b[1;32m      5\u001b[0m \u001b[0;34m\u001b[0m\u001b[0m\n",
            "\u001b[0;31mValueError\u001b[0m: invalid literal for int() with base 10: ''"
          ]
        }
      ]
    },
    {
      "cell_type": "markdown",
      "metadata": {
        "id": "g8on-9Yx90N2",
        "colab_type": "text"
      },
      "source": [
        "**Loop with condition at the top**\n",
        "\n",
        "This is a normal while loop without break statements. The condition of the while loop is at the top and the loop terminates when this condition is False.\n",
        "\n",
        "Flowchart of Loop With Condition at Top\n",
        "\n",
        "![alt text](https://drive.google.com/uc?export=view&id=16n2hOMhbGkw-T0_n3kniaiHGGJ8yVaD6)\n",
        "\n",
        "**Example #2: Loop with condition at the top**\n"
      ]
    },
    {
      "cell_type": "code",
      "metadata": {
        "id": "bnKn7Tp4-WGm",
        "colab_type": "code",
        "colab": {
          "base_uri": "https://localhost:8080/",
          "height": 34
        },
        "outputId": "f9e7f336-cddf-433c-b1b7-3873dfe2b617"
      },
      "source": [
        "# Program to illustrate a loop with condition at the top\n",
        "\n",
        "# Try different numbers\n",
        "n = 10\n",
        "\n",
        "# Uncomment to get user input\n",
        "#n = int(input(\"Enter n: \"))\n",
        "\n",
        "# initialize sum and counter\n",
        "sum = 0\n",
        "i = 1\n",
        "\n",
        "while i <= n:\n",
        "   sum = sum + i\n",
        "   i = i+1    # update counter\n",
        "\n",
        "# print the sum\n",
        "print(\"The sum is\",sum)"
      ],
      "execution_count": 2,
      "outputs": [
        {
          "output_type": "stream",
          "text": [
            "The sum is 55\n"
          ],
          "name": "stdout"
        }
      ]
    },
    {
      "cell_type": "markdown",
      "metadata": {
        "id": "PhL9LQom-fuN",
        "colab_type": "text"
      },
      "source": [
        "**Loop with condition in the middle**\n",
        "\n",
        "This kind of loop can be implemented using an infinite loop along with a conditional break in between the body of the loop.\n",
        "\n",
        "**Flowchart of Loop with Condition in Middle**\n",
        "\n",
        "![alt text](https://drive.google.com/uc?export=view&id=1PQL9Kz2fWkYINnHFqmpuEX_6KYOXkWLl)\n",
        "\n",
        "**Example #3: Loop with condition in the middle**\n",
        "\n"
      ]
    },
    {
      "cell_type": "code",
      "metadata": {
        "id": "BkGPOnHJ9h04",
        "colab_type": "code",
        "colab": {
          "base_uri": "https://localhost:8080/",
          "height": 85
        },
        "outputId": "e5461528-f73e-4d85-9bee-a2a281e1e970"
      },
      "source": [
        "# Program to illustrate a loop with condition in the middle. \n",
        "# Take input from the user untill a vowel is entered\n",
        "\n",
        "vowels = \"aeiouAEIOU\"\n",
        "\n",
        "# infinite loop\n",
        "while True:\n",
        "   v = input(\"Enter a vowel: \")\n",
        "   # condition in the middle\n",
        "   if v in vowels:\n",
        "       break\n",
        "   print(\"That is not a vowel. Try again!\")\n",
        "\n",
        "print(\"Thank you!\")"
      ],
      "execution_count": 3,
      "outputs": [
        {
          "output_type": "stream",
          "text": [
            "Enter a vowel: x\n",
            "That is not a vowel. Try again!\n",
            "Enter a vowel: a\n",
            "Thank you!\n"
          ],
          "name": "stdout"
        }
      ]
    },
    {
      "cell_type": "markdown",
      "metadata": {
        "id": "_8YwIhi3_Tmn",
        "colab_type": "text"
      },
      "source": [
        "**Loop with condition at the bottom**\n",
        "\n",
        "This kind of loop ensures that the body of the loop is executed at least once. It can be implemented using an infinite loop along with a conditional break at the end. This is similar to the do...while loop in C.\n",
        "\n",
        "**Flowchart of Loop with Condition at Bottom**\n",
        "\n",
        "![alt text](https://drive.google.com/uc?export=view&id=1xDtBVM0FjJ1jcL3mRjvSiKe-K7htnMaR)\n",
        "\n",
        "**Example #4: Loop with condition at the bottom**"
      ]
    },
    {
      "cell_type": "code",
      "metadata": {
        "id": "fC41QXFl_FiI",
        "colab_type": "code",
        "colab": {
          "base_uri": "https://localhost:8080/",
          "height": 119
        },
        "outputId": "4024fdad-5584-4226-f3c7-3de8009a49c1"
      },
      "source": [
        "# Python program to illustrate a loop with condition at the bottom\n",
        "# Roll a dice untill user chooses to exit\n",
        "\n",
        "# import random module\n",
        "import random\n",
        "\n",
        "while True:\n",
        "   input(\"Press enter to roll the dice\")\n",
        "\n",
        "   # get a number between 1 to 6\n",
        "   num = random.randint(1,6)\n",
        "   print(\"You got\",num)\n",
        "   option = input(\"Roll again?(y/n) \")\n",
        "\n",
        "   # condition\n",
        "   if option == 'n':\n",
        "       break"
      ],
      "execution_count": 4,
      "outputs": [
        {
          "output_type": "stream",
          "text": [
            "Press enter to roll the dice\n",
            "You got 5\n",
            "Roll again?(y/n) y\n",
            "Press enter to roll the dice\n",
            "You got 3\n",
            "Roll again?(y/n) n\n"
          ],
          "name": "stdout"
        }
      ]
    },
    {
      "cell_type": "code",
      "metadata": {
        "id": "TWC6Im3YAIny",
        "colab_type": "code",
        "colab": {}
      },
      "source": [
        ""
      ],
      "execution_count": 0,
      "outputs": []
    }
  ]
}