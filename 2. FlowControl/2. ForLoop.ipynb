{
  "nbformat": 4,
  "nbformat_minor": 0,
  "metadata": {
    "colab": {
      "name": "Untitled11.ipynb",
      "provenance": [],
      "include_colab_link": true
    },
    "kernelspec": {
      "name": "python3",
      "display_name": "Python 3"
    }
  },
  "cells": [
    {
      "cell_type": "markdown",
      "metadata": {
        "id": "view-in-github",
        "colab_type": "text"
      },
      "source": [
        "<a href=\"https://colab.research.google.com/github/sumithdcosta/Python/blob/master/2.%20FlowControl/2.%20ForLoop.ipynb\" target=\"_parent\"><img src=\"https://colab.research.google.com/assets/colab-badge.svg\" alt=\"Open In Colab\"/></a>"
      ]
    },
    {
      "cell_type": "markdown",
      "metadata": {
        "id": "gIx4-m1_Sda0",
        "colab_type": "text"
      },
      "source": [
        "2. FlowControl/2. ForLoop.ipynb"
      ]
    },
    {
      "cell_type": "markdown",
      "metadata": {
        "id": "ePeRQab6Sk_E",
        "colab_type": "text"
      },
      "source": [
        "**What is for loop in Python?**\n",
        "\n",
        "The for loop in Python is used to iterate over a sequence (list, tuple, string) or other iterable objects. Iterating over a sequence is called traversal.\n",
        "\n",
        "Syntax of for Loop\n",
        "\n",
        "```\n",
        "for val in sequence:\n",
        "\tBody of for\n",
        "```\n",
        "\n",
        "\n",
        "\n",
        "Here, **val** is the variable that takes the value of the item inside the sequence on each iteration.\n",
        "\n",
        "Loop continues until we reach the last item in the sequence. The body of for loop is separated from the rest of the code using indentation.\n",
        "\n",
        "![alt text](https://drive.google.com/uc?export=view&id=1MVn2AKOHSaoRhtfbPWBkM0dVzoCn4J9-)"
      ]
    },
    {
      "cell_type": "markdown",
      "metadata": {
        "id": "gua6tg06Tlrz",
        "colab_type": "text"
      },
      "source": [
        "**Example: Python for Loop**"
      ]
    },
    {
      "cell_type": "code",
      "metadata": {
        "id": "XINput47Scki",
        "colab_type": "code",
        "colab": {
          "base_uri": "https://localhost:8080/",
          "height": 34
        },
        "outputId": "65795380-0bca-43c7-fce6-41ee404aa5e5"
      },
      "source": [
        "# Program to find the sum of all numbers stored in a list\n",
        "\n",
        "# List of numbers\n",
        "numbers = [6, 5, 3, 8, 4, 2, 5, 4, 11]\n",
        "\n",
        "# variable to store the sum\n",
        "sum = 0\n",
        "\n",
        "# iterate over the list\n",
        "for val in numbers:\n",
        "\tsum = sum+val\n",
        "\n",
        "# Output: The sum is 48\n",
        "print(\"The sum is\", sum)"
      ],
      "execution_count": 1,
      "outputs": [
        {
          "output_type": "stream",
          "text": [
            "The sum is 48\n"
          ],
          "name": "stdout"
        }
      ]
    },
    {
      "cell_type": "markdown",
      "metadata": {
        "id": "6MkuEpBZTxnD",
        "colab_type": "text"
      },
      "source": [
        "**The range() function**\n",
        "\n",
        "We can generate a sequence of numbers using **range**() function. **range**(10) will generate numbers from 0 to 9 (10 numbers).\n",
        "\n",
        "We can also define the start, stop and step size as **range(start,stop,step size)**. step size defaults to 1 if not provided.\n",
        "\n",
        "This function does not store all the values in memory, it would be inefficient. So it remembers the start, stop, step size and generates the next number on the go.\n",
        "\n",
        "To force this function to output all the items, we can use the function list().\n",
        "\n",
        "The following example will clarify this.\n"
      ]
    },
    {
      "cell_type": "code",
      "metadata": {
        "id": "Q0VrTkCyTsL2",
        "colab_type": "code",
        "colab": {
          "base_uri": "https://localhost:8080/",
          "height": 87
        },
        "outputId": "67c1fe1c-6e51-4ef1-db11-a63c76f1d58c"
      },
      "source": [
        "# Output: range(0, 10)\n",
        "print(range(10))\n",
        "\n",
        "# Output: [0, 1, 2, 3, 4, 5, 6, 7, 8, 9]\n",
        "print(list(range(10)))\n",
        "\n",
        "# Output: [2, 3, 4, 5, 6, 7]\n",
        "print(list(range(2, 8)))\n",
        "\n",
        "# Output: [2, 5, 8, 11, 14, 17]\n",
        "print(list(range(2, 20, 3)))\t\n"
      ],
      "execution_count": 2,
      "outputs": [
        {
          "output_type": "stream",
          "text": [
            "range(0, 10)\n",
            "[0, 1, 2, 3, 4, 5, 6, 7, 8, 9]\n",
            "[2, 3, 4, 5, 6, 7]\n",
            "[2, 5, 8, 11, 14, 17]\n"
          ],
          "name": "stdout"
        }
      ]
    },
    {
      "cell_type": "markdown",
      "metadata": {
        "id": "GUOEAxrgUR_U",
        "colab_type": "text"
      },
      "source": [
        "We can use the **range**() function in for loops to iterate through a sequence of numbers. It can be combined with the **len**() function to iterate though a sequence using indexing. Here is an example."
      ]
    },
    {
      "cell_type": "code",
      "metadata": {
        "id": "AyV2bSVlUBth",
        "colab_type": "code",
        "colab": {
          "base_uri": "https://localhost:8080/",
          "height": 70
        },
        "outputId": "fd8abe94-4893-4541-95cf-12de85d234b1"
      },
      "source": [
        "# Program to iterate through a list using indexing\n",
        "\n",
        "genre = ['pop', 'rock', 'jazz']\n",
        "\n",
        "# iterate over the list using index\n",
        "for i in range(len(genre)):\n",
        "\tprint(\"I like\", genre[i])\n"
      ],
      "execution_count": 3,
      "outputs": [
        {
          "output_type": "stream",
          "text": [
            "I like pop\n",
            "I like rock\n",
            "I like jazz\n"
          ],
          "name": "stdout"
        }
      ]
    },
    {
      "cell_type": "markdown",
      "metadata": {
        "id": "yxllRH3vUeKB",
        "colab_type": "text"
      },
      "source": [
        "**for loop with else**\n",
        "\n",
        "A for loop can have an optional else block as well. The **else** part is executed if the items in the sequence used in for loop exhausts.\n",
        "\n",
        "break statement can be used to stop a for loop. In such case, the else part is ignored.\n",
        "\n",
        "Hence, a for loop's else part runs if no break occurs.\n",
        "\n",
        "Here is an example to illustrate this."
      ]
    },
    {
      "cell_type": "code",
      "metadata": {
        "id": "ZZafK6ZGUZOH",
        "colab_type": "code",
        "colab": {
          "base_uri": "https://localhost:8080/",
          "height": 87
        },
        "outputId": "f529636b-627c-4b59-8316-b075f006f8ba"
      },
      "source": [
        "digits = [0, 1, 5]\n",
        "\n",
        "for i in digits:\n",
        "    print(i)\n",
        "else:\n",
        "    print(\"No items left.\")"
      ],
      "execution_count": 4,
      "outputs": [
        {
          "output_type": "stream",
          "text": [
            "0\n",
            "1\n",
            "5\n",
            "No items left.\n"
          ],
          "name": "stdout"
        }
      ]
    },
    {
      "cell_type": "markdown",
      "metadata": {
        "id": "sGA2sBtmUxnR",
        "colab_type": "text"
      },
      "source": [
        "Here, the **for** loop prints items of the list until the loop exhausts. When the for loop exhausts, it executes the block of code in the **else** and prints"
      ]
    },
    {
      "cell_type": "code",
      "metadata": {
        "id": "CjROuqHvUqPo",
        "colab_type": "code",
        "colab": {}
      },
      "source": [
        ""
      ],
      "execution_count": 0,
      "outputs": []
    }
  ]
}