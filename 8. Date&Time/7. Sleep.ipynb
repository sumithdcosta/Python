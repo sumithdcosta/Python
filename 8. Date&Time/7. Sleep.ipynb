{
  "nbformat": 4,
  "nbformat_minor": 0,
  "metadata": {
    "colab": {
      "name": "Untitled60.ipynb",
      "provenance": [],
      "include_colab_link": true
    },
    "kernelspec": {
      "name": "python3",
      "display_name": "Python 3"
    }
  },
  "cells": [
    {
      "cell_type": "markdown",
      "metadata": {
        "id": "view-in-github",
        "colab_type": "text"
      },
      "source": [
        "<a href=\"https://colab.research.google.com/github/sumithdcosta/Python/blob/master/8.%20Date%26Time/7.%20Sleep.ipynb\" target=\"_parent\"><img src=\"https://colab.research.google.com/assets/colab-badge.svg\" alt=\"Open In Colab\"/></a>"
      ]
    },
    {
      "cell_type": "markdown",
      "metadata": {
        "id": "hP1GuBOJtJFA",
        "colab_type": "text"
      },
      "source": [
        "8. Date&Time/7. Sleep.ipynb"
      ]
    },
    {
      "cell_type": "markdown",
      "metadata": {
        "id": "3PyK_Vv7tNvM",
        "colab_type": "text"
      },
      "source": [
        "Python has a module named **time** which provides several useful functions to handle time-related tasks. One of the popular functions among them is **sleep**().\n",
        "\n",
        "The **sleep**() function suspends execution of the current thread for a given number of seconds.\n",
        "\n",
        "Example 1: Python sleep()"
      ]
    },
    {
      "cell_type": "code",
      "metadata": {
        "id": "crH4A5DitIZ3",
        "colab_type": "code",
        "colab": {
          "base_uri": "https://localhost:8080/",
          "height": 51
        },
        "outputId": "1a637e6c-78ec-404b-dbaf-824dcd1513e8"
      },
      "source": [
        "import time\n",
        "\n",
        "print(\"Printed immediately.\")\n",
        "time.sleep(2.4)\n",
        "print(\"Printed after 2.4 seconds.\")"
      ],
      "execution_count": 1,
      "outputs": [
        {
          "output_type": "stream",
          "text": [
            "Printed immediately.\n",
            "Printed after 2.4 seconds.\n"
          ],
          "name": "stdout"
        }
      ]
    },
    {
      "cell_type": "markdown",
      "metadata": {
        "id": "GMQkP51htb81",
        "colab_type": "text"
      },
      "source": [
        "Here's how this program works:\n",
        "\n",
        "* \"Printed immediately\" is printed\n",
        "* Suspends (Delays) execution for 2.4 seconds.\n",
        "* \"Printed after 2.4 seconds\" is printed.\n",
        "\n",
        "As you can see from the above example, sleep() takes a floating-point number as an argument.\n",
        "\n",
        "**Before Python 3.5**, the actual suspension time may be less than the argument specified to the time() function.\n",
        "\n",
        "**Since Python 3.5**, the suspension time will be at least the seconds specified."
      ]
    },
    {
      "cell_type": "markdown",
      "metadata": {
        "id": "hk3hIIW7trgI",
        "colab_type": "text"
      },
      "source": [
        "**Example 2: Python create a digital clock**"
      ]
    },
    {
      "cell_type": "code",
      "metadata": {
        "id": "8Q-PHZdptYyV",
        "colab_type": "code",
        "colab": {
          "base_uri": "https://localhost:8080/",
          "height": 299
        },
        "outputId": "cf7bcbdb-6a6d-410e-da98-f8a598335800"
      },
      "source": [
        "import time\n",
        "\n",
        "while True:\n",
        "  localtime = time.localtime()\n",
        "  result = time.strftime(\"%I:%M:%S %p\", localtime)\n",
        "  print(result)\n",
        "  time.sleep(1)"
      ],
      "execution_count": 2,
      "outputs": [
        {
          "output_type": "stream",
          "text": [
            "03:32:18 AM\n",
            "03:32:19 AM\n",
            "03:32:20 AM\n",
            "03:32:21 AM\n",
            "03:32:22 AM\n",
            "03:32:23 AM\n"
          ],
          "name": "stdout"
        },
        {
          "output_type": "error",
          "ename": "KeyboardInterrupt",
          "evalue": "ignored",
          "traceback": [
            "\u001b[0;31m---------------------------------------------------------------------------\u001b[0m",
            "\u001b[0;31mKeyboardInterrupt\u001b[0m                         Traceback (most recent call last)",
            "\u001b[0;32m<ipython-input-2-04fdfd606c93>\u001b[0m in \u001b[0;36m<module>\u001b[0;34m()\u001b[0m\n\u001b[1;32m      5\u001b[0m   \u001b[0mresult\u001b[0m \u001b[0;34m=\u001b[0m \u001b[0mtime\u001b[0m\u001b[0;34m.\u001b[0m\u001b[0mstrftime\u001b[0m\u001b[0;34m(\u001b[0m\u001b[0;34m\"%I:%M:%S %p\"\u001b[0m\u001b[0;34m,\u001b[0m \u001b[0mlocaltime\u001b[0m\u001b[0;34m)\u001b[0m\u001b[0;34m\u001b[0m\u001b[0;34m\u001b[0m\u001b[0m\n\u001b[1;32m      6\u001b[0m   \u001b[0mprint\u001b[0m\u001b[0;34m(\u001b[0m\u001b[0mresult\u001b[0m\u001b[0;34m)\u001b[0m\u001b[0;34m\u001b[0m\u001b[0;34m\u001b[0m\u001b[0m\n\u001b[0;32m----> 7\u001b[0;31m   \u001b[0mtime\u001b[0m\u001b[0;34m.\u001b[0m\u001b[0msleep\u001b[0m\u001b[0;34m(\u001b[0m\u001b[0;36m1\u001b[0m\u001b[0;34m)\u001b[0m\u001b[0;34m\u001b[0m\u001b[0;34m\u001b[0m\u001b[0m\n\u001b[0m",
            "\u001b[0;31mKeyboardInterrupt\u001b[0m: "
          ]
        }
      ]
    },
    {
      "cell_type": "markdown",
      "metadata": {
        "id": "nEW6iBatuJQN",
        "colab_type": "text"
      },
      "source": [
        "In the above program, we computed and printed the current local time inside the infinite while loop. Then, the program waits for 1 second. Again, the current local time is computed and printed. This process goes on.\n"
      ]
    },
    {
      "cell_type": "markdown",
      "metadata": {
        "id": "kcnLvnRtuOVT",
        "colab_type": "text"
      },
      "source": [
        "Here is a slightly modified better version of the above program."
      ]
    },
    {
      "cell_type": "code",
      "metadata": {
        "id": "J3dhCr45t9Pk",
        "colab_type": "code",
        "colab": {
          "base_uri": "https://localhost:8080/",
          "height": 197
        },
        "outputId": "a48ef059-3801-452d-fe6a-4b84ea811473"
      },
      "source": [
        "import time\n",
        "\n",
        "while True:\n",
        "  localtime = time.localtime()\n",
        "  result = time.strftime(\"%I:%M:%S %p\", localtime)\n",
        "  print(result, end=\"\", flush=True)\n",
        "  print(\"\\r\", end=\"\", flush=True)\n",
        "  time.sleep(1)\n"
      ],
      "execution_count": 3,
      "outputs": [
        {
          "output_type": "stream",
          "text": [
            ""
          ],
          "name": "stdout"
        },
        {
          "output_type": "error",
          "ename": "KeyboardInterrupt",
          "evalue": "ignored",
          "traceback": [
            "\u001b[0;31m---------------------------------------------------------------------------\u001b[0m",
            "\u001b[0;31mKeyboardInterrupt\u001b[0m                         Traceback (most recent call last)",
            "\u001b[0;32m<ipython-input-3-8c54c34595e0>\u001b[0m in \u001b[0;36m<module>\u001b[0;34m()\u001b[0m\n\u001b[1;32m      6\u001b[0m   \u001b[0mprint\u001b[0m\u001b[0;34m(\u001b[0m\u001b[0mresult\u001b[0m\u001b[0;34m,\u001b[0m \u001b[0mend\u001b[0m\u001b[0;34m=\u001b[0m\u001b[0;34m\"\"\u001b[0m\u001b[0;34m,\u001b[0m \u001b[0mflush\u001b[0m\u001b[0;34m=\u001b[0m\u001b[0;32mTrue\u001b[0m\u001b[0;34m)\u001b[0m\u001b[0;34m\u001b[0m\u001b[0;34m\u001b[0m\u001b[0m\n\u001b[1;32m      7\u001b[0m   \u001b[0mprint\u001b[0m\u001b[0;34m(\u001b[0m\u001b[0;34m\"\\r\"\u001b[0m\u001b[0;34m,\u001b[0m \u001b[0mend\u001b[0m\u001b[0;34m=\u001b[0m\u001b[0;34m\"\"\u001b[0m\u001b[0;34m,\u001b[0m \u001b[0mflush\u001b[0m\u001b[0;34m=\u001b[0m\u001b[0;32mTrue\u001b[0m\u001b[0;34m)\u001b[0m\u001b[0;34m\u001b[0m\u001b[0;34m\u001b[0m\u001b[0m\n\u001b[0;32m----> 8\u001b[0;31m   \u001b[0mtime\u001b[0m\u001b[0;34m.\u001b[0m\u001b[0msleep\u001b[0m\u001b[0;34m(\u001b[0m\u001b[0;36m1\u001b[0m\u001b[0;34m)\u001b[0m\u001b[0;34m\u001b[0m\u001b[0;34m\u001b[0m\u001b[0m\n\u001b[0m",
            "\u001b[0;31mKeyboardInterrupt\u001b[0m: "
          ]
        }
      ]
    },
    {
      "cell_type": "code",
      "metadata": {
        "id": "okiX1SCpuQ0z",
        "colab_type": "code",
        "colab": {}
      },
      "source": [
        ""
      ],
      "execution_count": 0,
      "outputs": []
    }
  ]
}