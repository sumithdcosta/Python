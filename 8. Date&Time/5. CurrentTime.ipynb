{
  "nbformat": 4,
  "nbformat_minor": 0,
  "metadata": {
    "colab": {
      "name": "Untitled58.ipynb",
      "provenance": [],
      "include_colab_link": true
    },
    "kernelspec": {
      "name": "python3",
      "display_name": "Python 3"
    }
  },
  "cells": [
    {
      "cell_type": "markdown",
      "metadata": {
        "id": "view-in-github",
        "colab_type": "text"
      },
      "source": [
        "<a href=\"https://colab.research.google.com/github/sumithdcosta/Python/blob/master/8.%20Date%26Time/5.%20CurrentTime.ipynb\" target=\"_parent\"><img src=\"https://colab.research.google.com/assets/colab-badge.svg\" alt=\"Open In Colab\"/></a>"
      ]
    },
    {
      "cell_type": "markdown",
      "metadata": {
        "id": "_DdYR7hqorm2",
        "colab_type": "text"
      },
      "source": [
        "8. Date&Time/5. CurrentTime.ipynb"
      ]
    },
    {
      "cell_type": "markdown",
      "metadata": {
        "id": "Aqh3iruKow_W",
        "colab_type": "text"
      },
      "source": [
        "**Example 1: Current time using datetime object**"
      ]
    },
    {
      "cell_type": "code",
      "metadata": {
        "id": "nky5_BDHorFi",
        "colab_type": "code",
        "colab": {
          "base_uri": "https://localhost:8080/",
          "height": 34
        },
        "outputId": "82736c55-bde8-41b2-8c5f-1bb75912ceab"
      },
      "source": [
        "from datetime import datetime\n",
        "\n",
        "now = datetime.now()\n",
        "\n",
        "current_time = now.strftime(\"%H:%M:%S\")\n",
        "print(\"Current Time =\", current_time)"
      ],
      "execution_count": 1,
      "outputs": [
        {
          "output_type": "stream",
          "text": [
            "Current Time = 03:09:53\n"
          ],
          "name": "stdout"
        }
      ]
    },
    {
      "cell_type": "markdown",
      "metadata": {
        "id": "_RSAn5CLo-XX",
        "colab_type": "text"
      },
      "source": [
        "In the above example, we have imported **datetime** class from the **datetime** module. Then, we used **now**() method to get a **datetime** object containing current date and time.\n",
        "\n",
        "Using **datetime.strftime**() method, we then created a string representing current time.\n",
        "\n",
        "If you need to create a **time** object containing current time, you can do something like this.\n"
      ]
    },
    {
      "cell_type": "code",
      "metadata": {
        "id": "rRA-fEvGozYi",
        "colab_type": "code",
        "colab": {
          "base_uri": "https://localhost:8080/",
          "height": 51
        },
        "outputId": "85947beb-edec-478e-cfb3-37a2d21ed7e2"
      },
      "source": [
        "from datetime import datetime\n",
        "\n",
        "now = datetime.now().time() # time object\n",
        "\n",
        "print(\"now =\", now)\n",
        "print(\"type(now) =\", type(now))\t"
      ],
      "execution_count": 2,
      "outputs": [
        {
          "output_type": "stream",
          "text": [
            "now = 03:11:22.820278\n",
            "type(now) = <class 'datetime.time'>\n"
          ],
          "name": "stdout"
        }
      ]
    },
    {
      "cell_type": "markdown",
      "metadata": {
        "id": "fXpmrSTkpkBP",
        "colab_type": "text"
      },
      "source": [
        "**Example 2: Current time using time module**\n",
        "\n",
        "You can also get the current time using time module."
      ]
    },
    {
      "cell_type": "code",
      "metadata": {
        "id": "wXH_v_rOpKu5",
        "colab_type": "code",
        "colab": {
          "base_uri": "https://localhost:8080/",
          "height": 51
        },
        "outputId": "ac0de7d5-def6-45d8-a04c-42a0894883ef"
      },
      "source": [
        "import time\n",
        "\n",
        "t = time.localtime()\n",
        "current_time = time.strftime(\"%H:%M:%S\", t)\n",
        "print(current_time)\n",
        "print(\"type(t) =\", type(t))\t\n"
      ],
      "execution_count": 5,
      "outputs": [
        {
          "output_type": "stream",
          "text": [
            "03:13:56\n",
            "type(t) = <class 'time.struct_time'>\n"
          ],
          "name": "stdout"
        }
      ]
    },
    {
      "cell_type": "markdown",
      "metadata": {
        "id": "nrP9pOQPp6jL",
        "colab_type": "text"
      },
      "source": [
        "**Example 3: Current time of a timezone**\n",
        "\n",
        "If you need to find current time of a certain timezone, you can use pytZ module."
      ]
    },
    {
      "cell_type": "code",
      "metadata": {
        "id": "V7DpeV3Upny4",
        "colab_type": "code",
        "colab": {
          "base_uri": "https://localhost:8080/",
          "height": 51
        },
        "outputId": "40360691-f3eb-4da8-fe51-702c0331da64"
      },
      "source": [
        "from datetime import datetime\n",
        "import pytz\n",
        "\n",
        "tz_NY = pytz.timezone('America/New_York') \n",
        "datetime_NY = datetime.now(tz_NY)\n",
        "print(\"NY time:\", datetime_NY.strftime(\"%H:%M:%S\"))\n",
        "\n",
        "tz_London = pytz.timezone('Europe/London')\n",
        "datetime_London = datetime.now(tz_London)\n",
        "print(\"London time:\", datetime_London.strftime(\"%H:%M:%S\"))"
      ],
      "execution_count": 6,
      "outputs": [
        {
          "output_type": "stream",
          "text": [
            "NY time: 22:15:02\n",
            "London time: 03:15:02\n"
          ],
          "name": "stdout"
        }
      ]
    },
    {
      "cell_type": "code",
      "metadata": {
        "id": "RGD4SqUxqAeH",
        "colab_type": "code",
        "colab": {}
      },
      "source": [
        ""
      ],
      "execution_count": 0,
      "outputs": []
    }
  ]
}