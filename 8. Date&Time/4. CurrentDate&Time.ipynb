{
  "nbformat": 4,
  "nbformat_minor": 0,
  "metadata": {
    "colab": {
      "name": "Untitled57.ipynb",
      "provenance": [],
      "include_colab_link": true
    },
    "kernelspec": {
      "name": "python3",
      "display_name": "Python 3"
    }
  },
  "cells": [
    {
      "cell_type": "markdown",
      "metadata": {
        "id": "view-in-github",
        "colab_type": "text"
      },
      "source": [
        "<a href=\"https://colab.research.google.com/github/sumithdcosta/Python/blob/master/8.%20Date%26Time/4.%20CurrentDate%26Time.ipynb\" target=\"_parent\"><img src=\"https://colab.research.google.com/assets/colab-badge.svg\" alt=\"Open In Colab\"/></a>"
      ]
    },
    {
      "cell_type": "markdown",
      "metadata": {
        "id": "6B37o8KelEGi",
        "colab_type": "text"
      },
      "source": [
        "8. Date&Time/4. CurrentDate&Time.ipynb"
      ]
    },
    {
      "cell_type": "markdown",
      "metadata": {
        "id": "1tEmtmTClbfY",
        "colab_type": "text"
      },
      "source": [
        "**How to get current date and time in Python?**\n",
        "\n",
        "There are a number of ways you can take to get current date. We will use date class of the datetime module to accomplish this task.\n",
        "\n",
        "Example 1: Python get today's date"
      ]
    },
    {
      "cell_type": "code",
      "metadata": {
        "id": "D7o9_ur0lDVc",
        "colab_type": "code",
        "colab": {
          "base_uri": "https://localhost:8080/",
          "height": 34
        },
        "outputId": "f780ad28-9c2c-4ea0-918f-cbee5576dbf7"
      },
      "source": [
        "from datetime import date\n",
        "\n",
        "today = date.today()\n",
        "print(\"Today's date:\", today)"
      ],
      "execution_count": 1,
      "outputs": [
        {
          "output_type": "stream",
          "text": [
            "Today's date: 2019-11-19\n"
          ],
          "name": "stdout"
        }
      ]
    },
    {
      "cell_type": "markdown",
      "metadata": {
        "id": "R3L5xKillgu_",
        "colab_type": "text"
      },
      "source": [
        "Here, we imported **date** class from the **datetime** module. Then, we used **date.today**() method to get the current local date.\n",
        "\n",
        "By the way, **today** variable will be a **date** object. You can use **strftime**() method to create string representing date in different formats from this object.\n"
      ]
    },
    {
      "cell_type": "markdown",
      "metadata": {
        "id": "Q1T7apt6mn6a",
        "colab_type": "text"
      },
      "source": [
        "**Example 2: Current date in different formats**"
      ]
    },
    {
      "cell_type": "code",
      "metadata": {
        "id": "V1ACEG9JlfW1",
        "colab_type": "code",
        "colab": {
          "base_uri": "https://localhost:8080/",
          "height": 85
        },
        "outputId": "b68d5611-a157-4da6-ad01-eb7ed6dd2333"
      },
      "source": [
        "from datetime import date\n",
        "\n",
        "today = date.today()\n",
        "\n",
        "# dd/mm/YY\n",
        "d1 = today.strftime(\"%d/%m/%Y\")\n",
        "print(\"d1 =\", d1)\n",
        "\n",
        "# Textual month, day and year\t\n",
        "d2 = today.strftime(\"%B %d, %Y\")\n",
        "print(\"d2 =\", d2)\n",
        "\n",
        "# mm/dd/y\n",
        "d3 = today.strftime(\"%m/%d/%y\")\n",
        "print(\"d3 =\", d3)\n",
        "\n",
        "# Month abbreviation, day and year\t\n",
        "d4 = today.strftime(\"%b-%d-%Y\")\n",
        "print(\"d4 =\", d4)"
      ],
      "execution_count": 3,
      "outputs": [
        {
          "output_type": "stream",
          "text": [
            "d1 = 19/11/2019\n",
            "d2 = November 19, 2019\n",
            "d3 = 11/19/19\n",
            "d4 = Nov-19-2019\n"
          ],
          "name": "stdout"
        }
      ]
    },
    {
      "cell_type": "markdown",
      "metadata": {
        "id": "3Nd-oH1Nm6mP",
        "colab_type": "text"
      },
      "source": [
        "If you need to get current date and time, you can use **datetime** class of the **datetime** module.\n",
        "\n",
        "**Example 3: Get current date and time**\n"
      ]
    },
    {
      "cell_type": "code",
      "metadata": {
        "id": "K8p1MfC4mwYq",
        "colab_type": "code",
        "colab": {
          "base_uri": "https://localhost:8080/",
          "height": 51
        },
        "outputId": "336c2353-f1df-4f8e-c062-cd5542bfd5f5"
      },
      "source": [
        "from datetime import datetime\n",
        "\n",
        "# datetime object containing current date and time\n",
        "now = datetime.now()\n",
        "\n",
        "print(\"now =\", now)\n",
        "\n",
        "# dd/mm/YY H:M:S\n",
        "dt_string = now.strftime(\"%d/%m/%Y %H:%M:%S\")\n",
        "print(\"date and time =\", dt_string)"
      ],
      "execution_count": 4,
      "outputs": [
        {
          "output_type": "stream",
          "text": [
            "now = 2019-11-19 03:02:09.284418\n",
            "date and time = 19/11/2019 03:02:09\n"
          ],
          "name": "stdout"
        }
      ]
    },
    {
      "cell_type": "code",
      "metadata": {
        "id": "qDiobGpvnDmC",
        "colab_type": "code",
        "colab": {}
      },
      "source": [
        ""
      ],
      "execution_count": 0,
      "outputs": []
    }
  ]
}