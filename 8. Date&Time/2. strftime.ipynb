{
  "nbformat": 4,
  "nbformat_minor": 0,
  "metadata": {
    "colab": {
      "name": "Untitled54.ipynb",
      "provenance": [],
      "include_colab_link": true
    },
    "kernelspec": {
      "name": "python3",
      "display_name": "Python 3"
    }
  },
  "cells": [
    {
      "cell_type": "markdown",
      "metadata": {
        "id": "view-in-github",
        "colab_type": "text"
      },
      "source": [
        "<a href=\"https://colab.research.google.com/github/sumithdcosta/Python/blob/master/8.%20Date%26Time/2.%20strftime.ipynb\" target=\"_parent\"><img src=\"https://colab.research.google.com/assets/colab-badge.svg\" alt=\"Open In Colab\"/></a>"
      ]
    },
    {
      "cell_type": "markdown",
      "metadata": {
        "id": "80IGyj2P__-n",
        "colab_type": "text"
      },
      "source": [
        "8. Date&Time/2. strftime.ipynb"
      ]
    },
    {
      "cell_type": "markdown",
      "metadata": {
        "id": "om-pSfadAGBR",
        "colab_type": "text"
      },
      "source": [
        "The strftime() method returns a string representing date and time using date, time or datetime object.\n",
        "\n",
        "**Example 1: datetime to string using strftime()**\n",
        "\n",
        "The program below converts a datetime object containing current date and time to different string formats.\n"
      ]
    },
    {
      "cell_type": "code",
      "metadata": {
        "id": "JXOUL8E9_-1g",
        "colab_type": "code",
        "colab": {
          "base_uri": "https://localhost:8080/",
          "height": 102
        },
        "outputId": "8e87ef53-f8c9-42a4-8639-af4b37ef7bbc"
      },
      "source": [
        "from datetime import datetime\n",
        "\n",
        "now = datetime.now() # current date and time\n",
        "\n",
        "year = now.strftime(\"%Y\")\n",
        "print(\"year:\", year)\n",
        "\n",
        "month = now.strftime(\"%m\")\n",
        "print(\"month:\", month)\n",
        "\n",
        "day = now.strftime(\"%d\")\n",
        "print(\"day:\", day)\n",
        "\n",
        "time = now.strftime(\"%H:%M:%S\")\n",
        "print(\"time:\", time)\n",
        "\n",
        "date_time = now.strftime(\"%m/%d/%Y, %H:%M:%S\")\n",
        "print(\"date and time:\",date_time)\t"
      ],
      "execution_count": 1,
      "outputs": [
        {
          "output_type": "stream",
          "text": [
            "year: 2019\n",
            "month: 11\n",
            "day: 06\n",
            "time: 04:37:29\n",
            "date and time: 11/06/2019, 04:37:29\n"
          ],
          "name": "stdout"
        }
      ]
    },
    {
      "cell_type": "markdown",
      "metadata": {
        "id": "4pyj32HTAcTY",
        "colab_type": "text"
      },
      "source": [
        "Here, year, day, time and date_time are strings, whereas now is a datetime object."
      ]
    },
    {
      "cell_type": "markdown",
      "metadata": {
        "id": "ynyZJLxPA954",
        "colab_type": "text"
      },
      "source": [
        "![alt text](https://drive.google.com/uc?export=view&id=13ooTuJ-dOoZITYnrhUUPXjNYWoIz90Ye)"
      ]
    },
    {
      "cell_type": "markdown",
      "metadata": {
        "id": "V8YJ3_ZyB38-",
        "colab_type": "text"
      },
      "source": [
        "**Example 2: Creating string from a timestamp**"
      ]
    },
    {
      "cell_type": "code",
      "metadata": {
        "id": "uwZJ3_zvAMDj",
        "colab_type": "code",
        "colab": {
          "base_uri": "https://localhost:8080/",
          "height": 102
        },
        "outputId": "f3b84f5f-dbf8-4ed9-bd56-64838aa902d1"
      },
      "source": [
        "from datetime import datetime\n",
        "\n",
        "timestamp = 1528797322\n",
        "date_time = datetime.fromtimestamp(timestamp)\n",
        "\n",
        "print(\"Date time object:\", date_time)\n",
        "\n",
        "d = date_time.strftime(\"%m/%d/%Y, %H:%M:%S\")\n",
        "print(\"Output 2:\", d)\t\n",
        "\n",
        "d = date_time.strftime(\"%d %b, %Y\")\n",
        "print(\"Output 3:\", d)\n",
        "\n",
        "d = date_time.strftime(\"%d %B, %Y\")\n",
        "print(\"Output 4:\", d)\n",
        "\n",
        "d = date_time.strftime(\"%I %p\")\n",
        "print(\"Output 5:\", d)"
      ],
      "execution_count": 4,
      "outputs": [
        {
          "output_type": "stream",
          "text": [
            "Date time object: 2018-06-12 09:55:22\n",
            "Output 2: 06/12/2018, 09:55:22\n",
            "Output 3: 12 Jun, 2018\n",
            "Output 4: 12 June, 2018\n",
            "Output 5: 09 AM\n"
          ],
          "name": "stdout"
        }
      ]
    },
    {
      "cell_type": "code",
      "metadata": {
        "id": "3-MwX94BB_08",
        "colab_type": "code",
        "colab": {}
      },
      "source": [
        ""
      ],
      "execution_count": 0,
      "outputs": []
    }
  ]
}