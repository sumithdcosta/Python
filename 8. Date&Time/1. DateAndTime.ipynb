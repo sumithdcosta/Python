{
  "nbformat": 4,
  "nbformat_minor": 0,
  "metadata": {
    "colab": {
      "name": "Untitled53.ipynb",
      "provenance": [],
      "include_colab_link": true
    },
    "kernelspec": {
      "name": "python3",
      "display_name": "Python 3"
    }
  },
  "cells": [
    {
      "cell_type": "markdown",
      "metadata": {
        "id": "view-in-github",
        "colab_type": "text"
      },
      "source": [
        "<a href=\"https://colab.research.google.com/github/sumithdcosta/Python/blob/master/8.%20Date%26Time/1.%20DateAndTime.ipynb\" target=\"_parent\"><img src=\"https://colab.research.google.com/assets/colab-badge.svg\" alt=\"Open In Colab\"/></a>"
      ]
    },
    {
      "cell_type": "markdown",
      "metadata": {
        "id": "8J53J8lxuIja",
        "colab_type": "text"
      },
      "source": [
        "8. Date&Time/1. DateAndTime.ipynb"
      ]
    },
    {
      "cell_type": "markdown",
      "metadata": {
        "id": "7D-daPuEuYUM",
        "colab_type": "text"
      },
      "source": [
        "**Date and Time**\n",
        "\n",
        "Python has a module named datetime to work with dates and times. \n",
        "\n",
        "**Example 1: Get Current Date and Time**"
      ]
    },
    {
      "cell_type": "code",
      "metadata": {
        "id": "i6nh_MM4uGv9",
        "colab_type": "code",
        "outputId": "59071032-e65f-4433-c789-74f2c7d2095a",
        "colab": {
          "base_uri": "https://localhost:8080/",
          "height": 34
        }
      },
      "source": [
        "import datetime\n",
        "\n",
        "datetime_object = datetime.datetime.now()\n",
        "print(datetime_object)"
      ],
      "execution_count": 0,
      "outputs": [
        {
          "output_type": "stream",
          "text": [
            "2019-11-06 03:19:59.741740\n"
          ],
          "name": "stdout"
        }
      ]
    },
    {
      "cell_type": "markdown",
      "metadata": {
        "id": "Rdb5c8reuiIe",
        "colab_type": "text"
      },
      "source": [
        "Here, we have imported datetime module using import datetime statement.\n",
        "\n",
        "One of the classes defined in the datetime module is datetime class. We then used now() method to create a datetime object containing the current local date and time.\n",
        "\n",
        "**Example 2: Get Current Date**"
      ]
    },
    {
      "cell_type": "code",
      "metadata": {
        "id": "bJZ86UEBucSN",
        "colab_type": "code",
        "outputId": "03e1b92b-7640-43a7-f624-49d65275d398",
        "colab": {
          "base_uri": "https://localhost:8080/",
          "height": 34
        }
      },
      "source": [
        "import datetime\n",
        "\n",
        "date_object = datetime.date.today()\n",
        "print(date_object)"
      ],
      "execution_count": 0,
      "outputs": [
        {
          "output_type": "stream",
          "text": [
            "2019-11-06\n"
          ],
          "name": "stdout"
        }
      ]
    },
    {
      "cell_type": "markdown",
      "metadata": {
        "id": "pyVyPp5XutT2",
        "colab_type": "text"
      },
      "source": [
        "In this program, we have used **today**() method defined in the date class to get a date object containing the current local date.\n",
        "\n",
        "**What's inside datetime?**\n",
        "\n",
        "We can use dir() function to get a list containing all attributes of a module.\n"
      ]
    },
    {
      "cell_type": "code",
      "metadata": {
        "id": "8uIy4ih7uqwU",
        "colab_type": "code",
        "outputId": "9618bb46-5911-4770-9bdf-e49cf6711e6c",
        "colab": {
          "base_uri": "https://localhost:8080/",
          "height": 54
        }
      },
      "source": [
        "import datetime\n",
        "\n",
        "print(dir(datetime))\n",
        "\n",
        "#When you run the program, the output will be:\n",
        "\n",
        "#['MAXYEAR', 'MINYEAR', '__builtins__', '__cached__', '__doc__', '__file__', '__loader__',\n",
        "# '__name__', '__package__', '__spec__', '_divide_and_round', 'date', 'datetime', \n",
        "#'datetime_CAPI', 'time', 'timedelta', 'timezone', 'tzinfo']"
      ],
      "execution_count": 0,
      "outputs": [
        {
          "output_type": "stream",
          "text": [
            "['MAXYEAR', 'MINYEAR', '__builtins__', '__cached__', '__doc__', '__file__', '__loader__', '__name__', '__package__', '__spec__', 'date', 'datetime', 'datetime_CAPI', 'sys', 'time', 'timedelta', 'timezone', 'tzinfo']\n"
          ],
          "name": "stdout"
        }
      ]
    },
    {
      "cell_type": "markdown",
      "metadata": {
        "id": "3WXOdimQu_1j",
        "colab_type": "text"
      },
      "source": [
        "Commonly used classes in the datetime module are:\n",
        "\n",
        "* date Class\n",
        "* time Class\n",
        "* datetime Class\n",
        "* timedelta Class"
      ]
    },
    {
      "cell_type": "markdown",
      "metadata": {
        "id": "vBpJgp6ivFjD",
        "colab_type": "text"
      },
      "source": [
        "**datetime.date Class**\n",
        "\n",
        "You can instantiate date objects from the date class. A date object represents a date (year, month and day).\n",
        "\n",
        "**Example 3: Date object to represent a date**"
      ]
    },
    {
      "cell_type": "code",
      "metadata": {
        "id": "PPKEaqciu0jE",
        "colab_type": "code",
        "outputId": "4214d6bb-ad3f-4f96-8bef-ad7cc777c135",
        "colab": {
          "base_uri": "https://localhost:8080/",
          "height": 34
        }
      },
      "source": [
        "import datetime\n",
        "\n",
        "d = datetime.date(2019, 4, 13)\n",
        "print(d)"
      ],
      "execution_count": 0,
      "outputs": [
        {
          "output_type": "stream",
          "text": [
            "2019-04-13\n"
          ],
          "name": "stdout"
        }
      ]
    },
    {
      "cell_type": "markdown",
      "metadata": {
        "id": "KyDVwB1cvUQG",
        "colab_type": "text"
      },
      "source": [
        "If you are wondering, date() in the above example is a constructor of the date class. The constructor takes three arguments: year, month and day.\n",
        "\n",
        "The variable **a** is a date object.\n",
        "\n",
        "We can only import date class from the datetime module. Here's how:"
      ]
    },
    {
      "cell_type": "code",
      "metadata": {
        "id": "vyQBXSQDvMQ0",
        "colab_type": "code",
        "outputId": "1fe5d33b-7ee9-4ae5-e7a3-df24f61253b0",
        "colab": {
          "base_uri": "https://localhost:8080/",
          "height": 34
        }
      },
      "source": [
        "from datetime import date\n",
        "\n",
        "a = date(2019, 4, 13)\n",
        "print(a)"
      ],
      "execution_count": 0,
      "outputs": [
        {
          "output_type": "stream",
          "text": [
            "2019-04-13\n"
          ],
          "name": "stdout"
        }
      ]
    },
    {
      "cell_type": "markdown",
      "metadata": {
        "id": "g8urp8Dsvi1b",
        "colab_type": "text"
      },
      "source": [
        "**Example 4: Get current date**\n",
        "\n",
        "You can create a date object containing the current date by using a classmethod named today(). Here's how:\n"
      ]
    },
    {
      "cell_type": "code",
      "metadata": {
        "id": "tPQbWRH9vgDC",
        "colab_type": "code",
        "outputId": "ff9d9a0b-4c1f-481a-a134-aad4d6286d6f",
        "colab": {
          "base_uri": "https://localhost:8080/",
          "height": 34
        }
      },
      "source": [
        "from datetime import date\n",
        "\n",
        "today = date.today()\n",
        "print(\"Current date =\", today)"
      ],
      "execution_count": 0,
      "outputs": [
        {
          "output_type": "stream",
          "text": [
            "Current date = 2019-11-06\n"
          ],
          "name": "stdout"
        }
      ]
    },
    {
      "cell_type": "markdown",
      "metadata": {
        "id": "asBh9DZQvt3h",
        "colab_type": "text"
      },
      "source": [
        "**Example 5: Get date from a timestamp**\n",
        "\n",
        "We can also create date objects from a timestamp. A Unix timestamp is the number of seconds between a particular date and January 1, 1970 at UTC. You can convert a timestamp to date using fromtimestamp() method."
      ]
    },
    {
      "cell_type": "code",
      "metadata": {
        "id": "Hh6s3QFtvrVs",
        "colab_type": "code",
        "outputId": "98208688-6c2e-4337-cb37-69015f9c70bc",
        "colab": {
          "base_uri": "https://localhost:8080/",
          "height": 34
        }
      },
      "source": [
        "from datetime import date\n",
        "\n",
        "timestamp = date.fromtimestamp(1326244364)\n",
        "print(\"Date =\", timestamp)"
      ],
      "execution_count": 0,
      "outputs": [
        {
          "output_type": "stream",
          "text": [
            "Date = 2012-01-11\n"
          ],
          "name": "stdout"
        }
      ]
    },
    {
      "cell_type": "markdown",
      "metadata": {
        "id": "hLhLM63Nv24F",
        "colab_type": "text"
      },
      "source": [
        "**Example 6: Print today's year, month and day**\n",
        "\n",
        "We can get year, month, day, day of the week etc. from the date object easily. Here's how:\n"
      ]
    },
    {
      "cell_type": "code",
      "metadata": {
        "id": "_IIqvhdpvzOc",
        "colab_type": "code",
        "outputId": "8c463639-1101-42d8-fb56-631ad2b868af",
        "colab": {
          "base_uri": "https://localhost:8080/",
          "height": 68
        }
      },
      "source": [
        "from datetime import date\n",
        "\n",
        "# date object of today's date\n",
        "today = date.today() \n",
        "\n",
        "print(\"Current year:\", today.year)\n",
        "print(\"Current month:\", today.month)\n",
        "print(\"Current day:\", today.day)"
      ],
      "execution_count": 0,
      "outputs": [
        {
          "output_type": "stream",
          "text": [
            "Current year: 2019\n",
            "Current month: 11\n",
            "Current day: 6\n"
          ],
          "name": "stdout"
        }
      ]
    },
    {
      "cell_type": "markdown",
      "metadata": {
        "id": "pvOsmURnv9Ec",
        "colab_type": "text"
      },
      "source": [
        "**datetime.time**\n",
        "\n",
        "A time object instantiated from the time class represents the local time.\n",
        "\n",
        "**Example 7: Time object to represent time**"
      ]
    },
    {
      "cell_type": "code",
      "metadata": {
        "id": "NPJSbUdfv6rt",
        "colab_type": "code",
        "outputId": "4f90560b-7554-4b50-d6cb-6be3fe3ada20",
        "colab": {
          "base_uri": "https://localhost:8080/",
          "height": 85
        }
      },
      "source": [
        "from datetime import time\n",
        "\n",
        "# time(hour = 0, minute = 0, second = 0)\n",
        "a = time()\n",
        "print(\"a =\", a)\n",
        "\n",
        "# time(hour, minute and second)\n",
        "b = time(11, 34, 56)\n",
        "print(\"b =\", b)\n",
        "\n",
        "# time(hour, minute and second)\n",
        "c = time(hour = 11, minute = 34, second = 56)\n",
        "print(\"c =\", c)\n",
        "\n",
        "# time(hour, minute, second, microsecond)\n",
        "d = time(11, 34, 56, 234566)\n",
        "print(\"d =\", d)"
      ],
      "execution_count": 0,
      "outputs": [
        {
          "output_type": "stream",
          "text": [
            "a = 00:00:00\n",
            "b = 11:34:56\n",
            "c = 11:34:56\n",
            "d = 11:34:56.234566\n"
          ],
          "name": "stdout"
        }
      ]
    },
    {
      "cell_type": "markdown",
      "metadata": {
        "id": "EqFkUBNLxMCB",
        "colab_type": "text"
      },
      "source": [
        "**Example 8: Print hour, minute, second and microsecond**\n",
        "\n",
        "Once you create a time object, you can easily print its attributes such as hour, minute etc."
      ]
    },
    {
      "cell_type": "code",
      "metadata": {
        "id": "ONz-B6cewtKO",
        "colab_type": "code",
        "outputId": "cb26edc4-37da-4020-a009-91e08a475a9c",
        "colab": {
          "base_uri": "https://localhost:8080/",
          "height": 85
        }
      },
      "source": [
        "from datetime import time\n",
        "\n",
        "a = time(11, 34, 56)\n",
        "\n",
        "print(\"hour =\", a.hour)\n",
        "print(\"minute =\", a.minute)\n",
        "print(\"second =\", a.second)\n",
        "print(\"microsecond =\", a.microsecond)"
      ],
      "execution_count": 0,
      "outputs": [
        {
          "output_type": "stream",
          "text": [
            "hour = 11\n",
            "minute = 34\n",
            "second = 56\n",
            "microsecond = 0\n"
          ],
          "name": "stdout"
        }
      ]
    },
    {
      "cell_type": "markdown",
      "metadata": {
        "id": "BrIgNysyxS-g",
        "colab_type": "text"
      },
      "source": [
        "Notice that we haven't passed microsecond argument. Hence, its default value 0 is printed.\n",
        "\n",
        "**datetime.datetime**\n",
        "\n",
        "The datetime module has a class named dateclass that can contain information from both date and time objects."
      ]
    },
    {
      "cell_type": "code",
      "metadata": {
        "id": "xk1QXPOYxQuO",
        "colab_type": "code",
        "outputId": "4bdba28b-2d81-4eab-8053-cd06d01738ae",
        "colab": {
          "base_uri": "https://localhost:8080/",
          "height": 51
        }
      },
      "source": [
        "from datetime import datetime\n",
        "\n",
        "#datetime(year, month, day)\n",
        "a = datetime(2018, 11, 28)\n",
        "print(a)\n",
        "\n",
        "# datetime(year, month, day, hour, minute, second, microsecond)\n",
        "b = datetime(2017, 11, 28, 23, 55, 59, 342380)\n",
        "print(b)"
      ],
      "execution_count": 0,
      "outputs": [
        {
          "output_type": "stream",
          "text": [
            "2018-11-28 00:00:00\n",
            "2017-11-28 23:55:59.342380\n"
          ],
          "name": "stdout"
        }
      ]
    },
    {
      "cell_type": "markdown",
      "metadata": {
        "id": "iB1QHAWbyVHa",
        "colab_type": "text"
      },
      "source": [
        "**Example 10: Print year, month, hour, minute and timestamp**"
      ]
    },
    {
      "cell_type": "code",
      "metadata": {
        "id": "EQH0CgszyJO_",
        "colab_type": "code",
        "outputId": "958b20a7-dad1-4bb1-d08e-72c57238c392",
        "colab": {
          "base_uri": "https://localhost:8080/",
          "height": 102
        }
      },
      "source": [
        "from datetime import datetime\n",
        "\n",
        "a = datetime(2017, 11, 28, 23, 55, 59, 342380)\n",
        "print(\"year =\", a.year)\n",
        "print(\"month =\", a.month)\n",
        "print(\"hour =\", a.hour)\n",
        "print(\"minute =\", a.minute)\n",
        "print(\"timestamp =\", a.timestamp())"
      ],
      "execution_count": 0,
      "outputs": [
        {
          "output_type": "stream",
          "text": [
            "year = 2017\n",
            "month = 11\n",
            "hour = 23\n",
            "minute = 55\n",
            "timestamp = 1511913359.34238\n"
          ],
          "name": "stdout"
        }
      ]
    },
    {
      "cell_type": "markdown",
      "metadata": {
        "id": "Ut2R-13yyg_g",
        "colab_type": "text"
      },
      "source": [
        "**datetime.timedelta**\n",
        "\n",
        "A timedelta object represents the difference between two dates or times.\n",
        "\n",
        "**Example 11: Difference between two dates and times**\n"
      ]
    },
    {
      "cell_type": "code",
      "metadata": {
        "id": "nno9kPkByYoa",
        "colab_type": "code",
        "outputId": "2c7c7509-98a7-4df3-aaed-7e4636e71663",
        "colab": {
          "base_uri": "https://localhost:8080/",
          "height": 85
        }
      },
      "source": [
        "from datetime import datetime, date\n",
        "\n",
        "t1 = date(year = 2018, month = 7, day = 12)\n",
        "t2 = date(year = 2017, month = 12, day = 23)\n",
        "t3 = t1 - t2\n",
        "print(\"t3 =\", t3)\n",
        "\n",
        "t4 = datetime(year = 2018, month = 7, day = 12, hour = 7, minute = 9, second = 33)\n",
        "t5 = datetime(year = 2017, month = 12, day = 23, hour = 5, minute = 55, second = 13)\n",
        "t6 = t4 - t5\n",
        "print(\"t6 =\", t6)\n",
        "\n",
        "print(\"type of t3 =\", type(t3)) \n",
        "print(\"type of t6 =\", type(t6)) "
      ],
      "execution_count": 0,
      "outputs": [
        {
          "output_type": "stream",
          "text": [
            "t3 = 201 days, 0:00:00\n",
            "t6 = 201 days, 1:14:20\n",
            "type of t3 = <class 'datetime.timedelta'>\n",
            "type of t6 = <class 'datetime.timedelta'>\n"
          ],
          "name": "stdout"
        }
      ]
    },
    {
      "cell_type": "markdown",
      "metadata": {
        "id": "yI78gEwZzJWv",
        "colab_type": "text"
      },
      "source": [
        "**Example 12: Difference between two timedelta objects**"
      ]
    },
    {
      "cell_type": "code",
      "metadata": {
        "id": "BpGbxypxyn3o",
        "colab_type": "code",
        "outputId": "d7f6f27b-5dd6-4a0d-d8a2-16548ee8cb88",
        "colab": {
          "base_uri": "https://localhost:8080/",
          "height": 34
        }
      },
      "source": [
        "from datetime import timedelta\n",
        "\n",
        "t1 = timedelta(weeks = 2, days = 5, hours = 1, seconds = 33)\n",
        "t2 = timedelta(days = 4, hours = 11, minutes = 4, seconds = 54)\n",
        "t3 = t1 - t2\n",
        "\n",
        "print(\"t3 =\", t3)\n"
      ],
      "execution_count": 0,
      "outputs": [
        {
          "output_type": "stream",
          "text": [
            "t3 = 14 days, 13:55:39\n"
          ],
          "name": "stdout"
        }
      ]
    },
    {
      "cell_type": "markdown",
      "metadata": {
        "id": "3tXGwEgFzQ4d",
        "colab_type": "text"
      },
      "source": [
        "Here, we have created two timedelta objects t1 and t2, and their difference is printed on the screen.\n",
        "\n",
        "**Example 13: Printing negative timedelta object**"
      ]
    },
    {
      "cell_type": "code",
      "metadata": {
        "id": "G1hMTycFzNuQ",
        "colab_type": "code",
        "outputId": "4686d55a-d123-4ea8-9281-6176fd3b1683",
        "colab": {
          "base_uri": "https://localhost:8080/",
          "height": 51
        }
      },
      "source": [
        "from datetime import timedelta\n",
        "\n",
        "t1 = timedelta(seconds = 33)\n",
        "t2 = timedelta(seconds = 54)\n",
        "t3 = t1 - t2\n",
        "\n",
        "print(\"t3 =\", t3)\n",
        "print(\"t3 =\", abs(t3))"
      ],
      "execution_count": 0,
      "outputs": [
        {
          "output_type": "stream",
          "text": [
            "t3 = -1 day, 23:59:39\n",
            "t3 = 0:00:21\n"
          ],
          "name": "stdout"
        }
      ]
    },
    {
      "cell_type": "markdown",
      "metadata": {
        "id": "ith4K83oziL-",
        "colab_type": "text"
      },
      "source": [
        "**Example 14: Time duration in seconds**\n",
        "\n",
        "You can get the total number of seconds in a timedelta object using total_seconds() method.\n"
      ]
    },
    {
      "cell_type": "code",
      "metadata": {
        "id": "1leA5O22zVlP",
        "colab_type": "code",
        "outputId": "9567bce4-737c-4ff7-b54e-930eae4202e0",
        "colab": {
          "base_uri": "https://localhost:8080/",
          "height": 34
        }
      },
      "source": [
        "from datetime import timedelta\n",
        "\n",
        "t = timedelta(days = 5, hours = 1, seconds = 33, microseconds = 233423)\n",
        "print(\"total seconds =\", t.total_seconds())"
      ],
      "execution_count": 0,
      "outputs": [
        {
          "output_type": "stream",
          "text": [
            "total seconds = 435633.233423\n"
          ],
          "name": "stdout"
        }
      ]
    },
    {
      "cell_type": "markdown",
      "metadata": {
        "id": "WOzlCeNJzoy-",
        "colab_type": "text"
      },
      "source": [
        "**Python format datetime**\n",
        "\n",
        "The way date and time is represented may be different in different places, organizations etc. It's more common to use mm/dd/yyyy in the US, whereas dd/mm/yyyy is more common in the UK.\n",
        "\n",
        "Python has strftime() and strptime() methods to handle this.\n",
        "\n",
        "Python strftime() - datetime object to string\n",
        "\n",
        "The strftime() method is defined under classes date, datetime and time. The method creates a formatted string from a given date, datetime or time object.\n",
        "\n",
        "**Example 15: Format date using strftime()**"
      ]
    },
    {
      "cell_type": "code",
      "metadata": {
        "id": "rzMwH6P0zlK5",
        "colab_type": "code",
        "outputId": "ccc15c0b-e894-422d-cbac-1570fb7081d8",
        "colab": {
          "base_uri": "https://localhost:8080/",
          "height": 68
        }
      },
      "source": [
        "from datetime import datetime\n",
        "\n",
        "# current date and time\n",
        "now = datetime.now()\n",
        "\n",
        "t = now.strftime(\"%H:%M:%S\")\n",
        "print(\"time:\", t)\n",
        "\n",
        "s1 = now.strftime(\"%m/%d/%Y, %H:%M:%S\")\n",
        "# mm/dd/YY H:M:S format\n",
        "print(\"s1:\", s1)\n",
        "\n",
        "s2 = now.strftime(\"%d/%m/%Y, %H:%M:%S\")\n",
        "# dd/mm/YY H:M:S format\n",
        "print(\"s2:\", s2)"
      ],
      "execution_count": 0,
      "outputs": [
        {
          "output_type": "stream",
          "text": [
            "time: 03:43:59\n",
            "s1: 11/06/2019, 03:43:59\n",
            "s2: 06/11/2019, 03:43:59\n"
          ],
          "name": "stdout"
        }
      ]
    },
    {
      "cell_type": "markdown",
      "metadata": {
        "id": "Pb81O4tc4lBN",
        "colab_type": "text"
      },
      "source": [
        "Here, %Y, %m, %d, %H etc. are format codes. The strftime() method takes one or more format codes and returns a formatted string based on it.\n",
        "\n",
        "In the above program, t, s1 and s2 are strings.\n",
        "\n",
        "* %Y - year [0001,..., 2018, 2019,..., 9999]\n",
        "* %m - month [01, 02, ..., 11, 12]\n",
        "* %d - day [01, 02, ..., 30, 31]\n",
        "* %H - hour [00, 01, ..., 22, 23\n",
        "* %M - month [00, 01, ..., 58, 59]\n",
        "* %S - second [00, 01, ..., 58, 59]\n",
        "\n",
        "To learn more about strftime() and format codes, visit: Python strftime()."
      ]
    },
    {
      "cell_type": "markdown",
      "metadata": {
        "id": "88NWYd-d416H",
        "colab_type": "text"
      },
      "source": [
        "**Example 16: strptime()**"
      ]
    },
    {
      "cell_type": "code",
      "metadata": {
        "id": "yNOfcPH0z9jY",
        "colab_type": "code",
        "outputId": "feac3fce-41cd-4ec3-8a8a-b4ec01ac9bbf",
        "colab": {
          "base_uri": "https://localhost:8080/",
          "height": 51
        }
      },
      "source": [
        "from datetime import datetime\n",
        "\n",
        "date_string = \"21 June, 2018\"\n",
        "print(\"date_string =\", date_string)\n",
        "\n",
        "date_object = datetime.strptime(date_string, \"%d %B, %Y\")\n",
        "print(\"date_object =\", date_object)"
      ],
      "execution_count": 0,
      "outputs": [
        {
          "output_type": "stream",
          "text": [
            "date_string = 21 June, 2018\n",
            "date_object = 2018-06-21 00:00:00\n"
          ],
          "name": "stdout"
        }
      ]
    },
    {
      "cell_type": "code",
      "metadata": {
        "id": "GEUzibPm46kM",
        "colab_type": "code",
        "colab": {}
      },
      "source": [
        "The strptime() method takes two arguments:\n",
        "\n",
        "* a string representing date and time\n",
        "* format code equivalent to the first argument\n",
        "\n",
        "By the way, %d, %B and %Y format codes are used for day, month(full name) and year respectively.\n",
        "\n",
        "Visit Python strptime() to learn more."
      ],
      "execution_count": 0,
      "outputs": []
    },
    {
      "cell_type": "markdown",
      "metadata": {
        "id": "3UnbcKT05L6V",
        "colab_type": "text"
      },
      "source": [
        "**Handling timezone in Python**\n",
        "\n",
        "Suppose, you are working on a project and need to display date and time based on their timezone. Rather than trying to handle timezone yourself, we suggest you to use a third-party pytZ module.\n"
      ]
    },
    {
      "cell_type": "code",
      "metadata": {
        "id": "poSco49Y5RY6",
        "colab_type": "code",
        "outputId": "9e24f390-f85a-4d58-c01d-61e598bf235e",
        "colab": {
          "base_uri": "https://localhost:8080/",
          "height": 85
        }
      },
      "source": [
        "from datetime import datetime\n",
        "import pytz\n",
        "\n",
        "local = datetime.now()\n",
        "print(\"Local:\", local.strftime(\"%m/%d/%Y, %H:%M:%S\"))\n",
        "\n",
        "\n",
        "tz_NY = pytz.timezone('America/New_York') \n",
        "datetime_NY = datetime.now(tz_NY)\n",
        "print(\"NY:\", datetime_NY.strftime(\"%m/%d/%Y, %H:%M:%S\"))\n",
        "\n",
        "tz_London = pytz.timezone('Europe/London')\n",
        "datetime_London = datetime.now(tz_London)\n",
        "print(\"London:\", datetime_London.strftime(\"%m/%d/%Y, %H:%M:%S\"))\n",
        "\n",
        "tz_India = pytz.timezone('Asia/Kolkata')\n",
        "datetime_India = datetime.now(tz_India)\n",
        "print(\"Inida:\", datetime_India.strftime(\"%m/%d/%Y, %H:%M:%S\"))"
      ],
      "execution_count": 0,
      "outputs": [
        {
          "output_type": "stream",
          "text": [
            "Local: 11/06/2019, 04:09:55\n",
            "NY: 11/05/2019, 23:09:55\n",
            "London: 11/06/2019, 04:09:55\n",
            "Inida: 11/06/2019, 09:39:55\n"
          ],
          "name": "stdout"
        }
      ]
    },
    {
      "cell_type": "markdown",
      "metadata": {
        "id": "XMjI0CxD-vFT",
        "colab_type": "text"
      },
      "source": [
        "Here, datetime_NY and datetime_London are datetime objects containing the current date and time of their respective timezone"
      ]
    },
    {
      "cell_type": "code",
      "metadata": {
        "id": "czY8rGaN5UD0",
        "colab_type": "code",
        "colab": {}
      },
      "source": [
        ""
      ],
      "execution_count": 0,
      "outputs": []
    }
  ]
}