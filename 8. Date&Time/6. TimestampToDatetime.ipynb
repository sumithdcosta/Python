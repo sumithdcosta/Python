{
  "nbformat": 4,
  "nbformat_minor": 0,
  "metadata": {
    "colab": {
      "name": "Untitled59.ipynb",
      "provenance": [],
      "include_colab_link": true
    },
    "kernelspec": {
      "name": "python3",
      "display_name": "Python 3"
    }
  },
  "cells": [
    {
      "cell_type": "markdown",
      "metadata": {
        "id": "view-in-github",
        "colab_type": "text"
      },
      "source": [
        "<a href=\"https://colab.research.google.com/github/sumithdcosta/Python/blob/master/8.%20Date%26Time/6.%20TimestampToDatetime.ipynb\" target=\"_parent\"><img src=\"https://colab.research.google.com/assets/colab-badge.svg\" alt=\"Open In Colab\"/></a>"
      ]
    },
    {
      "cell_type": "markdown",
      "metadata": {
        "id": "Gy5RXYnwqSoZ",
        "colab_type": "text"
      },
      "source": [
        "8. Date&Time/6. TimestampToDatetime.ipynb"
      ]
    },
    {
      "cell_type": "markdown",
      "metadata": {
        "id": "L4SsWpeNqcb6",
        "colab_type": "text"
      },
      "source": [
        "**Python timestamp to datetime and vice-versa**\n",
        "\n",
        "It's pretty common to store date and time as a timestamp in a database. A Unix timestamp is the number of seconds between a particular date and January 1, 1970 at UTC.\n",
        "\n",
        "**Example 1: Python timestamp to datetime**"
      ]
    },
    {
      "cell_type": "code",
      "metadata": {
        "id": "VyE9pvl-qSCL",
        "colab_type": "code",
        "colab": {
          "base_uri": "https://localhost:8080/",
          "height": 51
        },
        "outputId": "df7cae98-1e6c-4c90-ad1d-2fc53d00bff4"
      },
      "source": [
        "from datetime import datetime\n",
        "\n",
        "timestamp = 1545730073\n",
        "dt_object = datetime.fromtimestamp(timestamp)\n",
        "\n",
        "print(\"dt_object =\", dt_object)\n",
        "print(\"type(dt_object) =\", type(dt_object))"
      ],
      "execution_count": 1,
      "outputs": [
        {
          "output_type": "stream",
          "text": [
            "dt_object = 2018-12-25 09:27:53\n",
            "type(dt_object) = <class 'datetime.datetime'>\n"
          ],
          "name": "stdout"
        }
      ]
    },
    {
      "cell_type": "markdown",
      "metadata": {
        "id": "JDDE3jfxqsk9",
        "colab_type": "text"
      },
      "source": [
        "Here, we have imported **datetime** class from the **datetime** module. Then, we used **datetime.fromtimestamp**() classmethod which returns the local date and time (datetime object). This object is stored in dt_object variable.\n",
        "\n",
        "Note: You can easily create a string representing date and time from a datetime object using strftime() method.\n"
      ]
    },
    {
      "cell_type": "markdown",
      "metadata": {
        "id": "pSnGUZbZq1s9",
        "colab_type": "text"
      },
      "source": [
        "**Example 2: Python datetime to timestamp**\n",
        "\n",
        "You can get timestamp from a datetime object using datetime.timestamp() method."
      ]
    },
    {
      "cell_type": "code",
      "metadata": {
        "id": "PA9vKjaRqkse",
        "colab_type": "code",
        "colab": {
          "base_uri": "https://localhost:8080/",
          "height": 34
        },
        "outputId": "e804136b-6427-4bbf-e92b-81988d2b3db7"
      },
      "source": [
        "from datetime import datetime\n",
        "\n",
        "# current date and time\n",
        "now = datetime.now()\n",
        "\n",
        "timestamp = datetime.timestamp(now)\n",
        "print(\"timestamp =\", timestamp)"
      ],
      "execution_count": 2,
      "outputs": [
        {
          "output_type": "stream",
          "text": [
            "timestamp = 1574133544.023422\n"
          ],
          "name": "stdout"
        }
      ]
    },
    {
      "cell_type": "code",
      "metadata": {
        "id": "7dYireeuq7P_",
        "colab_type": "code",
        "colab": {}
      },
      "source": [
        ""
      ],
      "execution_count": 0,
      "outputs": []
    }
  ]
}