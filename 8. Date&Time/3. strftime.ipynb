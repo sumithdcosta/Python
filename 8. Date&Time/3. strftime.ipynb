{
  "nbformat": 4,
  "nbformat_minor": 0,
  "metadata": {
    "colab": {
      "name": "Untitled56.ipynb",
      "provenance": [],
      "include_colab_link": true
    },
    "kernelspec": {
      "name": "python3",
      "display_name": "Python 3"
    }
  },
  "cells": [
    {
      "cell_type": "markdown",
      "metadata": {
        "id": "view-in-github",
        "colab_type": "text"
      },
      "source": [
        "<a href=\"https://colab.research.google.com/github/sumithdcosta/Python/blob/master/8.%20Date%26Time/3.%20strftime.ipynb\" target=\"_parent\"><img src=\"https://colab.research.google.com/assets/colab-badge.svg\" alt=\"Open In Colab\"/></a>"
      ]
    },
    {
      "cell_type": "markdown",
      "metadata": {
        "id": "DeMzmcIHQKQz",
        "colab_type": "text"
      },
      "source": [
        "8. Date&Time/3. strftime.ipynb"
      ]
    },
    {
      "cell_type": "markdown",
      "metadata": {
        "id": "2fcLtOa1QPwG",
        "colab_type": "text"
      },
      "source": [
        "The **strptime()** method creates a **datetime** object from a given string.\n",
        "\n",
        "Note: You cannot create datetime object from every string. The string needs to be in a certain format.\n",
        "\n",
        "**Example 1: string to datetime object**"
      ]
    },
    {
      "cell_type": "code",
      "metadata": {
        "id": "XsCrd3qFQcQA",
        "colab_type": "code",
        "colab": {
          "base_uri": "https://localhost:8080/",
          "height": 85
        },
        "outputId": "27232731-69e2-4215-eb80-73c6861db5d4"
      },
      "source": [
        "from datetime import datetime\n",
        "\n",
        "date_string = \"21 June, 2018\"\n",
        "\n",
        "print(\"date_string =\", date_string)\n",
        "print(\"type of date_string =\", type(date_string))\n",
        "\n",
        "date_object = datetime.strptime(date_string, \"%d %B, %Y\")\n",
        "\n",
        "print(\"date_object =\", date_object)\n",
        "print(\"type of date_object =\", type(date_object))\n"
      ],
      "execution_count": 1,
      "outputs": [
        {
          "output_type": "stream",
          "text": [
            "date_string = 21 June, 2018\n",
            "type of date_string = <class 'str'>\n",
            "date_object = 2018-06-21 00:00:00\n",
            "type of date_object = <class 'datetime.datetime'>\n"
          ],
          "name": "stdout"
        }
      ]
    },
    {
      "cell_type": "code",
      "metadata": {
        "id": "COOFoEkIQd_p",
        "colab_type": "code",
        "colab": {}
      },
      "source": [
        ""
      ],
      "execution_count": 0,
      "outputs": []
    },
    {
      "cell_type": "markdown",
      "metadata": {
        "id": "iWcOIWcBRKUS",
        "colab_type": "text"
      },
      "source": [
        "**How strptime() works?**\n",
        "\n",
        "The strptime() class method takes two arguments:\n",
        "\n",
        "* string (that be converted to datetime)\n",
        "* format code\n",
        "\n",
        "Based on the string and format code used, the method returns its equivalent **datetime** object.\n",
        "\n",
        "In the above example:\n",
        "\n",
        "![alt text](https://drive.google.com/uc?export=view&id=1oW_AoymQ0nw5yBmTYPLILaZZVvlKFaZ8)\n",
        "\n",
        "Here,\n",
        "\n",
        "* %d - Represents day of the month. Example: 01, 02, ..., 31\n",
        "* %B - Month's name in full. Example: January, February etc.\n",
        "* %Y - Year in four digits. Example: 2018, 2019 etc."
      ]
    }
  ]
}