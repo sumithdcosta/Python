{
  "nbformat": 4,
  "nbformat_minor": 0,
  "metadata": {
    "colab": {
      "name": "Untitled56.ipynb",
      "provenance": [],
      "include_colab_link": true
    },
    "kernelspec": {
      "name": "python3",
      "display_name": "Python 3"
    }
  },
  "cells": [
    {
      "cell_type": "markdown",
      "metadata": {
        "id": "view-in-github",
        "colab_type": "text"
      },
      "source": [
        "<a href=\"https://colab.research.google.com/github/sumithdcosta/Python/blob/master/8.%20Date%26Time/3.%20strptime.ipynb\" target=\"_parent\"><img src=\"https://colab.research.google.com/assets/colab-badge.svg\" alt=\"Open In Colab\"/></a>"
      ]
    },
    {
      "cell_type": "markdown",
      "metadata": {
        "id": "DeMzmcIHQKQz",
        "colab_type": "text"
      },
      "source": [
        "8. Date&Time/3. strptime.ipynb"
      ]
    },
    {
      "cell_type": "markdown",
      "metadata": {
        "id": "2fcLtOa1QPwG",
        "colab_type": "text"
      },
      "source": [
        "The **strptime()** method creates a **datetime** object from a given string.\n",
        "\n",
        "Note: You cannot create datetime object from every string. The string needs to be in a certain format.\n",
        "\n",
        "**Example 1: string to datetime object**"
      ]
    },
    {
      "cell_type": "code",
      "metadata": {
        "id": "XsCrd3qFQcQA",
        "colab_type": "code",
        "outputId": "27232731-69e2-4215-eb80-73c6861db5d4",
        "colab": {
          "base_uri": "https://localhost:8080/",
          "height": 85
        }
      },
      "source": [
        "from datetime import datetime\n",
        "\n",
        "date_string = \"21 June, 2018\"\n",
        "\n",
        "print(\"date_string =\", date_string)\n",
        "print(\"type of date_string =\", type(date_string))\n",
        "\n",
        "date_object = datetime.strptime(date_string, \"%d %B, %Y\")\n",
        "\n",
        "print(\"date_object =\", date_object)\n",
        "print(\"type of date_object =\", type(date_object))\n"
      ],
      "execution_count": 0,
      "outputs": [
        {
          "output_type": "stream",
          "text": [
            "date_string = 21 June, 2018\n",
            "type of date_string = <class 'str'>\n",
            "date_object = 2018-06-21 00:00:00\n",
            "type of date_object = <class 'datetime.datetime'>\n"
          ],
          "name": "stdout"
        }
      ]
    },
    {
      "cell_type": "markdown",
      "metadata": {
        "id": "iWcOIWcBRKUS",
        "colab_type": "text"
      },
      "source": [
        "**How strptime() works?**\n",
        "\n",
        "The strptime() class method takes two arguments:\n",
        "\n",
        "* string (that be converted to datetime)\n",
        "* format code\n",
        "\n",
        "Based on the string and format code used, the method returns its equivalent **datetime** object.\n",
        "\n",
        "In the above example:\n",
        "\n",
        "![alt text](https://drive.google.com/uc?export=view&id=1oW_AoymQ0nw5yBmTYPLILaZZVvlKFaZ8)\n",
        "\n",
        "Here,\n",
        "\n",
        "* %d - Represents day of the month. Example: 01, 02, ..., 31\n",
        "* %B - Month's name in full. Example: January, February etc.\n",
        "* %Y - Year in four digits. Example: 2018, 2019 etc."
      ]
    },
    {
      "cell_type": "markdown",
      "metadata": {
        "id": "gG_P-4YtjXSt",
        "colab_type": "text"
      },
      "source": [
        "**Example 2: string to datetime object**"
      ]
    },
    {
      "cell_type": "code",
      "metadata": {
        "id": "EdGjSuCkjcGh",
        "colab_type": "code",
        "colab": {
          "base_uri": "https://localhost:8080/",
          "height": 51
        },
        "outputId": "bc7e9f09-79e3-4637-d25e-a1bbdc6ef458"
      },
      "source": [
        "from datetime import datetime\n",
        "\n",
        "dt_string = \"12/11/2018 09:15:32\"\n",
        "\n",
        "# Considering date is in dd/mm/yyyy format\n",
        "dt_object1 = datetime.strptime(dt_string, \"%d/%m/%Y %H:%M:%S\")\n",
        "print(\"dt_object1 =\", dt_object1)\n",
        "\n",
        "# Considering date is in mm/dd/yyyy format\n",
        "dt_object2 = datetime.strptime(dt_string, \"%m/%d/%Y %H:%M:%S\")\n",
        "print(\"dt_object2 =\", dt_object2)"
      ],
      "execution_count": 1,
      "outputs": [
        {
          "output_type": "stream",
          "text": [
            "dt_object1 = 2018-11-12 09:15:32\n",
            "dt_object2 = 2018-12-11 09:15:32\n"
          ],
          "name": "stdout"
        }
      ]
    },
    {
      "cell_type": "markdown",
      "metadata": {
        "id": "vO74KTUjjz4_",
        "colab_type": "text"
      },
      "source": [
        "**Format Code List**\n",
        "\n",
        "The table below shows all the format codes that you can use.\n",
        "\n",
        "![alt text](https://drive.google.com/uc?export=view&id=1NGi7IsY9PMdxLLOJ0N04OwKHbg2EgQfq)"
      ]
    },
    {
      "cell_type": "markdown",
      "metadata": {
        "id": "T_132ZhNkeMV",
        "colab_type": "text"
      },
      "source": [
        "**ValueError in strptime()**\n",
        "\n",
        "If the string (first argument) and the format code (second argument) passed to the strptime() doesn't match, you will get ValueError. For example:"
      ]
    },
    {
      "cell_type": "code",
      "metadata": {
        "id": "oMsHT6WUjgHN",
        "colab_type": "code",
        "colab": {
          "base_uri": "https://localhost:8080/",
          "height": 374
        },
        "outputId": "a0c1c2c8-29ee-40f1-df6b-5e885d5e7c8a"
      },
      "source": [
        "from datetime import datetime\n",
        "\n",
        "date_string = \"12/11/2018\"\n",
        "date_object = datetime.strptime(date_string, \"%d %m %Y\")\n",
        "\n",
        "print(\"date_object =\", date_object)"
      ],
      "execution_count": 2,
      "outputs": [
        {
          "output_type": "error",
          "ename": "ValueError",
          "evalue": "ignored",
          "traceback": [
            "\u001b[0;31m---------------------------------------------------------------------------\u001b[0m",
            "\u001b[0;31mValueError\u001b[0m                                Traceback (most recent call last)",
            "\u001b[0;32m<ipython-input-2-37e61183768c>\u001b[0m in \u001b[0;36m<module>\u001b[0;34m()\u001b[0m\n\u001b[1;32m      2\u001b[0m \u001b[0;34m\u001b[0m\u001b[0m\n\u001b[1;32m      3\u001b[0m \u001b[0mdate_string\u001b[0m \u001b[0;34m=\u001b[0m \u001b[0;34m\"12/11/2018\"\u001b[0m\u001b[0;34m\u001b[0m\u001b[0;34m\u001b[0m\u001b[0m\n\u001b[0;32m----> 4\u001b[0;31m \u001b[0mdate_object\u001b[0m \u001b[0;34m=\u001b[0m \u001b[0mdatetime\u001b[0m\u001b[0;34m.\u001b[0m\u001b[0mstrptime\u001b[0m\u001b[0;34m(\u001b[0m\u001b[0mdate_string\u001b[0m\u001b[0;34m,\u001b[0m \u001b[0;34m\"%d %m %Y\"\u001b[0m\u001b[0;34m)\u001b[0m\u001b[0;34m\u001b[0m\u001b[0;34m\u001b[0m\u001b[0m\n\u001b[0m\u001b[1;32m      5\u001b[0m \u001b[0;34m\u001b[0m\u001b[0m\n\u001b[1;32m      6\u001b[0m \u001b[0mprint\u001b[0m\u001b[0;34m(\u001b[0m\u001b[0;34m\"date_object =\"\u001b[0m\u001b[0;34m,\u001b[0m \u001b[0mdate_object\u001b[0m\u001b[0;34m)\u001b[0m\u001b[0;34m\u001b[0m\u001b[0;34m\u001b[0m\u001b[0m\n",
            "\u001b[0;32m/usr/lib/python3.6/_strptime.py\u001b[0m in \u001b[0;36m_strptime_datetime\u001b[0;34m(cls, data_string, format)\u001b[0m\n\u001b[1;32m    563\u001b[0m     \"\"\"Return a class cls instance based on the input string and the\n\u001b[1;32m    564\u001b[0m     format string.\"\"\"\n\u001b[0;32m--> 565\u001b[0;31m     \u001b[0mtt\u001b[0m\u001b[0;34m,\u001b[0m \u001b[0mfraction\u001b[0m \u001b[0;34m=\u001b[0m \u001b[0m_strptime\u001b[0m\u001b[0;34m(\u001b[0m\u001b[0mdata_string\u001b[0m\u001b[0;34m,\u001b[0m \u001b[0mformat\u001b[0m\u001b[0;34m)\u001b[0m\u001b[0;34m\u001b[0m\u001b[0;34m\u001b[0m\u001b[0m\n\u001b[0m\u001b[1;32m    566\u001b[0m     \u001b[0mtzname\u001b[0m\u001b[0;34m,\u001b[0m \u001b[0mgmtoff\u001b[0m \u001b[0;34m=\u001b[0m \u001b[0mtt\u001b[0m\u001b[0;34m[\u001b[0m\u001b[0;34m-\u001b[0m\u001b[0;36m2\u001b[0m\u001b[0;34m:\u001b[0m\u001b[0;34m]\u001b[0m\u001b[0;34m\u001b[0m\u001b[0;34m\u001b[0m\u001b[0m\n\u001b[1;32m    567\u001b[0m     \u001b[0margs\u001b[0m \u001b[0;34m=\u001b[0m \u001b[0mtt\u001b[0m\u001b[0;34m[\u001b[0m\u001b[0;34m:\u001b[0m\u001b[0;36m6\u001b[0m\u001b[0;34m]\u001b[0m \u001b[0;34m+\u001b[0m \u001b[0;34m(\u001b[0m\u001b[0mfraction\u001b[0m\u001b[0;34m,\u001b[0m\u001b[0;34m)\u001b[0m\u001b[0;34m\u001b[0m\u001b[0;34m\u001b[0m\u001b[0m\n",
            "\u001b[0;32m/usr/lib/python3.6/_strptime.py\u001b[0m in \u001b[0;36m_strptime\u001b[0;34m(data_string, format)\u001b[0m\n\u001b[1;32m    360\u001b[0m     \u001b[0;32mif\u001b[0m \u001b[0;32mnot\u001b[0m \u001b[0mfound\u001b[0m\u001b[0;34m:\u001b[0m\u001b[0;34m\u001b[0m\u001b[0;34m\u001b[0m\u001b[0m\n\u001b[1;32m    361\u001b[0m         raise ValueError(\"time data %r does not match format %r\" %\n\u001b[0;32m--> 362\u001b[0;31m                          (data_string, format))\n\u001b[0m\u001b[1;32m    363\u001b[0m     \u001b[0;32mif\u001b[0m \u001b[0mlen\u001b[0m\u001b[0;34m(\u001b[0m\u001b[0mdata_string\u001b[0m\u001b[0;34m)\u001b[0m \u001b[0;34m!=\u001b[0m \u001b[0mfound\u001b[0m\u001b[0;34m.\u001b[0m\u001b[0mend\u001b[0m\u001b[0;34m(\u001b[0m\u001b[0;34m)\u001b[0m\u001b[0;34m:\u001b[0m\u001b[0;34m\u001b[0m\u001b[0;34m\u001b[0m\u001b[0m\n\u001b[1;32m    364\u001b[0m         raise ValueError(\"unconverted data remains: %s\" %\n",
            "\u001b[0;31mValueError\u001b[0m: time data '12/11/2018' does not match format '%d %m %Y'"
          ]
        }
      ]
    },
    {
      "cell_type": "code",
      "metadata": {
        "id": "tX3yXUA-kkNj",
        "colab_type": "code",
        "colab": {}
      },
      "source": [
        ""
      ],
      "execution_count": 0,
      "outputs": []
    }
  ]
}