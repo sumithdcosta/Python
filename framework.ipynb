{
  "nbformat": 4,
  "nbformat_minor": 0,
  "metadata": {
    "colab": {
      "name": "run.ipynb",
      "provenance": [],
      "collapsed_sections": [],
      "authorship_tag": "ABX9TyOBcnffF2KDupbP45uuIoL0",
      "include_colab_link": true
    },
    "kernelspec": {
      "name": "python3",
      "display_name": "Python 3"
    },
    "language_info": {
      "name": "python"
    }
  },
  "cells": [
    {
      "cell_type": "markdown",
      "metadata": {
        "id": "view-in-github",
        "colab_type": "text"
      },
      "source": [
        "<a href=\"https://colab.research.google.com/github/sumithdcosta/Python/blob/master/framework.ipynb\" target=\"_parent\"><img src=\"https://colab.research.google.com/assets/colab-badge.svg\" alt=\"Open In Colab\"/></a>"
      ]
    },
    {
      "cell_type": "code",
      "metadata": {
        "id": "emhy2nvZPq48"
      },
      "source": [
        "!mkdir /framework\n",
        "!mkdir /framework/dev\n",
        "!mkdir /framework/dev/project\n",
        "!mkdir /framework/dev/project/conf/\n",
        "!mkdir /framework/dev/project/bin/\n",
        "!mkdir /framework/dev/project/models/\n",
        "!mkdir /framework/dev/project/lib/\n",
        "!mkdir /framework/dev/project/lib/utils\n",
        "!mkdir /framework/dev/project/lib/db\n",
        "!touch /framework/dev/project/bin/sourceFileCopy.py\n",
        "!chmod 775 /framework/dev/project/bin/sourceFileCopy.py"
      ],
      "execution_count": 1,
      "outputs": []
    },
    {
      "cell_type": "code",
      "metadata": {
        "colab": {
          "base_uri": "https://localhost:8080/"
        },
        "id": "28BLcsh36-GU",
        "outputId": "9f1f69c3-b426-4b5e-e2e6-a33745632c02"
      },
      "source": [
        "%%writefile /framework/dev/frameWork.ksh\n",
        "if [[ $1 = *[dD][eE][vV]* ]]; then\n",
        "  export PATH = '/framework/dev/'\n",
        "fi \n",
        "\n",
        "if [[ $1 = *[dD][eE][vV]* ]]; then\n",
        "  export PATH = '/framework/qa/'\n",
        "fi "
      ],
      "execution_count": 2,
      "outputs": [
        {
          "output_type": "stream",
          "text": [
            "Writing /framework/dev/frameWork.ksh\n"
          ],
          "name": "stdout"
        }
      ]
    },
    {
      "cell_type": "code",
      "metadata": {
        "colab": {
          "base_uri": "https://localhost:8080/"
        },
        "id": "WakrFKIC5Wr2",
        "outputId": "9dda54f4-5921-4e61-c872-1536cf361c06"
      },
      "source": [
        "%%writefile /framework/dev/project/conf/project.ksh\n",
        "if [[ $1 = *[dD][eE][vV]* ]]; then\n",
        "  export PATH = '/framework/dev/project'\n",
        "fi \n",
        "\n",
        "if [[ $1 = *[dD][eE][vV]* ]]; then\n",
        "  export PATH = '/framework/qa/project'\n",
        "fi \n"
      ],
      "execution_count": 3,
      "outputs": [
        {
          "output_type": "stream",
          "text": [
            "Writing /framework/dev/project/conf/project.ksh\n"
          ],
          "name": "stdout"
        }
      ]
    },
    {
      "cell_type": "code",
      "metadata": {
        "colab": {
          "base_uri": "https://localhost:8080/"
        },
        "id": "nCiDBnamSxng",
        "outputId": "925ff26b-94a1-48f7-f9fa-d50bb8b40c07"
      },
      "source": [
        "%%writefile /framework/dev/project/bin/genExecute.ksh\n",
        "#!/bin/ksh\n",
        "\n",
        "#check for Environment and running profiles\n",
        "dirName=`dirname $0`\n",
        "\n",
        "if [[ $dirName = *[dD][eE][vV]* ]]\n",
        "  then\n",
        "  export environment=\"DEV\"\n",
        "  echo $environment\n",
        "elif [[ $dirName = *[qQ][aQ]* ]]\n",
        "  then\n",
        "  export environment=\"QA\"\n",
        "  echo $environment\n",
        "else\n",
        "  export environment=\"UNKNOWN\"\n",
        "  echo $environment\n",
        "  exit 6\n",
        "fi \n",
        "\n",
        "CONFPATH=`echo $dirName|sed -e 's/bin/conf/g'`\n",
        "if [ ! -f \"${CONFPATH}/project.ksh\" ];then\n",
        "  echo \"${CONFPATH}/project.ksh is missing\"\n",
        "  exit 7\n",
        "fi\n",
        "echo \"sourcing ${CONFPATH}/project.ksh\"\n",
        ". ${CONFPATH}/project.ksh $environment 2>/dev/null 1>/dev/null\n",
        "\n",
        "CONFPATH=`echo $dirName|sed -e 's/project\\/bin//g'`\n",
        "if [ ! -f \"${CONFPATH}/frameWork.ksh\" ];then\n",
        "  echo \"${CONFPATH}/frameWork.ksh is missing\"\n",
        "  exit 7\n",
        "fi\n",
        "echo \"sourcing ${CONFPATH}/frameWork.ksh\"\n",
        ". ${CONFPATH}/frameWork.ksh $environment 2>/dev/null 1>/dev/null\n",
        "\n",
        "echo $(dirname $0)/$*\n",
        "$(dirname $0)/$*\n"
      ],
      "execution_count": 6,
      "outputs": [
        {
          "output_type": "stream",
          "text": [
            "Overwriting /framework/dev/project/bin/genExecute.ksh\n"
          ],
          "name": "stdout"
        }
      ]
    },
    {
      "cell_type": "code",
      "metadata": {
        "colab": {
          "base_uri": "https://localhost:8080/"
        },
        "id": "dvlwkXtZqkLx",
        "outputId": "84a23de0-1ef0-41bc-eb88-e2d224d06cd9"
      },
      "source": [
        "%%writefile /framework/dev/project/bin/sourceFileCopy.py\n",
        "#!/usr/local/bin/python\n",
        "#generic script to caopy the source data\n",
        "#Name           : sourceFileCopy.py\n",
        "#Descritpion    : script copies/move file from source directory\n",
        "#\n",
        "#/../../sourceFileCopy.ksh -cfg sourceFileCopyConfig.json\n",
        "#History\n",
        "#Version      | Date        | Editor      |Comment\n",
        "#-------------------------------------------------------------------------\n",
        "#1            | 28/07/2021  | Sumith      | initial version\n",
        "#\n",
        "import os\n",
        "import sys\n",
        "import argparse\n",
        "import logging\n",
        "import signal\n",
        "import threading\n",
        "import time\n",
        "from os import path\n",
        "import json"
      ],
      "execution_count": 29,
      "outputs": [
        {
          "output_type": "stream",
          "text": [
            "Overwriting /framework/dev/project/bin/sourceFileCopy.py\n"
          ],
          "name": "stdout"
        }
      ]
    },
    {
      "cell_type": "code",
      "metadata": {
        "colab": {
          "base_uri": "https://localhost:8080/"
        },
        "id": "NOzH-Xu9UTzl",
        "outputId": "39841bf8-6d8d-4af9-9d23-1331cb468f22"
      },
      "source": [
        "!/bin/bash /framework/dev/project/bin/genExecute.ksh sourceFileCopy.py"
      ],
      "execution_count": 31,
      "outputs": [
        {
          "output_type": "stream",
          "text": [
            "DEV\n",
            "sourcing /framework/dev/project/conf/project.ksh\n",
            "sourcing /framework/dev//frameWork.ksh\n",
            "/framework/dev/project/bin/sourceFileCopy.py\n"
          ],
          "name": "stdout"
        }
      ]
    },
    {
      "cell_type": "code",
      "metadata": {
        "id": "6VSV4wlztDvI"
      },
      "source": [
        ""
      ],
      "execution_count": null,
      "outputs": []
    }
  ]
}