{
  "nbformat": 4,
  "nbformat_minor": 0,
  "metadata": {
    "colab": {
      "name": "python_blockchain_training_15.ipynb",
      "provenance": [],
      "authorship_tag": "ABX9TyOpyP8NwRvBtd3m7Y6cDGLh",
      "include_colab_link": true
    },
    "kernelspec": {
      "name": "python3",
      "display_name": "Python 3"
    }
  },
  "cells": [
    {
      "cell_type": "markdown",
      "metadata": {
        "id": "view-in-github",
        "colab_type": "text"
      },
      "source": [
        "<a href=\"https://colab.research.google.com/github/sumithdcosta/Python/blob/master/BlockChain/python_blockchain_training_15.ipynb\" target=\"_parent\"><img src=\"https://colab.research.google.com/assets/colab-badge.svg\" alt=\"Open In Colab\"/></a>"
      ]
    },
    {
      "cell_type": "code",
      "metadata": {
        "id": "BhNcMBdq0JzL",
        "colab_type": "code",
        "outputId": "a28e9d87-0c2b-4bb3-d53c-9a9670bdcc0d",
        "colab": {
          "base_uri": "https://localhost:8080/",
          "height": 34
        }
      },
      "source": [
        "!mkdir utility "
      ],
      "execution_count": 28,
      "outputs": [
        {
          "output_type": "stream",
          "text": [
            "mkdir: cannot create directory ‘utility’: File exists\n"
          ],
          "name": "stdout"
        }
      ]
    },
    {
      "cell_type": "code",
      "metadata": {
        "id": "gD8QNDf__O1p",
        "colab_type": "code",
        "colab": {
          "base_uri": "https://localhost:8080/",
          "height": 207
        },
        "outputId": "4ef7bbb4-906f-43f9-fc67-77741ff7d5b1"
      },
      "source": [
        "pip install  pycrypto"
      ],
      "execution_count": 29,
      "outputs": [
        {
          "output_type": "stream",
          "text": [
            "Collecting pycrypto\n",
            "\u001b[?25l  Downloading https://files.pythonhosted.org/packages/60/db/645aa9af249f059cc3a368b118de33889219e0362141e75d4eaf6f80f163/pycrypto-2.6.1.tar.gz (446kB)\n",
            "\r\u001b[K     |▊                               | 10kB 27.0MB/s eta 0:00:01\r\u001b[K     |█▌                              | 20kB 3.1MB/s eta 0:00:01\r\u001b[K     |██▏                             | 30kB 4.4MB/s eta 0:00:01\r\u001b[K     |███                             | 40kB 2.9MB/s eta 0:00:01\r\u001b[K     |███▊                            | 51kB 3.6MB/s eta 0:00:01\r\u001b[K     |████▍                           | 61kB 4.3MB/s eta 0:00:01\r\u001b[K     |█████▏                          | 71kB 5.0MB/s eta 0:00:01\r\u001b[K     |█████▉                          | 81kB 5.6MB/s eta 0:00:01\r\u001b[K     |██████▋                         | 92kB 6.3MB/s eta 0:00:01\r\u001b[K     |███████▍                        | 102kB 4.8MB/s eta 0:00:01\r\u001b[K     |████████                        | 112kB 4.8MB/s eta 0:00:01\r\u001b[K     |████████▉                       | 122kB 4.8MB/s eta 0:00:01\r\u001b[K     |█████████▌                      | 133kB 4.8MB/s eta 0:00:01\r\u001b[K     |██████████▎                     | 143kB 4.8MB/s eta 0:00:01\r\u001b[K     |███████████                     | 153kB 4.8MB/s eta 0:00:01\r\u001b[K     |███████████▊                    | 163kB 4.8MB/s eta 0:00:01\r\u001b[K     |████████████▌                   | 174kB 4.8MB/s eta 0:00:01\r\u001b[K     |█████████████▏                  | 184kB 4.8MB/s eta 0:00:01\r\u001b[K     |██████████████                  | 194kB 4.8MB/s eta 0:00:01\r\u001b[K     |██████████████▊                 | 204kB 4.8MB/s eta 0:00:01\r\u001b[K     |███████████████▍                | 215kB 4.8MB/s eta 0:00:01\r\u001b[K     |████████████████▏               | 225kB 4.8MB/s eta 0:00:01\r\u001b[K     |█████████████████               | 235kB 4.8MB/s eta 0:00:01\r\u001b[K     |█████████████████▋              | 245kB 4.8MB/s eta 0:00:01\r\u001b[K     |██████████████████▍             | 256kB 4.8MB/s eta 0:00:01\r\u001b[K     |███████████████████             | 266kB 4.8MB/s eta 0:00:01\r\u001b[K     |███████████████████▉            | 276kB 4.8MB/s eta 0:00:01\r\u001b[K     |████████████████████▋           | 286kB 4.8MB/s eta 0:00:01\r\u001b[K     |█████████████████████▎          | 296kB 4.8MB/s eta 0:00:01\r\u001b[K     |██████████████████████          | 307kB 4.8MB/s eta 0:00:01\r\u001b[K     |██████████████████████▊         | 317kB 4.8MB/s eta 0:00:01\r\u001b[K     |███████████████████████▌        | 327kB 4.8MB/s eta 0:00:01\r\u001b[K     |████████████████████████▎       | 337kB 4.8MB/s eta 0:00:01\r\u001b[K     |█████████████████████████       | 348kB 4.8MB/s eta 0:00:01\r\u001b[K     |█████████████████████████▊      | 358kB 4.8MB/s eta 0:00:01\r\u001b[K     |██████████████████████████▍     | 368kB 4.8MB/s eta 0:00:01\r\u001b[K     |███████████████████████████▏    | 378kB 4.8MB/s eta 0:00:01\r\u001b[K     |████████████████████████████    | 389kB 4.8MB/s eta 0:00:01\r\u001b[K     |████████████████████████████▋   | 399kB 4.8MB/s eta 0:00:01\r\u001b[K     |█████████████████████████████▍  | 409kB 4.8MB/s eta 0:00:01\r\u001b[K     |██████████████████████████████  | 419kB 4.8MB/s eta 0:00:01\r\u001b[K     |██████████████████████████████▉ | 430kB 4.8MB/s eta 0:00:01\r\u001b[K     |███████████████████████████████▋| 440kB 4.8MB/s eta 0:00:01\r\u001b[K     |████████████████████████████████| 450kB 4.8MB/s \n",
            "\u001b[?25hBuilding wheels for collected packages: pycrypto\n",
            "  Building wheel for pycrypto (setup.py) ... \u001b[?25l\u001b[?25hdone\n",
            "  Created wheel for pycrypto: filename=pycrypto-2.6.1-cp36-cp36m-linux_x86_64.whl size=499958 sha256=627ff363eab9ed6d0ddb5ac0d0c40003acd6ddce39d99a7aeb85f40abc0df2de\n",
            "  Stored in directory: /root/.cache/pip/wheels/27/02/5e/77a69d0c16bb63c6ed32f5386f33a2809c94bd5414a2f6c196\n",
            "Successfully built pycrypto\n",
            "Installing collected packages: pycrypto\n",
            "Successfully installed pycrypto-2.6.1\n"
          ],
          "name": "stdout"
        }
      ]
    },
    {
      "cell_type": "code",
      "metadata": {
        "id": "ke-4iMDv1ggP",
        "colab_type": "code",
        "outputId": "f4233f20-4f36-46f5-f816-35da5cf6f902",
        "colab": {
          "base_uri": "https://localhost:8080/",
          "height": 34
        }
      },
      "source": [
        "%%writefile utility/__init__.py\n",
        "'''package'''\n",
        "from utility.hash_util import hash_string_256\n",
        "\n",
        "__all__ = ['hash_string_256']"
      ],
      "execution_count": 33,
      "outputs": [
        {
          "output_type": "stream",
          "text": [
            "Overwriting utility/__init__.py\n"
          ],
          "name": "stdout"
        }
      ]
    },
    {
      "cell_type": "code",
      "metadata": {
        "id": "n0NnQnma4beJ",
        "colab_type": "code",
        "outputId": "c7026f45-e04c-4276-90ea-88dd493e225c",
        "colab": {
          "base_uri": "https://localhost:8080/",
          "height": 34
        }
      },
      "source": [
        "%%writefile utility/hash_util.py\n",
        "import hashlib as hl\n",
        "import json\n",
        "\n",
        "#__all__ = ['hash_string_256','hash_block']\n",
        "\n",
        "def hash_string_256(string):\n",
        "  return hl.sha256(string).hexdigest()\n",
        "\n",
        "def hash_block(block):\n",
        "  #print(block)\n",
        "  hashable_block = block.__dict__.copy()\n",
        "  hashable_block['transactions'] = [tx.to_ordered_dict() for tx in hashable_block['transactions']]\n",
        "  return hash_string_256(json.dumps(hashable_block, sort_keys=True).encode())\n"
      ],
      "execution_count": 34,
      "outputs": [
        {
          "output_type": "stream",
          "text": [
            "Overwriting utility/hash_util.py\n"
          ],
          "name": "stdout"
        }
      ]
    },
    {
      "cell_type": "code",
      "metadata": {
        "id": "nbIFnbZT1uey",
        "colab_type": "code",
        "outputId": "e8b8ff9f-e39d-4968-e0aa-4003c8b56157",
        "colab": {
          "base_uri": "https://localhost:8080/",
          "height": 34
        }
      },
      "source": [
        "%%writefile utility/verification.py\n",
        "\"\"\" Provides verification helper methods.\"\"\"\n",
        "\n",
        "from utility.hash_util import hash_string_256, hash_block\n",
        "\n",
        "class Verification:\n",
        "  \"\"\"A helper class which offer various static and class-based veriffication\"\"\"\n",
        "  @staticmethod\n",
        "  def valid_proof(transactions, last_hash, proof):\n",
        "    guess = (str([tx.to_ordered_dict() for tx in transactions]) + str(last_hash) + str(proof)).encode()\n",
        "    guess_hash = hash_string_256(guess)\n",
        "    #print(guess_hash)\n",
        "    return guess_hash[0:2] == '00'\n",
        "\n",
        "  @classmethod\n",
        "  def verify_chain(cls, blockchain):\n",
        "    \"\"\"verify current blockchain\"\"\"\n",
        "    for (index, block) in enumerate(blockchain):\n",
        "      if index == 0:\n",
        "        continue\n",
        "      if block.previous_hash != hash_block(blockchain[index -1]):\n",
        "        return False\n",
        "      if not cls.valid_proof(block.transactions[:-1], block.previous_hash, block.proof):\n",
        "        print('Prood of work invalid')\n",
        "        return False\n",
        "    return True\n",
        "\n",
        "  @staticmethod\n",
        "  def verify_transaction(transaction, get_balance):\n",
        "    sender_balance = get_balance()\n",
        "    return sender_balance >= transaction.amount\n",
        "\n",
        "  @classmethod\n",
        "  def verify_transactions(cls, open_transactions, get_balance):\n",
        "    return all([cls.verify_transaction(tx, get_balance) for tx in open_transactions])\n"
      ],
      "execution_count": 35,
      "outputs": [
        {
          "output_type": "stream",
          "text": [
            "Overwriting utility/verification.py\n"
          ],
          "name": "stdout"
        }
      ]
    },
    {
      "cell_type": "code",
      "metadata": {
        "id": "JMBLDpEoy8x9",
        "colab_type": "code",
        "outputId": "bae6d4d5-3be7-4ccc-dd8c-047c9cf60e55",
        "colab": {
          "base_uri": "https://localhost:8080/",
          "height": 34
        }
      },
      "source": [
        "%%writefile utility/printable.py\n",
        "class Printable:\n",
        "  def __repr__(self):\n",
        "    return str(self.__dict__)\n"
      ],
      "execution_count": 36,
      "outputs": [
        {
          "output_type": "stream",
          "text": [
            "Overwriting utility/printable.py\n"
          ],
          "name": "stdout"
        }
      ]
    },
    {
      "cell_type": "code",
      "metadata": {
        "id": "9HzYf_5kBCsY",
        "colab_type": "code",
        "colab": {
          "base_uri": "https://localhost:8080/",
          "height": 34
        },
        "outputId": "0edf3f90-4124-4667-c747-91762306851d"
      },
      "source": [
        "%%writefile wallet.py\n",
        "from Crypto.PublicKey import RSA\n",
        "import Crypto.Random\n",
        "import binascii \n",
        "\n",
        "class Wallet:\n",
        "  def __init__(self):\n",
        "    self.private_key = None\n",
        "    self.public_key = None\n",
        "\n",
        "  def create_keys(self):\n",
        "    private_key, public_key = self.generate_keys()\n",
        "    self.private_key = private_key\n",
        "    self.public_key = public_key \n",
        "\n",
        "  def load_keys(self):\n",
        "      pass\n",
        "\n",
        "  def generate_keys(self):\n",
        "    private_key = RSA.generate(1024,Crypto.Random.new().read)\n",
        "    public_key = private_key.publickey()\n",
        "    return (binascii.hexlify(private_key.exportKey(format='DER')).decode('ascii'),\n",
        "            binascii.hexlify(public_key.exportKey(format='DER')).decode('ascii'))"
      ],
      "execution_count": 48,
      "outputs": [
        {
          "output_type": "stream",
          "text": [
            "Overwriting wallet.py\n"
          ],
          "name": "stdout"
        }
      ]
    },
    {
      "cell_type": "code",
      "metadata": {
        "id": "9Z6M6aD_LGh0",
        "colab_type": "code",
        "outputId": "1fb25af7-5ae9-403b-c865-192c44e55ffd",
        "colab": {
          "base_uri": "https://localhost:8080/",
          "height": 34
        }
      },
      "source": [
        "%%writefile node.py\n",
        "from uuid import uuid4\n",
        "from blockchain import Blockchain\n",
        "from utility.verification import Verification\n",
        "from wallet import Wallet\n",
        "\n",
        "\n",
        "class Node:\n",
        "  def __init__(self):\n",
        "    self.wallet = Wallet()\n",
        "    #self.id = str(uuid4())\n",
        "    self.blockchain = Blockchain(self.wallet.public_key)\n",
        "    \n",
        "\n",
        "  #using function for reusable code.\n",
        "  def get_transaction_value(self):\n",
        "    \"\"\" Retruns the input of the user(a new transaction amount) as a float\n",
        "    \"\"\"\n",
        "    tx_recipient = input('Enter the recipent of the transaction: ') \n",
        "    tx_amount = float(input('Your trasaction amount please: ')) \n",
        "    return (tx_recipient, tx_amount)\n",
        "  \n",
        "  def get_user_choice(self):\n",
        "    user_input = input('Your Choice : ')\n",
        "    return user_input\n",
        "\n",
        "  def print_blockchain_elements(self):\n",
        "    #use for loop to output the blockchain list console\n",
        "    for block in self.blockchain.chain:\n",
        "      print('outputting block : ', block)\n",
        "    else:\n",
        "      print('-' * 20)\n",
        "\n",
        "  def listen_for_input(self):\n",
        "    waiting_for_input = True\n",
        "    while waiting_for_input:\n",
        "      print('Please choose')\n",
        "      print('1: Add a new transaction value')\n",
        "      print('2: Mine a new block')\n",
        "      print('3: Output the blockchain blocks')\n",
        "      print('4: check transaction validity')\n",
        "      print('5: Create wallet')\n",
        "      print('6: load wallet')\n",
        "      print('q : Quit ')\n",
        "      user_choice = self.get_user_choice()\n",
        "      if user_choice == '1':\n",
        "        tx_data = self.get_transaction_value()\n",
        "        recipient, amount = tx_data\n",
        "        if self.blockchain.add_transaction(recipient, self.wallet.public_key, amount=amount):\n",
        "          print('Added transaction')\n",
        "        else:\n",
        "          print('Tranaction failed')\n",
        "        print(self.blockchain.get_open_transactions())\n",
        "      elif user_choice == '2':\n",
        "        self.blockchain.mine_block()\n",
        "      elif user_choice == '3':\n",
        "          self.print_blockchain_elements()\n",
        "      elif user_choice == '4':\n",
        "        if Verification.verify_transactions(self.blockchain.get_open_transactions(), self.blockchain.get_balance):\n",
        "          print(\"All Transactions are valid\")\n",
        "        else:\n",
        "          print('There are invalid transaction')\n",
        "      elif user_choice == '5':\n",
        "        self.wallet.create_keys()\n",
        "      elif user_choice == '6':\n",
        "        pass\n",
        "      elif user_choice == 'q':\n",
        "        waiting_for_input = False\n",
        "      else:\n",
        "        print('Input was invalid, please pick a value from the list!')    \n",
        "      if not Verification.verify_chain(self.blockchain.chain):\n",
        "        self.print_blockchain_elements()\n",
        "        print('Invalid block chain!')\n",
        "        break\n",
        "      print('Balance of {} : {:6.2f}'.format(self.wallet.public_key, self.blockchain.get_balance()))  \n",
        "      print('Choice registered !')\n",
        "    else:\n",
        "      print('User left')\n",
        "    print('Done!') \n",
        "\n",
        "if __name__ == '__main__':\n",
        "  node = Node()\n",
        "  node.listen_for_input() \n",
        "\n",
        "#print(__name__)\n"
      ],
      "execution_count": 49,
      "outputs": [
        {
          "output_type": "stream",
          "text": [
            "Overwriting node.py\n"
          ],
          "name": "stdout"
        }
      ]
    },
    {
      "cell_type": "code",
      "metadata": {
        "id": "ToZzL_dTTWPi",
        "colab_type": "code",
        "outputId": "7861f9fb-50c7-409b-be4a-c064317491e3",
        "colab": {
          "base_uri": "https://localhost:8080/",
          "height": 34
        }
      },
      "source": [
        "%%writefile block.py\n",
        "from time import time\n",
        "from utility.printable import Printable\n",
        "\n",
        "class Block(Printable):\n",
        "  def __init__(self, index, previous_hash, transactions, proof, time=time()):\n",
        "    self.index = index\n",
        "    self.previous_hash = previous_hash\n",
        "    self.transactions = transactions\n",
        "    self.proof = proof\n",
        "    self.time = time\n"
      ],
      "execution_count": 50,
      "outputs": [
        {
          "output_type": "stream",
          "text": [
            "Overwriting block.py\n"
          ],
          "name": "stdout"
        }
      ]
    },
    {
      "cell_type": "code",
      "metadata": {
        "id": "6bN5Bs-M_xVL",
        "colab_type": "code",
        "outputId": "4074811d-a1a1-4304-9b15-56c82b62f03d",
        "colab": {
          "base_uri": "https://localhost:8080/",
          "height": 34
        }
      },
      "source": [
        "%%writefile transaction.py\n",
        "from collections import OrderedDict\n",
        "from utility.printable import Printable\n",
        "\n",
        "class Transaction(Printable):\n",
        "  def __init__(self, sender, recipient, amount):\n",
        "    self.sender = sender\n",
        "    self.recipient = recipient\n",
        "    self.amount = amount\n",
        "\n",
        "\n",
        "\n",
        "  def to_ordered_dict(self):\n",
        "      return OrderedDict([('sender', self.sender),\n",
        "                          ('recipient', self.recipient),\n",
        "                          ('amount', self.amount)])"
      ],
      "execution_count": 51,
      "outputs": [
        {
          "output_type": "stream",
          "text": [
            "Overwriting transaction.py\n"
          ],
          "name": "stdout"
        }
      ]
    },
    {
      "cell_type": "code",
      "metadata": {
        "id": "BPGxXDSQ4tuO",
        "colab_type": "code",
        "outputId": "ff9ba771-747a-4105-d857-fb977b92ec47",
        "colab": {
          "base_uri": "https://localhost:8080/",
          "height": 34
        }
      },
      "source": [
        "%%writefile blockchain.py\n",
        "# try except block : \n",
        "#####################################################\n",
        "import functools\n",
        "import hashlib as hl\n",
        "import json\n",
        "from collections import OrderedDict\n",
        "import sys\n",
        "\n",
        "from utility.hash_util import  hash_block\n",
        "from block import Block\n",
        "from transaction import Transaction\n",
        "from time import time\n",
        "from utility.verification import Verification\n",
        "\n",
        "#global variable\n",
        "MINING_REWARD = 10\n",
        "\n",
        "#print(__name__)\n",
        "\n",
        "class Blockchain:\n",
        "  def __init__(self, hosting_node_id):\n",
        "    genesis_block = Block(index = 0,\n",
        "                        previous_hash= '',\n",
        "                        transactions = [],\n",
        "                        proof = 100,\n",
        "                        time = 0)\n",
        "\n",
        "    self.chain = [genesis_block]\n",
        "    self._open_transactions = []\n",
        "    self.hosting_node = hosting_node_id\n",
        "    owner = 'Sumith'\n",
        "    participants = {owner}\n",
        "    self.load_data()\n",
        "\n",
        "  @property\n",
        "  def chain(self):\n",
        "      return self._chain[:]\n",
        "  \n",
        "  @chain.setter\n",
        "  def chain(self, val):\n",
        "    self._chain = val\n",
        "\n",
        "  def get_open_transactions(self):\n",
        "    return self._open_transactions[:]\n",
        "\n",
        "  def load_data(self):\n",
        "    try:\n",
        "      with open('blockchain.txt', mode='r') as f:\n",
        "        file_content = f.readlines()\n",
        "\n",
        "        blockchain = json.loads(file_content[0][:-1])\n",
        "        updated_blockchain=[]\n",
        "        for block in blockchain:\n",
        "          converted_tx = [Transaction(tx['sender'],\n",
        "                                      tx['recipient'],\n",
        "                                      tx['amount']) for tx in block['transactions']]\n",
        "          updated_block = Block(block['index'],\n",
        "                                block['previous_hash'],\n",
        "                                converted_tx,\n",
        "                                block['proof'],\n",
        "                                block['time'])\n",
        "          updated_blockchain.append(updated_block)\n",
        "        self.chain = updated_blockchain\n",
        "      \n",
        "        open_transactions = json.loads(file_content[1])\n",
        "        updated_transactions = []\n",
        "        for tx in open_transactions:\n",
        "          updated_transaction = Transaction(tx['sender'],\n",
        "                                             tx['recipient'],\n",
        "                                             tx['amount'])\n",
        "          updated_transactions.append(updated_transaction) \n",
        "        self._open_transactions = updated_transactions\n",
        "    except (IOError, IndexError):                    \n",
        "      pass\n",
        "    except ValueError:\n",
        "      print('Value error!')\n",
        "    except Exception as exc:\n",
        "      print(\"Oops!\",exc)\n",
        "      print(\"Oops!\",sys.exc_info()[0],\"occured.\")\n",
        "      sys.exit(1)\n",
        "    finally:\n",
        "      print('Cleanup!')\n",
        "\n",
        "  def save_data(self):\n",
        "    try :\n",
        "      with open('blockchain.txt', mode='w') as f:\n",
        "        saveable_chain = [block.__dict__ for block in [Block(\n",
        "            block_el.index,\n",
        "            block_el.previous_hash,\n",
        "            [tx.__dict__ for tx in block_el.transactions],\n",
        "            block_el.proof,\n",
        "            block_el.time\n",
        "            ) for block_el in self._chain]]\n",
        "\n",
        "        f.write(json.dumps(saveable_chain))\n",
        "        f.write('\\n')\n",
        "        saveable_tx = [tx.__dict__ for tx in self._open_transactions]\n",
        "        f.write(json.dumps(saveable_tx))\n",
        "    except IOError:\n",
        "      print('Error saving file!')\n",
        "\n",
        "  def proof_of_work(self):\n",
        "    last_block = self._chain[-1]\n",
        "    last_hash = hash_block(last_block)\n",
        "    proof = 0\n",
        "    while not Verification.valid_proof(self._open_transactions, last_hash, proof):\n",
        "      proof += 1\n",
        "    return proof\n",
        "\n",
        "  def get_balance(self):\n",
        "    participant = self.hosting_node\n",
        "    tx_sender = [[tx.amount for tx in block.transactions if tx.sender == participant] for block in self._chain]\n",
        "    open_tx_sender = [tx.amount for tx in self._open_transactions if tx.sender == participant]\n",
        "    tx_sender.append(open_tx_sender)\n",
        "    amount_sent = functools.reduce(lambda tx_sum, tx_amt: tx_sum + sum(tx_amt) if len(tx_amt) > 0 else tx_sum + 0, tx_sender,0)\n",
        "    tx_recipient = [[tx.amount for tx in block.transactions if tx.recipient == participant] for block in self._chain]\n",
        "    amount_received = functools.reduce(lambda tx_sum, tx_amt: tx_sum + sum(tx_amt) if len(tx_amt) > 0 else tx_sum + 0, tx_recipient,0)\n",
        "    return  amount_received - amount_sent\n",
        "\n",
        "\n",
        "  def get_last_blockchain_value(self):\n",
        "    \"\"\" returns the last value of the current bloackchain \"\"\"\n",
        "    #function to return the value\n",
        "    if len(self._chain) < 1 :\n",
        "      return None\n",
        "    return self._chain[-1]\n",
        "\n",
        "  def add_transaction(self, recipient,sender, amount=1.0):\n",
        "    transaction = Transaction(sender, recipient, amount)\n",
        "    if Verification.verify_transaction(transaction, self.get_balance):\n",
        "      self._open_transactions.append(transaction)\n",
        "      self.save_data()\n",
        "      return True\n",
        "    return False\n",
        "\n",
        "  def mine_block(self):\n",
        "    last_block = self._chain[-1]\n",
        "    hashed_block = hash_block(last_block)\n",
        "    proof = self.proof_of_work() \n",
        "    reward_transaction = Transaction(sender = 'MINING', recipient = self.hosting_node, amount = MINING_REWARD)\n",
        "    copied_transactions = self._open_transactions[:]\n",
        "    copied_transactions.append(reward_transaction)\n",
        "    block = Block(index = len(self._chain),\n",
        "                        previous_hash = hashed_block,\n",
        "                        transactions = copied_transactions,\n",
        "                        proof = proof,\n",
        "                        time = 0)\n",
        "    self._chain.append(block)\n",
        "    self._open_transactions = []\n",
        "    self.save_data()\n",
        "    return True\n",
        "\n",
        "\n"
      ],
      "execution_count": 52,
      "outputs": [
        {
          "output_type": "stream",
          "text": [
            "Overwriting blockchain.py\n"
          ],
          "name": "stdout"
        }
      ]
    },
    {
      "cell_type": "code",
      "metadata": {
        "id": "D7WqmlW_BL94",
        "colab_type": "code",
        "outputId": "99214825-cbde-46d4-f057-ecc950167d25",
        "colab": {
          "base_uri": "https://localhost:8080/",
          "height": 700
        }
      },
      "source": [
        "!python node.py"
      ],
      "execution_count": 53,
      "outputs": [
        {
          "output_type": "stream",
          "text": [
            "Cleanup!\n",
            "Please choose\n",
            "1: Add a new transaction value\n",
            "2: Mine a new block\n",
            "3: Output the blockchain blocks\n",
            "4: check transaction validity\n",
            "5: Create wallet\n",
            "6: load wallet\n",
            "q : Quit \n",
            "Your Choice : 2\n",
            "Balance of None :  10.00\n",
            "Choice registered !\n",
            "Please choose\n",
            "1: Add a new transaction value\n",
            "2: Mine a new block\n",
            "3: Output the blockchain blocks\n",
            "4: check transaction validity\n",
            "5: Create wallet\n",
            "6: load wallet\n",
            "q : Quit \n",
            "Your Choice : 3\n",
            "outputting block :  {'index': 0, 'previous_hash': '', 'transactions': [], 'proof': 100, 'time': 0}\n",
            "outputting block :  {'index': 1, 'previous_hash': 'f43bf96b7d7071552937a9fa0a82076d92554d2d593eaf76d8e77f19bd7cf5b8', 'transactions': [{'sender': 'MINING', 'recipient': None, 'amount': 10}], 'proof': 195, 'time': 0}\n",
            "--------------------\n",
            "Balance of None :  10.00\n",
            "Choice registered !\n",
            "Please choose\n",
            "1: Add a new transaction value\n",
            "2: Mine a new block\n",
            "3: Output the blockchain blocks\n",
            "4: check transaction validity\n",
            "5: Create wallet\n",
            "6: load wallet\n",
            "q : Quit \n",
            "Your Choice : q\n",
            "Balance of None :  10.00\n",
            "Choice registered !\n",
            "User left\n",
            "Done!\n"
          ],
          "name": "stdout"
        }
      ]
    },
    {
      "cell_type": "code",
      "metadata": {
        "id": "rY4hfgF7SZva",
        "colab_type": "code",
        "colab": {}
      },
      "source": [
        ""
      ],
      "execution_count": 0,
      "outputs": []
    },
    {
      "cell_type": "code",
      "metadata": {
        "id": "Q6JGtUWA1VNG",
        "colab_type": "code",
        "outputId": "d0872299-e397-4017-8508-ad6a523c01b4",
        "colab": {
          "base_uri": "https://localhost:8080/",
          "height": 119
        }
      },
      "source": [
        "ls -rlt utility/"
      ],
      "execution_count": 0,
      "outputs": [
        {
          "output_type": "stream",
          "text": [
            "total 20\n",
            "-rw-r--r-- 1 root root   13 Mar 12 17:46 __init__.py\n",
            "-rw-r--r-- 1 root root  359 Mar 12 17:46 hash_util.py\n",
            "-rw-r--r-- 1 root root 1096 Mar 12 17:46 verification.py\n",
            "-rw-r--r-- 1 root root   68 Mar 12 17:46 printable.py\n",
            "drwxr-xr-x 2 root root 4096 Mar 12 17:46 \u001b[0m\u001b[01;34m__pycache__\u001b[0m/\n"
          ],
          "name": "stdout"
        }
      ]
    },
    {
      "cell_type": "code",
      "metadata": {
        "id": "1n80LL1j1VeF",
        "colab_type": "code",
        "outputId": "704ee3d0-4c52-4e93-e9bf-faf106184761",
        "colab": {
          "base_uri": "https://localhost:8080/",
          "height": 170
        }
      },
      "source": [
        "ls -rlt"
      ],
      "execution_count": 0,
      "outputs": [
        {
          "output_type": "stream",
          "text": [
            "total 36\n",
            "drwxr-xr-x 1 root root 4096 Mar  3 18:11 \u001b[0m\u001b[01;34msample_data\u001b[0m/\n",
            "drwxr-xr-x 3 root root 4096 Mar 12 17:43 \u001b[01;34mutility\u001b[0m/\n",
            "-rw-r--r-- 1 root root 2484 Mar 12 17:46 node.py\n",
            "-rw-r--r-- 1 root root  307 Mar 12 17:46 block.py\n",
            "-rw-r--r-- 1 root root  428 Mar 12 17:46 transaction.py\n",
            "-rw-r--r-- 1 root root 5225 Mar 12 17:46 blockchain.py\n",
            "drwxr-xr-x 2 root root 4096 Mar 12 17:46 \u001b[01;34m__pycache__\u001b[0m/\n",
            "-rw-r--r-- 1 root root  541 Mar 12 17:47 blockchain.txt\n"
          ],
          "name": "stdout"
        }
      ]
    },
    {
      "cell_type": "code",
      "metadata": {
        "id": "UkQrFCNQ6mOI",
        "colab_type": "code",
        "colab": {}
      },
      "source": [
        "!rm blockchain.txt"
      ],
      "execution_count": 0,
      "outputs": []
    },
    {
      "cell_type": "code",
      "metadata": {
        "id": "tI3_olS21XGB",
        "colab_type": "code",
        "colab": {}
      },
      "source": [
        ""
      ],
      "execution_count": 0,
      "outputs": []
    },
    {
      "cell_type": "code",
      "metadata": {
        "id": "dChgGuLq5AtP",
        "colab_type": "code",
        "outputId": "bd00c575-6820-4b4a-cefa-268a7c00cfe9",
        "colab": {
          "base_uri": "https://localhost:8080/",
          "height": 71
        }
      },
      "source": [
        "!cat blockchain.txt"
      ],
      "execution_count": 0,
      "outputs": [
        {
          "output_type": "stream",
          "text": [
            "[{\"index\": 0, \"previous_hash\": \"\", \"transactions\": [], \"proof\": 100, \"time\": 0}, {\"index\": 1, \"previous_hash\": \"f43bf96b7d7071552937a9fa0a82076d92554d2d593eaf76d8e77f19bd7cf5b8\", \"transactions\": [{\"sender\": \"MINING\", \"recipient\": \"Sumith\", \"amount\": 10}], \"proof\": 195, \"time\": 0}, {\"index\": 2, \"previous_hash\": \"a2e61e99c6c2d59fd55a172f4e8bda4eb57ed11eb95b15acca0aa2409b78a953\", \"transactions\": [{\"sender\": \"Sumith\", \"recipient\": \"we\", \"amount\": 1.0}, {\"sender\": \"MINING\", \"recipient\": \"Sumith\", \"amount\": 10}], \"proof\": 638, \"time\": 0}]\n",
            "[]"
          ],
          "name": "stdout"
        }
      ]
    },
    {
      "cell_type": "code",
      "metadata": {
        "id": "cGf2iqfw7P5l",
        "colab_type": "code",
        "colab": {}
      },
      "source": [
        "2"
      ],
      "execution_count": 0,
      "outputs": []
    }
  ]
}