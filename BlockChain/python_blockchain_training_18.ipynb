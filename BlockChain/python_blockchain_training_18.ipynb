{
  "nbformat": 4,
  "nbformat_minor": 0,
  "metadata": {
    "colab": {
      "name": "python_blockchain_training_18.ipynb",
      "provenance": [],
      "authorship_tag": "ABX9TyPIBgHAXKQWNov22llnMUrt",
      "include_colab_link": true
    },
    "kernelspec": {
      "name": "python3",
      "display_name": "Python 3"
    }
  },
  "cells": [
    {
      "cell_type": "markdown",
      "metadata": {
        "id": "view-in-github",
        "colab_type": "text"
      },
      "source": [
        "<a href=\"https://colab.research.google.com/github/sumithdcosta/Python/blob/master/BlockChain/python_blockchain_training_18.ipynb\" target=\"_parent\"><img src=\"https://colab.research.google.com/assets/colab-badge.svg\" alt=\"Open In Colab\"/></a>"
      ]
    },
    {
      "cell_type": "code",
      "metadata": {
        "id": "BhNcMBdq0JzL",
        "colab_type": "code",
        "colab": {
          "base_uri": "https://localhost:8080/",
          "height": 34
        },
        "outputId": "301abffa-8c72-4502-b502-38f00c3996b5"
      },
      "source": [
        "!mkdir utility"
      ],
      "execution_count": 56,
      "outputs": [
        {
          "output_type": "stream",
          "text": [
            "mkdir: cannot create directory ‘utility’: File exists\n"
          ],
          "name": "stdout"
        }
      ]
    },
    {
      "cell_type": "code",
      "metadata": {
        "id": "gD8QNDf__O1p",
        "colab_type": "code",
        "outputId": "43c5cef3-91c8-407e-c28b-63663c70dd88",
        "colab": {
          "base_uri": "https://localhost:8080/",
          "height": 34
        }
      },
      "source": [
        "!pip install  pycrypto"
      ],
      "execution_count": 57,
      "outputs": [
        {
          "output_type": "stream",
          "text": [
            "Requirement already satisfied: pycrypto in /usr/local/lib/python3.6/dist-packages (2.6.1)\n"
          ],
          "name": "stdout"
        }
      ]
    },
    {
      "cell_type": "code",
      "metadata": {
        "id": "Ot-RnV2yGY8-",
        "colab_type": "code",
        "outputId": "8e3a3eda-4a47-49e8-9276-398e1250e9dd",
        "colab": {
          "base_uri": "https://localhost:8080/",
          "height": 479
        }
      },
      "source": [
        "!pip install flask\n",
        "!pip install flask-cors\n",
        "!pip install flask-ngrok"
      ],
      "execution_count": 58,
      "outputs": [
        {
          "output_type": "stream",
          "text": [
            "Requirement already satisfied: flask in /usr/local/lib/python3.6/dist-packages (1.1.1)\n",
            "Requirement already satisfied: Jinja2>=2.10.1 in /usr/local/lib/python3.6/dist-packages (from flask) (2.11.1)\n",
            "Requirement already satisfied: Werkzeug>=0.15 in /usr/local/lib/python3.6/dist-packages (from flask) (1.0.0)\n",
            "Requirement already satisfied: click>=5.1 in /usr/local/lib/python3.6/dist-packages (from flask) (7.0)\n",
            "Requirement already satisfied: itsdangerous>=0.24 in /usr/local/lib/python3.6/dist-packages (from flask) (1.1.0)\n",
            "Requirement already satisfied: MarkupSafe>=0.23 in /usr/local/lib/python3.6/dist-packages (from Jinja2>=2.10.1->flask) (1.1.1)\n",
            "Requirement already satisfied: flask-cors in /usr/local/lib/python3.6/dist-packages (3.0.8)\n",
            "Requirement already satisfied: Six in /usr/local/lib/python3.6/dist-packages (from flask-cors) (1.12.0)\n",
            "Requirement already satisfied: Flask>=0.9 in /usr/local/lib/python3.6/dist-packages (from flask-cors) (1.1.1)\n",
            "Requirement already satisfied: click>=5.1 in /usr/local/lib/python3.6/dist-packages (from Flask>=0.9->flask-cors) (7.0)\n",
            "Requirement already satisfied: Jinja2>=2.10.1 in /usr/local/lib/python3.6/dist-packages (from Flask>=0.9->flask-cors) (2.11.1)\n",
            "Requirement already satisfied: Werkzeug>=0.15 in /usr/local/lib/python3.6/dist-packages (from Flask>=0.9->flask-cors) (1.0.0)\n",
            "Requirement already satisfied: itsdangerous>=0.24 in /usr/local/lib/python3.6/dist-packages (from Flask>=0.9->flask-cors) (1.1.0)\n",
            "Requirement already satisfied: MarkupSafe>=0.23 in /usr/local/lib/python3.6/dist-packages (from Jinja2>=2.10.1->Flask>=0.9->flask-cors) (1.1.1)\n",
            "Requirement already satisfied: flask-ngrok in /usr/local/lib/python3.6/dist-packages (0.0.25)\n",
            "Requirement already satisfied: requests in /usr/local/lib/python3.6/dist-packages (from flask-ngrok) (2.21.0)\n",
            "Requirement already satisfied: Flask>=0.8 in /usr/local/lib/python3.6/dist-packages (from flask-ngrok) (1.1.1)\n",
            "Requirement already satisfied: idna<2.9,>=2.5 in /usr/local/lib/python3.6/dist-packages (from requests->flask-ngrok) (2.8)\n",
            "Requirement already satisfied: urllib3<1.25,>=1.21.1 in /usr/local/lib/python3.6/dist-packages (from requests->flask-ngrok) (1.24.3)\n",
            "Requirement already satisfied: certifi>=2017.4.17 in /usr/local/lib/python3.6/dist-packages (from requests->flask-ngrok) (2019.11.28)\n",
            "Requirement already satisfied: chardet<3.1.0,>=3.0.2 in /usr/local/lib/python3.6/dist-packages (from requests->flask-ngrok) (3.0.4)\n",
            "Requirement already satisfied: Werkzeug>=0.15 in /usr/local/lib/python3.6/dist-packages (from Flask>=0.8->flask-ngrok) (1.0.0)\n",
            "Requirement already satisfied: itsdangerous>=0.24 in /usr/local/lib/python3.6/dist-packages (from Flask>=0.8->flask-ngrok) (1.1.0)\n",
            "Requirement already satisfied: click>=5.1 in /usr/local/lib/python3.6/dist-packages (from Flask>=0.8->flask-ngrok) (7.0)\n",
            "Requirement already satisfied: Jinja2>=2.10.1 in /usr/local/lib/python3.6/dist-packages (from Flask>=0.8->flask-ngrok) (2.11.1)\n",
            "Requirement already satisfied: MarkupSafe>=0.23 in /usr/local/lib/python3.6/dist-packages (from Jinja2>=2.10.1->Flask>=0.8->flask-ngrok) (1.1.1)\n"
          ],
          "name": "stdout"
        }
      ]
    },
    {
      "cell_type": "code",
      "metadata": {
        "id": "ke-4iMDv1ggP",
        "colab_type": "code",
        "outputId": "15275bde-6e54-4af5-90e6-a8f19f9aab0e",
        "colab": {
          "base_uri": "https://localhost:8080/",
          "height": 34
        }
      },
      "source": [
        "%%writefile utility/__init__.py\n",
        "'''package'''\n",
        "from utility.hash_util import hash_string_256\n",
        "\n",
        "__all__ = ['hash_string_256']"
      ],
      "execution_count": 67,
      "outputs": [
        {
          "output_type": "stream",
          "text": [
            "Overwriting utility/__init__.py\n"
          ],
          "name": "stdout"
        }
      ]
    },
    {
      "cell_type": "code",
      "metadata": {
        "id": "n0NnQnma4beJ",
        "colab_type": "code",
        "outputId": "65878350-47c3-409e-d93a-82a8bdd33566",
        "colab": {
          "base_uri": "https://localhost:8080/",
          "height": 34
        }
      },
      "source": [
        "%%writefile utility/hash_util.py\n",
        "import hashlib as hl\n",
        "import json\n",
        "\n",
        "#__all__ = ['hash_string_256','hash_block']\n",
        "\n",
        "def hash_string_256(string):\n",
        "  return hl.sha256(string).hexdigest()\n",
        "\n",
        "def hash_block(block):\n",
        "  #print(block)\n",
        "  hashable_block = block.__dict__.copy()\n",
        "  hashable_block['transactions'] = [tx.to_ordered_dict() for tx in hashable_block['transactions']]\n",
        "  return hash_string_256(json.dumps(hashable_block, sort_keys=True).encode())\n"
      ],
      "execution_count": 68,
      "outputs": [
        {
          "output_type": "stream",
          "text": [
            "Overwriting utility/hash_util.py\n"
          ],
          "name": "stdout"
        }
      ]
    },
    {
      "cell_type": "code",
      "metadata": {
        "id": "nbIFnbZT1uey",
        "colab_type": "code",
        "outputId": "a8011a80-3c22-4b1c-c27e-df598634a79a",
        "colab": {
          "base_uri": "https://localhost:8080/",
          "height": 34
        }
      },
      "source": [
        "%%writefile utility/verification.py\n",
        "\"\"\" Provides verification helper methods.\"\"\"\n",
        "\n",
        "from utility.hash_util import hash_string_256, hash_block\n",
        "from wallet import Wallet\n",
        "\n",
        "class Verification:\n",
        "  \"\"\"A helper class which offer various static and class-based veriffication\"\"\"\n",
        "  @staticmethod\n",
        "  def valid_proof(transactions, last_hash, proof):\n",
        "    guess = (str([tx.to_ordered_dict() for tx in transactions]) + str(last_hash) + str(proof)).encode()\n",
        "    guess_hash = hash_string_256(guess)\n",
        "    #print(guess_hash)\n",
        "    return guess_hash[0:2] == '00'\n",
        "\n",
        "  @classmethod\n",
        "  def verify_chain(cls, blockchain):\n",
        "    \"\"\"verify current blockchain\"\"\"\n",
        "    for (index, block) in enumerate(blockchain):\n",
        "      if index == 0:\n",
        "        continue\n",
        "      if block.previous_hash != hash_block(blockchain[index -1]):\n",
        "        return False\n",
        "      if not cls.valid_proof(block.transactions[:-1], block.previous_hash, block.proof):\n",
        "        print('Prood of work invalid')\n",
        "        return False\n",
        "    return True\n",
        "\n",
        "  @staticmethod\n",
        "  def verify_transaction(transaction, get_balance, check_funds=True):\n",
        "    if check_funds:\n",
        "      sender_balance = get_balance()\n",
        "      return sender_balance >= transaction.amount and Wallet.verify_transaction(transaction)\n",
        "    else:\n",
        "      return Wallet.verify_transaction(transaction)\n",
        "\n",
        "  @classmethod\n",
        "  def verify_transactions(cls, open_transactions, get_balance):\n",
        "    return all([cls.verify_transaction(tx, get_balance, check_funds=False) for tx in open_transactions])\n"
      ],
      "execution_count": 69,
      "outputs": [
        {
          "output_type": "stream",
          "text": [
            "Overwriting utility/verification.py\n"
          ],
          "name": "stdout"
        }
      ]
    },
    {
      "cell_type": "code",
      "metadata": {
        "id": "JMBLDpEoy8x9",
        "colab_type": "code",
        "outputId": "7c4a6bac-c758-4642-97fb-a052c10a8e0d",
        "colab": {
          "base_uri": "https://localhost:8080/",
          "height": 34
        }
      },
      "source": [
        "%%writefile utility/printable.py\n",
        "class Printable:\n",
        "  def __repr__(self):\n",
        "    return str(self.__dict__)\n"
      ],
      "execution_count": 70,
      "outputs": [
        {
          "output_type": "stream",
          "text": [
            "Overwriting utility/printable.py\n"
          ],
          "name": "stdout"
        }
      ]
    },
    {
      "cell_type": "code",
      "metadata": {
        "id": "ToZzL_dTTWPi",
        "colab_type": "code",
        "outputId": "c7498257-ae88-42af-b6c4-06faacbef66c",
        "colab": {
          "base_uri": "https://localhost:8080/",
          "height": 34
        }
      },
      "source": [
        "%%writefile block.py\n",
        "from time import time\n",
        "from utility.printable import Printable\n",
        "\n",
        "class Block(Printable):\n",
        "  def __init__(self, index, previous_hash, transactions, proof, time=time()):\n",
        "    self.index = index\n",
        "    self.previous_hash = previous_hash\n",
        "    self.transactions = transactions\n",
        "    self.proof = proof\n",
        "    self.time = time\n"
      ],
      "execution_count": 71,
      "outputs": [
        {
          "output_type": "stream",
          "text": [
            "Overwriting block.py\n"
          ],
          "name": "stdout"
        }
      ]
    },
    {
      "cell_type": "code",
      "metadata": {
        "id": "6bN5Bs-M_xVL",
        "colab_type": "code",
        "outputId": "289f44e4-20d1-4949-9f56-0b67256c7d6f",
        "colab": {
          "base_uri": "https://localhost:8080/",
          "height": 34
        }
      },
      "source": [
        "%%writefile transaction.py\n",
        "from collections import OrderedDict\n",
        "from utility.printable import Printable\n",
        "\n",
        "class Transaction(Printable):\n",
        "  def __init__(self, sender, recipient, signature, amount):\n",
        "    self.sender = sender\n",
        "    self.recipient = recipient\n",
        "    self.signature = signature\n",
        "    self.amount = amount\n",
        "    \n",
        "\n",
        "\n",
        "\n",
        "  def to_ordered_dict(self):\n",
        "      return OrderedDict([('sender', self.sender),\n",
        "                          ('recipient', self.recipient),\n",
        "                          ('amount', self.amount)])"
      ],
      "execution_count": 72,
      "outputs": [
        {
          "output_type": "stream",
          "text": [
            "Overwriting transaction.py\n"
          ],
          "name": "stdout"
        }
      ]
    },
    {
      "cell_type": "code",
      "metadata": {
        "id": "9HzYf_5kBCsY",
        "colab_type": "code",
        "outputId": "51a6cc83-02a2-4a32-8bd2-607bbff834b3",
        "colab": {
          "base_uri": "https://localhost:8080/",
          "height": 34
        }
      },
      "source": [
        "%%writefile wallet.py\n",
        "from Crypto.PublicKey import RSA\n",
        "from Crypto.Signature import PKCS1_v1_5\n",
        "from Crypto.Hash import SHA256\n",
        "import Crypto.Random\n",
        "import binascii \n",
        "import sys\n",
        "\n",
        "class Wallet:\n",
        "  def __init__(self):\n",
        "    self.private_key = None\n",
        "    self.public_key = None\n",
        "\n",
        "  def save_keys(self):\n",
        "    if self.public_key != None and self.private_key != None:\n",
        "      #print(self.public_key)\n",
        "      #print(self.private_key)\n",
        "      try : \n",
        "        with open('wallet.txt', mode='w') as f:\n",
        "          f.write(self.public_key)\n",
        "          f.write('\\n')\n",
        "          f.write(self.private_key)\n",
        "        return True\n",
        "      except(IOError, IndexError):\n",
        "        print('Saving wallet failed ...')\n",
        "        return False\n",
        "\n",
        "  def create_keys(self):\n",
        "    private_key, public_key = self.generate_keys()\n",
        "    self.private_key = private_key\n",
        "    self.public_key = public_key \n",
        "\n",
        "\n",
        "  def load_keys(self):\n",
        "    try:\n",
        "      with open('wallet.txt', mode='r') as f:\n",
        "        keys = f.readlines()\n",
        "        public_key = keys[0][:-1]\n",
        "        private_key = keys[1]\n",
        "        self.public_key = public_key\n",
        "        self.private_key = private_key\n",
        "      return True\n",
        "    except(IOError, IndexError) as exc:\n",
        "      print('Loading wallet failed ...')\n",
        "      print(\"Oops!\",exc)\n",
        "      print(\"Oops!\",sys.exc_info()[0],\"occured.\")\n",
        "      return False\n",
        "\n",
        "\n",
        "  def generate_keys(self):\n",
        "    private_key = RSA.generate(1024,Crypto.Random.new().read)\n",
        "    public_key = private_key.publickey()\n",
        "    return (binascii.hexlify(private_key.exportKey(format='DER')).decode('ascii'),\n",
        "            binascii.hexlify(public_key.exportKey(format='DER')).decode('ascii'))\n",
        "    \n",
        "  def sign_transaction(self, sender, recipient, amount):\n",
        "    signer = PKCS1_v1_5.new(RSA.importKey(binascii.unhexlify(self.private_key)))\n",
        "    h = SHA256.new((str(sender) + str(recipient) + str(amount)).encode('utf8'))\n",
        "    signature = signer.sign(h)\n",
        "    return binascii.hexlify(signature).decode('ascii')\n",
        "\n",
        "  @staticmethod\n",
        "  def verify_transaction(transaction):\n",
        "    public_key = RSA.importKey(binascii.unhexlify(transaction.sender))\n",
        "    verifier = PKCS1_v1_5.new(public_key)\n",
        "    h = SHA256.new((str(transaction.sender) + str(transaction.recipient) + str(transaction.amount)).encode('utf8'))\n",
        "    return verifier.verify(h, binascii.unhexlify(transaction.signature))\n"
      ],
      "execution_count": 87,
      "outputs": [
        {
          "output_type": "stream",
          "text": [
            "Overwriting wallet.py\n"
          ],
          "name": "stdout"
        }
      ]
    },
    {
      "cell_type": "code",
      "metadata": {
        "id": "BPGxXDSQ4tuO",
        "colab_type": "code",
        "outputId": "6f6609f2-74f5-421a-a7e4-8249cb2da45b",
        "colab": {
          "base_uri": "https://localhost:8080/",
          "height": 34
        }
      },
      "source": [
        "%%writefile blockchain.py\n",
        "# try except block : \n",
        "#####################################################\n",
        "import functools\n",
        "import hashlib as hl\n",
        "import json\n",
        "from collections import OrderedDict\n",
        "import sys\n",
        "\n",
        "from utility.hash_util import  hash_block\n",
        "from block import Block\n",
        "from transaction import Transaction\n",
        "from time import time\n",
        "from utility.verification import Verification\n",
        "from wallet import Wallet\n",
        "\n",
        "#global variable\n",
        "MINING_REWARD = 10\n",
        "\n",
        "#print(__name__)\n",
        "\n",
        "class Blockchain:\n",
        "  def __init__(self, hosting_node_id):\n",
        "    genesis_block = Block(index = 0,\n",
        "                        previous_hash= '',\n",
        "                        transactions = [],\n",
        "                        proof = 100,\n",
        "                        time = 0)\n",
        "\n",
        "    self.chain = [genesis_block]\n",
        "    self._open_transactions = []\n",
        "    self.hosting_node = hosting_node_id\n",
        "    owner = 'Sumith'\n",
        "    participants = {owner}\n",
        "    self.load_data()\n",
        "\n",
        "  @property\n",
        "  def chain(self):\n",
        "      return self._chain[:]\n",
        "  \n",
        "  @chain.setter\n",
        "  def chain(self, val):\n",
        "    self._chain = val\n",
        "\n",
        "  def get_open_transactions(self):\n",
        "    return self._open_transactions[:]\n",
        "\n",
        "  def load_data(self):\n",
        "    try:\n",
        "      with open('blockchain.txt', mode='r') as f:\n",
        "        file_content = f.readlines()\n",
        "\n",
        "        blockchain = json.loads(file_content[0][:-1])\n",
        "        updated_blockchain=[]\n",
        "        for block in blockchain:\n",
        "          converted_tx = [Transaction(tx['sender'],\n",
        "                                      tx['recipient'],\n",
        "                                      tx['signature'],\n",
        "                                      tx['amount']) for tx in block['transactions']]\n",
        "          updated_block = Block(block['index'],\n",
        "                                block['previous_hash'],\n",
        "                                converted_tx,\n",
        "                                block['proof'],\n",
        "                                block['time'])\n",
        "          updated_blockchain.append(updated_block)\n",
        "        self.chain = updated_blockchain\n",
        "      \n",
        "        open_transactions = json.loads(file_content[1])\n",
        "        updated_transactions = []\n",
        "        for tx in open_transactions:\n",
        "          updated_transaction = Transaction(tx['sender'],\n",
        "                                             tx['recipient'],\n",
        "                                            tx['signature'],\n",
        "                                             tx['amount'])\n",
        "          updated_transactions.append(updated_transaction) \n",
        "        self._open_transactions = updated_transactions\n",
        "    except (IOError, IndexError):                    \n",
        "      pass\n",
        "    except ValueError:\n",
        "      print('Value error!')\n",
        "    except Exception as exc:\n",
        "      print(\"Oops!\",exc)\n",
        "      print(\"Oops!\",sys.exc_info()[0],\"occured.\")\n",
        "      sys.exit(1)\n",
        "    finally:\n",
        "      print('Cleanup!')\n",
        "\n",
        "  def save_data(self):\n",
        "    try :\n",
        "      with open('blockchain.txt', mode='w') as f:\n",
        "        saveable_chain = [block.__dict__ for block in [Block(\n",
        "            block_el.index,\n",
        "            block_el.previous_hash,\n",
        "            [tx.__dict__ for tx in block_el.transactions],\n",
        "            block_el.proof,\n",
        "            block_el.time\n",
        "            ) for block_el in self._chain]]\n",
        "\n",
        "        f.write(json.dumps(saveable_chain))\n",
        "        f.write('\\n')\n",
        "        saveable_tx = [tx.__dict__ for tx in self._open_transactions]\n",
        "        f.write(json.dumps(saveable_tx))\n",
        "    except IOError:\n",
        "      print('Error saving file!')\n",
        "\n",
        "  def proof_of_work(self):\n",
        "    last_block = self._chain[-1]\n",
        "    last_hash = hash_block(last_block)\n",
        "    proof = 0\n",
        "    while not Verification.valid_proof(self._open_transactions, last_hash, proof):\n",
        "      proof += 1\n",
        "    return proof\n",
        "\n",
        "  def get_balance(self):\n",
        "    if self.hosting_node == None:\n",
        "      return None\n",
        "    participant = self.hosting_node\n",
        "    tx_sender = [[tx.amount for tx in block.transactions if tx.sender == participant] for block in self._chain]\n",
        "    open_tx_sender = [tx.amount for tx in self._open_transactions if tx.sender == participant]\n",
        "    tx_sender.append(open_tx_sender)\n",
        "    amount_sent = functools.reduce(lambda tx_sum, tx_amt: tx_sum + sum(tx_amt) if len(tx_amt) > 0 else tx_sum + 0, tx_sender,0)\n",
        "    tx_recipient = [[tx.amount for tx in block.transactions if tx.recipient == participant] for block in self._chain]\n",
        "    amount_received = functools.reduce(lambda tx_sum, tx_amt: tx_sum + sum(tx_amt) if len(tx_amt) > 0 else tx_sum + 0, tx_recipient,0)\n",
        "    return  amount_received - amount_sent\n",
        "\n",
        "\n",
        "  def get_last_blockchain_value(self):\n",
        "    \"\"\" returns the last value of the current bloackchain \"\"\"\n",
        "    #function to return the value\n",
        "    if len(self._chain) < 1 :\n",
        "      return None\n",
        "    return self._chain[-1]\n",
        "\n",
        "  def add_transaction(self, recipient,sender, signature, amount=1.0):\n",
        "    if self.hosting_node == None:\n",
        "      return False\n",
        "    transaction = Transaction(sender, recipient, signature, amount)\n",
        "    if Verification.verify_transaction(transaction, self.get_balance):\n",
        "      self._open_transactions.append(transaction)\n",
        "      self.save_data()\n",
        "      return True\n",
        "    return False\n",
        "\n",
        "  def mine_block(self):\n",
        "    if self.hosting_node == None:\n",
        "      return None\n",
        "    last_block = self._chain[-1]\n",
        "    hashed_block = hash_block(last_block)\n",
        "    proof = self.proof_of_work() \n",
        "    reward_transaction = Transaction(sender = 'MINING', recipient = self.hosting_node, signature = '', amount = MINING_REWARD)\n",
        "    copied_transactions = self._open_transactions[:]\n",
        "    for tx in copied_transactions:\n",
        "      if not Wallet.verify_transaction(tx):\n",
        "        return None\n",
        "    copied_transactions.append(reward_transaction)\n",
        "    block = Block(index = len(self._chain),\n",
        "                        previous_hash = hashed_block,\n",
        "                        transactions = copied_transactions,\n",
        "                        proof = proof,\n",
        "                        time = 0)\n",
        "    self._chain.append(block)\n",
        "    self._open_transactions = []\n",
        "    self.save_data()\n",
        "    return block\n",
        "\n",
        "\n"
      ],
      "execution_count": 88,
      "outputs": [
        {
          "output_type": "stream",
          "text": [
            "Overwriting blockchain.py\n"
          ],
          "name": "stdout"
        }
      ]
    },
    {
      "cell_type": "code",
      "metadata": {
        "id": "JuTQVoR2GyIi",
        "colab_type": "code",
        "outputId": "65a60f49-4dd2-4f6f-9fda-1d71b375ce3b",
        "colab": {
          "base_uri": "https://localhost:8080/",
          "height": 34
        }
      },
      "source": [
        "%%writefile node.py\n",
        "from flask_ngrok import run_with_ngrok\n",
        "from flask import Flask, jsonify\n",
        "from flask_cors import CORS\n",
        "\n",
        "from wallet import Wallet\n",
        "from blockchain import Blockchain\n",
        "\n",
        "app = Flask(__name__)\n",
        "wallet = Wallet()\n",
        "blockchain = Blockchain(wallet.public_key)\n",
        "CORS(app)\n",
        "run_with_ngrok(app)\n",
        "\n",
        "@app.route('/wallet', methods=['POST'])\n",
        "def create_keys():\n",
        "  wallet.create_keys()\n",
        "  if wallet.save_keys():\n",
        "    global blockchain\n",
        "    blockchain = Blockchain(wallet.public_key)\n",
        "    response= {\n",
        "      'public_key': wallet.public_key,\n",
        "      'private_key': wallet.private_key\n",
        "      'funds': blockchain.get_balance()\n",
        "    } \n",
        "    return jsonify(response), 201\n",
        "  else:\n",
        "    response = {\n",
        "      'message': 'saving the keys failed!'\n",
        "    }\n",
        "    return jsonify(response), 500\n",
        "  \n",
        "@app.route('/wallet', methods =['GET'])\n",
        "def load_keys():\n",
        "  if wallet.load_keys():\n",
        "    global blockchain\n",
        "    blockchain = Blockchain(wallet.public_key)\n",
        "    response= {\n",
        "      'public_key': wallet.public_key,\n",
        "      'private_key': wallet.private_key\n",
        "      'funds': blockchain.get_balance()\n",
        "    } \n",
        "    global blockchain\n",
        "    blockchain = Blockchain(wallet.public_key)\n",
        "    return jsonify(response), 201\n",
        "  else:\n",
        "    response = {\n",
        "      'message': 'loading the keys failed!'\n",
        "    }\n",
        "    return jsonify(response), 500\n",
        "\n",
        "@app.route('/balance', methods=['GET'])\n",
        "def get_balance():\n",
        "  balance = blockchain.get_balance()\n",
        "  if balance != None\n",
        "    response = {\n",
        "      'message': 'Fetched balance successfully.',\n",
        "      'funds': balance\n",
        "    }\n",
        "  else:\n",
        "    response = {\n",
        "      'message': 'Loading balance failed',\n",
        "      'wallet_set_up': wallet.public_key != None\n",
        "    }\n",
        "    return jsonify(response), 500\n",
        "\n",
        "@app.route('/', methods = ['GET'])\n",
        "def get_ui():\n",
        "  return 'This works!'\n",
        "\n",
        "@app.route('/mine', methods=['POST'])\n",
        "def mine():\n",
        "  block = blockchain.mine_block()\n",
        "  if block != None:\n",
        "    dict_block = block.__dict__.copy()\n",
        "    dict_block['transactions'] = [tx.__dict__ for tx in dict_block['transactions']]\n",
        "    response = {\n",
        "      'message': 'Block added successfully.',\n",
        "      'block': dict_block\n",
        "      'funds': blockchain.get_balance()\n",
        "    }\n",
        "    return jsonify(response), 201\n",
        "  else:\n",
        "    response = {\n",
        "      'message': 'Adding a block failed.',\n",
        "      'wallet_set_up': wallet.public_key != None\n",
        "    }\n",
        "    return jsonify(response), 500\n",
        "\n",
        "@app.route('/chain', methods=['GET'])\n",
        "def get_chain():\n",
        "  chain_snapshot = blockchain.chain\n",
        "  dict_chain = [block.__dict__.copy() for block in chain_snapshot ]\n",
        "  for dict_block in dict_chain:\n",
        "    dict_block['transactions'] = [tx.__dict__ for tx in dict_block['transactions']]\n",
        "  return jsonify(dict_chain), 200\n",
        "\n",
        "\n",
        "if __name__ == '__main__':\n",
        "  app.run()\n"
      ],
      "execution_count": 89,
      "outputs": [
        {
          "output_type": "stream",
          "text": [
            "Overwriting node.py\n"
          ],
          "name": "stdout"
        }
      ]
    },
    {
      "cell_type": "code",
      "metadata": {
        "id": "Bq-ghwE9IwMC",
        "colab_type": "code",
        "outputId": "14b5938a-ffb3-4a74-cdae-c79765357812",
        "colab": {
          "base_uri": "https://localhost:8080/",
          "height": 250
        }
      },
      "source": [
        "!python node.py"
      ],
      "execution_count": 0,
      "outputs": [
        {
          "output_type": "stream",
          "text": [
            "Cleanup!\n",
            " * Serving Flask app \"node\" (lazy loading)\n",
            " * Environment: production\n",
            "\u001b[31m   WARNING: This is a development server. Do not use it in a production deployment.\u001b[0m\n",
            "\u001b[2m   Use a production WSGI server instead.\u001b[0m\n",
            " * Debug mode: off\n",
            " * Running on http://127.0.0.1:5000/ (Press CTRL+C to quit)\n",
            " * Running on http://ab874a36.ngrok.io\n",
            " * Traffic stats available on http://127.0.0.1:4040\n",
            "Cleanup!\n",
            "127.0.0.1 - - [16/Mar/2020 14:44:32] \"\u001b[37mGET /wallet HTTP/1.1\u001b[0m\" 201 -\n",
            "127.0.0.1 - - [16/Mar/2020 14:45:07] \"\u001b[37mPOST /mine HTTP/1.1\u001b[0m\" 201 -\n"
          ],
          "name": "stdout"
        }
      ]
    },
    {
      "cell_type": "code",
      "metadata": {
        "id": "k1jf8tzEnl3J",
        "colab_type": "code",
        "colab": {}
      },
      "source": [
        ""
      ],
      "execution_count": 0,
      "outputs": []
    },
    {
      "cell_type": "code",
      "metadata": {
        "id": "0XGfbHiwnmTE",
        "colab_type": "code",
        "colab": {}
      },
      "source": [
        ""
      ],
      "execution_count": 0,
      "outputs": []
    },
    {
      "cell_type": "code",
      "metadata": {
        "id": "9Z6M6aD_LGh0",
        "colab_type": "code",
        "outputId": "0c1025ff-8ac8-4e0b-a7ef-4a6d0d198425",
        "colab": {
          "base_uri": "https://localhost:8080/",
          "height": 34
        }
      },
      "source": [
        "%%writefile old_node.py\n",
        "from uuid import uuid4\n",
        "from blockchain import Blockchain\n",
        "from utility.verification import Verification\n",
        "from wallet import Wallet\n",
        "\n",
        "\n",
        "class Node:\n",
        "  def __init__(self):\n",
        "    self.wallet = Wallet()\n",
        "    #self.id = str(uuid4())\n",
        "    self.wallet.create_keys()\n",
        "    self.blockchain = Blockchain(self.wallet.public_key)\n",
        "    \n",
        "\n",
        "  #using function for reusable code.\n",
        "  def get_transaction_value(self):\n",
        "    \"\"\" Retruns the input of the user(a new transaction amount) as a float\n",
        "    \"\"\"\n",
        "    tx_recipient = input('Enter the recipent of the transaction: ') \n",
        "    tx_amount = float(input('Your trasaction amount please: ')) \n",
        "    return (tx_recipient, tx_amount)\n",
        "  \n",
        "  def get_user_choice(self):\n",
        "    user_input = input('Your Choice : ')\n",
        "    return user_input\n",
        "\n",
        "  def print_blockchain_elements(self):\n",
        "    #use for loop to output the blockchain list console\n",
        "    for block in self.blockchain.chain:\n",
        "      print('outputting block : ', block)\n",
        "    else:\n",
        "      print('-' * 20)\n",
        "\n",
        "  def listen_for_input(self):\n",
        "    waiting_for_input = True\n",
        "    while waiting_for_input:\n",
        "      print('Please choose')\n",
        "      print('1: Add a new transaction value')\n",
        "      print('2: Mine a new block')\n",
        "      print('3: Output the blockchain blocks')\n",
        "      print('4: check transaction validity')\n",
        "      print('5: Create wallet')\n",
        "      print('6: load wallet')\n",
        "      print('7: Save keys')\n",
        "      print('q : Quit ')\n",
        "      user_choice = self.get_user_choice()\n",
        "      if user_choice == '1':\n",
        "        tx_data = self.get_transaction_value()\n",
        "        recipient, amount = tx_data\n",
        "        signature = self.wallet.sign_transaction(self.wallet.public_key, recipient, amount)\n",
        "        if self.blockchain.add_transaction(recipient, self.wallet.public_key, signature,amount=amount):\n",
        "          print('Added transaction')\n",
        "        else:\n",
        "          print('Tranaction failed')\n",
        "        print(self.blockchain.get_open_transactions())\n",
        "      elif user_choice == '2':\n",
        "        if not self.blockchain.mine_block():\n",
        "          print('Mining failed, got no wallet?')\n",
        "      elif user_choice == '3':\n",
        "          self.print_blockchain_elements()\n",
        "      elif user_choice == '4':\n",
        "        if Verification.verify_transactions(self.blockchain.get_open_transactions(), self.blockchain.get_balance):\n",
        "          print(\"All Transactions are valid\")\n",
        "        else:\n",
        "          print('There are invalid transaction')\n",
        "      elif user_choice == '5':\n",
        "        self.wallet.create_keys()\n",
        "        self.blockchain = Blockchain(self.wallet.public_key)\n",
        "      elif user_choice == '6':\n",
        "        self.wallet.load_keys()\n",
        "        self.blockchain = Blockchain(self.wallet.public_key)\n",
        "      elif user_choice == '7':\n",
        "        self.wallet.save_keys()\n",
        "      elif user_choice == 'q':\n",
        "        waiting_for_input = False\n",
        "      else:\n",
        "        print('Input was invalid, please pick a value from the list!')    \n",
        "      if not Verification.verify_chain(self.blockchain.chain):\n",
        "        self.print_blockchain_elements()\n",
        "        print('Invalid block chain!')\n",
        "        break\n",
        "      print('Balance of {} : {:6.2f}'.format(self.wallet.public_key, self.blockchain.get_balance()))  \n",
        "      print('Choice registered !')\n",
        "    else:\n",
        "      print('User left')\n",
        "    print('Done!') \n",
        "\n",
        "if __name__ == '__main__':\n",
        "  node = Node()\n",
        "  node.listen_for_input() \n",
        "\n",
        "#print(__name__)\n"
      ],
      "execution_count": 39,
      "outputs": [
        {
          "output_type": "stream",
          "text": [
            "Overwriting old_node.py\n"
          ],
          "name": "stdout"
        }
      ]
    },
    {
      "cell_type": "code",
      "metadata": {
        "id": "dWqTbNOQflni",
        "colab_type": "code",
        "outputId": "15186399-6cd3-4949-b573-0281e95cb6df",
        "colab": {
          "base_uri": "https://localhost:8080/",
          "height": 34
        }
      },
      "source": [
        "%%writefile old_blockchain.py\n",
        "# try except block : \n",
        "#####################################################\n",
        "import functools\n",
        "import hashlib as hl\n",
        "import json\n",
        "from collections import OrderedDict\n",
        "import sys\n",
        "\n",
        "from utility.hash_util import  hash_block\n",
        "from block import Block\n",
        "from transaction import Transaction\n",
        "from time import time\n",
        "from utility.verification import Verification\n",
        "from wallet import Wallet\n",
        "\n",
        "#global variable\n",
        "MINING_REWARD = 10\n",
        "\n",
        "#print(__name__)\n",
        "\n",
        "class Blockchain:\n",
        "  def __init__(self, hosting_node_id):\n",
        "    genesis_block = Block(index = 0,\n",
        "                        previous_hash= '',\n",
        "                        transactions = [],\n",
        "                        proof = 100,\n",
        "                        time = 0)\n",
        "\n",
        "    self.chain = [genesis_block]\n",
        "    self._open_transactions = []\n",
        "    self.hosting_node = hosting_node_id\n",
        "    owner = 'Sumith'\n",
        "    participants = {owner}\n",
        "    self.load_data()\n",
        "\n",
        "  @property\n",
        "  def chain(self):\n",
        "      return self._chain[:]\n",
        "  \n",
        "  @chain.setter\n",
        "  def chain(self, val):\n",
        "    self._chain = val\n",
        "\n",
        "  def get_open_transactions(self):\n",
        "    return self._open_transactions[:]\n",
        "\n",
        "  def load_data(self):\n",
        "    try:\n",
        "      with open('blockchain.txt', mode='r') as f:\n",
        "        file_content = f.readlines()\n",
        "\n",
        "        blockchain = json.loads(file_content[0][:-1])\n",
        "        updated_blockchain=[]\n",
        "        for block in blockchain:\n",
        "          converted_tx = [Transaction(tx['sender'],\n",
        "                                      tx['recipient'],\n",
        "                                      tx['signature'],\n",
        "                                      tx['amount']) for tx in block['transactions']]\n",
        "          updated_block = Block(block['index'],\n",
        "                                block['previous_hash'],\n",
        "                                converted_tx,\n",
        "                                block['proof'],\n",
        "                                block['time'])\n",
        "          updated_blockchain.append(updated_block)\n",
        "        self.chain = updated_blockchain\n",
        "      \n",
        "        open_transactions = json.loads(file_content[1])\n",
        "        updated_transactions = []\n",
        "        for tx in open_transactions:\n",
        "          updated_transaction = Transaction(tx['sender'],\n",
        "                                             tx['recipient'],\n",
        "                                            tx['signature'],\n",
        "                                             tx['amount'])\n",
        "          updated_transactions.append(updated_transaction) \n",
        "        self._open_transactions = updated_transactions\n",
        "    except (IOError, IndexError):                    \n",
        "      pass\n",
        "    except ValueError:\n",
        "      print('Value error!')\n",
        "    except Exception as exc:\n",
        "      print(\"Oops!\",exc)\n",
        "      print(\"Oops!\",sys.exc_info()[0],\"occured.\")\n",
        "      sys.exit(1)\n",
        "    finally:\n",
        "      print('Cleanup!')\n",
        "\n",
        "  def save_data(self):\n",
        "    try :\n",
        "      with open('blockchain.txt', mode='w') as f:\n",
        "        saveable_chain = [block.__dict__ for block in [Block(\n",
        "            block_el.index,\n",
        "            block_el.previous_hash,\n",
        "            [tx.__dict__ for tx in block_el.transactions],\n",
        "            block_el.proof,\n",
        "            block_el.time\n",
        "            ) for block_el in self._chain]]\n",
        "\n",
        "        f.write(json.dumps(saveable_chain))\n",
        "        f.write('\\n')\n",
        "        saveable_tx = [tx.__dict__ for tx in self._open_transactions]\n",
        "        f.write(json.dumps(saveable_tx))\n",
        "    except IOError:\n",
        "      print('Error saving file!')\n",
        "\n",
        "  def proof_of_work(self):\n",
        "    last_block = self._chain[-1]\n",
        "    last_hash = hash_block(last_block)\n",
        "    proof = 0\n",
        "    while not Verification.valid_proof(self._open_transactions, last_hash, proof):\n",
        "      proof += 1\n",
        "    return proof\n",
        "\n",
        "  def get_balance(self):\n",
        "    participant = self.hosting_node\n",
        "    tx_sender = [[tx.amount for tx in block.transactions if tx.sender == participant] for block in self._chain]\n",
        "    open_tx_sender = [tx.amount for tx in self._open_transactions if tx.sender == participant]\n",
        "    tx_sender.append(open_tx_sender)\n",
        "    amount_sent = functools.reduce(lambda tx_sum, tx_amt: tx_sum + sum(tx_amt) if len(tx_amt) > 0 else tx_sum + 0, tx_sender,0)\n",
        "    tx_recipient = [[tx.amount for tx in block.transactions if tx.recipient == participant] for block in self._chain]\n",
        "    amount_received = functools.reduce(lambda tx_sum, tx_amt: tx_sum + sum(tx_amt) if len(tx_amt) > 0 else tx_sum + 0, tx_recipient,0)\n",
        "    return  amount_received - amount_sent\n",
        "\n",
        "\n",
        "  def get_last_blockchain_value(self):\n",
        "    \"\"\" returns the last value of the current bloackchain \"\"\"\n",
        "    #function to return the value\n",
        "    if len(self._chain) < 1 :\n",
        "      return None\n",
        "    return self._chain[-1]\n",
        "\n",
        "  def add_transaction(self, recipient,sender, signature, amount=1.0):\n",
        "    if self.hosting_node == None:\n",
        "      return False\n",
        "    transaction = Transaction(sender, recipient, signature, amount)\n",
        "    if Verification.verify_transaction(transaction, self.get_balance):\n",
        "      self._open_transactions.append(transaction)\n",
        "      self.save_data()\n",
        "      return True\n",
        "    return False\n",
        "\n",
        "  def mine_block(self):\n",
        "    if self.hosting_node == None:\n",
        "      return False\n",
        "    last_block = self._chain[-1]\n",
        "    hashed_block = hash_block(last_block)\n",
        "    proof = self.proof_of_work() \n",
        "    reward_transaction = Transaction(sender = 'MINING', recipient = self.hosting_node, signature = '', amount = MINING_REWARD)\n",
        "    copied_transactions = self._open_transactions[:]\n",
        "    for tx in copied_transactions:\n",
        "      if not Wallet.verify_transaction(tx):\n",
        "        return False\n",
        "    copied_transactions.append(reward_transaction)\n",
        "    block = Block(index = len(self._chain),\n",
        "                        previous_hash = hashed_block,\n",
        "                        transactions = copied_transactions,\n",
        "                        proof = proof,\n",
        "                        time = 0)\n",
        "    self._chain.append(block)\n",
        "    self._open_transactions = []\n",
        "    self.save_data()\n",
        "    return True\n",
        "\n",
        "\n"
      ],
      "execution_count": 42,
      "outputs": [
        {
          "output_type": "stream",
          "text": [
            "Overwriting old_blockchain.py\n"
          ],
          "name": "stdout"
        }
      ]
    },
    {
      "cell_type": "code",
      "metadata": {
        "id": "D7WqmlW_BL94",
        "colab_type": "code",
        "colab": {}
      },
      "source": [
        "!python old_node.py"
      ],
      "execution_count": 0,
      "outputs": []
    },
    {
      "cell_type": "code",
      "metadata": {
        "id": "nSAkD7TGZrvQ",
        "colab_type": "code",
        "colab": {}
      },
      "source": [
        "!python node.py"
      ],
      "execution_count": 0,
      "outputs": []
    },
    {
      "cell_type": "code",
      "metadata": {
        "id": "1eIBc0dYZtBT",
        "colab_type": "code",
        "colab": {}
      },
      "source": [
        ""
      ],
      "execution_count": 0,
      "outputs": []
    },
    {
      "cell_type": "code",
      "metadata": {
        "id": "rY4hfgF7SZva",
        "colab_type": "code",
        "colab": {}
      },
      "source": [
        "!cat wallet.txt"
      ],
      "execution_count": 0,
      "outputs": []
    },
    {
      "cell_type": "code",
      "metadata": {
        "id": "Q6JGtUWA1VNG",
        "colab_type": "code",
        "outputId": "226a92a4-9986-435a-a2ee-03fc6e339238",
        "colab": {
          "base_uri": "https://localhost:8080/",
          "height": 119
        }
      },
      "source": [
        "ls -rlt utility/"
      ],
      "execution_count": 0,
      "outputs": [
        {
          "output_type": "stream",
          "text": [
            "total 20\n",
            "-rw-r--r-- 1 root root   90 Mar 13 05:27 __init__.py\n",
            "-rw-r--r-- 1 root root  404 Mar 13 05:27 hash_util.py\n",
            "-rw-r--r-- 1 root root 1219 Mar 13 05:27 verification.py\n",
            "-rw-r--r-- 1 root root   68 Mar 13 05:27 printable.py\n",
            "drwxr-xr-x 2 root root 4096 Mar 13 05:40 \u001b[0m\u001b[01;34m__pycache__\u001b[0m/\n"
          ],
          "name": "stdout"
        }
      ]
    },
    {
      "cell_type": "code",
      "metadata": {
        "id": "1n80LL1j1VeF",
        "colab_type": "code",
        "outputId": "36d9822b-46b4-4054-8c07-bd776e1d2a4b",
        "colab": {
          "base_uri": "https://localhost:8080/",
          "height": 204
        }
      },
      "source": [
        "ls -rlt"
      ],
      "execution_count": 0,
      "outputs": [
        {
          "output_type": "stream",
          "text": [
            "total 48\n",
            "drwxr-xr-x 1 root root 4096 Mar  3 18:11 \u001b[0m\u001b[01;34msample_data\u001b[0m/\n",
            "drwxr-xr-x 3 root root 4096 Mar 13 05:40 \u001b[01;34mutility\u001b[0m/\n",
            "-rw-r--r-- 1 root root 1398 Mar 13 06:06 wallet.py\n",
            "-rw-r--r-- 1 root root 3098 Mar 13 06:06 node.py\n",
            "-rw-r--r-- 1 root root  307 Mar 13 06:06 block.py\n",
            "-rw-r--r-- 1 root root  428 Mar 13 06:06 transaction.py\n",
            "-rw-r--r-- 1 root root 5349 Mar 13 06:06 blockchain.py\n",
            "drwxr-xr-x 2 root root 4096 Mar 13 06:06 \u001b[01;34m__pycache__\u001b[0m/\n",
            "-rw-r--r-- 1 root root 4835 Mar 13 06:10 blockchain.txt\n",
            "-rw-r--r-- 1 root root 1541 Mar 13 06:10 wallet.txt\n"
          ],
          "name": "stdout"
        }
      ]
    },
    {
      "cell_type": "code",
      "metadata": {
        "id": "UkQrFCNQ6mOI",
        "colab_type": "code",
        "colab": {}
      },
      "source": [
        ""
      ],
      "execution_count": 0,
      "outputs": []
    },
    {
      "cell_type": "code",
      "metadata": {
        "id": "EdkFfhu6hHRd",
        "colab_type": "code",
        "colab": {}
      },
      "source": [
        ""
      ],
      "execution_count": 0,
      "outputs": []
    },
    {
      "cell_type": "code",
      "metadata": {
        "id": "tI3_olS21XGB",
        "colab_type": "code",
        "colab": {}
      },
      "source": [
        "!rm blockchain.txt"
      ],
      "execution_count": 0,
      "outputs": []
    },
    {
      "cell_type": "code",
      "metadata": {
        "id": "dChgGuLq5AtP",
        "colab_type": "code",
        "outputId": "ff9568d9-fb1f-467d-a87e-debfb27cca53",
        "colab": {
          "base_uri": "https://localhost:8080/",
          "height": 34
        }
      },
      "source": [
        "!cat blockchain.txt"
      ],
      "execution_count": 45,
      "outputs": [
        {
          "output_type": "stream",
          "text": [
            "cat: blockchain.txt: No such file or directory\n"
          ],
          "name": "stdout"
        }
      ]
    },
    {
      "cell_type": "code",
      "metadata": {
        "id": "cGf2iqfw7P5l",
        "colab_type": "code",
        "colab": {}
      },
      "source": [
        "2"
      ],
      "execution_count": 0,
      "outputs": []
    }
  ]
}