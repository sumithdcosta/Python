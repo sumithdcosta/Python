{
  "nbformat": 4,
  "nbformat_minor": 0,
  "metadata": {
    "colab": {
      "name": "python_blockchain_training_18.ipynb",
      "provenance": [],
      "authorship_tag": "ABX9TyPA+EvpSFMvbRRNX/TZnGbF",
      "include_colab_link": true
    },
    "kernelspec": {
      "name": "python3",
      "display_name": "Python 3"
    }
  },
  "cells": [
    {
      "cell_type": "markdown",
      "metadata": {
        "id": "view-in-github",
        "colab_type": "text"
      },
      "source": [
        "<a href=\"https://colab.research.google.com/github/sumithdcosta/Python/blob/master/BlockChain/python_blockchain_training_18.ipynb\" target=\"_parent\"><img src=\"https://colab.research.google.com/assets/colab-badge.svg\" alt=\"Open In Colab\"/></a>"
      ]
    },
    {
      "cell_type": "code",
      "metadata": {
        "id": "BhNcMBdq0JzL",
        "colab_type": "code",
        "colab": {}
      },
      "source": [
        "!mkdir utility"
      ],
      "execution_count": 0,
      "outputs": []
    },
    {
      "cell_type": "code",
      "metadata": {
        "id": "gD8QNDf__O1p",
        "colab_type": "code",
        "outputId": "5747364e-8b03-4ce7-cfa6-2387e4f001b4",
        "colab": {
          "base_uri": "https://localhost:8080/",
          "height": 207
        }
      },
      "source": [
        "!pip install  pycrypto"
      ],
      "execution_count": 2,
      "outputs": [
        {
          "output_type": "stream",
          "text": [
            "Collecting pycrypto\n",
            "\u001b[?25l  Downloading https://files.pythonhosted.org/packages/60/db/645aa9af249f059cc3a368b118de33889219e0362141e75d4eaf6f80f163/pycrypto-2.6.1.tar.gz (446kB)\n",
            "\r\u001b[K     |▊                               | 10kB 17.4MB/s eta 0:00:01\r\u001b[K     |█▌                              | 20kB 2.1MB/s eta 0:00:01\r\u001b[K     |██▏                             | 30kB 3.1MB/s eta 0:00:01\r\u001b[K     |███                             | 40kB 2.1MB/s eta 0:00:01\r\u001b[K     |███▊                            | 51kB 2.5MB/s eta 0:00:01\r\u001b[K     |████▍                           | 61kB 3.0MB/s eta 0:00:01\r\u001b[K     |█████▏                          | 71kB 3.5MB/s eta 0:00:01\r\u001b[K     |█████▉                          | 81kB 3.9MB/s eta 0:00:01\r\u001b[K     |██████▋                         | 92kB 4.4MB/s eta 0:00:01\r\u001b[K     |███████▍                        | 102kB 3.4MB/s eta 0:00:01\r\u001b[K     |████████                        | 112kB 3.4MB/s eta 0:00:01\r\u001b[K     |████████▉                       | 122kB 3.4MB/s eta 0:00:01\r\u001b[K     |█████████▌                      | 133kB 3.4MB/s eta 0:00:01\r\u001b[K     |██████████▎                     | 143kB 3.4MB/s eta 0:00:01\r\u001b[K     |███████████                     | 153kB 3.4MB/s eta 0:00:01\r\u001b[K     |███████████▊                    | 163kB 3.4MB/s eta 0:00:01\r\u001b[K     |████████████▌                   | 174kB 3.4MB/s eta 0:00:01\r\u001b[K     |█████████████▏                  | 184kB 3.4MB/s eta 0:00:01\r\u001b[K     |██████████████                  | 194kB 3.4MB/s eta 0:00:01\r\u001b[K     |██████████████▊                 | 204kB 3.4MB/s eta 0:00:01\r\u001b[K     |███████████████▍                | 215kB 3.4MB/s eta 0:00:01\r\u001b[K     |████████████████▏               | 225kB 3.4MB/s eta 0:00:01\r\u001b[K     |█████████████████               | 235kB 3.4MB/s eta 0:00:01\r\u001b[K     |█████████████████▋              | 245kB 3.4MB/s eta 0:00:01\r\u001b[K     |██████████████████▍             | 256kB 3.4MB/s eta 0:00:01\r\u001b[K     |███████████████████             | 266kB 3.4MB/s eta 0:00:01\r\u001b[K     |███████████████████▉            | 276kB 3.4MB/s eta 0:00:01\r\u001b[K     |████████████████████▋           | 286kB 3.4MB/s eta 0:00:01\r\u001b[K     |█████████████████████▎          | 296kB 3.4MB/s eta 0:00:01\r\u001b[K     |██████████████████████          | 307kB 3.4MB/s eta 0:00:01\r\u001b[K     |██████████████████████▊         | 317kB 3.4MB/s eta 0:00:01\r\u001b[K     |███████████████████████▌        | 327kB 3.4MB/s eta 0:00:01\r\u001b[K     |████████████████████████▎       | 337kB 3.4MB/s eta 0:00:01\r\u001b[K     |█████████████████████████       | 348kB 3.4MB/s eta 0:00:01\r\u001b[K     |█████████████████████████▊      | 358kB 3.4MB/s eta 0:00:01\r\u001b[K     |██████████████████████████▍     | 368kB 3.4MB/s eta 0:00:01\r\u001b[K     |███████████████████████████▏    | 378kB 3.4MB/s eta 0:00:01\r\u001b[K     |████████████████████████████    | 389kB 3.4MB/s eta 0:00:01\r\u001b[K     |████████████████████████████▋   | 399kB 3.4MB/s eta 0:00:01\r\u001b[K     |█████████████████████████████▍  | 409kB 3.4MB/s eta 0:00:01\r\u001b[K     |██████████████████████████████  | 419kB 3.4MB/s eta 0:00:01\r\u001b[K     |██████████████████████████████▉ | 430kB 3.4MB/s eta 0:00:01\r\u001b[K     |███████████████████████████████▋| 440kB 3.4MB/s eta 0:00:01\r\u001b[K     |████████████████████████████████| 450kB 3.4MB/s \n",
            "\u001b[?25hBuilding wheels for collected packages: pycrypto\n",
            "  Building wheel for pycrypto (setup.py) ... \u001b[?25l\u001b[?25hdone\n",
            "  Created wheel for pycrypto: filename=pycrypto-2.6.1-cp36-cp36m-linux_x86_64.whl size=499958 sha256=ee8e5d29e60c5bfc96ceb2d033a67c9a771a5a1157c24fe97d483886f7c9e130\n",
            "  Stored in directory: /root/.cache/pip/wheels/27/02/5e/77a69d0c16bb63c6ed32f5386f33a2809c94bd5414a2f6c196\n",
            "Successfully built pycrypto\n",
            "Installing collected packages: pycrypto\n",
            "Successfully installed pycrypto-2.6.1\n"
          ],
          "name": "stdout"
        }
      ]
    },
    {
      "cell_type": "code",
      "metadata": {
        "id": "Ot-RnV2yGY8-",
        "colab_type": "code",
        "outputId": "72b5d782-3633-407d-f6e8-fbde818c7614",
        "colab": {
          "base_uri": "https://localhost:8080/",
          "height": 581
        }
      },
      "source": [
        "!pip install flask\n",
        "!pip install flask-cors\n",
        "!pip install flask-ngrok"
      ],
      "execution_count": 3,
      "outputs": [
        {
          "output_type": "stream",
          "text": [
            "Requirement already satisfied: flask in /usr/local/lib/python3.6/dist-packages (1.1.1)\n",
            "Requirement already satisfied: Werkzeug>=0.15 in /usr/local/lib/python3.6/dist-packages (from flask) (1.0.0)\n",
            "Requirement already satisfied: Jinja2>=2.10.1 in /usr/local/lib/python3.6/dist-packages (from flask) (2.11.1)\n",
            "Requirement already satisfied: itsdangerous>=0.24 in /usr/local/lib/python3.6/dist-packages (from flask) (1.1.0)\n",
            "Requirement already satisfied: click>=5.1 in /usr/local/lib/python3.6/dist-packages (from flask) (7.0)\n",
            "Requirement already satisfied: MarkupSafe>=0.23 in /usr/local/lib/python3.6/dist-packages (from Jinja2>=2.10.1->flask) (1.1.1)\n",
            "Collecting flask-cors\n",
            "  Downloading https://files.pythonhosted.org/packages/78/38/e68b11daa5d613e3a91e4bf3da76c94ac9ee0d9cd515af9c1ab80d36f709/Flask_Cors-3.0.8-py2.py3-none-any.whl\n",
            "Requirement already satisfied: Six in /usr/local/lib/python3.6/dist-packages (from flask-cors) (1.12.0)\n",
            "Requirement already satisfied: Flask>=0.9 in /usr/local/lib/python3.6/dist-packages (from flask-cors) (1.1.1)\n",
            "Requirement already satisfied: Werkzeug>=0.15 in /usr/local/lib/python3.6/dist-packages (from Flask>=0.9->flask-cors) (1.0.0)\n",
            "Requirement already satisfied: itsdangerous>=0.24 in /usr/local/lib/python3.6/dist-packages (from Flask>=0.9->flask-cors) (1.1.0)\n",
            "Requirement already satisfied: click>=5.1 in /usr/local/lib/python3.6/dist-packages (from Flask>=0.9->flask-cors) (7.0)\n",
            "Requirement already satisfied: Jinja2>=2.10.1 in /usr/local/lib/python3.6/dist-packages (from Flask>=0.9->flask-cors) (2.11.1)\n",
            "Requirement already satisfied: MarkupSafe>=0.23 in /usr/local/lib/python3.6/dist-packages (from Jinja2>=2.10.1->Flask>=0.9->flask-cors) (1.1.1)\n",
            "Installing collected packages: flask-cors\n",
            "Successfully installed flask-cors-3.0.8\n",
            "Collecting flask-ngrok\n",
            "  Downloading https://files.pythonhosted.org/packages/af/6c/f54cb686ad1129e27d125d182f90f52b32f284e6c8df58c1bae54fa1adbc/flask_ngrok-0.0.25-py3-none-any.whl\n",
            "Requirement already satisfied: requests in /usr/local/lib/python3.6/dist-packages (from flask-ngrok) (2.21.0)\n",
            "Requirement already satisfied: Flask>=0.8 in /usr/local/lib/python3.6/dist-packages (from flask-ngrok) (1.1.1)\n",
            "Requirement already satisfied: urllib3<1.25,>=1.21.1 in /usr/local/lib/python3.6/dist-packages (from requests->flask-ngrok) (1.24.3)\n",
            "Requirement already satisfied: idna<2.9,>=2.5 in /usr/local/lib/python3.6/dist-packages (from requests->flask-ngrok) (2.8)\n",
            "Requirement already satisfied: chardet<3.1.0,>=3.0.2 in /usr/local/lib/python3.6/dist-packages (from requests->flask-ngrok) (3.0.4)\n",
            "Requirement already satisfied: certifi>=2017.4.17 in /usr/local/lib/python3.6/dist-packages (from requests->flask-ngrok) (2019.11.28)\n",
            "Requirement already satisfied: Jinja2>=2.10.1 in /usr/local/lib/python3.6/dist-packages (from Flask>=0.8->flask-ngrok) (2.11.1)\n",
            "Requirement already satisfied: click>=5.1 in /usr/local/lib/python3.6/dist-packages (from Flask>=0.8->flask-ngrok) (7.0)\n",
            "Requirement already satisfied: Werkzeug>=0.15 in /usr/local/lib/python3.6/dist-packages (from Flask>=0.8->flask-ngrok) (1.0.0)\n",
            "Requirement already satisfied: itsdangerous>=0.24 in /usr/local/lib/python3.6/dist-packages (from Flask>=0.8->flask-ngrok) (1.1.0)\n",
            "Requirement already satisfied: MarkupSafe>=0.23 in /usr/local/lib/python3.6/dist-packages (from Jinja2>=2.10.1->Flask>=0.8->flask-ngrok) (1.1.1)\n",
            "Installing collected packages: flask-ngrok\n",
            "Successfully installed flask-ngrok-0.0.25\n"
          ],
          "name": "stdout"
        }
      ]
    },
    {
      "cell_type": "code",
      "metadata": {
        "id": "ke-4iMDv1ggP",
        "colab_type": "code",
        "outputId": "40eecf75-21af-4e7a-a28a-0f22a9e4651b",
        "colab": {
          "base_uri": "https://localhost:8080/",
          "height": 34
        }
      },
      "source": [
        "%%writefile utility/__init__.py\n",
        "'''package'''\n",
        "from utility.hash_util import hash_string_256\n",
        "\n",
        "__all__ = ['hash_string_256']"
      ],
      "execution_count": 4,
      "outputs": [
        {
          "output_type": "stream",
          "text": [
            "Writing utility/__init__.py\n"
          ],
          "name": "stdout"
        }
      ]
    },
    {
      "cell_type": "code",
      "metadata": {
        "id": "n0NnQnma4beJ",
        "colab_type": "code",
        "outputId": "b204ea18-ec31-42c3-8d11-67826686cf18",
        "colab": {
          "base_uri": "https://localhost:8080/",
          "height": 34
        }
      },
      "source": [
        "%%writefile utility/hash_util.py\n",
        "import hashlib as hl\n",
        "import json\n",
        "\n",
        "#__all__ = ['hash_string_256','hash_block']\n",
        "\n",
        "def hash_string_256(string):\n",
        "  return hl.sha256(string).hexdigest()\n",
        "\n",
        "def hash_block(block):\n",
        "  #print(block)\n",
        "  hashable_block = block.__dict__.copy()\n",
        "  hashable_block['transactions'] = [tx.to_ordered_dict() for tx in hashable_block['transactions']]\n",
        "  return hash_string_256(json.dumps(hashable_block, sort_keys=True).encode())\n"
      ],
      "execution_count": 5,
      "outputs": [
        {
          "output_type": "stream",
          "text": [
            "Writing utility/hash_util.py\n"
          ],
          "name": "stdout"
        }
      ]
    },
    {
      "cell_type": "code",
      "metadata": {
        "id": "nbIFnbZT1uey",
        "colab_type": "code",
        "outputId": "e039ea7e-3ed2-4819-a7dd-addb597ff3f8",
        "colab": {
          "base_uri": "https://localhost:8080/",
          "height": 34
        }
      },
      "source": [
        "%%writefile utility/verification.py\n",
        "\"\"\" Provides verification helper methods.\"\"\"\n",
        "\n",
        "from utility.hash_util import hash_string_256, hash_block\n",
        "from wallet import Wallet\n",
        "\n",
        "class Verification:\n",
        "  \"\"\"A helper class which offer various static and class-based veriffication\"\"\"\n",
        "  @staticmethod\n",
        "  def valid_proof(transactions, last_hash, proof):\n",
        "    guess = (str([tx.to_ordered_dict() for tx in transactions]) + str(last_hash) + str(proof)).encode()\n",
        "    guess_hash = hash_string_256(guess)\n",
        "    #print(guess_hash)\n",
        "    return guess_hash[0:2] == '00'\n",
        "\n",
        "  @classmethod\n",
        "  def verify_chain(cls, blockchain):\n",
        "    \"\"\"verify current blockchain\"\"\"\n",
        "    for (index, block) in enumerate(blockchain):\n",
        "      if index == 0:\n",
        "        continue\n",
        "      if block.previous_hash != hash_block(blockchain[index -1]):\n",
        "        return False\n",
        "      if not cls.valid_proof(block.transactions[:-1], block.previous_hash, block.proof):\n",
        "        print('Prood of work invalid')\n",
        "        return False\n",
        "    return True\n",
        "\n",
        "  @staticmethod\n",
        "  def verify_transaction(transaction, get_balance, check_funds=True):\n",
        "    if check_funds:\n",
        "      sender_balance = get_balance()\n",
        "      return sender_balance >= transaction.amount and Wallet.verify_transaction(transaction)\n",
        "    else:\n",
        "      return Wallet.verify_transaction(transaction)\n",
        "\n",
        "  @classmethod\n",
        "  def verify_transactions(cls, open_transactions, get_balance):\n",
        "    return all([cls.verify_transaction(tx, get_balance, check_funds=False) for tx in open_transactions])\n"
      ],
      "execution_count": 6,
      "outputs": [
        {
          "output_type": "stream",
          "text": [
            "Writing utility/verification.py\n"
          ],
          "name": "stdout"
        }
      ]
    },
    {
      "cell_type": "code",
      "metadata": {
        "id": "JMBLDpEoy8x9",
        "colab_type": "code",
        "outputId": "b0044ce4-f896-4b70-a54d-741d1471aa85",
        "colab": {
          "base_uri": "https://localhost:8080/",
          "height": 34
        }
      },
      "source": [
        "%%writefile utility/printable.py\n",
        "class Printable:\n",
        "  def __repr__(self):\n",
        "    return str(self.__dict__)\n"
      ],
      "execution_count": 7,
      "outputs": [
        {
          "output_type": "stream",
          "text": [
            "Writing utility/printable.py\n"
          ],
          "name": "stdout"
        }
      ]
    },
    {
      "cell_type": "code",
      "metadata": {
        "id": "9HzYf_5kBCsY",
        "colab_type": "code",
        "outputId": "d1d73ca4-a8c0-47cb-f699-5bc3c8335b28",
        "colab": {
          "base_uri": "https://localhost:8080/",
          "height": 34
        }
      },
      "source": [
        "%%writefile wallet.py\n",
        "from Crypto.PublicKey import RSA\n",
        "from Crypto.Signature import PKCS1_v1_5\n",
        "from Crypto.Hash import SHA256\n",
        "import Crypto.Random\n",
        "import binascii \n",
        "import sys\n",
        "\n",
        "class Wallet:\n",
        "  def __init__(self):\n",
        "    self.private_key = None\n",
        "    self.public_key = None\n",
        "\n",
        "  def save_keys(self):\n",
        "    if self.public_key != None and self.private_key != None:\n",
        "      print(self.public_key)\n",
        "      print(self.private_key)\n",
        "      try : \n",
        "        with open('wallet.txt', mode='w') as f:\n",
        "          f.write(self.public_key)\n",
        "          f.write('\\n')\n",
        "          f.write(self.private_key)\n",
        "      except(IOError, IndexError):\n",
        "        print('Saving wallet failed ...')\n",
        "\n",
        "  def create_keys(self):\n",
        "    private_key, public_key = self.generate_keys()\n",
        "    self.private_key = private_key\n",
        "    self.public_key = public_key \n",
        "\n",
        "\n",
        "  def load_keys(self):\n",
        "    try:\n",
        "      with open('wallet.txt', mode='r') as f:\n",
        "        keys = f.readlines()\n",
        "        public_key = keys[0][:-1]\n",
        "        private_key = keys[1]\n",
        "        self.public_key = public_key\n",
        "        self.private_key = private_key\n",
        "    except(IOError, IndexError) as exc:\n",
        "      print('Loading wallet failed ...')\n",
        "      print(\"Oops!\",exc)\n",
        "      print(\"Oops!\",sys.exc_info()[0],\"occured.\")\n",
        "\n",
        "\n",
        "  def generate_keys(self):\n",
        "    private_key = RSA.generate(1024,Crypto.Random.new().read)\n",
        "    public_key = private_key.publickey()\n",
        "    return (binascii.hexlify(private_key.exportKey(format='DER')).decode('ascii'),\n",
        "            binascii.hexlify(public_key.exportKey(format='DER')).decode('ascii'))\n",
        "    \n",
        "  def sign_transaction(self, sender, recipient, amount):\n",
        "    signer = PKCS1_v1_5.new(RSA.importKey(binascii.unhexlify(self.private_key)))\n",
        "    h = SHA256.new((str(sender) + str(recipient) + str(amount)).encode('utf8'))\n",
        "    signature = signer.sign(h)\n",
        "    return binascii.hexlify(signature).decode('ascii')\n",
        "\n",
        "  @staticmethod\n",
        "  def verify_transaction(transaction):\n",
        "    public_key = RSA.importKey(binascii.unhexlify(transaction.sender))\n",
        "    verifier = PKCS1_v1_5.new(public_key)\n",
        "    h = SHA256.new((str(transaction.sender) + str(transaction.recipient) + str(transaction.amount)).encode('utf8'))\n",
        "    return verifier.verify(h, binascii.unhexlify(transaction.signature))\n"
      ],
      "execution_count": 8,
      "outputs": [
        {
          "output_type": "stream",
          "text": [
            "Writing wallet.py\n"
          ],
          "name": "stdout"
        }
      ]
    },
    {
      "cell_type": "code",
      "metadata": {
        "id": "JuTQVoR2GyIi",
        "colab_type": "code",
        "outputId": "fc2b1ee2-9e61-4c8e-8e6c-99965953de22",
        "colab": {
          "base_uri": "https://localhost:8080/",
          "height": 34
        }
      },
      "source": [
        "%%writefile node.py\n",
        "from flask_ngrok import run_with_ngrok\n",
        "from flask import Flask, jsonify\n",
        "from flask_cors import CORS\n",
        "\n",
        "from wallet import Wallet\n",
        "from blockchain import Blockchain\n",
        "\n",
        "app = Flask(__name__)\n",
        "wallet = Wallet()\n",
        "blockchain = Blockchain(wallet.public_key)\n",
        "CORS(app)\n",
        "run_with_ngrok(app)\n",
        "\n",
        "@app.route('/', methods = ['GET'])\n",
        "def get_ui():\n",
        "  return 'This works!'\n",
        "\n",
        "@app.route('/mine', methods=['POST'])\n",
        "def mine():\n",
        "  block = blockchain.mine_block()\n",
        "  if block != None:\n",
        "    dict_block = block.__dict__.copy()\n",
        "    dict_block['transactons'] = [tx .__dict__ for tx in dict_block['transactions']]\n",
        "    response = {\n",
        "      'message': 'Block added successfully.',\n",
        "      'block': dict_block\n",
        "    }\n",
        "    return jsonify(response), 201\n",
        "  else:\n",
        "    response = {\n",
        "      'message': 'Adding a block failed.',\n",
        "      'wallet_set_up': wallet.public_key != None\n",
        "    }\n",
        "    return jsonify(response), 500\n",
        "\n",
        "@app.route('/chain', methods=['GET'])\n",
        "def get_chain():\n",
        "  chain_snapshot = blockchain.chain\n",
        "  dict_chain = [block.__dict__.copy() for block in chain_snapshot ]\n",
        "  for dict_block in dict_chain:\n",
        "    dict_block['transactions'] = [tx.__dict__ for tx in dict_block['transactions']]\n",
        "  return jsonify(dict_chain), 200\n",
        "\n",
        "\n",
        "if __name__ == '__main__':\n",
        "  app.run()\n"
      ],
      "execution_count": 38,
      "outputs": [
        {
          "output_type": "stream",
          "text": [
            "Overwriting node.py\n"
          ],
          "name": "stdout"
        }
      ]
    },
    {
      "cell_type": "code",
      "metadata": {
        "id": "Bq-ghwE9IwMC",
        "colab_type": "code",
        "outputId": "7cada4e2-90b5-4626-b4ac-76a14a7f96e6",
        "colab": {
          "base_uri": "https://localhost:8080/",
          "height": 221
        }
      },
      "source": [
        "!python node.py"
      ],
      "execution_count": 39,
      "outputs": [
        {
          "output_type": "stream",
          "text": [
            "Cleanup!\n",
            " * Serving Flask app \"node\" (lazy loading)\n",
            " * Environment: production\n",
            "\u001b[31m   WARNING: This is a development server. Do not use it in a production deployment.\u001b[0m\n",
            "\u001b[2m   Use a production WSGI server instead.\u001b[0m\n",
            " * Debug mode: off\n",
            " * Running on http://127.0.0.1:5000/ (Press CTRL+C to quit)\n",
            " * Running on http://927c1be8.ngrok.io\n",
            " * Traffic stats available on http://127.0.0.1:4040\n",
            "127.0.0.1 - - [15/Mar/2020 18:52:48] \"\u001b[35m\u001b[1mPOST /mine HTTP/1.1\u001b[0m\" 500 -\n",
            "quit\n",
            "^C\n"
          ],
          "name": "stdout"
        }
      ]
    },
    {
      "cell_type": "code",
      "metadata": {
        "id": "9Z6M6aD_LGh0",
        "colab_type": "code",
        "outputId": "89298e1e-eedc-42e3-c542-43513d4bdc87",
        "colab": {
          "base_uri": "https://localhost:8080/",
          "height": 34
        }
      },
      "source": [
        "%%writefile old_node.py\n",
        "from uuid import uuid4\n",
        "from blockchain import Blockchain\n",
        "from utility.verification import Verification\n",
        "from wallet import Wallet\n",
        "\n",
        "\n",
        "class Node:\n",
        "  def __init__(self):\n",
        "    self.wallet = Wallet()\n",
        "    #self.id = str(uuid4())\n",
        "    self.wallet.create_keys()\n",
        "    self.blockchain = Blockchain(self.wallet.public_key)\n",
        "    \n",
        "\n",
        "  #using function for reusable code.\n",
        "  def get_transaction_value(self):\n",
        "    \"\"\" Retruns the input of the user(a new transaction amount) as a float\n",
        "    \"\"\"\n",
        "    tx_recipient = input('Enter the recipent of the transaction: ') \n",
        "    tx_amount = float(input('Your trasaction amount please: ')) \n",
        "    return (tx_recipient, tx_amount)\n",
        "  \n",
        "  def get_user_choice(self):\n",
        "    user_input = input('Your Choice : ')\n",
        "    return user_input\n",
        "\n",
        "  def print_blockchain_elements(self):\n",
        "    #use for loop to output the blockchain list console\n",
        "    for block in self.blockchain.chain:\n",
        "      print('outputting block : ', block)\n",
        "    else:\n",
        "      print('-' * 20)\n",
        "\n",
        "  def listen_for_input(self):\n",
        "    waiting_for_input = True\n",
        "    while waiting_for_input:\n",
        "      print('Please choose')\n",
        "      print('1: Add a new transaction value')\n",
        "      print('2: Mine a new block')\n",
        "      print('3: Output the blockchain blocks')\n",
        "      print('4: check transaction validity')\n",
        "      print('5: Create wallet')\n",
        "      print('6: load wallet')\n",
        "      print('7: Save keys')\n",
        "      print('q : Quit ')\n",
        "      user_choice = self.get_user_choice()\n",
        "      if user_choice == '1':\n",
        "        tx_data = self.get_transaction_value()\n",
        "        recipient, amount = tx_data\n",
        "        signature = self.wallet.sign_transaction(self.wallet.public_key, recipient, amount)\n",
        "        if self.blockchain.add_transaction(recipient, self.wallet.public_key, signature,amount=amount):\n",
        "          print('Added transaction')\n",
        "        else:\n",
        "          print('Tranaction failed')\n",
        "        print(self.blockchain.get_open_transactions())\n",
        "      elif user_choice == '2':\n",
        "        if not self.blockchain.mine_block():\n",
        "          print('Mining failed, got no wallet?')\n",
        "      elif user_choice == '3':\n",
        "          self.print_blockchain_elements()\n",
        "      elif user_choice == '4':\n",
        "        if Verification.verify_transactions(self.blockchain.get_open_transactions(), self.blockchain.get_balance):\n",
        "          print(\"All Transactions are valid\")\n",
        "        else:\n",
        "          print('There are invalid transaction')\n",
        "      elif user_choice == '5':\n",
        "        self.wallet.create_keys()\n",
        "        self.blockchain = Blockchain(self.wallet.public_key)\n",
        "      elif user_choice == '6':\n",
        "        self.wallet.load_keys()\n",
        "        self.blockchain = Blockchain(self.wallet.public_key)\n",
        "      elif user_choice == '7':\n",
        "        self.wallet.save_keys()\n",
        "      elif user_choice == 'q':\n",
        "        waiting_for_input = False\n",
        "      else:\n",
        "        print('Input was invalid, please pick a value from the list!')    \n",
        "      if not Verification.verify_chain(self.blockchain.chain):\n",
        "        self.print_blockchain_elements()\n",
        "        print('Invalid block chain!')\n",
        "        break\n",
        "      print('Balance of {} : {:6.2f}'.format(self.wallet.public_key, self.blockchain.get_balance()))  \n",
        "      print('Choice registered !')\n",
        "    else:\n",
        "      print('User left')\n",
        "    print('Done!') \n",
        "\n",
        "if __name__ == '__main__':\n",
        "  node = Node()\n",
        "  node.listen_for_input() \n",
        "\n",
        "#print(__name__)\n"
      ],
      "execution_count": 11,
      "outputs": [
        {
          "output_type": "stream",
          "text": [
            "Writing old_node.py\n"
          ],
          "name": "stdout"
        }
      ]
    },
    {
      "cell_type": "code",
      "metadata": {
        "id": "ToZzL_dTTWPi",
        "colab_type": "code",
        "outputId": "c8058532-cbee-4575-8b7d-1c98a9c039ee",
        "colab": {
          "base_uri": "https://localhost:8080/",
          "height": 34
        }
      },
      "source": [
        "%%writefile block.py\n",
        "from time import time\n",
        "from utility.printable import Printable\n",
        "\n",
        "class Block(Printable):\n",
        "  def __init__(self, index, previous_hash, transactions, proof, time=time()):\n",
        "    self.index = index\n",
        "    self.previous_hash = previous_hash\n",
        "    self.transactions = transactions\n",
        "    self.proof = proof\n",
        "    self.time = time\n"
      ],
      "execution_count": 12,
      "outputs": [
        {
          "output_type": "stream",
          "text": [
            "Writing block.py\n"
          ],
          "name": "stdout"
        }
      ]
    },
    {
      "cell_type": "code",
      "metadata": {
        "id": "6bN5Bs-M_xVL",
        "colab_type": "code",
        "outputId": "33c6a4bf-2410-4237-d88b-4dab6ed0b369",
        "colab": {
          "base_uri": "https://localhost:8080/",
          "height": 34
        }
      },
      "source": [
        "%%writefile transaction.py\n",
        "from collections import OrderedDict\n",
        "from utility.printable import Printable\n",
        "\n",
        "class Transaction(Printable):\n",
        "  def __init__(self, sender, recipient, signature, amount):\n",
        "    self.sender = sender\n",
        "    self.recipient = recipient\n",
        "    self.signature = signature\n",
        "    self.amount = amount\n",
        "    \n",
        "\n",
        "\n",
        "\n",
        "  def to_ordered_dict(self):\n",
        "      return OrderedDict([('sender', self.sender),\n",
        "                          ('recipient', self.recipient),\n",
        "                          ('amount', self.amount)])"
      ],
      "execution_count": 13,
      "outputs": [
        {
          "output_type": "stream",
          "text": [
            "Writing transaction.py\n"
          ],
          "name": "stdout"
        }
      ]
    },
    {
      "cell_type": "code",
      "metadata": {
        "id": "dWqTbNOQflni",
        "colab_type": "code",
        "colab": {
          "base_uri": "https://localhost:8080/",
          "height": 34
        },
        "outputId": "cfff52bd-882e-444e-8fdc-6c1a66b79a8a"
      },
      "source": [
        "%%writefile old_blockchain.py\n",
        "# try except block : \n",
        "#####################################################\n",
        "import functools\n",
        "import hashlib as hl\n",
        "import json\n",
        "from collections import OrderedDict\n",
        "import sys\n",
        "\n",
        "from utility.hash_util import  hash_block\n",
        "from block import Block\n",
        "from transaction import Transaction\n",
        "from time import time\n",
        "from utility.verification import Verification\n",
        "from wallet import Wallet\n",
        "\n",
        "#global variable\n",
        "MINING_REWARD = 10\n",
        "\n",
        "#print(__name__)\n",
        "\n",
        "class Blockchain:\n",
        "  def __init__(self, hosting_node_id):\n",
        "    genesis_block = Block(index = 0,\n",
        "                        previous_hash= '',\n",
        "                        transactions = [],\n",
        "                        proof = 100,\n",
        "                        time = 0)\n",
        "\n",
        "    self.chain = [genesis_block]\n",
        "    self._open_transactions = []\n",
        "    self.hosting_node = hosting_node_id\n",
        "    owner = 'Sumith'\n",
        "    participants = {owner}\n",
        "    self.load_data()\n",
        "\n",
        "  @property\n",
        "  def chain(self):\n",
        "      return self._chain[:]\n",
        "  \n",
        "  @chain.setter\n",
        "  def chain(self, val):\n",
        "    self._chain = val\n",
        "\n",
        "  def get_open_transactions(self):\n",
        "    return self._open_transactions[:]\n",
        "\n",
        "  def load_data(self):\n",
        "    try:\n",
        "      with open('blockchain.txt', mode='r') as f:\n",
        "        file_content = f.readlines()\n",
        "\n",
        "        blockchain = json.loads(file_content[0][:-1])\n",
        "        updated_blockchain=[]\n",
        "        for block in blockchain:\n",
        "          converted_tx = [Transaction(tx['sender'],\n",
        "                                      tx['recipient'],\n",
        "                                      tx['signature'],\n",
        "                                      tx['amount']) for tx in block['transactions']]\n",
        "          updated_block = Block(block['index'],\n",
        "                                block['previous_hash'],\n",
        "                                converted_tx,\n",
        "                                block['proof'],\n",
        "                                block['time'])\n",
        "          updated_blockchain.append(updated_block)\n",
        "        self.chain = updated_blockchain\n",
        "      \n",
        "        open_transactions = json.loads(file_content[1])\n",
        "        updated_transactions = []\n",
        "        for tx in open_transactions:\n",
        "          updated_transaction = Transaction(tx['sender'],\n",
        "                                             tx['recipient'],\n",
        "                                            tx['signature'],\n",
        "                                             tx['amount'])\n",
        "          updated_transactions.append(updated_transaction) \n",
        "        self._open_transactions = updated_transactions\n",
        "    except (IOError, IndexError):                    \n",
        "      pass\n",
        "    except ValueError:\n",
        "      print('Value error!')\n",
        "    except Exception as exc:\n",
        "      print(\"Oops!\",exc)\n",
        "      print(\"Oops!\",sys.exc_info()[0],\"occured.\")\n",
        "      sys.exit(1)\n",
        "    finally:\n",
        "      print('Cleanup!')\n",
        "\n",
        "  def save_data(self):\n",
        "    try :\n",
        "      with open('blockchain.txt', mode='w') as f:\n",
        "        saveable_chain = [block.__dict__ for block in [Block(\n",
        "            block_el.index,\n",
        "            block_el.previous_hash,\n",
        "            [tx.__dict__ for tx in block_el.transactions],\n",
        "            block_el.proof,\n",
        "            block_el.time\n",
        "            ) for block_el in self._chain]]\n",
        "\n",
        "        f.write(json.dumps(saveable_chain))\n",
        "        f.write('\\n')\n",
        "        saveable_tx = [tx.__dict__ for tx in self._open_transactions]\n",
        "        f.write(json.dumps(saveable_tx))\n",
        "    except IOError:\n",
        "      print('Error saving file!')\n",
        "\n",
        "  def proof_of_work(self):\n",
        "    last_block = self._chain[-1]\n",
        "    last_hash = hash_block(last_block)\n",
        "    proof = 0\n",
        "    while not Verification.valid_proof(self._open_transactions, last_hash, proof):\n",
        "      proof += 1\n",
        "    return proof\n",
        "\n",
        "  def get_balance(self):\n",
        "    participant = self.hosting_node\n",
        "    tx_sender = [[tx.amount for tx in block.transactions if tx.sender == participant] for block in self._chain]\n",
        "    open_tx_sender = [tx.amount for tx in self._open_transactions if tx.sender == participant]\n",
        "    tx_sender.append(open_tx_sender)\n",
        "    amount_sent = functools.reduce(lambda tx_sum, tx_amt: tx_sum + sum(tx_amt) if len(tx_amt) > 0 else tx_sum + 0, tx_sender,0)\n",
        "    tx_recipient = [[tx.amount for tx in block.transactions if tx.recipient == participant] for block in self._chain]\n",
        "    amount_received = functools.reduce(lambda tx_sum, tx_amt: tx_sum + sum(tx_amt) if len(tx_amt) > 0 else tx_sum + 0, tx_recipient,0)\n",
        "    return  amount_received - amount_sent\n",
        "\n",
        "\n",
        "  def get_last_blockchain_value(self):\n",
        "    \"\"\" returns the last value of the current bloackchain \"\"\"\n",
        "    #function to return the value\n",
        "    if len(self._chain) < 1 :\n",
        "      return None\n",
        "    return self._chain[-1]\n",
        "\n",
        "  def add_transaction(self, recipient,sender, signature, amount=1.0):\n",
        "    if self.hosting_node == None:\n",
        "      return False\n",
        "    transaction = Transaction(sender, recipient, signature, amount)\n",
        "    if Verification.verify_transaction(transaction, self.get_balance):\n",
        "      self._open_transactions.append(transaction)\n",
        "      self.save_data()\n",
        "      return True\n",
        "    return False\n",
        "\n",
        "  def mine_block(self):\n",
        "    if self.hosting_node == None:\n",
        "      return False\n",
        "    last_block = self._chain[-1]\n",
        "    hashed_block = hash_block(last_block)\n",
        "    proof = self.proof_of_work() \n",
        "    reward_transaction = Transaction(sender = 'MINING', recipient = self.hosting_node, signature = '', amount = MINING_REWARD)\n",
        "    copied_transactions = self._open_transactions[:]\n",
        "    for tx in copied_transactions:\n",
        "      if not Wallet.verify_transaction(tx):\n",
        "        return False\n",
        "    copied_transactions.append(reward_transaction)\n",
        "    block = Block(index = len(self._chain),\n",
        "                        previous_hash = hashed_block,\n",
        "                        transactions = copied_transactions,\n",
        "                        proof = proof,\n",
        "                        time = 0)\n",
        "    self._chain.append(block)\n",
        "    self._open_transactions = []\n",
        "    self.save_data()\n",
        "    return True\n",
        "\n",
        "\n"
      ],
      "execution_count": 26,
      "outputs": [
        {
          "output_type": "stream",
          "text": [
            "Writing old_blockchain.py\n"
          ],
          "name": "stdout"
        }
      ]
    },
    {
      "cell_type": "code",
      "metadata": {
        "id": "BPGxXDSQ4tuO",
        "colab_type": "code",
        "outputId": "69ecb8d5-6bd5-48a1-cd1d-385d7e9f652b",
        "colab": {
          "base_uri": "https://localhost:8080/",
          "height": 34
        }
      },
      "source": [
        "%%writefile blockchain.py\n",
        "# try except block : \n",
        "#####################################################\n",
        "import functools\n",
        "import hashlib as hl\n",
        "import json\n",
        "from collections import OrderedDict\n",
        "import sys\n",
        "\n",
        "from utility.hash_util import  hash_block\n",
        "from block import Block\n",
        "from transaction import Transaction\n",
        "from time import time\n",
        "from utility.verification import Verification\n",
        "from wallet import Wallet\n",
        "\n",
        "#global variable\n",
        "MINING_REWARD = 10\n",
        "\n",
        "#print(__name__)\n",
        "\n",
        "class Blockchain:\n",
        "  def __init__(self, hosting_node_id):\n",
        "    genesis_block = Block(index = 0,\n",
        "                        previous_hash= '',\n",
        "                        transactions = [],\n",
        "                        proof = 100,\n",
        "                        time = 0)\n",
        "\n",
        "    self.chain = [genesis_block]\n",
        "    self._open_transactions = []\n",
        "    self.hosting_node = hosting_node_id\n",
        "    owner = 'Sumith'\n",
        "    participants = {owner}\n",
        "    self.load_data()\n",
        "\n",
        "  @property\n",
        "  def chain(self):\n",
        "      return self._chain[:]\n",
        "  \n",
        "  @chain.setter\n",
        "  def chain(self, val):\n",
        "    self._chain = val\n",
        "\n",
        "  def get_open_transactions(self):\n",
        "    return self._open_transactions[:]\n",
        "\n",
        "  def load_data(self):\n",
        "    try:\n",
        "      with open('blockchain.txt', mode='r') as f:\n",
        "        file_content = f.readlines()\n",
        "\n",
        "        blockchain = json.loads(file_content[0][:-1])\n",
        "        updated_blockchain=[]\n",
        "        for block in blockchain:\n",
        "          converted_tx = [Transaction(tx['sender'],\n",
        "                                      tx['recipient'],\n",
        "                                      tx['signature'],\n",
        "                                      tx['amount']) for tx in block['transactions']]\n",
        "          updated_block = Block(block['index'],\n",
        "                                block['previous_hash'],\n",
        "                                converted_tx,\n",
        "                                block['proof'],\n",
        "                                block['time'])\n",
        "          updated_blockchain.append(updated_block)\n",
        "        self.chain = updated_blockchain\n",
        "      \n",
        "        open_transactions = json.loads(file_content[1])\n",
        "        updated_transactions = []\n",
        "        for tx in open_transactions:\n",
        "          updated_transaction = Transaction(tx['sender'],\n",
        "                                             tx['recipient'],\n",
        "                                            tx['signature'],\n",
        "                                             tx['amount'])\n",
        "          updated_transactions.append(updated_transaction) \n",
        "        self._open_transactions = updated_transactions\n",
        "    except (IOError, IndexError):                    \n",
        "      pass\n",
        "    except ValueError:\n",
        "      print('Value error!')\n",
        "    except Exception as exc:\n",
        "      print(\"Oops!\",exc)\n",
        "      print(\"Oops!\",sys.exc_info()[0],\"occured.\")\n",
        "      sys.exit(1)\n",
        "    finally:\n",
        "      print('Cleanup!')\n",
        "\n",
        "  def save_data(self):\n",
        "    try :\n",
        "      with open('blockchain.txt', mode='w') as f:\n",
        "        saveable_chain = [block.__dict__ for block in [Block(\n",
        "            block_el.index,\n",
        "            block_el.previous_hash,\n",
        "            [tx.__dict__ for tx in block_el.transactions],\n",
        "            block_el.proof,\n",
        "            block_el.time\n",
        "            ) for block_el in self._chain]]\n",
        "\n",
        "        f.write(json.dumps(saveable_chain))\n",
        "        f.write('\\n')\n",
        "        saveable_tx = [tx.__dict__ for tx in self._open_transactions]\n",
        "        f.write(json.dumps(saveable_tx))\n",
        "    except IOError:\n",
        "      print('Error saving file!')\n",
        "\n",
        "  def proof_of_work(self):\n",
        "    last_block = self._chain[-1]\n",
        "    last_hash = hash_block(last_block)\n",
        "    proof = 0\n",
        "    while not Verification.valid_proof(self._open_transactions, last_hash, proof):\n",
        "      proof += 1\n",
        "    return proof\n",
        "\n",
        "  def get_balance(self):\n",
        "    participant = self.hosting_node\n",
        "    tx_sender = [[tx.amount for tx in block.transactions if tx.sender == participant] for block in self._chain]\n",
        "    open_tx_sender = [tx.amount for tx in self._open_transactions if tx.sender == participant]\n",
        "    tx_sender.append(open_tx_sender)\n",
        "    amount_sent = functools.reduce(lambda tx_sum, tx_amt: tx_sum + sum(tx_amt) if len(tx_amt) > 0 else tx_sum + 0, tx_sender,0)\n",
        "    tx_recipient = [[tx.amount for tx in block.transactions if tx.recipient == participant] for block in self._chain]\n",
        "    amount_received = functools.reduce(lambda tx_sum, tx_amt: tx_sum + sum(tx_amt) if len(tx_amt) > 0 else tx_sum + 0, tx_recipient,0)\n",
        "    return  amount_received - amount_sent\n",
        "\n",
        "\n",
        "  def get_last_blockchain_value(self):\n",
        "    \"\"\" returns the last value of the current bloackchain \"\"\"\n",
        "    #function to return the value\n",
        "    if len(self._chain) < 1 :\n",
        "      return None\n",
        "    return self._chain[-1]\n",
        "\n",
        "  def add_transaction(self, recipient,sender, signature, amount=1.0):\n",
        "    if self.hosting_node == None:\n",
        "      return False\n",
        "    transaction = Transaction(sender, recipient, signature, amount)\n",
        "    if Verification.verify_transaction(transaction, self.get_balance):\n",
        "      self._open_transactions.append(transaction)\n",
        "      self.save_data()\n",
        "      return True\n",
        "    return False\n",
        "\n",
        "  def mine_block(self):\n",
        "    if self.hosting_node == None:\n",
        "      return None\n",
        "    last_block = self._chain[-1]\n",
        "    hashed_block = hash_block(last_block)\n",
        "    proof = self.proof_of_work() \n",
        "    reward_transaction = Transaction(sender = 'MINING', recipient = self.hosting_node, signature = '', amount = MINING_REWARD)\n",
        "    copied_transactions = self._open_transactions[:]\n",
        "    for tx in copied_transactions:\n",
        "      if not Wallet.verify_transaction(tx):\n",
        "        return None\n",
        "    copied_transactions.append(reward_transaction)\n",
        "    block = Block(index = len(self._chain),\n",
        "                        previous_hash = hashed_block,\n",
        "                        transactions = copied_transactions,\n",
        "                        proof = proof,\n",
        "                        time = 0)\n",
        "    self._chain.append(block)\n",
        "    self._open_transactions = []\n",
        "    self.save_data()\n",
        "    return block\n",
        "\n",
        "\n"
      ],
      "execution_count": 37,
      "outputs": [
        {
          "output_type": "stream",
          "text": [
            "Overwriting blockchain.py\n"
          ],
          "name": "stdout"
        }
      ]
    },
    {
      "cell_type": "code",
      "metadata": {
        "id": "D7WqmlW_BL94",
        "colab_type": "code",
        "outputId": "c49a5fa4-75de-4b34-f743-c243fc8017bf",
        "colab": {
          "base_uri": "https://localhost:8080/",
          "height": 1000
        }
      },
      "source": [
        "!python old_node.py"
      ],
      "execution_count": 22,
      "outputs": [
        {
          "output_type": "stream",
          "text": [
            "Cleanup!\n",
            "Please choose\n",
            "1: Add a new transaction value\n",
            "2: Mine a new block\n",
            "3: Output the blockchain blocks\n",
            "4: check transaction validity\n",
            "5: Create wallet\n",
            "6: load wallet\n",
            "7: Save keys\n",
            "q : Quit \n",
            "Your Choice : 2\n",
            "Balance of 30819f300d06092a864886f70d010101050003818d0030818902818100b8a47bcf967bc7e1376cd7562898bf2a46f65a20f2fa9fd2f32fea2f2eba68f66d65ecaa6ed60e0340e94be2dfb31edd407d53d0f5e3cdcb475dd3abf3f70a8e798cd680c0c9d6243cff1d7f6623322fc2ba616047ba70dea472d9742382434a0d850435cc68e9bda7dcc4781a6fe2d94e48e3d96cd6144921d7fd07d306bf5d0203010001 :  10.00\n",
            "Choice registered !\n",
            "Please choose\n",
            "1: Add a new transaction value\n",
            "2: Mine a new block\n",
            "3: Output the blockchain blocks\n",
            "4: check transaction validity\n",
            "5: Create wallet\n",
            "6: load wallet\n",
            "7: Save keys\n",
            "q : Quit \n",
            "Your Choice : 1\n",
            "Enter the recipent of the transaction: we\n",
            "Your trasaction amount please: 2\n",
            "Added transaction\n",
            "[{'sender': '30819f300d06092a864886f70d010101050003818d0030818902818100b8a47bcf967bc7e1376cd7562898bf2a46f65a20f2fa9fd2f32fea2f2eba68f66d65ecaa6ed60e0340e94be2dfb31edd407d53d0f5e3cdcb475dd3abf3f70a8e798cd680c0c9d6243cff1d7f6623322fc2ba616047ba70dea472d9742382434a0d850435cc68e9bda7dcc4781a6fe2d94e48e3d96cd6144921d7fd07d306bf5d0203010001', 'recipient': 'we', 'signature': '0ec209dfbfc5176b664fa442fadcf0eba56239d41af267a355cba535cabebf200adceb69f067702f81803e1edb41d94cef4edb97db6492a2fdbba9a700ac16d9889bc07ad8d936422265ed101605d6a28e2c50a856d3efa939cfc26a3997c4a009ab771168a9a7708929c3a58933fa55bd89159a2928b58754adb70eadfaa8f1', 'amount': 2.0}]\n",
            "Balance of 30819f300d06092a864886f70d010101050003818d0030818902818100b8a47bcf967bc7e1376cd7562898bf2a46f65a20f2fa9fd2f32fea2f2eba68f66d65ecaa6ed60e0340e94be2dfb31edd407d53d0f5e3cdcb475dd3abf3f70a8e798cd680c0c9d6243cff1d7f6623322fc2ba616047ba70dea472d9742382434a0d850435cc68e9bda7dcc4781a6fe2d94e48e3d96cd6144921d7fd07d306bf5d0203010001 :   8.00\n",
            "Choice registered !\n",
            "Please choose\n",
            "1: Add a new transaction value\n",
            "2: Mine a new block\n",
            "3: Output the blockchain blocks\n",
            "4: check transaction validity\n",
            "5: Create wallet\n",
            "6: load wallet\n",
            "7: Save keys\n",
            "q : Quit \n",
            "Your Choice : 2\n",
            "Balance of 30819f300d06092a864886f70d010101050003818d0030818902818100b8a47bcf967bc7e1376cd7562898bf2a46f65a20f2fa9fd2f32fea2f2eba68f66d65ecaa6ed60e0340e94be2dfb31edd407d53d0f5e3cdcb475dd3abf3f70a8e798cd680c0c9d6243cff1d7f6623322fc2ba616047ba70dea472d9742382434a0d850435cc68e9bda7dcc4781a6fe2d94e48e3d96cd6144921d7fd07d306bf5d0203010001 :  18.00\n",
            "Choice registered !\n",
            "Please choose\n",
            "1: Add a new transaction value\n",
            "2: Mine a new block\n",
            "3: Output the blockchain blocks\n",
            "4: check transaction validity\n",
            "5: Create wallet\n",
            "6: load wallet\n",
            "7: Save keys\n",
            "q : Quit \n",
            "Your Choice : 7\n",
            "30819f300d06092a864886f70d010101050003818d0030818902818100b8a47bcf967bc7e1376cd7562898bf2a46f65a20f2fa9fd2f32fea2f2eba68f66d65ecaa6ed60e0340e94be2dfb31edd407d53d0f5e3cdcb475dd3abf3f70a8e798cd680c0c9d6243cff1d7f6623322fc2ba616047ba70dea472d9742382434a0d850435cc68e9bda7dcc4781a6fe2d94e48e3d96cd6144921d7fd07d306bf5d0203010001\n",
            "3082025c02010002818100b8a47bcf967bc7e1376cd7562898bf2a46f65a20f2fa9fd2f32fea2f2eba68f66d65ecaa6ed60e0340e94be2dfb31edd407d53d0f5e3cdcb475dd3abf3f70a8e798cd680c0c9d6243cff1d7f6623322fc2ba616047ba70dea472d9742382434a0d850435cc68e9bda7dcc4781a6fe2d94e48e3d96cd6144921d7fd07d306bf5d020301000102818061191e82ebffebfce3c8b8f4f6245d633e2e0ef784cf877cc7a64ae0c512026094e724adfbdb554320bf8ec8a01af2002809c02a0324e8f41d7399fcb32f16bd30522dd09815cf7c8b76885d7f4215daca76c8e6a231a590dc2798ff05ef658f80c175eb353d0b068d93de29e271c8b016bd63757db85c3062d731b048175981024100c68763054f9b994b4d684448c9c9a34326872a699e92e4bf29cf7ea0ad161d4ea9539336414d6da6eef3e35f4de784fc42e6fb16ced0395ede33b96b7140c04b024100ee18015dec7f7952e9814ef660372c4d969a3b42e11218d236f34d3a64b9ca3d2fc6124cf3285183a48258332dc8765515fa8dd1d236a0da1ba6f6c7738b45f7024020337986350161fdead24cb119b9d0f7655a6b30b27dd50884b9992a6aa8b99c36aecda3f137a3df7dc6a54ca210396bc95639c7db47bee67a581d6d25f380bd02403794ad050307830802f0a7c14616bb25e5a95d7a30566c2aee9eff81493041f0e4ad256a873cfb4272ede6af13d9ff1dbfc2bcc6a57f112fb952d1bb1fd2fc6302410086eb2a17a51de1419df2ce508b297e6ce512f6511839f69cf99694fff017761115951892a06019717172a1a3ed4bfd52085a2b86d0f3ca6443bcd7fe31f5aa06\n",
            "Balance of 30819f300d06092a864886f70d010101050003818d0030818902818100b8a47bcf967bc7e1376cd7562898bf2a46f65a20f2fa9fd2f32fea2f2eba68f66d65ecaa6ed60e0340e94be2dfb31edd407d53d0f5e3cdcb475dd3abf3f70a8e798cd680c0c9d6243cff1d7f6623322fc2ba616047ba70dea472d9742382434a0d850435cc68e9bda7dcc4781a6fe2d94e48e3d96cd6144921d7fd07d306bf5d0203010001 :  18.00\n",
            "Choice registered !\n",
            "Please choose\n",
            "1: Add a new transaction value\n",
            "2: Mine a new block\n",
            "3: Output the blockchain blocks\n",
            "4: check transaction validity\n",
            "5: Create wallet\n",
            "6: load wallet\n",
            "7: Save keys\n",
            "q : Quit \n",
            "Your Choice : 5\n",
            "Cleanup!\n",
            "Balance of 30819f300d06092a864886f70d010101050003818d00308189028181008e94257ce1ad9a8f1f2f9d778d4db09729107e5aece4238c0502fb78712c346e1217201480560379ae1a447dbaa498e0ff2a6aa670d0429c573df72f289f872feb911521e3181570ff483071f979ad0487059ecfbf47fc68b81a0e9a5c574333fcf2fdbd8e8a438040692f2665eca7498c2a0fceb914da5a2be9d41a9a546d7d0203010001 :   0.00\n",
            "Choice registered !\n",
            "Please choose\n",
            "1: Add a new transaction value\n",
            "2: Mine a new block\n",
            "3: Output the blockchain blocks\n",
            "4: check transaction validity\n",
            "5: Create wallet\n",
            "6: load wallet\n",
            "7: Save keys\n",
            "q : Quit \n",
            "Your Choice : 2\n",
            "Balance of 30819f300d06092a864886f70d010101050003818d00308189028181008e94257ce1ad9a8f1f2f9d778d4db09729107e5aece4238c0502fb78712c346e1217201480560379ae1a447dbaa498e0ff2a6aa670d0429c573df72f289f872feb911521e3181570ff483071f979ad0487059ecfbf47fc68b81a0e9a5c574333fcf2fdbd8e8a438040692f2665eca7498c2a0fceb914da5a2be9d41a9a546d7d0203010001 :  10.00\n",
            "Choice registered !\n",
            "Please choose\n",
            "1: Add a new transaction value\n",
            "2: Mine a new block\n",
            "3: Output the blockchain blocks\n",
            "4: check transaction validity\n",
            "5: Create wallet\n",
            "6: load wallet\n",
            "7: Save keys\n",
            "q : Quit \n",
            "Your Choice : 1\n",
            "Enter the recipent of the transaction: we\n",
            "Your trasaction amount please: 2\n",
            "Added transaction\n",
            "[{'sender': '30819f300d06092a864886f70d010101050003818d00308189028181008e94257ce1ad9a8f1f2f9d778d4db09729107e5aece4238c0502fb78712c346e1217201480560379ae1a447dbaa498e0ff2a6aa670d0429c573df72f289f872feb911521e3181570ff483071f979ad0487059ecfbf47fc68b81a0e9a5c574333fcf2fdbd8e8a438040692f2665eca7498c2a0fceb914da5a2be9d41a9a546d7d0203010001', 'recipient': 'we', 'signature': '7ed7c4393a6456c4a9463c09b4e7492950782786ba27fd1a3e0e61c00c5d09c9e57ee5b8e20fe43c0c41689dade08911585cd1bcbc9cfa3415554ec1be20a008697d4975d27479910c8a392f1d79f5472b999ad5b7c8b2ff4b46faea2d012686c5226f045c34754fc541ccced51e595ce6c85ad3076f80a1a3e204e9fb693cc1', 'amount': 2.0}]\n",
            "Balance of 30819f300d06092a864886f70d010101050003818d00308189028181008e94257ce1ad9a8f1f2f9d778d4db09729107e5aece4238c0502fb78712c346e1217201480560379ae1a447dbaa498e0ff2a6aa670d0429c573df72f289f872feb911521e3181570ff483071f979ad0487059ecfbf47fc68b81a0e9a5c574333fcf2fdbd8e8a438040692f2665eca7498c2a0fceb914da5a2be9d41a9a546d7d0203010001 :   8.00\n",
            "Choice registered !\n",
            "Please choose\n",
            "1: Add a new transaction value\n",
            "2: Mine a new block\n",
            "3: Output the blockchain blocks\n",
            "4: check transaction validity\n",
            "5: Create wallet\n",
            "6: load wallet\n",
            "7: Save keys\n",
            "q : Quit \n",
            "Your Choice : 2\n",
            "Balance of 30819f300d06092a864886f70d010101050003818d00308189028181008e94257ce1ad9a8f1f2f9d778d4db09729107e5aece4238c0502fb78712c346e1217201480560379ae1a447dbaa498e0ff2a6aa670d0429c573df72f289f872feb911521e3181570ff483071f979ad0487059ecfbf47fc68b81a0e9a5c574333fcf2fdbd8e8a438040692f2665eca7498c2a0fceb914da5a2be9d41a9a546d7d0203010001 :  18.00\n",
            "Choice registered !\n",
            "Please choose\n",
            "1: Add a new transaction value\n",
            "2: Mine a new block\n",
            "3: Output the blockchain blocks\n",
            "4: check transaction validity\n",
            "5: Create wallet\n",
            "6: load wallet\n",
            "7: Save keys\n",
            "q : Quit \n",
            "Your Choice : 7\n",
            "30819f300d06092a864886f70d010101050003818d00308189028181008e94257ce1ad9a8f1f2f9d778d4db09729107e5aece4238c0502fb78712c346e1217201480560379ae1a447dbaa498e0ff2a6aa670d0429c573df72f289f872feb911521e3181570ff483071f979ad0487059ecfbf47fc68b81a0e9a5c574333fcf2fdbd8e8a438040692f2665eca7498c2a0fceb914da5a2be9d41a9a546d7d0203010001\n",
            "3082025b020100028181008e94257ce1ad9a8f1f2f9d778d4db09729107e5aece4238c0502fb78712c346e1217201480560379ae1a447dbaa498e0ff2a6aa670d0429c573df72f289f872feb911521e3181570ff483071f979ad0487059ecfbf47fc68b81a0e9a5c574333fcf2fdbd8e8a438040692f2665eca7498c2a0fceb914da5a2be9d41a9a546d7d020301000102818072713f55e9df6afc0e502dd8d436d3d3c14657e5abd7c32094b53c1c04db328a5742f0a10412066018fb449696c59f6099eff602faf26f450651daa2a3bcc8c8df4c41b7f479073a56133c5ce6fb1d3c7e604bbdb7e3029cf36f56fd620af8092d1c383f6f45aa245b2652b45938d8918b4b588020f3ab980236e83e8f5d2d81024100bb2b96df31ad9baaeff92ac5b03df46cb6fb4fd55e13a896a3f61e499403315c0aaf116c00af1dcd6e2e737ef4438da1a24cf76b33b71c8793ae3f45807d1b89024100c302a88a42742bda832eee144c1344ed406f2c0bbed0563c0fea30afcfbe4961415e81e10ab4f797bcc8badcc81fa402917b970ed10347873179d77f3cc8c155024018749a92f117c0f635c2b5aefcd72b7fa4ecf3426ab760d8c5f59b817ba06b2b9e8dbf560044e13cfd3f7e81c102ae97c6f00d87e94aeca45e4c6f21f2a6e61902407d82847f17ee351b5a3b2638220e74da4e123f42fff88ec7f1664517a29952192a3d6d522dd5f354d1c84f9c31a14ba9eb80a3e481599efbc0382f1e513cd451024072998e06cedec1881eda2d98ed408e2ba5b00365125e2bcbfea1521bff4d4d96993f556573532aa63fba9c67c8429dedcc49d8804c945ccb840d8e5ae0c24db1\n",
            "Balance of 30819f300d06092a864886f70d010101050003818d00308189028181008e94257ce1ad9a8f1f2f9d778d4db09729107e5aece4238c0502fb78712c346e1217201480560379ae1a447dbaa498e0ff2a6aa670d0429c573df72f289f872feb911521e3181570ff483071f979ad0487059ecfbf47fc68b81a0e9a5c574333fcf2fdbd8e8a438040692f2665eca7498c2a0fceb914da5a2be9d41a9a546d7d0203010001 :  18.00\n",
            "Choice registered !\n",
            "Please choose\n",
            "1: Add a new transaction value\n",
            "2: Mine a new block\n",
            "3: Output the blockchain blocks\n",
            "4: check transaction validity\n",
            "5: Create wallet\n",
            "6: load wallet\n",
            "7: Save keys\n",
            "q : Quit \n",
            "Your Choice : q\n",
            "Balance of 30819f300d06092a864886f70d010101050003818d00308189028181008e94257ce1ad9a8f1f2f9d778d4db09729107e5aece4238c0502fb78712c346e1217201480560379ae1a447dbaa498e0ff2a6aa670d0429c573df72f289f872feb911521e3181570ff483071f979ad0487059ecfbf47fc68b81a0e9a5c574333fcf2fdbd8e8a438040692f2665eca7498c2a0fceb914da5a2be9d41a9a546d7d0203010001 :  18.00\n",
            "Choice registered !\n",
            "User left\n",
            "Done!\n"
          ],
          "name": "stdout"
        }
      ]
    },
    {
      "cell_type": "code",
      "metadata": {
        "id": "nSAkD7TGZrvQ",
        "colab_type": "code",
        "outputId": "16259744-187a-4bcd-ac0f-dad2e9b5cffd",
        "colab": {
          "base_uri": "https://localhost:8080/",
          "height": 785
        }
      },
      "source": [
        "!python node.py"
      ],
      "execution_count": 0,
      "outputs": [
        {
          "output_type": "stream",
          "text": [
            "Cleanup!\n",
            "Please choose\n",
            "1: Add a new transaction value\n",
            "2: Mine a new block\n",
            "3: Output the blockchain blocks\n",
            "4: check transaction validity\n",
            "5: Create wallet\n",
            "6: load wallet\n",
            "7: Save keys\n",
            "q : Quit \n",
            "Your Choice : 6\n",
            "Cleanup!\n",
            "Balance of 30819f300d06092a864886f70d010101050003818d0030818902818100bf2637c3883270f78954e4896e0e7299640a475fe2386e8a125410331065f72d46f67890813f9caa12deec2beacbdf7ab463630457dd960e3d1a039d56167628ccd506f82e81330017d645fb0f5dd9c48e47e42b05047a0963e4258b60e8b703e6f23513ec25798dd7092a736759e44809d7ba215a44a88f8279cdddd460607f0203010001 :  15.00\n",
            "Choice registered !\n",
            "Please choose\n",
            "1: Add a new transaction value\n",
            "2: Mine a new block\n",
            "3: Output the blockchain blocks\n",
            "4: check transaction validity\n",
            "5: Create wallet\n",
            "6: load wallet\n",
            "7: Save keys\n",
            "q : Quit \n",
            "Your Choice : 3\n",
            "outputting block :  {'index': 0, 'previous_hash': '', 'transactions': [], 'proof': 100, 'time': 0}\n",
            "outputting block :  {'index': 1, 'previous_hash': 'f43bf96b7d7071552937a9fa0a82076d92554d2d593eaf76d8e77f19bd7cf5b8', 'transactions': [{'sender': 'MINING', 'recipient': '30819f300d06092a864886f70d010101050003818d0030818902818100bf2637c3883270f78954e4896e0e7299640a475fe2386e8a125410331065f72d46f67890813f9caa12deec2beacbdf7ab463630457dd960e3d1a039d56167628ccd506f82e81330017d645fb0f5dd9c48e47e42b05047a0963e4258b60e8b703e6f23513ec25798dd7092a736759e44809d7ba215a44a88f8279cdddd460607f0203010001', 'signature': '', 'amount': 10}], 'proof': 195, 'time': 0}\n",
            "outputting block :  {'index': 2, 'previous_hash': 'c61d14b62113e05baf4713f34466d8118506f46cd73c3c822378c9f31b1735f3', 'transactions': [{'sender': '30819f300d06092a864886f70d010101050003818d0030818902818100bf2637c3883270f78954e4896e0e7299640a475fe2386e8a125410331065f72d46f67890813f9caa12deec2beacbdf7ab463630457dd960e3d1a039d56167628ccd506f82e81330017d645fb0f5dd9c48e47e42b05047a0963e4258b60e8b703e6f23513ec25798dd7092a736759e44809d7ba215a44a88f8279cdddd460607f0203010001', 'recipient': 'we', 'signature': '1bfa04e07e44e3665bfacbe50e565db5521782a5b6ef8ec4e76b031a5f9a23b944c8cad64b11b29c78ac787b15a8ab63b2a1b9e0a79b9a8b8f1ac4f81f4f49829c33d641cba6a4cafee9c91058509a49a270266f5a723238e027819964250474f872fe7d24db9284514c3e788371d1a3784b9ec5c3a1fba1351bcfd16d51c34a', 'amount': 3.0}, {'sender': '30819f300d06092a864886f70d010101050003818d0030818902818100bf2637c3883270f78954e4896e0e7299640a475fe2386e8a125410331065f72d46f67890813f9caa12deec2beacbdf7ab463630457dd960e3d1a039d56167628ccd506f82e81330017d645fb0f5dd9c48e47e42b05047a0963e4258b60e8b703e6f23513ec25798dd7092a736759e44809d7ba215a44a88f8279cdddd460607f0203010001', 'recipient': 'uu', 'signature': '8211b8d22de75e0992f41895a9277eed4b8af96dc179203251f959a0f15fa11c02185b9d33c7cb714916817630da805248066b3bf0e518865ee156d73deb6950bc559477f580930ad5a2be066e39f90a14a48a4d9cec750598b4e7cc19b5c1c5b512ed810f08c306c259d9737b156eef980cff29891d4550f79ee448bfd258eb', 'amount': 2.0}, {'sender': 'MINING', 'recipient': '30819f300d06092a864886f70d010101050003818d0030818902818100bf2637c3883270f78954e4896e0e7299640a475fe2386e8a125410331065f72d46f67890813f9caa12deec2beacbdf7ab463630457dd960e3d1a039d56167628ccd506f82e81330017d645fb0f5dd9c48e47e42b05047a0963e4258b60e8b703e6f23513ec25798dd7092a736759e44809d7ba215a44a88f8279cdddd460607f0203010001', 'signature': '', 'amount': 10}], 'proof': 165, 'time': 0}\n",
            "--------------------\n",
            "Balance of 30819f300d06092a864886f70d010101050003818d0030818902818100bf2637c3883270f78954e4896e0e7299640a475fe2386e8a125410331065f72d46f67890813f9caa12deec2beacbdf7ab463630457dd960e3d1a039d56167628ccd506f82e81330017d645fb0f5dd9c48e47e42b05047a0963e4258b60e8b703e6f23513ec25798dd7092a736759e44809d7ba215a44a88f8279cdddd460607f0203010001 :  15.00\n",
            "Choice registered !\n",
            "Please choose\n",
            "1: Add a new transaction value\n",
            "2: Mine a new block\n",
            "3: Output the blockchain blocks\n",
            "4: check transaction validity\n",
            "5: Create wallet\n",
            "6: load wallet\n",
            "7: Save keys\n",
            "q : Quit \n",
            "Your Choice : q\n",
            "Balance of 30819f300d06092a864886f70d010101050003818d0030818902818100bf2637c3883270f78954e4896e0e7299640a475fe2386e8a125410331065f72d46f67890813f9caa12deec2beacbdf7ab463630457dd960e3d1a039d56167628ccd506f82e81330017d645fb0f5dd9c48e47e42b05047a0963e4258b60e8b703e6f23513ec25798dd7092a736759e44809d7ba215a44a88f8279cdddd460607f0203010001 :  15.00\n",
            "Choice registered !\n",
            "User left\n",
            "Done!\n"
          ],
          "name": "stdout"
        }
      ]
    },
    {
      "cell_type": "code",
      "metadata": {
        "id": "1eIBc0dYZtBT",
        "colab_type": "code",
        "colab": {}
      },
      "source": [
        ""
      ],
      "execution_count": 0,
      "outputs": []
    },
    {
      "cell_type": "code",
      "metadata": {
        "id": "rY4hfgF7SZva",
        "colab_type": "code",
        "outputId": "c8d80454-6c49-4632-8ef8-2bdb91a0bf1b",
        "colab": {
          "base_uri": "https://localhost:8080/",
          "height": 71
        }
      },
      "source": [
        "!cat wallet.txt"
      ],
      "execution_count": 0,
      "outputs": [
        {
          "output_type": "stream",
          "text": [
            "30819f300d06092a864886f70d010101050003818d0030818902818100bf2637c3883270f78954e4896e0e7299640a475fe2386e8a125410331065f72d46f67890813f9caa12deec2beacbdf7ab463630457dd960e3d1a039d56167628ccd506f82e81330017d645fb0f5dd9c48e47e42b05047a0963e4258b60e8b703e6f23513ec25798dd7092a736759e44809d7ba215a44a88f8279cdddd460607f0203010001\n",
            "3082025d02010002818100bf2637c3883270f78954e4896e0e7299640a475fe2386e8a125410331065f72d46f67890813f9caa12deec2beacbdf7ab463630457dd960e3d1a039d56167628ccd506f82e81330017d645fb0f5dd9c48e47e42b05047a0963e4258b60e8b703e6f23513ec25798dd7092a736759e44809d7ba215a44a88f8279cdddd460607f020301000102818051ef53dfe0b59e6ebcd342d315f5e37194cc4323fa982de9c94977582c2348fc837a8adb864b7a1ffccec97559c3e21b7acf4f5641439e5aa41e4e8656ac7220f364509269e4e54bf01dd094e257e3ab74a7cf1425dedd02437b2fc48fa59877a0857d413be6e4ed4019e10156877a7e9d873a3db658fb00e6027884201e5cc1024100bf404f758066c4e3b248a75e31285cf914cd84dee0dc84ef86f1f156d5e755ab69751bbc9b6e41e05ff11533532ca0f1969b2276cc05e432f0547a5eb8839b39024100ffdd12deb2b3d379b3373908aa54c7f6d0055d66ff5952bc2d870afb1066185bb9b256b36b0859f0dadec55afc007db6d3ffc1b90edbc9d943452971b05801770240041b1e5998731c61030fda4004702866d49280fac3fb18038873234a48f759787fa01b035696ec6523ca2a395adcc76bc85ef64374a7dfb9543d8c0f028918c9024100eb0dfedae612fc118eca09b4633eb5e191638c5625f9ba5f33f81ee75d3e5ddc4e717ee31f4e31ca6a5843b87d503a2daeff03ca6dd30ed170d265eb92d496ab024100899bbe73e12b217ab4584b8b3ba9d2912105cfa588c0e72a84fa60307a37d669c94cab9e21d15f0d3a88ad8ba31444475ff6621ec9b8f5d135af600d8d39b12b"
          ],
          "name": "stdout"
        }
      ]
    },
    {
      "cell_type": "code",
      "metadata": {
        "id": "Q6JGtUWA1VNG",
        "colab_type": "code",
        "outputId": "226a92a4-9986-435a-a2ee-03fc6e339238",
        "colab": {
          "base_uri": "https://localhost:8080/",
          "height": 119
        }
      },
      "source": [
        "ls -rlt utility/"
      ],
      "execution_count": 0,
      "outputs": [
        {
          "output_type": "stream",
          "text": [
            "total 20\n",
            "-rw-r--r-- 1 root root   90 Mar 13 05:27 __init__.py\n",
            "-rw-r--r-- 1 root root  404 Mar 13 05:27 hash_util.py\n",
            "-rw-r--r-- 1 root root 1219 Mar 13 05:27 verification.py\n",
            "-rw-r--r-- 1 root root   68 Mar 13 05:27 printable.py\n",
            "drwxr-xr-x 2 root root 4096 Mar 13 05:40 \u001b[0m\u001b[01;34m__pycache__\u001b[0m/\n"
          ],
          "name": "stdout"
        }
      ]
    },
    {
      "cell_type": "code",
      "metadata": {
        "id": "1n80LL1j1VeF",
        "colab_type": "code",
        "outputId": "36d9822b-46b4-4054-8c07-bd776e1d2a4b",
        "colab": {
          "base_uri": "https://localhost:8080/",
          "height": 204
        }
      },
      "source": [
        "ls -rlt"
      ],
      "execution_count": 0,
      "outputs": [
        {
          "output_type": "stream",
          "text": [
            "total 48\n",
            "drwxr-xr-x 1 root root 4096 Mar  3 18:11 \u001b[0m\u001b[01;34msample_data\u001b[0m/\n",
            "drwxr-xr-x 3 root root 4096 Mar 13 05:40 \u001b[01;34mutility\u001b[0m/\n",
            "-rw-r--r-- 1 root root 1398 Mar 13 06:06 wallet.py\n",
            "-rw-r--r-- 1 root root 3098 Mar 13 06:06 node.py\n",
            "-rw-r--r-- 1 root root  307 Mar 13 06:06 block.py\n",
            "-rw-r--r-- 1 root root  428 Mar 13 06:06 transaction.py\n",
            "-rw-r--r-- 1 root root 5349 Mar 13 06:06 blockchain.py\n",
            "drwxr-xr-x 2 root root 4096 Mar 13 06:06 \u001b[01;34m__pycache__\u001b[0m/\n",
            "-rw-r--r-- 1 root root 4835 Mar 13 06:10 blockchain.txt\n",
            "-rw-r--r-- 1 root root 1541 Mar 13 06:10 wallet.txt\n"
          ],
          "name": "stdout"
        }
      ]
    },
    {
      "cell_type": "code",
      "metadata": {
        "id": "UkQrFCNQ6mOI",
        "colab_type": "code",
        "colab": {}
      },
      "source": [
        ""
      ],
      "execution_count": 0,
      "outputs": []
    },
    {
      "cell_type": "code",
      "metadata": {
        "id": "EdkFfhu6hHRd",
        "colab_type": "code",
        "colab": {}
      },
      "source": [
        ""
      ],
      "execution_count": 0,
      "outputs": []
    },
    {
      "cell_type": "code",
      "metadata": {
        "id": "tI3_olS21XGB",
        "colab_type": "code",
        "colab": {}
      },
      "source": [
        "!rm blockchain.txt"
      ],
      "execution_count": 0,
      "outputs": []
    },
    {
      "cell_type": "code",
      "metadata": {
        "id": "dChgGuLq5AtP",
        "colab_type": "code",
        "outputId": "0701a0fe-b4f1-4f62-805c-5586c51836c7",
        "colab": {
          "base_uri": "https://localhost:8080/",
          "height": 71
        }
      },
      "source": [
        "!cat blockchain.txt"
      ],
      "execution_count": 0,
      "outputs": [
        {
          "output_type": "stream",
          "text": [
            "[{\"index\": 0, \"previous_hash\": \"\", \"transactions\": [], \"proof\": 100, \"time\": 0}, {\"index\": 1, \"previous_hash\": \"f43bf96b7d7071552937a9fa0a82076d92554d2d593eaf76d8e77f19bd7cf5b8\", \"transactions\": [{\"sender\": \"MINING\", \"recipient\": \"30819f300d06092a864886f70d010101050003818d0030818902818100bf2637c3883270f78954e4896e0e7299640a475fe2386e8a125410331065f72d46f67890813f9caa12deec2beacbdf7ab463630457dd960e3d1a039d56167628ccd506f82e81330017d645fb0f5dd9c48e47e42b05047a0963e4258b60e8b703e6f23513ec25798dd7092a736759e44809d7ba215a44a88f8279cdddd460607f0203010001\", \"signature\": \"\", \"amount\": 10}], \"proof\": 195, \"time\": 0}, {\"index\": 2, \"previous_hash\": \"c61d14b62113e05baf4713f34466d8118506f46cd73c3c822378c9f31b1735f3\", \"transactions\": [{\"sender\": \"30819f300d06092a864886f70d010101050003818d0030818902818100bf2637c3883270f78954e4896e0e7299640a475fe2386e8a125410331065f72d46f67890813f9caa12deec2beacbdf7ab463630457dd960e3d1a039d56167628ccd506f82e81330017d645fb0f5dd9c48e47e42b05047a0963e4258b60e8b703e6f23513ec25798dd7092a736759e44809d7ba215a44a88f8279cdddd460607f0203010001\", \"recipient\": \"we\", \"signature\": \"1bfa04e07e44e3665bfacbe50e565db5521782a5b6ef8ec4e76b031a5f9a23b944c8cad64b11b29c78ac787b15a8ab63b2a1b9e0a79b9a8b8f1ac4f81f4f49829c33d641cba6a4cafee9c91058509a49a270266f5a723238e027819964250474f872fe7d24db9284514c3e788371d1a3784b9ec5c3a1fba1351bcfd16d51c34a\", \"amount\": 3.0}, {\"sender\": \"30819f300d06092a864886f70d010101050003818d0030818902818100bf2637c3883270f78954e4896e0e7299640a475fe2386e8a125410331065f72d46f67890813f9caa12deec2beacbdf7ab463630457dd960e3d1a039d56167628ccd506f82e81330017d645fb0f5dd9c48e47e42b05047a0963e4258b60e8b703e6f23513ec25798dd7092a736759e44809d7ba215a44a88f8279cdddd460607f0203010001\", \"recipient\": \"uu\", \"signature\": \"8211b8d22de75e0992f41895a9277eed4b8af96dc179203251f959a0f15fa11c02185b9d33c7cb714916817630da805248066b3bf0e518865ee156d73deb6950bc559477f580930ad5a2be066e39f90a14a48a4d9cec750598b4e7cc19b5c1c5b512ed810f08c306c259d9737b156eef980cff29891d4550f79ee448bfd258eb\", \"amount\": 2.0}, {\"sender\": \"MINING\", \"recipient\": \"30819f300d06092a864886f70d010101050003818d0030818902818100bf2637c3883270f78954e4896e0e7299640a475fe2386e8a125410331065f72d46f67890813f9caa12deec2beacbdf7ab463630457dd960e3d1a039d56167628ccd506f82e81330017d645fb0f5dd9c48e47e42b05047a0963e4258b60e8b703e6f23513ec25798dd7092a736759e44809d7ba215a44a88f8279cdddd460607f0203010001\", \"signature\": \"\", \"amount\": 10}], \"proof\": 165, \"time\": 0}]\n",
            "[]"
          ],
          "name": "stdout"
        }
      ]
    },
    {
      "cell_type": "code",
      "metadata": {
        "id": "cGf2iqfw7P5l",
        "colab_type": "code",
        "colab": {}
      },
      "source": [
        "2"
      ],
      "execution_count": 0,
      "outputs": []
    }
  ]
}