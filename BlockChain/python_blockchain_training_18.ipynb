{
  "nbformat": 4,
  "nbformat_minor": 0,
  "metadata": {
    "colab": {
      "name": "python_blockchain_training_18.ipynb",
      "provenance": [],
      "authorship_tag": "ABX9TyNHc+q9z2ktB24oa+9TudMV",
      "include_colab_link": true
    },
    "kernelspec": {
      "name": "python3",
      "display_name": "Python 3"
    }
  },
  "cells": [
    {
      "cell_type": "markdown",
      "metadata": {
        "id": "view-in-github",
        "colab_type": "text"
      },
      "source": [
        "<a href=\"https://colab.research.google.com/github/sumithdcosta/Python/blob/master/BlockChain/python_blockchain_training_18.ipynb\" target=\"_parent\"><img src=\"https://colab.research.google.com/assets/colab-badge.svg\" alt=\"Open In Colab\"/></a>"
      ]
    },
    {
      "cell_type": "code",
      "metadata": {
        "id": "BhNcMBdq0JzL",
        "colab_type": "code",
        "colab": {}
      },
      "source": [
        "!mkdir utility"
      ],
      "execution_count": 0,
      "outputs": []
    },
    {
      "cell_type": "code",
      "metadata": {
        "id": "gD8QNDf__O1p",
        "colab_type": "code",
        "outputId": "8f811bb2-e517-4c0f-97bd-44b660d2c654",
        "colab": {
          "base_uri": "https://localhost:8080/",
          "height": 207
        }
      },
      "source": [
        "pip install  pycrypto"
      ],
      "execution_count": 2,
      "outputs": [
        {
          "output_type": "stream",
          "text": [
            "Collecting pycrypto\n",
            "\u001b[?25l  Downloading https://files.pythonhosted.org/packages/60/db/645aa9af249f059cc3a368b118de33889219e0362141e75d4eaf6f80f163/pycrypto-2.6.1.tar.gz (446kB)\n",
            "\u001b[K     |████████████████████████████████| 450kB 4.9MB/s \n",
            "\u001b[?25hBuilding wheels for collected packages: pycrypto\n",
            "  Building wheel for pycrypto (setup.py) ... \u001b[?25l\u001b[?25hdone\n",
            "  Created wheel for pycrypto: filename=pycrypto-2.6.1-cp36-cp36m-linux_x86_64.whl size=499958 sha256=149416a3889269a44c8fafa4fcda209980f3a2c67fb664077212fc7fbfb7db5c\n",
            "  Stored in directory: /root/.cache/pip/wheels/27/02/5e/77a69d0c16bb63c6ed32f5386f33a2809c94bd5414a2f6c196\n",
            "Successfully built pycrypto\n",
            "Installing collected packages: pycrypto\n",
            "Successfully installed pycrypto-2.6.1\n"
          ],
          "name": "stdout"
        }
      ]
    },
    {
      "cell_type": "code",
      "metadata": {
        "id": "ke-4iMDv1ggP",
        "colab_type": "code",
        "outputId": "a6e9a310-9e28-418d-990a-af09f36c6e10",
        "colab": {
          "base_uri": "https://localhost:8080/",
          "height": 34
        }
      },
      "source": [
        "%%writefile utility/__init__.py\n",
        "'''package'''\n",
        "from utility.hash_util import hash_string_256\n",
        "\n",
        "__all__ = ['hash_string_256']"
      ],
      "execution_count": 3,
      "outputs": [
        {
          "output_type": "stream",
          "text": [
            "Writing utility/__init__.py\n"
          ],
          "name": "stdout"
        }
      ]
    },
    {
      "cell_type": "code",
      "metadata": {
        "id": "n0NnQnma4beJ",
        "colab_type": "code",
        "outputId": "41ca09e7-a210-46c3-d2fd-5efc4f9df94f",
        "colab": {
          "base_uri": "https://localhost:8080/",
          "height": 34
        }
      },
      "source": [
        "%%writefile utility/hash_util.py\n",
        "import hashlib as hl\n",
        "import json\n",
        "\n",
        "#__all__ = ['hash_string_256','hash_block']\n",
        "\n",
        "def hash_string_256(string):\n",
        "  return hl.sha256(string).hexdigest()\n",
        "\n",
        "def hash_block(block):\n",
        "  #print(block)\n",
        "  hashable_block = block.__dict__.copy()\n",
        "  hashable_block['transactions'] = [tx.to_ordered_dict() for tx in hashable_block['transactions']]\n",
        "  return hash_string_256(json.dumps(hashable_block, sort_keys=True).encode())\n"
      ],
      "execution_count": 4,
      "outputs": [
        {
          "output_type": "stream",
          "text": [
            "Writing utility/hash_util.py\n"
          ],
          "name": "stdout"
        }
      ]
    },
    {
      "cell_type": "code",
      "metadata": {
        "id": "nbIFnbZT1uey",
        "colab_type": "code",
        "outputId": "5f707036-9761-4f3f-8a17-61dd96f4a4db",
        "colab": {
          "base_uri": "https://localhost:8080/",
          "height": 34
        }
      },
      "source": [
        "%%writefile utility/verification.py\n",
        "\"\"\" Provides verification helper methods.\"\"\"\n",
        "\n",
        "from utility.hash_util import hash_string_256, hash_block\n",
        "from wallet import Wallet\n",
        "\n",
        "class Verification:\n",
        "  \"\"\"A helper class which offer various static and class-based veriffication\"\"\"\n",
        "  @staticmethod\n",
        "  def valid_proof(transactions, last_hash, proof):\n",
        "    guess = (str([tx.to_ordered_dict() for tx in transactions]) + str(last_hash) + str(proof)).encode()\n",
        "    guess_hash = hash_string_256(guess)\n",
        "    #print(guess_hash)\n",
        "    return guess_hash[0:2] == '00'\n",
        "\n",
        "  @classmethod\n",
        "  def verify_chain(cls, blockchain):\n",
        "    \"\"\"verify current blockchain\"\"\"\n",
        "    for (index, block) in enumerate(blockchain):\n",
        "      if index == 0:\n",
        "        continue\n",
        "      if block.previous_hash != hash_block(blockchain[index -1]):\n",
        "        return False\n",
        "      if not cls.valid_proof(block.transactions[:-1], block.previous_hash, block.proof):\n",
        "        print('Prood of work invalid')\n",
        "        return False\n",
        "    return True\n",
        "\n",
        "  @staticmethod\n",
        "  def verify_transaction(transaction, get_balance, check_funds=True):\n",
        "    if check_funds:\n",
        "      sender_balance = get_balance()\n",
        "      return sender_balance >= transaction.amount and Wallet.verify_transaction(transaction)\n",
        "    else:\n",
        "      return Wallet.verify_transaction(transaction)\n",
        "\n",
        "  @classmethod\n",
        "  def verify_transactions(cls, open_transactions, get_balance):\n",
        "    return all([cls.verify_transaction(tx, get_balance, check_funds=False) for tx in open_transactions])\n"
      ],
      "execution_count": 5,
      "outputs": [
        {
          "output_type": "stream",
          "text": [
            "Writing utility/verification.py\n"
          ],
          "name": "stdout"
        }
      ]
    },
    {
      "cell_type": "code",
      "metadata": {
        "id": "JMBLDpEoy8x9",
        "colab_type": "code",
        "outputId": "36385f78-c8c5-4c09-cd54-a6576778608f",
        "colab": {
          "base_uri": "https://localhost:8080/",
          "height": 34
        }
      },
      "source": [
        "%%writefile utility/printable.py\n",
        "class Printable:\n",
        "  def __repr__(self):\n",
        "    return str(self.__dict__)\n"
      ],
      "execution_count": 6,
      "outputs": [
        {
          "output_type": "stream",
          "text": [
            "Writing utility/printable.py\n"
          ],
          "name": "stdout"
        }
      ]
    },
    {
      "cell_type": "code",
      "metadata": {
        "id": "9HzYf_5kBCsY",
        "colab_type": "code",
        "outputId": "0abeb555-43b9-4d9b-92b9-8fd1025edf15",
        "colab": {
          "base_uri": "https://localhost:8080/",
          "height": 34
        }
      },
      "source": [
        "%%writefile wallet.py\n",
        "from Crypto.PublicKey import RSA\n",
        "from Crypto.Signature import PKCS1_v1_5\n",
        "from Crypto.Hash import SHA256\n",
        "import Crypto.Random\n",
        "import binascii \n",
        "import sys\n",
        "\n",
        "class Wallet:\n",
        "  def __init__(self):\n",
        "    self.private_key = None\n",
        "    self.public_key = None\n",
        "\n",
        "  def save_keys(self):\n",
        "    if self.public_key != None and self.private_key != None:\n",
        "      print(self.public_key)\n",
        "      print(self.private_key)\n",
        "      try : \n",
        "        with open('wallet.txt', mode='w') as f:\n",
        "          f.write(self.public_key)\n",
        "          f.write('\\n')\n",
        "          f.write(self.private_key)\n",
        "      except(IOError, IndexError):\n",
        "        print('Saving wallet failed ...')\n",
        "\n",
        "  def create_keys(self):\n",
        "    private_key, public_key = self.generate_keys()\n",
        "    self.private_key = private_key\n",
        "    self.public_key = public_key \n",
        "\n",
        "\n",
        "  def load_keys(self):\n",
        "    try:\n",
        "      with open('wallet.txt', mode='r') as f:\n",
        "        keys = f.readlines()\n",
        "        public_key = keys[0][:-1]\n",
        "        private_key = keys[1]\n",
        "        self.public_key = public_key\n",
        "        self.private_key = private_key\n",
        "    except(IOError, IndexError) as exc:\n",
        "      print('Loading wallet failed ...')\n",
        "      print(\"Oops!\",exc)\n",
        "      print(\"Oops!\",sys.exc_info()[0],\"occured.\")\n",
        "\n",
        "\n",
        "  def generate_keys(self):\n",
        "    private_key = RSA.generate(1024,Crypto.Random.new().read)\n",
        "    public_key = private_key.publickey()\n",
        "    return (binascii.hexlify(private_key.exportKey(format='DER')).decode('ascii'),\n",
        "            binascii.hexlify(public_key.exportKey(format='DER')).decode('ascii'))\n",
        "    \n",
        "  def sign_transaction(self, sender, recipient, amount):\n",
        "    signer = PKCS1_v1_5.new(RSA.importKey(binascii.unhexlify(self.private_key)))\n",
        "    h = SHA256.new((str(sender) + str(recipient) + str(amount)).encode('utf8'))\n",
        "    signature = signer.sign(h)\n",
        "    return binascii.hexlify(signature).decode('ascii')\n",
        "\n",
        "  @staticmethod\n",
        "  def verify_transaction(transaction):\n",
        "    public_key = RSA.importKey(binascii.unhexlify(transaction.sender))\n",
        "    verifier = PKCS1_v1_5.new(public_key)\n",
        "    h = SHA256.new((str(transaction.sender) + str(transaction.recipient) + str(transaction.amount)).encode('utf8'))\n",
        "    return verifier.verify(h, binascii.unhexlify(transaction.signature))\n"
      ],
      "execution_count": 7,
      "outputs": [
        {
          "output_type": "stream",
          "text": [
            "Writing wallet.py\n"
          ],
          "name": "stdout"
        }
      ]
    },
    {
      "cell_type": "code",
      "metadata": {
        "id": "n2M9ETzweJHM",
        "colab_type": "code",
        "outputId": "5b2c394f-9e63-47f8-ca6c-34d0ec1b802d",
        "colab": {
          "base_uri": "https://localhost:8080/",
          "height": 34
        }
      },
      "source": [
        "!cat wallet.txt"
      ],
      "execution_count": 8,
      "outputs": [
        {
          "output_type": "stream",
          "text": [
            "cat: wallet.txt: No such file or directory\n"
          ],
          "name": "stdout"
        }
      ]
    },
    {
      "cell_type": "code",
      "metadata": {
        "id": "9Z6M6aD_LGh0",
        "colab_type": "code",
        "outputId": "f7bc2a12-db9b-4e84-d994-d31f2fd1d7bd",
        "colab": {
          "base_uri": "https://localhost:8080/",
          "height": 34
        }
      },
      "source": [
        "%%writefile node.py\n",
        "from uuid import uuid4\n",
        "from blockchain import Blockchain\n",
        "from utility.verification import Verification\n",
        "from wallet import Wallet\n",
        "\n",
        "\n",
        "class Node:\n",
        "  def __init__(self):\n",
        "    self.wallet = Wallet()\n",
        "    #self.id = str(uuid4())\n",
        "    self.wallet.create_keys()\n",
        "    self.blockchain = Blockchain(self.wallet.public_key)\n",
        "    \n",
        "\n",
        "  #using function for reusable code.\n",
        "  def get_transaction_value(self):\n",
        "    \"\"\" Retruns the input of the user(a new transaction amount) as a float\n",
        "    \"\"\"\n",
        "    tx_recipient = input('Enter the recipent of the transaction: ') \n",
        "    tx_amount = float(input('Your trasaction amount please: ')) \n",
        "    return (tx_recipient, tx_amount)\n",
        "  \n",
        "  def get_user_choice(self):\n",
        "    user_input = input('Your Choice : ')\n",
        "    return user_input\n",
        "\n",
        "  def print_blockchain_elements(self):\n",
        "    #use for loop to output the blockchain list console\n",
        "    for block in self.blockchain.chain:\n",
        "      print('outputting block : ', block)\n",
        "    else:\n",
        "      print('-' * 20)\n",
        "\n",
        "  def listen_for_input(self):\n",
        "    waiting_for_input = True\n",
        "    while waiting_for_input:\n",
        "      print('Please choose')\n",
        "      print('1: Add a new transaction value')\n",
        "      print('2: Mine a new block')\n",
        "      print('3: Output the blockchain blocks')\n",
        "      print('4: check transaction validity')\n",
        "      print('5: Create wallet')\n",
        "      print('6: load wallet')\n",
        "      print('7: Save keys')\n",
        "      print('q : Quit ')\n",
        "      user_choice = self.get_user_choice()\n",
        "      if user_choice == '1':\n",
        "        tx_data = self.get_transaction_value()\n",
        "        recipient, amount = tx_data\n",
        "        signature = self.wallet.sign_transaction(self.wallet.public_key, recipient, amount)\n",
        "        if self.blockchain.add_transaction(recipient, self.wallet.public_key, signature,amount=amount):\n",
        "          print('Added transaction')\n",
        "        else:\n",
        "          print('Tranaction failed')\n",
        "        print(self.blockchain.get_open_transactions())\n",
        "      elif user_choice == '2':\n",
        "        if not self.blockchain.mine_block():\n",
        "          print('Mining failed, got no wallet?')\n",
        "      elif user_choice == '3':\n",
        "          self.print_blockchain_elements()\n",
        "      elif user_choice == '4':\n",
        "        if Verification.verify_transactions(self.blockchain.get_open_transactions(), self.blockchain.get_balance):\n",
        "          print(\"All Transactions are valid\")\n",
        "        else:\n",
        "          print('There are invalid transaction')\n",
        "      elif user_choice == '5':\n",
        "        self.wallet.create_keys()\n",
        "        self.blockchain = Blockchain(self.wallet.public_key)\n",
        "      elif user_choice == '6':\n",
        "        self.wallet.load_keys()\n",
        "        self.blockchain = Blockchain(self.wallet.public_key)\n",
        "      elif user_choice == '7':\n",
        "        self.wallet.save_keys()\n",
        "      elif user_choice == 'q':\n",
        "        waiting_for_input = False\n",
        "      else:\n",
        "        print('Input was invalid, please pick a value from the list!')    \n",
        "      if not Verification.verify_chain(self.blockchain.chain):\n",
        "        self.print_blockchain_elements()\n",
        "        print('Invalid block chain!')\n",
        "        break\n",
        "      print('Balance of {} : {:6.2f}'.format(self.wallet.public_key, self.blockchain.get_balance()))  \n",
        "      print('Choice registered !')\n",
        "    else:\n",
        "      print('User left')\n",
        "    print('Done!') \n",
        "\n",
        "if __name__ == '__main__':\n",
        "  node = Node()\n",
        "  node.listen_for_input() \n",
        "\n",
        "#print(__name__)\n"
      ],
      "execution_count": 9,
      "outputs": [
        {
          "output_type": "stream",
          "text": [
            "Writing node.py\n"
          ],
          "name": "stdout"
        }
      ]
    },
    {
      "cell_type": "code",
      "metadata": {
        "id": "ToZzL_dTTWPi",
        "colab_type": "code",
        "outputId": "0da28cb6-78f0-4a45-8d75-fc3d4d30a81d",
        "colab": {
          "base_uri": "https://localhost:8080/",
          "height": 34
        }
      },
      "source": [
        "%%writefile block.py\n",
        "from time import time\n",
        "from utility.printable import Printable\n",
        "\n",
        "class Block(Printable):\n",
        "  def __init__(self, index, previous_hash, transactions, proof, time=time()):\n",
        "    self.index = index\n",
        "    self.previous_hash = previous_hash\n",
        "    self.transactions = transactions\n",
        "    self.proof = proof\n",
        "    self.time = time\n"
      ],
      "execution_count": 10,
      "outputs": [
        {
          "output_type": "stream",
          "text": [
            "Writing block.py\n"
          ],
          "name": "stdout"
        }
      ]
    },
    {
      "cell_type": "code",
      "metadata": {
        "id": "6bN5Bs-M_xVL",
        "colab_type": "code",
        "outputId": "411e995e-5c34-4585-a579-6529af8a8504",
        "colab": {
          "base_uri": "https://localhost:8080/",
          "height": 34
        }
      },
      "source": [
        "%%writefile transaction.py\n",
        "from collections import OrderedDict\n",
        "from utility.printable import Printable\n",
        "\n",
        "class Transaction(Printable):\n",
        "  def __init__(self, sender, recipient, signature, amount):\n",
        "    self.sender = sender\n",
        "    self.recipient = recipient\n",
        "    self.signature = signature\n",
        "    self.amount = amount\n",
        "    \n",
        "\n",
        "\n",
        "\n",
        "  def to_ordered_dict(self):\n",
        "      return OrderedDict([('sender', self.sender),\n",
        "                          ('recipient', self.recipient),\n",
        "                          ('amount', self.amount)])"
      ],
      "execution_count": 11,
      "outputs": [
        {
          "output_type": "stream",
          "text": [
            "Writing transaction.py\n"
          ],
          "name": "stdout"
        }
      ]
    },
    {
      "cell_type": "code",
      "metadata": {
        "id": "BPGxXDSQ4tuO",
        "colab_type": "code",
        "outputId": "f6aa2d61-9c5c-4b49-b667-67eeb0c2144c",
        "colab": {
          "base_uri": "https://localhost:8080/",
          "height": 34
        }
      },
      "source": [
        "%%writefile blockchain.py\n",
        "# try except block : \n",
        "#####################################################\n",
        "import functools\n",
        "import hashlib as hl\n",
        "import json\n",
        "from collections import OrderedDict\n",
        "import sys\n",
        "\n",
        "from utility.hash_util import  hash_block\n",
        "from block import Block\n",
        "from transaction import Transaction\n",
        "from time import time\n",
        "from utility.verification import Verification\n",
        "from wallet import Wallet\n",
        "\n",
        "#global variable\n",
        "MINING_REWARD = 10\n",
        "\n",
        "#print(__name__)\n",
        "\n",
        "class Blockchain:\n",
        "  def __init__(self, hosting_node_id):\n",
        "    genesis_block = Block(index = 0,\n",
        "                        previous_hash= '',\n",
        "                        transactions = [],\n",
        "                        proof = 100,\n",
        "                        time = 0)\n",
        "\n",
        "    self.chain = [genesis_block]\n",
        "    self._open_transactions = []\n",
        "    self.hosting_node = hosting_node_id\n",
        "    owner = 'Sumith'\n",
        "    participants = {owner}\n",
        "    self.load_data()\n",
        "\n",
        "  @property\n",
        "  def chain(self):\n",
        "      return self._chain[:]\n",
        "  \n",
        "  @chain.setter\n",
        "  def chain(self, val):\n",
        "    self._chain = val\n",
        "\n",
        "  def get_open_transactions(self):\n",
        "    return self._open_transactions[:]\n",
        "\n",
        "  def load_data(self):\n",
        "    try:\n",
        "      with open('blockchain.txt', mode='r') as f:\n",
        "        file_content = f.readlines()\n",
        "\n",
        "        blockchain = json.loads(file_content[0][:-1])\n",
        "        updated_blockchain=[]\n",
        "        for block in blockchain:\n",
        "          converted_tx = [Transaction(tx['sender'],\n",
        "                                      tx['recipient'],\n",
        "                                      tx['signature'],\n",
        "                                      tx['amount']) for tx in block['transactions']]\n",
        "          updated_block = Block(block['index'],\n",
        "                                block['previous_hash'],\n",
        "                                converted_tx,\n",
        "                                block['proof'],\n",
        "                                block['time'])\n",
        "          updated_blockchain.append(updated_block)\n",
        "        self.chain = updated_blockchain\n",
        "      \n",
        "        open_transactions = json.loads(file_content[1])\n",
        "        updated_transactions = []\n",
        "        for tx in open_transactions:\n",
        "          updated_transaction = Transaction(tx['sender'],\n",
        "                                             tx['recipient'],\n",
        "                                            tx['signature'],\n",
        "                                             tx['amount'])\n",
        "          updated_transactions.append(updated_transaction) \n",
        "        self._open_transactions = updated_transactions\n",
        "    except (IOError, IndexError):                    \n",
        "      pass\n",
        "    except ValueError:\n",
        "      print('Value error!')\n",
        "    except Exception as exc:\n",
        "      print(\"Oops!\",exc)\n",
        "      print(\"Oops!\",sys.exc_info()[0],\"occured.\")\n",
        "      sys.exit(1)\n",
        "    finally:\n",
        "      print('Cleanup!')\n",
        "\n",
        "  def save_data(self):\n",
        "    try :\n",
        "      with open('blockchain.txt', mode='w') as f:\n",
        "        saveable_chain = [block.__dict__ for block in [Block(\n",
        "            block_el.index,\n",
        "            block_el.previous_hash,\n",
        "            [tx.__dict__ for tx in block_el.transactions],\n",
        "            block_el.proof,\n",
        "            block_el.time\n",
        "            ) for block_el in self._chain]]\n",
        "\n",
        "        f.write(json.dumps(saveable_chain))\n",
        "        f.write('\\n')\n",
        "        saveable_tx = [tx.__dict__ for tx in self._open_transactions]\n",
        "        f.write(json.dumps(saveable_tx))\n",
        "    except IOError:\n",
        "      print('Error saving file!')\n",
        "\n",
        "  def proof_of_work(self):\n",
        "    last_block = self._chain[-1]\n",
        "    last_hash = hash_block(last_block)\n",
        "    proof = 0\n",
        "    while not Verification.valid_proof(self._open_transactions, last_hash, proof):\n",
        "      proof += 1\n",
        "    return proof\n",
        "\n",
        "  def get_balance(self):\n",
        "    participant = self.hosting_node\n",
        "    tx_sender = [[tx.amount for tx in block.transactions if tx.sender == participant] for block in self._chain]\n",
        "    open_tx_sender = [tx.amount for tx in self._open_transactions if tx.sender == participant]\n",
        "    tx_sender.append(open_tx_sender)\n",
        "    amount_sent = functools.reduce(lambda tx_sum, tx_amt: tx_sum + sum(tx_amt) if len(tx_amt) > 0 else tx_sum + 0, tx_sender,0)\n",
        "    tx_recipient = [[tx.amount for tx in block.transactions if tx.recipient == participant] for block in self._chain]\n",
        "    amount_received = functools.reduce(lambda tx_sum, tx_amt: tx_sum + sum(tx_amt) if len(tx_amt) > 0 else tx_sum + 0, tx_recipient,0)\n",
        "    return  amount_received - amount_sent\n",
        "\n",
        "\n",
        "  def get_last_blockchain_value(self):\n",
        "    \"\"\" returns the last value of the current bloackchain \"\"\"\n",
        "    #function to return the value\n",
        "    if len(self._chain) < 1 :\n",
        "      return None\n",
        "    return self._chain[-1]\n",
        "\n",
        "  def add_transaction(self, recipient,sender, signature, amount=1.0):\n",
        "    if self.hosting_node == None:\n",
        "      return False\n",
        "    transaction = Transaction(sender, recipient, signature, amount)\n",
        "    if Verification.verify_transaction(transaction, self.get_balance):\n",
        "      self._open_transactions.append(transaction)\n",
        "      self.save_data()\n",
        "      return True\n",
        "    return False\n",
        "\n",
        "  def mine_block(self):\n",
        "    if self.hosting_node == None:\n",
        "      return False\n",
        "    last_block = self._chain[-1]\n",
        "    hashed_block = hash_block(last_block)\n",
        "    proof = self.proof_of_work() \n",
        "    reward_transaction = Transaction(sender = 'MINING', recipient = self.hosting_node, signature = '', amount = MINING_REWARD)\n",
        "    copied_transactions = self._open_transactions[:]\n",
        "    for tx in copied_transactions:\n",
        "      if not Wallet.verify_transaction(tx):\n",
        "        return False\n",
        "    copied_transactions.append(reward_transaction)\n",
        "    block = Block(index = len(self._chain),\n",
        "                        previous_hash = hashed_block,\n",
        "                        transactions = copied_transactions,\n",
        "                        proof = proof,\n",
        "                        time = 0)\n",
        "    self._chain.append(block)\n",
        "    self._open_transactions = []\n",
        "    self.save_data()\n",
        "    return True\n",
        "\n",
        "\n"
      ],
      "execution_count": 12,
      "outputs": [
        {
          "output_type": "stream",
          "text": [
            "Writing blockchain.py\n"
          ],
          "name": "stdout"
        }
      ]
    },
    {
      "cell_type": "code",
      "metadata": {
        "id": "D7WqmlW_BL94",
        "colab_type": "code",
        "outputId": "521f205f-2223-4078-dd65-2d55498e434c",
        "colab": {
          "base_uri": "https://localhost:8080/",
          "height": 292
        }
      },
      "source": [
        "!python node.py"
      ],
      "execution_count": 13,
      "outputs": [
        {
          "output_type": "stream",
          "text": [
            "Cleanup!\n",
            "Please choose\n",
            "1: Add a new transaction value\n",
            "2: Mine a new block\n",
            "3: Output the blockchain blocks\n",
            "4: check transaction validity\n",
            "5: Create wallet\n",
            "6: load wallet\n",
            "7: Save keys\n",
            "q : Quit \n",
            "Your Choice : q\n",
            "Balance of 30819f300d06092a864886f70d010101050003818d0030818902818100d76683b69707ee3e51c3e81a6be414ff291efd0b1878ed9b15897c40400c8c0246c5a3214024d17e74a35647b944c54a029891ac747cd4ba94bddf0c70eedee9463b93dce2b38d37cb2e33a6a0a720873163504a53f56c0aacbebee4bf15147cea7c914442d1ee7a7aca647f0aa7ae411748ee8c6218d369df69d42faedeb5770203010001 :   0.00\n",
            "Choice registered !\n",
            "User left\n",
            "Done!\n"
          ],
          "name": "stdout"
        }
      ]
    },
    {
      "cell_type": "code",
      "metadata": {
        "id": "nSAkD7TGZrvQ",
        "colab_type": "code",
        "outputId": "16259744-187a-4bcd-ac0f-dad2e9b5cffd",
        "colab": {
          "base_uri": "https://localhost:8080/",
          "height": 785
        }
      },
      "source": [
        "!python node.py"
      ],
      "execution_count": 0,
      "outputs": [
        {
          "output_type": "stream",
          "text": [
            "Cleanup!\n",
            "Please choose\n",
            "1: Add a new transaction value\n",
            "2: Mine a new block\n",
            "3: Output the blockchain blocks\n",
            "4: check transaction validity\n",
            "5: Create wallet\n",
            "6: load wallet\n",
            "7: Save keys\n",
            "q : Quit \n",
            "Your Choice : 6\n",
            "Cleanup!\n",
            "Balance of 30819f300d06092a864886f70d010101050003818d0030818902818100bf2637c3883270f78954e4896e0e7299640a475fe2386e8a125410331065f72d46f67890813f9caa12deec2beacbdf7ab463630457dd960e3d1a039d56167628ccd506f82e81330017d645fb0f5dd9c48e47e42b05047a0963e4258b60e8b703e6f23513ec25798dd7092a736759e44809d7ba215a44a88f8279cdddd460607f0203010001 :  15.00\n",
            "Choice registered !\n",
            "Please choose\n",
            "1: Add a new transaction value\n",
            "2: Mine a new block\n",
            "3: Output the blockchain blocks\n",
            "4: check transaction validity\n",
            "5: Create wallet\n",
            "6: load wallet\n",
            "7: Save keys\n",
            "q : Quit \n",
            "Your Choice : 3\n",
            "outputting block :  {'index': 0, 'previous_hash': '', 'transactions': [], 'proof': 100, 'time': 0}\n",
            "outputting block :  {'index': 1, 'previous_hash': 'f43bf96b7d7071552937a9fa0a82076d92554d2d593eaf76d8e77f19bd7cf5b8', 'transactions': [{'sender': 'MINING', 'recipient': '30819f300d06092a864886f70d010101050003818d0030818902818100bf2637c3883270f78954e4896e0e7299640a475fe2386e8a125410331065f72d46f67890813f9caa12deec2beacbdf7ab463630457dd960e3d1a039d56167628ccd506f82e81330017d645fb0f5dd9c48e47e42b05047a0963e4258b60e8b703e6f23513ec25798dd7092a736759e44809d7ba215a44a88f8279cdddd460607f0203010001', 'signature': '', 'amount': 10}], 'proof': 195, 'time': 0}\n",
            "outputting block :  {'index': 2, 'previous_hash': 'c61d14b62113e05baf4713f34466d8118506f46cd73c3c822378c9f31b1735f3', 'transactions': [{'sender': '30819f300d06092a864886f70d010101050003818d0030818902818100bf2637c3883270f78954e4896e0e7299640a475fe2386e8a125410331065f72d46f67890813f9caa12deec2beacbdf7ab463630457dd960e3d1a039d56167628ccd506f82e81330017d645fb0f5dd9c48e47e42b05047a0963e4258b60e8b703e6f23513ec25798dd7092a736759e44809d7ba215a44a88f8279cdddd460607f0203010001', 'recipient': 'we', 'signature': '1bfa04e07e44e3665bfacbe50e565db5521782a5b6ef8ec4e76b031a5f9a23b944c8cad64b11b29c78ac787b15a8ab63b2a1b9e0a79b9a8b8f1ac4f81f4f49829c33d641cba6a4cafee9c91058509a49a270266f5a723238e027819964250474f872fe7d24db9284514c3e788371d1a3784b9ec5c3a1fba1351bcfd16d51c34a', 'amount': 3.0}, {'sender': '30819f300d06092a864886f70d010101050003818d0030818902818100bf2637c3883270f78954e4896e0e7299640a475fe2386e8a125410331065f72d46f67890813f9caa12deec2beacbdf7ab463630457dd960e3d1a039d56167628ccd506f82e81330017d645fb0f5dd9c48e47e42b05047a0963e4258b60e8b703e6f23513ec25798dd7092a736759e44809d7ba215a44a88f8279cdddd460607f0203010001', 'recipient': 'uu', 'signature': '8211b8d22de75e0992f41895a9277eed4b8af96dc179203251f959a0f15fa11c02185b9d33c7cb714916817630da805248066b3bf0e518865ee156d73deb6950bc559477f580930ad5a2be066e39f90a14a48a4d9cec750598b4e7cc19b5c1c5b512ed810f08c306c259d9737b156eef980cff29891d4550f79ee448bfd258eb', 'amount': 2.0}, {'sender': 'MINING', 'recipient': '30819f300d06092a864886f70d010101050003818d0030818902818100bf2637c3883270f78954e4896e0e7299640a475fe2386e8a125410331065f72d46f67890813f9caa12deec2beacbdf7ab463630457dd960e3d1a039d56167628ccd506f82e81330017d645fb0f5dd9c48e47e42b05047a0963e4258b60e8b703e6f23513ec25798dd7092a736759e44809d7ba215a44a88f8279cdddd460607f0203010001', 'signature': '', 'amount': 10}], 'proof': 165, 'time': 0}\n",
            "--------------------\n",
            "Balance of 30819f300d06092a864886f70d010101050003818d0030818902818100bf2637c3883270f78954e4896e0e7299640a475fe2386e8a125410331065f72d46f67890813f9caa12deec2beacbdf7ab463630457dd960e3d1a039d56167628ccd506f82e81330017d645fb0f5dd9c48e47e42b05047a0963e4258b60e8b703e6f23513ec25798dd7092a736759e44809d7ba215a44a88f8279cdddd460607f0203010001 :  15.00\n",
            "Choice registered !\n",
            "Please choose\n",
            "1: Add a new transaction value\n",
            "2: Mine a new block\n",
            "3: Output the blockchain blocks\n",
            "4: check transaction validity\n",
            "5: Create wallet\n",
            "6: load wallet\n",
            "7: Save keys\n",
            "q : Quit \n",
            "Your Choice : q\n",
            "Balance of 30819f300d06092a864886f70d010101050003818d0030818902818100bf2637c3883270f78954e4896e0e7299640a475fe2386e8a125410331065f72d46f67890813f9caa12deec2beacbdf7ab463630457dd960e3d1a039d56167628ccd506f82e81330017d645fb0f5dd9c48e47e42b05047a0963e4258b60e8b703e6f23513ec25798dd7092a736759e44809d7ba215a44a88f8279cdddd460607f0203010001 :  15.00\n",
            "Choice registered !\n",
            "User left\n",
            "Done!\n"
          ],
          "name": "stdout"
        }
      ]
    },
    {
      "cell_type": "code",
      "metadata": {
        "id": "1eIBc0dYZtBT",
        "colab_type": "code",
        "colab": {}
      },
      "source": [
        ""
      ],
      "execution_count": 0,
      "outputs": []
    },
    {
      "cell_type": "code",
      "metadata": {
        "id": "rY4hfgF7SZva",
        "colab_type": "code",
        "outputId": "c8d80454-6c49-4632-8ef8-2bdb91a0bf1b",
        "colab": {
          "base_uri": "https://localhost:8080/",
          "height": 71
        }
      },
      "source": [
        "!cat wallet.txt"
      ],
      "execution_count": 0,
      "outputs": [
        {
          "output_type": "stream",
          "text": [
            "30819f300d06092a864886f70d010101050003818d0030818902818100bf2637c3883270f78954e4896e0e7299640a475fe2386e8a125410331065f72d46f67890813f9caa12deec2beacbdf7ab463630457dd960e3d1a039d56167628ccd506f82e81330017d645fb0f5dd9c48e47e42b05047a0963e4258b60e8b703e6f23513ec25798dd7092a736759e44809d7ba215a44a88f8279cdddd460607f0203010001\n",
            "3082025d02010002818100bf2637c3883270f78954e4896e0e7299640a475fe2386e8a125410331065f72d46f67890813f9caa12deec2beacbdf7ab463630457dd960e3d1a039d56167628ccd506f82e81330017d645fb0f5dd9c48e47e42b05047a0963e4258b60e8b703e6f23513ec25798dd7092a736759e44809d7ba215a44a88f8279cdddd460607f020301000102818051ef53dfe0b59e6ebcd342d315f5e37194cc4323fa982de9c94977582c2348fc837a8adb864b7a1ffccec97559c3e21b7acf4f5641439e5aa41e4e8656ac7220f364509269e4e54bf01dd094e257e3ab74a7cf1425dedd02437b2fc48fa59877a0857d413be6e4ed4019e10156877a7e9d873a3db658fb00e6027884201e5cc1024100bf404f758066c4e3b248a75e31285cf914cd84dee0dc84ef86f1f156d5e755ab69751bbc9b6e41e05ff11533532ca0f1969b2276cc05e432f0547a5eb8839b39024100ffdd12deb2b3d379b3373908aa54c7f6d0055d66ff5952bc2d870afb1066185bb9b256b36b0859f0dadec55afc007db6d3ffc1b90edbc9d943452971b05801770240041b1e5998731c61030fda4004702866d49280fac3fb18038873234a48f759787fa01b035696ec6523ca2a395adcc76bc85ef64374a7dfb9543d8c0f028918c9024100eb0dfedae612fc118eca09b4633eb5e191638c5625f9ba5f33f81ee75d3e5ddc4e717ee31f4e31ca6a5843b87d503a2daeff03ca6dd30ed170d265eb92d496ab024100899bbe73e12b217ab4584b8b3ba9d2912105cfa588c0e72a84fa60307a37d669c94cab9e21d15f0d3a88ad8ba31444475ff6621ec9b8f5d135af600d8d39b12b"
          ],
          "name": "stdout"
        }
      ]
    },
    {
      "cell_type": "code",
      "metadata": {
        "id": "Q6JGtUWA1VNG",
        "colab_type": "code",
        "outputId": "226a92a4-9986-435a-a2ee-03fc6e339238",
        "colab": {
          "base_uri": "https://localhost:8080/",
          "height": 119
        }
      },
      "source": [
        "ls -rlt utility/"
      ],
      "execution_count": 0,
      "outputs": [
        {
          "output_type": "stream",
          "text": [
            "total 20\n",
            "-rw-r--r-- 1 root root   90 Mar 13 05:27 __init__.py\n",
            "-rw-r--r-- 1 root root  404 Mar 13 05:27 hash_util.py\n",
            "-rw-r--r-- 1 root root 1219 Mar 13 05:27 verification.py\n",
            "-rw-r--r-- 1 root root   68 Mar 13 05:27 printable.py\n",
            "drwxr-xr-x 2 root root 4096 Mar 13 05:40 \u001b[0m\u001b[01;34m__pycache__\u001b[0m/\n"
          ],
          "name": "stdout"
        }
      ]
    },
    {
      "cell_type": "code",
      "metadata": {
        "id": "1n80LL1j1VeF",
        "colab_type": "code",
        "outputId": "36d9822b-46b4-4054-8c07-bd776e1d2a4b",
        "colab": {
          "base_uri": "https://localhost:8080/",
          "height": 204
        }
      },
      "source": [
        "ls -rlt"
      ],
      "execution_count": 0,
      "outputs": [
        {
          "output_type": "stream",
          "text": [
            "total 48\n",
            "drwxr-xr-x 1 root root 4096 Mar  3 18:11 \u001b[0m\u001b[01;34msample_data\u001b[0m/\n",
            "drwxr-xr-x 3 root root 4096 Mar 13 05:40 \u001b[01;34mutility\u001b[0m/\n",
            "-rw-r--r-- 1 root root 1398 Mar 13 06:06 wallet.py\n",
            "-rw-r--r-- 1 root root 3098 Mar 13 06:06 node.py\n",
            "-rw-r--r-- 1 root root  307 Mar 13 06:06 block.py\n",
            "-rw-r--r-- 1 root root  428 Mar 13 06:06 transaction.py\n",
            "-rw-r--r-- 1 root root 5349 Mar 13 06:06 blockchain.py\n",
            "drwxr-xr-x 2 root root 4096 Mar 13 06:06 \u001b[01;34m__pycache__\u001b[0m/\n",
            "-rw-r--r-- 1 root root 4835 Mar 13 06:10 blockchain.txt\n",
            "-rw-r--r-- 1 root root 1541 Mar 13 06:10 wallet.txt\n"
          ],
          "name": "stdout"
        }
      ]
    },
    {
      "cell_type": "code",
      "metadata": {
        "id": "UkQrFCNQ6mOI",
        "colab_type": "code",
        "colab": {}
      },
      "source": [
        ""
      ],
      "execution_count": 0,
      "outputs": []
    },
    {
      "cell_type": "code",
      "metadata": {
        "id": "EdkFfhu6hHRd",
        "colab_type": "code",
        "colab": {}
      },
      "source": [
        ""
      ],
      "execution_count": 0,
      "outputs": []
    },
    {
      "cell_type": "code",
      "metadata": {
        "id": "tI3_olS21XGB",
        "colab_type": "code",
        "colab": {}
      },
      "source": [
        "!rm blockchain.txt"
      ],
      "execution_count": 0,
      "outputs": []
    },
    {
      "cell_type": "code",
      "metadata": {
        "id": "dChgGuLq5AtP",
        "colab_type": "code",
        "outputId": "0701a0fe-b4f1-4f62-805c-5586c51836c7",
        "colab": {
          "base_uri": "https://localhost:8080/",
          "height": 71
        }
      },
      "source": [
        "!cat blockchain.txt"
      ],
      "execution_count": 0,
      "outputs": [
        {
          "output_type": "stream",
          "text": [
            "[{\"index\": 0, \"previous_hash\": \"\", \"transactions\": [], \"proof\": 100, \"time\": 0}, {\"index\": 1, \"previous_hash\": \"f43bf96b7d7071552937a9fa0a82076d92554d2d593eaf76d8e77f19bd7cf5b8\", \"transactions\": [{\"sender\": \"MINING\", \"recipient\": \"30819f300d06092a864886f70d010101050003818d0030818902818100bf2637c3883270f78954e4896e0e7299640a475fe2386e8a125410331065f72d46f67890813f9caa12deec2beacbdf7ab463630457dd960e3d1a039d56167628ccd506f82e81330017d645fb0f5dd9c48e47e42b05047a0963e4258b60e8b703e6f23513ec25798dd7092a736759e44809d7ba215a44a88f8279cdddd460607f0203010001\", \"signature\": \"\", \"amount\": 10}], \"proof\": 195, \"time\": 0}, {\"index\": 2, \"previous_hash\": \"c61d14b62113e05baf4713f34466d8118506f46cd73c3c822378c9f31b1735f3\", \"transactions\": [{\"sender\": \"30819f300d06092a864886f70d010101050003818d0030818902818100bf2637c3883270f78954e4896e0e7299640a475fe2386e8a125410331065f72d46f67890813f9caa12deec2beacbdf7ab463630457dd960e3d1a039d56167628ccd506f82e81330017d645fb0f5dd9c48e47e42b05047a0963e4258b60e8b703e6f23513ec25798dd7092a736759e44809d7ba215a44a88f8279cdddd460607f0203010001\", \"recipient\": \"we\", \"signature\": \"1bfa04e07e44e3665bfacbe50e565db5521782a5b6ef8ec4e76b031a5f9a23b944c8cad64b11b29c78ac787b15a8ab63b2a1b9e0a79b9a8b8f1ac4f81f4f49829c33d641cba6a4cafee9c91058509a49a270266f5a723238e027819964250474f872fe7d24db9284514c3e788371d1a3784b9ec5c3a1fba1351bcfd16d51c34a\", \"amount\": 3.0}, {\"sender\": \"30819f300d06092a864886f70d010101050003818d0030818902818100bf2637c3883270f78954e4896e0e7299640a475fe2386e8a125410331065f72d46f67890813f9caa12deec2beacbdf7ab463630457dd960e3d1a039d56167628ccd506f82e81330017d645fb0f5dd9c48e47e42b05047a0963e4258b60e8b703e6f23513ec25798dd7092a736759e44809d7ba215a44a88f8279cdddd460607f0203010001\", \"recipient\": \"uu\", \"signature\": \"8211b8d22de75e0992f41895a9277eed4b8af96dc179203251f959a0f15fa11c02185b9d33c7cb714916817630da805248066b3bf0e518865ee156d73deb6950bc559477f580930ad5a2be066e39f90a14a48a4d9cec750598b4e7cc19b5c1c5b512ed810f08c306c259d9737b156eef980cff29891d4550f79ee448bfd258eb\", \"amount\": 2.0}, {\"sender\": \"MINING\", \"recipient\": \"30819f300d06092a864886f70d010101050003818d0030818902818100bf2637c3883270f78954e4896e0e7299640a475fe2386e8a125410331065f72d46f67890813f9caa12deec2beacbdf7ab463630457dd960e3d1a039d56167628ccd506f82e81330017d645fb0f5dd9c48e47e42b05047a0963e4258b60e8b703e6f23513ec25798dd7092a736759e44809d7ba215a44a88f8279cdddd460607f0203010001\", \"signature\": \"\", \"amount\": 10}], \"proof\": 165, \"time\": 0}]\n",
            "[]"
          ],
          "name": "stdout"
        }
      ]
    },
    {
      "cell_type": "code",
      "metadata": {
        "id": "cGf2iqfw7P5l",
        "colab_type": "code",
        "colab": {}
      },
      "source": [
        "2"
      ],
      "execution_count": 0,
      "outputs": []
    }
  ]
}