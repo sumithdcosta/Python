{
  "nbformat": 4,
  "nbformat_minor": 0,
  "metadata": {
    "colab": {
      "name": "python_blockchain_training_17.ipynb",
      "provenance": [],
      "authorship_tag": "ABX9TyMJQQ6JR6ccEchWhggpEpaG",
      "include_colab_link": true
    },
    "kernelspec": {
      "name": "python3",
      "display_name": "Python 3"
    }
  },
  "cells": [
    {
      "cell_type": "markdown",
      "metadata": {
        "id": "view-in-github",
        "colab_type": "text"
      },
      "source": [
        "<a href=\"https://colab.research.google.com/github/sumithdcosta/Python/blob/master/BlockChain/python_blockchain_training_17.ipynb\" target=\"_parent\"><img src=\"https://colab.research.google.com/assets/colab-badge.svg\" alt=\"Open In Colab\"/></a>"
      ]
    },
    {
      "cell_type": "code",
      "metadata": {
        "id": "BhNcMBdq0JzL",
        "colab_type": "code",
        "colab": {}
      },
      "source": [
        "!mkdir utility"
      ],
      "execution_count": 0,
      "outputs": []
    },
    {
      "cell_type": "code",
      "metadata": {
        "id": "gD8QNDf__O1p",
        "colab_type": "code",
        "outputId": "ccbe6aeb-fbff-41bc-8c99-e52c18e7883b",
        "colab": {
          "base_uri": "https://localhost:8080/",
          "height": 207
        }
      },
      "source": [
        "pip install  pycrypto"
      ],
      "execution_count": 2,
      "outputs": [
        {
          "output_type": "stream",
          "text": [
            "Collecting pycrypto\n",
            "\u001b[?25l  Downloading https://files.pythonhosted.org/packages/60/db/645aa9af249f059cc3a368b118de33889219e0362141e75d4eaf6f80f163/pycrypto-2.6.1.tar.gz (446kB)\n",
            "\r\u001b[K     |▊                               | 10kB 13.3MB/s eta 0:00:01\r\u001b[K     |█▌                              | 20kB 1.8MB/s eta 0:00:01\r\u001b[K     |██▏                             | 30kB 2.6MB/s eta 0:00:01\r\u001b[K     |███                             | 40kB 1.7MB/s eta 0:00:01\r\u001b[K     |███▊                            | 51kB 2.1MB/s eta 0:00:01\r\u001b[K     |████▍                           | 61kB 2.5MB/s eta 0:00:01\r\u001b[K     |█████▏                          | 71kB 2.9MB/s eta 0:00:01\r\u001b[K     |█████▉                          | 81kB 3.3MB/s eta 0:00:01\r\u001b[K     |██████▋                         | 92kB 3.7MB/s eta 0:00:01\r\u001b[K     |███████▍                        | 102kB 2.8MB/s eta 0:00:01\r\u001b[K     |████████                        | 112kB 2.8MB/s eta 0:00:01\r\u001b[K     |████████▉                       | 122kB 2.8MB/s eta 0:00:01\r\u001b[K     |█████████▌                      | 133kB 2.8MB/s eta 0:00:01\r\u001b[K     |██████████▎                     | 143kB 2.8MB/s eta 0:00:01\r\u001b[K     |███████████                     | 153kB 2.8MB/s eta 0:00:01\r\u001b[K     |███████████▊                    | 163kB 2.8MB/s eta 0:00:01\r\u001b[K     |████████████▌                   | 174kB 2.8MB/s eta 0:00:01\r\u001b[K     |█████████████▏                  | 184kB 2.8MB/s eta 0:00:01\r\u001b[K     |██████████████                  | 194kB 2.8MB/s eta 0:00:01\r\u001b[K     |██████████████▊                 | 204kB 2.8MB/s eta 0:00:01\r\u001b[K     |███████████████▍                | 215kB 2.8MB/s eta 0:00:01\r\u001b[K     |████████████████▏               | 225kB 2.8MB/s eta 0:00:01\r\u001b[K     |█████████████████               | 235kB 2.8MB/s eta 0:00:01\r\u001b[K     |█████████████████▋              | 245kB 2.8MB/s eta 0:00:01\r\u001b[K     |██████████████████▍             | 256kB 2.8MB/s eta 0:00:01\r\u001b[K     |███████████████████             | 266kB 2.8MB/s eta 0:00:01\r\u001b[K     |███████████████████▉            | 276kB 2.8MB/s eta 0:00:01\r\u001b[K     |████████████████████▋           | 286kB 2.8MB/s eta 0:00:01\r\u001b[K     |█████████████████████▎          | 296kB 2.8MB/s eta 0:00:01\r\u001b[K     |██████████████████████          | 307kB 2.8MB/s eta 0:00:01\r\u001b[K     |██████████████████████▊         | 317kB 2.8MB/s eta 0:00:01\r\u001b[K     |███████████████████████▌        | 327kB 2.8MB/s eta 0:00:01\r\u001b[K     |████████████████████████▎       | 337kB 2.8MB/s eta 0:00:01\r\u001b[K     |█████████████████████████       | 348kB 2.8MB/s eta 0:00:01\r\u001b[K     |█████████████████████████▊      | 358kB 2.8MB/s eta 0:00:01\r\u001b[K     |██████████████████████████▍     | 368kB 2.8MB/s eta 0:00:01\r\u001b[K     |███████████████████████████▏    | 378kB 2.8MB/s eta 0:00:01\r\u001b[K     |████████████████████████████    | 389kB 2.8MB/s eta 0:00:01\r\u001b[K     |████████████████████████████▋   | 399kB 2.8MB/s eta 0:00:01\r\u001b[K     |█████████████████████████████▍  | 409kB 2.8MB/s eta 0:00:01\r\u001b[K     |██████████████████████████████  | 419kB 2.8MB/s eta 0:00:01\r\u001b[K     |██████████████████████████████▉ | 430kB 2.8MB/s eta 0:00:01\r\u001b[K     |███████████████████████████████▋| 440kB 2.8MB/s eta 0:00:01\r\u001b[K     |████████████████████████████████| 450kB 2.8MB/s \n",
            "\u001b[?25hBuilding wheels for collected packages: pycrypto\n",
            "  Building wheel for pycrypto (setup.py) ... \u001b[?25l\u001b[?25hdone\n",
            "  Created wheel for pycrypto: filename=pycrypto-2.6.1-cp36-cp36m-linux_x86_64.whl size=499958 sha256=39c8beb9aef773bd5506f15fbd0a0be957b0a5d80323edb904e8a2c23ab280ac\n",
            "  Stored in directory: /root/.cache/pip/wheels/27/02/5e/77a69d0c16bb63c6ed32f5386f33a2809c94bd5414a2f6c196\n",
            "Successfully built pycrypto\n",
            "Installing collected packages: pycrypto\n",
            "Successfully installed pycrypto-2.6.1\n"
          ],
          "name": "stdout"
        }
      ]
    },
    {
      "cell_type": "code",
      "metadata": {
        "id": "ke-4iMDv1ggP",
        "colab_type": "code",
        "outputId": "fe37f3d9-0f5f-40e8-9134-a730697ee725",
        "colab": {
          "base_uri": "https://localhost:8080/",
          "height": 34
        }
      },
      "source": [
        "%%writefile utility/__init__.py\n",
        "'''package'''\n",
        "from utility.hash_util import hash_string_256\n",
        "\n",
        "__all__ = ['hash_string_256']"
      ],
      "execution_count": 3,
      "outputs": [
        {
          "output_type": "stream",
          "text": [
            "Writing utility/__init__.py\n"
          ],
          "name": "stdout"
        }
      ]
    },
    {
      "cell_type": "code",
      "metadata": {
        "id": "n0NnQnma4beJ",
        "colab_type": "code",
        "outputId": "3f07fa76-17bb-40d1-b553-d0d8943cb7ae",
        "colab": {
          "base_uri": "https://localhost:8080/",
          "height": 34
        }
      },
      "source": [
        "%%writefile utility/hash_util.py\n",
        "import hashlib as hl\n",
        "import json\n",
        "\n",
        "#__all__ = ['hash_string_256','hash_block']\n",
        "\n",
        "def hash_string_256(string):\n",
        "  return hl.sha256(string).hexdigest()\n",
        "\n",
        "def hash_block(block):\n",
        "  #print(block)\n",
        "  hashable_block = block.__dict__.copy()\n",
        "  hashable_block['transactions'] = [tx.to_ordered_dict() for tx in hashable_block['transactions']]\n",
        "  return hash_string_256(json.dumps(hashable_block, sort_keys=True).encode())\n"
      ],
      "execution_count": 4,
      "outputs": [
        {
          "output_type": "stream",
          "text": [
            "Writing utility/hash_util.py\n"
          ],
          "name": "stdout"
        }
      ]
    },
    {
      "cell_type": "code",
      "metadata": {
        "id": "nbIFnbZT1uey",
        "colab_type": "code",
        "outputId": "2e52c500-585d-4531-c09c-24e971a39524",
        "colab": {
          "base_uri": "https://localhost:8080/",
          "height": 34
        }
      },
      "source": [
        "%%writefile utility/verification.py\n",
        "\"\"\" Provides verification helper methods.\"\"\"\n",
        "\n",
        "from utility.hash_util import hash_string_256, hash_block\n",
        "\n",
        "class Verification:\n",
        "  \"\"\"A helper class which offer various static and class-based veriffication\"\"\"\n",
        "  @staticmethod\n",
        "  def valid_proof(transactions, last_hash, proof):\n",
        "    guess = (str([tx.to_ordered_dict() for tx in transactions]) + str(last_hash) + str(proof)).encode()\n",
        "    guess_hash = hash_string_256(guess)\n",
        "    #print(guess_hash)\n",
        "    return guess_hash[0:2] == '00'\n",
        "\n",
        "  @classmethod\n",
        "  def verify_chain(cls, blockchain):\n",
        "    \"\"\"verify current blockchain\"\"\"\n",
        "    for (index, block) in enumerate(blockchain):\n",
        "      if index == 0:\n",
        "        continue\n",
        "      if block.previous_hash != hash_block(blockchain[index -1]):\n",
        "        return False\n",
        "      if not cls.valid_proof(block.transactions[:-1], block.previous_hash, block.proof):\n",
        "        print('Prood of work invalid')\n",
        "        return False\n",
        "    return True\n",
        "\n",
        "  @staticmethod\n",
        "  def verify_transaction(transaction, get_balance):\n",
        "    sender_balance = get_balance()\n",
        "    return sender_balance >= transaction.amount\n",
        "\n",
        "  @classmethod\n",
        "  def verify_transactions(cls, open_transactions, get_balance):\n",
        "    return all([cls.verify_transaction(tx, get_balance) for tx in open_transactions])\n"
      ],
      "execution_count": 5,
      "outputs": [
        {
          "output_type": "stream",
          "text": [
            "Writing utility/verification.py\n"
          ],
          "name": "stdout"
        }
      ]
    },
    {
      "cell_type": "code",
      "metadata": {
        "id": "JMBLDpEoy8x9",
        "colab_type": "code",
        "outputId": "3b6de1df-9b9a-42dd-cd28-ab3d0ee17dae",
        "colab": {
          "base_uri": "https://localhost:8080/",
          "height": 34
        }
      },
      "source": [
        "%%writefile utility/printable.py\n",
        "class Printable:\n",
        "  def __repr__(self):\n",
        "    return str(self.__dict__)\n"
      ],
      "execution_count": 6,
      "outputs": [
        {
          "output_type": "stream",
          "text": [
            "Writing utility/printable.py\n"
          ],
          "name": "stdout"
        }
      ]
    },
    {
      "cell_type": "code",
      "metadata": {
        "id": "9HzYf_5kBCsY",
        "colab_type": "code",
        "outputId": "58a18cfc-3f0b-473a-ad5d-6b6198613ab1",
        "colab": {
          "base_uri": "https://localhost:8080/",
          "height": 34
        }
      },
      "source": [
        "%%writefile wallet.py\n",
        "from Crypto.PublicKey import RSA\n",
        "import Crypto.Random\n",
        "import binascii \n",
        "import sys\n",
        "\n",
        "class Wallet:\n",
        "  def __init__(self):\n",
        "    self.private_key = None\n",
        "    self.public_key = None\n",
        "\n",
        "  def save_keys(self):\n",
        "    if self.public_key != None and self.private_key != None:\n",
        "      print(self.public_key)\n",
        "      print(self.private_key)\n",
        "      try : \n",
        "        with open('wallet.txt', mode='w') as f:\n",
        "          f.write(self.public_key)\n",
        "          f.write('\\n')\n",
        "          f.write(self.private_key)\n",
        "      except(IOError, IndexError):\n",
        "        print('Saving wallet failed ...')\n",
        "\n",
        "  def create_keys(self):\n",
        "    private_key, public_key = self.generate_keys()\n",
        "    self.private_key = private_key\n",
        "    self.public_key = public_key \n",
        "\n",
        "\n",
        "  def load_keys(self):\n",
        "    try:\n",
        "      with open('wallet.txt', mode='r') as f:\n",
        "        keys = f.readlines()\n",
        "        public_key = keys[0][:-1]\n",
        "        private_key = keys[1]\n",
        "        self.public_key = public_key\n",
        "        self.private_key = private_key\n",
        "    except(IOError, IndexError) as exc:\n",
        "      print('Loading wallet failed ...')\n",
        "      print(\"Oops!\",exc)\n",
        "      print(\"Oops!\",sys.exc_info()[0],\"occured.\")\n",
        "\n",
        "\n",
        "  def generate_keys(self):\n",
        "    private_key = RSA.generate(1024,Crypto.Random.new().read)\n",
        "    public_key = private_key.publickey()\n",
        "    return (binascii.hexlify(private_key.exportKey(format='DER')).decode('ascii'),\n",
        "            binascii.hexlify(public_key.exportKey(format='DER')).decode('ascii'))"
      ],
      "execution_count": 61,
      "outputs": [
        {
          "output_type": "stream",
          "text": [
            "Overwriting wallet.py\n"
          ],
          "name": "stdout"
        }
      ]
    },
    {
      "cell_type": "code",
      "metadata": {
        "id": "n2M9ETzweJHM",
        "colab_type": "code",
        "colab": {
          "base_uri": "https://localhost:8080/",
          "height": 54
        },
        "outputId": "68fd4125-c791-4c5e-c52f-7c803efde87f"
      },
      "source": [
        "!cat wallet.txt"
      ],
      "execution_count": 62,
      "outputs": [
        {
          "output_type": "stream",
          "text": [
            "30819f300d06092a864886f70d010101050003818d003081890281810095bae2ed3676631c1701ea8d827779a9378b5ddfb0b748f581a2d615744fe5719dbd36cd3b1e18a2a67ae7f656d79d4b6f46f40d25bd455be9676845fa924a856ab3e286a97ebce26df0ca3175b4536e1e18b239e6edc3cd028e174e6bd41786ac21ab0e8ce829751e8bc2031b3379002a4d3265aa2044849bed0885735c48a50203010001n3082025c0201000281810095bae2ed3676631c1701ea8d827779a9378b5ddfb0b748f581a2d615744fe5719dbd36cd3b1e18a2a67ae7f656d79d4b6f46f40d25bd455be9676845fa924a856ab3e286a97ebce26df0ca3175b4536e1e18b239e6edc3cd028e174e6bd41786ac21ab0e8ce829751e8bc2031b3379002a4d3265aa2044849bed0885735c48a5020301000102818067ab3df38001f81d3ad0d8d5a1bf973cd2786c46b4d4326fc992352825a02bfcbe7a83b7157781171cad7c6dd332f67584565c23be3d8e085552839ff01dd9f9f678d460b7a0820b722aaf62c000f76c53defd8304dd33d4772afdc2a7f8797806dc0fbd6673a07d5840cfb8b1c0233b5580dd8d58b44ef824f8942f55517801024100b784c593b498d65880e357deacb887e994ffc288ad4320f8d9c81ad7538fd465721b6803cc1abe6e8e2ffc9cee9994a697e5a05fe6f9419ce856a640016f9d1d024100d0ddcf891846b41a0f68f8348c7ba9aeb79ca125d68d11c23962c0fdec3e4be20987097ce83e64f8e2550bd843c00c17e5d568c7b6816aa49c3435fecd456b29024100878f21cafb8a323ae9ea050c4d1579ffc6ba2dde7bedac3b65d374503e3f6e2b0960c93294dfe46f11c4cc9ab77ce6db3034c48452bf280259753814eb7aa0d902404b46e6397eea5c96d7def935d73bea97f1cd1db74970666a1dcc9dc9e68f3d422634e9127f919d4aa62808b0d51a2e419eb01fa77afb81b7fa244721a251d6a1024006b286d6b2df970843022575faf448cffd8c9c3d0eb462040581c3d3fd42b306cdb7e0d1000e36b1cf6932ab68b65d96b4b1608cb534ba2d7d156ab0f8dbaffa"
          ],
          "name": "stdout"
        }
      ]
    },
    {
      "cell_type": "code",
      "metadata": {
        "id": "9Z6M6aD_LGh0",
        "colab_type": "code",
        "outputId": "7e66a620-85dd-4cb3-fcd2-65f5ba302084",
        "colab": {
          "base_uri": "https://localhost:8080/",
          "height": 34
        }
      },
      "source": [
        "%%writefile node.py\n",
        "from uuid import uuid4\n",
        "from blockchain import Blockchain\n",
        "from utility.verification import Verification\n",
        "from wallet import Wallet\n",
        "\n",
        "\n",
        "class Node:\n",
        "  def __init__(self):\n",
        "    self.wallet = Wallet()\n",
        "    #self.id = str(uuid4())\n",
        "    self.wallet.create_keys()\n",
        "    self.blockchain = Blockchain(self.wallet.public_key)\n",
        "    \n",
        "\n",
        "  #using function for reusable code.\n",
        "  def get_transaction_value(self):\n",
        "    \"\"\" Retruns the input of the user(a new transaction amount) as a float\n",
        "    \"\"\"\n",
        "    tx_recipient = input('Enter the recipent of the transaction: ') \n",
        "    tx_amount = float(input('Your trasaction amount please: ')) \n",
        "    return (tx_recipient, tx_amount)\n",
        "  \n",
        "  def get_user_choice(self):\n",
        "    user_input = input('Your Choice : ')\n",
        "    return user_input\n",
        "\n",
        "  def print_blockchain_elements(self):\n",
        "    #use for loop to output the blockchain list console\n",
        "    for block in self.blockchain.chain:\n",
        "      print('outputting block : ', block)\n",
        "    else:\n",
        "      print('-' * 20)\n",
        "\n",
        "  def listen_for_input(self):\n",
        "    waiting_for_input = True\n",
        "    while waiting_for_input:\n",
        "      print('Please choose')\n",
        "      print('1: Add a new transaction value')\n",
        "      print('2: Mine a new block')\n",
        "      print('3: Output the blockchain blocks')\n",
        "      print('4: check transaction validity')\n",
        "      print('5: Create wallet')\n",
        "      print('6: load wallet')\n",
        "      print('7: Save keys')\n",
        "      print('q : Quit ')\n",
        "      user_choice = self.get_user_choice()\n",
        "      if user_choice == '1':\n",
        "        tx_data = self.get_transaction_value()\n",
        "        recipient, amount = tx_data\n",
        "        if self.blockchain.add_transaction(recipient, self.wallet.public_key, amount=amount):\n",
        "          print('Added transaction')\n",
        "        else:\n",
        "          print('Tranaction failed')\n",
        "        print(self.blockchain.get_open_transactions())\n",
        "      elif user_choice == '2':\n",
        "        if not self.blockchain.mine_block():\n",
        "          print('Mining failed, got no wallet?')\n",
        "      elif user_choice == '3':\n",
        "          self.print_blockchain_elements()\n",
        "      elif user_choice == '4':\n",
        "        if Verification.verify_transactions(self.blockchain.get_open_transactions(), self.blockchain.get_balance):\n",
        "          print(\"All Transactions are valid\")\n",
        "        else:\n",
        "          print('There are invalid transaction')\n",
        "      elif user_choice == '5':\n",
        "        self.wallet.create_keys()\n",
        "        self.blockchain = Blockchain(self.wallet.public_key)\n",
        "      elif user_choice == '6':\n",
        "        self.wallet.load_keys()\n",
        "        self.blockchain = Blockchain(self.wallet.public_key)\n",
        "      elif user_choice == '7':\n",
        "        self.wallet.save_keys()\n",
        "      elif user_choice == 'q':\n",
        "        waiting_for_input = False\n",
        "      else:\n",
        "        print('Input was invalid, please pick a value from the list!')    \n",
        "      if not Verification.verify_chain(self.blockchain.chain):\n",
        "        self.print_blockchain_elements()\n",
        "        print('Invalid block chain!')\n",
        "        break\n",
        "      print('Balance of {} : {:6.2f}'.format(self.wallet.public_key, self.blockchain.get_balance()))  \n",
        "      print('Choice registered !')\n",
        "    else:\n",
        "      print('User left')\n",
        "    print('Done!') \n",
        "\n",
        "if __name__ == '__main__':\n",
        "  node = Node()\n",
        "  node.listen_for_input() \n",
        "\n",
        "#print(__name__)\n"
      ],
      "execution_count": 63,
      "outputs": [
        {
          "output_type": "stream",
          "text": [
            "Overwriting node.py\n"
          ],
          "name": "stdout"
        }
      ]
    },
    {
      "cell_type": "code",
      "metadata": {
        "id": "ToZzL_dTTWPi",
        "colab_type": "code",
        "outputId": "dbc3e684-bf37-4595-fbb2-28c6f1d5b46d",
        "colab": {
          "base_uri": "https://localhost:8080/",
          "height": 34
        }
      },
      "source": [
        "%%writefile block.py\n",
        "from time import time\n",
        "from utility.printable import Printable\n",
        "\n",
        "class Block(Printable):\n",
        "  def __init__(self, index, previous_hash, transactions, proof, time=time()):\n",
        "    self.index = index\n",
        "    self.previous_hash = previous_hash\n",
        "    self.transactions = transactions\n",
        "    self.proof = proof\n",
        "    self.time = time\n"
      ],
      "execution_count": 64,
      "outputs": [
        {
          "output_type": "stream",
          "text": [
            "Overwriting block.py\n"
          ],
          "name": "stdout"
        }
      ]
    },
    {
      "cell_type": "code",
      "metadata": {
        "id": "6bN5Bs-M_xVL",
        "colab_type": "code",
        "outputId": "b7272508-7acd-411b-a197-722a78f56c27",
        "colab": {
          "base_uri": "https://localhost:8080/",
          "height": 34
        }
      },
      "source": [
        "%%writefile transaction.py\n",
        "from collections import OrderedDict\n",
        "from utility.printable import Printable\n",
        "\n",
        "class Transaction(Printable):\n",
        "  def __init__(self, sender, recipient, amount):\n",
        "    self.sender = sender\n",
        "    self.recipient = recipient\n",
        "    self.amount = amount\n",
        "\n",
        "\n",
        "\n",
        "  def to_ordered_dict(self):\n",
        "      return OrderedDict([('sender', self.sender),\n",
        "                          ('recipient', self.recipient),\n",
        "                          ('amount', self.amount)])"
      ],
      "execution_count": 65,
      "outputs": [
        {
          "output_type": "stream",
          "text": [
            "Overwriting transaction.py\n"
          ],
          "name": "stdout"
        }
      ]
    },
    {
      "cell_type": "code",
      "metadata": {
        "id": "BPGxXDSQ4tuO",
        "colab_type": "code",
        "outputId": "bb849605-f591-428d-e9b4-05bb31dbf2df",
        "colab": {
          "base_uri": "https://localhost:8080/",
          "height": 34
        }
      },
      "source": [
        "%%writefile blockchain.py\n",
        "# try except block : \n",
        "#####################################################\n",
        "import functools\n",
        "import hashlib as hl\n",
        "import json\n",
        "from collections import OrderedDict\n",
        "import sys\n",
        "\n",
        "from utility.hash_util import  hash_block\n",
        "from block import Block\n",
        "from transaction import Transaction\n",
        "from time import time\n",
        "from utility.verification import Verification\n",
        "\n",
        "#global variable\n",
        "MINING_REWARD = 10\n",
        "\n",
        "#print(__name__)\n",
        "\n",
        "class Blockchain:\n",
        "  def __init__(self, hosting_node_id):\n",
        "    genesis_block = Block(index = 0,\n",
        "                        previous_hash= '',\n",
        "                        transactions = [],\n",
        "                        proof = 100,\n",
        "                        time = 0)\n",
        "\n",
        "    self.chain = [genesis_block]\n",
        "    self._open_transactions = []\n",
        "    self.hosting_node = hosting_node_id\n",
        "    owner = 'Sumith'\n",
        "    participants = {owner}\n",
        "    self.load_data()\n",
        "\n",
        "  @property\n",
        "  def chain(self):\n",
        "      return self._chain[:]\n",
        "  \n",
        "  @chain.setter\n",
        "  def chain(self, val):\n",
        "    self._chain = val\n",
        "\n",
        "  def get_open_transactions(self):\n",
        "    return self._open_transactions[:]\n",
        "\n",
        "  def load_data(self):\n",
        "    try:\n",
        "      with open('blockchain.txt', mode='r') as f:\n",
        "        file_content = f.readlines()\n",
        "\n",
        "        blockchain = json.loads(file_content[0][:-1])\n",
        "        updated_blockchain=[]\n",
        "        for block in blockchain:\n",
        "          converted_tx = [Transaction(tx['sender'],\n",
        "                                      tx['recipient'],\n",
        "                                      tx['amount']) for tx in block['transactions']]\n",
        "          updated_block = Block(block['index'],\n",
        "                                block['previous_hash'],\n",
        "                                converted_tx,\n",
        "                                block['proof'],\n",
        "                                block['time'])\n",
        "          updated_blockchain.append(updated_block)\n",
        "        self.chain = updated_blockchain\n",
        "      \n",
        "        open_transactions = json.loads(file_content[1])\n",
        "        updated_transactions = []\n",
        "        for tx in open_transactions:\n",
        "          updated_transaction = Transaction(tx['sender'],\n",
        "                                             tx['recipient'],\n",
        "                                             tx['amount'])\n",
        "          updated_transactions.append(updated_transaction) \n",
        "        self._open_transactions = updated_transactions\n",
        "    except (IOError, IndexError):                    \n",
        "      pass\n",
        "    except ValueError:\n",
        "      print('Value error!')\n",
        "    except Exception as exc:\n",
        "      print(\"Oops!\",exc)\n",
        "      print(\"Oops!\",sys.exc_info()[0],\"occured.\")\n",
        "      sys.exit(1)\n",
        "    finally:\n",
        "      print('Cleanup!')\n",
        "\n",
        "  def save_data(self):\n",
        "    try :\n",
        "      with open('blockchain.txt', mode='w') as f:\n",
        "        saveable_chain = [block.__dict__ for block in [Block(\n",
        "            block_el.index,\n",
        "            block_el.previous_hash,\n",
        "            [tx.__dict__ for tx in block_el.transactions],\n",
        "            block_el.proof,\n",
        "            block_el.time\n",
        "            ) for block_el in self._chain]]\n",
        "\n",
        "        f.write(json.dumps(saveable_chain))\n",
        "        f.write('\\n')\n",
        "        saveable_tx = [tx.__dict__ for tx in self._open_transactions]\n",
        "        f.write(json.dumps(saveable_tx))\n",
        "    except IOError:\n",
        "      print('Error saving file!')\n",
        "\n",
        "  def proof_of_work(self):\n",
        "    last_block = self._chain[-1]\n",
        "    last_hash = hash_block(last_block)\n",
        "    proof = 0\n",
        "    while not Verification.valid_proof(self._open_transactions, last_hash, proof):\n",
        "      proof += 1\n",
        "    return proof\n",
        "\n",
        "  def get_balance(self):\n",
        "    participant = self.hosting_node\n",
        "    tx_sender = [[tx.amount for tx in block.transactions if tx.sender == participant] for block in self._chain]\n",
        "    open_tx_sender = [tx.amount for tx in self._open_transactions if tx.sender == participant]\n",
        "    tx_sender.append(open_tx_sender)\n",
        "    amount_sent = functools.reduce(lambda tx_sum, tx_amt: tx_sum + sum(tx_amt) if len(tx_amt) > 0 else tx_sum + 0, tx_sender,0)\n",
        "    tx_recipient = [[tx.amount for tx in block.transactions if tx.recipient == participant] for block in self._chain]\n",
        "    amount_received = functools.reduce(lambda tx_sum, tx_amt: tx_sum + sum(tx_amt) if len(tx_amt) > 0 else tx_sum + 0, tx_recipient,0)\n",
        "    return  amount_received - amount_sent\n",
        "\n",
        "\n",
        "  def get_last_blockchain_value(self):\n",
        "    \"\"\" returns the last value of the current bloackchain \"\"\"\n",
        "    #function to return the value\n",
        "    if len(self._chain) < 1 :\n",
        "      return None\n",
        "    return self._chain[-1]\n",
        "\n",
        "  def add_transaction(self, recipient,sender, amount=1.0):\n",
        "    if self.hosting_node == None:\n",
        "      return False\n",
        "    transaction = Transaction(sender, recipient, amount)\n",
        "    if Verification.verify_transaction(transaction, self.get_balance):\n",
        "      self._open_transactions.append(transaction)\n",
        "      self.save_data()\n",
        "      return True\n",
        "    return False\n",
        "\n",
        "  def mine_block(self):\n",
        "    if self.hosting_node == None:\n",
        "      return False\n",
        "    last_block = self._chain[-1]\n",
        "    hashed_block = hash_block(last_block)\n",
        "    proof = self.proof_of_work() \n",
        "    reward_transaction = Transaction(sender = 'MINING', recipient = self.hosting_node, amount = MINING_REWARD)\n",
        "    copied_transactions = self._open_transactions[:]\n",
        "    copied_transactions.append(reward_transaction)\n",
        "    block = Block(index = len(self._chain),\n",
        "                        previous_hash = hashed_block,\n",
        "                        transactions = copied_transactions,\n",
        "                        proof = proof,\n",
        "                        time = 0)\n",
        "    self._chain.append(block)\n",
        "    self._open_transactions = []\n",
        "    self.save_data()\n",
        "    return True\n",
        "\n",
        "\n"
      ],
      "execution_count": 66,
      "outputs": [
        {
          "output_type": "stream",
          "text": [
            "Overwriting blockchain.py\n"
          ],
          "name": "stdout"
        }
      ]
    },
    {
      "cell_type": "code",
      "metadata": {
        "id": "D7WqmlW_BL94",
        "colab_type": "code",
        "outputId": "ba691a23-e7b2-456b-fc90-a9c0fa9c528d",
        "colab": {
          "base_uri": "https://localhost:8080/",
          "height": 1000
        }
      },
      "source": [
        "!python node.py"
      ],
      "execution_count": 73,
      "outputs": [
        {
          "output_type": "stream",
          "text": [
            "Cleanup!\n",
            "Please choose\n",
            "1: Add a new transaction value\n",
            "2: Mine a new block\n",
            "3: Output the blockchain blocks\n",
            "4: check transaction validity\n",
            "5: Create wallet\n",
            "6: load wallet\n",
            "7: Save keys\n",
            "q : Quit \n",
            "Your Choice : 5\n",
            "Cleanup!\n",
            "Balance of 30819f300d06092a864886f70d010101050003818d0030818902818100b47098f898b40aa86716e3a912b94bd2befcc60084d45e4164f05d2654e2ab8c6b5ff6a4000bbda32b12c0653c7338e1935e7982b58a26a79ca89ae478810324541df1949d5a7f14ee2a40a2cf7fbca7d6dd2ab29d6c6c30694596df1641ce59de8a123c20c77ca75819f0c2c62e32e6e80ada224b009c82a171a39209b6f19f0203010001 :   0.00\n",
            "Choice registered !\n",
            "Please choose\n",
            "1: Add a new transaction value\n",
            "2: Mine a new block\n",
            "3: Output the blockchain blocks\n",
            "4: check transaction validity\n",
            "5: Create wallet\n",
            "6: load wallet\n",
            "7: Save keys\n",
            "q : Quit \n",
            "Your Choice : 2\n",
            "Balance of 30819f300d06092a864886f70d010101050003818d0030818902818100b47098f898b40aa86716e3a912b94bd2befcc60084d45e4164f05d2654e2ab8c6b5ff6a4000bbda32b12c0653c7338e1935e7982b58a26a79ca89ae478810324541df1949d5a7f14ee2a40a2cf7fbca7d6dd2ab29d6c6c30694596df1641ce59de8a123c20c77ca75819f0c2c62e32e6e80ada224b009c82a171a39209b6f19f0203010001 :  10.00\n",
            "Choice registered !\n",
            "Please choose\n",
            "1: Add a new transaction value\n",
            "2: Mine a new block\n",
            "3: Output the blockchain blocks\n",
            "4: check transaction validity\n",
            "5: Create wallet\n",
            "6: load wallet\n",
            "7: Save keys\n",
            "q : Quit \n",
            "Your Choice : 1\n",
            "Enter the recipent of the transaction: we\n",
            "Your trasaction amount please: 5\n",
            "Added transaction\n",
            "[{'sender': '30819f300d06092a864886f70d010101050003818d0030818902818100b47098f898b40aa86716e3a912b94bd2befcc60084d45e4164f05d2654e2ab8c6b5ff6a4000bbda32b12c0653c7338e1935e7982b58a26a79ca89ae478810324541df1949d5a7f14ee2a40a2cf7fbca7d6dd2ab29d6c6c30694596df1641ce59de8a123c20c77ca75819f0c2c62e32e6e80ada224b009c82a171a39209b6f19f0203010001', 'recipient': 'we', 'amount': 5.0}]\n",
            "Balance of 30819f300d06092a864886f70d010101050003818d0030818902818100b47098f898b40aa86716e3a912b94bd2befcc60084d45e4164f05d2654e2ab8c6b5ff6a4000bbda32b12c0653c7338e1935e7982b58a26a79ca89ae478810324541df1949d5a7f14ee2a40a2cf7fbca7d6dd2ab29d6c6c30694596df1641ce59de8a123c20c77ca75819f0c2c62e32e6e80ada224b009c82a171a39209b6f19f0203010001 :   5.00\n",
            "Choice registered !\n",
            "Please choose\n",
            "1: Add a new transaction value\n",
            "2: Mine a new block\n",
            "3: Output the blockchain blocks\n",
            "4: check transaction validity\n",
            "5: Create wallet\n",
            "6: load wallet\n",
            "7: Save keys\n",
            "q : Quit \n",
            "Your Choice : 2\n",
            "Balance of 30819f300d06092a864886f70d010101050003818d0030818902818100b47098f898b40aa86716e3a912b94bd2befcc60084d45e4164f05d2654e2ab8c6b5ff6a4000bbda32b12c0653c7338e1935e7982b58a26a79ca89ae478810324541df1949d5a7f14ee2a40a2cf7fbca7d6dd2ab29d6c6c30694596df1641ce59de8a123c20c77ca75819f0c2c62e32e6e80ada224b009c82a171a39209b6f19f0203010001 :  15.00\n",
            "Choice registered !\n",
            "Please choose\n",
            "1: Add a new transaction value\n",
            "2: Mine a new block\n",
            "3: Output the blockchain blocks\n",
            "4: check transaction validity\n",
            "5: Create wallet\n",
            "6: load wallet\n",
            "7: Save keys\n",
            "q : Quit \n",
            "Your Choice : 7\n",
            "30819f300d06092a864886f70d010101050003818d0030818902818100b47098f898b40aa86716e3a912b94bd2befcc60084d45e4164f05d2654e2ab8c6b5ff6a4000bbda32b12c0653c7338e1935e7982b58a26a79ca89ae478810324541df1949d5a7f14ee2a40a2cf7fbca7d6dd2ab29d6c6c30694596df1641ce59de8a123c20c77ca75819f0c2c62e32e6e80ada224b009c82a171a39209b6f19f0203010001\n",
            "3082025c02010002818100b47098f898b40aa86716e3a912b94bd2befcc60084d45e4164f05d2654e2ab8c6b5ff6a4000bbda32b12c0653c7338e1935e7982b58a26a79ca89ae478810324541df1949d5a7f14ee2a40a2cf7fbca7d6dd2ab29d6c6c30694596df1641ce59de8a123c20c77ca75819f0c2c62e32e6e80ada224b009c82a171a39209b6f19f020301000102818015ce45ae4545fcc3bd3196f1a7c19cd82b1c81112efc3b27cbfb0046d19b52fff539f3a47e1ced1dfae69939a2c489eb38d401fb39d52836b947e6f0156001f0fdfca180f832fcab248b9423109c9e66ec313858b7686ff2aca3cb65f488f80bf7d9e53d316519585282f37060b8a62e2ec1e500f187a8a704d4e064c7a55781024100cea302651f5340414f052e7d756cb9474c4ece9750a27855dc7ea8dd4081fe301dcc6aa0572735a2a5d87f8d0348b317d0d06ee2b6872add0e605f8b2df72925024100df8b80123790a7df7a3556f93d1f750a59295d5643f5aca45b6fc8f90b91e535224bf8934c657d679c2b87573e357012ae3d6680884d27bbe4e9cab24caebe73024100971b4364196d32becf7f5588ef36cba2a4ddb85b94decaaad72c54663f87100fb5aac78a6b5143faa5d6d5279470346f4507371f59252d262c1e33a03ec3d075024044d8d9e0c26c32c78903d47d7e6da9c63e1f97377246bf9cfeec36a13d06f9e89b5f7a7723183ebf2241e5b4e0dbe4605c795c90496a39ca8c7dd48785466c3102403b73b060dbc5efaf6cad5105993e8d1bf1a79a5a09e835f303d02f1eb25e6ff2770090c01dcfb45d51f52c79ad23a281bd71a7449c58c99fefe6c926424e3335\n",
            "Balance of 30819f300d06092a864886f70d010101050003818d0030818902818100b47098f898b40aa86716e3a912b94bd2befcc60084d45e4164f05d2654e2ab8c6b5ff6a4000bbda32b12c0653c7338e1935e7982b58a26a79ca89ae478810324541df1949d5a7f14ee2a40a2cf7fbca7d6dd2ab29d6c6c30694596df1641ce59de8a123c20c77ca75819f0c2c62e32e6e80ada224b009c82a171a39209b6f19f0203010001 :  15.00\n",
            "Choice registered !\n",
            "Please choose\n",
            "1: Add a new transaction value\n",
            "2: Mine a new block\n",
            "3: Output the blockchain blocks\n",
            "4: check transaction validity\n",
            "5: Create wallet\n",
            "6: load wallet\n",
            "7: Save keys\n",
            "q : Quit \n",
            "Your Choice : q\n",
            "Balance of 30819f300d06092a864886f70d010101050003818d0030818902818100b47098f898b40aa86716e3a912b94bd2befcc60084d45e4164f05d2654e2ab8c6b5ff6a4000bbda32b12c0653c7338e1935e7982b58a26a79ca89ae478810324541df1949d5a7f14ee2a40a2cf7fbca7d6dd2ab29d6c6c30694596df1641ce59de8a123c20c77ca75819f0c2c62e32e6e80ada224b009c82a171a39209b6f19f0203010001 :  15.00\n",
            "Choice registered !\n",
            "User left\n",
            "Done!\n"
          ],
          "name": "stdout"
        }
      ]
    },
    {
      "cell_type": "code",
      "metadata": {
        "id": "Z_96woPKgw4U",
        "colab_type": "code",
        "colab": {
          "base_uri": "https://localhost:8080/",
          "height": 513
        },
        "outputId": "66d7c3d3-799f-43f1-9252-d74d571a1856"
      },
      "source": [
        "!python node.py"
      ],
      "execution_count": 74,
      "outputs": [
        {
          "output_type": "stream",
          "text": [
            "Cleanup!\n",
            "Please choose\n",
            "1: Add a new transaction value\n",
            "2: Mine a new block\n",
            "3: Output the blockchain blocks\n",
            "4: check transaction validity\n",
            "5: Create wallet\n",
            "6: load wallet\n",
            "7: Save keys\n",
            "q : Quit \n",
            "Your Choice : 6\n",
            "Cleanup!\n",
            "Balance of 30819f300d06092a864886f70d010101050003818d0030818902818100b47098f898b40aa86716e3a912b94bd2befcc60084d45e4164f05d2654e2ab8c6b5ff6a4000bbda32b12c0653c7338e1935e7982b58a26a79ca89ae478810324541df1949d5a7f14ee2a40a2cf7fbca7d6dd2ab29d6c6c30694596df1641ce59de8a123c20c77ca75819f0c2c62e32e6e80ada224b009c82a171a39209b6f19f0203010001 :  15.00\n",
            "Choice registered !\n",
            "Please choose\n",
            "1: Add a new transaction value\n",
            "2: Mine a new block\n",
            "3: Output the blockchain blocks\n",
            "4: check transaction validity\n",
            "5: Create wallet\n",
            "6: load wallet\n",
            "7: Save keys\n",
            "q : Quit \n",
            "Your Choice : q\n",
            "Balance of 30819f300d06092a864886f70d010101050003818d0030818902818100b47098f898b40aa86716e3a912b94bd2befcc60084d45e4164f05d2654e2ab8c6b5ff6a4000bbda32b12c0653c7338e1935e7982b58a26a79ca89ae478810324541df1949d5a7f14ee2a40a2cf7fbca7d6dd2ab29d6c6c30694596df1641ce59de8a123c20c77ca75819f0c2c62e32e6e80ada224b009c82a171a39209b6f19f0203010001 :  15.00\n",
            "Choice registered !\n",
            "User left\n",
            "Done!\n"
          ],
          "name": "stdout"
        }
      ]
    },
    {
      "cell_type": "code",
      "metadata": {
        "id": "rY4hfgF7SZva",
        "colab_type": "code",
        "colab": {
          "base_uri": "https://localhost:8080/",
          "height": 71
        },
        "outputId": "c6979ca4-372f-48d2-a1f1-92509f26a792"
      },
      "source": [
        "!cat wallet.txt"
      ],
      "execution_count": 75,
      "outputs": [
        {
          "output_type": "stream",
          "text": [
            "30819f300d06092a864886f70d010101050003818d0030818902818100b47098f898b40aa86716e3a912b94bd2befcc60084d45e4164f05d2654e2ab8c6b5ff6a4000bbda32b12c0653c7338e1935e7982b58a26a79ca89ae478810324541df1949d5a7f14ee2a40a2cf7fbca7d6dd2ab29d6c6c30694596df1641ce59de8a123c20c77ca75819f0c2c62e32e6e80ada224b009c82a171a39209b6f19f0203010001\n",
            "3082025c02010002818100b47098f898b40aa86716e3a912b94bd2befcc60084d45e4164f05d2654e2ab8c6b5ff6a4000bbda32b12c0653c7338e1935e7982b58a26a79ca89ae478810324541df1949d5a7f14ee2a40a2cf7fbca7d6dd2ab29d6c6c30694596df1641ce59de8a123c20c77ca75819f0c2c62e32e6e80ada224b009c82a171a39209b6f19f020301000102818015ce45ae4545fcc3bd3196f1a7c19cd82b1c81112efc3b27cbfb0046d19b52fff539f3a47e1ced1dfae69939a2c489eb38d401fb39d52836b947e6f0156001f0fdfca180f832fcab248b9423109c9e66ec313858b7686ff2aca3cb65f488f80bf7d9e53d316519585282f37060b8a62e2ec1e500f187a8a704d4e064c7a55781024100cea302651f5340414f052e7d756cb9474c4ece9750a27855dc7ea8dd4081fe301dcc6aa0572735a2a5d87f8d0348b317d0d06ee2b6872add0e605f8b2df72925024100df8b80123790a7df7a3556f93d1f750a59295d5643f5aca45b6fc8f90b91e535224bf8934c657d679c2b87573e357012ae3d6680884d27bbe4e9cab24caebe73024100971b4364196d32becf7f5588ef36cba2a4ddb85b94decaaad72c54663f87100fb5aac78a6b5143faa5d6d5279470346f4507371f59252d262c1e33a03ec3d075024044d8d9e0c26c32c78903d47d7e6da9c63e1f97377246bf9cfeec36a13d06f9e89b5f7a7723183ebf2241e5b4e0dbe4605c795c90496a39ca8c7dd48785466c3102403b73b060dbc5efaf6cad5105993e8d1bf1a79a5a09e835f303d02f1eb25e6ff2770090c01dcfb45d51f52c79ad23a281bd71a7449c58c99fefe6c926424e3335"
          ],
          "name": "stdout"
        }
      ]
    },
    {
      "cell_type": "code",
      "metadata": {
        "id": "Q6JGtUWA1VNG",
        "colab_type": "code",
        "outputId": "226a92a4-9986-435a-a2ee-03fc6e339238",
        "colab": {
          "base_uri": "https://localhost:8080/",
          "height": 119
        }
      },
      "source": [
        "ls -rlt utility/"
      ],
      "execution_count": 76,
      "outputs": [
        {
          "output_type": "stream",
          "text": [
            "total 20\n",
            "-rw-r--r-- 1 root root   90 Mar 13 05:27 __init__.py\n",
            "-rw-r--r-- 1 root root  404 Mar 13 05:27 hash_util.py\n",
            "-rw-r--r-- 1 root root 1219 Mar 13 05:27 verification.py\n",
            "-rw-r--r-- 1 root root   68 Mar 13 05:27 printable.py\n",
            "drwxr-xr-x 2 root root 4096 Mar 13 05:40 \u001b[0m\u001b[01;34m__pycache__\u001b[0m/\n"
          ],
          "name": "stdout"
        }
      ]
    },
    {
      "cell_type": "code",
      "metadata": {
        "id": "1n80LL1j1VeF",
        "colab_type": "code",
        "outputId": "36d9822b-46b4-4054-8c07-bd776e1d2a4b",
        "colab": {
          "base_uri": "https://localhost:8080/",
          "height": 204
        }
      },
      "source": [
        "ls -rlt"
      ],
      "execution_count": 77,
      "outputs": [
        {
          "output_type": "stream",
          "text": [
            "total 48\n",
            "drwxr-xr-x 1 root root 4096 Mar  3 18:11 \u001b[0m\u001b[01;34msample_data\u001b[0m/\n",
            "drwxr-xr-x 3 root root 4096 Mar 13 05:40 \u001b[01;34mutility\u001b[0m/\n",
            "-rw-r--r-- 1 root root 1398 Mar 13 06:06 wallet.py\n",
            "-rw-r--r-- 1 root root 3098 Mar 13 06:06 node.py\n",
            "-rw-r--r-- 1 root root  307 Mar 13 06:06 block.py\n",
            "-rw-r--r-- 1 root root  428 Mar 13 06:06 transaction.py\n",
            "-rw-r--r-- 1 root root 5349 Mar 13 06:06 blockchain.py\n",
            "drwxr-xr-x 2 root root 4096 Mar 13 06:06 \u001b[01;34m__pycache__\u001b[0m/\n",
            "-rw-r--r-- 1 root root 4835 Mar 13 06:10 blockchain.txt\n",
            "-rw-r--r-- 1 root root 1541 Mar 13 06:10 wallet.txt\n"
          ],
          "name": "stdout"
        }
      ]
    },
    {
      "cell_type": "code",
      "metadata": {
        "id": "UkQrFCNQ6mOI",
        "colab_type": "code",
        "colab": {}
      },
      "source": [
        ""
      ],
      "execution_count": 0,
      "outputs": []
    },
    {
      "cell_type": "code",
      "metadata": {
        "id": "EdkFfhu6hHRd",
        "colab_type": "code",
        "colab": {}
      },
      "source": [
        ""
      ],
      "execution_count": 0,
      "outputs": []
    },
    {
      "cell_type": "code",
      "metadata": {
        "id": "tI3_olS21XGB",
        "colab_type": "code",
        "colab": {}
      },
      "source": [
        "!rm blockchain.txt"
      ],
      "execution_count": 0,
      "outputs": []
    },
    {
      "cell_type": "code",
      "metadata": {
        "id": "dChgGuLq5AtP",
        "colab_type": "code",
        "outputId": "86c1fb96-a805-4b68-c514-e77294bc1b18",
        "colab": {
          "base_uri": "https://localhost:8080/",
          "height": 71
        }
      },
      "source": [
        "!cat blockchain.txt"
      ],
      "execution_count": 78,
      "outputs": [
        {
          "output_type": "stream",
          "text": [
            "[{\"index\": 0, \"previous_hash\": \"\", \"transactions\": [], \"proof\": 100, \"time\": 0}, {\"index\": 1, \"previous_hash\": \"f43bf96b7d7071552937a9fa0a82076d92554d2d593eaf76d8e77f19bd7cf5b8\", \"transactions\": [{\"sender\": \"MINING\", \"recipient\": \"30819f300d06092a864886f70d010101050003818d0030818902818100c37d14aa54eac2d11577eeebbb781bbb475ed9c5c01bb95e30bf4ce9a0c1bd85cd197884f3021ae805cd7d9c68b913e41bc5b37ee6f5af7f9b4a01325483215664b0b959dda414c13e84db0f15fbf331650adac46d64bb839fdba6e7db0b5b28b48f302f242e146845ca6dc8d193e3023485e5b9c1cec0c6515794175d93dca50203010001\", \"amount\": 10}], \"proof\": 195, \"time\": 0}, {\"index\": 2, \"previous_hash\": \"10cc217cd6212dad0a0a8631ba4c955a1f89da8313e02722ca575d65280e4a30\", \"transactions\": [{\"sender\": \"MINING\", \"recipient\": \"30819f300d06092a864886f70d010101050003818d0030818902818100c37d14aa54eac2d11577eeebbb781bbb475ed9c5c01bb95e30bf4ce9a0c1bd85cd197884f3021ae805cd7d9c68b913e41bc5b37ee6f5af7f9b4a01325483215664b0b959dda414c13e84db0f15fbf331650adac46d64bb839fdba6e7db0b5b28b48f302f242e146845ca6dc8d193e3023485e5b9c1cec0c6515794175d93dca50203010001\", \"amount\": 10}], \"proof\": 51, \"time\": 0}, {\"index\": 3, \"previous_hash\": \"45c653f9e5bca88b90c8b8128bfd31424c274c2b5b7a3b5d47507e0f6ee2fb8b\", \"transactions\": [{\"sender\": \"30819f300d06092a864886f70d010101050003818d0030818902818100c37d14aa54eac2d11577eeebbb781bbb475ed9c5c01bb95e30bf4ce9a0c1bd85cd197884f3021ae805cd7d9c68b913e41bc5b37ee6f5af7f9b4a01325483215664b0b959dda414c13e84db0f15fbf331650adac46d64bb839fdba6e7db0b5b28b48f302f242e146845ca6dc8d193e3023485e5b9c1cec0c6515794175d93dca50203010001\", \"recipient\": \"we\", \"amount\": 11.0}, {\"sender\": \"MINING\", \"recipient\": \"30819f300d06092a864886f70d010101050003818d0030818902818100c37d14aa54eac2d11577eeebbb781bbb475ed9c5c01bb95e30bf4ce9a0c1bd85cd197884f3021ae805cd7d9c68b913e41bc5b37ee6f5af7f9b4a01325483215664b0b959dda414c13e84db0f15fbf331650adac46d64bb839fdba6e7db0b5b28b48f302f242e146845ca6dc8d193e3023485e5b9c1cec0c6515794175d93dca50203010001\", \"amount\": 10}], \"proof\": 69, \"time\": 0}, {\"index\": 4, \"previous_hash\": \"76b5221c6ad3b6fefe3d5b986d81fb3c2d193ef2388d590d7c5f2cd5e3bc5117\", \"transactions\": [{\"sender\": \"MINING\", \"recipient\": \"30819f300d06092a864886f70d010101050003818d0030818902818100bf88ca3371288165af5ac572511d04a3cee29d3bba511ac606c2328650ab9b60a7fcaaa4550bcf059ce6cbc83e5b8bfb26b0848021f4e5da5f85d67d70c308fe028118ddf72d1242161b0e31ef92da4c96c550b74ba7132b098820a70a900facb0670203ce93c37601ca163c0a84060fea6295b8e33efa50d2b74c537f467f690203010001\", \"amount\": 10}], \"proof\": 76, \"time\": 0}, {\"index\": 5, \"previous_hash\": \"ee5769d819b7af9accafa35e4baaad28edf0aefc33223245d9a9c06125bfdb8f\", \"transactions\": [{\"sender\": \"30819f300d06092a864886f70d010101050003818d0030818902818100bf88ca3371288165af5ac572511d04a3cee29d3bba511ac606c2328650ab9b60a7fcaaa4550bcf059ce6cbc83e5b8bfb26b0848021f4e5da5f85d67d70c308fe028118ddf72d1242161b0e31ef92da4c96c550b74ba7132b098820a70a900facb0670203ce93c37601ca163c0a84060fea6295b8e33efa50d2b74c537f467f690203010001\", \"recipient\": \"we\", \"amount\": 4.0}, {\"sender\": \"MINING\", \"recipient\": \"30819f300d06092a864886f70d010101050003818d0030818902818100bf88ca3371288165af5ac572511d04a3cee29d3bba511ac606c2328650ab9b60a7fcaaa4550bcf059ce6cbc83e5b8bfb26b0848021f4e5da5f85d67d70c308fe028118ddf72d1242161b0e31ef92da4c96c550b74ba7132b098820a70a900facb0670203ce93c37601ca163c0a84060fea6295b8e33efa50d2b74c537f467f690203010001\", \"amount\": 10}], \"proof\": 494, \"time\": 0}, {\"index\": 6, \"previous_hash\": \"637da27209dc686d23750c15c53eb971421918f8a58a94510a09ba42e7fac391\", \"transactions\": [{\"sender\": \"MINING\", \"recipient\": \"30819f300d06092a864886f70d010101050003818d0030818902818100b47098f898b40aa86716e3a912b94bd2befcc60084d45e4164f05d2654e2ab8c6b5ff6a4000bbda32b12c0653c7338e1935e7982b58a26a79ca89ae478810324541df1949d5a7f14ee2a40a2cf7fbca7d6dd2ab29d6c6c30694596df1641ce59de8a123c20c77ca75819f0c2c62e32e6e80ada224b009c82a171a39209b6f19f0203010001\", \"amount\": 10}], \"proof\": 487, \"time\": 0}, {\"index\": 7, \"previous_hash\": \"4a1f6ec1bd3e34c4776cdfc298d8b647eae563d9b6f435809b2e14ef973213cd\", \"transactions\": [{\"sender\": \"30819f300d06092a864886f70d010101050003818d0030818902818100b47098f898b40aa86716e3a912b94bd2befcc60084d45e4164f05d2654e2ab8c6b5ff6a4000bbda32b12c0653c7338e1935e7982b58a26a79ca89ae478810324541df1949d5a7f14ee2a40a2cf7fbca7d6dd2ab29d6c6c30694596df1641ce59de8a123c20c77ca75819f0c2c62e32e6e80ada224b009c82a171a39209b6f19f0203010001\", \"recipient\": \"we\", \"amount\": 5.0}, {\"sender\": \"MINING\", \"recipient\": \"30819f300d06092a864886f70d010101050003818d0030818902818100b47098f898b40aa86716e3a912b94bd2befcc60084d45e4164f05d2654e2ab8c6b5ff6a4000bbda32b12c0653c7338e1935e7982b58a26a79ca89ae478810324541df1949d5a7f14ee2a40a2cf7fbca7d6dd2ab29d6c6c30694596df1641ce59de8a123c20c77ca75819f0c2c62e32e6e80ada224b009c82a171a39209b6f19f0203010001\", \"amount\": 10}], \"proof\": 20, \"time\": 0}]\n",
            "[]"
          ],
          "name": "stdout"
        }
      ]
    },
    {
      "cell_type": "code",
      "metadata": {
        "id": "cGf2iqfw7P5l",
        "colab_type": "code",
        "colab": {}
      },
      "source": [
        "2"
      ],
      "execution_count": 0,
      "outputs": []
    }
  ]
}
