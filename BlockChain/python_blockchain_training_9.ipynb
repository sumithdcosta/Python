{
  "nbformat": 4,
  "nbformat_minor": 0,
  "metadata": {
    "colab": {
      "name": "python_blockchain_training_8.ipynb",
      "provenance": [],
      "authorship_tag": "ABX9TyN4eW3tqN6ke0bN3GLSBoNv",
      "include_colab_link": true
    },
    "kernelspec": {
      "name": "python3",
      "display_name": "Python 3"
    }
  },
  "cells": [
    {
      "cell_type": "markdown",
      "metadata": {
        "id": "view-in-github",
        "colab_type": "text"
      },
      "source": [
        "<a href=\"https://colab.research.google.com/github/sumithdcosta/Python/blob/master/BlockChain/python_blockchain_training_9.ipynb\" target=\"_parent\"><img src=\"https://colab.research.google.com/assets/colab-badge.svg\" alt=\"Open In Colab\"/></a>"
      ]
    },
    {
      "cell_type": "code",
      "metadata": {
        "id": "n0NnQnma4beJ",
        "colab_type": "code",
        "outputId": "0410b2cc-9e17-4189-e141-c2d3dcb72048",
        "colab": {
          "base_uri": "https://localhost:8080/",
          "height": 34
        }
      },
      "source": [
        "%%writefile hash_util.py\n",
        "import hashlib as hl\n",
        "import json\n",
        "\n",
        "def hash_string_256(string):\n",
        "  return hl.sha256(string).hexdigest()\n",
        "\n",
        "def hash_block(block):\n",
        "  #print(block)\n",
        "  hashable_block = block.__dict__.copy()\n",
        "  hashable_block['transactions'] = [tx.to_ordered_dict() for tx in hashable_block['transactions']]\n",
        "  return hash_string_256(json.dumps(hashable_block, sort_keys=True).encode())\n"
      ],
      "execution_count": 2,
      "outputs": [
        {
          "output_type": "stream",
          "text": [
            "Writing hash_util.py\n"
          ],
          "name": "stdout"
        }
      ]
    },
    {
      "cell_type": "code",
      "metadata": {
        "id": "ToZzL_dTTWPi",
        "colab_type": "code",
        "outputId": "2dbe3f2d-f6d0-4f3e-842c-d046be5fa7da",
        "colab": {
          "base_uri": "https://localhost:8080/",
          "height": 34
        }
      },
      "source": [
        "%%writefile block.py\n",
        "from time import time\n",
        "\n",
        "class Block:\n",
        "  def __init__(self, index, previous_hash, transactions, proof, time=time()):\n",
        "    self.index = index\n",
        "    self.previous_hash = previous_hash\n",
        "    self.transactions = transactions\n",
        "    self.proof = proof\n",
        "    self.time = time\n",
        "\n",
        "  def __repr__(self):\n",
        "    #return 'Index: {}, Previous hash: {}, Proof: {}, transactions: {}'.format(self.index, self.previous_hash, self.proof, self.transactions)\n",
        "    return str(self.__dict__)"
      ],
      "execution_count": 22,
      "outputs": [
        {
          "output_type": "stream",
          "text": [
            "Overwriting block.py\n"
          ],
          "name": "stdout"
        }
      ]
    },
    {
      "cell_type": "code",
      "metadata": {
        "id": "6bN5Bs-M_xVL",
        "colab_type": "code",
        "outputId": "ead14533-b5cf-49ef-e02b-9d1c09c61b10",
        "colab": {
          "base_uri": "https://localhost:8080/",
          "height": 34
        }
      },
      "source": [
        "%%writefile transaction.py\n",
        "from collections import OrderedDict\n",
        "class Transaction:\n",
        "  def __init__(self, sender, recipient, amount):\n",
        "    self.sender = sender\n",
        "    self.recipient = recipient\n",
        "    self.amount = amount\n",
        "\n",
        "  def __repr__(self):\n",
        "    return str(self.__dict__)\n",
        "\n",
        "  def to_ordered_dict(self):\n",
        "      return OrderedDict([('sender', self.sender),\n",
        "                          ('recipient', self.recipient),\n",
        "                          ('amount', self.amount)])"
      ],
      "execution_count": 23,
      "outputs": [
        {
          "output_type": "stream",
          "text": [
            "Overwriting transaction.py\n"
          ],
          "name": "stdout"
        }
      ]
    },
    {
      "cell_type": "code",
      "metadata": {
        "id": "BPGxXDSQ4tuO",
        "colab_type": "code",
        "outputId": "e4611df5-8e5c-46ea-b3a0-caceea0459cb",
        "colab": {
          "base_uri": "https://localhost:8080/",
          "height": 34
        }
      },
      "source": [
        "%%writefile blockchain.py\n",
        "# try except block : \n",
        "#####################################################\n",
        "import functools\n",
        "import hashlib as hl\n",
        "import json\n",
        "from collections import OrderedDict\n",
        "import sys\n",
        "\n",
        "from hash_util import hash_string_256, hash_block\n",
        "from block import Block\n",
        "from transaction import Transaction\n",
        "from time import time\n",
        "\n",
        "#global variable\n",
        "MINING_REWARD = 10\n",
        "\n",
        "blockchain = []\n",
        "\n",
        "open_transactions = []\n",
        "\n",
        "\n",
        "owner = 'Sumith'\n",
        "participants = {owner}\n",
        "\n",
        "def initialise():\n",
        "  genesis_block = Block(index = 0,\n",
        "                        previous_hash= '',\n",
        "                        transactions = [],\n",
        "                        proof = 100,\n",
        "                        time = 0)\n",
        "\n",
        "  blockchain = [genesis_block]\n",
        "  return blockchain\n",
        "\n",
        "def load_data():\n",
        "  global blockchain\n",
        "  global open_transactions \n",
        "  try:\n",
        "    with open('blockchain.txt', mode='r') as f:\n",
        "      file_content = f.readlines()\n",
        "\n",
        "      blockchain = json.loads(file_content[0][:-1])\n",
        "      updated_blockchain=[]\n",
        "      for block in blockchain:\n",
        "        converted_tx = [Transaction(tx['sender'],\n",
        "                                    tx['recipient'],\n",
        "                                    tx['amount']) for tx in block['transactions']]\n",
        "        updated_block = Block(block['index'],\n",
        "                              block['previous_hash'],\n",
        "                              converted_tx,\n",
        "                              block['proof'],\n",
        "                              block['time'])\n",
        "        updated_blockchain.append(updated_block)\n",
        "      blockchain = updated_blockchain\n",
        "      \"\"\"blockchian = [(Block(block['index'],\n",
        "                           block['previous_hash'],\n",
        "                           (Transaction(tx['sender'],\n",
        "                                        tx['recipient'],\n",
        "                                        tx['amount']) for tx in block['transactions']),\n",
        "                           block['proof'],\n",
        "                           block['time'])\n",
        "                      )for block in blockchain]\"\"\"\n",
        "    \n",
        "      open_transactions = json.loads(file_content[1])\n",
        "      updated_transactions = []\n",
        "      for tx in open_transactions:\n",
        "        updated_transaction = Transaction(tx['sender'],\n",
        "                                           tx['recipient'],\n",
        "                                           tx['amount'])\n",
        "        updated_transactions.append(updated_transaction) \n",
        "      open_transactions = updated_transactions\n",
        "      \"\"\"open_transactions = [Transaction(tx['sender'],\n",
        "                                       tx['recipient'],\n",
        "                                       tx['amount'])  for tx in open_transactions]\"\"\"\n",
        "  except (IOError, IndexError):                    \n",
        "    print('File not found!')\n",
        "    blockchain = initialise()\n",
        "  except ValueError:\n",
        "    print('Value error!')\n",
        "  except Exception as exc:\n",
        "    print(\"Oops!\",exc)\n",
        "    print(\"Oops!\",sys.exc_info()[0],\"occured.\")\n",
        "    sys.exit(1)\n",
        "  finally:\n",
        "    print('Cleanup!')\n",
        "\n",
        "\n",
        "load_data()\n",
        "\n",
        "def save_data():\n",
        "  try :\n",
        "    with open('blockchain.txt', mode='w') as f:\n",
        "      saveable_chain = [block.__dict__ for block in [Block(\n",
        "          block_el.index,\n",
        "          block_el.previous_hash,\n",
        "          [tx.__dict__ for tx in block_el.transactions],\n",
        "          block_el.proof,\n",
        "          block_el.time\n",
        "      ) for block_el in blockchain]]\n",
        "\n",
        "      f.write(json.dumps(saveable_chain))\n",
        "      f.write('\\n')\n",
        "      saveable_tx = [tx.__dict__ for tx in open_transactions]\n",
        "      f.write(json.dumps(saveable_tx))\n",
        "  except IOError:\n",
        "    print('Error saving file!')\n",
        "\n",
        "def get_last_blockchain_value():\n",
        "  \"\"\" returns the last value of the current bloackchain \"\"\"\n",
        "  #function to return the value\n",
        "  if len(blockchain) < 1 :\n",
        "    return None\n",
        "  return blockchain[-1]\n",
        "\n",
        "def verify_transaction(transaction):\n",
        "  sender_balance = get_balance(transaction.sender)\n",
        "  return sender_balance >= transaction.amount\n",
        "\n",
        "\n",
        "#adding kwargs to function and setting up default value\n",
        "#transaction_amount is local varible\n",
        "def add_transaction(recipient,sender=owner, amount=1.0):\n",
        "  \"\"\" Appends a new value as well as the last blockchain value to teh block\n",
        "\n",
        "  Arguments:\n",
        "    : Sender :  sender of coins\n",
        "    : recipent : recipient of coin\n",
        "  \"\"\"\n",
        "  #appending values to blockchian and retaining the last value\n",
        "  #transaction = {'sender': sender,\n",
        "  #               'recipient': recipient, \n",
        "  #               'amount' : amount }\n",
        "  transaction = Transaction(sender, recipient, amount)\n",
        "  if verify_transaction(transaction):\n",
        "    open_transactions.append(transaction)\n",
        "    save_data()\n",
        "    return True\n",
        "  return False\n",
        "\n",
        "\n",
        "def valid_proof(transactions, last_hash, proof):\n",
        "  guess = (str([tx.to_ordered_dict() for tx in transactions]) + str(last_hash) + str(proof)).encode()\n",
        "  guess_hash = hash_string_256(guess)\n",
        "  #print(guess_hash)\n",
        "  return guess_hash[0:2] == '00'\n",
        "\n",
        "def proof_of_work():\n",
        "  last_block = blockchain[-1]\n",
        "  last_hash = hash_block(last_block)\n",
        "  proof = 0\n",
        "  while not valid_proof(open_transactions, last_hash, proof):\n",
        "    proof += 1\n",
        "  return proof\n",
        "  \n",
        "\n",
        "def get_balance(participant):\n",
        "  tx_sender = [[tx.amount for tx in block.transactions if tx.sender == participant] for block in blockchain]\n",
        "  open_tx_sender = [tx.amount for tx in open_transactions if tx.sender == participant]\n",
        "  tx_sender.append(open_tx_sender)\n",
        "  amount_sent = functools.reduce(lambda tx_sum, tx_amt: tx_sum + sum(tx_amt) if len(tx_amt) > 0 else tx_sum + 0, tx_sender,0)\n",
        "  tx_recipient = [[tx.amount for tx in block.transactions if tx.recipient == participant] for block in blockchain]\n",
        "  amount_received = functools.reduce(lambda tx_sum, tx_amt: tx_sum + sum(tx_amt) if len(tx_amt) > 0 else tx_sum + 0, tx_recipient,0)\n",
        "  return  amount_received - amount_sent\n",
        "\n",
        "def mine_block():\n",
        "  last_block = blockchain[-1]\n",
        "  #list comprehensions\n",
        "  hashed_block = hash_block(last_block)\n",
        "  proof = proof_of_work() \n",
        "  #reward_transaction = {\n",
        "  #    'sender': 'MINING',\n",
        "  #    'recipient': owner,\n",
        "  #    'amount': MINING_REWARD\n",
        "  #}\n",
        "  reward_transaction = Transaction(sender = 'MINING', recipient = owner, amount = MINING_REWARD)\n",
        "  copied_transactions = open_transactions[:]\n",
        "  copied_transactions.append(reward_transaction)\n",
        "  block = Block(index = len(blockchain),\n",
        "                      previous_hash = hashed_block,\n",
        "                      transactions = copied_transactions,\n",
        "                      proof = proof,\n",
        "                      time = 0)\n",
        "  blockchain.append(block)\n",
        "  #save_data()\n",
        "  return True\n",
        "\n",
        "#using function for reusable code.\n",
        "def get_transaction_value():\n",
        "  \"\"\" Retruns the input of the user(a new transaction amount) as a float\n",
        "  \"\"\"\n",
        "  tx_recipient = input('Enter the recipent of the transaction: ') \n",
        "  tx_amount = float(input('Your trasaction amount please: ')) \n",
        "  return (tx_recipient, tx_amount)\n",
        "  \n",
        "def get_user_choice():\n",
        "  user_input = input('Your Choice : ')\n",
        "  return user_input\n",
        "\n",
        "def print_blockchain_elements():\n",
        "  #use for loop to output the blockchain list console\n",
        "  for block in blockchain:\n",
        "    print('outputting block : ', block)\n",
        "  else:\n",
        "    print('-' * 20)\n",
        "\n",
        "def verify_chain():\n",
        "  \"\"\"verify current blockchain\"\"\"\n",
        "  for (index, block) in enumerate(blockchain):\n",
        "    if index == 0:\n",
        "      continue\n",
        "    if block.previous_hash != hash_block(blockchain[index -1]):\n",
        "      return False\n",
        "    if not valid_proof(block.transactions[:-1], block.previous_hash, block.proof):\n",
        "      print('Prood of work invalid')\n",
        "      return False\n",
        "  return True\n",
        "\n",
        "def verify_transactions():\n",
        "  return all([verify_transaction(tx) for tx in open_transactions])\n",
        "#  is_valid = True\n",
        "#  for tx in open_transactions:\n",
        "#    if verify_transaction(tx):\n",
        "#      is_valid = True\n",
        "#    else:\n",
        "#      is_valid = False\n",
        "  \n",
        "waiting_for_input = True\n",
        "\n",
        "while waiting_for_input:\n",
        "  print('Please choose')\n",
        "  print('1: Add a new transaction value')\n",
        "  print('2: Mine a new block')\n",
        "  print('3: Output the blockchain blocks')\n",
        "  print('4: check transaction validity')\n",
        "  print('q : Quit ')\n",
        "  user_choice = get_user_choice()\n",
        "  if user_choice == '1':\n",
        "    tx_data = get_transaction_value()\n",
        "    recipient, amount = tx_data\n",
        "    if add_transaction(recipient, amount=amount):\n",
        "      print('Added transaction')\n",
        "    else:\n",
        "      print('Tranaction failed')\n",
        "    print(open_transactions)\n",
        "  elif user_choice == '2':\n",
        "    if mine_block():\n",
        "      open_transactions = []\n",
        "      save_data()\n",
        "  elif user_choice == '3':\n",
        "    print_blockchain_elements()\n",
        "  elif user_choice == '4':\n",
        "    if verify_transactions():\n",
        "      print(\"All Transactions are valid\")\n",
        "    else:\n",
        "      print('There are invalid transaction')\n",
        "  elif user_choice == 'q':\n",
        "    waiting_for_input = False\n",
        "  else:\n",
        "    print('Input was invalid, please pick a value from the list!')    \n",
        "  \n",
        "  if not verify_chain():\n",
        "    print_blockchain_elements()\n",
        "    print('Invalid block chain!')\n",
        "    break\n",
        "  print('Balance of {} : {:6.2f}'.format(owner, get_balance(owner)))  \n",
        "  print('Choice registered !')\n",
        "else:\n",
        "  print('User left')\n",
        "\n",
        "print('Done')\n"
      ],
      "execution_count": 24,
      "outputs": [
        {
          "output_type": "stream",
          "text": [
            "Overwriting blockchain.py\n"
          ],
          "name": "stdout"
        }
      ]
    },
    {
      "cell_type": "code",
      "metadata": {
        "id": "D7WqmlW_BL94",
        "colab_type": "code",
        "outputId": "75759dab-5b91-4023-adf7-3b0d326cf1c5",
        "colab": {
          "base_uri": "https://localhost:8080/",
          "height": 445
        }
      },
      "source": [
        "!python blockchain.py"
      ],
      "execution_count": 25,
      "outputs": [
        {
          "output_type": "stream",
          "text": [
            "Cleanup!\n",
            "Please choose\n",
            "1: Add a new transaction value\n",
            "2: Mine a new block\n",
            "3: Output the blockchain blocks\n",
            "4: check transaction validity\n",
            "q : Quit \n",
            "Your Choice : 3\n",
            "outputting block :  {'index': 0, 'previous_hash': '', 'transactions': [], 'proof': 100, 'time': 0}\n",
            "outputting block :  {'index': 1, 'previous_hash': 'f43bf96b7d7071552937a9fa0a82076d92554d2d593eaf76d8e77f19bd7cf5b8', 'transactions': [{'sender': 'MINING', 'recipient': 'Sumith', 'amount': 10}], 'proof': 195, 'time': 0}\n",
            "--------------------\n",
            "Balance of Sumith :  10.00\n",
            "Choice registered !\n",
            "Please choose\n",
            "1: Add a new transaction value\n",
            "2: Mine a new block\n",
            "3: Output the blockchain blocks\n",
            "4: check transaction validity\n",
            "q : Quit \n",
            "Your Choice : q\n",
            "Balance of Sumith :  10.00\n",
            "Choice registered !\n",
            "User left\n",
            "Done\n"
          ],
          "name": "stdout"
        }
      ]
    },
    {
      "cell_type": "code",
      "metadata": {
        "id": "rY4hfgF7SZva",
        "colab_type": "code",
        "colab": {}
      },
      "source": [
        "2"
      ],
      "execution_count": 0,
      "outputs": []
    },
    {
      "cell_type": "code",
      "metadata": {
        "id": "UkQrFCNQ6mOI",
        "colab_type": "code",
        "colab": {}
      },
      "source": [
        "!rm blockchain.txt"
      ],
      "execution_count": 0,
      "outputs": []
    },
    {
      "cell_type": "code",
      "metadata": {
        "id": "dChgGuLq5AtP",
        "colab_type": "code",
        "outputId": "62db447b-0f78-482f-82c9-787ddec72285",
        "colab": {
          "base_uri": "https://localhost:8080/",
          "height": 71
        }
      },
      "source": [
        "!cat blockchain.txt"
      ],
      "execution_count": 0,
      "outputs": [
        {
          "output_type": "stream",
          "text": [
            "[{\"index\": 0, \"previous_hash\": \"\", \"transactions\": [], \"proof\": 100, \"time\": 0}, {\"index\": 1, \"previous_hash\": \"f43bf96b7d7071552937a9fa0a82076d92554d2d593eaf76d8e77f19bd7cf5b8\", \"transactions\": [{\"sender\": \"MINING\", \"recipient\": \"Sumith\", \"amount\": 10}], \"proof\": 195, \"time\": 0}, {\"index\": 2, \"previous_hash\": \"a2e61e99c6c2d59fd55a172f4e8bda4eb57ed11eb95b15acca0aa2409b78a953\", \"transactions\": [{\"sender\": \"MINING\", \"recipient\": \"Sumith\", \"amount\": 10}], \"proof\": 180, \"time\": 0}, {\"index\": 3, \"previous_hash\": \"55c2ab59b701901fc72b4126af272830099eb79c5790ad7bb83db9ffb280b2c2\", \"transactions\": [{\"sender\": \"MINING\", \"recipient\": \"Sumith\", \"amount\": 10}], \"proof\": 248, \"time\": 0}, {\"index\": 4, \"previous_hash\": \"a771843b4253310565d6a9439171eb3bf5c6cb9b4438af30378b1cb4d4ac383d\", \"transactions\": [{\"sender\": \"MINING\", \"recipient\": \"Sumith\", \"amount\": 10}], \"proof\": 136, \"time\": 0}, {\"index\": 5, \"previous_hash\": \"39dd1672ace5ac86e4e1029ec8952b5b25de53e97dd9fcf7f0e3c29bee01a97d\", \"transactions\": [{\"sender\": \"MINING\", \"recipient\": \"Sumith\", \"amount\": 10}], \"proof\": 314, \"time\": 0}, {\"index\": 6, \"previous_hash\": \"0b5cb760c851d8bc999bdd3543576a3ce0f9ab3b59bf77e5352a86375e969ccf\", \"transactions\": [{\"sender\": \"MINING\", \"recipient\": \"Sumith\", \"amount\": 10}], \"proof\": 185, \"time\": 0}, {\"index\": 7, \"previous_hash\": \"4b6b4f29e2d2c86ab8feb57ee46e331b8b232c945ccfd582595dd2c97435148c\", \"transactions\": [{\"sender\": \"Sumith\", \"recipient\": \"34\", \"amount\": 34.0}, {\"sender\": \"MINING\", \"recipient\": \"Sumith\", \"amount\": 10}], \"proof\": 309, \"time\": 0}, {\"index\": 8, \"previous_hash\": \"db200d968d41a107942fe817c5e23463b2250a4710743b4dbf5389bcf65ed168\", \"transactions\": [{\"sender\": \"Sumith\", \"recipient\": \"we\", \"amount\": 2.0}, {\"sender\": \"MINING\", \"recipient\": \"Sumith\", \"amount\": 10}], \"proof\": 388, \"time\": 0}]\n",
            "[]"
          ],
          "name": "stdout"
        }
      ]
    },
    {
      "cell_type": "code",
      "metadata": {
        "id": "cGf2iqfw7P5l",
        "colab_type": "code",
        "colab": {}
      },
      "source": [
        "2"
      ],
      "execution_count": 0,
      "outputs": []
    }
  ]
}