{
  "nbformat": 4,
  "nbformat_minor": 0,
  "metadata": {
    "colab": {
      "name": "python_blockchain_training_13.ipynb",
      "provenance": [],
      "authorship_tag": "ABX9TyPxuaRwIN2oMFHjbb8dAvsS",
      "include_colab_link": true
    },
    "kernelspec": {
      "name": "python3",
      "display_name": "Python 3"
    }
  },
  "cells": [
    {
      "cell_type": "markdown",
      "metadata": {
        "id": "view-in-github",
        "colab_type": "text"
      },
      "source": [
        "<a href=\"https://colab.research.google.com/github/sumithdcosta/Python/blob/master/BlockChain/python_blockchain_training_14.ipynb\" target=\"_parent\"><img src=\"https://colab.research.google.com/assets/colab-badge.svg\" alt=\"Open In Colab\"/></a>"
      ]
    },
    {
      "cell_type": "code",
      "metadata": {
        "id": "n0NnQnma4beJ",
        "colab_type": "code",
        "outputId": "771a7938-46a9-4d54-d6c0-a23dc62f592e",
        "colab": {
          "base_uri": "https://localhost:8080/",
          "height": 34
        }
      },
      "source": [
        "%%writefile hash_util.py\n",
        "import hashlib as hl\n",
        "import json\n",
        "\n",
        "def hash_string_256(string):\n",
        "  return hl.sha256(string).hexdigest()\n",
        "\n",
        "def hash_block(block):\n",
        "  #print(block)\n",
        "  hashable_block = block.__dict__.copy()\n",
        "  hashable_block['transactions'] = [tx.to_ordered_dict() for tx in hashable_block['transactions']]\n",
        "  return hash_string_256(json.dumps(hashable_block, sort_keys=True).encode())\n"
      ],
      "execution_count": 9,
      "outputs": [
        {
          "output_type": "stream",
          "text": [
            "Overwriting hash_util.py\n"
          ],
          "name": "stdout"
        }
      ]
    },
    {
      "cell_type": "markdown",
      "metadata": {
        "id": "ziLerK_nidAY",
        "colab_type": "text"
      },
      "source": [
        ""
      ]
    },
    {
      "cell_type": "code",
      "metadata": {
        "id": "9Z6M6aD_LGh0",
        "colab_type": "code",
        "outputId": "2311fa15-15a2-4c73-fbe3-cd36be4bffa3",
        "colab": {
          "base_uri": "https://localhost:8080/",
          "height": 34
        }
      },
      "source": [
        "%%writefile node.py\n",
        "from uuid import uuid4\n",
        "from blockchain import Blockchain\n",
        "from verification import Verification\n",
        "\n",
        "\n",
        "class Node:\n",
        "  def __init__(self):\n",
        "    self.id = 'Sumith'\n",
        "    #self.id = str(uuid4())\n",
        "    self.blockchain = Blockchain(self.id)\n",
        "    \n",
        "\n",
        "  #using function for reusable code.\n",
        "  def get_transaction_value(self):\n",
        "    \"\"\" Retruns the input of the user(a new transaction amount) as a float\n",
        "    \"\"\"\n",
        "    tx_recipient = input('Enter the recipent of the transaction: ') \n",
        "    tx_amount = float(input('Your trasaction amount please: ')) \n",
        "    return (tx_recipient, tx_amount)\n",
        "  \n",
        "  def get_user_choice(self):\n",
        "    user_input = input('Your Choice : ')\n",
        "    return user_input\n",
        "\n",
        "  def print_blockchain_elements(self):\n",
        "    #use for loop to output the blockchain list console\n",
        "    for block in self.blockchain.chain:\n",
        "      print('outputting block : ', block)\n",
        "    else:\n",
        "      print('-' * 20)\n",
        "\n",
        "  def listen_for_input(self):\n",
        "    waiting_for_input = True\n",
        "    while waiting_for_input:\n",
        "      print('Please choose')\n",
        "      print('1: Add a new transaction value')\n",
        "      print('2: Mine a new block')\n",
        "      print('3: Output the blockchain blocks')\n",
        "      print('4: check transaction validity')\n",
        "      print('q : Quit ')\n",
        "      user_choice = self.get_user_choice()\n",
        "      if user_choice == '1':\n",
        "        tx_data = self.get_transaction_value()\n",
        "        recipient, amount = tx_data\n",
        "        if self.blockchain.add_transaction(recipient, self.id, amount=amount):\n",
        "          print('Added transaction')\n",
        "        else:\n",
        "          print('Tranaction failed')\n",
        "        print(self.blockchain.get_open_transactions())\n",
        "      elif user_choice == '2':\n",
        "        self.blockchain.mine_block()\n",
        "      elif user_choice == '3':\n",
        "          self.print_blockchain_elements()\n",
        "      elif user_choice == '4':\n",
        "        if Verification.verify_transactions(self.blockchain.get_open_transactions(), self.blockchain.get_balance):\n",
        "          print(\"All Transactions are valid\")\n",
        "        else:\n",
        "          print('There are invalid transaction')\n",
        "      elif user_choice == 'q':\n",
        "        waiting_for_input = False\n",
        "      else:\n",
        "        print('Input was invalid, please pick a value from the list!')    \n",
        "      if not Verification.verify_chain(self.blockchain.chain):\n",
        "        self.print_blockchain_elements()\n",
        "        print('Invalid block chain!')\n",
        "        break\n",
        "      print('Balance of {} : {:6.2f}'.format(self.id, self.blockchain.get_balance()))  \n",
        "      print('Choice registered !')\n",
        "    else:\n",
        "      print('User left')\n",
        "    print('Done!') \n",
        "\n",
        "node = Node()\n",
        "node.listen_for_input() \n"
      ],
      "execution_count": 17,
      "outputs": [
        {
          "output_type": "stream",
          "text": [
            "Overwriting node.py\n"
          ],
          "name": "stdout"
        }
      ]
    },
    {
      "cell_type": "code",
      "metadata": {
        "id": "JMBLDpEoy8x9",
        "colab_type": "code",
        "outputId": "948cca1b-272f-4239-a631-a48decfc50a2",
        "colab": {
          "base_uri": "https://localhost:8080/",
          "height": 34
        }
      },
      "source": [
        "%%writefile printable.py\n",
        "class Printable:\n",
        "  def __repr__(self):\n",
        "    return str(self.__dict__)\n"
      ],
      "execution_count": 18,
      "outputs": [
        {
          "output_type": "stream",
          "text": [
            "Overwriting printable.py\n"
          ],
          "name": "stdout"
        }
      ]
    },
    {
      "cell_type": "code",
      "metadata": {
        "id": "ToZzL_dTTWPi",
        "colab_type": "code",
        "outputId": "1a66f08b-9324-4954-c9d5-e7daf33dfd10",
        "colab": {
          "base_uri": "https://localhost:8080/",
          "height": 34
        }
      },
      "source": [
        "%%writefile block.py\n",
        "from time import time\n",
        "from printable import Printable\n",
        "\n",
        "class Block(Printable):\n",
        "  def __init__(self, index, previous_hash, transactions, proof, time=time()):\n",
        "    self.index = index\n",
        "    self.previous_hash = previous_hash\n",
        "    self.transactions = transactions\n",
        "    self.proof = proof\n",
        "    self.time = time\n"
      ],
      "execution_count": 19,
      "outputs": [
        {
          "output_type": "stream",
          "text": [
            "Overwriting block.py\n"
          ],
          "name": "stdout"
        }
      ]
    },
    {
      "cell_type": "code",
      "metadata": {
        "id": "6bN5Bs-M_xVL",
        "colab_type": "code",
        "outputId": "9fa168ff-9640-4b75-f1e2-d5ef99961dac",
        "colab": {
          "base_uri": "https://localhost:8080/",
          "height": 34
        }
      },
      "source": [
        "%%writefile transaction.py\n",
        "from collections import OrderedDict\n",
        "from printable import Printable\n",
        "\n",
        "class Transaction(Printable):\n",
        "  def __init__(self, sender, recipient, amount):\n",
        "    self.sender = sender\n",
        "    self.recipient = recipient\n",
        "    self.amount = amount\n",
        "\n",
        "\n",
        "\n",
        "  def to_ordered_dict(self):\n",
        "      return OrderedDict([('sender', self.sender),\n",
        "                          ('recipient', self.recipient),\n",
        "                          ('amount', self.amount)])"
      ],
      "execution_count": 20,
      "outputs": [
        {
          "output_type": "stream",
          "text": [
            "Overwriting transaction.py\n"
          ],
          "name": "stdout"
        }
      ]
    },
    {
      "cell_type": "code",
      "metadata": {
        "id": "nbIFnbZT1uey",
        "colab_type": "code",
        "outputId": "26fe81f1-b695-4028-b09b-e812b21e7122",
        "colab": {
          "base_uri": "https://localhost:8080/",
          "height": 34
        }
      },
      "source": [
        "%%writefile verification.py\n",
        "from hash_util import hash_string_256, hash_block\n",
        "\n",
        "class Verification:\n",
        "  \n",
        "  @staticmethod\n",
        "  def valid_proof(transactions, last_hash, proof):\n",
        "    guess = (str([tx.to_ordered_dict() for tx in transactions]) + str(last_hash) + str(proof)).encode()\n",
        "    guess_hash = hash_string_256(guess)\n",
        "    #print(guess_hash)\n",
        "    return guess_hash[0:2] == '00'\n",
        "\n",
        "  @classmethod\n",
        "  def verify_chain(cls, blockchain):\n",
        "    \"\"\"verify current blockchain\"\"\"\n",
        "    for (index, block) in enumerate(blockchain):\n",
        "      if index == 0:\n",
        "        continue\n",
        "      if block.previous_hash != hash_block(blockchain[index -1]):\n",
        "        return False\n",
        "      if not cls.valid_proof(block.transactions[:-1], block.previous_hash, block.proof):\n",
        "        print('Prood of work invalid')\n",
        "        return False\n",
        "    return True\n",
        "\n",
        "  @staticmethod\n",
        "  def verify_transaction(transaction, get_balance):\n",
        "    sender_balance = get_balance()\n",
        "    return sender_balance >= transaction.amount\n",
        "\n",
        "  @classmethod\n",
        "  def verify_transactions(cls, open_transactions, get_balance):\n",
        "    return all([cls.verify_transaction(tx, get_balance) for tx in open_transactions])\n"
      ],
      "execution_count": 21,
      "outputs": [
        {
          "output_type": "stream",
          "text": [
            "Overwriting verification.py\n"
          ],
          "name": "stdout"
        }
      ]
    },
    {
      "cell_type": "code",
      "metadata": {
        "id": "BPGxXDSQ4tuO",
        "colab_type": "code",
        "outputId": "98c5675c-63de-4933-faeb-dde7a5c965f4",
        "colab": {
          "base_uri": "https://localhost:8080/",
          "height": 34
        }
      },
      "source": [
        "%%writefile blockchain.py\n",
        "# try except block : \n",
        "#####################################################\n",
        "import functools\n",
        "import hashlib as hl\n",
        "import json\n",
        "from collections import OrderedDict\n",
        "import sys\n",
        "\n",
        "from hash_util import  hash_block\n",
        "from block import Block\n",
        "from transaction import Transaction\n",
        "from time import time\n",
        "from verification import Verification\n",
        "\n",
        "#global variable\n",
        "MINING_REWARD = 10\n",
        "\n",
        "class Blockchain:\n",
        "  def __init__(self, hosting_node_id):\n",
        "    genesis_block = Block(index = 0,\n",
        "                        previous_hash= '',\n",
        "                        transactions = [],\n",
        "                        proof = 100,\n",
        "                        time = 0)\n",
        "\n",
        "    self.chain = [genesis_block]\n",
        "    self._open_transactions = []\n",
        "    self.hosting_node = hosting_node_id\n",
        "    owner = 'Sumith'\n",
        "    participants = {owner}\n",
        "    self.load_data()\n",
        "\n",
        "  @property\n",
        "  def chain(self):\n",
        "      return self._chain[:]\n",
        "  \n",
        "  @chain.setter\n",
        "  def chain(self, val):\n",
        "    self._chain = val\n",
        "\n",
        "  def get_open_transactions(self):\n",
        "    return self._open_transactions[:]\n",
        "\n",
        "  def load_data(self):\n",
        "    try:\n",
        "      with open('blockchain.txt', mode='r') as f:\n",
        "        file_content = f.readlines()\n",
        "\n",
        "        blockchain = json.loads(file_content[0][:-1])\n",
        "        updated_blockchain=[]\n",
        "        for block in blockchain:\n",
        "          converted_tx = [Transaction(tx['sender'],\n",
        "                                      tx['recipient'],\n",
        "                                      tx['amount']) for tx in block['transactions']]\n",
        "          updated_block = Block(block['index'],\n",
        "                                block['previous_hash'],\n",
        "                                converted_tx,\n",
        "                                block['proof'],\n",
        "                                block['time'])\n",
        "          updated_blockchain.append(updated_block)\n",
        "        self.chain = updated_blockchain\n",
        "      \n",
        "        open_transactions = json.loads(file_content[1])\n",
        "        updated_transactions = []\n",
        "        for tx in open_transactions:\n",
        "          updated_transaction = Transaction(tx['sender'],\n",
        "                                             tx['recipient'],\n",
        "                                             tx['amount'])\n",
        "          updated_transactions.append(updated_transaction) \n",
        "        self._open_transactions = updated_transactions\n",
        "    except (IOError, IndexError):                    \n",
        "      pass\n",
        "    except ValueError:\n",
        "      print('Value error!')\n",
        "    except Exception as exc:\n",
        "      print(\"Oops!\",exc)\n",
        "      print(\"Oops!\",sys.exc_info()[0],\"occured.\")\n",
        "      sys.exit(1)\n",
        "    finally:\n",
        "      print('Cleanup!')\n",
        "\n",
        "  def save_data(self):\n",
        "    try :\n",
        "      with open('blockchain.txt', mode='w') as f:\n",
        "        saveable_chain = [block.__dict__ for block in [Block(\n",
        "            block_el.index,\n",
        "            block_el.previous_hash,\n",
        "            [tx.__dict__ for tx in block_el.transactions],\n",
        "            block_el.proof,\n",
        "            block_el.time\n",
        "            ) for block_el in self._chain]]\n",
        "\n",
        "        f.write(json.dumps(saveable_chain))\n",
        "        f.write('\\n')\n",
        "        saveable_tx = [tx.__dict__ for tx in self._open_transactions]\n",
        "        f.write(json.dumps(saveable_tx))\n",
        "    except IOError:\n",
        "      print('Error saving file!')\n",
        "\n",
        "  def proof_of_work(self):\n",
        "    last_block = self._chain[-1]\n",
        "    last_hash = hash_block(last_block)\n",
        "    proof = 0\n",
        "    while not Verification.valid_proof(self._open_transactions, last_hash, proof):\n",
        "      proof += 1\n",
        "    return proof\n",
        "\n",
        "  def get_balance(self):\n",
        "    participant = self.hosting_node\n",
        "    tx_sender = [[tx.amount for tx in block.transactions if tx.sender == participant] for block in self._chain]\n",
        "    open_tx_sender = [tx.amount for tx in self._open_transactions if tx.sender == participant]\n",
        "    tx_sender.append(open_tx_sender)\n",
        "    amount_sent = functools.reduce(lambda tx_sum, tx_amt: tx_sum + sum(tx_amt) if len(tx_amt) > 0 else tx_sum + 0, tx_sender,0)\n",
        "    tx_recipient = [[tx.amount for tx in block.transactions if tx.recipient == participant] for block in self._chain]\n",
        "    amount_received = functools.reduce(lambda tx_sum, tx_amt: tx_sum + sum(tx_amt) if len(tx_amt) > 0 else tx_sum + 0, tx_recipient,0)\n",
        "    return  amount_received - amount_sent\n",
        "\n",
        "\n",
        "  def get_last_blockchain_value(self):\n",
        "    \"\"\" returns the last value of the current bloackchain \"\"\"\n",
        "    #function to return the value\n",
        "    if len(self._chain) < 1 :\n",
        "      return None\n",
        "    return self._chain[-1]\n",
        "\n",
        "  def add_transaction(self, recipient,sender, amount=1.0):\n",
        "    transaction = Transaction(sender, recipient, amount)\n",
        "    if Verification.verify_transaction(transaction, self.get_balance):\n",
        "      self._open_transactions.append(transaction)\n",
        "      self.save_data()\n",
        "      return True\n",
        "    return False\n",
        "\n",
        "  def mine_block(self):\n",
        "    last_block = self._chain[-1]\n",
        "    hashed_block = hash_block(last_block)\n",
        "    proof = self.proof_of_work() \n",
        "    reward_transaction = Transaction(sender = 'MINING', recipient = self.hosting_node, amount = MINING_REWARD)\n",
        "    copied_transactions = self._open_transactions[:]\n",
        "    copied_transactions.append(reward_transaction)\n",
        "    block = Block(index = len(self._chain),\n",
        "                        previous_hash = hashed_block,\n",
        "                        transactions = copied_transactions,\n",
        "                        proof = proof,\n",
        "                        time = 0)\n",
        "    self._chain.append(block)\n",
        "    self._open_transactions = []\n",
        "    self.save_data()\n",
        "    return True\n",
        "\n",
        "\n"
      ],
      "execution_count": 22,
      "outputs": [
        {
          "output_type": "stream",
          "text": [
            "Overwriting blockchain.py\n"
          ],
          "name": "stdout"
        }
      ]
    },
    {
      "cell_type": "code",
      "metadata": {
        "id": "D7WqmlW_BL94",
        "colab_type": "code",
        "outputId": "7d07e612-4951-4dd8-bbdc-66846412c8ac",
        "colab": {
          "base_uri": "https://localhost:8080/",
          "height": 1000
        }
      },
      "source": [
        "!python node.py"
      ],
      "execution_count": 0,
      "outputs": [
        {
          "output_type": "stream",
          "text": [
            "Cleanup!\n",
            "Please choose\n",
            "1: Add a new transaction value\n",
            "2: Mine a new block\n",
            "3: Output the blockchain blocks\n",
            "4: check transaction validity\n",
            "q : Quit \n",
            "Your Choice : 2\n",
            "Balance of Sumith :  20.00\n",
            "Choice registered !\n",
            "Please choose\n",
            "1: Add a new transaction value\n",
            "2: Mine a new block\n",
            "3: Output the blockchain blocks\n",
            "4: check transaction validity\n",
            "q : Quit \n",
            "Your Choice : 1\n",
            "Enter the recipent of the transaction: we\n",
            "Your trasaction amount please: 21\n",
            "Tranaction failed\n",
            "[]\n",
            "Balance of Sumith :  20.00\n",
            "Choice registered !\n",
            "Please choose\n",
            "1: Add a new transaction value\n",
            "2: Mine a new block\n",
            "3: Output the blockchain blocks\n",
            "4: check transaction validity\n",
            "q : Quit \n",
            "Your Choice : 1\n",
            "Enter the recipent of the transaction: we\n",
            "Your trasaction amount please: 1\n",
            "Added transaction\n",
            "[{'sender': 'Sumith', 'recipient': 'we', 'amount': 1.0}]\n",
            "Balance of Sumith :  19.00\n",
            "Choice registered !\n",
            "Please choose\n",
            "1: Add a new transaction value\n",
            "2: Mine a new block\n",
            "3: Output the blockchain blocks\n",
            "4: check transaction validity\n",
            "q : Quit \n",
            "Your Choice : 2\n",
            "Balance of Sumith :  29.00\n",
            "Choice registered !\n",
            "Please choose\n",
            "1: Add a new transaction value\n",
            "2: Mine a new block\n",
            "3: Output the blockchain blocks\n",
            "4: check transaction validity\n",
            "q : Quit \n",
            "Your Choice : 3\n",
            "outputting block :  {'index': 0, 'previous_hash': '', 'transactions': [], 'proof': 100, 'time': 0}\n",
            "outputting block :  {'index': 1, 'previous_hash': 'f43bf96b7d7071552937a9fa0a82076d92554d2d593eaf76d8e77f19bd7cf5b8', 'transactions': [{'sender': 'MINING', 'recipient': 'Sumith', 'amount': 10}], 'proof': 195, 'time': 0}\n",
            "outputting block :  {'index': 2, 'previous_hash': 'a2e61e99c6c2d59fd55a172f4e8bda4eb57ed11eb95b15acca0aa2409b78a953', 'transactions': [{'sender': 'MINING', 'recipient': 'Sumith', 'amount': 10}], 'proof': 180, 'time': 0}\n",
            "outputting block :  {'index': 3, 'previous_hash': '55c2ab59b701901fc72b4126af272830099eb79c5790ad7bb83db9ffb280b2c2', 'transactions': [{'sender': 'Sumith', 'recipient': 'we', 'amount': 1.0}, {'sender': 'MINING', 'recipient': 'Sumith', 'amount': 10}], 'proof': 11, 'time': 0}\n",
            "--------------------\n",
            "Balance of Sumith :  29.00\n",
            "Choice registered !\n",
            "Please choose\n",
            "1: Add a new transaction value\n",
            "2: Mine a new block\n",
            "3: Output the blockchain blocks\n",
            "4: check transaction validity\n",
            "q : Quit \n",
            "Your Choice : 4\n",
            "All Transactions are valid\n",
            "Balance of Sumith :  29.00\n",
            "Choice registered !\n",
            "Please choose\n",
            "1: Add a new transaction value\n",
            "2: Mine a new block\n",
            "3: Output the blockchain blocks\n",
            "4: check transaction validity\n",
            "q : Quit \n",
            "Your Choice : "
          ],
          "name": "stdout"
        }
      ]
    },
    {
      "cell_type": "code",
      "metadata": {
        "id": "rY4hfgF7SZva",
        "colab_type": "code",
        "colab": {}
      },
      "source": [
        ""
      ],
      "execution_count": 0,
      "outputs": []
    },
    {
      "cell_type": "code",
      "metadata": {
        "id": "UkQrFCNQ6mOI",
        "colab_type": "code",
        "colab": {}
      },
      "source": [
        "!rm blockchain.txt"
      ],
      "execution_count": 0,
      "outputs": []
    },
    {
      "cell_type": "code",
      "metadata": {
        "id": "dChgGuLq5AtP",
        "colab_type": "code",
        "outputId": "e5e96acf-e15e-4d29-ff3e-0b2b1e556b3a",
        "colab": {
          "base_uri": "https://localhost:8080/",
          "height": 34
        }
      },
      "source": [
        "!cat blockchain.txt"
      ],
      "execution_count": 0,
      "outputs": [
        {
          "output_type": "stream",
          "text": [
            "cat: blockchain.txt: No such file or directory\n"
          ],
          "name": "stdout"
        }
      ]
    },
    {
      "cell_type": "code",
      "metadata": {
        "id": "cGf2iqfw7P5l",
        "colab_type": "code",
        "colab": {}
      },
      "source": [
        "2"
      ],
      "execution_count": 0,
      "outputs": []
    }
  ]
}