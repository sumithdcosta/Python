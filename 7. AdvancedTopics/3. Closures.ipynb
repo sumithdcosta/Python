{
  "nbformat": 4,
  "nbformat_minor": 0,
  "metadata": {
    "colab": {
      "name": "Untitled48.ipynb",
      "provenance": [],
      "include_colab_link": true
    },
    "kernelspec": {
      "name": "python3",
      "display_name": "Python 3"
    }
  },
  "cells": [
    {
      "cell_type": "markdown",
      "metadata": {
        "id": "view-in-github",
        "colab_type": "text"
      },
      "source": [
        "<a href=\"https://colab.research.google.com/github/sumithdcosta/Python/blob/master/7.%20AdvancedTopics/3.%20Closures.ipynb\" target=\"_parent\"><img src=\"https://colab.research.google.com/assets/colab-badge.svg\" alt=\"Open In Colab\"/></a>"
      ]
    },
    {
      "cell_type": "markdown",
      "metadata": {
        "id": "dj2-NJ8Mvpzw",
        "colab_type": "text"
      },
      "source": [
        "7. AdvancedTopics/3. Closures.ipynb"
      ]
    },
    {
      "cell_type": "markdown",
      "metadata": {
        "id": "B-OyGyyXvmbI",
        "colab_type": "text"
      },
      "source": [
        "**Nonlocal variable in a nested function**\n",
        "\n",
        "Before getting into what a closure is, we have to first understand what a nested function and nonlocal variable is.\n",
        "\n",
        "A function defined inside another function is called a **nested function**. Nested functions can access variables of the enclosing scope.\n",
        "\n",
        "In Python, these non-local variables are read only by default and we must declare them explicitly as non-local (using nonlocal keyword) in order to modify them.\n",
        "\n",
        "Following is an example of a nested function accessing a non-local variable."
      ]
    },
    {
      "cell_type": "code",
      "metadata": {
        "id": "OyJ-lAnJvpne",
        "colab_type": "code",
        "colab": {
          "base_uri": "https://localhost:8080/",
          "height": 34
        },
        "outputId": "bf951ef7-baec-48dc-9c93-a6aa0ea15088"
      },
      "source": [
        "def print_msg(msg):\n",
        "# This is the outer enclosing function\n",
        "\n",
        "    def printer():\n",
        "# This is the nested function\n",
        "        print(msg)\n",
        "\n",
        "    printer()\n",
        "\n",
        "# We execute the function\n",
        "# Output: Hello\n",
        "print_msg(\"Hello\")"
      ],
      "execution_count": 1,
      "outputs": [
        {
          "output_type": "stream",
          "text": [
            "Hello\n"
          ],
          "name": "stdout"
        }
      ]
    },
    {
      "cell_type": "markdown",
      "metadata": {
        "id": "ShP3Am-S4e-Q",
        "colab_type": "text"
      },
      "source": [
        "We can see that the nested function printer() was able to access the non-local variable msg of the enclosing function."
      ]
    },
    {
      "cell_type": "markdown",
      "metadata": {
        "id": "PtVp4cZ34i7U",
        "colab_type": "text"
      },
      "source": [
        "**Defining a Closure Function**\n",
        "\n",
        "In the example above, what would happen if the last line of the function print_msg() returned the printer() function instead of calling it? This means the function was defined as follows."
      ]
    },
    {
      "cell_type": "code",
      "metadata": {
        "id": "g-9RSMOS4beC",
        "colab_type": "code",
        "colab": {
          "base_uri": "https://localhost:8080/",
          "height": 34
        },
        "outputId": "746bb52f-11ab-44a3-b3d6-f27633e1ccf4"
      },
      "source": [
        "def print_msg(msg):\n",
        "# This is the outer enclosing function\n",
        "\n",
        "    def printer():\n",
        "# This is the nested function\n",
        "        print(msg)\n",
        "\n",
        "    return printer  # this got changed\n",
        "\n",
        "# Now let's try calling this function.\n",
        "# Output: Hello\n",
        "another = print_msg(\"Hello\")\n",
        "another()"
      ],
      "execution_count": 2,
      "outputs": [
        {
          "output_type": "stream",
          "text": [
            "Hello\n"
          ],
          "name": "stdout"
        }
      ]
    },
    {
      "cell_type": "markdown",
      "metadata": {
        "id": "a0EQ_I8F48dz",
        "colab_type": "text"
      },
      "source": [
        "That's unusual.\n",
        "\n",
        "The print_msg() function was called with the string \"Hello\" and the returned function was bound to the name another. On calling another(), the message was still remembered although we had already finished executing the print_msg() function.\n",
        "\n",
        "This technique by which some data (\"Hello\") gets attached to the code is called closure in Python.\n",
        "\n",
        "This value in the enclosing scope is remembered even when the variable goes out of scope or the function itself is removed from the current namespace.\n",
        "\n",
        "Try running the following in the Python shell to see the output.\n"
      ]
    },
    {
      "cell_type": "code",
      "metadata": {
        "id": "0cd9FJrJ4wkp",
        "colab_type": "code",
        "colab": {}
      },
      "source": [
        "del print_msg"
      ],
      "execution_count": 0,
      "outputs": []
    },
    {
      "cell_type": "code",
      "metadata": {
        "id": "qMw_7qLW5SWC",
        "colab_type": "code",
        "colab": {
          "base_uri": "https://localhost:8080/",
          "height": 34
        },
        "outputId": "dcc92872-1b65-4ea3-ff2f-1f5899d778f9"
      },
      "source": [
        "another()"
      ],
      "execution_count": 4,
      "outputs": [
        {
          "output_type": "stream",
          "text": [
            "Hello\n"
          ],
          "name": "stdout"
        }
      ]
    },
    {
      "cell_type": "code",
      "metadata": {
        "id": "cyHSjEg75TfK",
        "colab_type": "code",
        "colab": {
          "base_uri": "https://localhost:8080/",
          "height": 167
        },
        "outputId": "fb213cda-5fc1-4c56-8a04-44a68f444f90"
      },
      "source": [
        "print_msg(\"Hello\")"
      ],
      "execution_count": 5,
      "outputs": [
        {
          "output_type": "error",
          "ename": "NameError",
          "evalue": "ignored",
          "traceback": [
            "\u001b[0;31m---------------------------------------------------------------------------\u001b[0m",
            "\u001b[0;31mNameError\u001b[0m                                 Traceback (most recent call last)",
            "\u001b[0;32m<ipython-input-5-af0f59439c9b>\u001b[0m in \u001b[0;36m<module>\u001b[0;34m()\u001b[0m\n\u001b[0;32m----> 1\u001b[0;31m \u001b[0mprint_msg\u001b[0m\u001b[0;34m(\u001b[0m\u001b[0;34m\"Hello\"\u001b[0m\u001b[0;34m)\u001b[0m\u001b[0;34m\u001b[0m\u001b[0;34m\u001b[0m\u001b[0m\n\u001b[0m",
            "\u001b[0;31mNameError\u001b[0m: name 'print_msg' is not defined"
          ]
        }
      ]
    },
    {
      "cell_type": "markdown",
      "metadata": {
        "id": "1YoH0uge5bxs",
        "colab_type": "text"
      },
      "source": [
        "**When do we have a closure?**\n",
        "\n",
        "As seen from the above example, we have a closure in Python when a nested function references a value in its enclosing scope.\n",
        "\n",
        "The criteria that must be met to create closure in Python are summarized in the following points.\n",
        "\n",
        "* We must have a nested function (function inside a function).\n",
        "* The nested function must refer to a value defined in the enclosing function.\n",
        "* The enclosing function must return the nested function."
      ]
    },
    {
      "cell_type": "markdown",
      "metadata": {
        "id": "G3aonYBa5s_w",
        "colab_type": "text"
      },
      "source": [
        "**When to use closures?**\n",
        "\n",
        "So what are closures good for?\n",
        "\n",
        "Closures can avoid the use of global values and provides some form of data hiding. It can also provide an object oriented solution to the problem.\n",
        "\n",
        "When there are few methods (one method in most cases) to be implemented in a class, closures can provide an alternate and more elegant solutions. But when the number of attributes and methods get larger, better implement a class.\n",
        "\n",
        "Here is a simple example where a closure might be more preferable than defining a class and making objects. But the preference is all yours."
      ]
    },
    {
      "cell_type": "code",
      "metadata": {
        "id": "WnTOSLBy5Vji",
        "colab_type": "code",
        "colab": {
          "base_uri": "https://localhost:8080/",
          "height": 70
        },
        "outputId": "f85fd45d-57c1-4308-b1cd-0692e14fe0c3"
      },
      "source": [
        "def make_multiplier_of(n):\n",
        "    def multiplier(x):\n",
        "        return x * n\n",
        "    return multiplier\n",
        "\n",
        "# Multiplier of 3\n",
        "times3 = make_multiplier_of(3)\n",
        "\n",
        "# Multiplier of 5\n",
        "times5 = make_multiplier_of(5)\n",
        "\n",
        "# Output: 27\n",
        "print(times3(9))\n",
        "\n",
        "# Output: 15\n",
        "print(times5(3))\n",
        "\n",
        "# Output: 30\n",
        "print(times5(times3(2)))"
      ],
      "execution_count": 9,
      "outputs": [
        {
          "output_type": "stream",
          "text": [
            "27\n",
            "15\n",
            "30\n"
          ],
          "name": "stdout"
        }
      ]
    },
    {
      "cell_type": "markdown",
      "metadata": {
        "id": "r7PgzQKr6NaQ",
        "colab_type": "text"
      },
      "source": [
        "Decorators in Python make an extensive use of closures as well.\n",
        "\n",
        "On a concluding note, it is good to point out that the values that get enclosed in the closure function can be found out.\n",
        "\n",
        "All function objects have a **\\_\\_closure__** attribute that returns a tuple of cell objects if it is a closure function. Referring to the example above, we know times3 and times5 are closure functions."
      ]
    },
    {
      "cell_type": "code",
      "metadata": {
        "id": "9Q7jgmet6euK",
        "colab_type": "code",
        "colab": {}
      },
      "source": [
        "make_multiplier_of.__closure__"
      ],
      "execution_count": 0,
      "outputs": []
    },
    {
      "cell_type": "code",
      "metadata": {
        "id": "hUSCeIAD6fTD",
        "colab_type": "code",
        "colab": {
          "base_uri": "https://localhost:8080/",
          "height": 34
        },
        "outputId": "3f0805d8-a946-4a9d-c168-7c900743000f"
      },
      "source": [
        "times3.__closure__"
      ],
      "execution_count": 11,
      "outputs": [
        {
          "output_type": "execute_result",
          "data": {
            "text/plain": [
              "(<cell at 0x7fbfdba26b58: int object at 0xa68b00>,)"
            ]
          },
          "metadata": {
            "tags": []
          },
          "execution_count": 11
        }
      ]
    },
    {
      "cell_type": "markdown",
      "metadata": {
        "id": "esWFnkjn6zKs",
        "colab_type": "text"
      },
      "source": [
        "The cell object has the attribute cell_contents which stores the closed value."
      ]
    },
    {
      "cell_type": "code",
      "metadata": {
        "id": "iltP5Dj06m8c",
        "colab_type": "code",
        "colab": {
          "base_uri": "https://localhost:8080/",
          "height": 34
        },
        "outputId": "5e50cf11-d94b-4a2b-ca1f-6185fc357262"
      },
      "source": [
        "times3.__closure__[0].cell_contents"
      ],
      "execution_count": 12,
      "outputs": [
        {
          "output_type": "execute_result",
          "data": {
            "text/plain": [
              "3"
            ]
          },
          "metadata": {
            "tags": []
          },
          "execution_count": 12
        }
      ]
    },
    {
      "cell_type": "code",
      "metadata": {
        "id": "a8W-9dkW639E",
        "colab_type": "code",
        "colab": {
          "base_uri": "https://localhost:8080/",
          "height": 34
        },
        "outputId": "249d169f-f894-4150-d539-449441db0dd6"
      },
      "source": [
        "times5.__closure__[0].cell_contents"
      ],
      "execution_count": 15,
      "outputs": [
        {
          "output_type": "execute_result",
          "data": {
            "text/plain": [
              "5"
            ]
          },
          "metadata": {
            "tags": []
          },
          "execution_count": 15
        }
      ]
    },
    {
      "cell_type": "code",
      "metadata": {
        "id": "LP0XR29W67Az",
        "colab_type": "code",
        "colab": {}
      },
      "source": [
        ""
      ],
      "execution_count": 0,
      "outputs": []
    }
  ]
}