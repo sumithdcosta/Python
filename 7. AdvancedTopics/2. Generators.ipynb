{
  "nbformat": 4,
  "nbformat_minor": 0,
  "metadata": {
    "colab": {
      "name": "Untitled47.ipynb",
      "provenance": [],
      "include_colab_link": true
    },
    "kernelspec": {
      "name": "python3",
      "display_name": "Python 3"
    }
  },
  "cells": [
    {
      "cell_type": "markdown",
      "metadata": {
        "id": "view-in-github",
        "colab_type": "text"
      },
      "source": [
        "<a href=\"https://colab.research.google.com/github/sumithdcosta/Python/blob/master/7.%20AdvancedTopics/2.%20Generators.ipynb\" target=\"_parent\"><img src=\"https://colab.research.google.com/assets/colab-badge.svg\" alt=\"Open In Colab\"/></a>"
      ]
    },
    {
      "cell_type": "markdown",
      "metadata": {
        "id": "BPpqrBlMopI3",
        "colab_type": "text"
      },
      "source": [
        "7. AdvancedTopics/2. Generators.ipynb"
      ]
    },
    {
      "cell_type": "markdown",
      "metadata": {
        "id": "WI4f6cL0om6P",
        "colab_type": "text"
      },
      "source": [
        "**What are generators in Python?**\n",
        "\n",
        "There is a lot of overhead in building an iterator in Python; we have to implement a class with **\\_\\_iter__()** and **\\_\\_next__()** method, keep track of internal states, raise **StopIteration** when there was no values to be returned etc.\n",
        "\n",
        "This is both lengthy and counter intuitive. Generator comes into rescue in such situations.\n",
        "\n",
        "Python generators are a simple way of creating iterators. All the overhead we mentioned above are automatically handled by generators in Python.\n",
        "\n",
        "Simply speaking, a generator is a function that returns an object (iterator) which we can iterate over (one value at a time)."
      ]
    },
    {
      "cell_type": "markdown",
      "metadata": {
        "id": "qwLLd21gpLsj",
        "colab_type": "text"
      },
      "source": [
        "**How to create a generator in Python?**\n",
        "\n",
        "It is fairly simple to create a generator in Python. It is as easy as defining a normal function with **yield** statement instead of a **return** statement.\n",
        "\n",
        "If a function contains at least one yield statement (it may contain other yield or return statements), it becomes a generator function. Both **yield** and **return** will return some value from a function.\n",
        "\n",
        "The difference is that, while a **return** statement terminates a function entirely, yield statement pauses the function saving all its states and later continues from there on successive calls."
      ]
    },
    {
      "cell_type": "markdown",
      "metadata": {
        "id": "b2Wsjodzpq5o",
        "colab_type": "text"
      },
      "source": [
        "**Differences between Generator function and a Normal function**\n",
        "\n",
        "Here is how a generator function differs from a normal function.\n",
        "\n",
        "* Generator function contains one or more yield statement.\n",
        "* When called, it returns an object (iterator) but does not start execution immediately.\n",
        "* Methods like \\_\\_iter__() and \\_\\_next__() are implemented automatically. So we can iterate through the items using next().\n",
        "* Once the function yields, the function is paused and the control is transferred to the caller.\n",
        "* Local variables and their states are remembered between successive calls.\n",
        "* Finally, when the function terminates, StopIteration is raised automatically on further calls.\n",
        "\n",
        "Here is an example to illustrate all of the points stated above. We have a generator function named my_gen() with several yield statements."
      ]
    },
    {
      "cell_type": "code",
      "metadata": {
        "id": "GD4yXawrpLVG",
        "colab_type": "code",
        "colab": {}
      },
      "source": [
        "# A simple generator function\n",
        "def my_gen():\n",
        "    n = 1\n",
        "    print('This is printed first')\n",
        "    # Generator function contains yield statements\n",
        "    yield n\n",
        "\n",
        "    n += 1\n",
        "    print('This is printed second')\n",
        "    yield n\n",
        "\n",
        "    n += 1\n",
        "    print('This is printed at last')\n",
        "    yield n\n"
      ],
      "execution_count": 0,
      "outputs": []
    },
    {
      "cell_type": "code",
      "metadata": {
        "id": "-psyAFX6ofO8",
        "colab_type": "code",
        "colab": {}
      },
      "source": [
        "# It returns an object but does not start execution immediately\n",
        "a = my_gen()"
      ],
      "execution_count": 0,
      "outputs": []
    },
    {
      "cell_type": "code",
      "metadata": {
        "id": "Hi1gvg09qH1o",
        "colab_type": "code",
        "colab": {
          "base_uri": "https://localhost:8080/",
          "height": 52
        },
        "outputId": "459f8683-90e6-4b47-9cac-de506bf6c2bc"
      },
      "source": [
        "# We can iterate through the items using next().\n",
        "next(a)"
      ],
      "execution_count": 3,
      "outputs": [
        {
          "output_type": "stream",
          "text": [
            "This is printed first\n"
          ],
          "name": "stdout"
        },
        {
          "output_type": "execute_result",
          "data": {
            "text/plain": [
              "1"
            ]
          },
          "metadata": {
            "tags": []
          },
          "execution_count": 3
        }
      ]
    },
    {
      "cell_type": "code",
      "metadata": {
        "id": "KVoAT76BqJ6P",
        "colab_type": "code",
        "colab": {
          "base_uri": "https://localhost:8080/",
          "height": 52
        },
        "outputId": "b6497d14-4609-49b3-a190-ccf790240dcc"
      },
      "source": [
        "# Once the function yields, the function is paused and the control is transferred to the caller\n",
        "# Local variables and theirs states are remembered between successive calls.\n",
        "next(a)"
      ],
      "execution_count": 4,
      "outputs": [
        {
          "output_type": "stream",
          "text": [
            "This is printed second\n"
          ],
          "name": "stdout"
        },
        {
          "output_type": "execute_result",
          "data": {
            "text/plain": [
              "2"
            ]
          },
          "metadata": {
            "tags": []
          },
          "execution_count": 4
        }
      ]
    },
    {
      "cell_type": "code",
      "metadata": {
        "id": "jZedARdQqNjP",
        "colab_type": "code",
        "colab": {
          "base_uri": "https://localhost:8080/",
          "height": 52
        },
        "outputId": "65e819c4-3015-4058-be15-c0f3093afc04"
      },
      "source": [
        "next(a)"
      ],
      "execution_count": 5,
      "outputs": [
        {
          "output_type": "stream",
          "text": [
            "This is printed at last\n"
          ],
          "name": "stdout"
        },
        {
          "output_type": "execute_result",
          "data": {
            "text/plain": [
              "3"
            ]
          },
          "metadata": {
            "tags": []
          },
          "execution_count": 5
        }
      ]
    },
    {
      "cell_type": "code",
      "metadata": {
        "id": "m7SLatkOqS1v",
        "colab_type": "code",
        "colab": {
          "base_uri": "https://localhost:8080/",
          "height": 167
        },
        "outputId": "86f622ff-f217-4cf7-e373-c5d89c112d3f"
      },
      "source": [
        "# Finally, when the function terminates, StopIteration is raised automatically on further calls.\n",
        "next(a)"
      ],
      "execution_count": 6,
      "outputs": [
        {
          "output_type": "error",
          "ename": "StopIteration",
          "evalue": "ignored",
          "traceback": [
            "\u001b[0;31m---------------------------------------------------------------------------\u001b[0m",
            "\u001b[0;31mStopIteration\u001b[0m                             Traceback (most recent call last)",
            "\u001b[0;32m<ipython-input-6-15841f3f11d4>\u001b[0m in \u001b[0;36m<module>\u001b[0;34m()\u001b[0m\n\u001b[0;32m----> 1\u001b[0;31m \u001b[0mnext\u001b[0m\u001b[0;34m(\u001b[0m\u001b[0ma\u001b[0m\u001b[0;34m)\u001b[0m\u001b[0;34m\u001b[0m\u001b[0;34m\u001b[0m\u001b[0m\n\u001b[0m",
            "\u001b[0;31mStopIteration\u001b[0m: "
          ]
        }
      ]
    },
    {
      "cell_type": "markdown",
      "metadata": {
        "id": "Vsz9UF3-qaWf",
        "colab_type": "text"
      },
      "source": [
        "One interesting thing to note in the above example is that, the value of variable **n** is remembered between each call.\n",
        "\n",
        "Unlike normal functions, the local variables are not destroyed when the function yields. Furthermore, the generator object can be iterated only once.\n",
        "\n",
        "To restart the process we need to create another generator object using something like **a = my_gen()**.\n",
        "\n",
        "Note: One final thing to note is that we can use generators with for loops directly.\n",
        "\n",
        "This is because, a for loop takes an iterator and iterates over it using next() function. It automatically ends when StopIteration is raised. \n"
      ]
    },
    {
      "cell_type": "code",
      "metadata": {
        "id": "GZ1nXGxxqV3o",
        "colab_type": "code",
        "colab": {
          "base_uri": "https://localhost:8080/",
          "height": 123
        },
        "outputId": "604490b9-f94e-48d7-a29b-aa9b720ecc9a"
      },
      "source": [
        "# A simple generator function\n",
        "def my_gen():\n",
        "    n = 1\n",
        "    print('This is printed first')\n",
        "    # Generator function contains yield statements\n",
        "    yield n\n",
        "\n",
        "    n += 1\n",
        "    print('This is printed second')\n",
        "    yield n\n",
        "\n",
        "    n += 1\n",
        "    print('This is printed at last')\n",
        "    yield n\n",
        "\n",
        "# Using for loop\n",
        "for item in my_gen():\n",
        "    print(item) "
      ],
      "execution_count": 7,
      "outputs": [
        {
          "output_type": "stream",
          "text": [
            "This is printed first\n",
            "1\n",
            "This is printed second\n",
            "2\n",
            "This is printed at last\n",
            "3\n"
          ],
          "name": "stdout"
        }
      ]
    },
    {
      "cell_type": "markdown",
      "metadata": {
        "id": "HJn_x8_3qutR",
        "colab_type": "text"
      },
      "source": [
        "**Python Generators with a Loop**\n",
        "\n",
        "The above example is of less use and we studied it just to get an idea of what was happening in the background.\n",
        "\n",
        "Normally, generator functions are implemented with a loop having a suitable terminating condition.\n",
        "\n",
        "Let's take an example of a generator that reverses a string."
      ]
    },
    {
      "cell_type": "code",
      "metadata": {
        "id": "6MVPmR8vqs7Q",
        "colab_type": "code",
        "colab": {}
      },
      "source": [
        "def rev_str(my_str):\n",
        "    length = len(my_str)\n",
        "    for i in range(length - 1,-1,-1):\n",
        "        yield my_str[i]"
      ],
      "execution_count": 0,
      "outputs": []
    },
    {
      "cell_type": "code",
      "metadata": {
        "id": "dC7x4e7OrGFN",
        "colab_type": "code",
        "colab": {
          "base_uri": "https://localhost:8080/",
          "height": 105
        },
        "outputId": "7b16272b-ccd9-4bb7-c9d6-e74d244e3350"
      },
      "source": [
        "for char in rev_str(\"hello\"):\n",
        "     print(char)"
      ],
      "execution_count": 10,
      "outputs": [
        {
          "output_type": "stream",
          "text": [
            "o\n",
            "l\n",
            "l\n",
            "e\n",
            "h\n"
          ],
          "name": "stdout"
        }
      ]
    },
    {
      "cell_type": "markdown",
      "metadata": {
        "id": "R-Hstg49rZ-7",
        "colab_type": "text"
      },
      "source": [
        "or you can same program as above as:"
      ]
    },
    {
      "cell_type": "code",
      "metadata": {
        "id": "xTAhxIdMrGcL",
        "colab_type": "code",
        "colab": {}
      },
      "source": [
        "def rev_str( my_str):\n",
        "    for i in reversed(my_str):\n",
        "        yield(i)"
      ],
      "execution_count": 0,
      "outputs": []
    },
    {
      "cell_type": "code",
      "metadata": {
        "id": "M_cai2h1rcLJ",
        "colab_type": "code",
        "colab": {
          "base_uri": "https://localhost:8080/",
          "height": 105
        },
        "outputId": "c63e2364-51d3-4486-9aa8-3f8382d5220e"
      },
      "source": [
        "for char in rev_str('Hello'):\n",
        "    print(char)"
      ],
      "execution_count": 12,
      "outputs": [
        {
          "output_type": "stream",
          "text": [
            "o\n",
            "l\n",
            "l\n",
            "e\n",
            "H\n"
          ],
          "name": "stdout"
        }
      ]
    },
    {
      "cell_type": "markdown",
      "metadata": {
        "id": "y5z5ulc3rkS6",
        "colab_type": "text"
      },
      "source": [
        "In this example, we use **range**() function to get the index in reverse order using the for loop.\n",
        "\n",
        "It turns out that this generator function not only works with string, but also with other kind of iterables like list, tuple etc."
      ]
    },
    {
      "cell_type": "markdown",
      "metadata": {
        "id": "YqZyo_kBrux-",
        "colab_type": "text"
      },
      "source": [
        "**Python Generator Expression**\n",
        "\n",
        "Simple generators can be easily created on the fly using generator expressions. It makes building generators easy.\n",
        "\n",
        "Same as lambda function creates an anonymous function, generator expression creates an anonymous generator function.\n",
        "\n",
        "The syntax for generator expression is similar to that of a list comprehension in Python. But the square brackets are replaced with round parentheses.\n",
        "\n",
        "**The major difference between a list comprehension and a generator expression is that while list comprehension produces the entire list, generator expression produces one item at a time.**\n",
        "\n",
        "They are kind of lazy, producing items only when asked for. For this reason, a generator expression is much more memory efficient than an equivalent list comprehension."
      ]
    },
    {
      "cell_type": "code",
      "metadata": {
        "id": "dcOxujO0redJ",
        "colab_type": "code",
        "colab": {
          "base_uri": "https://localhost:8080/",
          "height": 105
        },
        "outputId": "e968a36e-9332-4159-e8b5-24c802941658"
      },
      "source": [
        "# Initialize the list\n",
        "my_list = [1, 3, 6, 10]\n",
        "\n",
        "# square each term using list comprehension\n",
        "# Output: [1, 9, 36, 100]\n",
        "listx = [x**2 for x in my_list]\n",
        "print(listx)\n",
        "\n",
        "# same thing can be done using generator expression\n",
        "# Output: <generator object <genexpr> at 0x0000000002EBDAF8>\n",
        "listy = (x**2 for x in my_list)\n",
        "for i in listy:\n",
        "    print(i)"
      ],
      "execution_count": 13,
      "outputs": [
        {
          "output_type": "stream",
          "text": [
            "[1, 9, 36, 100]\n",
            "1\n",
            "9\n",
            "36\n",
            "100\n"
          ],
          "name": "stdout"
        }
      ]
    },
    {
      "cell_type": "markdown",
      "metadata": {
        "id": "B8njHmlvsq5t",
        "colab_type": "text"
      },
      "source": [
        "We can see above that the generator expression did not produce the required result immediately. Instead, it returned a generator object with produces items on demand."
      ]
    },
    {
      "cell_type": "code",
      "metadata": {
        "id": "KgyPhQb6soyC",
        "colab_type": "code",
        "colab": {}
      },
      "source": [
        "# Intialize the list\n",
        "my_list = [1, 3, 6, 10]"
      ],
      "execution_count": 0,
      "outputs": []
    },
    {
      "cell_type": "code",
      "metadata": {
        "id": "OKTsUYrksynS",
        "colab_type": "code",
        "colab": {
          "base_uri": "https://localhost:8080/",
          "height": 34
        },
        "outputId": "a7daca91-942f-4eac-e035-77944781278a"
      },
      "source": [
        "a = (x**2 for x in my_list)\n",
        "# Output: 1\n",
        "print(next(a))"
      ],
      "execution_count": 15,
      "outputs": [
        {
          "output_type": "stream",
          "text": [
            "1\n"
          ],
          "name": "stdout"
        }
      ]
    },
    {
      "cell_type": "code",
      "metadata": {
        "id": "zoYKPPFys0cJ",
        "colab_type": "code",
        "colab": {
          "base_uri": "https://localhost:8080/",
          "height": 34
        },
        "outputId": "e8f4ad31-bcee-46eb-c087-ed1085508a5e"
      },
      "source": [
        "# Output: 9\n",
        "print(next(a))"
      ],
      "execution_count": 16,
      "outputs": [
        {
          "output_type": "stream",
          "text": [
            "9\n"
          ],
          "name": "stdout"
        }
      ]
    },
    {
      "cell_type": "code",
      "metadata": {
        "id": "Gn7pxiXCs294",
        "colab_type": "code",
        "colab": {
          "base_uri": "https://localhost:8080/",
          "height": 34
        },
        "outputId": "36f6eb42-ef21-4623-9007-f4f8d198974c"
      },
      "source": [
        "# Output: 36\n",
        "print(next(a))"
      ],
      "execution_count": 17,
      "outputs": [
        {
          "output_type": "stream",
          "text": [
            "36\n"
          ],
          "name": "stdout"
        }
      ]
    },
    {
      "cell_type": "code",
      "metadata": {
        "id": "2PpfDq57s5a5",
        "colab_type": "code",
        "colab": {
          "base_uri": "https://localhost:8080/",
          "height": 34
        },
        "outputId": "a7418ca5-b9b6-4c3b-b16d-af80748feed9"
      },
      "source": [
        "# Output: 100\n",
        "print(next(a))"
      ],
      "execution_count": 18,
      "outputs": [
        {
          "output_type": "stream",
          "text": [
            "100\n"
          ],
          "name": "stdout"
        }
      ]
    },
    {
      "cell_type": "code",
      "metadata": {
        "id": "C86CI6eEs6Wh",
        "colab_type": "code",
        "colab": {
          "base_uri": "https://localhost:8080/",
          "height": 167
        },
        "outputId": "1f265def-7337-48c8-93b8-9b6043c9a0d2"
      },
      "source": [
        "\n",
        "# Output: StopIteration\n",
        "next(a)"
      ],
      "execution_count": 19,
      "outputs": [
        {
          "output_type": "error",
          "ename": "StopIteration",
          "evalue": "ignored",
          "traceback": [
            "\u001b[0;31m---------------------------------------------------------------------------\u001b[0m",
            "\u001b[0;31mStopIteration\u001b[0m                             Traceback (most recent call last)",
            "\u001b[0;32m<ipython-input-19-15841f3f11d4>\u001b[0m in \u001b[0;36m<module>\u001b[0;34m()\u001b[0m\n\u001b[0;32m----> 1\u001b[0;31m \u001b[0mnext\u001b[0m\u001b[0;34m(\u001b[0m\u001b[0ma\u001b[0m\u001b[0;34m)\u001b[0m\u001b[0;34m\u001b[0m\u001b[0;34m\u001b[0m\u001b[0m\n\u001b[0m",
            "\u001b[0;31mStopIteration\u001b[0m: "
          ]
        }
      ]
    },
    {
      "cell_type": "markdown",
      "metadata": {
        "id": "6T4g8eJfs80Z",
        "colab_type": "text"
      },
      "source": [
        "Generator expression can be used inside functions. When used in such a way, the round parentheses can be dropped."
      ]
    },
    {
      "cell_type": "code",
      "metadata": {
        "id": "CgSGL2oSs7cY",
        "colab_type": "code",
        "colab": {
          "base_uri": "https://localhost:8080/",
          "height": 34
        },
        "outputId": "87c63d45-6212-4358-fe2c-5bdfca8a5779"
      },
      "source": [
        "sum(x**2 for x in my_list)"
      ],
      "execution_count": 20,
      "outputs": [
        {
          "output_type": "execute_result",
          "data": {
            "text/plain": [
              "146"
            ]
          },
          "metadata": {
            "tags": []
          },
          "execution_count": 20
        }
      ]
    },
    {
      "cell_type": "code",
      "metadata": {
        "id": "6S21lmuhtD0z",
        "colab_type": "code",
        "colab": {
          "base_uri": "https://localhost:8080/",
          "height": 34
        },
        "outputId": "af7eb3d6-df2f-4155-b865-b4429122d573"
      },
      "source": [
        "max(x**2 for x in my_list)"
      ],
      "execution_count": 21,
      "outputs": [
        {
          "output_type": "execute_result",
          "data": {
            "text/plain": [
              "100"
            ]
          },
          "metadata": {
            "tags": []
          },
          "execution_count": 21
        }
      ]
    },
    {
      "cell_type": "markdown",
      "metadata": {
        "id": "JftF98g3tHfO",
        "colab_type": "text"
      },
      "source": [
        "**Why generators are used in Python?**\n",
        "\n",
        "There are several reasons which make generators an attractive implementation to go for."
      ]
    },
    {
      "cell_type": "markdown",
      "metadata": {
        "id": "tU_oO83jtQv0",
        "colab_type": "text"
      },
      "source": [
        "1. Easy to Implement\n",
        "\n",
        "Generators can be implemented in a clear and concise way as compared to their iterator class counterpart. Following is an example to implement a sequence of power of 2's using iterator class.\n"
      ]
    },
    {
      "cell_type": "code",
      "metadata": {
        "id": "yccXamV0tFeD",
        "colab_type": "code",
        "colab": {}
      },
      "source": [
        "class PowTwo:\n",
        "    def __init__(self, max = 0):\n",
        "        self.max = max\n",
        "\n",
        "    def __iter__(self):\n",
        "        self.n = 0\n",
        "        return self\n",
        "\n",
        "    def __next__(self):\n",
        "        if self.n > self.max:\n",
        "            raise StopIteration\n",
        "\n",
        "        result = 2 ** self.n\n",
        "        self.n += 1\n",
        "        return result"
      ],
      "execution_count": 0,
      "outputs": []
    },
    {
      "cell_type": "markdown",
      "metadata": {
        "id": "S5Nxavc5tfdp",
        "colab_type": "text"
      },
      "source": [
        "This was lengthy. Now lets do the same using a generator function."
      ]
    },
    {
      "cell_type": "code",
      "metadata": {
        "id": "4oMLD5entXEq",
        "colab_type": "code",
        "colab": {}
      },
      "source": [
        "def PowTwoGen(max = 0):\n",
        "    n = 0\n",
        "    while n < max:\n",
        "        yield 2 ** n\n",
        "        n += 1"
      ],
      "execution_count": 0,
      "outputs": []
    },
    {
      "cell_type": "markdown",
      "metadata": {
        "id": "ay4RcqSatpIC",
        "colab_type": "text"
      },
      "source": [
        "Since, generators keep track of details automatically, it was concise and much cleaner in implementation."
      ]
    },
    {
      "cell_type": "markdown",
      "metadata": {
        "id": "tlFxwlhitt6b",
        "colab_type": "text"
      },
      "source": [
        "2. Memory Efficient\n",
        "\n",
        "A normal function to return a sequence will create the entire sequence in memory before returning the result. This is an overkill if the number of items in the sequence is very large.\n",
        "\n",
        "Generator implementation of such sequence is memory friendly and is preferred since it only produces one item at a time."
      ]
    },
    {
      "cell_type": "markdown",
      "metadata": {
        "id": "FyJeCOSat0j7",
        "colab_type": "text"
      },
      "source": [
        "3. Represent Infinite Stream\n",
        "\n",
        "Generators are excellent medium to represent an infinite stream of data. Infinite streams cannot be stored in memory and since generators produce only one item at a time, it can represent infinite stream of data.\n",
        "\n",
        "The following example can generate all the even numbers (at least in theory)."
      ]
    },
    {
      "cell_type": "code",
      "metadata": {
        "id": "yW8N0HJYtiLV",
        "colab_type": "code",
        "colab": {}
      },
      "source": [
        "def all_even():\n",
        "    n = 0\n",
        "    while True:\n",
        "        yield n\n",
        "        n += 2"
      ],
      "execution_count": 0,
      "outputs": []
    },
    {
      "cell_type": "markdown",
      "metadata": {
        "id": "dvdncY2BuAXI",
        "colab_type": "text"
      },
      "source": [
        "4. Pipelining Generators\n",
        "\n",
        "Generators can be used to pipeline a series of operations. This is best illustrated using an example.\n",
        "\n",
        "Suppose we have a log file from a famous fast food chain. The log file has a column (4th column) that keeps track of the number of pizza sold every hour and we want to sum it to find the total pizzas sold in 5 years.\n",
        "\n",
        "Assume everything is in string and numbers that are not available are marked as 'N/A'. A generator implementation of this could be as follows."
      ]
    },
    {
      "cell_type": "code",
      "metadata": {
        "id": "8avFngKBt6_n",
        "colab_type": "code",
        "colab": {}
      },
      "source": [
        "with open('sells.log') as file:\n",
        "    pizza_col = (line[3] for line in file)\n",
        "    per_hour = (int(x) for x in pizza_col if x != 'N/A')\n",
        "    print(\"Total pizzas sold = \",sum(per_hour))"
      ],
      "execution_count": 0,
      "outputs": []
    },
    {
      "cell_type": "markdown",
      "metadata": {
        "id": "y6TNkEbjuh3z",
        "colab_type": "text"
      },
      "source": [
        "This pipelining is efficient and easy to read (and yes, a lot cooler!)."
      ]
    }
  ]
}