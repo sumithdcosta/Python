{
  "nbformat": 4,
  "nbformat_minor": 0,
  "metadata": {
    "colab": {
      "name": "Untitled52.ipynb",
      "provenance": [],
      "include_colab_link": true
    },
    "kernelspec": {
      "name": "python3",
      "display_name": "Python 3"
    }
  },
  "cells": [
    {
      "cell_type": "markdown",
      "metadata": {
        "id": "view-in-github",
        "colab_type": "text"
      },
      "source": [
        "<a href=\"https://colab.research.google.com/github/sumithdcosta/Python/blob/master/7.%20AdvancedTopics/6.1%20Collections-Deque.ipynb\" target=\"_parent\"><img src=\"https://colab.research.google.com/assets/colab-badge.svg\" alt=\"Open In Colab\"/></a>"
      ]
    },
    {
      "cell_type": "markdown",
      "metadata": {
        "id": "wNeU_WQKxypa",
        "colab_type": "text"
      },
      "source": [
        "7. AdvancedTopics/6.1 Collections-Deque.ipynb"
      ]
    },
    {
      "cell_type": "markdown",
      "metadata": {
        "id": "wNB1FksyyVvF",
        "colab_type": "text"
      },
      "source": [
        "**deque objects**\n",
        "\n",
        "class collections.deque([iterable[, maxlen]])\n",
        "\n",
        "Returns a new deque object initialized left-to-right (using append()) with data from iterable. If iterable is not specified, the new deque is empty.\n",
        "\n",
        "Deques are a generalization of stacks and queues (the name is pronounced “deck” and is short for “double-ended queue”). Deques support thread-safe, memory efficient appends and pops from either side of the deque with approximately the same O(1) performance in either direction.\n",
        "\n",
        "Though list objects support similar operations, they are optimized for fast fixed-length operations and incur O(n) memory movement costs for pop(0) and insert(0, v) operations which change both the size and position of the underlying data representation.\n",
        "\n",
        "If maxlen is not specified or is None, deques may grow to an arbitrary length. Otherwise, the deque is bounded to the specified maximum length. Once a bounded length deque is full, when new items are added, a corresponding number of items are discarded from the opposite end. Bounded length deques provide functionality similar to the tail filter in Unix. They are also useful for tracking transactions and other pools of data where only the most recent activity is of interest.\n"
      ]
    },
    {
      "cell_type": "markdown",
      "metadata": {
        "id": "VTcLJX23y0mb",
        "colab_type": "text"
      },
      "source": [
        "Deque objects support the following methods:\n",
        "\n",
        "**append(x)**\n",
        "\n",
        "Add x to the right side of the deque.\n",
        "\n",
        "**appendleft(x)**\n",
        "\n",
        "Add x to the left side of the deque.\n",
        "\n",
        "**clear()**\n",
        "\n",
        "Remove all elements from the deque leaving it with length 0.\n",
        "\n",
        "**copy()**\n",
        "\n",
        "Create a shallow copy of the deque.\n",
        "\n",
        "**count(x)**\n",
        "\n",
        "Count the number of deque elements equal to x.\n",
        "\n",
        "**extend(iterable)**\n",
        "\n",
        "Extend the right side of the deque by appending elements from the iterable argument.\n",
        "\n",
        "**extendleft(iterable)**\n",
        "\n",
        "Extend the left side of the deque by appending elements from iterable. Note, the series of left appends results in reversing the order of elements in the iterable argument.\n",
        "\n",
        "**index(x[, start[, stop]])**\n",
        "\n",
        "Return the position of x in the deque (at or after index start and before index stop). Returns the first match or raises ValueError if not found.\n",
        "\n",
        "**insert(i, x)**\n",
        "\n",
        "Insert x into the deque at position i.\n",
        "\n",
        "If the insertion would cause a bounded deque to grow beyond maxlen, an IndexError is raised.\n",
        "\n",
        "**pop()**\n",
        "\n",
        "Remove and return an element from the right side of the deque. If no elements are present, raises an IndexError.\n",
        "\n",
        "**popleft()**\n",
        "\n",
        "Remove and return an element from the left side of the deque. If no elements are present, raises an IndexError.\n",
        "\n",
        "**remove(value)**\n",
        "\n",
        "Remove the first occurrence of value. If not found, raises a ValueError.\n",
        "\n",
        "**reverse()**\n",
        "\n",
        "Reverse the elements of the deque in-place and then return None.\n",
        "\n",
        "**rotate(n=1)**\n",
        "Rotate the deque n steps to the right. If n is negative, rotate to the left.\n",
        "\n",
        "When the deque is not empty, rotating one step to the right is equivalent to d.appendleft(d.pop()), and rotating one step to the left is equivalent to d.append(d.popleft()).\n",
        "\n",
        "Deque objects also provide one read-only attribute:\n",
        "\n",
        "**maxlen**\n",
        "\n",
        "Maximum size of a deque or None if unbounded.\n"
      ]
    },
    {
      "cell_type": "code",
      "metadata": {
        "id": "hoIthKsUwPYa",
        "colab_type": "code",
        "outputId": "8773c68c-d1ce-4e2f-f96c-4d952a9e999c",
        "colab": {
          "base_uri": "https://localhost:8080/",
          "height": 68
        }
      },
      "source": [
        "#Example:\n",
        "from collections import deque\n",
        "d = deque('ghi')                 # make a new deque with three items\n",
        "for elem in d:                   # iterate over the deque's elements\n",
        "  print(elem.upper())"
      ],
      "execution_count": 0,
      "outputs": [
        {
          "output_type": "stream",
          "text": [
            "G\n",
            "H\n",
            "I\n"
          ],
          "name": "stdout"
        }
      ]
    },
    {
      "cell_type": "code",
      "metadata": {
        "id": "jhRrSPNxz07h",
        "colab_type": "code",
        "outputId": "0e88bdbd-c350-42a3-fb71-1134b36bfd71",
        "colab": {
          "base_uri": "https://localhost:8080/",
          "height": 34
        }
      },
      "source": [
        "d.append('j')                    # add a new entry to the right side\n",
        "d.appendleft('f')                # add a new entry to the left side\n",
        "d                                # show the representation of the deque"
      ],
      "execution_count": 0,
      "outputs": [
        {
          "output_type": "execute_result",
          "data": {
            "text/plain": [
              "deque(['f', 'g', 'h', 'i', 'j'])"
            ]
          },
          "metadata": {
            "tags": []
          },
          "execution_count": 2
        }
      ]
    },
    {
      "cell_type": "code",
      "metadata": {
        "id": "PvaWlXHvz6Qp",
        "colab_type": "code",
        "outputId": "287aa267-0120-4d29-8cd9-7b836093d3d9",
        "colab": {
          "base_uri": "https://localhost:8080/",
          "height": 34
        }
      },
      "source": [
        "d.pop()                          # return and remove the rightmost item"
      ],
      "execution_count": 0,
      "outputs": [
        {
          "output_type": "execute_result",
          "data": {
            "text/plain": [
              "'j'"
            ]
          },
          "metadata": {
            "tags": []
          },
          "execution_count": 3
        }
      ]
    },
    {
      "cell_type": "code",
      "metadata": {
        "id": "qkffmYc40Byy",
        "colab_type": "code",
        "outputId": "dad666ff-a65d-4904-c2f1-47952c1b86d4",
        "colab": {
          "base_uri": "https://localhost:8080/",
          "height": 34
        }
      },
      "source": [
        "d.popleft()                      # return and remove the leftmost item"
      ],
      "execution_count": 0,
      "outputs": [
        {
          "output_type": "execute_result",
          "data": {
            "text/plain": [
              "'f'"
            ]
          },
          "metadata": {
            "tags": []
          },
          "execution_count": 4
        }
      ]
    },
    {
      "cell_type": "code",
      "metadata": {
        "id": "6y2u-K7E0ECq",
        "colab_type": "code",
        "outputId": "9e22e7e4-7906-4f9d-99b3-c33a1e584584",
        "colab": {
          "base_uri": "https://localhost:8080/",
          "height": 34
        }
      },
      "source": [
        "list(d)                          # list the contents of the deque"
      ],
      "execution_count": 0,
      "outputs": [
        {
          "output_type": "execute_result",
          "data": {
            "text/plain": [
              "['g', 'h', 'i']"
            ]
          },
          "metadata": {
            "tags": []
          },
          "execution_count": 5
        }
      ]
    },
    {
      "cell_type": "code",
      "metadata": {
        "id": "kzQy-C3w0FVK",
        "colab_type": "code",
        "outputId": "1c11a2cd-9274-4562-d5b4-0c4b6487aaff",
        "colab": {
          "base_uri": "https://localhost:8080/",
          "height": 34
        }
      },
      "source": [
        "d[0]                             # peek at leftmost item"
      ],
      "execution_count": 0,
      "outputs": [
        {
          "output_type": "execute_result",
          "data": {
            "text/plain": [
              "'g'"
            ]
          },
          "metadata": {
            "tags": []
          },
          "execution_count": 6
        }
      ]
    },
    {
      "cell_type": "code",
      "metadata": {
        "id": "ypW7LuXs0JIC",
        "colab_type": "code",
        "outputId": "90dcf899-d006-4dfa-c0ae-377b5d52b604",
        "colab": {
          "base_uri": "https://localhost:8080/",
          "height": 34
        }
      },
      "source": [
        "d[-1]                            # peek at rightmost item"
      ],
      "execution_count": 0,
      "outputs": [
        {
          "output_type": "execute_result",
          "data": {
            "text/plain": [
              "'i'"
            ]
          },
          "metadata": {
            "tags": []
          },
          "execution_count": 7
        }
      ]
    },
    {
      "cell_type": "code",
      "metadata": {
        "id": "G42k-E5_0LCy",
        "colab_type": "code",
        "outputId": "b9aa0a05-42cf-4df5-d12e-16ad2224ce16",
        "colab": {
          "base_uri": "https://localhost:8080/",
          "height": 34
        }
      },
      "source": [
        "list(d)"
      ],
      "execution_count": 0,
      "outputs": [
        {
          "output_type": "execute_result",
          "data": {
            "text/plain": [
              "['g', 'h', 'i']"
            ]
          },
          "metadata": {
            "tags": []
          },
          "execution_count": 8
        }
      ]
    },
    {
      "cell_type": "code",
      "metadata": {
        "id": "F5KfZY8D0N8i",
        "colab_type": "code",
        "outputId": "1dda0352-0467-4620-fefa-d4274940c5dc",
        "colab": {
          "base_uri": "https://localhost:8080/",
          "height": 34
        }
      },
      "source": [
        "list(reversed(d))                # list the contents of a deque in reverse"
      ],
      "execution_count": 0,
      "outputs": [
        {
          "output_type": "execute_result",
          "data": {
            "text/plain": [
              "['i', 'h', 'g']"
            ]
          },
          "metadata": {
            "tags": []
          },
          "execution_count": 9
        }
      ]
    },
    {
      "cell_type": "code",
      "metadata": {
        "id": "isqBmm1Z0TJj",
        "colab_type": "code",
        "outputId": "3138c392-d1d0-407b-d830-fd8a9c19a461",
        "colab": {
          "base_uri": "https://localhost:8080/",
          "height": 34
        }
      },
      "source": [
        "'h' in d                         # search the deque"
      ],
      "execution_count": 0,
      "outputs": [
        {
          "output_type": "execute_result",
          "data": {
            "text/plain": [
              "True"
            ]
          },
          "metadata": {
            "tags": []
          },
          "execution_count": 10
        }
      ]
    },
    {
      "cell_type": "code",
      "metadata": {
        "id": "b0mofFnV0Ula",
        "colab_type": "code",
        "outputId": "b255c9f8-2903-4cd3-a180-edadd971c502",
        "colab": {
          "base_uri": "https://localhost:8080/",
          "height": 34
        }
      },
      "source": [
        "d.extend('jkl')                  # add multiple elements at once\n",
        "d"
      ],
      "execution_count": 0,
      "outputs": [
        {
          "output_type": "execute_result",
          "data": {
            "text/plain": [
              "deque(['g', 'h', 'i', 'j', 'k', 'l', 'j', 'k', 'l'])"
            ]
          },
          "metadata": {
            "tags": []
          },
          "execution_count": 12
        }
      ]
    },
    {
      "cell_type": "code",
      "metadata": {
        "id": "MhYBcQ1_0WXs",
        "colab_type": "code",
        "outputId": "7d8b587f-8a4c-4e35-8eea-af0851997511",
        "colab": {
          "base_uri": "https://localhost:8080/",
          "height": 34
        }
      },
      "source": [
        "d.rotate(1)                      # right rotation\n",
        "d"
      ],
      "execution_count": 0,
      "outputs": [
        {
          "output_type": "execute_result",
          "data": {
            "text/plain": [
              "deque(['k', 'l', 'g', 'h', 'i', 'j', 'k', 'l', 'j'])"
            ]
          },
          "metadata": {
            "tags": []
          },
          "execution_count": 14
        }
      ]
    },
    {
      "cell_type": "code",
      "metadata": {
        "id": "6bw5KbUO0c3T",
        "colab_type": "code",
        "outputId": "fbce79f8-46cd-4a4e-db5d-2a467306367e",
        "colab": {
          "base_uri": "https://localhost:8080/",
          "height": 34
        }
      },
      "source": [
        "d.rotate(-1)                     # left rotation\n",
        "d"
      ],
      "execution_count": 0,
      "outputs": [
        {
          "output_type": "execute_result",
          "data": {
            "text/plain": [
              "deque(['l', 'g', 'h', 'i', 'j', 'k', 'l', 'j', 'k'])"
            ]
          },
          "metadata": {
            "tags": []
          },
          "execution_count": 15
        }
      ]
    },
    {
      "cell_type": "code",
      "metadata": {
        "id": "XtjN_J2e0pfV",
        "colab_type": "code",
        "outputId": "c8a3a781-87f7-459d-e24c-36588c77506b",
        "colab": {
          "base_uri": "https://localhost:8080/",
          "height": 34
        }
      },
      "source": [
        "deque(reversed(d))               # make a new deque in reverse order"
      ],
      "execution_count": 0,
      "outputs": [
        {
          "output_type": "execute_result",
          "data": {
            "text/plain": [
              "deque(['k', 'j', 'l', 'k', 'j', 'i', 'h', 'g', 'l'])"
            ]
          },
          "metadata": {
            "tags": []
          },
          "execution_count": 16
        }
      ]
    },
    {
      "cell_type": "code",
      "metadata": {
        "id": "W_ySsRty03bn",
        "colab_type": "code",
        "colab": {}
      },
      "source": [
        "d.clear()                        # empty the deque"
      ],
      "execution_count": 0,
      "outputs": []
    },
    {
      "cell_type": "code",
      "metadata": {
        "id": "aB-gZV8l07Xs",
        "colab_type": "code",
        "outputId": "2b259716-8306-4013-b2a1-acfc198f1665",
        "colab": {
          "base_uri": "https://localhost:8080/",
          "height": 163
        }
      },
      "source": [
        "d.pop()                          # cannot pop from an empty deque"
      ],
      "execution_count": 0,
      "outputs": [
        {
          "output_type": "error",
          "ename": "IndexError",
          "evalue": "ignored",
          "traceback": [
            "\u001b[0;31m---------------------------------------------------------------------------\u001b[0m",
            "\u001b[0;31mIndexError\u001b[0m                                Traceback (most recent call last)",
            "\u001b[0;32m<ipython-input-22-ab4330e9f2b2>\u001b[0m in \u001b[0;36m<module>\u001b[0;34m()\u001b[0m\n\u001b[0;32m----> 1\u001b[0;31m \u001b[0md\u001b[0m\u001b[0;34m.\u001b[0m\u001b[0mpop\u001b[0m\u001b[0;34m(\u001b[0m\u001b[0;34m)\u001b[0m                          \u001b[0;31m# cannot pop from an empty deque\u001b[0m\u001b[0;34m\u001b[0m\u001b[0;34m\u001b[0m\u001b[0m\n\u001b[0m",
            "\u001b[0;31mIndexError\u001b[0m: pop from an empty deque"
          ]
        }
      ]
    },
    {
      "cell_type": "code",
      "metadata": {
        "id": "gswwbCij08aE",
        "colab_type": "code",
        "outputId": "d6e30aec-2c60-4831-e442-10e9e4362b6b",
        "colab": {
          "base_uri": "https://localhost:8080/",
          "height": 34
        }
      },
      "source": [
        "d.extendleft('abc')              # extendleft() reverses the input order\n",
        "d"
      ],
      "execution_count": 0,
      "outputs": [
        {
          "output_type": "execute_result",
          "data": {
            "text/plain": [
              "deque(['c', 'b', 'a'])"
            ]
          },
          "metadata": {
            "tags": []
          },
          "execution_count": 23
        }
      ]
    },
    {
      "cell_type": "markdown",
      "metadata": {
        "id": "x7Y3ZsXf1IFl",
        "colab_type": "text"
      },
      "source": [
        "**deque Recipes**\n",
        "\n",
        "This section shows various approaches to working with deques.\n",
        "\n",
        "1. Bounded length deques provide functionality similar to the tail filter in Unix:"
      ]
    },
    {
      "cell_type": "code",
      "metadata": {
        "id": "EhEDz3Hq0-vk",
        "colab_type": "code",
        "outputId": "7076965f-3e72-4251-acdd-d73ca23238a6",
        "colab": {
          "base_uri": "https://localhost:8080/",
          "height": 119
        }
      },
      "source": [
        "from collections import deque\n",
        "\n",
        "def tail(filename, n=3):\n",
        "    'Return the last n lines of a file'\n",
        "    with open(filename) as f:\n",
        "        return deque(f, n)\n",
        "\n",
        "\n",
        "deque_data = tail('/content/sample_data/california_housing_train.csv')\n",
        "for elem in deque_data:\n",
        "    print(elem)\n",
        "\n"
      ],
      "execution_count": 0,
      "outputs": [
        {
          "output_type": "stream",
          "text": [
            "-124.300000,41.840000,17.000000,2677.000000,531.000000,1244.000000,456.000000,3.031300,103600.000000\n",
            "\n",
            "-124.300000,41.800000,19.000000,2672.000000,552.000000,1298.000000,478.000000,1.979700,85800.000000\n",
            "\n",
            "-124.350000,40.540000,52.000000,1820.000000,300.000000,806.000000,270.000000,3.014700,94600.000000\n",
            "\n"
          ],
          "name": "stdout"
        }
      ]
    },
    {
      "cell_type": "markdown",
      "metadata": {
        "id": "uNC5mD5h1mL4",
        "colab_type": "text"
      },
      "source": [
        "2. Another approach to using deques is to maintain a sequence of recently added elements by appending to the right and popping to the left:"
      ]
    },
    {
      "cell_type": "markdown",
      "metadata": {
        "id": "rjeZQdHa8tJA",
        "colab_type": "text"
      },
      "source": [
        "**keeping the last N items**"
      ]
    },
    {
      "cell_type": "code",
      "metadata": {
        "id": "B88TXNQf1b5W",
        "colab_type": "code",
        "colab": {
          "base_uri": "https://localhost:8080/",
          "height": 119
        },
        "outputId": "d81554c1-c070-4532-bc77-46c5aa3fce2d"
      },
      "source": [
        "from collections import deque\n",
        "\n",
        "def search(lines, pattern, history=5):\n",
        "    previous_lines = deque(maxlen=history)\n",
        "    for line in lines:\n",
        "        if pattern in line:\n",
        "            yield line, previous_lines\n",
        "            previous_lines.append(line)\n",
        "\n",
        "\n",
        "if __name__ == '__main__':\n",
        "    with open('/content/sample_data/california_housing_train.csv') as f:\n",
        "        for line, prevlines in search(f, '1244.000000', 5):\n",
        "            pass\n",
        "        for pline in prevlines:\n",
        "            print(pline, end='')\n",
        "        print(line, end='')"
      ],
      "execution_count": 4,
      "outputs": [
        {
          "output_type": "stream",
          "text": [
            "-121.470000,39.010000,37.000000,1244.000000,247.000000,484.000000,157.000000,2.366100,77500.000000\n",
            "-122.150000,37.460000,30.000000,4198.000000,1244.000000,2678.000000,1147.000000,3.671200,308600.000000\n",
            "-122.420000,38.270000,25.000000,3282.000000,566.000000,1244.000000,483.000000,4.531300,308400.000000\n",
            "-122.680000,38.460000,17.000000,3201.000000,527.000000,1244.000000,495.000000,4.714300,202900.000000\n",
            "-124.300000,41.840000,17.000000,2677.000000,531.000000,1244.000000,456.000000,3.031300,103600.000000\n",
            "-124.300000,41.840000,17.000000,2677.000000,531.000000,1244.000000,456.000000,3.031300,103600.000000\n"
          ],
          "name": "stdout"
        }
      ]
    },
    {
      "cell_type": "code",
      "metadata": {
        "id": "mpSi8MUI8y4_",
        "colab_type": "code",
        "colab": {
          "base_uri": "https://localhost:8080/",
          "height": 34
        },
        "outputId": "e75828c0-6d48-41ea-8cd4-ece7218adbe4"
      },
      "source": [
        "ls -rlt /content/sample_data/california_housing_train.csv"
      ],
      "execution_count": 2,
      "outputs": [
        {
          "output_type": "stream",
          "text": [
            "-rw-r--r-- 1 root root 1706430 Nov 15 16:31 /content/sample_data/california_housing_train.csv\n"
          ],
          "name": "stdout"
        }
      ]
    },
    {
      "cell_type": "code",
      "metadata": {
        "id": "nfGxgL3181WM",
        "colab_type": "code",
        "colab": {}
      },
      "source": [
        ""
      ],
      "execution_count": 0,
      "outputs": []
    }
  ]
}