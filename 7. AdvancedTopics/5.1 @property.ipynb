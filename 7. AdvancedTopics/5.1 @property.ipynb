{
  "nbformat": 4,
  "nbformat_minor": 0,
  "metadata": {
    "colab": {
      "name": "Untitled51.ipynb",
      "provenance": [],
      "include_colab_link": true
    },
    "kernelspec": {
      "name": "python3",
      "display_name": "Python 3"
    }
  },
  "cells": [
    {
      "cell_type": "markdown",
      "metadata": {
        "id": "view-in-github",
        "colab_type": "text"
      },
      "source": [
        "<a href=\"https://colab.research.google.com/github/sumithdcosta/Python/blob/master/7.%20AdvancedTopics/5.1%20%40property.ipynb\" target=\"_parent\"><img src=\"https://colab.research.google.com/assets/colab-badge.svg\" alt=\"Open In Colab\"/></a>"
      ]
    },
    {
      "cell_type": "markdown",
      "metadata": {
        "id": "wc38zzhcp69q",
        "colab_type": "text"
      },
      "source": [
        "7. AdvancedTopics/5.1 @property.ipynb"
      ]
    },
    {
      "cell_type": "code",
      "metadata": {
        "id": "jJtYC9ugp6LJ",
        "colab_type": "code",
        "colab": {}
      },
      "source": [
        "# https://www.geeksforgeeks.org/python-property-function/\n",
        "# https://www.youtube.com/watch?v=jCzT9XFZ5bw\n",
        "\n",
        "\"\"\"--------------------------------------------------------------------------------------\n",
        "property() function\n",
        "In Python, the main purpose of Property() function is to create property of a class.\n",
        "Syntax: property(fget, fset, fdel, doc)\n",
        "Parameters:\n",
        "fget() – used to get the value of attribute\n",
        "fset() – used to set the value of atrribute\n",
        "fdel() – used to delete the attribute value\n",
        "doc() – string that contains the documentation (docstring) for the attribute\n",
        "Return: Returns a property attribute from the given getter, setter and deleter.\n",
        "note:\n",
        "If no arguments are given, property() method returns a base property attribute that doesn’t contain any getter, setter or deleter.\n",
        "If doc isn’t provided, property() method takes the docstring of the getter function.\n",
        "----------------------------------------------------------------------------------------\"\"\"\n",
        "\n",
        "#Example #1: Using property() method\n",
        "# Python program to explain property() function \n",
        "\n",
        "# Alphabet class \n",
        "class Alphabet:\n",
        "    def __init__(self, value):\n",
        "        self._value = value\n",
        "\n",
        "    # getting the values \n",
        "    def getValue(self):\n",
        "        print('Getting value')\n",
        "        return self._value\n",
        "\n",
        "    # setting the values \n",
        "    def setValue(self, value):\n",
        "        print('Setting value to ' + value)\n",
        "        self._value = value\n",
        "\n",
        "    # deleting the values \n",
        "    def delValue(self):\n",
        "        print('Deleting value')\n",
        "        del self._value\n",
        "\n",
        "    value = property(getValue, setValue, delValue, )\n",
        "\n"
      ],
      "execution_count": 0,
      "outputs": []
    },
    {
      "cell_type": "code",
      "metadata": {
        "id": "W8SEy3qxqNz6",
        "colab_type": "code",
        "colab": {}
      },
      "source": [
        "# passing the value \n",
        "x = Alphabet('GeeksforGeeks')"
      ],
      "execution_count": 0,
      "outputs": []
    },
    {
      "cell_type": "code",
      "metadata": {
        "id": "g8RiTmRuqP4C",
        "colab_type": "code",
        "colab": {
          "base_uri": "https://localhost:8080/",
          "height": 51
        },
        "outputId": "ad3b3171-1c77-47ec-acf9-a66e56d79268"
      },
      "source": [
        "print(x.value)"
      ],
      "execution_count": 5,
      "outputs": [
        {
          "output_type": "stream",
          "text": [
            "Getting value\n",
            "GeeksforGeeks\n"
          ],
          "name": "stdout"
        }
      ]
    },
    {
      "cell_type": "code",
      "metadata": {
        "id": "o2D5pqDxqXIT",
        "colab_type": "code",
        "colab": {
          "base_uri": "https://localhost:8080/",
          "height": 34
        },
        "outputId": "f238ef71-8525-4baa-d273-b972a1232857"
      },
      "source": [
        "x.value = 'GfG'"
      ],
      "execution_count": 6,
      "outputs": [
        {
          "output_type": "stream",
          "text": [
            "Setting value to GfG\n"
          ],
          "name": "stdout"
        }
      ]
    },
    {
      "cell_type": "code",
      "metadata": {
        "id": "2DiJc1xbqY2r",
        "colab_type": "code",
        "colab": {
          "base_uri": "https://localhost:8080/",
          "height": 34
        },
        "outputId": "c1b121bb-436f-40d5-f3d6-839752ffdf15"
      },
      "source": [
        "del x.value "
      ],
      "execution_count": 7,
      "outputs": [
        {
          "output_type": "stream",
          "text": [
            "Deleting value\n"
          ],
          "name": "stdout"
        }
      ]
    },
    {
      "cell_type": "code",
      "metadata": {
        "id": "QhMI-ww9qagL",
        "colab_type": "code",
        "colab": {}
      },
      "source": [
        "\"\"\"====================================================================================\n",
        "Return: Returns a property attribute from the given getter, setter and deleter\n",
        "output:\n",
        "Getting value\n",
        "GeeksforGeeks\n",
        "Setting value to GfG\n",
        "Deleting value\n",
        "========================================================================================\"\"\"\n"
      ],
      "execution_count": 0,
      "outputs": []
    },
    {
      "cell_type": "code",
      "metadata": {
        "id": "oFQuhAZbqpkW",
        "colab_type": "code",
        "colab": {}
      },
      "source": [
        "\"\"\"--------------------------------------------------------------------------------------\n",
        "Using Decorator: \n",
        "The main work of decorators is they are used to add functionality to the existing code. Also called metaprogramming, as a part of the program tries to modify another part of the program at compile time.\n",
        "----------------------------------------------------------------------------------------\"\"\"\n",
        "#Example #2: Using @property decorator \n",
        "\n",
        "# Python program to explain property() \n",
        "# function using decorator \n",
        "\n",
        "class Alphabet:\n",
        "    def __init__(self, value):\n",
        "        self._value = value\n",
        "\n",
        "    # getting the values\t \n",
        "    @property\n",
        "    def value(self):\n",
        "        print('Getting value')\n",
        "        return self._value\n",
        "\n",
        "    # setting the values\t \n",
        "    @value.setter\n",
        "    def value(self, value):\n",
        "        print('Setting value to ' + value)\n",
        "        self._value = value\n",
        "\n",
        "    # deleting the values \n",
        "    @value.deleter\n",
        "    def value(self):\n",
        "        print('Deleting value')\n",
        "        del self._value\n"
      ],
      "execution_count": 0,
      "outputs": []
    },
    {
      "cell_type": "code",
      "metadata": {
        "id": "Vzsc-84Rq4fp",
        "colab_type": "code",
        "colab": {}
      },
      "source": [
        "# passing the value \n",
        "x = Alphabet('Peter')"
      ],
      "execution_count": 0,
      "outputs": []
    },
    {
      "cell_type": "code",
      "metadata": {
        "id": "A71CD25wq4-c",
        "colab_type": "code",
        "colab": {
          "base_uri": "https://localhost:8080/",
          "height": 51
        },
        "outputId": "1ef59855-7f11-43d2-cc64-e15ab5a2081f"
      },
      "source": [
        "print(x.value)"
      ],
      "execution_count": 10,
      "outputs": [
        {
          "output_type": "stream",
          "text": [
            "Getting value\n",
            "Peter\n"
          ],
          "name": "stdout"
        }
      ]
    },
    {
      "cell_type": "code",
      "metadata": {
        "id": "AeAP8oUvq8ht",
        "colab_type": "code",
        "colab": {
          "base_uri": "https://localhost:8080/",
          "height": 34
        },
        "outputId": "634ecb37-f64b-4a90-876c-6acd3f5c2985"
      },
      "source": [
        "x.value = 'Diesel'"
      ],
      "execution_count": 11,
      "outputs": [
        {
          "output_type": "stream",
          "text": [
            "Setting value to Diesel\n"
          ],
          "name": "stdout"
        }
      ]
    },
    {
      "cell_type": "code",
      "metadata": {
        "id": "W0Y0d3gnrCEt",
        "colab_type": "code",
        "colab": {
          "base_uri": "https://localhost:8080/",
          "height": 34
        },
        "outputId": "83bd10c8-c23e-4368-f86e-dfa3116efea2"
      },
      "source": [
        "del x.value "
      ],
      "execution_count": 12,
      "outputs": [
        {
          "output_type": "stream",
          "text": [
            "Deleting value\n"
          ],
          "name": "stdout"
        }
      ]
    },
    {
      "cell_type": "code",
      "metadata": {
        "id": "2NwnqbLQrDFt",
        "colab_type": "code",
        "colab": {}
      },
      "source": [
        "\"\"\"====================================================================================\n",
        "output:\n",
        "Getting value\n",
        "Peter\n",
        "Setting value to Diesel\n",
        "Deleting value\n",
        "========================================================================================\"\"\""
      ],
      "execution_count": 0,
      "outputs": []
    },
    {
      "cell_type": "code",
      "metadata": {
        "id": "Jyg4LAamrFK3",
        "colab_type": "code",
        "colab": {}
      },
      "source": [
        "\"\"\"--------------------------------------------------------------------------------------\n",
        "example:\n",
        "property make us use varibales like attribute.\n",
        "----------------------------------------------------------------------------------------\"\"\"\n",
        "\n",
        "class Employee:\n",
        "    def __init__(self, first, last):\n",
        "        self.first = first\n",
        "        self.last = last\n",
        "        self.email = first + '.' + last + '@gmail.com'\n",
        "\n",
        "    def fullname(self):\n",
        "        return '{} {}'.format(self.first, self.last)"
      ],
      "execution_count": 0,
      "outputs": []
    },
    {
      "cell_type": "code",
      "metadata": {
        "id": "RJApCUeCrNxe",
        "colab_type": "code",
        "colab": {}
      },
      "source": [
        "emp1 = Employee('John', 'Dcruz')"
      ],
      "execution_count": 0,
      "outputs": []
    },
    {
      "cell_type": "code",
      "metadata": {
        "id": "O9NhNdVWrOh9",
        "colab_type": "code",
        "colab": {
          "base_uri": "https://localhost:8080/",
          "height": 122
        },
        "outputId": "153dfb1a-996d-46b3-f33e-bd903f89d4d9"
      },
      "source": [
        "print(emp1.first)\n",
        "print(emp1.last)\n",
        "print(emp1.email)\n",
        "print(emp1.fullname())"
      ],
      "execution_count": 16,
      "outputs": [
        {
          "output_type": "stream",
          "text": [
            "John\n",
            "Dcruz\n",
            "John.Dcruz@gmail.com\n",
            "John Dcruz\n"
          ],
          "name": "stdout"
        },
        {
          "output_type": "execute_result",
          "data": {
            "text/plain": [
              "'====================================================================================\\nJohn\\nDcruz\\nJohn.Dcruz@gmail.com\\nJohn Dcruz\\nProcess finished with exit code 0\\n========================================================================================'"
            ]
          },
          "metadata": {
            "tags": []
          },
          "execution_count": 16
        }
      ]
    },
    {
      "cell_type": "code",
      "metadata": {
        "id": "MK1cMUudrR8t",
        "colab_type": "code",
        "colab": {}
      },
      "source": [
        "#let overwrite first name\n",
        "\n",
        "class Employee:\n",
        "    def __init__(self, first, last):\n",
        "        self.first = first\n",
        "        self.last = last\n",
        "        self.email = first + '.' + last + '@gmail.com'\n",
        "\n",
        "    def fullname(self):\n",
        "        return '{} {}'.format(self.first, self.last)"
      ],
      "execution_count": 0,
      "outputs": []
    },
    {
      "cell_type": "code",
      "metadata": {
        "id": "l6fPPJ9prcnP",
        "colab_type": "code",
        "colab": {
          "base_uri": "https://localhost:8080/",
          "height": 85
        },
        "outputId": "2da687d5-f892-4b5e-d602-a4b0e97c2334"
      },
      "source": [
        "emp1 = Employee('John', 'Dcruz')\n",
        "\n",
        "emp1.first = 'Amith'\n",
        "\n",
        "print(emp1.first)\n",
        "print(emp1.last)\n",
        "print(emp1.email)\n",
        "print(emp1.fullname())"
      ],
      "execution_count": 18,
      "outputs": [
        {
          "output_type": "stream",
          "text": [
            "Amith\n",
            "Dcruz\n",
            "John.Dcruz@gmail.com\n",
            "Amith Dcruz\n"
          ],
          "name": "stdout"
        }
      ]
    },
    {
      "cell_type": "markdown",
      "metadata": {
        "id": "ZrRmpqlErqFe",
        "colab_type": "text"
      },
      "source": [
        "note: changes are not propogated"
      ]
    },
    {
      "cell_type": "code",
      "metadata": {
        "id": "6HIC8WUsrgKW",
        "colab_type": "code",
        "colab": {
          "base_uri": "https://localhost:8080/",
          "height": 85
        },
        "outputId": "5aec6803-4711-416b-ae62-15e851123641"
      },
      "source": [
        "#we are chaning attribute to method . emp1.email()\n",
        "class Employee:\n",
        "    def __init__(self, first, last):\n",
        "        self.first = first\n",
        "        self.last = last\n",
        "\n",
        "    def email(self):\n",
        "        return '{}.{}@gmail.com'.format(self.first, self.last)\n",
        "\n",
        "    def fullname(self):\n",
        "        return '{} {}'.format(self.first, self.last)\n",
        "\n",
        "\n",
        "emp1 = Employee('John', 'Dcruz')\n",
        "\n",
        "emp1.first = 'Amith'\n",
        "\n",
        "print(emp1.first)\n",
        "print(emp1.last)\n",
        "print(emp1.email())  # calling function\n",
        "print(emp1.fullname())"
      ],
      "execution_count": 19,
      "outputs": [
        {
          "output_type": "stream",
          "text": [
            "Amith\n",
            "Dcruz\n",
            "Amith.Dcruz@gmail.com\n",
            "Amith Dcruz\n"
          ],
          "name": "stdout"
        }
      ]
    },
    {
      "cell_type": "code",
      "metadata": {
        "id": "dF5fQNKyr0Ia",
        "colab_type": "code",
        "colab": {
          "base_uri": "https://localhost:8080/",
          "height": 85
        },
        "outputId": "7d99aab7-f221-446d-f8f5-a9e072b009cf"
      },
      "source": [
        "#now : by using property decorator i am able to retain attribute type for email. \n",
        "class Employee:\n",
        "    def __init__(self, first, last):\n",
        "        self.first = first\n",
        "        self.last = last\n",
        "\n",
        "    @property\n",
        "    def email(self):\n",
        "        return '{}.{}@gmail.com'.format(self.first, self.last)\n",
        "\n",
        "    def fullname(self):\n",
        "        return '{} {}'.format(self.first, self.last)\n",
        "\n",
        "\n",
        "emp1 = Employee('John', 'Dcruz')\n",
        "\n",
        "emp1.first = 'Amith'\n",
        "\n",
        "print(emp1.first)\n",
        "print(emp1.last)\n",
        "print(emp1.email)  #this is like printing variable\n",
        "print(emp1.fullname())"
      ],
      "execution_count": 20,
      "outputs": [
        {
          "output_type": "stream",
          "text": [
            "Amith\n",
            "Dcruz\n",
            "Amith.Dcruz@gmail.com\n",
            "Amith Dcruz\n"
          ],
          "name": "stdout"
        }
      ]
    },
    {
      "cell_type": "code",
      "metadata": {
        "id": "wSTy9urpr7SQ",
        "colab_type": "code",
        "colab": {
          "base_uri": "https://localhost:8080/",
          "height": 85
        },
        "outputId": "c75518e5-5929-4906-b3f8-b99e35ffb3f2"
      },
      "source": [
        "#decorate on full name :\n",
        "class Employee:\n",
        "    def __init__(self, first, last):\n",
        "        self.first = first\n",
        "        self.last = last\n",
        "\n",
        "    @property\n",
        "    def email(self):\n",
        "        return '{}.{}@gmail.com'.format(self.first, self.last)\n",
        "\n",
        "    @property\n",
        "    def fullname(self):\n",
        "        return '{} {}'.format(self.first, self.last)\n",
        "\n",
        "    @fullname.setter\n",
        "    def fullname(self, name):\n",
        "        first, last = name.split(' ')\n",
        "        self.first = first\n",
        "        self.last = last\n",
        "\n",
        "emp1 = Employee('John', 'Dcruz')\n",
        "\n",
        "emp1.fullname = ('Ankur Sharma')\n",
        "\n",
        "print(emp1.first)\n",
        "print(emp1.last)\n",
        "print(emp1.email)\n",
        "print(emp1.fullname)"
      ],
      "execution_count": 21,
      "outputs": [
        {
          "output_type": "stream",
          "text": [
            "Ankur\n",
            "Sharma\n",
            "Ankur.Sharma@gmail.com\n",
            "Ankur Sharma\n"
          ],
          "name": "stdout"
        }
      ]
    },
    {
      "cell_type": "code",
      "metadata": {
        "id": "xWECdKL2u4fZ",
        "colab_type": "code",
        "colab": {
          "base_uri": "https://localhost:8080/",
          "height": 102
        },
        "outputId": "8998fb4d-96dd-4435-bd8e-a7cf265a179d"
      },
      "source": [
        "#build delete setter\n",
        "class Employee:\n",
        "    def __init__(self, first, last):\n",
        "        self.first = first\n",
        "        self.last = last\n",
        "\n",
        "    @property\n",
        "    def email(self):\n",
        "        return '{}.{}@gmail.com'.format(self.first, self.last)\n",
        "\n",
        "    @property\n",
        "    def fullname(self):\n",
        "        return '{} {}'.format(self.first, self.last)\n",
        "\n",
        "    @fullname.setter\n",
        "    def fullname(self, name):\n",
        "        first, last = name.split(' ')\n",
        "        self.first = first\n",
        "        self.last = last\n",
        "\n",
        "    @fullname.deleter\n",
        "    def fullname(self):\n",
        "        print('Delete name')\n",
        "        self.first = None\n",
        "        self.last = None\n",
        "\n",
        "emp1 = Employee('John', 'Dcruz')\n",
        "\n",
        "emp1.fullname = ('Ankur Sharma')\n",
        "\n",
        "print(emp1.first)\n",
        "print(emp1.last)\n",
        "print(emp1.email)\n",
        "print(emp1.fullname)\n",
        "\n",
        "del emp1.fullname"
      ],
      "execution_count": 22,
      "outputs": [
        {
          "output_type": "stream",
          "text": [
            "Ankur\n",
            "Sharma\n",
            "Ankur.Sharma@gmail.com\n",
            "Ankur Sharma\n",
            "Delete name\n"
          ],
          "name": "stdout"
        }
      ]
    },
    {
      "cell_type": "code",
      "metadata": {
        "id": "VCU_gMWUvVe7",
        "colab_type": "code",
        "colab": {}
      },
      "source": [
        ""
      ],
      "execution_count": 0,
      "outputs": []
    }
  ]
}