{
  "nbformat": 4,
  "nbformat_minor": 0,
  "metadata": {
    "colab": {
      "name": "Untitled46.ipynb",
      "provenance": [],
      "include_colab_link": true
    },
    "kernelspec": {
      "name": "python3",
      "display_name": "Python 3"
    }
  },
  "cells": [
    {
      "cell_type": "markdown",
      "metadata": {
        "id": "view-in-github",
        "colab_type": "text"
      },
      "source": [
        "<a href=\"https://colab.research.google.com/github/sumithdcosta/Python/blob/master/7.%20AdvancedTopics/1.1%20Iteration.ipynb\" target=\"_parent\"><img src=\"https://colab.research.google.com/assets/colab-badge.svg\" alt=\"Open In Colab\"/></a>"
      ]
    },
    {
      "cell_type": "markdown",
      "metadata": {
        "id": "m9MDcE0pkzpy",
        "colab_type": "text"
      },
      "source": [
        "7. AdvancedTopics/1.1 Iteration.ipynb"
      ]
    },
    {
      "cell_type": "markdown",
      "metadata": {
        "id": "CAGb_9Stk_3_",
        "colab_type": "text"
      },
      "source": [
        "https://www.youtube.com/watch?v=EnSu9hHGq5o&feature=youtu.be"
      ]
    },
    {
      "cell_type": "code",
      "metadata": {
        "id": "M_pxsU1_kxt-",
        "colab_type": "code",
        "colab": {
          "base_uri": "https://localhost:8080/",
          "height": 87
        },
        "outputId": "5dfa5d23-246a-47e4-b9a6-6dcc60b4907f"
      },
      "source": [
        "my_list = [2, 3, 4, 5]\n",
        "for n in my_list:\n",
        "    print(n)"
      ],
      "execution_count": 1,
      "outputs": [
        {
          "output_type": "stream",
          "text": [
            "2\n",
            "3\n",
            "4\n",
            "5\n"
          ],
          "name": "stdout"
        }
      ]
    },
    {
      "cell_type": "code",
      "metadata": {
        "id": "OhkhHwXTlYxx",
        "colab_type": "code",
        "colab": {}
      },
      "source": [
        "with open(\"Material.txt\") as f:\n",
        "    for line in f:\n",
        "        print (line)"
      ],
      "execution_count": 0,
      "outputs": []
    },
    {
      "cell_type": "code",
      "metadata": {
        "id": "bIx2JP32leMy",
        "colab_type": "code",
        "colab": {}
      },
      "source": [
        "import re\n",
        "for match in re.finditer(pattern, string)"
      ],
      "execution_count": 0,
      "outputs": []
    },
    {
      "cell_type": "code",
      "metadata": {
        "id": "rEY19dQYlk8f",
        "colab_type": "code",
        "colab": {}
      },
      "source": [
        "import os\n",
        "for root, dirs, files in os.walk('.'):\n",
        "    print(root)\n",
        "    print(dirs)\n",
        "    print(files)"
      ],
      "execution_count": 0,
      "outputs": []
    },
    {
      "cell_type": "code",
      "metadata": {
        "id": "vXuNq-gxlnyK",
        "colab_type": "code",
        "colab": {}
      },
      "source": [
        "from itertools import chain, repeat, cycle\n",
        "seq = chain(repeat(17,3), cycle(range(4)))\n",
        "for num in seq:\n",
        "    print(num)"
      ],
      "execution_count": 0,
      "outputs": []
    },
    {
      "cell_type": "code",
      "metadata": {
        "id": "zrPBNsb7lpQF",
        "colab_type": "code",
        "colab": {
          "base_uri": "https://localhost:8080/",
          "height": 70
        },
        "outputId": "d368dbb9-2d6d-4e69-fb7c-05a95266e93b"
      },
      "source": [
        "my_list = [\"eiffel\", \"empire\", \"tower\"]\n",
        "for index, name in enumerate(my_list):\n",
        "    print(index, name)"
      ],
      "execution_count": 4,
      "outputs": [
        {
          "output_type": "stream",
          "text": [
            "0 eiffel\n",
            "1 empire\n",
            "2 tower\n"
          ],
          "name": "stdout"
        }
      ]
    },
    {
      "cell_type": "code",
      "metadata": {
        "id": "_WfPhghDl_LL",
        "colab_type": "code",
        "colab": {
          "base_uri": "https://localhost:8080/",
          "height": 70
        },
        "outputId": "db7cada5-642b-41db-a604-4f7928ae6998"
      },
      "source": [
        "#starts index from 1\n",
        "my_list = [\"eiffel\", \"empire\", \"tower\"]\n",
        "for index, name in enumerate(my_list, start=1):\n",
        "    print(index, name)"
      ],
      "execution_count": 5,
      "outputs": [
        {
          "output_type": "stream",
          "text": [
            "1 eiffel\n",
            "2 empire\n",
            "3 tower\n"
          ],
          "name": "stdout"
        }
      ]
    },
    {
      "cell_type": "code",
      "metadata": {
        "id": "Jn3xZrVSmCEi",
        "colab_type": "code",
        "colab": {
          "base_uri": "https://localhost:8080/",
          "height": 70
        },
        "outputId": "64b3f3f9-f8a4-4df7-f015-d385f7e563fb"
      },
      "source": [
        "my_list = [\"eiffel\", \"empire\", \"tower\"]\n",
        "heights = [3, 5, 6]\n",
        "for name, height in zip(my_list,heights):\n",
        "    print(name, height)"
      ],
      "execution_count": 6,
      "outputs": [
        {
          "output_type": "stream",
          "text": [
            "eiffel 3\n",
            "empire 5\n",
            "tower 6\n"
          ],
          "name": "stdout"
        }
      ]
    },
    {
      "cell_type": "code",
      "metadata": {
        "id": "Vgc6_KZymHAb",
        "colab_type": "code",
        "colab": {
          "base_uri": "https://localhost:8080/",
          "height": 34
        },
        "outputId": "854412ab-0aa0-4d83-8698-90dd52dc0f60"
      },
      "source": [
        "my_list = [\"eiffel\", \"empire\", \"tower\"]\n",
        "heights = [3, 5, 6]\n",
        "print(dict(zip(my_list,heights)))"
      ],
      "execution_count": 7,
      "outputs": [
        {
          "output_type": "stream",
          "text": [
            "{'eiffel': 3, 'empire': 5, 'tower': 6}\n"
          ],
          "name": "stdout"
        }
      ]
    },
    {
      "cell_type": "code",
      "metadata": {
        "id": "nyT2E7AcmJca",
        "colab_type": "code",
        "colab": {
          "base_uri": "https://localhost:8080/",
          "height": 70
        },
        "outputId": "eefc37ac-9cbf-4ba5-bf50-34422476dcd1"
      },
      "source": [
        "nums = [11,22,33,44,55,66]\n",
        "def evens(stream):\n",
        "    them = []\n",
        "    for n in stream:\n",
        "        if n % 2 == 0:\n",
        "            them.append(n)\n",
        "    return them\n",
        "for n in evens(nums):\n",
        "    print(n)"
      ],
      "execution_count": 8,
      "outputs": [
        {
          "output_type": "stream",
          "text": [
            "22\n",
            "44\n",
            "66\n"
          ],
          "name": "stdout"
        }
      ]
    },
    {
      "cell_type": "code",
      "metadata": {
        "id": "GZ9Z-W5vmOaa",
        "colab_type": "code",
        "colab": {
          "base_uri": "https://localhost:8080/",
          "height": 70
        },
        "outputId": "850ca338-f930-4b6b-f8ce-d4ca4c37ffb4"
      },
      "source": [
        "\n",
        "#generators:\n",
        "nums = [11,22,33,44,55,66]\n",
        "def evens(stream):\n",
        "    for n in stream:\n",
        "        if n % 2 == 0:\n",
        "            yield n\n",
        "for n in evens(nums):\n",
        "    print(n)"
      ],
      "execution_count": 9,
      "outputs": [
        {
          "output_type": "stream",
          "text": [
            "22\n",
            "44\n",
            "66\n"
          ],
          "name": "stdout"
        }
      ]
    },
    {
      "cell_type": "code",
      "metadata": {
        "id": "y8l0OSATmTyj",
        "colab_type": "code",
        "colab": {}
      },
      "source": [
        "with open(\"Material.txt\") as f:\n",
        "    for line in f:\n",
        "        line = line.strip()\n",
        "        if line.startswith('#'):\n",
        "            #a commet line, skip it\n",
        "            continue\n",
        "        if not line:\n",
        "            # a blanks line , skip it\n",
        "            continue\n",
        "        print(line)"
      ],
      "execution_count": 0,
      "outputs": []
    },
    {
      "cell_type": "code",
      "metadata": {
        "id": "b_r56DyimY2_",
        "colab_type": "code",
        "colab": {}
      },
      "source": [
        "#generator\n",
        "def intresting_lines(f):\n",
        "    for line in f:\n",
        "        line = line.strip()\n",
        "        if line.startswith('#'):\n",
        "            # a commet line, skip it\n",
        "            continue\n",
        "        if not line:\n",
        "            # a blanks line , skip it\n",
        "            continue\n",
        "        yield line\n",
        "with open(\"Material.txt\") as f:\n",
        "    for line in intresting_lines(f):\n",
        "        print(line)"
      ],
      "execution_count": 0,
      "outputs": []
    },
    {
      "cell_type": "code",
      "metadata": {
        "id": "x38wK48inFHD",
        "colab_type": "code",
        "colab": {}
      },
      "source": [
        "#converting methods to iterators\n",
        "class ToDoList(object):\n",
        "    def __init__(self):\n",
        "        self.tasks = []\n",
        "\n",
        "    def __iter__(self):\n",
        "        return iter(self.tasks)\n",
        "todo = ToDoList()\n",
        "for task in todo:\n",
        "    ......."
      ],
      "execution_count": 0,
      "outputs": []
    },
    {
      "cell_type": "code",
      "metadata": {
        "id": "fQuzQ0jxnLPS",
        "colab_type": "code",
        "colab": {}
      },
      "source": [
        "\n",
        "#generator\n",
        "class ToDoList(object):\n",
        "    def __init__(self):\n",
        "        self.tasks = []\n",
        "    def __iter__(self):\n",
        "        for task in self.tasks:\n",
        "            if not task.done:\n",
        "                yield task\n",
        "    def all(self):\n",
        "        return iter(self.tasks)\n",
        "    def done(self):\n",
        "        return (t for t in self.taks if t.done)\n"
      ],
      "execution_count": 0,
      "outputs": []
    }
  ]
}