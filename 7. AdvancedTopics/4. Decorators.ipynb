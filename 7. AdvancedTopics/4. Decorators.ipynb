{
  "nbformat": 4,
  "nbformat_minor": 0,
  "metadata": {
    "colab": {
      "name": "Untitled49.ipynb",
      "provenance": [],
      "include_colab_link": true
    },
    "kernelspec": {
      "name": "python3",
      "display_name": "Python 3"
    }
  },
  "cells": [
    {
      "cell_type": "markdown",
      "metadata": {
        "id": "view-in-github",
        "colab_type": "text"
      },
      "source": [
        "<a href=\"https://colab.research.google.com/github/sumithdcosta/Python/blob/master/7.%20AdvancedTopics/4.%20Decorators.ipynb\" target=\"_parent\"><img src=\"https://colab.research.google.com/assets/colab-badge.svg\" alt=\"Open In Colab\"/></a>"
      ]
    },
    {
      "cell_type": "markdown",
      "metadata": {
        "id": "o9TQEu5170kh",
        "colab_type": "text"
      },
      "source": [
        "7. AdvancedTopics/4. Decorators.ipynb"
      ]
    },
    {
      "cell_type": "markdown",
      "metadata": {
        "id": "Evw9pme078V0",
        "colab_type": "text"
      },
      "source": [
        "**What are decorators in Python?**\n",
        "\n",
        "Python has an interesting feature called decorators to add functionality to an existing code.\n",
        "\n",
        "This is also called metaprogramming as a part of the program tries to modify another part of the program at compile time."
      ]
    },
    {
      "cell_type": "markdown",
      "metadata": {
        "id": "vnCwIFZZ8CSJ",
        "colab_type": "text"
      },
      "source": [
        "**Prerequisites for learning decorators**\n",
        "\n",
        "In order to understand about decorators, we must first know a few basic things in Python.\n",
        "\n",
        "We must be comfortable with the fact that, everything in Python (Yes! Even classes), are objects. Names that we define are simply identifiers bound to these objects. Functions are no exceptions, they are objects too (with attributes). Various different names can be bound to the same function object.\n",
        "\n",
        "Here is an example."
      ]
    },
    {
      "cell_type": "code",
      "metadata": {
        "id": "8iSRZT817ypM",
        "colab_type": "code",
        "colab": {
          "base_uri": "https://localhost:8080/",
          "height": 52
        },
        "outputId": "320faef7-46f8-4aa9-e405-7d0a448ecd01"
      },
      "source": [
        "def first(msg):\n",
        "    print(msg)    \n",
        "\n",
        "first(\"Hello\")\n",
        "\n",
        "second = first\n",
        "second(\"Hello\")"
      ],
      "execution_count": 1,
      "outputs": [
        {
          "output_type": "stream",
          "text": [
            "Hello\n",
            "Hello\n"
          ],
          "name": "stdout"
        }
      ]
    },
    {
      "cell_type": "markdown",
      "metadata": {
        "id": "gdpCQiGW8YW0",
        "colab_type": "text"
      },
      "source": [
        "When you run the code, both functions first and second gives same output. Here, the names first and second refer to the same function object.\n",
        "\n",
        "Now things start getting weirder.\n",
        "\n",
        "Functions can be passed as arguments to another function.\n",
        "\n",
        "If you have used functions like map, filter and reduce in Python, then you already know about this.\n",
        "\n",
        "Such function that take other functions as arguments are also called higher order functions. Here is an example of such a function."
      ]
    },
    {
      "cell_type": "code",
      "metadata": {
        "id": "NtD1Tg108VPl",
        "colab_type": "code",
        "colab": {}
      },
      "source": [
        "def inc(x):\n",
        "    return x + 1\n",
        "\n",
        "def dec(x):\n",
        "    return x - 1\n",
        "\n",
        "def operate(func, x):\n",
        "    result = func(x)\n",
        "    return result"
      ],
      "execution_count": 0,
      "outputs": []
    },
    {
      "cell_type": "code",
      "metadata": {
        "id": "OnaEk7Pc8nh2",
        "colab_type": "code",
        "colab": {
          "base_uri": "https://localhost:8080/",
          "height": 34
        },
        "outputId": "4715ad3e-9d15-473a-e25c-49d4961fafa7"
      },
      "source": [
        "operate(inc,3)"
      ],
      "execution_count": 3,
      "outputs": [
        {
          "output_type": "execute_result",
          "data": {
            "text/plain": [
              "4"
            ]
          },
          "metadata": {
            "tags": []
          },
          "execution_count": 3
        }
      ]
    },
    {
      "cell_type": "code",
      "metadata": {
        "id": "U5xU0i1A8u8d",
        "colab_type": "code",
        "colab": {
          "base_uri": "https://localhost:8080/",
          "height": 34
        },
        "outputId": "fb00265d-6c02-4f55-e5b7-c6e0e433c6d0"
      },
      "source": [
        "operate(dec,3)"
      ],
      "execution_count": 4,
      "outputs": [
        {
          "output_type": "execute_result",
          "data": {
            "text/plain": [
              "2"
            ]
          },
          "metadata": {
            "tags": []
          },
          "execution_count": 4
        }
      ]
    },
    {
      "cell_type": "markdown",
      "metadata": {
        "id": "TlmWlHNa83Xx",
        "colab_type": "text"
      },
      "source": [
        "Furthermore, a function can return another function. (closure)"
      ]
    },
    {
      "cell_type": "code",
      "metadata": {
        "id": "jErRz15T8wjO",
        "colab_type": "code",
        "colab": {
          "base_uri": "https://localhost:8080/",
          "height": 34
        },
        "outputId": "8f4c895c-22da-4b96-cd96-9b99d708c83e"
      },
      "source": [
        "def is_called():\n",
        "    def is_returned():\n",
        "        print(\"Hello\")\n",
        "    return is_returned\n",
        "\n",
        "new = is_called()\n",
        "\n",
        "#Outputs \"Hello\"\n",
        "new()"
      ],
      "execution_count": 5,
      "outputs": [
        {
          "output_type": "stream",
          "text": [
            "Hello\n"
          ],
          "name": "stdout"
        }
      ]
    },
    {
      "cell_type": "markdown",
      "metadata": {
        "id": "YoCFyFjk9KKs",
        "colab_type": "text"
      },
      "source": [
        "Here, is_returned() is a nested function which is defined and returned, each time we call is_called().\n",
        "\n",
        "Finally, we must know about closures in Python."
      ]
    },
    {
      "cell_type": "markdown",
      "metadata": {
        "id": "5ACz-uPN9QEP",
        "colab_type": "text"
      },
      "source": [
        "**Getting back to Decorators**\n",
        "\n",
        "Functions and methods are called callable as they can be called.\n",
        "\n",
        "In fact, any object which implements the special method **\\_\\_call__()** is termed callable. So, in the most basic sense, a decorator is a callable that returns a callable.\n",
        "\n",
        "Basically, a decorator takes in a function, adds some functionality and returns it.\n"
      ]
    },
    {
      "cell_type": "code",
      "metadata": {
        "id": "8xTGpnYM9DA-",
        "colab_type": "code",
        "colab": {}
      },
      "source": [
        "def make_pretty(func):\n",
        "    def inner():\n",
        "        print(\"I got decorated\")\n",
        "        func()\n",
        "    return inner\n",
        "\n",
        "def ordinary():\n",
        "    print(\"I am ordinary\")"
      ],
      "execution_count": 0,
      "outputs": []
    },
    {
      "cell_type": "code",
      "metadata": {
        "id": "2MW9lP489jH_",
        "colab_type": "code",
        "colab": {
          "base_uri": "https://localhost:8080/",
          "height": 34
        },
        "outputId": "8961e731-36b9-43bc-c290-07d10301c206"
      },
      "source": [
        "ordinary()"
      ],
      "execution_count": 7,
      "outputs": [
        {
          "output_type": "stream",
          "text": [
            "I am ordinary\n"
          ],
          "name": "stdout"
        }
      ]
    },
    {
      "cell_type": "code",
      "metadata": {
        "id": "oyCBelOl9lUP",
        "colab_type": "code",
        "colab": {
          "base_uri": "https://localhost:8080/",
          "height": 52
        },
        "outputId": "e24acf6d-6825-4ed2-9dc9-629ec78aaefa"
      },
      "source": [
        "# let's decorate this ordinary function\n",
        "pretty = make_pretty(ordinary)\n",
        "pretty()"
      ],
      "execution_count": 10,
      "outputs": [
        {
          "output_type": "stream",
          "text": [
            "I got decorated\n",
            "I am ordinary\n"
          ],
          "name": "stdout"
        }
      ]
    },
    {
      "cell_type": "markdown",
      "metadata": {
        "id": "KV5MHA75-CkL",
        "colab_type": "text"
      },
      "source": [
        "In the example shown above, make_pretty() is a decorator. In the assignment step."
      ]
    },
    {
      "cell_type": "code",
      "metadata": {
        "id": "Hm-p8NSj9oH_",
        "colab_type": "code",
        "colab": {}
      },
      "source": [
        "pretty = make_pretty(ordinary)"
      ],
      "execution_count": 0,
      "outputs": []
    },
    {
      "cell_type": "markdown",
      "metadata": {
        "id": "SsLWh1EZ-Hxa",
        "colab_type": "text"
      },
      "source": [
        "The function **ordinary**() got decorated and the returned function was given the name **pretty**.\n",
        "\n",
        "We can see that the decorator function added some new functionality to the original function. This is similar to packing a gift. The decorator acts as a wrapper. The nature of the object that got decorated (actual gift inside) does not alter. But now, it looks pretty (since it got decorated).\n",
        "\n",
        "Generally, we decorate a function and reassign it as,"
      ]
    },
    {
      "cell_type": "code",
      "metadata": {
        "id": "ol2d6iKi-FfP",
        "colab_type": "code",
        "colab": {}
      },
      "source": [
        "ordinary = make_pretty(ordinary)"
      ],
      "execution_count": 0,
      "outputs": []
    },
    {
      "cell_type": "markdown",
      "metadata": {
        "id": "N7yp6xdm-Yh9",
        "colab_type": "text"
      },
      "source": [
        "This is a common construct and for this reason, Python has a syntax to simplify this.\n",
        "\n",
        "We can use the @ symbol along with the name of the decorator function and place it above the definition of the function to be decorated. For example,"
      ]
    },
    {
      "cell_type": "code",
      "metadata": {
        "id": "WpY9AmH4-Uti",
        "colab_type": "code",
        "colab": {
          "base_uri": "https://localhost:8080/",
          "height": 52
        },
        "outputId": "d4d9430f-1a21-467b-a126-dae8a662f27e"
      },
      "source": [
        "@make_pretty\n",
        "def ordinary():\n",
        "    print(\"I am ordinary\")\n",
        "\n",
        "ordinary()"
      ],
      "execution_count": 16,
      "outputs": [
        {
          "output_type": "stream",
          "text": [
            "I got decorated\n",
            "I am ordinary\n"
          ],
          "name": "stdout"
        }
      ]
    },
    {
      "cell_type": "markdown",
      "metadata": {
        "id": "VUu2oama-oHB",
        "colab_type": "text"
      },
      "source": [
        "is equivalent to"
      ]
    },
    {
      "cell_type": "code",
      "metadata": {
        "id": "hZix6-d9-nRX",
        "colab_type": "code",
        "colab": {
          "base_uri": "https://localhost:8080/",
          "height": 52
        },
        "outputId": "708d56a7-7f11-424d-dc61-977035f23098"
      },
      "source": [
        "def ordinary():\n",
        "    print(\"I am ordinary\")\n",
        "ordinary = make_pretty(ordinary)\n",
        "ordinary()"
      ],
      "execution_count": 17,
      "outputs": [
        {
          "output_type": "stream",
          "text": [
            "I got decorated\n",
            "I am ordinary\n"
          ],
          "name": "stdout"
        }
      ]
    },
    {
      "cell_type": "markdown",
      "metadata": {
        "id": "X0rrsMCT-xJZ",
        "colab_type": "text"
      },
      "source": [
        "This is just a syntactic sugar to implement decorators."
      ]
    },
    {
      "cell_type": "markdown",
      "metadata": {
        "id": "OwTFOBIr--cf",
        "colab_type": "text"
      },
      "source": [
        "**Decorating Functions with Parameters**\n",
        "\n",
        "The above decorator was simple and it only worked with functions that did not have any parameters. What if we had functions that took in parameters like below?"
      ]
    },
    {
      "cell_type": "code",
      "metadata": {
        "id": "4jp3yYKx_CpQ",
        "colab_type": "code",
        "colab": {}
      },
      "source": [
        "def divide(a, b):\n",
        "    return a/b"
      ],
      "execution_count": 0,
      "outputs": []
    },
    {
      "cell_type": "markdown",
      "metadata": {
        "id": "RDxEp05Q_ElV",
        "colab_type": "text"
      },
      "source": [
        "This function has two parameters, a and b. We know, it will give error if we pass in b as 0.\n"
      ]
    },
    {
      "cell_type": "code",
      "metadata": {
        "id": "4QDzLbVF_DL4",
        "colab_type": "code",
        "colab": {
          "base_uri": "https://localhost:8080/",
          "height": 34
        },
        "outputId": "383d77e6-3999-4b25-80a7-6e81d50982ab"
      },
      "source": [
        "divide(2,5)"
      ],
      "execution_count": 19,
      "outputs": [
        {
          "output_type": "execute_result",
          "data": {
            "text/plain": [
              "0.4"
            ]
          },
          "metadata": {
            "tags": []
          },
          "execution_count": 19
        }
      ]
    },
    {
      "cell_type": "code",
      "metadata": {
        "id": "sUsl-IS__HRh",
        "colab_type": "code",
        "colab": {
          "base_uri": "https://localhost:8080/",
          "height": 238
        },
        "outputId": "315de5c1-a2b5-41ff-9742-277fb6184e17"
      },
      "source": [
        "divide(2,0)"
      ],
      "execution_count": 20,
      "outputs": [
        {
          "output_type": "error",
          "ename": "ZeroDivisionError",
          "evalue": "ignored",
          "traceback": [
            "\u001b[0;31m---------------------------------------------------------------------------\u001b[0m",
            "\u001b[0;31mZeroDivisionError\u001b[0m                         Traceback (most recent call last)",
            "\u001b[0;32m<ipython-input-20-030e2eec799d>\u001b[0m in \u001b[0;36m<module>\u001b[0;34m()\u001b[0m\n\u001b[0;32m----> 1\u001b[0;31m \u001b[0mdivide\u001b[0m\u001b[0;34m(\u001b[0m\u001b[0;36m2\u001b[0m\u001b[0;34m,\u001b[0m\u001b[0;36m0\u001b[0m\u001b[0;34m)\u001b[0m\u001b[0;34m\u001b[0m\u001b[0;34m\u001b[0m\u001b[0m\n\u001b[0m",
            "\u001b[0;32m<ipython-input-18-7507bdc665d5>\u001b[0m in \u001b[0;36mdivide\u001b[0;34m(a, b)\u001b[0m\n\u001b[1;32m      1\u001b[0m \u001b[0;32mdef\u001b[0m \u001b[0mdivide\u001b[0m\u001b[0;34m(\u001b[0m\u001b[0ma\u001b[0m\u001b[0;34m,\u001b[0m \u001b[0mb\u001b[0m\u001b[0;34m)\u001b[0m\u001b[0;34m:\u001b[0m\u001b[0;34m\u001b[0m\u001b[0;34m\u001b[0m\u001b[0m\n\u001b[0;32m----> 2\u001b[0;31m     \u001b[0;32mreturn\u001b[0m \u001b[0ma\u001b[0m\u001b[0;34m/\u001b[0m\u001b[0mb\u001b[0m\u001b[0;34m\u001b[0m\u001b[0;34m\u001b[0m\u001b[0m\n\u001b[0m",
            "\u001b[0;31mZeroDivisionError\u001b[0m: division by zero"
          ]
        }
      ]
    },
    {
      "cell_type": "markdown",
      "metadata": {
        "id": "0iHWFfwR_JXn",
        "colab_type": "text"
      },
      "source": [
        "Now let's make a decorator to check for this case that will cause the error."
      ]
    },
    {
      "cell_type": "code",
      "metadata": {
        "id": "j1VNOFpe_IUY",
        "colab_type": "code",
        "colab": {}
      },
      "source": [
        "def smart_divide(func):\n",
        "   def inner(a,b):\n",
        "      print(\"I am going to divide\",a,\"and\",b)\n",
        "      if b == 0:\n",
        "         print(\"Whoops! cannot divide\")\n",
        "         return\n",
        "\n",
        "      return func(a,b)\n",
        "   return inner\n",
        "\n",
        "@smart_divide\n",
        "def divide(a,b):\n",
        "    return a/b"
      ],
      "execution_count": 0,
      "outputs": []
    },
    {
      "cell_type": "code",
      "metadata": {
        "id": "FJaexz4p_T2h",
        "colab_type": "code",
        "colab": {
          "base_uri": "https://localhost:8080/",
          "height": 52
        },
        "outputId": "d94dd75c-be2c-4298-e82f-7e1a7c32c190"
      },
      "source": [
        "divide(2,5)"
      ],
      "execution_count": 22,
      "outputs": [
        {
          "output_type": "stream",
          "text": [
            "I am going to divide 2 and 5\n"
          ],
          "name": "stdout"
        },
        {
          "output_type": "execute_result",
          "data": {
            "text/plain": [
              "0.4"
            ]
          },
          "metadata": {
            "tags": []
          },
          "execution_count": 22
        }
      ]
    },
    {
      "cell_type": "code",
      "metadata": {
        "id": "KsIyH2R8_VHo",
        "colab_type": "code",
        "colab": {
          "base_uri": "https://localhost:8080/",
          "height": 52
        },
        "outputId": "aed70a44-f72a-4eeb-cb7e-1beab26c8ba7"
      },
      "source": [
        "divide(2,0)"
      ],
      "execution_count": 23,
      "outputs": [
        {
          "output_type": "stream",
          "text": [
            "I am going to divide 2 and 0\n",
            "Whoops! cannot divide\n"
          ],
          "name": "stdout"
        }
      ]
    },
    {
      "cell_type": "markdown",
      "metadata": {
        "id": "SwVBGNts_g2i",
        "colab_type": "text"
      },
      "source": [
        "In this manner we can decorate functions that take parameters.\n",
        "\n",
        "**A keen observer will notice that parameters of the nested inner() function inside the decorator is same as the parameters of functions it decorates. Taking this into account**, now we can make general decorators that work with any number of parameter.\n",
        "\n",
        "In Python, this magic is done as function(*args, **kwargs). In this way, args will be the tuple of positional arguments and kwargs will be the dictionary of keyword arguments. An example of such decorator will be."
      ]
    },
    {
      "cell_type": "code",
      "metadata": {
        "id": "Ln_pidMx_WfA",
        "colab_type": "code",
        "colab": {}
      },
      "source": [
        "def works_for_all(func):\n",
        "    def inner(*args, **kwargs):\n",
        "        print(\"I can decorate any function\")\n",
        "        return func(*args, **kwargs)\n",
        "    return inner"
      ],
      "execution_count": 0,
      "outputs": []
    },
    {
      "cell_type": "markdown",
      "metadata": {
        "id": "OSc4Cdw4_5t4",
        "colab_type": "text"
      },
      "source": [
        "**Chaining Decorators in Python**\n",
        "\n",
        "Multiple decorators can be chained in Python.\n",
        "\n",
        "This is to say, a function can be decorated multiple times with different (or same) decorators. We simply place the decorators above the desired function."
      ]
    },
    {
      "cell_type": "code",
      "metadata": {
        "id": "dDBJcngt_xb8",
        "colab_type": "code",
        "colab": {
          "base_uri": "https://localhost:8080/",
          "height": 105
        },
        "outputId": "ac79a955-e4bb-46e6-f6b3-4a3f81cc87a1"
      },
      "source": [
        "def star(func):\n",
        "    def inner(*args, **kwargs):\n",
        "        print(\"*\" * 30)\n",
        "        func(*args, **kwargs)\n",
        "        print(\"*\" * 30)\n",
        "    return inner\n",
        "\n",
        "def percent(func):\n",
        "    def inner(*args, **kwargs):\n",
        "        print(\"%\" * 30)\n",
        "        func(*args, **kwargs)\n",
        "        print(\"%\" * 30)\n",
        "    return inner\n",
        "\n",
        "@star\n",
        "@percent\n",
        "def printer(msg):\n",
        "    print(msg)\n",
        "printer(\"Hello\")"
      ],
      "execution_count": 25,
      "outputs": [
        {
          "output_type": "stream",
          "text": [
            "******************************\n",
            "%%%%%%%%%%%%%%%%%%%%%%%%%%%%%%\n",
            "Hello\n",
            "%%%%%%%%%%%%%%%%%%%%%%%%%%%%%%\n",
            "******************************\n"
          ],
          "name": "stdout"
        }
      ]
    },
    {
      "cell_type": "markdown",
      "metadata": {
        "id": "yY7rEEmIAPF-",
        "colab_type": "text"
      },
      "source": [
        "The above syntax of,"
      ]
    },
    {
      "cell_type": "code",
      "metadata": {
        "id": "R9dXFhGSAE9J",
        "colab_type": "code",
        "colab": {
          "base_uri": "https://localhost:8080/",
          "height": 105
        },
        "outputId": "6f5bee79-ab74-499b-b86e-6dc4cc0a9964"
      },
      "source": [
        "@star\n",
        "@percent\n",
        "def printer(msg):\n",
        "    print(msg)\n",
        "printer('Hi')"
      ],
      "execution_count": 29,
      "outputs": [
        {
          "output_type": "stream",
          "text": [
            "******************************\n",
            "%%%%%%%%%%%%%%%%%%%%%%%%%%%%%%\n",
            "Hi\n",
            "%%%%%%%%%%%%%%%%%%%%%%%%%%%%%%\n",
            "******************************\n"
          ],
          "name": "stdout"
        }
      ]
    },
    {
      "cell_type": "markdown",
      "metadata": {
        "id": "4OfTNhy1Aba5",
        "colab_type": "text"
      },
      "source": [
        "is equivalent to"
      ]
    },
    {
      "cell_type": "code",
      "metadata": {
        "id": "LaehpYVSAZhr",
        "colab_type": "code",
        "colab": {
          "base_uri": "https://localhost:8080/",
          "height": 105
        },
        "outputId": "5589e2aa-5dd3-46f6-d0e8-a6a3b4ec571a"
      },
      "source": [
        "def printer(msg):\n",
        "    print(msg)\n",
        "printer = star(percent(printer))\n",
        "printer('Hi')"
      ],
      "execution_count": 28,
      "outputs": [
        {
          "output_type": "stream",
          "text": [
            "******************************\n",
            "%%%%%%%%%%%%%%%%%%%%%%%%%%%%%%\n",
            "Hi\n",
            "%%%%%%%%%%%%%%%%%%%%%%%%%%%%%%\n",
            "******************************\n"
          ],
          "name": "stdout"
        }
      ]
    },
    {
      "cell_type": "code",
      "metadata": {
        "id": "bdlN95tPAeLK",
        "colab_type": "code",
        "colab": {}
      },
      "source": [
        ""
      ],
      "execution_count": 0,
      "outputs": []
    }
  ]
}