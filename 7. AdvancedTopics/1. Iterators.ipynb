{
  "nbformat": 4,
  "nbformat_minor": 0,
  "metadata": {
    "colab": {
      "name": "Untitled45.ipynb",
      "provenance": [],
      "include_colab_link": true
    },
    "kernelspec": {
      "name": "python3",
      "display_name": "Python 3"
    }
  },
  "cells": [
    {
      "cell_type": "markdown",
      "metadata": {
        "id": "view-in-github",
        "colab_type": "text"
      },
      "source": [
        "<a href=\"https://colab.research.google.com/github/sumithdcosta/Python/blob/master/7.%20AdvancedTopics/1.%20Iterators.ipynb\" target=\"_parent\"><img src=\"https://colab.research.google.com/assets/colab-badge.svg\" alt=\"Open In Colab\"/></a>"
      ]
    },
    {
      "cell_type": "markdown",
      "metadata": {
        "id": "yJFZkI6cmUZ6",
        "colab_type": "text"
      },
      "source": [
        "7. AdvancedTopics/1. Iterators.ipynb"
      ]
    },
    {
      "cell_type": "markdown",
      "metadata": {
        "id": "gYi6CvUpq-Qi",
        "colab_type": "text"
      },
      "source": [
        "**Python Iterators**\n",
        "\n",
        "Iterators are objects that can be iterated upon. In this tutorial, you will learn how iterator works and how you can build your own iterator using **\\_\\_iter__** and **\\_\\_next__** methods.\n",
        "\n",
        "**What are iterators in Python?**\n",
        "\n",
        "Iterators are everywhere in Python. They are elegantly implemented within for loops, comprehensions, generators etc. but hidden in plain sight.\n",
        "\n",
        "Iterator in Python is simply an object that can be iterated upon. An object which will return data, one element at a time.\n",
        "\n",
        "Technically speaking, Python iterator object must implement two special methods, **\\_\\_iter__()** and **\\_\\_next__()**, collectively called the iterator protocol.\n",
        "\n",
        "An object is called iterable if we can get an iterator from it. Most of built-in containers in Python like: list, tuple, string etc. are iterables.\n",
        "\n",
        "The iter() function (which in turn calls the **\\_\\_iter__()** method) returns an iterator from them."
      ]
    },
    {
      "cell_type": "markdown",
      "metadata": {
        "id": "eD6bqc1ts_o5",
        "colab_type": "text"
      },
      "source": [
        "**Iterating Through an Iterator in Python**\n",
        "\n",
        "We use the next() function to manually iterate through all the items of an iterator. When we reach the end and there is no more data to be returned, it will raise **StopIteration**. Following is an example."
      ]
    },
    {
      "cell_type": "code",
      "metadata": {
        "id": "-888CEoKl1t6",
        "colab_type": "code",
        "outputId": "f95bc6b4-2d19-4175-f5a7-0663f5d3f8f6",
        "colab": {
          "base_uri": "https://localhost:8080/",
          "height": 274
        }
      },
      "source": [
        "# define a list\n",
        "my_list = [4, 7, 0, 3]\n",
        "\n",
        "# get an iterator using iter()\n",
        "my_iter = iter(my_list)\n",
        "\n",
        "## iterate through it using next() \n",
        "\n",
        "#prints 4\n",
        "print(next(my_iter))\n",
        "\n",
        "#prints 7\n",
        "print(next(my_iter))\n",
        "\n",
        "## next(obj) is same as obj.__next__()\n",
        "\n",
        "#prints 0\n",
        "print(my_iter.__next__())\n",
        "\n",
        "#prints 3\n",
        "print(my_iter.__next__())\n",
        "\n",
        "## This will raise error, no items left\n",
        "next(my_iter)\n"
      ],
      "execution_count": 0,
      "outputs": [
        {
          "output_type": "stream",
          "text": [
            "4\n",
            "7\n",
            "0\n",
            "3\n"
          ],
          "name": "stdout"
        },
        {
          "output_type": "error",
          "ename": "StopIteration",
          "evalue": "ignored",
          "traceback": [
            "\u001b[0;31m---------------------------------------------------------------------------\u001b[0m",
            "\u001b[0;31mStopIteration\u001b[0m                             Traceback (most recent call last)",
            "\u001b[0;32m<ipython-input-1-dc0a195d70ee>\u001b[0m in \u001b[0;36m<module>\u001b[0;34m()\u001b[0m\n\u001b[1;32m     21\u001b[0m \u001b[0;34m\u001b[0m\u001b[0m\n\u001b[1;32m     22\u001b[0m \u001b[0;31m## This will raise error, no items left\u001b[0m\u001b[0;34m\u001b[0m\u001b[0;34m\u001b[0m\u001b[0;34m\u001b[0m\u001b[0m\n\u001b[0;32m---> 23\u001b[0;31m \u001b[0mnext\u001b[0m\u001b[0;34m(\u001b[0m\u001b[0mmy_iter\u001b[0m\u001b[0;34m)\u001b[0m\u001b[0;34m\u001b[0m\u001b[0;34m\u001b[0m\u001b[0m\n\u001b[0m",
            "\u001b[0;31mStopIteration\u001b[0m: "
          ]
        }
      ]
    },
    {
      "cell_type": "markdown",
      "metadata": {
        "id": "6eY9FvCptP2X",
        "colab_type": "text"
      },
      "source": [
        "A more elegant way of automatically iterating is by using the for loop. Using this, we can iterate over any object that can return an iterator, for example list, string, file etc."
      ]
    },
    {
      "cell_type": "code",
      "metadata": {
        "id": "iieDwV44tNeC",
        "colab_type": "code",
        "outputId": "81a22997-96d7-43d0-b233-fd515288c519",
        "colab": {
          "base_uri": "https://localhost:8080/",
          "height": 85
        }
      },
      "source": [
        "for element in my_list:\n",
        "  print(element)"
      ],
      "execution_count": 0,
      "outputs": [
        {
          "output_type": "stream",
          "text": [
            "4\n",
            "7\n",
            "0\n",
            "3\n"
          ],
          "name": "stdout"
        }
      ]
    },
    {
      "cell_type": "markdown",
      "metadata": {
        "id": "28MKykGgtbXh",
        "colab_type": "text"
      },
      "source": [
        "**How for loop actually works?**\n",
        "\n",
        "As we see in the above example, the for loop was able to iterate automatically through the list.\n",
        "\n",
        "In fact the for loop can iterate over any iterable. Let's take a closer look at how the for loop is actually implemented in Python.\n",
        "```\n",
        "for element in iterable:\n",
        "    # do something with element\n",
        "```\n",
        "Is actually implemented as.\n",
        "\n",
        "\n",
        "```\n",
        "# create an iterator object from that iterable\n",
        "iter_obj = iter(iterable)\n",
        "\n",
        "# infinite loop\n",
        "while True:\n",
        "    try:\n",
        "        # get the next item\n",
        "        element = next(iter_obj)\n",
        "        # do something with element\n",
        "    except StopIteration:\n",
        "        # if StopIteration is raised, break from loop\n",
        "        break\n",
        "```\n",
        "\n",
        "So internally, the for loop creates an iterator object, **iter_obj** by calling **iter**() on the iterable.\n",
        "\n",
        "Ironically, this **for** loop is actually an infinite while loop.\n",
        "\n",
        "Inside the loop, it calls **next**() to get the next element and executes the body of the **for** loop with this value. After all the items exhaust, **StopIteration** is raised which is internally caught and the loop ends. Note that any other kind of exception will pass through.\n"
      ]
    },
    {
      "cell_type": "markdown",
      "metadata": {
        "id": "SlTyvO20t8RU",
        "colab_type": "text"
      },
      "source": [
        "**Building Your Own Iterator in Python**\n",
        "\n",
        "Building an iterator from scratch is easy in Python. We just have to implement the methods **\\_\\_iter__()** and **\\_\\_next__()**.\n",
        "\n",
        "The **\\_\\_iter__()** method returns the iterator object itself. If required, some initialization can be performed.\n",
        "\n",
        "The **\\_\\_next__()** method must return the next item in the sequence. On reaching the end, and in subsequent calls, it must raise **StopIteration**.\n",
        "\n",
        "Here, we show an example that will give us next power of 2 in each iteration. Power exponent starts from zero up to a user set number."
      ]
    },
    {
      "cell_type": "code",
      "metadata": {
        "id": "lLmHgiiEtVxi",
        "colab_type": "code",
        "colab": {}
      },
      "source": [
        "class PowTwo:\n",
        "    \"\"\"Class to implement an iterator\n",
        "    of powers of two\"\"\"\n",
        "\n",
        "    def __init__(self, max = 0):\n",
        "        self.max = max\n",
        "\n",
        "    def __iter__(self):\n",
        "        self.n = 0\n",
        "        return self\n",
        "\n",
        "    def __next__(self):\n",
        "        if self.n <= self.max:\n",
        "            result = 2 ** self.n\n",
        "            self.n += 1\n",
        "            return result\n",
        "        else:\n",
        "            raise StopIteration"
      ],
      "execution_count": 0,
      "outputs": []
    },
    {
      "cell_type": "code",
      "metadata": {
        "id": "8awqqCnguoUf",
        "colab_type": "code",
        "outputId": "ef68f202-d4c3-4dd8-cac0-d2bc90e70551",
        "colab": {
          "base_uri": "https://localhost:8080/",
          "height": 34
        }
      },
      "source": [
        "#Now we can create an iterator and iterate through it as follows.\n",
        "a = PowTwo(2)\n",
        "i = iter(a)\n",
        "next(i)"
      ],
      "execution_count": 0,
      "outputs": [
        {
          "output_type": "execute_result",
          "data": {
            "text/plain": [
              "1"
            ]
          },
          "metadata": {
            "tags": []
          },
          "execution_count": 13
        }
      ]
    },
    {
      "cell_type": "code",
      "metadata": {
        "id": "najpFxEVuzT1",
        "colab_type": "code",
        "outputId": "33d10045-de2a-4334-8c94-5d39d2d1d590",
        "colab": {
          "base_uri": "https://localhost:8080/",
          "height": 34
        }
      },
      "source": [
        "next(i)"
      ],
      "execution_count": 0,
      "outputs": [
        {
          "output_type": "execute_result",
          "data": {
            "text/plain": [
              "2"
            ]
          },
          "metadata": {
            "tags": []
          },
          "execution_count": 14
        }
      ]
    },
    {
      "cell_type": "code",
      "metadata": {
        "id": "ORorUXMLu2SV",
        "colab_type": "code",
        "outputId": "af0d4b41-b194-4c12-9fe6-ab8c19aa73d6",
        "colab": {
          "base_uri": "https://localhost:8080/",
          "height": 34
        }
      },
      "source": [
        "next(i)"
      ],
      "execution_count": 0,
      "outputs": [
        {
          "output_type": "execute_result",
          "data": {
            "text/plain": [
              "4"
            ]
          },
          "metadata": {
            "tags": []
          },
          "execution_count": 15
        }
      ]
    },
    {
      "cell_type": "code",
      "metadata": {
        "id": "FNjLp_Mju27l",
        "colab_type": "code",
        "outputId": "6612de6a-9e52-4e2b-c5c0-0765fb6ede3a",
        "colab": {
          "base_uri": "https://localhost:8080/",
          "height": 248
        }
      },
      "source": [
        "next(i)"
      ],
      "execution_count": 0,
      "outputs": [
        {
          "output_type": "error",
          "ename": "StopIteration",
          "evalue": "ignored",
          "traceback": [
            "\u001b[0;31m---------------------------------------------------------------------------\u001b[0m",
            "\u001b[0;31mStopIteration\u001b[0m                             Traceback (most recent call last)",
            "\u001b[0;32m<ipython-input-16-a883b34d6d8a>\u001b[0m in \u001b[0;36m<module>\u001b[0;34m()\u001b[0m\n\u001b[0;32m----> 1\u001b[0;31m \u001b[0mnext\u001b[0m\u001b[0;34m(\u001b[0m\u001b[0mi\u001b[0m\u001b[0;34m)\u001b[0m\u001b[0;34m\u001b[0m\u001b[0;34m\u001b[0m\u001b[0m\n\u001b[0m",
            "\u001b[0;32m<ipython-input-3-9ee5a30174e7>\u001b[0m in \u001b[0;36m__next__\u001b[0;34m(self)\u001b[0m\n\u001b[1;32m     16\u001b[0m             \u001b[0;32mreturn\u001b[0m \u001b[0mresult\u001b[0m\u001b[0;34m\u001b[0m\u001b[0;34m\u001b[0m\u001b[0m\n\u001b[1;32m     17\u001b[0m         \u001b[0;32melse\u001b[0m\u001b[0;34m:\u001b[0m\u001b[0;34m\u001b[0m\u001b[0;34m\u001b[0m\u001b[0m\n\u001b[0;32m---> 18\u001b[0;31m             \u001b[0;32mraise\u001b[0m \u001b[0mStopIteration\u001b[0m\u001b[0;34m\u001b[0m\u001b[0;34m\u001b[0m\u001b[0m\n\u001b[0m",
            "\u001b[0;31mStopIteration\u001b[0m: "
          ]
        }
      ]
    },
    {
      "cell_type": "code",
      "metadata": {
        "id": "TqVXFWtku57u",
        "colab_type": "code",
        "outputId": "4d2e7ca0-55e9-41c7-f841-2064638f4dfa",
        "colab": {
          "base_uri": "https://localhost:8080/",
          "height": 68
        }
      },
      "source": [
        "#We can also use a for loop to iterate over our iterator class.\n",
        "for i in PowTwo(2):\n",
        "  print(i)"
      ],
      "execution_count": 0,
      "outputs": [
        {
          "output_type": "stream",
          "text": [
            "1\n",
            "2\n",
            "4\n"
          ],
          "name": "stdout"
        }
      ]
    },
    {
      "cell_type": "markdown",
      "metadata": {
        "id": "c0xFP_OvvJ4T",
        "colab_type": "text"
      },
      "source": [
        "**Python Infinite Iterators**\n",
        "\n",
        "It is not necessary that the item in an iterator object has to exhaust. There can be infinite iterators (which never ends). We must be careful when handling such iterator.\n",
        "\n",
        "Here is a simple example to demonstrate infinite iterators.\n",
        "\n",
        "The built-in function iter() can be called with two arguments where the first argument must be a callable object (function) and second is the sentinel. The iterator calls this function until the returned value is equal to the sentinel."
      ]
    },
    {
      "cell_type": "code",
      "metadata": {
        "id": "Iju1uvNXvGVW",
        "colab_type": "code",
        "outputId": "81adff0e-436d-42d0-82cb-0b0c612a9b89",
        "colab": {
          "base_uri": "https://localhost:8080/",
          "height": 34
        }
      },
      "source": [
        "int()"
      ],
      "execution_count": 0,
      "outputs": [
        {
          "output_type": "execute_result",
          "data": {
            "text/plain": [
              "0"
            ]
          },
          "metadata": {
            "tags": []
          },
          "execution_count": 19
        }
      ]
    },
    {
      "cell_type": "code",
      "metadata": {
        "id": "cdv51y83vShu",
        "colab_type": "code",
        "outputId": "8bdd5866-6ff5-4b2d-8517-8bf019413a30",
        "colab": {
          "base_uri": "https://localhost:8080/",
          "height": 34
        }
      },
      "source": [
        "inf = iter(int,1)\n",
        "next(inf)"
      ],
      "execution_count": 0,
      "outputs": [
        {
          "output_type": "execute_result",
          "data": {
            "text/plain": [
              "0"
            ]
          },
          "metadata": {
            "tags": []
          },
          "execution_count": 20
        }
      ]
    },
    {
      "cell_type": "code",
      "metadata": {
        "id": "ZC0T3zV4vVq9",
        "colab_type": "code",
        "outputId": "78293fbd-6c1d-4d8b-a5e3-edfa28582a0a",
        "colab": {
          "base_uri": "https://localhost:8080/",
          "height": 34
        }
      },
      "source": [
        "next(inf)"
      ],
      "execution_count": 0,
      "outputs": [
        {
          "output_type": "execute_result",
          "data": {
            "text/plain": [
              "0"
            ]
          },
          "metadata": {
            "tags": []
          },
          "execution_count": 21
        }
      ]
    },
    {
      "cell_type": "markdown",
      "metadata": {
        "id": "iuOuB9kwvdQW",
        "colab_type": "text"
      },
      "source": [
        "We can see that the int() function always returns 0. So passing it as iter(int,1) will return an iterator that calls int() until the returned value equals 1. This never happens and we get an infinite iterator.\n",
        "\n",
        "We can also built our own infinite iterators. The following iterator will, theoretically, return all the odd numbers"
      ]
    },
    {
      "cell_type": "code",
      "metadata": {
        "id": "htSFO-g-v0yr",
        "colab_type": "code",
        "colab": {}
      },
      "source": [
        "class InfIter:\n",
        "    \"\"\"Infinite iterator to return all\n",
        "        odd numbers\"\"\"\n",
        "\n",
        "    def __iter__(self):\n",
        "        self.num = 1\n",
        "        return self\n",
        "\n",
        "    def __next__(self):\n",
        "        num = self.num\n",
        "        self.num += 2\n",
        "        return num"
      ],
      "execution_count": 0,
      "outputs": []
    },
    {
      "cell_type": "code",
      "metadata": {
        "id": "m3mNQjlKv6H_",
        "colab_type": "code",
        "outputId": "28e9c223-a443-404a-bf57-9797ba1ca42e",
        "colab": {
          "base_uri": "https://localhost:8080/",
          "height": 34
        }
      },
      "source": [
        "a = iter(InfIter())\n",
        "next(a)"
      ],
      "execution_count": 0,
      "outputs": [
        {
          "output_type": "execute_result",
          "data": {
            "text/plain": [
              "1"
            ]
          },
          "metadata": {
            "tags": []
          },
          "execution_count": 23
        }
      ]
    },
    {
      "cell_type": "code",
      "metadata": {
        "id": "0Wz37IUTv9n_",
        "colab_type": "code",
        "outputId": "d2f8228c-3c57-4631-929e-de7dc682a9e6",
        "colab": {
          "base_uri": "https://localhost:8080/",
          "height": 34
        }
      },
      "source": [
        "next(a)"
      ],
      "execution_count": 0,
      "outputs": [
        {
          "output_type": "execute_result",
          "data": {
            "text/plain": [
              "3"
            ]
          },
          "metadata": {
            "tags": []
          },
          "execution_count": 24
        }
      ]
    },
    {
      "cell_type": "code",
      "metadata": {
        "id": "Eo5xRYSQv-B3",
        "colab_type": "code",
        "outputId": "421bc132-b328-4aa2-a38c-e2d59ae9b276",
        "colab": {
          "base_uri": "https://localhost:8080/",
          "height": 34
        }
      },
      "source": [
        "next(a)"
      ],
      "execution_count": 0,
      "outputs": [
        {
          "output_type": "execute_result",
          "data": {
            "text/plain": [
              "5"
            ]
          },
          "metadata": {
            "tags": []
          },
          "execution_count": 25
        }
      ]
    },
    {
      "cell_type": "code",
      "metadata": {
        "id": "lVwS7D47v-bf",
        "colab_type": "code",
        "outputId": "a19999c7-977c-43aa-941f-c055db6214b8",
        "colab": {
          "base_uri": "https://localhost:8080/",
          "height": 34
        }
      },
      "source": [
        "next(a)"
      ],
      "execution_count": 0,
      "outputs": [
        {
          "output_type": "execute_result",
          "data": {
            "text/plain": [
              "7"
            ]
          },
          "metadata": {
            "tags": []
          },
          "execution_count": 26
        }
      ]
    },
    {
      "cell_type": "markdown",
      "metadata": {
        "id": "M2d_wso5wCLQ",
        "colab_type": "text"
      },
      "source": [
        "And so on...\n",
        "\n",
        "Be careful to include a terminating condition, when iterating over these type of infinite iterators.\n",
        "\n",
        "The advantage of using iterators is that they save resources. Like shown above, we could get all the odd numbers without storing the entire number system in memory. We can have infinite items (theoretically) in finite memory.\n",
        "\n",
        "Iterator also makes our code look cool.\n",
        "\n",
        "There's an easier way to create iterators in Python. To learn more visit: Python generators using yield.\n"
      ]
    },
    {
      "cell_type": "code",
      "metadata": {
        "id": "5gsP8euov_bX",
        "colab_type": "code",
        "colab": {}
      },
      "source": [
        ""
      ],
      "execution_count": 0,
      "outputs": []
    }
  ]
}