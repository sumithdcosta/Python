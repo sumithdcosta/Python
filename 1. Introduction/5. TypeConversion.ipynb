{
  "nbformat": 4,
  "nbformat_minor": 0,
  "metadata": {
    "colab": {
      "name": "Untitled7.ipynb",
      "provenance": [],
      "include_colab_link": true
    },
    "kernelspec": {
      "name": "python3",
      "display_name": "Python 3"
    }
  },
  "cells": [
    {
      "cell_type": "markdown",
      "metadata": {
        "id": "view-in-github",
        "colab_type": "text"
      },
      "source": [
        "<a href=\"https://colab.research.google.com/github/sumithdcosta/Python/blob/master/1.%20Introduction/5.%20TypeConversion.ipynb\" target=\"_parent\"><img src=\"https://colab.research.google.com/assets/colab-badge.svg\" alt=\"Open In Colab\"/></a>"
      ]
    },
    {
      "cell_type": "markdown",
      "metadata": {
        "id": "94tSnzv-aTZl",
        "colab_type": "text"
      },
      "source": [
        "1. Introduction/5. TypeConversion.ipynb"
      ]
    },
    {
      "cell_type": "markdown",
      "metadata": {
        "id": "zU1xG6aZaeq6",
        "colab_type": "text"
      },
      "source": [
        "**Type Conversion:**\n",
        "\n",
        "The process of converting the value of one data type (integer, string, float, etc.) to another data type is called type conversion. Python has two types of type conversion.\n",
        "\n",
        "1.  Implicit Type Conversion\n",
        "2.  Explicit Type Conversion"
      ]
    },
    {
      "cell_type": "markdown",
      "metadata": {
        "id": "c7q9vG2ral3C",
        "colab_type": "text"
      },
      "source": [
        "**Implicit Type Conversion:**\n",
        "\n",
        "In Implicit type conversion, Python automatically converts one data type to another data type. This process doesn't need any user involvement.\n",
        "\n",
        "Let's see an example where Python promotes conversion of lower datatype (integer) to higher data type (float) to avoid data loss"
      ]
    },
    {
      "cell_type": "markdown",
      "metadata": {
        "id": "JL-QQ-qcarqz",
        "colab_type": "text"
      },
      "source": [
        "**Example 1: Converting integer to float**"
      ]
    },
    {
      "cell_type": "code",
      "metadata": {
        "id": "7TPRB_QFZ9Md",
        "colab_type": "code",
        "colab": {
          "base_uri": "https://localhost:8080/",
          "height": 87
        },
        "outputId": "16df24f7-bdec-4d6e-9ec1-4fa5598dae28"
      },
      "source": [
        "num_int = 123\n",
        "num_flo = 1.23\n",
        "\n",
        "num_new = num_int + num_flo\n",
        "\n",
        "print(\"datatype of num_int:\",type(num_int))\n",
        "print(\"datatype of num_flo:\",type(num_flo))\n",
        "\n",
        "print(\"Value of num_new:\",num_new)\n",
        "print(\"datatype of num_new:\",type(num_new))"
      ],
      "execution_count": 1,
      "outputs": [
        {
          "output_type": "stream",
          "text": [
            "datatype of num_int: <class 'int'>\n",
            "datatype of num_flo: <class 'float'>\n",
            "Value of num_new: 124.23\n",
            "datatype of num_new: <class 'float'>\n"
          ],
          "name": "stdout"
        }
      ]
    },
    {
      "cell_type": "markdown",
      "metadata": {
        "id": "LHtKssKGa0rS",
        "colab_type": "text"
      },
      "source": [
        "In the above program,\n",
        "\n",
        "*  We add two variables **num_int** and **num_flo**, storing the value in **num_new**.\n",
        "*  We will look at the data type of all three objects respectively.\n",
        "*  In the output we can see the datatype of **num_int** is an integer, datatype of **num_flo** is a float.\n",
        "*  Also, we can see the **num_new** has float data type because Python always converts smaller data type to larger data type to avoid the loss of data.\n",
        "\n",
        "Now, let's try adding a string and an integer, and see how Python treats it."
      ]
    },
    {
      "cell_type": "markdown",
      "metadata": {
        "id": "aI7kSPPbbE1e",
        "colab_type": "text"
      },
      "source": [
        "Now, let's try adding a string and an integer, and see how Python treats it.\n",
        "\n",
        "**Example 2: Addition of string(higher) data type and integer(lower) datatype**"
      ]
    },
    {
      "cell_type": "code",
      "metadata": {
        "id": "DTwC7CaVavez",
        "colab_type": "code",
        "colab": {
          "base_uri": "https://localhost:8080/",
          "height": 238
        },
        "outputId": "0caf4bbf-bcb6-4f84-8e85-54a116eec963"
      },
      "source": [
        "num_int = 123\n",
        "num_str = \"456\"\n",
        "\n",
        "print(\"Data type of num_int:\",type(num_int))\n",
        "print(\"Data type of num_str:\",type(num_str))\n",
        "\n",
        "print(num_int+num_str)"
      ],
      "execution_count": 2,
      "outputs": [
        {
          "output_type": "stream",
          "text": [
            "Data type of num_int: <class 'int'>\n",
            "Data type of num_str: <class 'str'>\n"
          ],
          "name": "stdout"
        },
        {
          "output_type": "error",
          "ename": "TypeError",
          "evalue": "ignored",
          "traceback": [
            "\u001b[0;31m---------------------------------------------------------------------------\u001b[0m",
            "\u001b[0;31mTypeError\u001b[0m                                 Traceback (most recent call last)",
            "\u001b[0;32m<ipython-input-2-6e3c0f0ba491>\u001b[0m in \u001b[0;36m<module>\u001b[0;34m()\u001b[0m\n\u001b[1;32m      5\u001b[0m \u001b[0mprint\u001b[0m\u001b[0;34m(\u001b[0m\u001b[0;34m\"Data type of num_str:\"\u001b[0m\u001b[0;34m,\u001b[0m\u001b[0mtype\u001b[0m\u001b[0;34m(\u001b[0m\u001b[0mnum_str\u001b[0m\u001b[0;34m)\u001b[0m\u001b[0;34m)\u001b[0m\u001b[0;34m\u001b[0m\u001b[0;34m\u001b[0m\u001b[0m\n\u001b[1;32m      6\u001b[0m \u001b[0;34m\u001b[0m\u001b[0m\n\u001b[0;32m----> 7\u001b[0;31m \u001b[0mprint\u001b[0m\u001b[0;34m(\u001b[0m\u001b[0mnum_int\u001b[0m\u001b[0;34m+\u001b[0m\u001b[0mnum_str\u001b[0m\u001b[0;34m)\u001b[0m\u001b[0;34m\u001b[0m\u001b[0;34m\u001b[0m\u001b[0m\n\u001b[0m",
            "\u001b[0;31mTypeError\u001b[0m: unsupported operand type(s) for +: 'int' and 'str'"
          ]
        }
      ]
    },
    {
      "cell_type": "markdown",
      "metadata": {
        "id": "IzdQ_SD-bPRt",
        "colab_type": "text"
      },
      "source": [
        "In the above program,\n",
        "\n",
        "We add two variable **num_int** and **num_str**.\n",
        "As we can see from the output, we got **typeerror**. Python is not able use Implicit Conversion in such condition.\n",
        "However Python has the solution for this type of situation which is know as **Explicit Conversion**.\n"
      ]
    },
    {
      "cell_type": "markdown",
      "metadata": {
        "id": "NUJRULXvbasj",
        "colab_type": "text"
      },
      "source": [
        "**Explicit Type Conversion:**\n",
        "\n",
        "In Explicit Type Conversion, users convert the data type of an object to required data type. We use the predefined functions like **int(), float(), str(),** etc to perform explicit type conversion.\n",
        "\n",
        "This type conversion is also called **typecasting** because the user casts (change) the data type of the objects.\n",
        "\n",
        "Syntax :\n",
        "\n",
        "**(required_datatype)(expression)**\n",
        "\n",
        "Typecasting can be done by assigning the required data type function to the expression."
      ]
    },
    {
      "cell_type": "markdown",
      "metadata": {
        "id": "H9fhosbGbrSV",
        "colab_type": "text"
      },
      "source": [
        "**Example 3: Addition of string and integer using explicit conversion**"
      ]
    },
    {
      "cell_type": "code",
      "metadata": {
        "id": "NDpeFsGKbMRR",
        "colab_type": "code",
        "colab": {
          "base_uri": "https://localhost:8080/",
          "height": 105
        },
        "outputId": "b843f224-c572-4137-e7a3-0df1fb305a7d"
      },
      "source": [
        "num_int = 123\n",
        "num_str = \"456\"\n",
        "\n",
        "print(\"Data type of num_int:\",type(num_int))\n",
        "print(\"Data type of num_str before Type Casting:\",type(num_str))\n",
        "\n",
        "num_str = int(num_str)\n",
        "print(\"Data type of num_str after Type Casting:\",type(num_str))\n",
        "\n",
        "num_sum = num_int + num_str\n",
        "\n",
        "print(\"Sum of num_int and num_str:\",num_sum)\n",
        "print(\"Data type of the sum:\",type(num_sum))"
      ],
      "execution_count": 3,
      "outputs": [
        {
          "output_type": "stream",
          "text": [
            "Data type of num_int: <class 'int'>\n",
            "Data type of num_str before Type Casting: <class 'str'>\n",
            "Data type of num_str after Type Casting: <class 'int'>\n",
            "Sum of num_int and num_str: 579\n",
            "Data type of the sum: <class 'int'>\n"
          ],
          "name": "stdout"
        }
      ]
    },
    {
      "cell_type": "markdown",
      "metadata": {
        "id": "8p02NxHHb7zD",
        "colab_type": "text"
      },
      "source": [
        "In above program,\n",
        "\n",
        "*  We add **num_str** and **num_int** variable.\n",
        "*  We converted **num_str** from string(higher) to integer(lower) type using **int**() function to perform the addition.\n",
        "*  After converting **num_str** to a integer value Python is able to add these two variable.\n",
        "*  We got the **num_sum** value and data type to be integer."
      ]
    },
    {
      "cell_type": "markdown",
      "metadata": {
        "id": "R4SDo1ancHg4",
        "colab_type": "text"
      },
      "source": [
        "**Key Points to Remember:**\n",
        "\n",
        "*  Type Conversion is the conversion of object from one data type to another data type.\n",
        "*  Implicit Type Conversion is automatically performed by the Python interpreter.\n",
        "*  Python avoids the loss of data in Implicit Type Conversion.\n",
        "*  Explicit Type Conversion is also called Type Casting, the data types of object are converted using predefined function by user.\n",
        "*  In Type Casting loss of data may occur as we enforce the object to specific data type."
      ]
    },
    {
      "cell_type": "code",
      "metadata": {
        "id": "FStnrQ2tbvO2",
        "colab_type": "code",
        "colab": {}
      },
      "source": [
        ""
      ],
      "execution_count": 0,
      "outputs": []
    }
  ]
}