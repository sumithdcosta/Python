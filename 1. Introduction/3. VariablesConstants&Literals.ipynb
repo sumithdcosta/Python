{
  "nbformat": 4,
  "nbformat_minor": 0,
  "metadata": {
    "colab": {
      "name": "Untitled5.ipynb",
      "provenance": [],
      "include_colab_link": true
    },
    "kernelspec": {
      "name": "python3",
      "display_name": "Python 3"
    }
  },
  "cells": [
    {
      "cell_type": "markdown",
      "metadata": {
        "id": "view-in-github",
        "colab_type": "text"
      },
      "source": [
        "<a href=\"https://colab.research.google.com/github/sumithdcosta/Python/blob/master/1.%20Introduction/3.%20VariablesConstants%26Literals.ipynb\" target=\"_parent\"><img src=\"https://colab.research.google.com/assets/colab-badge.svg\" alt=\"Open In Colab\"/></a>"
      ]
    },
    {
      "cell_type": "markdown",
      "metadata": {
        "id": "C8n3GgPMI4pK",
        "colab_type": "text"
      },
      "source": [
        "1. Introduction/2. VariablesConstants&Literals.ipynb"
      ]
    },
    {
      "cell_type": "markdown",
      "metadata": {
        "id": "JTIi7kBwJJjn",
        "colab_type": "text"
      },
      "source": [
        "**Variable**\n",
        "\n",
        "In most of the programming languages a variable is a named location used to store data in the memory. Each variable must have a unique name called **identifier**. It is helpful to think of variables as container that hold data which can be changed later throughout programming.\n",
        "\n",
        "Non technically, you can suppose variable as a bag to store books in it and those books can be replaced at anytime.\n",
        "\n",
        "Note: In Python we don't assign values to the variables, whereas Python gives the reference of the object (value) to the variable.\n",
        "\n",
        "**Declaring Variables in Python**\n",
        "\n",
        "In Python, variables do not need declaration to reserve memory space. The \"variable declaration\" or \"variable initialization\" happens automatically when we assign a value to a variable.\n",
        "\n",
        "**Assigning value to a Variable in Python**\n",
        "\n",
        "You can use the assignment operator = to assign the value to a variable."
      ]
    },
    {
      "cell_type": "markdown",
      "metadata": {
        "id": "UJZA78-rJ4Yn",
        "colab_type": "text"
      },
      "source": [
        "**Example 1: Declaring and assigning a value to a variable**"
      ]
    },
    {
      "cell_type": "code",
      "metadata": {
        "id": "-QUNFjhhI2_z",
        "colab_type": "code",
        "colab": {
          "base_uri": "https://localhost:8080/",
          "height": 34
        },
        "outputId": "aedbfe55-4e2f-4efe-c2d5-78c059cecb83"
      },
      "source": [
        "website = \"Apple.com\"\n",
        "\n",
        "print(website)"
      ],
      "execution_count": 1,
      "outputs": [
        {
          "output_type": "stream",
          "text": [
            "Apple.com\n"
          ],
          "name": "stdout"
        }
      ]
    },
    {
      "cell_type": "markdown",
      "metadata": {
        "id": "Ldyfu6Y5KATg",
        "colab_type": "text"
      },
      "source": [
        "When you run the program, the output will be:\n",
        "\n",
        "\n",
        "\n",
        "```\n",
        "Apple.com\n",
        "```\n",
        "\n"
      ]
    },
    {
      "cell_type": "markdown",
      "metadata": {
        "id": "HjHQuTBlKJRm",
        "colab_type": "text"
      },
      "source": [
        "In the above program, we assigned a value **Apple.com** to the variable **website**. Then we print the value assigned to **website** i.e **Apple.com**.\n",
        "\n",
        "Note : Python is a type inferred language, it can automatically infer (know) **Apple.com** is a **String** and declare **website** as a **String**."
      ]
    },
    {
      "cell_type": "markdown",
      "metadata": {
        "id": "jtN5l-_5KYw-",
        "colab_type": "text"
      },
      "source": [
        "**Example 2 : Changing value of a variable**"
      ]
    },
    {
      "cell_type": "code",
      "metadata": {
        "id": "FAnJ5pQVJ9zI",
        "colab_type": "code",
        "colab": {
          "base_uri": "https://localhost:8080/",
          "height": 34
        },
        "outputId": "b877ce17-1f24-40c8-ab7e-63e3e0d6c7ab"
      },
      "source": [
        "website = \"Apple.com\"\n",
        "\n",
        "# assigning a new variable to website\n",
        "website = \"Programiz.com\"\n",
        "\n",
        "print(website)"
      ],
      "execution_count": 2,
      "outputs": [
        {
          "output_type": "stream",
          "text": [
            "Programiz.com\n"
          ],
          "name": "stdout"
        }
      ]
    },
    {
      "cell_type": "markdown",
      "metadata": {
        "id": "LhCB059wKfh1",
        "colab_type": "text"
      },
      "source": [
        "In the above program, we assigned new value **Programiz.com** to **website**. Now, the new value **Programiz.com** will replace the old value **Apple.com**. For the confirmation, we print website and it will display new value **Programiz.com**."
      ]
    },
    {
      "cell_type": "markdown",
      "metadata": {
        "id": "NoYwVDBmKrY4",
        "colab_type": "text"
      },
      "source": [
        "**Example 3: Assigning multiple values to multiple variables**"
      ]
    },
    {
      "cell_type": "code",
      "metadata": {
        "id": "Thv46dCXKdJA",
        "colab_type": "code",
        "colab": {
          "base_uri": "https://localhost:8080/",
          "height": 70
        },
        "outputId": "34fc12aa-537b-4e2a-8d71-e4307f2a46c9"
      },
      "source": [
        "a, b, c = 5, 3.2, \"Hello\"\n",
        "\n",
        "print (a)\n",
        "print (b)\n",
        "print (c)"
      ],
      "execution_count": 3,
      "outputs": [
        {
          "output_type": "stream",
          "text": [
            "5\n",
            "3.2\n",
            "Hello\n"
          ],
          "name": "stdout"
        }
      ]
    },
    {
      "cell_type": "code",
      "metadata": {
        "id": "eWncRU9GKxcW",
        "colab_type": "code",
        "colab": {}
      },
      "source": [
        "If we want to assign the same value to multiple variables at once, we can do this as"
      ],
      "execution_count": 0,
      "outputs": []
    },
    {
      "cell_type": "code",
      "metadata": {
        "id": "bnClZ5YcK3aA",
        "colab_type": "code",
        "colab": {
          "base_uri": "https://localhost:8080/",
          "height": 70
        },
        "outputId": "a8d7f95c-eaae-4fd1-b11e-d645aac1b3ce"
      },
      "source": [
        "x = y = z = \"same\"\n",
        "\n",
        "print (x)\n",
        "print (y)\n",
        "print (z)"
      ],
      "execution_count": 4,
      "outputs": [
        {
          "output_type": "stream",
          "text": [
            "same\n",
            "same\n",
            "same\n"
          ],
          "name": "stdout"
        }
      ]
    },
    {
      "cell_type": "markdown",
      "metadata": {
        "id": "tSszi7bEK5WG",
        "colab_type": "text"
      },
      "source": [
        "The second program assigns the same string to all the three variables x, y and z."
      ]
    },
    {
      "cell_type": "markdown",
      "metadata": {
        "id": "D4QTSUIkK-qz",
        "colab_type": "text"
      },
      "source": [
        "**Constants**\n",
        "\n",
        "A constant is a type of variable whose value cannot be changed. It is helpful to think of constants as containers that hold information which cannot be changed later.\n",
        "\n",
        "Non technically, you can think of constant as a bag to store some books and those books cannot be replaced once placed inside the bag."
      ]
    },
    {
      "cell_type": "markdown",
      "metadata": {
        "id": "Zrbp8gp9LHGt",
        "colab_type": "text"
      },
      "source": [
        "**Example 3: Declaring and assigning value to a constant**\n",
        "\n",
        "Create a constant.py"
      ]
    },
    {
      "cell_type": "code",
      "metadata": {
        "id": "e8dU6oN3K3-M",
        "colab_type": "code",
        "colab": {
          "base_uri": "https://localhost:8080/",
          "height": 34
        },
        "outputId": "367d6e23-06c8-441e-f8c7-5a5d9853161c"
      },
      "source": [
        "writefile = \"\"\"\n",
        "PI = 3.14\n",
        "GRAVITY = 9.8\n",
        "\"\"\"\n",
        "%store writefile >  \"/content/constant.py\""
      ],
      "execution_count": 11,
      "outputs": [
        {
          "output_type": "stream",
          "text": [
            "Writing 'writefile' (str) to file '/content/constant.py'.\n"
          ],
          "name": "stdout"
        }
      ]
    },
    {
      "cell_type": "code",
      "metadata": {
        "id": "3unmZcduMC-9",
        "colab_type": "code",
        "colab": {}
      },
      "source": [
        "!cd /content"
      ],
      "execution_count": 0,
      "outputs": []
    },
    {
      "cell_type": "markdown",
      "metadata": {
        "id": "OpX0krGbLNUn",
        "colab_type": "text"
      },
      "source": [
        "Create a main.py"
      ]
    },
    {
      "cell_type": "code",
      "metadata": {
        "id": "jkQEmCzVLL3d",
        "colab_type": "code",
        "colab": {
          "base_uri": "https://localhost:8080/",
          "height": 52
        },
        "outputId": "2065d8bb-b03e-4308-b397-034e71a88076"
      },
      "source": [
        "import constant\n",
        "\n",
        "print(constant.PI)\n",
        "print(constant.GRAVITY)"
      ],
      "execution_count": 13,
      "outputs": [
        {
          "output_type": "stream",
          "text": [
            "3.14\n",
            "9.8\n"
          ],
          "name": "stdout"
        }
      ]
    },
    {
      "cell_type": "markdown",
      "metadata": {
        "id": "WEVCBhnuNAt4",
        "colab_type": "text"
      },
      "source": [
        "In the above program, we create a constant.py module file. Then, we assign the constant value to PI and GRAVITY. After that, we create a main.py file and import the constant module. Finally, we print the constant value.\n",
        "\n",
        "Note: In reality, we don't use constants in Python. The globals or constants module is used throughout the Python programs."
      ]
    },
    {
      "cell_type": "markdown",
      "metadata": {
        "id": "F2Ze1p69NPEb",
        "colab_type": "text"
      },
      "source": [
        "**Rules and Naming convention for variables and constants**"
      ]
    },
    {
      "cell_type": "markdown",
      "metadata": {
        "id": "mhKWUp6VNSBA",
        "colab_type": "text"
      },
      "source": [
        "1.   Create a name that makes sense. Suppose, vowel makes more sense than v\n",
        "2.   Use camelCase notation to declare a variable. It starts with lowercase letter.\n",
        "\n",
        "For example:\n",
        "*   myName\n",
        "*   myAge\n",
        "*   myAddress\n",
        "\n",
        "\n",
        "3.    Use capital letters where possible to declare a constant. For example:\n",
        "\n",
        "For example:\n",
        "*  PI\n",
        "*  G\n",
        "*  MASS\n",
        "*  TEMP\n",
        "\n",
        "4.  Never use special symbols like !, @, #, $, %, etc.\n",
        "5.  Don't start name with a digit.\n",
        "6.  Constants are put into Python modules and meant not be changed.\n",
        "7.  Constant and variable names should have combination of letters in lowercase (a to z) or uppercase (A to Z) or digits (0 to 9) or an underscore (_). \n",
        "\n",
        "For example:\n",
        "*  snake_case\n",
        "*  MACRO_CASE\n",
        "*  camelCase\n",
        "*  CapWords\n"
      ]
    },
    {
      "cell_type": "markdown",
      "metadata": {
        "id": "JlYp2dMJOgT1",
        "colab_type": "text"
      },
      "source": [
        "**Literals**\n",
        "\n",
        "Literal is a raw data given in a variable or constant. In Python, there are various types of literals they are as follows:"
      ]
    },
    {
      "cell_type": "markdown",
      "metadata": {
        "id": "d29oVTJOOmD4",
        "colab_type": "text"
      },
      "source": [
        "**Numeric Literals**\n",
        "\n",
        "Numeric Literals are immutable (unchangeable). Numeric literals can belong to 3 different numerical types **Integer, Float and Complex.**"
      ]
    },
    {
      "cell_type": "markdown",
      "metadata": {
        "id": "_iL3kWlVOun-",
        "colab_type": "text"
      },
      "source": [
        "**Example 4: How to use Numeric literals in Python?**"
      ]
    },
    {
      "cell_type": "code",
      "metadata": {
        "id": "AUx5gRrOM1NR",
        "colab_type": "code",
        "colab": {
          "base_uri": "https://localhost:8080/",
          "height": 70
        },
        "outputId": "367955f5-dd1f-4077-f203-79c4f3abe166"
      },
      "source": [
        "a = 0b1010 #Binary Literals\n",
        "b = 100 #Decimal Literal \n",
        "c = 0o310 #Octal Literal\n",
        "d = 0x12c #Hexadecimal Literal\n",
        "\n",
        "#Float Literal\n",
        "float_1 = 10.5 \n",
        "float_2 = 1.5e2\n",
        "\n",
        "#Complex Literal \n",
        "x = 3.14j\n",
        "\n",
        "print(a, b, c, d)\n",
        "print(float_1, float_2)\n",
        "print(x, x.imag, x.real)"
      ],
      "execution_count": 14,
      "outputs": [
        {
          "output_type": "stream",
          "text": [
            "10 100 200 300\n",
            "10.5 150.0\n",
            "3.14j 3.14 0.0\n"
          ],
          "name": "stdout"
        }
      ]
    },
    {
      "cell_type": "markdown",
      "metadata": {
        "id": "goIUAV_AO1Y1",
        "colab_type": "text"
      },
      "source": [
        "In the above program,\n",
        "\n",
        "*  We assigned integer literals into different variables. Here, **a** is binary literal, **b** is a decimal literal, **c** is an octal literal and **d** is a hexadecimal literal.\n",
        "*  When we print the variables, all the literals are converted into decimal values.\n",
        "* 10.5 and 1.5e2 are floating point literals. 1.5e2 is expressed with exponential and is equivalent to 1.5 * 102.\n",
        "We assigned a complex literal i.e 3.14j in variable x. Then we use imaginary literal (x.imag) and real literal (x.real) to create imaginary and real part of complex number.\n",
        "\n",
        "To learn more about Numeric Literals, refer Python Numbers."
      ]
    },
    {
      "cell_type": "markdown",
      "metadata": {
        "id": "qbQsx78WPL1k",
        "colab_type": "text"
      },
      "source": [
        "**String literals**\n",
        "\n",
        "A string literal is a sequence of characters surrounded by quotes. We can use both **single, double or triple quotes** for a string. And, a character literal is a single character surrounded by **single or double quotes**.\n"
      ]
    },
    {
      "cell_type": "markdown",
      "metadata": {
        "id": "nALrbI73PVlw",
        "colab_type": "text"
      },
      "source": [
        "**Example 7: How to use string literals in Python?**"
      ]
    },
    {
      "cell_type": "code",
      "metadata": {
        "id": "QMa1ESt2Oy4B",
        "colab_type": "code",
        "colab": {
          "base_uri": "https://localhost:8080/",
          "height": 105
        },
        "outputId": "65784a27-fd61-4506-d731-b7b5d5f46363"
      },
      "source": [
        "strings = \"This is Python\"\n",
        "char = \"C\"\n",
        "multiline_str = \"\"\"This is a multiline string with more than one line code.\"\"\"\n",
        "unicode = u\"\\u00dcnic\\u00f6de\"\n",
        "raw_str = r\"raw \\n string\"\n",
        "\n",
        "print(strings)\n",
        "print(char)\n",
        "print(multiline_str)\n",
        "print(unicode)\n",
        "print(raw_str)"
      ],
      "execution_count": 15,
      "outputs": [
        {
          "output_type": "stream",
          "text": [
            "This is Python\n",
            "C\n",
            "This is a multiline string with more than one line code.\n",
            "Ünicöde\n",
            "raw \\n string\n"
          ],
          "name": "stdout"
        }
      ]
    },
    {
      "cell_type": "markdown",
      "metadata": {
        "id": "VS3xrmhLPiMS",
        "colab_type": "text"
      },
      "source": [
        "In the above program, **This is Python** is a string literal and **C** is a character literal. The value with triple-quote **\"\"\"** assigned in the **multiline_str** is multi-line string literal. The **u\"\\u00dcnic\\u00f6de\"** is a unicode literal which supports characters other than English and **r\"raw \\n string\"** is a raw string literal."
      ]
    },
    {
      "cell_type": "markdown",
      "metadata": {
        "id": "t3v62PxvP7LU",
        "colab_type": "text"
      },
      "source": [
        "**Boolean literals**\n",
        "\n",
        "A Boolean literal can have any of the two values: True or False."
      ]
    },
    {
      "cell_type": "markdown",
      "metadata": {
        "id": "241a3Jb9P_Yc",
        "colab_type": "text"
      },
      "source": [
        "**Example 8: How to use boolean literals in Python?**"
      ]
    },
    {
      "cell_type": "code",
      "metadata": {
        "id": "UEsIu5bJPZJB",
        "colab_type": "code",
        "colab": {
          "base_uri": "https://localhost:8080/",
          "height": 87
        },
        "outputId": "325b19ff-e0c2-4dd3-df7b-32270f9b1ae7"
      },
      "source": [
        "x = (1 == True)\n",
        "y = (1 == False)\n",
        "a = True + 4\n",
        "b = False + 10\n",
        "\n",
        "print(\"x is\", x)\n",
        "print(\"y is\", y)\n",
        "print(\"a:\", a)\n",
        "print(\"b:\", b)\n"
      ],
      "execution_count": 16,
      "outputs": [
        {
          "output_type": "stream",
          "text": [
            "x is True\n",
            "y is False\n",
            "a: 5\n",
            "b: 10\n"
          ],
          "name": "stdout"
        }
      ]
    },
    {
      "cell_type": "markdown",
      "metadata": {
        "id": "XzhunQ-uQM_a",
        "colab_type": "text"
      },
      "source": [
        "In the above program, we use boolean literal **True** and **False**. In Python, **True** represents the value as **1** and **False** as **0**. The value of **x** is **True** because **1** is equal to True. And, the value of **y** is **False** because **1** is not equal to **False**.\n",
        "\n",
        "Similarly, we can use the True and False in numeric expressions as the value. The value of **a** is **5** because we add **True** which has value of **1** with **4**. Similarly, **b** is **10** because we add the **False** having value of **0** with **10**.\n"
      ]
    },
    {
      "cell_type": "markdown",
      "metadata": {
        "id": "4isEef80QpNF",
        "colab_type": "text"
      },
      "source": [
        "**Special literals**\n",
        "\n",
        "Python contains one special literal i.e. **None**. We use it to specify to that field that is not created.\n"
      ]
    },
    {
      "cell_type": "code",
      "metadata": {
        "id": "LY-MbsOIQD04",
        "colab_type": "code",
        "colab": {}
      },
      "source": [
        "drink = \"Available\"\n",
        "food = None\n",
        "\n",
        "def menu(x):\n",
        "    if x == drink:\n",
        "        print(drink)\n",
        "    else:\n",
        "        print(food)"
      ],
      "execution_count": 0,
      "outputs": []
    },
    {
      "cell_type": "code",
      "metadata": {
        "id": "wLAxSj9WQvNP",
        "colab_type": "code",
        "colab": {
          "base_uri": "https://localhost:8080/",
          "height": 52
        },
        "outputId": "72164a45-c7ef-4f0a-c1ae-95f77348ee2f"
      },
      "source": [
        "menu(drink)\n",
        "menu(food)"
      ],
      "execution_count": 18,
      "outputs": [
        {
          "output_type": "stream",
          "text": [
            "Available\n",
            "None\n"
          ],
          "name": "stdout"
        }
      ]
    },
    {
      "cell_type": "markdown",
      "metadata": {
        "id": "6NKlrpilQ0z_",
        "colab_type": "text"
      },
      "source": [
        "In the above program, we define a **menu** function. Inside **menu**, when we set parameter as **drink** then, it displays Available. And, when the parameter is **food**, it displays **None**."
      ]
    },
    {
      "cell_type": "markdown",
      "metadata": {
        "id": "W-8s0iI6Q_D4",
        "colab_type": "text"
      },
      "source": [
        "**Literal Collections**\n",
        "\n",
        "There are four different literal collections **List literals, Tuple literals, Dict literals, and Set literals**."
      ]
    },
    {
      "cell_type": "markdown",
      "metadata": {
        "id": "EqdZW3q1RIYI",
        "colab_type": "text"
      },
      "source": [
        "**Example 10: How to use literals collections in Python?**"
      ]
    },
    {
      "cell_type": "code",
      "metadata": {
        "id": "OcmcUfskQxNl",
        "colab_type": "code",
        "colab": {
          "base_uri": "https://localhost:8080/",
          "height": 87
        },
        "outputId": "b6c8038f-6fe0-47d5-96f3-4e32bc00b6c8"
      },
      "source": [
        "fruits = [\"apple\", \"mango\", \"orange\"] #list\n",
        "numbers = (1, 2, 3) #tuple\n",
        "alphabets = {'a':'apple', 'b':'ball', 'c':'cat'} #dictionary\n",
        "vowels = {'a', 'e', 'i' , 'o', 'u'} #set\n",
        "\n",
        "print(fruits)\n",
        "print(numbers)\n",
        "print(alphabets)\n",
        "print(vowels)"
      ],
      "execution_count": 19,
      "outputs": [
        {
          "output_type": "stream",
          "text": [
            "['apple', 'mango', 'orange']\n",
            "(1, 2, 3)\n",
            "{'a': 'apple', 'b': 'ball', 'c': 'cat'}\n",
            "{'u', 'i', 'e', 'a', 'o'}\n"
          ],
          "name": "stdout"
        }
      ]
    },
    {
      "cell_type": "markdown",
      "metadata": {
        "id": "jPrtppO1RQwI",
        "colab_type": "text"
      },
      "source": [
        "In the above program, we created a **list** of fruits, **tuple** of numbers, **dictionary** dict having values with keys desginated to each value and **set** of vowels.\n",
        "\n",
        "To learn more about literal collections, refer Python Data Types."
      ]
    },
    {
      "cell_type": "code",
      "metadata": {
        "id": "WX1EbNbgRM6o",
        "colab_type": "code",
        "colab": {}
      },
      "source": [
        ""
      ],
      "execution_count": 0,
      "outputs": []
    }
  ]
}
