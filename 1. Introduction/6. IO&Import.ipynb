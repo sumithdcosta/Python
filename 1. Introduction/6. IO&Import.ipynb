{
  "nbformat": 4,
  "nbformat_minor": 0,
  "metadata": {
    "colab": {
      "name": "Untitled8.ipynb",
      "provenance": [],
      "include_colab_link": true
    },
    "kernelspec": {
      "name": "python3",
      "display_name": "Python 3"
    }
  },
  "cells": [
    {
      "cell_type": "markdown",
      "metadata": {
        "id": "view-in-github",
        "colab_type": "text"
      },
      "source": [
        "<a href=\"https://colab.research.google.com/github/sumithdcosta/Python/blob/master/1.%20Introduction/6.%20IO%26Import.ipynb\" target=\"_parent\"><img src=\"https://colab.research.google.com/assets/colab-badge.svg\" alt=\"Open In Colab\"/></a>"
      ]
    },
    {
      "cell_type": "markdown",
      "metadata": {
        "id": "XAT9nigUcjJ-",
        "colab_type": "text"
      },
      "source": [
        "1. Introduction/6. IO&Import.ipynb"
      ]
    },
    {
      "cell_type": "markdown",
      "metadata": {
        "id": "RRTDCgqScq82",
        "colab_type": "text"
      },
      "source": [
        "**Input, Output and Import**\n",
        "\n",
        "Python provides numerous built-in functions that are readily available to us at the Python prompt.\n",
        "\n",
        "Some of the functions like **input()** and **print()** are widely used for standard input and output operations respectively. Let us see the output section first."
      ]
    },
    {
      "cell_type": "markdown",
      "metadata": {
        "id": "GxsygJGVc1t6",
        "colab_type": "text"
      },
      "source": [
        "**Python Output Using print() function**\n",
        "\n",
        "We use the print() function to output data to the standard output device (screen).\n",
        "\n",
        "An example use is given below."
      ]
    },
    {
      "cell_type": "code",
      "metadata": {
        "id": "Ox1E0gOHcil7",
        "colab_type": "code",
        "colab": {
          "base_uri": "https://localhost:8080/",
          "height": 34
        },
        "outputId": "cda5a7ae-eb4b-43e2-a465-0198fa238b9a"
      },
      "source": [
        "print('This sentence is output to the screen')\n",
        "# Output: This sentence is output to the screen"
      ],
      "execution_count": 1,
      "outputs": [
        {
          "output_type": "stream",
          "text": [
            "This sentence is output to the screen\n"
          ],
          "name": "stdout"
        }
      ]
    },
    {
      "cell_type": "code",
      "metadata": {
        "id": "CaVm1YUbdB3b",
        "colab_type": "code",
        "colab": {
          "base_uri": "https://localhost:8080/",
          "height": 34
        },
        "outputId": "7ec7f5fb-a664-4bcc-b153-e89b60c1dd3e"
      },
      "source": [
        "a = 5\n",
        "\n",
        "print('The value of a is', a)\n",
        "# Output: The value of a is 5"
      ],
      "execution_count": 2,
      "outputs": [
        {
          "output_type": "stream",
          "text": [
            "The value of a is 5\n"
          ],
          "name": "stdout"
        }
      ]
    },
    {
      "cell_type": "markdown",
      "metadata": {
        "id": "t6FQ34OLdGEV",
        "colab_type": "text"
      },
      "source": [
        "In the second print() statement, we can notice that a space was added between the string and the **value** of variable **a**.This is by default, but we can change it.\n",
        "\n",
        "The actual syntax of the print() function is\n",
        "\n",
        "\n",
        "```\n",
        "print(*objects, sep=' ', end='\\n', file=sys.stdout, flush=False)\n",
        "\n",
        "```\n",
        "Here, **objects** is the value(s) to be printed.\n",
        "\n",
        "The **sep** separator is used between the values. It defaults into a space character.\n",
        "\n",
        "After all values are printed, **end** is printed. It defaults into a new line.\n",
        "\n",
        "The **file** is the object where the values are printed and its default value is **sys.stdout** (screen). Here are an example to illustrate this.\n"
      ]
    },
    {
      "cell_type": "code",
      "metadata": {
        "id": "A6BN54mxdESS",
        "colab_type": "code",
        "colab": {
          "base_uri": "https://localhost:8080/",
          "height": 70
        },
        "outputId": "91b5c5c7-a840-42b5-d2a3-e962bd33db53"
      },
      "source": [
        "print(1,2,3,4)\n",
        "# Output: 1 2 3 4\n",
        "\n",
        "print(1,2,3,4,sep='*')\n",
        "# Output: 1*2*3*4\n",
        "\n",
        "print(1,2,3,4,sep='#',end='&')\n",
        "# Output: 1#2#3#4&\n"
      ],
      "execution_count": 3,
      "outputs": [
        {
          "output_type": "stream",
          "text": [
            "1 2 3 4\n",
            "1*2*3*4\n",
            "1#2#3#4&"
          ],
          "name": "stdout"
        }
      ]
    },
    {
      "cell_type": "markdown",
      "metadata": {
        "id": "acanB_9Ddk_p",
        "colab_type": "text"
      },
      "source": [
        "**Output formatting**\n",
        "\n",
        "Sometimes we would like to format our output to make it look attractive. This can be done by using the str.format() method. This method is visible to any string object."
      ]
    },
    {
      "cell_type": "code",
      "metadata": {
        "id": "ciMuKAlTdg5J",
        "colab_type": "code",
        "colab": {
          "base_uri": "https://localhost:8080/",
          "height": 34
        },
        "outputId": "cd523ebc-12e6-4000-b14e-7ee2408984ee"
      },
      "source": [
        "x = 5; y = 10\n",
        "print('The value of x is {} and y is {}'.format(x,y))"
      ],
      "execution_count": 4,
      "outputs": [
        {
          "output_type": "stream",
          "text": [
            "The value of x is 5 and y is 10\n"
          ],
          "name": "stdout"
        }
      ]
    },
    {
      "cell_type": "markdown",
      "metadata": {
        "id": "crCi5tawd15D",
        "colab_type": "text"
      },
      "source": [
        "Here the curly braces {} are used as placeholders. We can specify the order in which it is printed by using numbers (tuple index)."
      ]
    },
    {
      "cell_type": "code",
      "metadata": {
        "id": "vit8E7xaduNg",
        "colab_type": "code",
        "colab": {
          "base_uri": "https://localhost:8080/",
          "height": 34
        },
        "outputId": "6a6b943c-2714-451c-baec-aa3c4a922b23"
      },
      "source": [
        "print('Hello {name}, {greeting}'.format(greeting = 'Goodmorning', name = 'John'))"
      ],
      "execution_count": 6,
      "outputs": [
        {
          "output_type": "stream",
          "text": [
            "Hello John, Goodmorning\n"
          ],
          "name": "stdout"
        }
      ]
    },
    {
      "cell_type": "markdown",
      "metadata": {
        "id": "PJM698PpeH7G",
        "colab_type": "text"
      },
      "source": [
        "We can even format strings like the old sprintf() style used in C programming language. We use the % operator to accomplish this."
      ]
    },
    {
      "cell_type": "code",
      "metadata": {
        "id": "MbqroVzxd8XQ",
        "colab_type": "code",
        "colab": {
          "base_uri": "https://localhost:8080/",
          "height": 52
        },
        "outputId": "730402db-df9f-463a-d48c-6f8dbb64dda9"
      },
      "source": [
        "x = 12.3456789\n",
        "print('The value of x is %3.2f' %x)\n",
        "print('The value of x is %3.4f' %x)"
      ],
      "execution_count": 7,
      "outputs": [
        {
          "output_type": "stream",
          "text": [
            "The value of x is 12.35\n",
            "The value of x is 12.3457\n"
          ],
          "name": "stdout"
        }
      ]
    },
    {
      "cell_type": "markdown",
      "metadata": {
        "id": "GJVEh18XeV3L",
        "colab_type": "text"
      },
      "source": [
        "**Python Input**\n",
        "\n",
        "Up till now, our programs were static. The value of variables were defined or hard coded into the source code.\n",
        "\n",
        "To allow flexibility we might want to take the input from the user. In Python, we have the input() function to allow this. The syntax for input() is\n",
        "\n",
        "**input([prompt])**\n",
        "\n",
        "where prompt is the string we wish to display on the screen. It is optional."
      ]
    },
    {
      "cell_type": "code",
      "metadata": {
        "id": "dW1HLbpJeTPH",
        "colab_type": "code",
        "colab": {
          "base_uri": "https://localhost:8080/",
          "height": 34
        },
        "outputId": "697aa9fe-4089-4135-f5b4-dc0513ea8bcb"
      },
      "source": [
        "num = input('Enter a number: ')"
      ],
      "execution_count": 8,
      "outputs": [
        {
          "output_type": "stream",
          "text": [
            "Enter a number: 10\n"
          ],
          "name": "stdout"
        }
      ]
    },
    {
      "cell_type": "code",
      "metadata": {
        "id": "cYvZtD7-egGm",
        "colab_type": "code",
        "colab": {
          "base_uri": "https://localhost:8080/",
          "height": 34
        },
        "outputId": "462df8fa-e430-4060-bf33-02bd67e98d9c"
      },
      "source": [
        "num"
      ],
      "execution_count": 9,
      "outputs": [
        {
          "output_type": "execute_result",
          "data": {
            "text/plain": [
              "'10'"
            ]
          },
          "metadata": {
            "tags": []
          },
          "execution_count": 9
        }
      ]
    },
    {
      "cell_type": "markdown",
      "metadata": {
        "id": "ullJuvFnekwk",
        "colab_type": "text"
      },
      "source": [
        "Here, we can see that the entered value **10** is a string, not a number. To convert this into a number we can use **int**() or **float**() functions."
      ]
    },
    {
      "cell_type": "code",
      "metadata": {
        "id": "DvbiekTteif2",
        "colab_type": "code",
        "colab": {
          "base_uri": "https://localhost:8080/",
          "height": 34
        },
        "outputId": "6774e213-112d-4e90-e90a-bad07cebbb2c"
      },
      "source": [
        "int('10')"
      ],
      "execution_count": 10,
      "outputs": [
        {
          "output_type": "execute_result",
          "data": {
            "text/plain": [
              "10"
            ]
          },
          "metadata": {
            "tags": []
          },
          "execution_count": 10
        }
      ]
    },
    {
      "cell_type": "code",
      "metadata": {
        "id": "ZJRaaZrHesJ2",
        "colab_type": "code",
        "colab": {
          "base_uri": "https://localhost:8080/",
          "height": 34
        },
        "outputId": "876443c6-0128-4ed6-fc32-e53bbcede4ab"
      },
      "source": [
        "float('10')"
      ],
      "execution_count": 11,
      "outputs": [
        {
          "output_type": "execute_result",
          "data": {
            "text/plain": [
              "10.0"
            ]
          },
          "metadata": {
            "tags": []
          },
          "execution_count": 11
        }
      ]
    },
    {
      "cell_type": "markdown",
      "metadata": {
        "id": "wRdGaOZSevN4",
        "colab_type": "text"
      },
      "source": [
        "This same operation can be performed using the **eval**() function. But it takes it further. It can evaluate even expressions, provided the input is a string"
      ]
    },
    {
      "cell_type": "code",
      "metadata": {
        "id": "lPQgZW19etpP",
        "colab_type": "code",
        "colab": {
          "base_uri": "https://localhost:8080/",
          "height": 167
        },
        "outputId": "47f417fc-ba5a-4e71-a7b1-5fdeb4550109"
      },
      "source": [
        "int('2+3')"
      ],
      "execution_count": 12,
      "outputs": [
        {
          "output_type": "error",
          "ename": "ValueError",
          "evalue": "ignored",
          "traceback": [
            "\u001b[0;31m---------------------------------------------------------------------------\u001b[0m",
            "\u001b[0;31mValueError\u001b[0m                                Traceback (most recent call last)",
            "\u001b[0;32m<ipython-input-12-7dc57dc68b93>\u001b[0m in \u001b[0;36m<module>\u001b[0;34m()\u001b[0m\n\u001b[0;32m----> 1\u001b[0;31m \u001b[0mint\u001b[0m\u001b[0;34m(\u001b[0m\u001b[0;34m'2+3'\u001b[0m\u001b[0;34m)\u001b[0m\u001b[0;34m\u001b[0m\u001b[0;34m\u001b[0m\u001b[0m\n\u001b[0m",
            "\u001b[0;31mValueError\u001b[0m: invalid literal for int() with base 10: '2+3'"
          ]
        }
      ]
    },
    {
      "cell_type": "code",
      "metadata": {
        "id": "tnwb4E5Ie0Ye",
        "colab_type": "code",
        "colab": {
          "base_uri": "https://localhost:8080/",
          "height": 34
        },
        "outputId": "ab8cf861-2cb1-49cf-c755-86d6e5f9f42a"
      },
      "source": [
        "eval('2+3')"
      ],
      "execution_count": 13,
      "outputs": [
        {
          "output_type": "execute_result",
          "data": {
            "text/plain": [
              "5"
            ]
          },
          "metadata": {
            "tags": []
          },
          "execution_count": 13
        }
      ]
    },
    {
      "cell_type": "markdown",
      "metadata": {
        "id": "_6n6myw6e6kY",
        "colab_type": "text"
      },
      "source": [
        "**Python Import**\n",
        "\n",
        "When our program grows bigger, it is a good idea to break it into different modules.\n",
        "\n",
        "A module is a file containing Python definitions and statements. Python modules have a filename and end with the extension .**py**.\n",
        "\n",
        "Definitions inside a module can be imported to another module or the interactive interpreter in Python. We use the **import** keyword to do this.\n",
        "\n",
        "For example, we can import the **math** module by typing in **import** **math**.\n"
      ]
    },
    {
      "cell_type": "code",
      "metadata": {
        "id": "wjkxOqude3m-",
        "colab_type": "code",
        "colab": {
          "base_uri": "https://localhost:8080/",
          "height": 34
        },
        "outputId": "480f4c55-2d90-496f-fd02-51a0d9486c88"
      },
      "source": [
        "import math\n",
        "print(math.pi)"
      ],
      "execution_count": 14,
      "outputs": [
        {
          "output_type": "stream",
          "text": [
            "3.141592653589793\n"
          ],
          "name": "stdout"
        }
      ]
    },
    {
      "cell_type": "markdown",
      "metadata": {
        "id": "HFKyi2zjfKtB",
        "colab_type": "text"
      },
      "source": [
        "Now all the definitions inside **math** module are available in our scope. We can also import some specific attributes and functions only, using the **from** keyword. For example:"
      ]
    },
    {
      "cell_type": "code",
      "metadata": {
        "id": "LAJHlbs7fJHt",
        "colab_type": "code",
        "colab": {
          "base_uri": "https://localhost:8080/",
          "height": 176
        },
        "outputId": "442098b1-5f73-4b61-8d3e-27bb33c2c57a"
      },
      "source": [
        "import sys\n",
        "sys.path"
      ],
      "execution_count": 15,
      "outputs": [
        {
          "output_type": "execute_result",
          "data": {
            "text/plain": [
              "['',\n",
              " '/env/python',\n",
              " '/usr/lib/python36.zip',\n",
              " '/usr/lib/python3.6',\n",
              " '/usr/lib/python3.6/lib-dynload',\n",
              " '/usr/local/lib/python3.6/dist-packages',\n",
              " '/usr/lib/python3/dist-packages',\n",
              " '/usr/local/lib/python3.6/dist-packages/IPython/extensions',\n",
              " '/root/.ipython']"
            ]
          },
          "metadata": {
            "tags": []
          },
          "execution_count": 15
        }
      ]
    },
    {
      "cell_type": "markdown",
      "metadata": {
        "id": "i64dtt-VfbGR",
        "colab_type": "text"
      },
      "source": [
        "We can add our own location to this list as well"
      ]
    },
    {
      "cell_type": "code",
      "metadata": {
        "id": "pUCuT6kNfSBt",
        "colab_type": "code",
        "colab": {}
      },
      "source": [
        ""
      ],
      "execution_count": 0,
      "outputs": []
    }
  ]
}