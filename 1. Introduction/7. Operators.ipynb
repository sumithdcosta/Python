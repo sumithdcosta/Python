{
  "nbformat": 4,
  "nbformat_minor": 0,
  "metadata": {
    "colab": {
      "name": "Untitled9.ipynb",
      "provenance": [],
      "include_colab_link": true
    },
    "kernelspec": {
      "name": "python3",
      "display_name": "Python 3"
    }
  },
  "cells": [
    {
      "cell_type": "markdown",
      "metadata": {
        "id": "view-in-github",
        "colab_type": "text"
      },
      "source": [
        "<a href=\"https://colab.research.google.com/github/sumithdcosta/Python/blob/master/1.%20Introduction/7.%20Operators.ipynb\" target=\"_parent\"><img src=\"https://colab.research.google.com/assets/colab-badge.svg\" alt=\"Open In Colab\"/></a>"
      ]
    },
    {
      "cell_type": "markdown",
      "metadata": {
        "id": "tc1-f1CYf0-d",
        "colab_type": "text"
      },
      "source": [
        "1. Introduction/7. Operators.ipynb"
      ]
    },
    {
      "cell_type": "markdown",
      "metadata": {
        "id": "rwJ-R7DvgCKQ",
        "colab_type": "text"
      },
      "source": [
        "**What are operators in python?**\n",
        "\n",
        "Operators are special symbols in Python that carry out arithmetic or logical computation. The value that the operator operates on is called the operand.\n",
        "\n",
        "**For example:**"
      ]
    },
    {
      "cell_type": "code",
      "metadata": {
        "id": "r_Btp3Ldf0aL",
        "colab_type": "code",
        "colab": {
          "base_uri": "https://localhost:8080/",
          "height": 34
        },
        "outputId": "e2473ed8-03cc-47d1-9af0-465c448bd31b"
      },
      "source": [
        "2 + 3"
      ],
      "execution_count": 1,
      "outputs": [
        {
          "output_type": "execute_result",
          "data": {
            "text/plain": [
              "5"
            ]
          },
          "metadata": {
            "tags": []
          },
          "execution_count": 1
        }
      ]
    },
    {
      "cell_type": "code",
      "metadata": {
        "id": "pnIzbF6hie-P",
        "colab_type": "code",
        "colab": {}
      },
      "source": [
        ""
      ],
      "execution_count": 0,
      "outputs": []
    },
    {
      "cell_type": "markdown",
      "metadata": {
        "id": "bC5JAsWYgPOD",
        "colab_type": "text"
      },
      "source": [
        "Here, + is the operator that performs addition. 2 and 3 are the operands and 5 is the output of the operation."
      ]
    },
    {
      "cell_type": "markdown",
      "metadata": {
        "id": "FPNjfPpKgSLa",
        "colab_type": "text"
      },
      "source": [
        "**Arithmetic operators**\n",
        "\n",
        "Arithmetic operators are used to perform mathematical operations like addition, subtraction, multiplication etc.\n",
        "\n",
        "**Arithmetic operators in Python**\n"
      ]
    },
    {
      "cell_type": "markdown",
      "metadata": {
        "id": "xAxfB5apgb9r",
        "colab_type": "text"
      },
      "source": [
        "*  \\+ :\n",
        "Add two operands or unary plus\n",
        "x + y =\n",
        "2\n",
        "*  \\- :\n",
        "Subtract right operand from the left or unary minus\n",
        "x - y =\n",
        "\\-2\n",
        "*  \\* :\n",
        "Multiply two operands\n",
        "x * y\n",
        "* / :\n",
        "Divide left operand by the right one (always results into float)\n",
        "x / y\n",
        "*  % :\n",
        "Modulus - remainder of the division of left operand by the right\n",
        "x % y (remainder of x/y)\n",
        "*  // :\n",
        "Floor division - division that results into whole number adjusted to the left in the number line\n",
        "x // y\n",
        "*  \\*\\* :\n",
        "Exponent - left operand raised to the power of right\n",
        "x**y (x to the power y)\n"
      ]
    },
    {
      "cell_type": "markdown",
      "metadata": {
        "id": "8ng7tZ8wg9ZJ",
        "colab_type": "text"
      },
      "source": [
        "\n",
        "**Example #1: Arithmetic operators in Python**"
      ]
    },
    {
      "cell_type": "code",
      "metadata": {
        "id": "gk2GirT6gPyp",
        "colab_type": "code",
        "colab": {
          "base_uri": "https://localhost:8080/",
          "height": 123
        },
        "outputId": "bffc02fd-6215-4a0a-8a8b-0ba2d2c7fee6"
      },
      "source": [
        "x = 15\n",
        "y = 4\n",
        "\n",
        "# Output: x + y = 19\n",
        "print('x + y =',x+y)\n",
        "\n",
        "# Output: x - y = 11\n",
        "print('x - y =',x-y)\n",
        "\n",
        "# Output: x * y = 60\n",
        "print('x * y =',x*y)\n",
        "\n",
        "# Output: x / y = 3.75\n",
        "print('x / y =',x/y)\n",
        "\n",
        "# Output: x // y = 3\n",
        "print('x // y =',x//y)\n",
        "\n",
        "# Output: x ** y = 50625\n",
        "print('x ** y =',x**y)"
      ],
      "execution_count": 2,
      "outputs": [
        {
          "output_type": "stream",
          "text": [
            "x + y = 19\n",
            "x - y = 11\n",
            "x * y = 60\n",
            "x / y = 3.75\n",
            "x // y = 3\n",
            "x ** y = 50625\n"
          ],
          "name": "stdout"
        }
      ]
    },
    {
      "cell_type": "markdown",
      "metadata": {
        "id": "f_f8nxjXhHnb",
        "colab_type": "text"
      },
      "source": [
        "**Comparison operators**\n",
        "\n",
        "Comparison operators are used to compare values. It either returns **True** or **False** according to the condition.\n",
        "\n",
        "Comparision operators in Python"
      ]
    },
    {
      "cell_type": "markdown",
      "metadata": {
        "id": "LNeicQx1hN7D",
        "colab_type": "text"
      },
      "source": [
        "*  \\> :\n",
        "Greater that - True if left operand is greater than the right\n",
        "x > y\n",
        "*  < :\n",
        "Less that - True if left operand is less than the right\n",
        "x < y\n",
        "*  == :\n",
        "Equal to - True if both operands are equal\n",
        "x == y\n",
        "*  != :\n",
        "Not equal to - True if operands are not equal\n",
        "x != y\n",
        "*  \\>= :\n",
        "Greater than or equal to - True if left operand is greater than or equal to the right\n",
        "x >= y\n",
        "*  <= :\n",
        "Less than or equal to - True if left operand is less than or equal to the right\n",
        "x <= y\n"
      ]
    },
    {
      "cell_type": "markdown",
      "metadata": {
        "id": "qJzYtl0ahdAJ",
        "colab_type": "text"
      },
      "source": [
        "**Example #2: Comparison operators in Python**"
      ]
    },
    {
      "cell_type": "code",
      "metadata": {
        "id": "j0VzIQkUhBDB",
        "colab_type": "code",
        "colab": {
          "base_uri": "https://localhost:8080/",
          "height": 123
        },
        "outputId": "dea26eeb-f88f-4d09-de27-b234344c0fb1"
      },
      "source": [
        "x = 10\n",
        "y = 12\n",
        "\n",
        "# Output: x > y is False\n",
        "print('x > y  is',x>y)\n",
        "\n",
        "# Output: x < y is True\n",
        "print('x < y  is',x<y)\n",
        "\n",
        "# Output: x == y is False\n",
        "print('x == y is',x==y)\n",
        "\n",
        "# Output: x != y is True\n",
        "print('x != y is',x!=y)\n",
        "\n",
        "# Output: x >= y is False\n",
        "print('x >= y is',x>=y)\n",
        "\n",
        "# Output: x <= y is True\n",
        "print('x <= y is',x<=y)"
      ],
      "execution_count": 3,
      "outputs": [
        {
          "output_type": "stream",
          "text": [
            "x > y  is False\n",
            "x < y  is True\n",
            "x == y is False\n",
            "x != y is True\n",
            "x >= y is False\n",
            "x <= y is True\n"
          ],
          "name": "stdout"
        }
      ]
    },
    {
      "cell_type": "markdown",
      "metadata": {
        "id": "oIj8azrfhjij",
        "colab_type": "text"
      },
      "source": [
        "**Logical operators**\n",
        "\n",
        "Logical operators are the and, or, not operators.\n",
        "\n",
        "Logical operators in Python"
      ]
    },
    {
      "cell_type": "markdown",
      "metadata": {
        "id": "51b64f_mhm6J",
        "colab_type": "text"
      },
      "source": [
        "*  and : \n",
        "True if both the operands are true\n",
        "x and y\n",
        "*  or : \n",
        "True if either of the operands is true\n",
        "x or y\n",
        "* not :\n",
        "True if operand is false (complements the operand)\n",
        "not x\n"
      ]
    },
    {
      "cell_type": "markdown",
      "metadata": {
        "id": "F_er1yaEiku-",
        "colab_type": "text"
      },
      "source": [
        "**Bitwise operators**\n",
        "\n",
        "Bitwise operators act on operands as if they were string of binary digits. It operates bit by bit, hence the name.\n",
        "\n",
        "For example, 2 is 10 in binary and 7 is 111.\n",
        "\n",
        "In the table below: Let x = 10 (0000 1010 in binary) and y = 4 (0000 0100 in binary)\n",
        "\n",
        "Bitwise operators in Python"
      ]
    },
    {
      "cell_type": "markdown",
      "metadata": {
        "id": "d7ODIrEIis5u",
        "colab_type": "text"
      },
      "source": [
        "*  & : \n",
        "Bitwise AND :\n",
        "x& y = 0 (0000 0000)\n",
        "*  | : \n",
        "Bitwise OR : \n",
        "x | y = 14 (0000 1110)\n",
        "*  ~ : \n",
        "Bitwise NOT : \n",
        "~x = -11 (1111 0101)\n",
        "*  ^ :\n",
        "Bitwise XOR :\n",
        "x ^ y = 14 (0000 1110)\n",
        "* \\>\\> :\n",
        "Bitwise right shift :\n",
        "x>> 2 = 2 (0000 0010)\n",
        "* << : \n",
        "Bitwise left shift :\n",
        "x<< 2 = 40 (0010 1000)\n"
      ]
    },
    {
      "cell_type": "markdown",
      "metadata": {
        "id": "p8sqxj5IjLoR",
        "colab_type": "text"
      },
      "source": [
        "**Assignment operators**\n",
        "\n",
        "Assignment operators are used in Python to assign values to variables.\n",
        "\n",
        "**a = 5** is a simple assignment operator that assigns the value 5 on the right to the variable a on the left.\n",
        "\n",
        "There are various compound operators in Python like **a += 5** that adds to the variable and later assigns the same. It is equivalent to **a = a + 5**.\n",
        "\n",
        "**Assignment operators in Python**\n"
      ]
    },
    {
      "cell_type": "markdown",
      "metadata": {
        "id": "NEHBTA6mjWX0",
        "colab_type": "text"
      },
      "source": [
        "*  = :\n",
        "x = 5 : \n",
        "x = 5\n",
        "*  += :\n",
        "x += 5 :\n",
        "x = x + 5\n",
        "* -= :\n",
        "x -= 5 :\n",
        "x = x - 5\n",
        "* \\*= :\n",
        "x *= 5 :\n",
        "x = x * 5\n",
        "* /= :\n",
        "x /= 5 :\n",
        "x = x / 5\n",
        "* %= :\n",
        "x %= 5 :\n",
        "x = x % 5\n",
        "* //= :\n",
        "x //= 5 :\n",
        "x = x // 5\n",
        "* \\*\\*= :\n",
        "x **= 5 :\n",
        "x = x ** 5\n",
        "*  &= :\n",
        "x &= 5 :\n",
        "x = x & 5\n",
        "*  |= :\n",
        "x |= 5 :\n",
        "x = x | 5\n",
        "*  ^= :\n",
        "x ^= 5 :\n",
        "x = x ^ 5\n",
        "*  \\>\\>= :\n",
        "x >>= 5 :\n",
        "x = x >> 5\n",
        "*  <<= :\n",
        "x <<= 5 :\n",
        "x = x << 5\n"
      ]
    },
    {
      "cell_type": "markdown",
      "metadata": {
        "id": "1uH4fudlkCaL",
        "colab_type": "text"
      },
      "source": [
        "**Special operators**\n",
        "\n",
        "Python language offers some special type of operators like the identity operator or the membership operator. They are described below with examples.\n",
        "\n",
        "**Identity operators**\n",
        "\n",
        "**is** and **is not** are the identity operators in Python. They are used to check if two values (or variables) are located on the same part of the memory. Two variables that are equal does not imply that they are identical.\n",
        "\n",
        "Identity operators in Python"
      ]
    },
    {
      "cell_type": "markdown",
      "metadata": {
        "id": "IhR1rkVNkS70",
        "colab_type": "text"
      },
      "source": [
        "*  is :\n",
        "True if the operands are identical (refer to the same object) :\n",
        "x is True\n",
        "*  is not : \n",
        "True if the operands are not identical (do not refer to the same object) :\n",
        "x is not True\n"
      ]
    },
    {
      "cell_type": "markdown",
      "metadata": {
        "id": "8Dy3JvPVkbBC",
        "colab_type": "text"
      },
      "source": [
        "**Example #4: Identity operators in Python**"
      ]
    },
    {
      "cell_type": "code",
      "metadata": {
        "id": "4pFiusMdhhFV",
        "colab_type": "code",
        "colab": {
          "base_uri": "https://localhost:8080/",
          "height": 87
        },
        "outputId": "3b3a3bd4-3da1-4e42-ff86-eda360bcb9c9"
      },
      "source": [
        "x1 = 5\n",
        "y1 = 5\n",
        "x2 = 'Hello'\n",
        "y2 = 'Hello'\n",
        "x3 = [1,2,3]\n",
        "y3 = [1,2,3]\n",
        "\n",
        "# Output: False\n",
        "print(x1 is not y1)\n",
        "\n",
        "# Output: True\n",
        "print(x2 is y2)\n",
        "\n",
        "# Output: False\n",
        "print(x3 is y3)\n",
        "\n",
        "# Output: True\n",
        "print(x3 == y3)\n"
      ],
      "execution_count": 5,
      "outputs": [
        {
          "output_type": "stream",
          "text": [
            "False\n",
            "True\n",
            "False\n",
            "True\n"
          ],
          "name": "stdout"
        }
      ]
    },
    {
      "cell_type": "markdown",
      "metadata": {
        "id": "lMC1WUrbksmz",
        "colab_type": "text"
      },
      "source": [
        "Here, we see that **x1** and **y1** are integers of same values, so they are equal as well as identical. Same is the case with **x2** and **y2** (strings).\n",
        "\n",
        "But **x3** and **y3** are list. They are e**qual but not identical**. It is because interpreter locates them separately in memory although they are equal."
      ]
    },
    {
      "cell_type": "markdown",
      "metadata": {
        "id": "Af3Reyfak6qI",
        "colab_type": "text"
      },
      "source": [
        "**Membership operators**\n",
        "\n",
        "**in** and **not i**n are the membership operators in Python. They are used to test whether a value or variable is found in a sequence (string, list, tuple, set and dictionary).\n",
        "\n",
        "In a dictionary we can only test for presence of key, not the value."
      ]
    },
    {
      "cell_type": "markdown",
      "metadata": {
        "id": "LuXA_ePulBVz",
        "colab_type": "text"
      },
      "source": [
        "*  in : \n",
        "True if value/variable is found in the sequence : \n",
        "5 in x\n",
        "*  not in :\n",
        "True if value/variable is not found in the sequence : \n",
        "5 not in x\n"
      ]
    },
    {
      "cell_type": "markdown",
      "metadata": {
        "id": "dEMoxMX4lIcu",
        "colab_type": "text"
      },
      "source": [
        "**Example #5: Membership operators in Python**"
      ]
    },
    {
      "cell_type": "code",
      "metadata": {
        "id": "Xg--LXtqkdP3",
        "colab_type": "code",
        "colab": {
          "base_uri": "https://localhost:8080/",
          "height": 87
        },
        "outputId": "b6ca81c4-f62b-4c1c-c956-69ce135306c4"
      },
      "source": [
        "x = 'Hello world'\n",
        "y = {1:'a',2:'b'}\n",
        "\n",
        "# Output: True\n",
        "print('H' in x)\n",
        "\n",
        "# Output: True\n",
        "print('hello' not in x)\n",
        "\n",
        "# Output: True\n",
        "print(1 in y)\n",
        "\n",
        "# Output: False\n",
        "print('a' in y)"
      ],
      "execution_count": 6,
      "outputs": [
        {
          "output_type": "stream",
          "text": [
            "True\n",
            "True\n",
            "True\n",
            "False\n"
          ],
          "name": "stdout"
        }
      ]
    },
    {
      "cell_type": "markdown",
      "metadata": {
        "id": "mWikxyaGlMFT",
        "colab_type": "text"
      },
      "source": [
        "Here, **'H'** is in x but '**hello**' is not present in **x** (remember, Python is case sensitive). Similary, **1** is key and '**a**' is the value in dictionary **y**. Hence, '**a**' in **y** returns **False**."
      ]
    },
    {
      "cell_type": "code",
      "metadata": {
        "id": "nxeGYBjylKul",
        "colab_type": "code",
        "colab": {}
      },
      "source": [
        ""
      ],
      "execution_count": 0,
      "outputs": []
    }
  ]
}