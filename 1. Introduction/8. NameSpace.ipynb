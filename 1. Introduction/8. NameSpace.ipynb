{
  "nbformat": 4,
  "nbformat_minor": 0,
  "metadata": {
    "colab": {
      "name": "Untitled10.ipynb",
      "provenance": [],
      "include_colab_link": true
    },
    "kernelspec": {
      "name": "python3",
      "display_name": "Python 3"
    }
  },
  "cells": [
    {
      "cell_type": "markdown",
      "metadata": {
        "id": "view-in-github",
        "colab_type": "text"
      },
      "source": [
        "<a href=\"https://colab.research.google.com/github/sumithdcosta/Python/blob/master/1.%20Introduction/8.%20NameSpace.ipynb\" target=\"_parent\"><img src=\"https://colab.research.google.com/assets/colab-badge.svg\" alt=\"Open In Colab\"/></a>"
      ]
    },
    {
      "cell_type": "markdown",
      "metadata": {
        "id": "Rxi6NIdzqppo",
        "colab_type": "text"
      },
      "source": [
        "1. Introduction/8. NameSpace.ipynb"
      ]
    },
    {
      "cell_type": "markdown",
      "metadata": {
        "id": "Akj-r569q5LM",
        "colab_type": "text"
      },
      "source": [
        "**What is Name in Python?**\n",
        "\n",
        "If you have ever read 'The Zen of Python' (type \"import this\" in Python interpreter), the last line states, **Namespaces are one honking great idea -- let's do more of those!** So what are these mysterious namespaces? Let us first look at what name is.\n",
        "\n",
        "Name (also called identifier) is simply a name given to objects. Everything in Python is an object. Name is a way to access the underlying object.\n",
        "\n",
        "For example, when we do the assignment **a = 2**, here **2** is an object stored in memory and a is the name we associate it with. We can get the address (in RAM) of some object through the built-in function, id(). Let's check it."
      ]
    },
    {
      "cell_type": "code",
      "metadata": {
        "id": "JDZZMhpCqo40",
        "colab_type": "code",
        "outputId": "388fea89-8765-4441-8e8f-b79bca7be9ad",
        "colab": {
          "base_uri": "https://localhost:8080/",
          "height": 52
        }
      },
      "source": [
        "# Note: You may get different value of id\n",
        "\n",
        "a = 2\n",
        "# Output: id(2)= 10919424\n",
        "print('id(2) =', id(2))\n",
        "\n",
        "# Output: id(a) = 10919424\n",
        "print('id(a) =', id(a))"
      ],
      "execution_count": 0,
      "outputs": [
        {
          "output_type": "stream",
          "text": [
            "id(2) = 10914528\n",
            "id(a) = 10914528\n"
          ],
          "name": "stdout"
        }
      ]
    },
    {
      "cell_type": "markdown",
      "metadata": {
        "id": "hJCLWIWErNog",
        "colab_type": "text"
      },
      "source": [
        "Here, both refer to the same object. Let's make things a little more interesting."
      ]
    },
    {
      "cell_type": "code",
      "metadata": {
        "id": "y1u9R9yqrML2",
        "colab_type": "code",
        "outputId": "92124888-38e3-41b0-aa6d-e8927e6a0e48",
        "colab": {
          "base_uri": "https://localhost:8080/",
          "height": 87
        }
      },
      "source": [
        "# Note: You may get different value of id\n",
        "\n",
        "a = 2\n",
        "\n",
        "# Output: id(a) = 10919424\n",
        "print('id(a) =', id(a))\n",
        "\n",
        "a = a+1\n",
        "\n",
        "# Output: id(a) = 10919456\n",
        "print('id(a) =', id(a))\n",
        "\n",
        "# Output: id(3) = 10919456\n",
        "print('id(3) =', id(3))\n",
        "\n",
        "b = 2\n",
        "\n",
        "# Output: id(2)= 10919424\n",
        "print('id(2) =', id(2))"
      ],
      "execution_count": 0,
      "outputs": [
        {
          "output_type": "stream",
          "text": [
            "id(a) = 10914528\n",
            "id(a) = 10914560\n",
            "id(3) = 10914560\n",
            "id(2) = 10914528\n"
          ],
          "name": "stdout"
        }
      ]
    },
    {
      "cell_type": "markdown",
      "metadata": {
        "id": "kivSSZvPrWfB",
        "colab_type": "text"
      },
      "source": [
        "What is happening in the above sequence of steps? A diagram will help us explain this.\n",
        "\n",
        "*  a = 2 ;   a -> 2       \n",
        "*  a = a + 1  ;  a ->    3    \n",
        "*  b = 2  ;  b -> 2  a -> 3  \n",
        "\n",
        "Initially, an object **2** is created and the name **a** is associated with it, when we do **a = a+1**, a new object **3** is created and now **a** associates with this object.\n",
        "\n",
        "Note that **id(a)** and **id(3)** have same values.\n",
        "\n",
        "Furthermore, when we do **b = 2**, the new name **b** gets associated with the previous object **2**.\n",
        "\n",
        "This is efficient as Python doesn't have to create a new duplicate object. This dynamic nature of name binding makes Python powerful; a name could refer to any type of object."
      ]
    },
    {
      "cell_type": "code",
      "metadata": {
        "id": "Fjh9T2GMrRtD",
        "colab_type": "code",
        "colab": {}
      },
      "source": [
        "a = 5\n",
        "a = 'Hello World!'\n",
        "a = [1,2,3]"
      ],
      "execution_count": 0,
      "outputs": []
    },
    {
      "cell_type": "markdown",
      "metadata": {
        "id": "MmucpqCYsfUS",
        "colab_type": "text"
      },
      "source": [
        "All these are valid and a will refer to three different types of object at different instances. **Functions** are objects too, so a name can refer to them as well."
      ]
    },
    {
      "cell_type": "code",
      "metadata": {
        "id": "U2ZLIZqPscbS",
        "colab_type": "code",
        "outputId": "b86c8ab8-afcb-49b2-e19d-04d89d752a6e",
        "colab": {
          "base_uri": "https://localhost:8080/",
          "height": 34
        }
      },
      "source": [
        "def printHello():\n",
        "    print(\"Hello\")     \n",
        "a = printHello()\n",
        "\n",
        "# Output: Hello\n",
        "a"
      ],
      "execution_count": 0,
      "outputs": [
        {
          "output_type": "stream",
          "text": [
            "Hello\n"
          ],
          "name": "stdout"
        }
      ]
    },
    {
      "cell_type": "markdown",
      "metadata": {
        "id": "JhCbaYSCsrUU",
        "colab_type": "text"
      },
      "source": [
        "Our same name a can refer to a function and we can call the function through it, pretty neat.\n"
      ]
    },
    {
      "cell_type": "markdown",
      "metadata": {
        "id": "3jVGI4PIsulD",
        "colab_type": "text"
      },
      "source": [
        "**What is a Namespace in Python?**\n",
        "\n",
        "So now that we understand what names are, we can move on to the concept of namespaces.\n",
        "\n",
        "To simply put it, namespace is a collection of names.\n",
        "\n",
        "In Python, you can imagine a namespace as a mapping of every name, you have defined, to corresponding objects.\n",
        "\n",
        "Different namespaces can co-exist at a given time but are completely isolated.\n",
        "\n",
        "A namespace containing all the built-in names is created when we start the Python interpreter and exists as long we don't exit.\n",
        "\n",
        "This is the reason that built-in functions like id(), print() etc. are always available to us from any part of the program. Each module creates its own global namespace.\n",
        "\n",
        "These different namespaces are isolated. Hence, the same name that may exist in different modules do not collide.\n",
        "\n",
        "Modules can have various functions and classes. A local namespace is created when a function is called, which has all the names defined in it. Similar, is the case with class. Following diagram may help to clarify this concept."
      ]
    },
    {
      "cell_type": "markdown",
      "metadata": {
        "id": "ktI7uFNq2JS3",
        "colab_type": "text"
      },
      "source": [
        "![alt text](https://drive.google.com/uc?export=view&id=1APOe3eLzbsZ3eug2G4yBwVMtmttWWTiI)"
      ]
    },
    {
      "cell_type": "markdown",
      "metadata": {
        "id": "HwlAySAm9i45",
        "colab_type": "text"
      },
      "source": [
        "**Python Variable Scope**\n",
        "\n",
        "Although there are various unique namespaces defined, we may not be able to access all of them from every part of the program. The concept of scope comes into play.\n",
        "\n",
        "Scope is the portion of the program from where a namespace can be accessed directly without any prefix.\n",
        "\n",
        "At any given moment, there are at least three nested scopes.\n",
        "\n",
        "* Scope of the current function which has local names\n",
        "* Scope of the module which has global names\n",
        "* Outermost scope which has built-in names\n",
        "\n",
        "When a reference is made inside a function, the name is searched in the local namespace, then in the global namespace and finally in the built-in namespace.\n",
        "\n",
        "If there is a function inside another function, a new scope is nested inside the local scope."
      ]
    },
    {
      "cell_type": "markdown",
      "metadata": {
        "id": "NOb81Sgd95Ba",
        "colab_type": "text"
      },
      "source": [
        "**Example of Scope and Namespace in Python**\n"
      ]
    },
    {
      "cell_type": "code",
      "metadata": {
        "id": "ef1jZyfusnlh",
        "colab_type": "code",
        "colab": {}
      },
      "source": [
        "def outer_function():\n",
        "    b = 20\n",
        "    def inner_func():\n",
        "        c = 30\n",
        "\n",
        "a = 10"
      ],
      "execution_count": 0,
      "outputs": []
    },
    {
      "cell_type": "markdown",
      "metadata": {
        "id": "OAJZ9vkO-BQ2",
        "colab_type": "text"
      },
      "source": [
        "Here, the variable **a** is in the global namespace. Variable **b** is in the local namespace of outer_function() and **c** is in the nested local namespace of inner_function().\n",
        "\n",
        "When we are in **inner_function**(), **c** is local to us, **b** is nonlocal and a is global. We can read as well as assign new values to **c** but can only read **b** and a from **inner_function**().\n",
        "\n",
        "If we try to assign as a value to **b**, a new variable **b** is created in the local namespace which is different than the nonlocal **b**. Same thing happens when we assign a value to **a**.\n",
        "\n",
        "However, if we declare **a** as global, all the reference and assignment go to the global **a**. Similarly, if we want to rebind the variable **b**, it must be declared as nonlocal. The following example will further clarify this."
      ]
    },
    {
      "cell_type": "code",
      "metadata": {
        "id": "n6Jvb-8M9-29",
        "colab_type": "code",
        "colab": {
          "base_uri": "https://localhost:8080/",
          "height": 70
        },
        "outputId": "e668d1f4-95d4-42aa-9db0-6e0571425964"
      },
      "source": [
        "def outer_function():\n",
        "    a = 20\n",
        "\n",
        "    def inner_function():\n",
        "        a = 30\n",
        "        print('a =', a)\n",
        "\n",
        "    inner_function()\n",
        "    print('a =', a)\n",
        "\n",
        "\n",
        "a = 10\n",
        "outer_function()\n",
        "print('a =', a)"
      ],
      "execution_count": 2,
      "outputs": [
        {
          "output_type": "stream",
          "text": [
            "a = 30\n",
            "a = 20\n",
            "a = 10\n"
          ],
          "name": "stdout"
        }
      ]
    },
    {
      "cell_type": "markdown",
      "metadata": {
        "id": "HJ7zPskV-1Oh",
        "colab_type": "text"
      },
      "source": [
        "In this program, three different variables **a** are defined in separate namespaces and accessed accordingly. While in the following program,"
      ]
    },
    {
      "cell_type": "code",
      "metadata": {
        "id": "ziFgPC_k-oYn",
        "colab_type": "code",
        "colab": {
          "base_uri": "https://localhost:8080/",
          "height": 70
        },
        "outputId": "e297ddd9-4dc6-42f3-acdc-383603f2a23d"
      },
      "source": [
        "def outer_function():\n",
        "    global a\n",
        "    a = 20\n",
        "\n",
        "    def inner_function():\n",
        "        global a\n",
        "        a = 30\n",
        "        print('a =', a)\n",
        "\n",
        "    inner_function()\n",
        "    print('a =', a)\n",
        "\n",
        "\n",
        "a = 10\n",
        "outer_function()\n",
        "print('a =', a)\n"
      ],
      "execution_count": 3,
      "outputs": [
        {
          "output_type": "stream",
          "text": [
            "a = 30\n",
            "a = 30\n",
            "a = 30\n"
          ],
          "name": "stdout"
        }
      ]
    },
    {
      "cell_type": "markdown",
      "metadata": {
        "id": "Viz6eECe-_PU",
        "colab_type": "text"
      },
      "source": [
        "Here, all reference and assignment are to the global **a** due to the use of keyword **global**."
      ]
    },
    {
      "cell_type": "code",
      "metadata": {
        "id": "8hRFyRIT-9nq",
        "colab_type": "code",
        "colab": {}
      },
      "source": [
        ""
      ],
      "execution_count": 0,
      "outputs": []
    }
  ]
}