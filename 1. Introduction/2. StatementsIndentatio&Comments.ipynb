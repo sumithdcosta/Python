{
  "nbformat": 4,
  "nbformat_minor": 0,
  "metadata": {
    "colab": {
      "name": "Untitled4.ipynb",
      "provenance": [],
      "include_colab_link": true
    },
    "kernelspec": {
      "name": "python3",
      "display_name": "Python 3"
    }
  },
  "cells": [
    {
      "cell_type": "markdown",
      "metadata": {
        "id": "view-in-github",
        "colab_type": "text"
      },
      "source": [
        "<a href=\"https://colab.research.google.com/github/sumithdcosta/Python/blob/master/1.%20Introduction/2.%20StatementsIndentatio%26Comments.ipynb\" target=\"_parent\"><img src=\"https://colab.research.google.com/assets/colab-badge.svg\" alt=\"Open In Colab\"/></a>"
      ]
    },
    {
      "cell_type": "markdown",
      "metadata": {
        "id": "hD20QOI-QBjx",
        "colab_type": "text"
      },
      "source": [
        "1. Introduction/2. StatementsIndentatio&Comments.ipynb"
      ]
    },
    {
      "cell_type": "markdown",
      "metadata": {
        "id": "gmreSfM0QIPh",
        "colab_type": "text"
      },
      "source": [
        "**Python Statement**\n",
        "\n",
        "Instructions that a Python interpreter can execute are called **statements**. For example, a = 1 is an assignment statement. if statement, for statement, while statement etc. are other kinds of statements which will be discussed later."
      ]
    },
    {
      "cell_type": "code",
      "metadata": {
        "id": "zYnPC6OKQAjn",
        "colab_type": "code",
        "colab": {}
      },
      "source": [
        ""
      ],
      "execution_count": 0,
      "outputs": []
    },
    {
      "cell_type": "code",
      "metadata": {
        "id": "ZQxFq7M-QIDV",
        "colab_type": "code",
        "colab": {}
      },
      "source": [
        ""
      ],
      "execution_count": 0,
      "outputs": []
    }
  ]
}