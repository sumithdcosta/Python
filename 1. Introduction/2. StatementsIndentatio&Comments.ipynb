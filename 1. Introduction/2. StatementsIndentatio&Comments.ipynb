{
  "nbformat": 4,
  "nbformat_minor": 0,
  "metadata": {
    "colab": {
      "name": "Untitled4.ipynb",
      "provenance": [],
      "include_colab_link": true
    },
    "kernelspec": {
      "name": "python3",
      "display_name": "Python 3"
    }
  },
  "cells": [
    {
      "cell_type": "markdown",
      "metadata": {
        "id": "view-in-github",
        "colab_type": "text"
      },
      "source": [
        "<a href=\"https://colab.research.google.com/github/sumithdcosta/Python/blob/master/1.%20Introduction/2.%20StatementsIndentatio%26Comments.ipynb\" target=\"_parent\"><img src=\"https://colab.research.google.com/assets/colab-badge.svg\" alt=\"Open In Colab\"/></a>"
      ]
    },
    {
      "cell_type": "markdown",
      "metadata": {
        "id": "hD20QOI-QBjx",
        "colab_type": "text"
      },
      "source": [
        "1. Introduction/2. StatementsIndentatio&Comments.ipynb"
      ]
    },
    {
      "cell_type": "markdown",
      "metadata": {
        "id": "gmreSfM0QIPh",
        "colab_type": "text"
      },
      "source": [
        "**Python Statement**\n",
        "\n",
        "Instructions that a Python interpreter can execute are called **statements**. For example, a = 1 is an assignment statement. if statement, for statement, while statement etc. are other kinds of statements which will be discussed later."
      ]
    },
    {
      "cell_type": "markdown",
      "metadata": {
        "id": "VXi-wxzaVIaf",
        "colab_type": "text"
      },
      "source": [
        "**Multi-line statement**\n",
        "\n",
        "In Python, end of a statement is marked by a newline character. But we can make a statement extend over multiple lines with the line continuation character (\\). For example:"
      ]
    },
    {
      "cell_type": "code",
      "metadata": {
        "id": "Q__o1soiVN2q",
        "colab_type": "code",
        "colab": {}
      },
      "source": [
        "a = 1 + 2 + 3 + \\\n",
        "    4 + 5 + 6 + \\\n",
        "    7 + 8 + 9"
      ],
      "execution_count": 0,
      "outputs": []
    },
    {
      "cell_type": "markdown",
      "metadata": {
        "id": "blzVW5uyVRdj",
        "colab_type": "text"
      },
      "source": [
        "This is explicit line continuation. In Python, line continuation is implied inside parentheses ( ), brackets [ ] and braces { }. For instance, we can implement the above multi-line statement as"
      ]
    },
    {
      "cell_type": "code",
      "metadata": {
        "id": "sszBWGjdVO3K",
        "colab_type": "code",
        "colab": {}
      },
      "source": [
        "a = (1 + 2 + 3 +\n",
        "    4 + 5 + 6 +\n",
        "    7 + 8 + 9)"
      ],
      "execution_count": 0,
      "outputs": []
    },
    {
      "cell_type": "markdown",
      "metadata": {
        "id": "jUwiHxQvVZkG",
        "colab_type": "text"
      },
      "source": [
        "Here, the surrounding parentheses ( ) do the line continuation implicitly. Same is the case with [ ] and { }. For example:\n"
      ]
    },
    {
      "cell_type": "code",
      "metadata": {
        "id": "aiJfSAr4VVWH",
        "colab_type": "code",
        "colab": {}
      },
      "source": [
        "colors = ['red',\n",
        "          'blue',\n",
        "          'green']"
      ],
      "execution_count": 0,
      "outputs": []
    },
    {
      "cell_type": "markdown",
      "metadata": {
        "id": "KRBmFA3oVhqk",
        "colab_type": "text"
      },
      "source": [
        "We could also put multiple statements in a single line using semicolons, as follows"
      ]
    },
    {
      "cell_type": "code",
      "metadata": {
        "id": "PCoQv9lzVfMq",
        "colab_type": "code",
        "colab": {}
      },
      "source": [
        "a = 1; b = 2; c = 3"
      ],
      "execution_count": 0,
      "outputs": []
    },
    {
      "cell_type": "markdown",
      "metadata": {
        "id": "AHQPn2aVGvMm",
        "colab_type": "text"
      },
      "source": [
        "**Python Indentation**\n",
        "\n",
        "Most of the programming languages like C, C++, Java use braces { } to define a block of code. Python uses indentation.\n",
        "\n",
        "A code block (body of a function, loop etc.) starts with indentation and ends with the first unindented line. The amount of indentation is up to you, but it must be consistent throughout that block.\n",
        "\n",
        "Generally four whitespaces are used for indentation and is preferred over tabs. Here is an example."
      ]
    },
    {
      "cell_type": "code",
      "metadata": {
        "id": "J8n_5kazVjoi",
        "colab_type": "code",
        "colab": {}
      },
      "source": [
        "for i in range(1,11):\n",
        "    print(i)\n",
        "    if i == 5:\n",
        "        break"
      ],
      "execution_count": 0,
      "outputs": []
    },
    {
      "cell_type": "markdown",
      "metadata": {
        "id": "d507UNRmHBlg",
        "colab_type": "text"
      },
      "source": [
        "The enforcement of indentation in Python makes the code look neat and clean. This results into Python programs that look similar and consistent.\n",
        "\n",
        "Indentation can be ignored in line continuation. But it's a good idea to always indent. It makes the code more readable. For example:\n"
      ]
    },
    {
      "cell_type": "code",
      "metadata": {
        "id": "3oXDJAbDHKGl",
        "colab_type": "code",
        "colab": {}
      },
      "source": [
        "if True:\n",
        "    print('Hello')\n",
        "    a = 5"
      ],
      "execution_count": 0,
      "outputs": []
    },
    {
      "cell_type": "markdown",
      "metadata": {
        "id": "v0vTXt2AHNn3",
        "colab_type": "text"
      },
      "source": [
        "and"
      ]
    },
    {
      "cell_type": "code",
      "metadata": {
        "id": "aGViNyT1HPDK",
        "colab_type": "code",
        "colab": {}
      },
      "source": [
        "if True: print('Hello'); a = 5"
      ],
      "execution_count": 0,
      "outputs": []
    },
    {
      "cell_type": "markdown",
      "metadata": {
        "id": "MdX3JkYRHSAD",
        "colab_type": "text"
      },
      "source": [
        "both are valid and do the same thing. But the former style is clearer.\n",
        "\n",
        "Incorrect indentation will result into **IndentationError**."
      ]
    },
    {
      "cell_type": "markdown",
      "metadata": {
        "id": "NtYC_GfUHYHM",
        "colab_type": "text"
      },
      "source": [
        "**Python Comments**\n",
        "\n",
        "Comments are very important while writing a program. It describes what's going on inside a program so that a person looking at the source code does not have a hard time figuring it out. You might forget the key details of the program you just wrote in a month's time. So taking time to explain these concepts in form of comments is always fruitful.\n",
        "\n",
        "In Python, we use the hash (#) symbol to start writing a comment.\n",
        "\n",
        "It extends up to the newline character. Comments are for programmers for better understanding of a program. Python Interpreter ignores comment. "
      ]
    },
    {
      "cell_type": "code",
      "metadata": {
        "id": "YyWKiaabHrzv",
        "colab_type": "code",
        "colab": {}
      },
      "source": [
        "#This is a comment\n",
        "#print out Hello\n",
        "print('Hello')"
      ],
      "execution_count": 0,
      "outputs": []
    },
    {
      "cell_type": "markdown",
      "metadata": {
        "id": "LZU2SRBHHt3W",
        "colab_type": "text"
      },
      "source": [
        "\n",
        "**Multi-line comments**\n",
        "\n",
        "If we have comments that extend multiple lines, one way of doing it is to use hash (#) in the beginning of each line. For example:\n"
      ]
    },
    {
      "cell_type": "code",
      "metadata": {
        "id": "0SQpOimGHyk6",
        "colab_type": "code",
        "colab": {}
      },
      "source": [
        "#This is a long comment\n",
        "#and it extends\n",
        "#to multiple lines"
      ],
      "execution_count": 0,
      "outputs": []
    },
    {
      "cell_type": "markdown",
      "metadata": {
        "id": "zBugZBEyHzeH",
        "colab_type": "text"
      },
      "source": [
        "Another way of doing this is to use triple quotes, either ''' or \"\"\".\n",
        "\n",
        "These triple quotes are generally used for multi-line strings. But they can be used as multi-line comment as well. Unless they are not docstrings, they do not generate any extra code."
      ]
    },
    {
      "cell_type": "code",
      "metadata": {
        "id": "Ue6BAM6BH6h_",
        "colab_type": "code",
        "colab": {}
      },
      "source": [
        "\"\"\"This is also a\n",
        "perfect example of\n",
        "multi-line comments\"\"\""
      ],
      "execution_count": 0,
      "outputs": []
    },
    {
      "cell_type": "markdown",
      "metadata": {
        "id": "yw1LCxSuH8-y",
        "colab_type": "text"
      },
      "source": [
        "**Docstring in Python**\n",
        "\n",
        "Docstring is short for documentation string.\n",
        "\n",
        "It is a string that occurs as the first statement in a module, function, class, or method definition. We must write what a function/class does in the docstring.\n",
        "\n",
        "Triple quotes are used while writing docstrings. For example:"
      ]
    },
    {
      "cell_type": "code",
      "metadata": {
        "id": "qnXv7Kx_IFg_",
        "colab_type": "code",
        "colab": {}
      },
      "source": [
        "def double(num):\n",
        "    \"\"\"Function to double the value\"\"\"\n",
        "    return 2*num"
      ],
      "execution_count": 0,
      "outputs": []
    },
    {
      "cell_type": "markdown",
      "metadata": {
        "id": "Kc_1fftEIIW6",
        "colab_type": "text"
      },
      "source": [
        "Docstring is available to us as the attribute \\_\\_**doc**\\_\\_ of the function. Issue the following code in shell once you run the above program."
      ]
    },
    {
      "cell_type": "code",
      "metadata": {
        "id": "hbSA21G5IPyv",
        "colab_type": "code",
        "colab": {
          "base_uri": "https://localhost:8080/",
          "height": 34
        },
        "outputId": "2aa0cdd8-f139-476b-e404-7a44e8068097"
      },
      "source": [
        "print(double.__doc__)"
      ],
      "execution_count": 4,
      "outputs": [
        {
          "output_type": "stream",
          "text": [
            "Function to double the value\n"
          ],
          "name": "stdout"
        }
      ]
    },
    {
      "cell_type": "code",
      "metadata": {
        "id": "TeCx0PXDIQva",
        "colab_type": "code",
        "colab": {}
      },
      "source": [
        ""
      ],
      "execution_count": 0,
      "outputs": []
    }
  ]
}