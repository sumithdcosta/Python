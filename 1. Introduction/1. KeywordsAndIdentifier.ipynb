{
  "nbformat": 4,
  "nbformat_minor": 0,
  "metadata": {
    "colab": {
      "name": "Untitled1.ipynb",
      "provenance": [],
      "include_colab_link": true
    },
    "kernelspec": {
      "name": "python3",
      "display_name": "Python 3"
    }
  },
  "cells": [
    {
      "cell_type": "markdown",
      "metadata": {
        "id": "view-in-github",
        "colab_type": "text"
      },
      "source": [
        "<a href=\"https://colab.research.google.com/github/sumithdcosta/Python/blob/master/1.%20Introduction/1.%20KeywordsAndIdentifier.ipynb\" target=\"_parent\"><img src=\"https://colab.research.google.com/assets/colab-badge.svg\" alt=\"Open In Colab\"/></a>"
      ]
    },
    {
      "cell_type": "markdown",
      "metadata": {
        "id": "xXBtKsSj9lVr",
        "colab_type": "text"
      },
      "source": [
        "# Keywords and Identifier\n",
        "\n",
        "\n",
        "**Python Keywords**\n",
        "\n",
        "Keywords are the reserved words in Python.\n",
        "\n",
        "We cannot use a keyword as variable name, function name or any other identifier. They are used to define the syntax and structure of the Python language.\n",
        "\n",
        "In Python, keywords are case sensitive.\n",
        "\n",
        "There are 33 keywords in Python 3.3. This number can vary slightly in course of time.\n",
        "\n",
        "All the keywords except True, False and None are in lowercase and they must be written as it is. The list of all the keywords are given below.\n",
        "\n",
        "***Keywords in Python programming language***\n",
        "\n",
        "\n",
        "**FALSE, None, TRUE, and, as, assert, break, class, continue, def, del, elif, else, except, finally, for, from, global, if, import, in, is, lambda, nonlocal, not, or, pass, raise, return, try, while, with, yield**\n",
        "\n",
        "Looking at all the keywords at once and trying to figure out what they mean might be overwhelming.\n",
        "\n",
        "\n",
        "**Python Identifiers**\n",
        "\n",
        "Identifier is the name given to entities like class, functions, variables etc. in Python. It helps differentiating one entity from another.\n",
        "\n",
        "**Rules for writing identifiers**\n",
        "\n",
        "1.  Identifiers can be a combination of letters in lowercase (a to z) or uppercase (A to Z) or digits (0 to 9) or an underscore (_). Names like myClass, var_1 and print_this_to_screen, all are valid example.\n",
        "2. An identifier cannot start with a digit. 1variable is invalid, but variable1 is perfectly fine.\n",
        "3. Keywords cannot be used as identifiers."
      ]
    },
    {
      "cell_type": "code",
      "metadata": {
        "id": "TC_Dfj1SxLEs",
        "colab_type": "code",
        "colab": {
          "base_uri": "https://localhost:8080/",
          "height": 132
        },
        "outputId": "399e8e2e-337f-43dc-c241-4826341f070d"
      },
      "source": [
        "global = 1"
      ],
      "execution_count": 1,
      "outputs": [
        {
          "output_type": "error",
          "ename": "SyntaxError",
          "evalue": "ignored",
          "traceback": [
            "\u001b[0;36m  File \u001b[0;32m\"<ipython-input-1-3d177345d6e4>\"\u001b[0;36m, line \u001b[0;32m1\u001b[0m\n\u001b[0;31m    global = 1\u001b[0m\n\u001b[0m           ^\u001b[0m\n\u001b[0;31mSyntaxError\u001b[0m\u001b[0;31m:\u001b[0m invalid syntax\n"
          ]
        }
      ]
    },
    {
      "cell_type": "markdown",
      "metadata": {
        "id": "YT7-r8ljz_Cn",
        "colab_type": "text"
      },
      "source": [
        "4. We cannot use special symbols like !, @, #, $, % etc. in our identifier."
      ]
    },
    {
      "cell_type": "code",
      "metadata": {
        "id": "iGGLLshcxPQJ",
        "colab_type": "code",
        "colab": {
          "base_uri": "https://localhost:8080/",
          "height": 132
        },
        "outputId": "d0fb6dca-7b34-4b0a-cf67-21771b45303c"
      },
      "source": [
        "a@ = 0"
      ],
      "execution_count": 2,
      "outputs": [
        {
          "output_type": "error",
          "ename": "SyntaxError",
          "evalue": "ignored",
          "traceback": [
            "\u001b[0;36m  File \u001b[0;32m\"<ipython-input-2-4d4a0e714c73>\"\u001b[0;36m, line \u001b[0;32m1\u001b[0m\n\u001b[0;31m    a@ = 0\u001b[0m\n\u001b[0m       ^\u001b[0m\n\u001b[0;31mSyntaxError\u001b[0m\u001b[0;31m:\u001b[0m invalid syntax\n"
          ]
        }
      ]
    },
    {
      "cell_type": "code",
      "metadata": {
        "id": "37OCLqYD1ZMT",
        "colab_type": "code",
        "colab": {}
      },
      "source": [
        ""
      ],
      "execution_count": 0,
      "outputs": []
    },
    {
      "cell_type": "markdown",
      "metadata": {
        "id": "lDJhuuev1DHJ",
        "colab_type": "text"
      },
      "source": [
        "5. Identifier can be of any length."
      ]
    },
    {
      "cell_type": "markdown",
      "metadata": {
        "id": "r551K7Vc1Hy3",
        "colab_type": "text"
      },
      "source": [
        "**Things to care about**\n",
        "\n",
        "Python is a case-sensitive language. This means, Variable and variable are not the same. Always name identifiers that make sense.\n",
        "\n",
        "While, c = 10 is valid. Writing count = 10 would make more sense and it would be easier to figure out what it does even when you look at your code after a long gap.\n",
        "\n",
        "Multiple words can be separated using an underscore, this_is_a_long_variable.\n",
        "\n",
        "We can also use camel-case style of writing, i.e., capitalize every first letter of the word except the initial word without any spaces. For example: camelCaseExample\n"
      ]
    },
    {
      "cell_type": "markdown",
      "metadata": {
        "id": "ZUM-dAw_x6cZ",
        "colab_type": "text"
      },
      "source": [
        "**List of Keywords in Python**"
      ]
    },
    {
      "cell_type": "code",
      "metadata": {
        "id": "2aALiONje_Vg",
        "colab_type": "code",
        "colab": {
          "base_uri": "https://localhost:8080/",
          "height": 54
        },
        "outputId": "c4095a0a-a01f-4cef-8cf0-2ada44817dc1"
      },
      "source": [
        "import keyword\n",
        "print(keyword.kwlist)"
      ],
      "execution_count": 2,
      "outputs": [
        {
          "output_type": "stream",
          "text": [
            "['False', 'None', 'True', 'and', 'as', 'assert', 'break', 'class', 'continue', 'def', 'del', 'elif', 'else', 'except', 'finally', 'for', 'from', 'global', 'if', 'import', 'in', 'is', 'lambda', 'nonlocal', 'not', 'or', 'pass', 'raise', 'return', 'try', 'while', 'with', 'yield']\n"
          ],
          "name": "stdout"
        }
      ]
    },
    {
      "cell_type": "markdown",
      "metadata": {
        "id": "Sq2KxSWmfNzM",
        "colab_type": "text"
      },
      "source": [
        "**Description of Keywords in Python with examples**\n",
        "**True, False**\n",
        "\n",
        "True and False are truth values in Python. They are the results of comparison operations or logical (Boolean) operations in Python. For example:"
      ]
    },
    {
      "cell_type": "code",
      "metadata": {
        "id": "4Kn-eXfcmJxx",
        "colab_type": "code",
        "colab": {
          "base_uri": "https://localhost:8080/",
          "height": 34
        },
        "outputId": "0fa89b25-be01-46e9-f723-c685b2f0a6a2"
      },
      "source": [
        "1 == 1"
      ],
      "execution_count": 3,
      "outputs": [
        {
          "output_type": "execute_result",
          "data": {
            "text/plain": [
              "True"
            ]
          },
          "metadata": {
            "tags": []
          },
          "execution_count": 3
        }
      ]
    },
    {
      "cell_type": "code",
      "metadata": {
        "id": "XsvCGO2kmLUp",
        "colab_type": "code",
        "colab": {
          "base_uri": "https://localhost:8080/",
          "height": 34
        },
        "outputId": "213f6c55-dd4b-46a3-b7d6-534cadfa83a9"
      },
      "source": [
        "5 > 3"
      ],
      "execution_count": 4,
      "outputs": [
        {
          "output_type": "execute_result",
          "data": {
            "text/plain": [
              "True"
            ]
          },
          "metadata": {
            "tags": []
          },
          "execution_count": 4
        }
      ]
    },
    {
      "cell_type": "code",
      "metadata": {
        "id": "cAUNk1zTmMjG",
        "colab_type": "code",
        "colab": {
          "base_uri": "https://localhost:8080/",
          "height": 34
        },
        "outputId": "4fc67fb9-8201-42c3-a1fe-ecc6fdeb992f"
      },
      "source": [
        "True or False"
      ],
      "execution_count": 5,
      "outputs": [
        {
          "output_type": "execute_result",
          "data": {
            "text/plain": [
              "True"
            ]
          },
          "metadata": {
            "tags": []
          },
          "execution_count": 5
        }
      ]
    },
    {
      "cell_type": "code",
      "metadata": {
        "id": "kfpfmjyimO2u",
        "colab_type": "code",
        "colab": {
          "base_uri": "https://localhost:8080/",
          "height": 34
        },
        "outputId": "8e9490ad-4864-4fb7-8789-94a64c600a59"
      },
      "source": [
        "10 < 1"
      ],
      "execution_count": 6,
      "outputs": [
        {
          "output_type": "execute_result",
          "data": {
            "text/plain": [
              "False"
            ]
          },
          "metadata": {
            "tags": []
          },
          "execution_count": 6
        }
      ]
    },
    {
      "cell_type": "code",
      "metadata": {
        "id": "CBwrVvcMmQ4O",
        "colab_type": "code",
        "colab": {
          "base_uri": "https://localhost:8080/",
          "height": 34
        },
        "outputId": "0451433f-94df-4609-de3e-d8a6acc51445"
      },
      "source": [
        "3 > 7"
      ],
      "execution_count": 7,
      "outputs": [
        {
          "output_type": "execute_result",
          "data": {
            "text/plain": [
              "False"
            ]
          },
          "metadata": {
            "tags": []
          },
          "execution_count": 7
        }
      ]
    },
    {
      "cell_type": "code",
      "metadata": {
        "id": "1S2kdqP7mSB2",
        "colab_type": "code",
        "colab": {
          "base_uri": "https://localhost:8080/",
          "height": 34
        },
        "outputId": "94de4c51-4682-4396-ed3d-9df7df364459"
      },
      "source": [
        "True and False"
      ],
      "execution_count": 8,
      "outputs": [
        {
          "output_type": "execute_result",
          "data": {
            "text/plain": [
              "False"
            ]
          },
          "metadata": {
            "tags": []
          },
          "execution_count": 8
        }
      ]
    },
    {
      "cell_type": "markdown",
      "metadata": {
        "id": "lT0JZIUXmWbP",
        "colab_type": "text"
      },
      "source": [
        "Here we can see that the first three statements are true so the interpreter returns True and returns False for the remaining three statements. True and False in python is same as 1 and 0. This can be justified with the following example:"
      ]
    },
    {
      "cell_type": "code",
      "metadata": {
        "id": "FnCo6aVcmTjO",
        "colab_type": "code",
        "colab": {
          "base_uri": "https://localhost:8080/",
          "height": 34
        },
        "outputId": "97c02a56-1f90-4dd0-f6a2-26c2c57163c5"
      },
      "source": [
        "True == 1"
      ],
      "execution_count": 9,
      "outputs": [
        {
          "output_type": "execute_result",
          "data": {
            "text/plain": [
              "True"
            ]
          },
          "metadata": {
            "tags": []
          },
          "execution_count": 9
        }
      ]
    },
    {
      "cell_type": "code",
      "metadata": {
        "id": "a0rV7odNmcDO",
        "colab_type": "code",
        "colab": {
          "base_uri": "https://localhost:8080/",
          "height": 34
        },
        "outputId": "beb922dd-8ccc-4005-9adc-6cdf4d6e8b48"
      },
      "source": [
        "False == 0"
      ],
      "execution_count": 10,
      "outputs": [
        {
          "output_type": "execute_result",
          "data": {
            "text/plain": [
              "True"
            ]
          },
          "metadata": {
            "tags": []
          },
          "execution_count": 10
        }
      ]
    },
    {
      "cell_type": "code",
      "metadata": {
        "id": "u-UzFzCAmeBm",
        "colab_type": "code",
        "colab": {
          "base_uri": "https://localhost:8080/",
          "height": 34
        },
        "outputId": "604cd8ff-9c8d-4569-cb5d-8d371585648d"
      },
      "source": [
        "True + True"
      ],
      "execution_count": 11,
      "outputs": [
        {
          "output_type": "execute_result",
          "data": {
            "text/plain": [
              "2"
            ]
          },
          "metadata": {
            "tags": []
          },
          "execution_count": 11
        }
      ]
    },
    {
      "cell_type": "markdown",
      "metadata": {
        "id": "ngQErU_UoAox",
        "colab_type": "text"
      },
      "source": [
        "**None**\n",
        "\n",
        "None is a special constant in Python that represents the absence of a value or a null value.\n",
        "\n",
        "It is an object of its own datatype, the NoneType. We cannot create multiple None objects but can assign it to variables. These variables will be equal to one another.\n",
        "\n",
        "We must take special care that None does not imply False, 0 or any empty list, dictionary, string etc. For example:\n"
      ]
    },
    {
      "cell_type": "code",
      "metadata": {
        "id": "NN5H-JXSpTiP",
        "colab_type": "code",
        "colab": {
          "base_uri": "https://localhost:8080/",
          "height": 34
        },
        "outputId": "f40ad820-f6e2-4672-b48a-9c12c625138b"
      },
      "source": [
        "None == 0"
      ],
      "execution_count": 12,
      "outputs": [
        {
          "output_type": "execute_result",
          "data": {
            "text/plain": [
              "False"
            ]
          },
          "metadata": {
            "tags": []
          },
          "execution_count": 12
        }
      ]
    },
    {
      "cell_type": "code",
      "metadata": {
        "id": "Nyq9c-ZjpT--",
        "colab_type": "code",
        "colab": {
          "base_uri": "https://localhost:8080/",
          "height": 34
        },
        "outputId": "2086ce11-8f2c-4567-f207-d8b46e897a99"
      },
      "source": [
        "None == []"
      ],
      "execution_count": 13,
      "outputs": [
        {
          "output_type": "execute_result",
          "data": {
            "text/plain": [
              "False"
            ]
          },
          "metadata": {
            "tags": []
          },
          "execution_count": 13
        }
      ]
    },
    {
      "cell_type": "code",
      "metadata": {
        "id": "5h-5gilMpWpu",
        "colab_type": "code",
        "colab": {
          "base_uri": "https://localhost:8080/",
          "height": 34
        },
        "outputId": "675f11a0-f9cc-4952-d1d0-21ad7f25f6b7"
      },
      "source": [
        "None == False"
      ],
      "execution_count": 14,
      "outputs": [
        {
          "output_type": "execute_result",
          "data": {
            "text/plain": [
              "False"
            ]
          },
          "metadata": {
            "tags": []
          },
          "execution_count": 14
        }
      ]
    },
    {
      "cell_type": "code",
      "metadata": {
        "id": "dm1ORKlUpY52",
        "colab_type": "code",
        "colab": {
          "base_uri": "https://localhost:8080/",
          "height": 34
        },
        "outputId": "31008abd-ae65-4b0e-b6d9-bd674b6b2e77"
      },
      "source": [
        "x = None\n",
        "y = None\n",
        "x == y"
      ],
      "execution_count": 15,
      "outputs": [
        {
          "output_type": "execute_result",
          "data": {
            "text/plain": [
              "True"
            ]
          },
          "metadata": {
            "tags": []
          },
          "execution_count": 15
        }
      ]
    },
    {
      "cell_type": "markdown",
      "metadata": {
        "id": "TL9m0YCPpnLH",
        "colab_type": "text"
      },
      "source": [
        "Void functions that do not return anything will return a None object automatically. None is also returned by functions in which the program flow does not encounter a return statement. For example:"
      ]
    },
    {
      "cell_type": "code",
      "metadata": {
        "id": "iqRGeFaJptYJ",
        "colab_type": "code",
        "colab": {
          "base_uri": "https://localhost:8080/",
          "height": 34
        },
        "outputId": "1d500b8b-d434-4397-d587-167f9a050fdb"
      },
      "source": [
        "def a_void_function():\n",
        "    a = 1\n",
        "    b = 2\n",
        "    c = a + b\n",
        "\n",
        "x = a_void_function()\n",
        "print(x)"
      ],
      "execution_count": 16,
      "outputs": [
        {
          "output_type": "stream",
          "text": [
            "None\n"
          ],
          "name": "stdout"
        }
      ]
    },
    {
      "cell_type": "markdown",
      "metadata": {
        "id": "Nmfma1kwp_Vl",
        "colab_type": "text"
      },
      "source": [
        "This program has a function that does not return a value, although it does some operations inside. So when we print x, we get None which is returned automatically (implicitly). Similarly, here is another example:"
      ]
    },
    {
      "cell_type": "code",
      "metadata": {
        "id": "-hTgVI-nqJwp",
        "colab_type": "code",
        "colab": {
          "base_uri": "https://localhost:8080/",
          "height": 34
        },
        "outputId": "6f65f46c-119f-4b6c-db9b-4630ed01a9cb"
      },
      "source": [
        "def improper_return_function(a):\n",
        "    if (a % 2) == 0:\n",
        "        return True\n",
        "\n",
        "x = improper_return_function(3)\n",
        "print(x)"
      ],
      "execution_count": 17,
      "outputs": [
        {
          "output_type": "stream",
          "text": [
            "None\n"
          ],
          "name": "stdout"
        }
      ]
    },
    {
      "cell_type": "code",
      "metadata": {
        "id": "mhkaKqJ2qOjV",
        "colab_type": "code",
        "colab": {
          "base_uri": "https://localhost:8080/",
          "height": 34
        },
        "outputId": "f59e5640-1b4f-4753-d614-c950629f8f75"
      },
      "source": [
        "x = improper_return_function(2)\n",
        "print(x)"
      ],
      "execution_count": 18,
      "outputs": [
        {
          "output_type": "stream",
          "text": [
            "True\n"
          ],
          "name": "stdout"
        }
      ]
    },
    {
      "cell_type": "markdown",
      "metadata": {
        "id": "Z0zhlWNQqXUr",
        "colab_type": "text"
      },
      "source": [
        "Although this function has a **return** statement, it is not reached in every case. The function will return **True** only when the input is even.\n",
        "\n",
        "If we give the function an odd number, **None** is returned implicitly."
      ]
    },
    {
      "cell_type": "markdown",
      "metadata": {
        "id": "YJBNni3DqoJC",
        "colab_type": "text"
      },
      "source": [
        "**and, or , not**\n",
        "\n",
        "**and**, **or**, **not** are the logical operators in Python. **and** will result into **True** only if both the operands are **True**. The truth table for **and** is given below:\n",
        "\n",
        "Truth table for **and**\n"
      ]
    },
    {
      "cell_type": "code",
      "metadata": {
        "id": "zYv41Ms4qUF1",
        "colab_type": "code",
        "colab": {
          "base_uri": "https://localhost:8080/",
          "height": 34
        },
        "outputId": "696b3f5e-4366-40ed-ec9a-d02f26c21148"
      },
      "source": [
        "True and True"
      ],
      "execution_count": 19,
      "outputs": [
        {
          "output_type": "execute_result",
          "data": {
            "text/plain": [
              "True"
            ]
          },
          "metadata": {
            "tags": []
          },
          "execution_count": 19
        }
      ]
    },
    {
      "cell_type": "code",
      "metadata": {
        "id": "dIqHmqcfrCq3",
        "colab_type": "code",
        "colab": {
          "base_uri": "https://localhost:8080/",
          "height": 34
        },
        "outputId": "686a634f-8547-43b5-dd3d-6b6e047339f1"
      },
      "source": [
        "True and False"
      ],
      "execution_count": 20,
      "outputs": [
        {
          "output_type": "execute_result",
          "data": {
            "text/plain": [
              "False"
            ]
          },
          "metadata": {
            "tags": []
          },
          "execution_count": 20
        }
      ]
    },
    {
      "cell_type": "code",
      "metadata": {
        "id": "s8dxA52orG6v",
        "colab_type": "code",
        "colab": {
          "base_uri": "https://localhost:8080/",
          "height": 34
        },
        "outputId": "17f13734-4368-432b-e15e-cfd32ef63265"
      },
      "source": [
        "False and False"
      ],
      "execution_count": 21,
      "outputs": [
        {
          "output_type": "execute_result",
          "data": {
            "text/plain": [
              "False"
            ]
          },
          "metadata": {
            "tags": []
          },
          "execution_count": 21
        }
      ]
    },
    {
      "cell_type": "markdown",
      "metadata": {
        "id": "SztlEf90rMjO",
        "colab_type": "text"
      },
      "source": [
        "or will result into True if any of the operands is True. The truth table for or is given below:\n",
        "\n",
        "Truth table for **or**"
      ]
    },
    {
      "cell_type": "code",
      "metadata": {
        "id": "AL8zBR_OrIvN",
        "colab_type": "code",
        "colab": {
          "base_uri": "https://localhost:8080/",
          "height": 34
        },
        "outputId": "b5e06d92-e975-4ce3-b84d-2bcfa344f4cf"
      },
      "source": [
        "True or True"
      ],
      "execution_count": 22,
      "outputs": [
        {
          "output_type": "execute_result",
          "data": {
            "text/plain": [
              "True"
            ]
          },
          "metadata": {
            "tags": []
          },
          "execution_count": 22
        }
      ]
    },
    {
      "cell_type": "code",
      "metadata": {
        "id": "usqM88AArVIB",
        "colab_type": "code",
        "colab": {
          "base_uri": "https://localhost:8080/",
          "height": 34
        },
        "outputId": "5a5089af-fe0a-448d-a499-0b191c4ef01a"
      },
      "source": [
        "True or False"
      ],
      "execution_count": 23,
      "outputs": [
        {
          "output_type": "execute_result",
          "data": {
            "text/plain": [
              "True"
            ]
          },
          "metadata": {
            "tags": []
          },
          "execution_count": 23
        }
      ]
    },
    {
      "cell_type": "code",
      "metadata": {
        "id": "hOZr8KDOrX5N",
        "colab_type": "code",
        "colab": {
          "base_uri": "https://localhost:8080/",
          "height": 34
        },
        "outputId": "59aa4b26-4216-4ead-f862-46a82160cd1c"
      },
      "source": [
        "False or False"
      ],
      "execution_count": 24,
      "outputs": [
        {
          "output_type": "execute_result",
          "data": {
            "text/plain": [
              "False"
            ]
          },
          "metadata": {
            "tags": []
          },
          "execution_count": 24
        }
      ]
    },
    {
      "cell_type": "markdown",
      "metadata": {
        "id": "pWXMwDKirdew",
        "colab_type": "text"
      },
      "source": [
        "**as**\n",
        "\n",
        "**as** is used to create an alias while importing a module. It means giving a different name (user-defined) to a module while importing it.\n",
        "\n",
        "As for example, Python has a standard module called **math**. Suppose we want to calculate what cosine pi is using an alias. We can do it as follows using as:"
      ]
    },
    {
      "cell_type": "code",
      "metadata": {
        "id": "RBP05FmHrZUN",
        "colab_type": "code",
        "colab": {
          "base_uri": "https://localhost:8080/",
          "height": 34
        },
        "outputId": "90ab23ee-33cc-4b86-de20-129496d746d2"
      },
      "source": [
        "import math as myAlias\n",
        "myAlias.cos(myAlias.pi)"
      ],
      "execution_count": 27,
      "outputs": [
        {
          "output_type": "execute_result",
          "data": {
            "text/plain": [
              "-1.0"
            ]
          },
          "metadata": {
            "tags": []
          },
          "execution_count": 27
        }
      ]
    },
    {
      "cell_type": "markdown",
      "metadata": {
        "id": "vGUSIDwir0pf",
        "colab_type": "text"
      },
      "source": [
        "Here we imported the **math** module by giving it the name **myAlias**. Now we can refer to the **math** module with this name. Using this name we calculated cos(pi) and got -1.0 as the answer."
      ]
    },
    {
      "cell_type": "markdown",
      "metadata": {
        "id": "uVPqIN0Nr-Qk",
        "colab_type": "text"
      },
      "source": [
        "**assert**\n",
        "\n",
        "**assert** is used for debugging purposes.\n",
        "\n",
        "While programming, sometimes we wish to know the internal state or check if our assumptions are true. **assert** helps us do this and find bugs more conveniently. **assert** is followed by a condition.\n",
        "\n",
        "If the condition is true, nothing happens. But if the condition is false, **AssertionError** is raised. For example:"
      ]
    },
    {
      "cell_type": "code",
      "metadata": {
        "id": "xAhzALn0rdC2",
        "colab_type": "code",
        "colab": {}
      },
      "source": [
        "a = 4\n",
        "assert a < 5"
      ],
      "execution_count": 0,
      "outputs": []
    },
    {
      "cell_type": "code",
      "metadata": {
        "id": "oYJMLvvAsPjm",
        "colab_type": "code",
        "colab": {
          "base_uri": "https://localhost:8080/",
          "height": 167
        },
        "outputId": "a5564a03-e228-4e4e-c774-830c3529c50b"
      },
      "source": [
        "assert a > 5"
      ],
      "execution_count": 29,
      "outputs": [
        {
          "output_type": "error",
          "ename": "AssertionError",
          "evalue": "ignored",
          "traceback": [
            "\u001b[0;31m---------------------------------------------------------------------------\u001b[0m",
            "\u001b[0;31mAssertionError\u001b[0m                            Traceback (most recent call last)",
            "\u001b[0;32m<ipython-input-29-87acdaf14735>\u001b[0m in \u001b[0;36m<module>\u001b[0;34m()\u001b[0m\n\u001b[0;32m----> 1\u001b[0;31m \u001b[0;32massert\u001b[0m \u001b[0ma\u001b[0m \u001b[0;34m>\u001b[0m \u001b[0;36m5\u001b[0m\u001b[0;34m\u001b[0m\u001b[0;34m\u001b[0m\u001b[0m\n\u001b[0m",
            "\u001b[0;31mAssertionError\u001b[0m: "
          ]
        }
      ]
    },
    {
      "cell_type": "markdown",
      "metadata": {
        "id": "UYZ4pSRBsXKr",
        "colab_type": "text"
      },
      "source": [
        "For our better understanding, we can also provide a message to be printed with the **AssertionError**"
      ]
    },
    {
      "cell_type": "code",
      "metadata": {
        "id": "8PPRKE0gsTm1",
        "colab_type": "code",
        "colab": {
          "base_uri": "https://localhost:8080/",
          "height": 185
        },
        "outputId": "38cac9c3-97c4-4c47-f26c-7e048ff7def4"
      },
      "source": [
        "a = 4 \n",
        "assert a > 5, \"The value is to small\""
      ],
      "execution_count": 30,
      "outputs": [
        {
          "output_type": "error",
          "ename": "AssertionError",
          "evalue": "ignored",
          "traceback": [
            "\u001b[0;31m---------------------------------------------------------------------------\u001b[0m",
            "\u001b[0;31mAssertionError\u001b[0m                            Traceback (most recent call last)",
            "\u001b[0;32m<ipython-input-30-1c121ffd4f76>\u001b[0m in \u001b[0;36m<module>\u001b[0;34m()\u001b[0m\n\u001b[1;32m      1\u001b[0m \u001b[0ma\u001b[0m \u001b[0;34m=\u001b[0m \u001b[0;36m4\u001b[0m\u001b[0;34m\u001b[0m\u001b[0;34m\u001b[0m\u001b[0m\n\u001b[0;32m----> 2\u001b[0;31m \u001b[0;32massert\u001b[0m \u001b[0ma\u001b[0m \u001b[0;34m>\u001b[0m \u001b[0;36m5\u001b[0m\u001b[0;34m,\u001b[0m \u001b[0;34m\"The value is to small\"\u001b[0m\u001b[0;34m\u001b[0m\u001b[0;34m\u001b[0m\u001b[0m\n\u001b[0m",
            "\u001b[0;31mAssertionError\u001b[0m: The value is to small"
          ]
        }
      ]
    },
    {
      "cell_type": "markdown",
      "metadata": {
        "id": "gJH9KwZdst8h",
        "colab_type": "text"
      },
      "source": [
        "At this point we can note that,\n",
        "\n",
        "**assert** condition, message\n",
        "\n",
        "is equivalent to\n",
        "\n",
        "\n",
        "```\n",
        "if not condition:\n",
        "    raise AssertionError(message)\n",
        "```\n",
        "\n"
      ]
    },
    {
      "cell_type": "markdown",
      "metadata": {
        "id": "QzZgb5BnthAN",
        "colab_type": "text"
      },
      "source": [
        "**break, continue**\n",
        "\n",
        "**break** and **continue** are used inside **for** and **while** loops to alter their normal behavior.\n",
        "\n",
        "**break** will end the smallest loop it is in and control flows to the statement immediately below the loop. **continue** causes to end the current iteration of the loop, but not the whole loop.\n",
        "\n",
        "This can be illustrated with the following two examples:"
      ]
    },
    {
      "cell_type": "code",
      "metadata": {
        "id": "fM8UdYWLspKv",
        "colab_type": "code",
        "colab": {
          "base_uri": "https://localhost:8080/",
          "height": 87
        },
        "outputId": "8f364a19-bf3d-460a-ac82-f7100fb9426b"
      },
      "source": [
        "for i in range(1,11):\n",
        "    if i == 5:\n",
        "        break\n",
        "    print(i)"
      ],
      "execution_count": 31,
      "outputs": [
        {
          "output_type": "stream",
          "text": [
            "1\n",
            "2\n",
            "3\n",
            "4\n"
          ],
          "name": "stdout"
        }
      ]
    },
    {
      "cell_type": "markdown",
      "metadata": {
        "id": "m4hq8MWiuBA1",
        "colab_type": "text"
      },
      "source": [
        "Here, the **for** loop intends to print numbers from 1 to 10. But the **if** condition is met when i is equal to 5 and we break from the loop. Thus, only the range 1 to 4 is printed."
      ]
    },
    {
      "cell_type": "code",
      "metadata": {
        "id": "l3cabKrTt-EH",
        "colab_type": "code",
        "colab": {
          "base_uri": "https://localhost:8080/",
          "height": 176
        },
        "outputId": "94c7e6f2-4b40-4619-be31-873599cae079"
      },
      "source": [
        "for i in range(1,11):\n",
        "    if i == 5:\n",
        "        continue\n",
        "    print(i)"
      ],
      "execution_count": 32,
      "outputs": [
        {
          "output_type": "stream",
          "text": [
            "1\n",
            "2\n",
            "3\n",
            "4\n",
            "6\n",
            "7\n",
            "8\n",
            "9\n",
            "10\n"
          ],
          "name": "stdout"
        }
      ]
    },
    {
      "cell_type": "markdown",
      "metadata": {
        "id": "YYFIH1EnuKH1",
        "colab_type": "text"
      },
      "source": [
        "Here we use **continue** for the same program. So, when the condition is met, that iteration is skipped. But we do not exit the loop. Hence, all the values except 5 is printed out."
      ]
    },
    {
      "cell_type": "markdown",
      "metadata": {
        "id": "Di656gL0uS9x",
        "colab_type": "text"
      },
      "source": [
        "**class**\n",
        "\n",
        "**class** is used to define a new user-defined class in Python.\n",
        "\n",
        "Class is a collection of related attributes and methods that try to represent a real world situation. This idea of putting data and functions together in a **class** is central to the concept of object-oriented programming (OOP).\n",
        "\n",
        "Classes can be defined anywhere in a program. But it is a good practice to define a single class in a module. Following is a sample usage:"
      ]
    },
    {
      "cell_type": "code",
      "metadata": {
        "id": "-oaXxlm3uGzN",
        "colab_type": "code",
        "colab": {}
      },
      "source": [
        "class ExampleClass:\n",
        "    def function1(parameters):\n",
        "      pass\n",
        "    \n",
        "    def function2(parameters):\n",
        "      pass"
      ],
      "execution_count": 0,
      "outputs": []
    },
    {
      "cell_type": "markdown",
      "metadata": {
        "id": "DdjYcBr3uo29",
        "colab_type": "text"
      },
      "source": [
        "**def**\n",
        "\n",
        "**def** is used to define a user-defined function.\n",
        "\n",
        "Function is a block of related statements, which together does some specific task. It helps us organize code into manageable chunks and also to do some repetitive task.\n",
        "\n",
        "The usage of **def** is shown below:"
      ]
    },
    {
      "cell_type": "code",
      "metadata": {
        "id": "sTOkxxufukKA",
        "colab_type": "code",
        "colab": {}
      },
      "source": [
        "def function_name(parameters):\n",
        "  pass"
      ],
      "execution_count": 0,
      "outputs": []
    },
    {
      "cell_type": "markdown",
      "metadata": {
        "id": "aaBN7w3kyPY7",
        "colab_type": "text"
      },
      "source": [
        "**del**\n",
        "\n",
        "**del** is used to delete the reference to an object. Everything is object in Python. We can delete a variable reference using **del**"
      ]
    },
    {
      "cell_type": "code",
      "metadata": {
        "id": "us6Hhy6PyLw5",
        "colab_type": "code",
        "colab": {
          "base_uri": "https://localhost:8080/",
          "height": 203
        },
        "outputId": "c38d83a6-385c-4399-a98d-09702f3a3e9a"
      },
      "source": [
        "a = b = 5\n",
        "del a\n",
        "a"
      ],
      "execution_count": 36,
      "outputs": [
        {
          "output_type": "error",
          "ename": "NameError",
          "evalue": "ignored",
          "traceback": [
            "\u001b[0;31m---------------------------------------------------------------------------\u001b[0m",
            "\u001b[0;31mNameError\u001b[0m                                 Traceback (most recent call last)",
            "\u001b[0;32m<ipython-input-36-22a6e3d7d570>\u001b[0m in \u001b[0;36m<module>\u001b[0;34m()\u001b[0m\n\u001b[1;32m      1\u001b[0m \u001b[0ma\u001b[0m \u001b[0;34m=\u001b[0m \u001b[0mb\u001b[0m \u001b[0;34m=\u001b[0m \u001b[0;36m5\u001b[0m\u001b[0;34m\u001b[0m\u001b[0;34m\u001b[0m\u001b[0m\n\u001b[1;32m      2\u001b[0m \u001b[0;32mdel\u001b[0m \u001b[0ma\u001b[0m\u001b[0;34m\u001b[0m\u001b[0;34m\u001b[0m\u001b[0m\n\u001b[0;32m----> 3\u001b[0;31m \u001b[0ma\u001b[0m\u001b[0;34m\u001b[0m\u001b[0;34m\u001b[0m\u001b[0m\n\u001b[0m",
            "\u001b[0;31mNameError\u001b[0m: name 'a' is not defined"
          ]
        }
      ]
    },
    {
      "cell_type": "code",
      "metadata": {
        "id": "j7PKF-rgyXUU",
        "colab_type": "code",
        "colab": {
          "base_uri": "https://localhost:8080/",
          "height": 34
        },
        "outputId": "af7327e1-ba75-4b08-9661-8e9cd7a5c8bc"
      },
      "source": [
        "b"
      ],
      "execution_count": 37,
      "outputs": [
        {
          "output_type": "execute_result",
          "data": {
            "text/plain": [
              "5"
            ]
          },
          "metadata": {
            "tags": []
          },
          "execution_count": 37
        }
      ]
    },
    {
      "cell_type": "markdown",
      "metadata": {
        "id": "aAFyEnMkycR5",
        "colab_type": "text"
      },
      "source": [
        "Here we can see that the reference of the variable **a** was deleted. So, it is no longer defined. But **b** still exists.\n",
        "\n",
        "**del** is also used to delete items from a list or a dictionary:"
      ]
    },
    {
      "cell_type": "code",
      "metadata": {
        "id": "MnhsCIrhyaOs",
        "colab_type": "code",
        "colab": {
          "base_uri": "https://localhost:8080/",
          "height": 34
        },
        "outputId": "cadb3b5e-ef38-4789-fa89-8bb63a6e128d"
      },
      "source": [
        "a = ['x','y','z']\n",
        "del a[1]\n",
        "a"
      ],
      "execution_count": 38,
      "outputs": [
        {
          "output_type": "execute_result",
          "data": {
            "text/plain": [
              "['x', 'z']"
            ]
          },
          "metadata": {
            "tags": []
          },
          "execution_count": 38
        }
      ]
    },
    {
      "cell_type": "markdown",
      "metadata": {
        "id": "NaK-mXEZyuaO",
        "colab_type": "text"
      },
      "source": [
        "**if, else, elif**\n",
        "\n",
        "if, else, elif are used for conditional branching or decision making.\n",
        "\n",
        "When we want to test some condition and execute a block only if the condition is true, then we use **if** and **elif**. **elif** is short for else if. **else** is the block which is executed if the condition is false. This will be clear with the following example:"
      ]
    },
    {
      "cell_type": "code",
      "metadata": {
        "id": "I5ToAgodyqXs",
        "colab_type": "code",
        "colab": {}
      },
      "source": [
        "def if_example(a):\n",
        "    if a == 1:\n",
        "        print('One')\n",
        "    elif a == 2:\n",
        "        print('Two')\n",
        "    else:\n",
        "        print('Something else')"
      ],
      "execution_count": 0,
      "outputs": []
    },
    {
      "cell_type": "code",
      "metadata": {
        "id": "H1S0VRJ5zAtE",
        "colab_type": "code",
        "colab": {
          "base_uri": "https://localhost:8080/",
          "height": 70
        },
        "outputId": "9e6ea2c2-7f99-4eff-9951-da0ff4b46a01"
      },
      "source": [
        "if_example(2)\n",
        "if_example(4)\n",
        "if_example(1)"
      ],
      "execution_count": 40,
      "outputs": [
        {
          "output_type": "stream",
          "text": [
            "Two\n",
            "Something else\n",
            "One\n"
          ],
          "name": "stdout"
        }
      ]
    },
    {
      "cell_type": "markdown",
      "metadata": {
        "id": "hiCJHgCbzGDP",
        "colab_type": "text"
      },
      "source": [
        "Here, the function checks the input number and prints the result if it is 1 or 2. Any input other than this will cause the **else** part of the code to execute."
      ]
    },
    {
      "cell_type": "markdown",
      "metadata": {
        "id": "quNv1twt1ChH",
        "colab_type": "text"
      },
      "source": [
        "**except, raise, try**\n",
        "\n",
        "except, raise, try are used with exceptions in Python.\n",
        "\n",
        "Exceptions are basically errors that suggests something went wrong while executing our program. **IOError**, **ValueError**, **ZeroDivisionError**, **ImportError**, **NameError**, **TypeError** etc. are few examples of exception in Python. **try...except** blocks are used to catch exceptions in Python.\n",
        "\n",
        "We can raise an exception explicitly with the raise keyword. Following is an example:\n"
      ]
    },
    {
      "cell_type": "code",
      "metadata": {
        "id": "eJytApcqzDHV",
        "colab_type": "code",
        "colab": {
          "base_uri": "https://localhost:8080/",
          "height": 34
        },
        "outputId": "00bd1cab-28a5-4fa5-bf05-e4e420b71e90"
      },
      "source": [
        "def reciprocal(num):\n",
        "    try:\n",
        "        r = 1/num\n",
        "    except:\n",
        "        print('Exception caught')\n",
        "        return\n",
        "    return r\n",
        "\n",
        "print(reciprocal(10))"
      ],
      "execution_count": 42,
      "outputs": [
        {
          "output_type": "stream",
          "text": [
            "0.1\n"
          ],
          "name": "stdout"
        }
      ]
    },
    {
      "cell_type": "code",
      "metadata": {
        "id": "teTHSGVj1XMl",
        "colab_type": "code",
        "colab": {
          "base_uri": "https://localhost:8080/",
          "height": 52
        },
        "outputId": "369b47c1-d9be-45a3-8d8b-aa02c026d1ec"
      },
      "source": [
        "print(reciprocal(0))"
      ],
      "execution_count": 43,
      "outputs": [
        {
          "output_type": "stream",
          "text": [
            "Exception caught\n",
            "None\n"
          ],
          "name": "stdout"
        }
      ]
    },
    {
      "cell_type": "markdown",
      "metadata": {
        "id": "vksi7Hh71jwp",
        "colab_type": "text"
      },
      "source": [
        "Here, the function reciprocal() returns the reciprocal of the input number.\n",
        "\n",
        "When we enter 10, we get the normal output of 0.1. But when we input 0, a **ZeroDivisionError** is raised automatically.\n",
        "\n",
        "This is caught by our **try…except** block and we return **None**. We could have also raised the **ZeroDivisionError** explicitly by checking the input and handled it elsewhere as follows:"
      ]
    },
    {
      "cell_type": "code",
      "metadata": {
        "id": "qE7RMr7h1ers",
        "colab_type": "code",
        "colab": {
          "base_uri": "https://localhost:8080/",
          "height": 203
        },
        "outputId": "5f83a3b0-3e4c-49df-abd5-445a97d0e1a5"
      },
      "source": [
        "num = 0\n",
        "if num == 0:\n",
        "    raise ZeroDivisionError('cannot divide')"
      ],
      "execution_count": 45,
      "outputs": [
        {
          "output_type": "error",
          "ename": "ZeroDivisionError",
          "evalue": "ignored",
          "traceback": [
            "\u001b[0;31m---------------------------------------------------------------------------\u001b[0m",
            "\u001b[0;31mZeroDivisionError\u001b[0m                         Traceback (most recent call last)",
            "\u001b[0;32m<ipython-input-45-aa991539823e>\u001b[0m in \u001b[0;36m<module>\u001b[0;34m()\u001b[0m\n\u001b[1;32m      1\u001b[0m \u001b[0mnum\u001b[0m \u001b[0;34m=\u001b[0m \u001b[0;36m0\u001b[0m\u001b[0;34m\u001b[0m\u001b[0;34m\u001b[0m\u001b[0m\n\u001b[1;32m      2\u001b[0m \u001b[0;32mif\u001b[0m \u001b[0mnum\u001b[0m \u001b[0;34m==\u001b[0m \u001b[0;36m0\u001b[0m\u001b[0;34m:\u001b[0m\u001b[0;34m\u001b[0m\u001b[0;34m\u001b[0m\u001b[0m\n\u001b[0;32m----> 3\u001b[0;31m     \u001b[0;32mraise\u001b[0m \u001b[0mZeroDivisionError\u001b[0m\u001b[0;34m(\u001b[0m\u001b[0;34m'cannot divide'\u001b[0m\u001b[0;34m)\u001b[0m\u001b[0;34m\u001b[0m\u001b[0;34m\u001b[0m\u001b[0m\n\u001b[0m",
            "\u001b[0;31mZeroDivisionError\u001b[0m: cannot divide"
          ]
        }
      ]
    },
    {
      "cell_type": "markdown",
      "metadata": {
        "id": "Lk8cEUimGBfX",
        "colab_type": "text"
      },
      "source": [
        "**finally**\n",
        "\n",
        "**finally** is used with try…except block to close up resources or file streams.\n",
        "\n",
        "Using finally ensures that the block of code inside it gets executed even if there is an unhandled exception. For example:\n",
        "\n",
        "\n",
        "```\n",
        "try:\n",
        "    Try-block\n",
        "except exception1:\n",
        "    Exception1-block\n",
        "except exception2:\n",
        "    Exception2-block\n",
        "else:\n",
        "    Else-block\n",
        "finally:\n",
        "    Finally-block\n",
        "```\n",
        "\n",
        "Here if there is an exception in the Try-block, it is handled in the except or else block. But no matter in what order the execution flows, we can rest assured that the Finally-block is executed even if there is an error. This is useful in cleaning up the resources\n"
      ]
    },
    {
      "cell_type": "markdown",
      "metadata": {
        "id": "8LFYSVhjGTK3",
        "colab_type": "text"
      },
      "source": [
        "**for**\n",
        "\n",
        "**for** is used for looping. Generally we use **for** when we know the number of times we want to loop.\n",
        "\n",
        "In Python we can use it with any type of sequence like a list or a string. Here is an example in which for is used to traverse through a list of names:"
      ]
    },
    {
      "cell_type": "code",
      "metadata": {
        "id": "pt0dpPuZF0AO",
        "colab_type": "code",
        "colab": {
          "base_uri": "https://localhost:8080/",
          "height": 87
        },
        "outputId": "50bb340a-126a-463b-9d52-3334d28fbb54"
      },
      "source": [
        "names = ['John','Monica','Steven','Robin']\n",
        "for i in names:\n",
        "    print('Hello '+i)"
      ],
      "execution_count": 46,
      "outputs": [
        {
          "output_type": "stream",
          "text": [
            "Hello John\n",
            "Hello Monica\n",
            "Hello Steven\n",
            "Hello Robin\n"
          ],
          "name": "stdout"
        }
      ]
    },
    {
      "cell_type": "markdown",
      "metadata": {
        "id": "tUvCknfjGoHt",
        "colab_type": "text"
      },
      "source": [
        "**from, import**\n",
        "\n",
        "**import** keyword is used to import modules into the current namespace. **from…import** is used to import specific attributes or functions into the current namespace. For example:\n",
        "```\n",
        "import math\n",
        "```\n",
        "\n",
        "will import the **math** module. Now we can use the **cos**() function inside it as **math.cos()**. But if we wanted to import just the **cos**() function, this can done using **from as**"
      ]
    },
    {
      "cell_type": "code",
      "metadata": {
        "id": "2FbM5euwGkuL",
        "colab_type": "code",
        "colab": {}
      },
      "source": [
        "from math import cos"
      ],
      "execution_count": 0,
      "outputs": []
    },
    {
      "cell_type": "markdown",
      "metadata": {
        "id": "611RlrrpHPmE",
        "colab_type": "text"
      },
      "source": [
        "now we can use the function simply as **cos**(), no need to write **math.cos()**."
      ]
    },
    {
      "cell_type": "markdown",
      "metadata": {
        "id": "JrEBHwUnHWP_",
        "colab_type": "text"
      },
      "source": [
        "**global**\n",
        "\n",
        "**global** is used to declare that a variable inside the function is global (outside the function).\n",
        "\n",
        "If we need to read the value of a global variable, it is not necessary to define it as **global**. This is understood.\n",
        "\n",
        "If we need to modify the value of a global variable inside a function, then we must declare it with **global**. Otherwise a local variable with that name is created.\n",
        "\n",
        "Following example will help us clarify this."
      ]
    },
    {
      "cell_type": "code",
      "metadata": {
        "id": "diylkb8eHM3U",
        "colab_type": "code",
        "colab": {}
      },
      "source": [
        "globvar = 10\n",
        "def read1():\n",
        "    print(globvar)\n",
        "def write1():\n",
        "    global globvar\n",
        "    globvar = 5\n",
        "def write2():\n",
        "    globvar = 15"
      ],
      "execution_count": 0,
      "outputs": []
    },
    {
      "cell_type": "code",
      "metadata": {
        "id": "mVA_jXxyHqW-",
        "colab_type": "code",
        "colab": {
          "base_uri": "https://localhost:8080/",
          "height": 70
        },
        "outputId": "767a12fc-bc9a-4a4a-c88d-f902b6001077"
      },
      "source": [
        "read1()\n",
        "write1()\n",
        "read1()\n",
        "write2()\n",
        "read1()"
      ],
      "execution_count": 49,
      "outputs": [
        {
          "output_type": "stream",
          "text": [
            "10\n",
            "5\n",
            "5\n"
          ],
          "name": "stdout"
        }
      ]
    },
    {
      "cell_type": "markdown",
      "metadata": {
        "id": "JzmftBiuH2V5",
        "colab_type": "text"
      },
      "source": [
        "Here, the read1() function is just reading the value of *globvar*. So, we do not need to declare it as **global**. But the write1() function is modifying the value, so we need to declare the variable as **global**.\n",
        "\n",
        "We can see in our output that the modification did take place (10 is changed to 5). The write2() also tries to modify this value. But we have not declared it as **global**.\n",
        "\n",
        "Hence, a new local variable *globvar* is created which is not visible outside this function. Although we modify this local variable to 15, the global variable remains unchanged. This is clearly visible in our output."
      ]
    },
    {
      "cell_type": "markdown",
      "metadata": {
        "id": "bsvW2lziIOf0",
        "colab_type": "text"
      },
      "source": [
        "**in**\n",
        "\n",
        "**in** is used to test if a sequence (list, tuple, string etc.) contains a value. It returns **True** if the value is present, else it returns **False**. For example:"
      ]
    },
    {
      "cell_type": "code",
      "metadata": {
        "id": "ctMXlye4HsVp",
        "colab_type": "code",
        "colab": {
          "base_uri": "https://localhost:8080/",
          "height": 34
        },
        "outputId": "dcf0394a-7ccf-4cb1-fd3b-fc53a4b940d8"
      },
      "source": [
        "a = [1, 2, 3, 4, 5]\n",
        "5 in a"
      ],
      "execution_count": 50,
      "outputs": [
        {
          "output_type": "execute_result",
          "data": {
            "text/plain": [
              "True"
            ]
          },
          "metadata": {
            "tags": []
          },
          "execution_count": 50
        }
      ]
    },
    {
      "cell_type": "code",
      "metadata": {
        "id": "ZCpAzmznIafw",
        "colab_type": "code",
        "colab": {
          "base_uri": "https://localhost:8080/",
          "height": 34
        },
        "outputId": "53d72585-adae-4f23-e226-da1a8ca89e3d"
      },
      "source": [
        "10 in a"
      ],
      "execution_count": 51,
      "outputs": [
        {
          "output_type": "execute_result",
          "data": {
            "text/plain": [
              "False"
            ]
          },
          "metadata": {
            "tags": []
          },
          "execution_count": 51
        }
      ]
    },
    {
      "cell_type": "markdown",
      "metadata": {
        "id": "wIYW-jQCId_L",
        "colab_type": "text"
      },
      "source": [
        "The secondary use of **in** is to traverse through a sequence in a for loop."
      ]
    },
    {
      "cell_type": "code",
      "metadata": {
        "id": "RyByfx3MIcX5",
        "colab_type": "code",
        "colab": {
          "base_uri": "https://localhost:8080/",
          "height": 105
        },
        "outputId": "35817cd3-11ec-4088-927d-36436e460a39"
      },
      "source": [
        "for i in 'hello':\n",
        "    print(i)"
      ],
      "execution_count": 52,
      "outputs": [
        {
          "output_type": "stream",
          "text": [
            "h\n",
            "e\n",
            "l\n",
            "l\n",
            "o\n"
          ],
          "name": "stdout"
        }
      ]
    },
    {
      "cell_type": "markdown",
      "metadata": {
        "id": "IQLA_C5zIoEW",
        "colab_type": "text"
      },
      "source": [
        "**is**\n",
        "\n",
        "**is** is used in Python for testing object identity. While the **==** operator is used to test if two variables are equal or not, is is used to test if the two variables refer to the same object.\n",
        "\n",
        "It returns **True** if the objects are identical and **False** if not."
      ]
    },
    {
      "cell_type": "code",
      "metadata": {
        "id": "yWX0wFPZIlCK",
        "colab_type": "code",
        "colab": {
          "base_uri": "https://localhost:8080/",
          "height": 34
        },
        "outputId": "d47182fb-d770-40c5-8362-58c75ee3749b"
      },
      "source": [
        "True is True"
      ],
      "execution_count": 53,
      "outputs": [
        {
          "output_type": "execute_result",
          "data": {
            "text/plain": [
              "True"
            ]
          },
          "metadata": {
            "tags": []
          },
          "execution_count": 53
        }
      ]
    },
    {
      "cell_type": "code",
      "metadata": {
        "id": "MudNLh29I5JC",
        "colab_type": "code",
        "colab": {
          "base_uri": "https://localhost:8080/",
          "height": 34
        },
        "outputId": "efbf879d-01f1-47bc-a9b2-d172dfe3dbd1"
      },
      "source": [
        "False is False"
      ],
      "execution_count": 54,
      "outputs": [
        {
          "output_type": "execute_result",
          "data": {
            "text/plain": [
              "True"
            ]
          },
          "metadata": {
            "tags": []
          },
          "execution_count": 54
        }
      ]
    },
    {
      "cell_type": "code",
      "metadata": {
        "id": "9EuGFpy5I6pk",
        "colab_type": "code",
        "colab": {
          "base_uri": "https://localhost:8080/",
          "height": 34
        },
        "outputId": "9993dd0c-b68f-43c9-c16c-093105581203"
      },
      "source": [
        "None is None"
      ],
      "execution_count": 55,
      "outputs": [
        {
          "output_type": "execute_result",
          "data": {
            "text/plain": [
              "True"
            ]
          },
          "metadata": {
            "tags": []
          },
          "execution_count": 55
        }
      ]
    },
    {
      "cell_type": "markdown",
      "metadata": {
        "id": "CM71dZ3bI__Q",
        "colab_type": "text"
      },
      "source": [
        "We know that there is only one instance of **True**, **False** and **None** in Python, so they are identical."
      ]
    },
    {
      "cell_type": "code",
      "metadata": {
        "id": "DzDAfwjCI8hC",
        "colab_type": "code",
        "colab": {
          "base_uri": "https://localhost:8080/",
          "height": 34
        },
        "outputId": "7cdc0b76-b19a-4da7-ca4e-933c1cc7c491"
      },
      "source": [
        "[] == []"
      ],
      "execution_count": 58,
      "outputs": [
        {
          "output_type": "execute_result",
          "data": {
            "text/plain": [
              "True"
            ]
          },
          "metadata": {
            "tags": []
          },
          "execution_count": 58
        }
      ]
    },
    {
      "cell_type": "code",
      "metadata": {
        "id": "dA4V3IiIJGeB",
        "colab_type": "code",
        "colab": {
          "base_uri": "https://localhost:8080/",
          "height": 34
        },
        "outputId": "0933ac5a-73bd-4ef5-8bfd-fb312f8c4665"
      },
      "source": [
        "[] is []"
      ],
      "execution_count": 59,
      "outputs": [
        {
          "output_type": "execute_result",
          "data": {
            "text/plain": [
              "False"
            ]
          },
          "metadata": {
            "tags": []
          },
          "execution_count": 59
        }
      ]
    },
    {
      "cell_type": "code",
      "metadata": {
        "id": "Ue3uyL43JIRC",
        "colab_type": "code",
        "colab": {
          "base_uri": "https://localhost:8080/",
          "height": 34
        },
        "outputId": "d596fa3b-bd86-454a-86e5-a094e4a12cd4"
      },
      "source": [
        "{} == {}"
      ],
      "execution_count": 60,
      "outputs": [
        {
          "output_type": "execute_result",
          "data": {
            "text/plain": [
              "True"
            ]
          },
          "metadata": {
            "tags": []
          },
          "execution_count": 60
        }
      ]
    },
    {
      "cell_type": "code",
      "metadata": {
        "id": "pDybO3zgJMSB",
        "colab_type": "code",
        "colab": {
          "base_uri": "https://localhost:8080/",
          "height": 34
        },
        "outputId": "384aea20-8640-4c50-dc5c-8e1452ef9404"
      },
      "source": [
        "{} is {}"
      ],
      "execution_count": 61,
      "outputs": [
        {
          "output_type": "execute_result",
          "data": {
            "text/plain": [
              "False"
            ]
          },
          "metadata": {
            "tags": []
          },
          "execution_count": 61
        }
      ]
    },
    {
      "cell_type": "markdown",
      "metadata": {
        "id": "7TI16M-FJQqF",
        "colab_type": "text"
      },
      "source": [
        "An empty list or dictionary is equal to another empty one. But they are not identical objects as they are located separately in memory. This is because list and dictionary are mutable (value can be changed)."
      ]
    },
    {
      "cell_type": "code",
      "metadata": {
        "id": "7UU5Wxf7JONR",
        "colab_type": "code",
        "colab": {
          "base_uri": "https://localhost:8080/",
          "height": 34
        },
        "outputId": "7b3d3140-2166-4546-bfd2-03318f3f2660"
      },
      "source": [
        "'' == ''"
      ],
      "execution_count": 62,
      "outputs": [
        {
          "output_type": "execute_result",
          "data": {
            "text/plain": [
              "True"
            ]
          },
          "metadata": {
            "tags": []
          },
          "execution_count": 62
        }
      ]
    },
    {
      "cell_type": "code",
      "metadata": {
        "id": "7GIAkF7XJW-Z",
        "colab_type": "code",
        "colab": {
          "base_uri": "https://localhost:8080/",
          "height": 34
        },
        "outputId": "7f85071d-d117-4845-a7d7-ca9542512e7a"
      },
      "source": [
        "'' is ''"
      ],
      "execution_count": 63,
      "outputs": [
        {
          "output_type": "execute_result",
          "data": {
            "text/plain": [
              "True"
            ]
          },
          "metadata": {
            "tags": []
          },
          "execution_count": 63
        }
      ]
    },
    {
      "cell_type": "code",
      "metadata": {
        "id": "9mfFQS0uJYPB",
        "colab_type": "code",
        "colab": {
          "base_uri": "https://localhost:8080/",
          "height": 34
        },
        "outputId": "a4b278a0-8c67-496a-a75d-f920c61b7b0c"
      },
      "source": [
        "() == ()"
      ],
      "execution_count": 64,
      "outputs": [
        {
          "output_type": "execute_result",
          "data": {
            "text/plain": [
              "True"
            ]
          },
          "metadata": {
            "tags": []
          },
          "execution_count": 64
        }
      ]
    },
    {
      "cell_type": "code",
      "metadata": {
        "id": "xIcjTU8kJaXx",
        "colab_type": "code",
        "colab": {
          "base_uri": "https://localhost:8080/",
          "height": 34
        },
        "outputId": "758dc005-4fce-4b05-a04d-7ffc647b97e4"
      },
      "source": [
        "() is ()"
      ],
      "execution_count": 65,
      "outputs": [
        {
          "output_type": "execute_result",
          "data": {
            "text/plain": [
              "True"
            ]
          },
          "metadata": {
            "tags": []
          },
          "execution_count": 65
        }
      ]
    },
    {
      "cell_type": "markdown",
      "metadata": {
        "id": "uIWp7xqUJdyi",
        "colab_type": "text"
      },
      "source": [
        "Unlike list and dictionary, string and tuple are immutable (value cannot be altered once defined). Hence, two equal string or tuple are identical as well. They refer to the same memory location."
      ]
    },
    {
      "cell_type": "markdown",
      "metadata": {
        "id": "SsgX64faJlvY",
        "colab_type": "text"
      },
      "source": [
        "**lambda**\n",
        "\n",
        "**lambda** is used to create an anonymous function (function with no name). It is an inline function that does not contain a **return** statement. It consists of an expression that is evaluated and returned. For example:"
      ]
    },
    {
      "cell_type": "code",
      "metadata": {
        "id": "u1KhlD_7JcAZ",
        "colab_type": "code",
        "colab": {
          "base_uri": "https://localhost:8080/",
          "height": 105
        },
        "outputId": "893a9578-fb00-44d8-f9f9-6d168cab9d08"
      },
      "source": [
        "a = lambda x: x*2\n",
        "\n",
        "for i in range(1,6):\n",
        "    print(a(i))"
      ],
      "execution_count": 66,
      "outputs": [
        {
          "output_type": "stream",
          "text": [
            "2\n",
            "4\n",
            "6\n",
            "8\n",
            "10\n"
          ],
          "name": "stdout"
        }
      ]
    },
    {
      "cell_type": "markdown",
      "metadata": {
        "id": "atCi_A_4J5yT",
        "colab_type": "text"
      },
      "source": [
        "Here, we have created an inline function that doubles the value, using the lambda statement. We used this to double the values in a list containing 1 to 5."
      ]
    },
    {
      "cell_type": "markdown",
      "metadata": {
        "id": "c5SzazNJKJ7A",
        "colab_type": "text"
      },
      "source": [
        "**nonlocal**\n",
        "\n",
        "The use of **nonlocal** keyword is very much similar to the **global** keyword. **nonlocal** is used to declare that a variable inside a nested function (function inside a function) is not local to it, meaning it lies in the outer inclosing function. If we need to modify the value of a non-local variable inside a nested function, then we must declare it with nonlocal. Otherwise a local variable with that name is created inside the nested function. Following example will help us clarify this."
      ]
    },
    {
      "cell_type": "code",
      "metadata": {
        "id": "VFIj1gXpJwHq",
        "colab_type": "code",
        "colab": {
          "base_uri": "https://localhost:8080/",
          "height": 52
        },
        "outputId": "efa062fe-61a0-4c4c-c368-5d2c58ab69d7"
      },
      "source": [
        "def outer_function():\n",
        "    a = 5\n",
        "    def inner_function():\n",
        "        nonlocal a\n",
        "        a = 10\n",
        "        print(\"Inner function: \",a)\n",
        "    inner_function()\n",
        "    print(\"Outer function: \",a)\n",
        "\n",
        "outer_function()"
      ],
      "execution_count": 68,
      "outputs": [
        {
          "output_type": "stream",
          "text": [
            "Inner function:  10\n",
            "Outer function:  10\n"
          ],
          "name": "stdout"
        }
      ]
    },
    {
      "cell_type": "markdown",
      "metadata": {
        "id": "8HP0hVbLKwjF",
        "colab_type": "text"
      },
      "source": [
        "Here, the inner_function() is nested within the outer_function.\n",
        "\n",
        "The variable **a** is in the outer_function(). So, if we want to modify it in the inner_function(), we must declare it as **nonlocal**. Notice that a is not a global variable.\n",
        "\n",
        "Hence, we see from the output that the variable was successfully modified inside the nested inner_function(). The result of not using the **nonlocal** keyword is as follows:"
      ]
    },
    {
      "cell_type": "code",
      "metadata": {
        "id": "_g8LR4oJKaZB",
        "colab_type": "code",
        "colab": {
          "base_uri": "https://localhost:8080/",
          "height": 52
        },
        "outputId": "685a6e32-a197-410e-e0f6-ae19f25d8889"
      },
      "source": [
        "#without Nonlocal\n",
        "def outer_function():\n",
        "    a = 5\n",
        "    def inner_function():\n",
        "        #nonlocal a\n",
        "        a = 10\n",
        "        print(\"Inner function: \",a)\n",
        "    inner_function()\n",
        "    print(\"Outer function: \",a)\n",
        "\n",
        "outer_function()"
      ],
      "execution_count": 69,
      "outputs": [
        {
          "output_type": "stream",
          "text": [
            "Inner function:  10\n",
            "Outer function:  5\n"
          ],
          "name": "stdout"
        }
      ]
    },
    {
      "cell_type": "markdown",
      "metadata": {
        "id": "qypBZPmjLXAC",
        "colab_type": "text"
      },
      "source": [
        "Here, we do not declare that the variable **a** inside the nested function is **nonlocal**. Hence, a new local variable with the same name is created, but the non-local **a** is not modified as seen in our output."
      ]
    },
    {
      "cell_type": "markdown",
      "metadata": {
        "id": "JU_i6IzMLk4l",
        "colab_type": "text"
      },
      "source": [
        "**pass**\n",
        "\n",
        "**pass** is a null statement in Python. Nothing happens when it is executed. It is used as a placeholder.\n",
        "\n",
        "Suppose we have a function that is not implemented yet, but we want to implement it in the future. Simply writing,\n",
        "\n",
        "```\n",
        "def function(args):\n",
        "\n",
        "```\n",
        "in the middle of a program will give us **IndentationError**. Instead of this, we construct a blank body with the pass statement."
      ]
    },
    {
      "cell_type": "code",
      "metadata": {
        "id": "SNtv68WtLNih",
        "colab_type": "code",
        "colab": {}
      },
      "source": [
        "def function(args):\n",
        "    pass"
      ],
      "execution_count": 0,
      "outputs": []
    },
    {
      "cell_type": "markdown",
      "metadata": {
        "id": "Hf0n-LB0L4IC",
        "colab_type": "text"
      },
      "source": [
        "We can do the same thing in an empty class as well."
      ]
    },
    {
      "cell_type": "code",
      "metadata": {
        "id": "9KOtiB0tL2ja",
        "colab_type": "code",
        "colab": {}
      },
      "source": [
        "class example:\n",
        "    pass"
      ],
      "execution_count": 0,
      "outputs": []
    },
    {
      "cell_type": "code",
      "metadata": {
        "id": "Kp_fyyoyL6da",
        "colab_type": "code",
        "colab": {}
      },
      "source": [
        ""
      ],
      "execution_count": 0,
      "outputs": []
    }
  ]
}