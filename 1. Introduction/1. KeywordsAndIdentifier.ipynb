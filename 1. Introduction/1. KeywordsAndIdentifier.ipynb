{
  "nbformat": 4,
  "nbformat_minor": 0,
  "metadata": {
    "colab": {
      "name": "Untitled1.ipynb",
      "provenance": [],
      "include_colab_link": true
    },
    "kernelspec": {
      "name": "python3",
      "display_name": "Python 3"
    }
  },
  "cells": [
    {
      "cell_type": "markdown",
      "metadata": {
        "id": "view-in-github",
        "colab_type": "text"
      },
      "source": [
        "<a href=\"https://colab.research.google.com/github/sumithdcosta/Python/blob/master/1.%20Introduction/1.%20KeywordsAndIdentifier.ipynb\" target=\"_parent\"><img src=\"https://colab.research.google.com/assets/colab-badge.svg\" alt=\"Open In Colab\"/></a>"
      ]
    },
    {
      "cell_type": "markdown",
      "metadata": {
        "id": "xXBtKsSj9lVr",
        "colab_type": "text"
      },
      "source": [
        "# Keywords and Identifier\n",
        "\n",
        "\n",
        "**Python Keywords**\n",
        "\n",
        "Keywords are the reserved words in Python.\n",
        "\n",
        "We cannot use a keyword as variable name, function name or any other identifier. They are used to define the syntax and structure of the Python language.\n",
        "\n",
        "In Python, keywords are case sensitive.\n",
        "\n",
        "There are 33 keywords in Python 3.3. This number can vary slightly in course of time.\n",
        "\n",
        "All the keywords except True, False and None are in lowercase and they must be written as it is. The list of all the keywords are given below.\n",
        "\n",
        "***Keywords in Python programming language***\n",
        "\n",
        "\n",
        "**FALSE, None, TRUE, and, as, assert, break, class, continue, def, del, elif, else, except, finally, for, from, global, if, import, in, is, lambda, nonlocal, not, or, pass, raise, return, try, while, with, yield**\n",
        "\n",
        "Looking at all the keywords at once and trying to figure out what they mean might be overwhelming.\n",
        "\n",
        "\n",
        "**Python Identifiers**\n",
        "\n",
        "Identifier is the name given to entities like class, functions, variables etc. in Python. It helps differentiating one entity from another.\n",
        "\n",
        "**Rules for writing identifiers**\n",
        "\n",
        "1.  Identifiers can be a combination of letters in lowercase (a to z) or uppercase (A to Z) or digits (0 to 9) or an underscore (_). Names like myClass, var_1 and print_this_to_screen, all are valid example.\n",
        "2. An identifier cannot start with a digit. 1variable is invalid, but variable1 is perfectly fine.\n",
        "3. Keywords cannot be used as identifiers."
      ]
    },
    {
      "cell_type": "code",
      "metadata": {
        "id": "TC_Dfj1SxLEs",
        "colab_type": "code",
        "colab": {
          "base_uri": "https://localhost:8080/",
          "height": 132
        },
        "outputId": "399e8e2e-337f-43dc-c241-4826341f070d"
      },
      "source": [
        "global = 1"
      ],
      "execution_count": 1,
      "outputs": [
        {
          "output_type": "error",
          "ename": "SyntaxError",
          "evalue": "ignored",
          "traceback": [
            "\u001b[0;36m  File \u001b[0;32m\"<ipython-input-1-3d177345d6e4>\"\u001b[0;36m, line \u001b[0;32m1\u001b[0m\n\u001b[0;31m    global = 1\u001b[0m\n\u001b[0m           ^\u001b[0m\n\u001b[0;31mSyntaxError\u001b[0m\u001b[0;31m:\u001b[0m invalid syntax\n"
          ]
        }
      ]
    },
    {
      "cell_type": "markdown",
      "metadata": {
        "id": "YT7-r8ljz_Cn",
        "colab_type": "text"
      },
      "source": [
        "4. We cannot use special symbols like !, @, #, $, % etc. in our identifier."
      ]
    },
    {
      "cell_type": "code",
      "metadata": {
        "id": "iGGLLshcxPQJ",
        "colab_type": "code",
        "colab": {
          "base_uri": "https://localhost:8080/",
          "height": 132
        },
        "outputId": "d0fb6dca-7b34-4b0a-cf67-21771b45303c"
      },
      "source": [
        "a@ = 0"
      ],
      "execution_count": 2,
      "outputs": [
        {
          "output_type": "error",
          "ename": "SyntaxError",
          "evalue": "ignored",
          "traceback": [
            "\u001b[0;36m  File \u001b[0;32m\"<ipython-input-2-4d4a0e714c73>\"\u001b[0;36m, line \u001b[0;32m1\u001b[0m\n\u001b[0;31m    a@ = 0\u001b[0m\n\u001b[0m       ^\u001b[0m\n\u001b[0;31mSyntaxError\u001b[0m\u001b[0;31m:\u001b[0m invalid syntax\n"
          ]
        }
      ]
    },
    {
      "cell_type": "code",
      "metadata": {
        "id": "37OCLqYD1ZMT",
        "colab_type": "code",
        "colab": {}
      },
      "source": [
        ""
      ],
      "execution_count": 0,
      "outputs": []
    },
    {
      "cell_type": "markdown",
      "metadata": {
        "id": "lDJhuuev1DHJ",
        "colab_type": "text"
      },
      "source": [
        "5. Identifier can be of any length."
      ]
    },
    {
      "cell_type": "markdown",
      "metadata": {
        "id": "r551K7Vc1Hy3",
        "colab_type": "text"
      },
      "source": [
        "**Things to care about**\n",
        "\n",
        "Python is a case-sensitive language. This means, Variable and variable are not the same. Always name identifiers that make sense.\n",
        "\n",
        "While, c = 10 is valid. Writing count = 10 would make more sense and it would be easier to figure out what it does even when you look at your code after a long gap.\n",
        "\n",
        "Multiple words can be separated using an underscore, this_is_a_long_variable.\n",
        "\n",
        "We can also use camel-case style of writing, i.e., capitalize every first letter of the word except the initial word without any spaces. For example: camelCaseExample\n"
      ]
    },
    {
      "cell_type": "markdown",
      "metadata": {
        "id": "ZUM-dAw_x6cZ",
        "colab_type": "text"
      },
      "source": [
        "**List of Keywords in Python**"
      ]
    },
    {
      "cell_type": "code",
      "metadata": {
        "id": "2aALiONje_Vg",
        "colab_type": "code",
        "colab": {
          "base_uri": "https://localhost:8080/",
          "height": 54
        },
        "outputId": "c4095a0a-a01f-4cef-8cf0-2ada44817dc1"
      },
      "source": [
        "import keyword\n",
        "print(keyword.kwlist)"
      ],
      "execution_count": 2,
      "outputs": [
        {
          "output_type": "stream",
          "text": [
            "['False', 'None', 'True', 'and', 'as', 'assert', 'break', 'class', 'continue', 'def', 'del', 'elif', 'else', 'except', 'finally', 'for', 'from', 'global', 'if', 'import', 'in', 'is', 'lambda', 'nonlocal', 'not', 'or', 'pass', 'raise', 'return', 'try', 'while', 'with', 'yield']\n"
          ],
          "name": "stdout"
        }
      ]
    },
    {
      "cell_type": "markdown",
      "metadata": {
        "id": "Sq2KxSWmfNzM",
        "colab_type": "text"
      },
      "source": [
        "**Description of Keywords in Python with examples**\n",
        "**True, False**\n",
        "\n",
        "True and False are truth values in Python. They are the results of comparison operations or logical (Boolean) operations in Python. For example:"
      ]
    },
    {
      "cell_type": "code",
      "metadata": {
        "id": "4Kn-eXfcmJxx",
        "colab_type": "code",
        "colab": {
          "base_uri": "https://localhost:8080/",
          "height": 34
        },
        "outputId": "0fa89b25-be01-46e9-f723-c685b2f0a6a2"
      },
      "source": [
        "1 == 1"
      ],
      "execution_count": 3,
      "outputs": [
        {
          "output_type": "execute_result",
          "data": {
            "text/plain": [
              "True"
            ]
          },
          "metadata": {
            "tags": []
          },
          "execution_count": 3
        }
      ]
    },
    {
      "cell_type": "code",
      "metadata": {
        "id": "XsvCGO2kmLUp",
        "colab_type": "code",
        "colab": {
          "base_uri": "https://localhost:8080/",
          "height": 34
        },
        "outputId": "213f6c55-dd4b-46a3-b7d6-534cadfa83a9"
      },
      "source": [
        "5 > 3"
      ],
      "execution_count": 4,
      "outputs": [
        {
          "output_type": "execute_result",
          "data": {
            "text/plain": [
              "True"
            ]
          },
          "metadata": {
            "tags": []
          },
          "execution_count": 4
        }
      ]
    },
    {
      "cell_type": "code",
      "metadata": {
        "id": "cAUNk1zTmMjG",
        "colab_type": "code",
        "colab": {
          "base_uri": "https://localhost:8080/",
          "height": 34
        },
        "outputId": "4fc67fb9-8201-42c3-a1fe-ecc6fdeb992f"
      },
      "source": [
        "True or False"
      ],
      "execution_count": 5,
      "outputs": [
        {
          "output_type": "execute_result",
          "data": {
            "text/plain": [
              "True"
            ]
          },
          "metadata": {
            "tags": []
          },
          "execution_count": 5
        }
      ]
    },
    {
      "cell_type": "code",
      "metadata": {
        "id": "kfpfmjyimO2u",
        "colab_type": "code",
        "colab": {
          "base_uri": "https://localhost:8080/",
          "height": 34
        },
        "outputId": "8e9490ad-4864-4fb7-8789-94a64c600a59"
      },
      "source": [
        "10 < 1"
      ],
      "execution_count": 6,
      "outputs": [
        {
          "output_type": "execute_result",
          "data": {
            "text/plain": [
              "False"
            ]
          },
          "metadata": {
            "tags": []
          },
          "execution_count": 6
        }
      ]
    },
    {
      "cell_type": "code",
      "metadata": {
        "id": "CBwrVvcMmQ4O",
        "colab_type": "code",
        "colab": {
          "base_uri": "https://localhost:8080/",
          "height": 34
        },
        "outputId": "0451433f-94df-4609-de3e-d8a6acc51445"
      },
      "source": [
        "3 > 7"
      ],
      "execution_count": 7,
      "outputs": [
        {
          "output_type": "execute_result",
          "data": {
            "text/plain": [
              "False"
            ]
          },
          "metadata": {
            "tags": []
          },
          "execution_count": 7
        }
      ]
    },
    {
      "cell_type": "code",
      "metadata": {
        "id": "1S2kdqP7mSB2",
        "colab_type": "code",
        "colab": {
          "base_uri": "https://localhost:8080/",
          "height": 34
        },
        "outputId": "94de4c51-4682-4396-ed3d-9df7df364459"
      },
      "source": [
        "True and False"
      ],
      "execution_count": 8,
      "outputs": [
        {
          "output_type": "execute_result",
          "data": {
            "text/plain": [
              "False"
            ]
          },
          "metadata": {
            "tags": []
          },
          "execution_count": 8
        }
      ]
    },
    {
      "cell_type": "markdown",
      "metadata": {
        "id": "lT0JZIUXmWbP",
        "colab_type": "text"
      },
      "source": [
        "Here we can see that the first three statements are true so the interpreter returns True and returns False for the remaining three statements. True and False in python is same as 1 and 0. This can be justified with the following example:"
      ]
    },
    {
      "cell_type": "code",
      "metadata": {
        "id": "FnCo6aVcmTjO",
        "colab_type": "code",
        "colab": {
          "base_uri": "https://localhost:8080/",
          "height": 34
        },
        "outputId": "97c02a56-1f90-4dd0-f6a2-26c2c57163c5"
      },
      "source": [
        "True == 1"
      ],
      "execution_count": 9,
      "outputs": [
        {
          "output_type": "execute_result",
          "data": {
            "text/plain": [
              "True"
            ]
          },
          "metadata": {
            "tags": []
          },
          "execution_count": 9
        }
      ]
    },
    {
      "cell_type": "code",
      "metadata": {
        "id": "a0rV7odNmcDO",
        "colab_type": "code",
        "colab": {
          "base_uri": "https://localhost:8080/",
          "height": 34
        },
        "outputId": "beb922dd-8ccc-4005-9adc-6cdf4d6e8b48"
      },
      "source": [
        "False == 0"
      ],
      "execution_count": 10,
      "outputs": [
        {
          "output_type": "execute_result",
          "data": {
            "text/plain": [
              "True"
            ]
          },
          "metadata": {
            "tags": []
          },
          "execution_count": 10
        }
      ]
    },
    {
      "cell_type": "code",
      "metadata": {
        "id": "u-UzFzCAmeBm",
        "colab_type": "code",
        "colab": {
          "base_uri": "https://localhost:8080/",
          "height": 34
        },
        "outputId": "604cd8ff-9c8d-4569-cb5d-8d371585648d"
      },
      "source": [
        "True + True"
      ],
      "execution_count": 11,
      "outputs": [
        {
          "output_type": "execute_result",
          "data": {
            "text/plain": [
              "2"
            ]
          },
          "metadata": {
            "tags": []
          },
          "execution_count": 11
        }
      ]
    },
    {
      "cell_type": "markdown",
      "metadata": {
        "id": "ngQErU_UoAox",
        "colab_type": "text"
      },
      "source": [
        "**None**\n",
        "\n",
        "None is a special constant in Python that represents the absence of a value or a null value.\n",
        "\n",
        "It is an object of its own datatype, the NoneType. We cannot create multiple None objects but can assign it to variables. These variables will be equal to one another.\n",
        "\n",
        "We must take special care that None does not imply False, 0 or any empty list, dictionary, string etc. For example:\n"
      ]
    },
    {
      "cell_type": "code",
      "metadata": {
        "id": "NN5H-JXSpTiP",
        "colab_type": "code",
        "colab": {
          "base_uri": "https://localhost:8080/",
          "height": 34
        },
        "outputId": "f40ad820-f6e2-4672-b48a-9c12c625138b"
      },
      "source": [
        "None == 0"
      ],
      "execution_count": 12,
      "outputs": [
        {
          "output_type": "execute_result",
          "data": {
            "text/plain": [
              "False"
            ]
          },
          "metadata": {
            "tags": []
          },
          "execution_count": 12
        }
      ]
    },
    {
      "cell_type": "code",
      "metadata": {
        "id": "Nyq9c-ZjpT--",
        "colab_type": "code",
        "colab": {
          "base_uri": "https://localhost:8080/",
          "height": 34
        },
        "outputId": "2086ce11-8f2c-4567-f207-d8b46e897a99"
      },
      "source": [
        "None == []"
      ],
      "execution_count": 13,
      "outputs": [
        {
          "output_type": "execute_result",
          "data": {
            "text/plain": [
              "False"
            ]
          },
          "metadata": {
            "tags": []
          },
          "execution_count": 13
        }
      ]
    },
    {
      "cell_type": "code",
      "metadata": {
        "id": "5h-5gilMpWpu",
        "colab_type": "code",
        "colab": {
          "base_uri": "https://localhost:8080/",
          "height": 34
        },
        "outputId": "675f11a0-f9cc-4952-d1d0-21ad7f25f6b7"
      },
      "source": [
        "None == False"
      ],
      "execution_count": 14,
      "outputs": [
        {
          "output_type": "execute_result",
          "data": {
            "text/plain": [
              "False"
            ]
          },
          "metadata": {
            "tags": []
          },
          "execution_count": 14
        }
      ]
    },
    {
      "cell_type": "code",
      "metadata": {
        "id": "dm1ORKlUpY52",
        "colab_type": "code",
        "colab": {
          "base_uri": "https://localhost:8080/",
          "height": 34
        },
        "outputId": "31008abd-ae65-4b0e-b6d9-bd674b6b2e77"
      },
      "source": [
        "x = None\n",
        "y = None\n",
        "x == y"
      ],
      "execution_count": 15,
      "outputs": [
        {
          "output_type": "execute_result",
          "data": {
            "text/plain": [
              "True"
            ]
          },
          "metadata": {
            "tags": []
          },
          "execution_count": 15
        }
      ]
    },
    {
      "cell_type": "markdown",
      "metadata": {
        "id": "TL9m0YCPpnLH",
        "colab_type": "text"
      },
      "source": [
        "Void functions that do not return anything will return a None object automatically. None is also returned by functions in which the program flow does not encounter a return statement. For example:"
      ]
    },
    {
      "cell_type": "code",
      "metadata": {
        "id": "iqRGeFaJptYJ",
        "colab_type": "code",
        "colab": {
          "base_uri": "https://localhost:8080/",
          "height": 34
        },
        "outputId": "1d500b8b-d434-4397-d587-167f9a050fdb"
      },
      "source": [
        "def a_void_function():\n",
        "    a = 1\n",
        "    b = 2\n",
        "    c = a + b\n",
        "\n",
        "x = a_void_function()\n",
        "print(x)"
      ],
      "execution_count": 16,
      "outputs": [
        {
          "output_type": "stream",
          "text": [
            "None\n"
          ],
          "name": "stdout"
        }
      ]
    },
    {
      "cell_type": "markdown",
      "metadata": {
        "id": "Nmfma1kwp_Vl",
        "colab_type": "text"
      },
      "source": [
        "This program has a function that does not return a value, although it does some operations inside. So when we print x, we get None which is returned automatically (implicitly). Similarly, here is another example:"
      ]
    },
    {
      "cell_type": "code",
      "metadata": {
        "id": "-hTgVI-nqJwp",
        "colab_type": "code",
        "colab": {
          "base_uri": "https://localhost:8080/",
          "height": 34
        },
        "outputId": "6f65f46c-119f-4b6c-db9b-4630ed01a9cb"
      },
      "source": [
        "def improper_return_function(a):\n",
        "    if (a % 2) == 0:\n",
        "        return True\n",
        "\n",
        "x = improper_return_function(3)\n",
        "print(x)"
      ],
      "execution_count": 17,
      "outputs": [
        {
          "output_type": "stream",
          "text": [
            "None\n"
          ],
          "name": "stdout"
        }
      ]
    },
    {
      "cell_type": "code",
      "metadata": {
        "id": "mhkaKqJ2qOjV",
        "colab_type": "code",
        "colab": {
          "base_uri": "https://localhost:8080/",
          "height": 34
        },
        "outputId": "f59e5640-1b4f-4753-d614-c950629f8f75"
      },
      "source": [
        "x = improper_return_function(2)\n",
        "print(x)"
      ],
      "execution_count": 18,
      "outputs": [
        {
          "output_type": "stream",
          "text": [
            "True\n"
          ],
          "name": "stdout"
        }
      ]
    },
    {
      "cell_type": "markdown",
      "metadata": {
        "id": "Z0zhlWNQqXUr",
        "colab_type": "text"
      },
      "source": [
        "Although this function has a **return** statement, it is not reached in every case. The function will return **True** only when the input is even.\n",
        "\n",
        "If we give the function an odd number, **None** is returned implicitly."
      ]
    },
    {
      "cell_type": "markdown",
      "metadata": {
        "id": "YJBNni3DqoJC",
        "colab_type": "text"
      },
      "source": [
        "**and, or , not**\n",
        "\n",
        "**and**, **or**, **not** are the logical operators in Python. **and** will result into **True** only if both the operands are **True**. The truth table for **and** is given below:\n",
        "\n",
        "Truth table for **and**\n"
      ]
    },
    {
      "cell_type": "code",
      "metadata": {
        "id": "zYv41Ms4qUF1",
        "colab_type": "code",
        "colab": {
          "base_uri": "https://localhost:8080/",
          "height": 34
        },
        "outputId": "696b3f5e-4366-40ed-ec9a-d02f26c21148"
      },
      "source": [
        "True and True"
      ],
      "execution_count": 19,
      "outputs": [
        {
          "output_type": "execute_result",
          "data": {
            "text/plain": [
              "True"
            ]
          },
          "metadata": {
            "tags": []
          },
          "execution_count": 19
        }
      ]
    },
    {
      "cell_type": "code",
      "metadata": {
        "id": "dIqHmqcfrCq3",
        "colab_type": "code",
        "colab": {
          "base_uri": "https://localhost:8080/",
          "height": 34
        },
        "outputId": "686a634f-8547-43b5-dd3d-6b6e047339f1"
      },
      "source": [
        "True and False"
      ],
      "execution_count": 20,
      "outputs": [
        {
          "output_type": "execute_result",
          "data": {
            "text/plain": [
              "False"
            ]
          },
          "metadata": {
            "tags": []
          },
          "execution_count": 20
        }
      ]
    },
    {
      "cell_type": "code",
      "metadata": {
        "id": "s8dxA52orG6v",
        "colab_type": "code",
        "colab": {
          "base_uri": "https://localhost:8080/",
          "height": 34
        },
        "outputId": "17f13734-4368-432b-e15e-cfd32ef63265"
      },
      "source": [
        "False and False"
      ],
      "execution_count": 21,
      "outputs": [
        {
          "output_type": "execute_result",
          "data": {
            "text/plain": [
              "False"
            ]
          },
          "metadata": {
            "tags": []
          },
          "execution_count": 21
        }
      ]
    },
    {
      "cell_type": "markdown",
      "metadata": {
        "id": "SztlEf90rMjO",
        "colab_type": "text"
      },
      "source": [
        "or will result into True if any of the operands is True. The truth table for or is given below:\n",
        "\n",
        "Truth table for **or**"
      ]
    },
    {
      "cell_type": "code",
      "metadata": {
        "id": "AL8zBR_OrIvN",
        "colab_type": "code",
        "colab": {
          "base_uri": "https://localhost:8080/",
          "height": 34
        },
        "outputId": "b5e06d92-e975-4ce3-b84d-2bcfa344f4cf"
      },
      "source": [
        "True or True"
      ],
      "execution_count": 22,
      "outputs": [
        {
          "output_type": "execute_result",
          "data": {
            "text/plain": [
              "True"
            ]
          },
          "metadata": {
            "tags": []
          },
          "execution_count": 22
        }
      ]
    },
    {
      "cell_type": "code",
      "metadata": {
        "id": "usqM88AArVIB",
        "colab_type": "code",
        "colab": {
          "base_uri": "https://localhost:8080/",
          "height": 34
        },
        "outputId": "5a5089af-fe0a-448d-a499-0b191c4ef01a"
      },
      "source": [
        "True or False"
      ],
      "execution_count": 23,
      "outputs": [
        {
          "output_type": "execute_result",
          "data": {
            "text/plain": [
              "True"
            ]
          },
          "metadata": {
            "tags": []
          },
          "execution_count": 23
        }
      ]
    },
    {
      "cell_type": "code",
      "metadata": {
        "id": "hOZr8KDOrX5N",
        "colab_type": "code",
        "colab": {
          "base_uri": "https://localhost:8080/",
          "height": 34
        },
        "outputId": "59aa4b26-4216-4ead-f862-46a82160cd1c"
      },
      "source": [
        "False or False"
      ],
      "execution_count": 24,
      "outputs": [
        {
          "output_type": "execute_result",
          "data": {
            "text/plain": [
              "False"
            ]
          },
          "metadata": {
            "tags": []
          },
          "execution_count": 24
        }
      ]
    },
    {
      "cell_type": "markdown",
      "metadata": {
        "id": "pWXMwDKirdew",
        "colab_type": "text"
      },
      "source": [
        "**as**\n",
        "\n",
        "**as** is used to create an alias while importing a module. It means giving a different name (user-defined) to a module while importing it.\n",
        "\n",
        "As for example, Python has a standard module called **math**. Suppose we want to calculate what cosine pi is using an alias. We can do it as follows using as:"
      ]
    },
    {
      "cell_type": "code",
      "metadata": {
        "id": "RBP05FmHrZUN",
        "colab_type": "code",
        "colab": {
          "base_uri": "https://localhost:8080/",
          "height": 34
        },
        "outputId": "90ab23ee-33cc-4b86-de20-129496d746d2"
      },
      "source": [
        "import math as myAlias\n",
        "myAlias.cos(myAlias.pi)"
      ],
      "execution_count": 27,
      "outputs": [
        {
          "output_type": "execute_result",
          "data": {
            "text/plain": [
              "-1.0"
            ]
          },
          "metadata": {
            "tags": []
          },
          "execution_count": 27
        }
      ]
    },
    {
      "cell_type": "markdown",
      "metadata": {
        "id": "vGUSIDwir0pf",
        "colab_type": "text"
      },
      "source": [
        "Here we imported the **math** module by giving it the name **myAlias**. Now we can refer to the **math** module with this name. Using this name we calculated cos(pi) and got -1.0 as the answer."
      ]
    },
    {
      "cell_type": "markdown",
      "metadata": {
        "id": "uVPqIN0Nr-Qk",
        "colab_type": "text"
      },
      "source": [
        "**assert**\n",
        "\n",
        "**assert** is used for debugging purposes.\n",
        "\n",
        "While programming, sometimes we wish to know the internal state or check if our assumptions are true. **assert** helps us do this and find bugs more conveniently. **assert** is followed by a condition.\n",
        "\n",
        "If the condition is true, nothing happens. But if the condition is false, **AssertionError** is raised. For example:"
      ]
    },
    {
      "cell_type": "code",
      "metadata": {
        "id": "xAhzALn0rdC2",
        "colab_type": "code",
        "colab": {}
      },
      "source": [
        "a = 4\n",
        "assert a < 5"
      ],
      "execution_count": 0,
      "outputs": []
    },
    {
      "cell_type": "code",
      "metadata": {
        "id": "oYJMLvvAsPjm",
        "colab_type": "code",
        "colab": {
          "base_uri": "https://localhost:8080/",
          "height": 167
        },
        "outputId": "a5564a03-e228-4e4e-c774-830c3529c50b"
      },
      "source": [
        "assert a > 5"
      ],
      "execution_count": 29,
      "outputs": [
        {
          "output_type": "error",
          "ename": "AssertionError",
          "evalue": "ignored",
          "traceback": [
            "\u001b[0;31m---------------------------------------------------------------------------\u001b[0m",
            "\u001b[0;31mAssertionError\u001b[0m                            Traceback (most recent call last)",
            "\u001b[0;32m<ipython-input-29-87acdaf14735>\u001b[0m in \u001b[0;36m<module>\u001b[0;34m()\u001b[0m\n\u001b[0;32m----> 1\u001b[0;31m \u001b[0;32massert\u001b[0m \u001b[0ma\u001b[0m \u001b[0;34m>\u001b[0m \u001b[0;36m5\u001b[0m\u001b[0;34m\u001b[0m\u001b[0;34m\u001b[0m\u001b[0m\n\u001b[0m",
            "\u001b[0;31mAssertionError\u001b[0m: "
          ]
        }
      ]
    },
    {
      "cell_type": "markdown",
      "metadata": {
        "id": "UYZ4pSRBsXKr",
        "colab_type": "text"
      },
      "source": [
        "For our better understanding, we can also provide a message to be printed with the **AssertionError**"
      ]
    },
    {
      "cell_type": "code",
      "metadata": {
        "id": "8PPRKE0gsTm1",
        "colab_type": "code",
        "colab": {
          "base_uri": "https://localhost:8080/",
          "height": 185
        },
        "outputId": "38cac9c3-97c4-4c47-f26c-7e048ff7def4"
      },
      "source": [
        "a = 4 \n",
        "assert a > 5, \"The value is to small\""
      ],
      "execution_count": 30,
      "outputs": [
        {
          "output_type": "error",
          "ename": "AssertionError",
          "evalue": "ignored",
          "traceback": [
            "\u001b[0;31m---------------------------------------------------------------------------\u001b[0m",
            "\u001b[0;31mAssertionError\u001b[0m                            Traceback (most recent call last)",
            "\u001b[0;32m<ipython-input-30-1c121ffd4f76>\u001b[0m in \u001b[0;36m<module>\u001b[0;34m()\u001b[0m\n\u001b[1;32m      1\u001b[0m \u001b[0ma\u001b[0m \u001b[0;34m=\u001b[0m \u001b[0;36m4\u001b[0m\u001b[0;34m\u001b[0m\u001b[0;34m\u001b[0m\u001b[0m\n\u001b[0;32m----> 2\u001b[0;31m \u001b[0;32massert\u001b[0m \u001b[0ma\u001b[0m \u001b[0;34m>\u001b[0m \u001b[0;36m5\u001b[0m\u001b[0;34m,\u001b[0m \u001b[0;34m\"The value is to small\"\u001b[0m\u001b[0;34m\u001b[0m\u001b[0;34m\u001b[0m\u001b[0m\n\u001b[0m",
            "\u001b[0;31mAssertionError\u001b[0m: The value is to small"
          ]
        }
      ]
    },
    {
      "cell_type": "markdown",
      "metadata": {
        "id": "gJH9KwZdst8h",
        "colab_type": "text"
      },
      "source": [
        "At this point we can note that,\n",
        "\n",
        "**assert** condition, message\n",
        "\n",
        "is equivalent to\n",
        "\n",
        "\n",
        "```\n",
        "if not condition:\n",
        "    raise AssertionError(message)\n",
        "```\n",
        "\n"
      ]
    },
    {
      "cell_type": "code",
      "metadata": {
        "id": "fM8UdYWLspKv",
        "colab_type": "code",
        "colab": {}
      },
      "source": [
        ""
      ],
      "execution_count": 0,
      "outputs": []
    }
  ]
}