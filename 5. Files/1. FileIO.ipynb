{
  "nbformat": 4,
  "nbformat_minor": 0,
  "metadata": {
    "colab": {
      "name": "Untitled35.ipynb",
      "provenance": [],
      "include_colab_link": true
    },
    "kernelspec": {
      "name": "python3",
      "display_name": "Python 3"
    }
  },
  "cells": [
    {
      "cell_type": "markdown",
      "metadata": {
        "id": "view-in-github",
        "colab_type": "text"
      },
      "source": [
        "<a href=\"https://colab.research.google.com/github/sumithdcosta/Python/blob/master/5.%20Files/1.%20FileIO.ipynb\" target=\"_parent\"><img src=\"https://colab.research.google.com/assets/colab-badge.svg\" alt=\"Open In Colab\"/></a>"
      ]
    },
    {
      "cell_type": "markdown",
      "metadata": {
        "id": "rpig7Mij9uz3",
        "colab_type": "text"
      },
      "source": [
        "5. Files/1. FileIO.ipynb"
      ]
    },
    {
      "cell_type": "markdown",
      "metadata": {
        "id": "LQMWjC8s96vu",
        "colab_type": "text"
      },
      "source": [
        "**Python File I/O**\n",
        "\n",
        "**What is a file?**\n",
        "\n",
        "File is a named location on disk to store related information. It is used to permanently store data in a non-volatile memory (e.g. hard disk).\n",
        "\n",
        "Since, random access memory (RAM) is volatile which loses its data when computer is turned off, we use files for future use of the data.\n",
        "\n",
        "When we want to read from or write to a file we need to open it first. When we are done, it needs to be closed, so that resources that are tied with the file are freed.\n",
        "\n",
        "Hence, in Python, a file operation takes place in the following order.\n",
        "\n",
        "* Open a file\n",
        "* Read or write (perform operation)\n",
        "* Close the file"
      ]
    },
    {
      "cell_type": "markdown",
      "metadata": {
        "id": "2Ljrg_PC-LqO",
        "colab_type": "text"
      },
      "source": [
        "**How to open a file?**\n",
        "\n",
        "Python has a built-in function **open**() to open a file. This function returns a file object, also called a handle, as it is used to read or modify the file accordingly.\n",
        "```\n",
        "f = open(\"test.txt\")    # open file in current directory\n",
        "f = open(\"C:/Python33/README.txt\")  # specifying full path\n",
        "```\n",
        "We can specify the mode while opening a file. In mode, we specify whether we want to read 'r', write 'w' or append 'a' to the file. We also specify if we want to open the file in text mode or binary mode.\n",
        "\n",
        "The default is reading in text mode. In this mode, we get strings when reading from the file.\n",
        "\n",
        "On the other hand, binary mode returns bytes and this is the mode to be used when dealing with non-text files like image or exe files.\n",
        "\n",
        "![alt text](https://drive.google.com/uc?export=view&id=1lv-W14Sf53fwYXbjefjfdzqmfq1CulqZ)\n",
        "\n",
        "```\n",
        "f = open(\"test.txt\")      # equivalent to 'r' or 'rt'\n",
        "f = open(\"test.txt\",'w')  # write in text mode\n",
        "f = open(\"img.bmp\",'r+b') # read and write in binary mode\n",
        "```\n",
        "\n"
      ]
    },
    {
      "cell_type": "markdown",
      "metadata": {
        "id": "omsltd-l--Pe",
        "colab_type": "text"
      },
      "source": [
        "Unlike other languages, the character 'a' does not imply the number 97 until it is encoded using ASCII (or other equivalent encodings).\n",
        "\n",
        "Moreover, the default encoding is platform dependent. In windows, it is 'cp1252' but 'utf-8' in Linux.\n",
        "\n",
        "So, we must not also rely on the default encoding or else our code will behave differently in different platforms.\n",
        "\n",
        "Hence, when working with files in text mode, it is highly recommended to specify the encoding type.\n",
        "\n",
        "\n",
        "\n",
        "```\n",
        "f = open(\"test.txt\",mode = 'r',encoding = 'utf-8')\n",
        "```\n",
        "\n"
      ]
    },
    {
      "cell_type": "markdown",
      "metadata": {
        "id": "-5mO2AHm_JYt",
        "colab_type": "text"
      },
      "source": [
        "**How to close a file Using Python?**\n",
        "\n",
        "When we are done with operations to the file, we need to properly close the file.\n",
        "\n",
        "Closing a file will free up the resources that were tied with the file and is done using Python close() method.\n",
        "\n",
        "Python has a garbage collector to clean up unreferenced objects but, we must not rely on it to close the file.\n",
        "\n",
        "```\n",
        "f = open(\"test.txt\",encoding = 'utf-8')\n",
        "# perform file operations\n",
        "f.close()\n",
        "```\n",
        "This method is not entirely safe. If an exception occurs when we are performing some operation with the file, the code exits without closing the file.\n"
      ]
    },
    {
      "cell_type": "markdown",
      "metadata": {
        "id": "HK07csP9_Yj2",
        "colab_type": "text"
      },
      "source": [
        "A safer way is to use a try...finally block.\n",
        "\n",
        "```\n",
        "try:\n",
        "   f = open(\"test.txt\",encoding = 'utf-8')\n",
        "   # perform file operations\n",
        "finally:\n",
        "   f.close()\n",
        "\n",
        "```\n",
        "This way, we are guaranteed that the file is properly closed even if an exception is raised, causing program flow to stop.\n",
        "\n",
        "The best way to do this is using the **with** statement. This ensures that the file is closed when the block inside **with** is exited.\n",
        "\n",
        "We don't need to explicitly call the **close**() method. It is done internally.\n",
        "\n",
        "\n",
        "```\n",
        "with open(\"test.txt\", encoding='utf-8') as f:\n",
        "# perform file operations\n",
        "```\n",
        "\n",
        "\n"
      ]
    },
    {
      "cell_type": "markdown",
      "metadata": {
        "id": "OjmT6vwc_rEF",
        "colab_type": "text"
      },
      "source": [
        "**How to write to File Using Python?**\n",
        "\n",
        "In order to write into a file in Python, we need to open it in write 'w', append 'a' or exclusive creation 'x' mode.\n",
        "\n",
        "We need to be careful with the 'w' mode as it will overwrite into the file if it already exists. All previous data are erased.\n",
        "\n",
        "Writing a string or sequence of bytes (for binary files) is done using write() method. This method returns the number of characters written to the file.\n",
        "\n",
        "\n",
        "\n",
        "```\n",
        "with open(\"test.txt\", 'w', encoding='utf-8') as f:\n",
        "    f.write(\"my first file\\n\")\n",
        "    f.write(\"This file\\n\\n\")\n",
        "    f.write(\"contains three lines\\n\")\n",
        "```\n",
        "\n",
        "This program will create a new file named 'test.txt' if it does not exist. If it does exist, it is overwritten.\n",
        "\n",
        "We must include the newline characters ourselves to distinguish different lines.\n",
        "\n"
      ]
    },
    {
      "cell_type": "code",
      "metadata": {
        "id": "eudWuNhs9t-r",
        "colab_type": "code",
        "colab": {}
      },
      "source": [
        "with open(\"/content/Training/test.txt\", 'w', encoding='utf-8') as f:\n",
        "    f.write(\"my first file\\n\")\n",
        "    f.write(\"This file\\n\\n\")\n",
        "    f.write(\"contains three lines\\n\")"
      ],
      "execution_count": 0,
      "outputs": []
    },
    {
      "cell_type": "code",
      "metadata": {
        "id": "n-0ymXOFAnPl",
        "colab_type": "code",
        "colab": {
          "base_uri": "https://localhost:8080/",
          "height": 52
        },
        "outputId": "52799514-d2d9-4047-8a31-a5332f9e6faa"
      },
      "source": [
        "!ls -rlt /content/Training/"
      ],
      "execution_count": 16,
      "outputs": [
        {
          "output_type": "stream",
          "text": [
            "total 4\n",
            "-rw-r--r-- 1 root root 46 Oct 30 04:55 test.txt\n"
          ],
          "name": "stdout"
        }
      ]
    },
    {
      "cell_type": "markdown",
      "metadata": {
        "id": "ciWqyxXmBPnt",
        "colab_type": "text"
      },
      "source": [
        "**How to read files in Python?**\n",
        "\n",
        "To read a file in Python, we must open the file in reading mode.\n",
        "\n",
        "There are various methods available for this purpose. We can use the read(size) method to read in size number of data. If size parameter is not specified, it reads and returns up to the end of the file."
      ]
    },
    {
      "cell_type": "code",
      "metadata": {
        "id": "jAKf8pXZA6LM",
        "colab_type": "code",
        "colab": {
          "base_uri": "https://localhost:8080/",
          "height": 158
        },
        "outputId": "333dca58-7358-4482-c128-a565a0e5e316"
      },
      "source": [
        "f = open(\"/content/Training/test.txt\",'r',encoding = 'utf-8')\n",
        "print(f.read(4))   # read the first 4 data\n",
        "\n",
        "print(f.read(4))    # read the next 4 data\n",
        "\n",
        "print(f.read())     # read in the rest till end of file\n",
        "\n",
        "print(f.read())  # further reading returns empty sting\n"
      ],
      "execution_count": 22,
      "outputs": [
        {
          "output_type": "stream",
          "text": [
            "my f\n",
            "irst\n",
            " file\n",
            "This file\n",
            "\n",
            "contains three lines\n",
            "\n",
            "\n"
          ],
          "name": "stdout"
        }
      ]
    },
    {
      "cell_type": "markdown",
      "metadata": {
        "id": "OuYGXy5tB91k",
        "colab_type": "text"
      },
      "source": [
        "We can see that, the read() method returns newline as '\\n'. Once the end of file is reached, we get empty string on further reading.\n",
        "\n",
        "We can change our current file cursor (position) using the seek() method. Similarly, the tell() method returns our current position (in number of bytes)."
      ]
    },
    {
      "cell_type": "code",
      "metadata": {
        "id": "BS-6coOwBc4t",
        "colab_type": "code",
        "colab": {
          "base_uri": "https://localhost:8080/",
          "height": 34
        },
        "outputId": "ae99322b-af81-4704-ba57-e9fe414640d2"
      },
      "source": [
        "f.tell()    # get the current file position"
      ],
      "execution_count": 23,
      "outputs": [
        {
          "output_type": "execute_result",
          "data": {
            "text/plain": [
              "46"
            ]
          },
          "metadata": {
            "tags": []
          },
          "execution_count": 23
        }
      ]
    },
    {
      "cell_type": "code",
      "metadata": {
        "id": "JHxdhcVLCDrj",
        "colab_type": "code",
        "colab": {
          "base_uri": "https://localhost:8080/",
          "height": 34
        },
        "outputId": "74643df8-4cbc-43a1-f878-202a716e2998"
      },
      "source": [
        "f.seek(0)   # bring file cursor to initial position"
      ],
      "execution_count": 24,
      "outputs": [
        {
          "output_type": "execute_result",
          "data": {
            "text/plain": [
              "0"
            ]
          },
          "metadata": {
            "tags": []
          },
          "execution_count": 24
        }
      ]
    },
    {
      "cell_type": "code",
      "metadata": {
        "id": "buSOQu_UCFRj",
        "colab_type": "code",
        "colab": {
          "base_uri": "https://localhost:8080/",
          "height": 105
        },
        "outputId": "0be630f9-3172-4f08-bd3e-908ebc947678"
      },
      "source": [
        "print(f.read())  # read the entire file"
      ],
      "execution_count": 25,
      "outputs": [
        {
          "output_type": "stream",
          "text": [
            "my first file\n",
            "This file\n",
            "\n",
            "contains three lines\n",
            "\n"
          ],
          "name": "stdout"
        }
      ]
    },
    {
      "cell_type": "markdown",
      "metadata": {
        "id": "mzE4k8tQCKdq",
        "colab_type": "text"
      },
      "source": [
        "We can read a file line-by-line using a for loop. This is both efficient and fast."
      ]
    },
    {
      "cell_type": "code",
      "metadata": {
        "id": "LkIzun5mCHMD",
        "colab_type": "code",
        "colab": {
          "base_uri": "https://localhost:8080/",
          "height": 87
        },
        "outputId": "481158fe-9408-4412-8cf5-c25c8e3ca62b"
      },
      "source": [
        "f.seek(0)\n",
        "for line in f:\n",
        "  print(line, end = '')"
      ],
      "execution_count": 27,
      "outputs": [
        {
          "output_type": "stream",
          "text": [
            "my first file\n",
            "This file\n",
            "\n",
            "contains three lines\n"
          ],
          "name": "stdout"
        }
      ]
    },
    {
      "cell_type": "markdown",
      "metadata": {
        "id": "o776E9o8CSNe",
        "colab_type": "text"
      },
      "source": [
        "The lines in file itself has a newline character '\\n'.\n",
        "\n",
        "Moreover, the **print**() end parameter to avoid two newlines when printing.\n",
        "\n",
        "Alternately, we can use **readline**() method to read individual lines of a file. This method reads a file till the newline, including the newline character."
      ]
    },
    {
      "cell_type": "code",
      "metadata": {
        "id": "-b_6FRrMCNzz",
        "colab_type": "code",
        "colab": {
          "base_uri": "https://localhost:8080/",
          "height": 34
        },
        "outputId": "3ddd91c0-45a4-478f-9419-c79bcadb45fd"
      },
      "source": [
        "f.seek(0)\n",
        "f.readline()"
      ],
      "execution_count": 28,
      "outputs": [
        {
          "output_type": "execute_result",
          "data": {
            "text/plain": [
              "'my first file\\n'"
            ]
          },
          "metadata": {
            "tags": []
          },
          "execution_count": 28
        }
      ]
    },
    {
      "cell_type": "code",
      "metadata": {
        "id": "X60OPeY8CcE1",
        "colab_type": "code",
        "colab": {
          "base_uri": "https://localhost:8080/",
          "height": 34
        },
        "outputId": "1e22c031-7e78-4aae-f97c-a8a586558366"
      },
      "source": [
        "f.readline()"
      ],
      "execution_count": 29,
      "outputs": [
        {
          "output_type": "execute_result",
          "data": {
            "text/plain": [
              "'This file\\n'"
            ]
          },
          "metadata": {
            "tags": []
          },
          "execution_count": 29
        }
      ]
    },
    {
      "cell_type": "code",
      "metadata": {
        "id": "iFndfTdJCdOz",
        "colab_type": "code",
        "colab": {
          "base_uri": "https://localhost:8080/",
          "height": 34
        },
        "outputId": "8962736c-b7ad-4233-dd90-f90e52b6c559"
      },
      "source": [
        "f.readline()\n",
        "f.readline()"
      ],
      "execution_count": 30,
      "outputs": [
        {
          "output_type": "execute_result",
          "data": {
            "text/plain": [
              "'contains three lines\\n'"
            ]
          },
          "metadata": {
            "tags": []
          },
          "execution_count": 30
        }
      ]
    },
    {
      "cell_type": "code",
      "metadata": {
        "id": "ldj_K5aLCexU",
        "colab_type": "code",
        "colab": {
          "base_uri": "https://localhost:8080/",
          "height": 34
        },
        "outputId": "6ef7f806-087f-4f52-9cbc-2d544335af76"
      },
      "source": [
        "f.readline()"
      ],
      "execution_count": 31,
      "outputs": [
        {
          "output_type": "execute_result",
          "data": {
            "text/plain": [
              "''"
            ]
          },
          "metadata": {
            "tags": []
          },
          "execution_count": 31
        }
      ]
    },
    {
      "cell_type": "markdown",
      "metadata": {
        "id": "1mIHUQjxChYx",
        "colab_type": "text"
      },
      "source": [
        "Lastly, the readlines() method returns a list of remaining lines of the entire file. All these reading method return empty values when end of file (EOF) is reached."
      ]
    },
    {
      "cell_type": "code",
      "metadata": {
        "id": "wYipF_niCfgq",
        "colab_type": "code",
        "colab": {
          "base_uri": "https://localhost:8080/",
          "height": 34
        },
        "outputId": "a4cc0c43-e8b6-45fe-edaa-021beba0ed76"
      },
      "source": [
        "f.seek(0)\n",
        "f.readlines()"
      ],
      "execution_count": 32,
      "outputs": [
        {
          "output_type": "execute_result",
          "data": {
            "text/plain": [
              "['my first file\\n', 'This file\\n', '\\n', 'contains three lines\\n']"
            ]
          },
          "metadata": {
            "tags": []
          },
          "execution_count": 32
        }
      ]
    },
    {
      "cell_type": "code",
      "metadata": {
        "id": "25cyvEKcCnay",
        "colab_type": "code",
        "colab": {}
      },
      "source": [
        ""
      ],
      "execution_count": 0,
      "outputs": []
    },
    {
      "cell_type": "markdown",
      "metadata": {
        "id": "0MKD7euoCpcQ",
        "colab_type": "text"
      },
      "source": [
        "**Python File Methods**\n",
        "\n",
        "There are various methods available with the file object. Some of them have been used in above examples.\n",
        "\n",
        "Here is the complete list of methods in text mode with a brief description.\n"
      ]
    }
  ]
}