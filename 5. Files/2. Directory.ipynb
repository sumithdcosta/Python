{
  "nbformat": 4,
  "nbformat_minor": 0,
  "metadata": {
    "colab": {
      "name": "Untitled36.ipynb",
      "provenance": [],
      "include_colab_link": true
    },
    "kernelspec": {
      "name": "python3",
      "display_name": "Python 3"
    }
  },
  "cells": [
    {
      "cell_type": "markdown",
      "metadata": {
        "id": "view-in-github",
        "colab_type": "text"
      },
      "source": [
        "<a href=\"https://colab.research.google.com/github/sumithdcosta/Python/blob/master/5.%20Files/2.%20Directory.ipynb\" target=\"_parent\"><img src=\"https://colab.research.google.com/assets/colab-badge.svg\" alt=\"Open In Colab\"/></a>"
      ]
    },
    {
      "cell_type": "markdown",
      "metadata": {
        "id": "izieHyMS1i9N",
        "colab_type": "text"
      },
      "source": [
        "5. Files/2. Directory.ipynb"
      ]
    },
    {
      "cell_type": "markdown",
      "metadata": {
        "id": "Nge0ehuL1qQf",
        "colab_type": "text"
      },
      "source": [
        "**Python Directory and Files Management**\n",
        "\n",
        "**What is Directory in Python?**\n",
        "\n",
        "If there are a large number of files to handle in your Python program, you can arrange your code within different directories to make things more manageable.\n",
        "\n",
        "A directory or folder is a collection of files and sub directories. Python has the os module, which provides us with many useful methods to work with directories (and files as well)."
      ]
    },
    {
      "cell_type": "markdown",
      "metadata": {
        "id": "FUZ79cxK1xTN",
        "colab_type": "text"
      },
      "source": [
        "**Get Current Directory**\n",
        "\n",
        "We can get the present working directory using the getcwd() method.\n",
        "\n",
        "This method returns the current working directory in the form of a string. We can also use the getcwdb() method to get it as bytes object."
      ]
    },
    {
      "cell_type": "code",
      "metadata": {
        "id": "xCU6gAgy1iTR",
        "colab_type": "code",
        "colab": {}
      },
      "source": [
        "import os"
      ],
      "execution_count": 0,
      "outputs": []
    },
    {
      "cell_type": "code",
      "metadata": {
        "id": "k9Ov2WVY10hm",
        "colab_type": "code",
        "colab": {
          "base_uri": "https://localhost:8080/",
          "height": 34
        },
        "outputId": "9586d1f3-66c8-4304-e64c-f508ca1baf7e"
      },
      "source": [
        "os.getcwd()\n",
        "#'C:\\\\Program Files\\\\PyScripter'"
      ],
      "execution_count": 2,
      "outputs": [
        {
          "output_type": "execute_result",
          "data": {
            "text/plain": [
              "'/content'"
            ]
          },
          "metadata": {
            "tags": []
          },
          "execution_count": 2
        }
      ]
    },
    {
      "cell_type": "code",
      "metadata": {
        "id": "wpF65T881469",
        "colab_type": "code",
        "colab": {
          "base_uri": "https://localhost:8080/",
          "height": 34
        },
        "outputId": "56eec8ba-e053-4957-9893-9af45ae00455"
      },
      "source": [
        "os.getcwdb()\n",
        "#b'C:\\\\Program Files\\\\PyScripter'"
      ],
      "execution_count": 3,
      "outputs": [
        {
          "output_type": "execute_result",
          "data": {
            "text/plain": [
              "b'/content'"
            ]
          },
          "metadata": {
            "tags": []
          },
          "execution_count": 3
        }
      ]
    },
    {
      "cell_type": "markdown",
      "metadata": {
        "id": "19f3GqMk2FJF",
        "colab_type": "text"
      },
      "source": [
        "The extra backslash implies escape sequence. The print() function will render this properly."
      ]
    },
    {
      "cell_type": "code",
      "metadata": {
        "id": "06mm9ZC-1601",
        "colab_type": "code",
        "colab": {
          "base_uri": "https://localhost:8080/",
          "height": 34
        },
        "outputId": "d7ab37bf-9338-4767-e400-0ea15abc19d9"
      },
      "source": [
        "print(os.getcwd())"
      ],
      "execution_count": 4,
      "outputs": [
        {
          "output_type": "stream",
          "text": [
            "/content\n"
          ],
          "name": "stdout"
        }
      ]
    },
    {
      "cell_type": "markdown",
      "metadata": {
        "id": "AaNb1-e42KYC",
        "colab_type": "text"
      },
      "source": [
        "**Changing Directory**\n",
        "\n",
        "We can change the current working directory using the **chdir**() method.\n",
        "\n",
        "The new path that we want to change to must be supplied as a string to this method. We can use both forward slash (/) or the backward slash (\\) to separate path elements.\n",
        "\n",
        "It is safer to use escape sequence when using the backward slash."
      ]
    },
    {
      "cell_type": "code",
      "metadata": {
        "id": "9_DLwJGw2G9d",
        "colab_type": "code",
        "colab": {
          "base_uri": "https://localhost:8080/",
          "height": 34
        },
        "outputId": "52a01a22-9a85-4fa6-d7ab-d75ba875b744"
      },
      "source": [
        "os.chdir('/content/sample_data/')\n",
        "print(os.getcwd())"
      ],
      "execution_count": 11,
      "outputs": [
        {
          "output_type": "stream",
          "text": [
            "/content/sample_data\n"
          ],
          "name": "stdout"
        }
      ]
    },
    {
      "cell_type": "markdown",
      "metadata": {
        "id": "umEyNEs83F6U",
        "colab_type": "text"
      },
      "source": [
        "**List Directories and Files**\n",
        "\n",
        "All files and sub directories inside a directory can be known using the listdir() method.\n",
        "\n",
        "This method takes in a path and returns a list of sub directories and files in that path. If no path is specified, it returns from the current working directory."
      ]
    },
    {
      "cell_type": "code",
      "metadata": {
        "id": "Lima7jJ-3Q8j",
        "colab_type": "code",
        "colab": {
          "base_uri": "https://localhost:8080/",
          "height": 34
        },
        "outputId": "58beae87-6e2f-4a07-c01e-d59bf644a741"
      },
      "source": [
        "print(os.getcwd())"
      ],
      "execution_count": 13,
      "outputs": [
        {
          "output_type": "stream",
          "text": [
            "/content/sample_data\n"
          ],
          "name": "stdout"
        }
      ]
    },
    {
      "cell_type": "code",
      "metadata": {
        "id": "q68-uBp13Rdf",
        "colab_type": "code",
        "colab": {
          "base_uri": "https://localhost:8080/",
          "height": 123
        },
        "outputId": "7552c775-ade4-424a-fb52-347ebc36753a"
      },
      "source": [
        "os.listdir()"
      ],
      "execution_count": 14,
      "outputs": [
        {
          "output_type": "execute_result",
          "data": {
            "text/plain": [
              "['anscombe.json',\n",
              " 'README.md',\n",
              " 'mnist_test.csv',\n",
              " 'mnist_train_small.csv',\n",
              " 'california_housing_train.csv',\n",
              " 'california_housing_test.csv']"
            ]
          },
          "metadata": {
            "tags": []
          },
          "execution_count": 14
        }
      ]
    },
    {
      "cell_type": "code",
      "metadata": {
        "id": "_L8aP4VU3SzX",
        "colab_type": "code",
        "colab": {
          "base_uri": "https://localhost:8080/",
          "height": 123
        },
        "outputId": "4329914a-8375-44f9-8015-d11bbb5d1270"
      },
      "source": [
        "os.listdir('/content/sample_data')"
      ],
      "execution_count": 16,
      "outputs": [
        {
          "output_type": "execute_result",
          "data": {
            "text/plain": [
              "['anscombe.json',\n",
              " 'README.md',\n",
              " 'mnist_test.csv',\n",
              " 'mnist_train_small.csv',\n",
              " 'california_housing_train.csv',\n",
              " 'california_housing_test.csv']"
            ]
          },
          "metadata": {
            "tags": []
          },
          "execution_count": 16
        }
      ]
    },
    {
      "cell_type": "markdown",
      "metadata": {
        "id": "X8EJcwJe3cUG",
        "colab_type": "text"
      },
      "source": [
        "**Making a New Directory**\n",
        "\n",
        "We can make a new directory using the **mkdir**() method.\n",
        "\n",
        "This method takes in the path of the new directory. If the full path is not specified, the new directory is created in the current working directory."
      ]
    },
    {
      "cell_type": "code",
      "metadata": {
        "id": "uQttfCRk3U2n",
        "colab_type": "code",
        "colab": {
          "base_uri": "https://localhost:8080/",
          "height": 34
        },
        "outputId": "607b81cf-c681-4532-85fa-080b8186e668"
      },
      "source": [
        "os.chdir('/content/')\n",
        "os.mkdir('test')\n",
        "os.listdir()"
      ],
      "execution_count": 35,
      "outputs": [
        {
          "output_type": "execute_result",
          "data": {
            "text/plain": [
              "['.config', 'Training', 'test', 'sample_data']"
            ]
          },
          "metadata": {
            "tags": []
          },
          "execution_count": 35
        }
      ]
    },
    {
      "cell_type": "markdown",
      "metadata": {
        "id": "h8zdAK_q3zG5",
        "colab_type": "text"
      },
      "source": [
        "**Renaming a Directory or a File**\n",
        "\n",
        "The **rename**() method can rename a directory or a file.\n",
        "\n",
        "The first argument is the old name and the new name must be supplies as the second argument.\n"
      ]
    },
    {
      "cell_type": "code",
      "metadata": {
        "id": "TlgXU9cn3s83",
        "colab_type": "code",
        "colab": {
          "base_uri": "https://localhost:8080/",
          "height": 34
        },
        "outputId": "986db8e0-253c-4354-ac24-35ea02914697"
      },
      "source": [
        "os.listdir()"
      ],
      "execution_count": 36,
      "outputs": [
        {
          "output_type": "execute_result",
          "data": {
            "text/plain": [
              "['.config', 'Training', 'test', 'sample_data']"
            ]
          },
          "metadata": {
            "tags": []
          },
          "execution_count": 36
        }
      ]
    },
    {
      "cell_type": "code",
      "metadata": {
        "id": "aJFEvI2L33Mv",
        "colab_type": "code",
        "colab": {}
      },
      "source": [
        "os.rename('test','new_one')"
      ],
      "execution_count": 0,
      "outputs": []
    },
    {
      "cell_type": "code",
      "metadata": {
        "id": "pKn37hZA34on",
        "colab_type": "code",
        "colab": {
          "base_uri": "https://localhost:8080/",
          "height": 34
        },
        "outputId": "dd6e6a8c-7892-47c7-b796-050cc5814791"
      },
      "source": [
        "os.listdir()"
      ],
      "execution_count": 38,
      "outputs": [
        {
          "output_type": "execute_result",
          "data": {
            "text/plain": [
              "['.config', 'Training', 'new_one', 'sample_data']"
            ]
          },
          "metadata": {
            "tags": []
          },
          "execution_count": 38
        }
      ]
    },
    {
      "cell_type": "markdown",
      "metadata": {
        "id": "Xc6gPtfmBYT6",
        "colab_type": "text"
      },
      "source": [
        "**Removing Directory or File**\n",
        "\n",
        "A file can be removed (deleted) using the remove() method.\n",
        "\n",
        "Similarly, the rmdir() method removes an empty directory"
      ]
    },
    {
      "cell_type": "code",
      "metadata": {
        "id": "xgPSye01B0UR",
        "colab_type": "code",
        "colab": {}
      },
      "source": [
        "os.mkdir('/content/Training/')\n",
        "os.chdir('/content/Training/')\n",
        "with open(\"/content/Training/test.txt\", 'w', encoding='utf-8') as f:\n",
        "    f.write(\"my first file\\n\")"
      ],
      "execution_count": 0,
      "outputs": []
    },
    {
      "cell_type": "code",
      "metadata": {
        "id": "uyUjL_mH36bY",
        "colab_type": "code",
        "colab": {
          "base_uri": "https://localhost:8080/",
          "height": 34
        },
        "outputId": "8376a548-faab-453e-ac78-fd98122ac48e"
      },
      "source": [
        "os.listdir()"
      ],
      "execution_count": 52,
      "outputs": [
        {
          "output_type": "execute_result",
          "data": {
            "text/plain": [
              "['test.txt']"
            ]
          },
          "metadata": {
            "tags": []
          },
          "execution_count": 52
        }
      ]
    },
    {
      "cell_type": "code",
      "metadata": {
        "id": "RkEul8POBefD",
        "colab_type": "code",
        "colab": {}
      },
      "source": [
        "os.remove('test.txt')"
      ],
      "execution_count": 0,
      "outputs": []
    },
    {
      "cell_type": "code",
      "metadata": {
        "id": "IdhZcDdMBkEC",
        "colab_type": "code",
        "colab": {
          "base_uri": "https://localhost:8080/",
          "height": 34
        },
        "outputId": "5449e566-0dbe-4528-eac0-62737793393e"
      },
      "source": [
        "os.chdir('/content/')\n",
        "os.listdir()"
      ],
      "execution_count": 59,
      "outputs": [
        {
          "output_type": "execute_result",
          "data": {
            "text/plain": [
              "['.config', 'Training', 'sample_data']"
            ]
          },
          "metadata": {
            "tags": []
          },
          "execution_count": 59
        }
      ]
    },
    {
      "cell_type": "code",
      "metadata": {
        "id": "zQpa_r9gBsXi",
        "colab_type": "code",
        "colab": {
          "base_uri": "https://localhost:8080/",
          "height": 185
        },
        "outputId": "d7e14d6e-1520-4201-9041-265d19031210"
      },
      "source": [
        "os.rmdir('new_one')\n",
        "os.listdir()"
      ],
      "execution_count": 55,
      "outputs": [
        {
          "output_type": "error",
          "ename": "FileNotFoundError",
          "evalue": "ignored",
          "traceback": [
            "\u001b[0;31m---------------------------------------------------------------------------\u001b[0m",
            "\u001b[0;31mFileNotFoundError\u001b[0m                         Traceback (most recent call last)",
            "\u001b[0;32m<ipython-input-55-d5afa11e952e>\u001b[0m in \u001b[0;36m<module>\u001b[0;34m()\u001b[0m\n\u001b[0;32m----> 1\u001b[0;31m \u001b[0mos\u001b[0m\u001b[0;34m.\u001b[0m\u001b[0mrmdir\u001b[0m\u001b[0;34m(\u001b[0m\u001b[0;34m'new_one'\u001b[0m\u001b[0;34m)\u001b[0m\u001b[0;34m\u001b[0m\u001b[0;34m\u001b[0m\u001b[0m\n\u001b[0m\u001b[1;32m      2\u001b[0m \u001b[0mos\u001b[0m\u001b[0;34m.\u001b[0m\u001b[0mlistdir\u001b[0m\u001b[0;34m(\u001b[0m\u001b[0;34m)\u001b[0m\u001b[0;34m\u001b[0m\u001b[0;34m\u001b[0m\u001b[0m\n",
            "\u001b[0;31mFileNotFoundError\u001b[0m: [Errno 2] No such file or directory: 'new_one'"
          ]
        }
      ]
    },
    {
      "cell_type": "markdown",
      "metadata": {
        "id": "yH0kq04dCdp_",
        "colab_type": "text"
      },
      "source": [
        "However, note that rmdir() method can only remove empty directories.\n",
        "\n",
        "In order to remove a non-empty directory we can use the rmtree() method inside the shutil module.\n"
      ]
    },
    {
      "cell_type": "code",
      "metadata": {
        "id": "zVDcQ8JPCR4k",
        "colab_type": "code",
        "colab": {
          "base_uri": "https://localhost:8080/",
          "height": 34
        },
        "outputId": "8a85e98d-1c4d-4175-b230-19d9b6355e76"
      },
      "source": [
        "os.listdir()"
      ],
      "execution_count": 56,
      "outputs": [
        {
          "output_type": "execute_result",
          "data": {
            "text/plain": [
              "['.config', 'Training', 'sample_data']"
            ]
          },
          "metadata": {
            "tags": []
          },
          "execution_count": 56
        }
      ]
    },
    {
      "cell_type": "code",
      "metadata": {
        "id": "dyXx1UJbChSj",
        "colab_type": "code",
        "colab": {
          "base_uri": "https://localhost:8080/",
          "height": 167
        },
        "outputId": "9b203ce3-366a-4ab8-e065-c5cad540f073"
      },
      "source": [
        "os.rmdir('Training')"
      ],
      "execution_count": 60,
      "outputs": [
        {
          "output_type": "error",
          "ename": "OSError",
          "evalue": "ignored",
          "traceback": [
            "\u001b[0;31m---------------------------------------------------------------------------\u001b[0m",
            "\u001b[0;31mOSError\u001b[0m                                   Traceback (most recent call last)",
            "\u001b[0;32m<ipython-input-60-6b3415a5483f>\u001b[0m in \u001b[0;36m<module>\u001b[0;34m()\u001b[0m\n\u001b[0;32m----> 1\u001b[0;31m \u001b[0mos\u001b[0m\u001b[0;34m.\u001b[0m\u001b[0mrmdir\u001b[0m\u001b[0;34m(\u001b[0m\u001b[0;34m'Training'\u001b[0m\u001b[0;34m)\u001b[0m\u001b[0;34m\u001b[0m\u001b[0;34m\u001b[0m\u001b[0m\n\u001b[0m",
            "\u001b[0;31mOSError\u001b[0m: [Errno 39] Directory not empty: 'Training'"
          ]
        }
      ]
    },
    {
      "cell_type": "code",
      "metadata": {
        "id": "ZgFfQjCICj5z",
        "colab_type": "code",
        "colab": {}
      },
      "source": [
        "import shutil"
      ],
      "execution_count": 0,
      "outputs": []
    },
    {
      "cell_type": "code",
      "metadata": {
        "id": "TcR5uvnVCoyk",
        "colab_type": "code",
        "colab": {}
      },
      "source": [
        "os.chdir('/content/')\n",
        "shutil.rmtree('Training')"
      ],
      "execution_count": 0,
      "outputs": []
    },
    {
      "cell_type": "code",
      "metadata": {
        "id": "9ooKE0qQCqLk",
        "colab_type": "code",
        "colab": {
          "base_uri": "https://localhost:8080/",
          "height": 34
        },
        "outputId": "98f003e7-f9f5-4d96-9b9f-d93127abb2c0"
      },
      "source": [
        "os.listdir()"
      ],
      "execution_count": 63,
      "outputs": [
        {
          "output_type": "execute_result",
          "data": {
            "text/plain": [
              "['.config', 'sample_data']"
            ]
          },
          "metadata": {
            "tags": []
          },
          "execution_count": 63
        }
      ]
    },
    {
      "cell_type": "code",
      "metadata": {
        "id": "l2AEeaQ4DGfB",
        "colab_type": "code",
        "colab": {}
      },
      "source": [
        ""
      ],
      "execution_count": 0,
      "outputs": []
    }
  ]
}