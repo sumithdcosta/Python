{
  "nbformat": 4,
  "nbformat_minor": 0,
  "metadata": {
    "colab": {
      "name": "Untitled38.ipynb",
      "provenance": [],
      "include_colab_link": true
    },
    "kernelspec": {
      "name": "python3",
      "display_name": "Python 3"
    }
  },
  "cells": [
    {
      "cell_type": "markdown",
      "metadata": {
        "id": "view-in-github",
        "colab_type": "text"
      },
      "source": [
        "<a href=\"https://colab.research.google.com/github/sumithdcosta/Python/blob/master/5.%20Files/4.%20ExceptionHandling.ipynb\" target=\"_parent\"><img src=\"https://colab.research.google.com/assets/colab-badge.svg\" alt=\"Open In Colab\"/></a>"
      ]
    },
    {
      "cell_type": "markdown",
      "metadata": {
        "id": "BuKixoBZHHAn",
        "colab_type": "text"
      },
      "source": [
        "5. Files/4. ExceptionHandling.ipynb"
      ]
    },
    {
      "cell_type": "markdown",
      "metadata": {
        "id": "C2qy3o_CHPaa",
        "colab_type": "text"
      },
      "source": [
        "**What are exceptions in Python?**\n",
        "\n",
        "Python has many built-in exceptions which forces your program to output an error when something in it goes wrong.\n",
        "\n",
        "When these exceptions occur, it causes the current process to stop and passes it to the calling process until it is handled. If not handled, our program will crash.\n",
        "\n",
        "For example, if f**unction A** calls **function B** which in turn calls **function C** and an exception occurs in **function C**. If it is not handled in **C**, the exception passes to **B** and then to **A**.\n",
        "\n",
        "If never handled, an error message is spit out and our program come to a sudden, unexpected halt."
      ]
    },
    {
      "cell_type": "markdown",
      "metadata": {
        "id": "9AyBKJGnMtlg",
        "colab_type": "text"
      },
      "source": [
        "**Catching Exceptions in Python**\n",
        "\n",
        "In Python, exceptions can be handled using a try statement.\n",
        "\n",
        "A critical operation which can raise exception is placed inside the try clause and the code that handles exception is written in except clause.\n",
        "\n",
        "It is up to us, what operations we perform once we have caught the exception. Here is a simple example."
      ]
    },
    {
      "cell_type": "code",
      "metadata": {
        "id": "2dj3kyDmHGYE",
        "colab_type": "code",
        "colab": {
          "base_uri": "https://localhost:8080/",
          "height": 194
        },
        "outputId": "2a7bd766-4bf8-4ca3-89aa-330cc281bd6c"
      },
      "source": [
        "# import module sys to get the type of exception\n",
        "import sys\n",
        "\n",
        "randomList = ['a', 0, 2]\n",
        "\n",
        "for entry in randomList:\n",
        "    try:\n",
        "        print(\"The entry is\", entry)\n",
        "        r = 1/int(entry)\n",
        "        break\n",
        "    except:\n",
        "        print(\"Oops!\",sys.exc_info()[0],\"occured.\")\n",
        "        print(\"Next entry.\")\n",
        "        print()\n",
        "print(\"The reciprocal of\",entry,\"is\",r)\n"
      ],
      "execution_count": 4,
      "outputs": [
        {
          "output_type": "stream",
          "text": [
            "The entry is a\n",
            "Oops! <class 'ValueError'> occured.\n",
            "Next entry.\n",
            "\n",
            "The entry is 0\n",
            "Oops! <class 'ZeroDivisionError'> occured.\n",
            "Next entry.\n",
            "\n",
            "The entry is 2\n",
            "The reciprocal of 2 is 0.5\n"
          ],
          "name": "stdout"
        }
      ]
    },
    {
      "cell_type": "code",
      "metadata": {
        "id": "Jn3Kkt5ENAlb",
        "colab_type": "code",
        "colab": {
          "base_uri": "https://localhost:8080/",
          "height": 230
        },
        "outputId": "8c803d2a-9dd0-4814-d233-b337d31ba3e8"
      },
      "source": [
        "# import module sys to get the type of exception\n",
        "import sys\n",
        "\n",
        "randomList = ['a', 0, 2]\n",
        "\n",
        "for entry in randomList:\n",
        "    try:\n",
        "        print(\"The entry is\", entry)\n",
        "        r = 1/int(entry)\n",
        "        break\n",
        "    except Exception as exc:\n",
        "        print(\"Oops!\",exc)\n",
        "        print(\"Oops!\",sys.exc_info()[0],\"occured.\")\n",
        "        print(\"Next entry.\")\n",
        "        print()\n",
        "print(\"The reciprocal of\",entry,\"is\",r)        "
      ],
      "execution_count": 5,
      "outputs": [
        {
          "output_type": "stream",
          "text": [
            "The entry is a\n",
            "Oops! invalid literal for int() with base 10: 'a'\n",
            "Oops! <class 'ValueError'> occured.\n",
            "Next entry.\n",
            "\n",
            "The entry is 0\n",
            "Oops! division by zero\n",
            "Oops! <class 'ZeroDivisionError'> occured.\n",
            "Next entry.\n",
            "\n",
            "The entry is 2\n",
            "The reciprocal of 2 is 0.5\n"
          ],
          "name": "stdout"
        }
      ]
    },
    {
      "cell_type": "markdown",
      "metadata": {
        "id": "Kb232LpeNw8w",
        "colab_type": "text"
      },
      "source": [
        "In this program, we loop until the user enters an integer that has a valid reciprocal. The portion that can cause exception is placed inside try block.\n",
        "\n",
        "If no exception occurs, except block is skipped and normal flow continues. But if any exception occurs, it is caught by the except block.\n",
        "\n",
        "Here, we print the name of the exception using ex_info() function inside sys module and ask the user to try again. We can see that the values 'a' and '1.3' causes ValueError and '0' causes ZeroDivisionError.\n",
        "\n"
      ]
    },
    {
      "cell_type": "markdown",
      "metadata": {
        "id": "mgPp0OXhN7Jn",
        "colab_type": "text"
      },
      "source": [
        "**Catching Specific Exceptions in Python**\n",
        "\n",
        "In the above example, we did not mention any exception in the except clause.\n",
        "\n",
        "This is not a good programming practice as it will catch all exceptions and handle every case in the same way. We can specify which exceptions an except clause will catch.\n",
        "\n",
        "A try clause can have any number of except clause to handle them differently but only one will be executed in case an exception occurs.\n",
        "\n",
        "We can use a tuple of values to specify multiple exceptions in an except clause. Here is an example pseudo code.\n",
        "\n",
        "\n",
        "\n",
        "```\n",
        "try:\n",
        "   # do something\n",
        "   pass\n",
        "\n",
        "except ValueError:\n",
        "   # handle ValueError exception\n",
        "   pass\n",
        "\n",
        "except (TypeError, ZeroDivisionError):\n",
        "   # handle multiple exceptions\n",
        "   # TypeError and ZeroDivisionError\n",
        "   pass\n",
        "\n",
        "except:\n",
        "   # handle all other exceptions\n",
        "   pass\n",
        "```\n",
        "\n"
      ]
    },
    {
      "cell_type": "markdown",
      "metadata": {
        "id": "EnOONvUOOJgz",
        "colab_type": "text"
      },
      "source": [
        "**Raising Exceptions**\n",
        "\n",
        "In Python programming, exceptions are raised when corresponding errors occur at run time, but we can forcefully raise it using the keyword raise.\n",
        "\n",
        "We can also optionally pass in value to the exception to clarify why that exception was raised.\n"
      ]
    },
    {
      "cell_type": "code",
      "metadata": {
        "id": "jr2oQ59wNnBh",
        "colab_type": "code",
        "colab": {
          "base_uri": "https://localhost:8080/",
          "height": 167
        },
        "outputId": "6614cdbd-3fb5-4b8e-d0c6-669646ec9293"
      },
      "source": [
        "raise KeyboardInterrupt"
      ],
      "execution_count": 6,
      "outputs": [
        {
          "output_type": "error",
          "ename": "KeyboardInterrupt",
          "evalue": "ignored",
          "traceback": [
            "\u001b[0;31m---------------------------------------------------------------------------\u001b[0m",
            "\u001b[0;31mKeyboardInterrupt\u001b[0m                         Traceback (most recent call last)",
            "\u001b[0;32m<ipython-input-6-c761920b81b0>\u001b[0m in \u001b[0;36m<module>\u001b[0;34m()\u001b[0m\n\u001b[0;32m----> 1\u001b[0;31m \u001b[0;32mraise\u001b[0m \u001b[0mKeyboardInterrupt\u001b[0m\u001b[0;34m\u001b[0m\u001b[0;34m\u001b[0m\u001b[0m\n\u001b[0m",
            "\u001b[0;31mKeyboardInterrupt\u001b[0m: "
          ]
        }
      ]
    },
    {
      "cell_type": "code",
      "metadata": {
        "id": "INWauLZWOUm0",
        "colab_type": "code",
        "colab": {
          "base_uri": "https://localhost:8080/",
          "height": 167
        },
        "outputId": "dc96f78a-befd-4539-dbb0-6a08a77afd30"
      },
      "source": [
        "raise MemoryError(\"This is an argument\")"
      ],
      "execution_count": 7,
      "outputs": [
        {
          "output_type": "error",
          "ename": "MemoryError",
          "evalue": "ignored",
          "traceback": [
            "\u001b[0;31m---------------------------------------------------------------------------\u001b[0m",
            "\u001b[0;31mMemoryError\u001b[0m                               Traceback (most recent call last)",
            "\u001b[0;32m<ipython-input-7-51782e52f201>\u001b[0m in \u001b[0;36m<module>\u001b[0;34m()\u001b[0m\n\u001b[0;32m----> 1\u001b[0;31m \u001b[0;32mraise\u001b[0m \u001b[0mMemoryError\u001b[0m\u001b[0;34m(\u001b[0m\u001b[0;34m\"This is an argument\"\u001b[0m\u001b[0;34m)\u001b[0m\u001b[0;34m\u001b[0m\u001b[0;34m\u001b[0m\u001b[0m\n\u001b[0m",
            "\u001b[0;31mMemoryError\u001b[0m: This is an argument"
          ]
        }
      ]
    },
    {
      "cell_type": "code",
      "metadata": {
        "id": "TEGv7CItOXYb",
        "colab_type": "code",
        "colab": {
          "base_uri": "https://localhost:8080/",
          "height": 52
        },
        "outputId": "ae414952-e4bd-4f22-a167-f248d960b413"
      },
      "source": [
        "try:\n",
        "    a = int(input(\"Enter a positive integer: \"))\n",
        "    if a <= 0:\n",
        "         raise ValueError(\"That is not a positive number!\")\n",
        "except ValueError as ve:\n",
        "     print(ve)"
      ],
      "execution_count": 8,
      "outputs": [
        {
          "output_type": "stream",
          "text": [
            "Enter a positive integer: -2\n",
            "That is not a positive number!\n"
          ],
          "name": "stdout"
        }
      ]
    },
    {
      "cell_type": "markdown",
      "metadata": {
        "id": "jw6WIfpxOnce",
        "colab_type": "text"
      },
      "source": [
        "**try...finally**\n",
        "\n",
        "The try statement in Python can have an optional finally clause. This clause is executed no matter what, and is generally used to release external resources.\n",
        "\n",
        "For example, we may be connected to a remote data center through the network or working with a file or working with a Graphical User Interface (GUI).\n",
        "\n",
        "In all these circumstances, we must clean up the resource once used, whether it was successful or not. These actions (closing a file, GUI or disconnecting from network) are performed in the finally clause to guarantee execution.\n",
        "\n",
        "Here is an example of file operations to illustrate this."
      ]
    },
    {
      "cell_type": "code",
      "metadata": {
        "id": "fa_0Ar1MOiYZ",
        "colab_type": "code",
        "colab": {}
      },
      "source": [
        "try:\n",
        "   f = open(\"test.txt\",encoding = 'utf-8',mode='w')\n",
        "   # perform file operations\n",
        "finally:\n",
        "   f.close()\n"
      ],
      "execution_count": 0,
      "outputs": []
    },
    {
      "cell_type": "markdown",
      "metadata": {
        "id": "giugILrJZlSV",
        "colab_type": "text"
      },
      "source": [
        "This type of construct makes sure the file is closed even if an exception occurs.\n"
      ]
    },
    {
      "cell_type": "code",
      "metadata": {
        "id": "QCHKsrhtZWbx",
        "colab_type": "code",
        "colab": {}
      },
      "source": [
        ""
      ],
      "execution_count": 0,
      "outputs": []
    }
  ]
}