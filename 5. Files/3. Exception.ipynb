{
  "nbformat": 4,
  "nbformat_minor": 0,
  "metadata": {
    "colab": {
      "name": "Untitled37.ipynb",
      "provenance": [],
      "include_colab_link": true
    },
    "kernelspec": {
      "name": "python3",
      "display_name": "Python 3"
    }
  },
  "cells": [
    {
      "cell_type": "markdown",
      "metadata": {
        "id": "view-in-github",
        "colab_type": "text"
      },
      "source": [
        "<a href=\"https://colab.research.google.com/github/sumithdcosta/Python/blob/master/5.%20Files/3.%20Exception.ipynb\" target=\"_parent\"><img src=\"https://colab.research.google.com/assets/colab-badge.svg\" alt=\"Open In Colab\"/></a>"
      ]
    },
    {
      "cell_type": "markdown",
      "metadata": {
        "id": "z9AMX-ecD0a7",
        "colab_type": "text"
      },
      "source": [
        "5. Files/3. Exception.ipynb"
      ]
    },
    {
      "cell_type": "markdown",
      "metadata": {
        "id": "68RwPRJcSd5U",
        "colab_type": "text"
      },
      "source": [
        "**Python Errors and Built-in Exceptions**\n",
        "\n",
        "When writing a program, we, more often than not, will encounter errors.\n",
        "\n",
        "Error caused by not following the proper structure (syntax) of the language is called syntax error or parsing error."
      ]
    },
    {
      "cell_type": "code",
      "metadata": {
        "id": "f0hcORqkDs5i",
        "colab_type": "code",
        "colab": {
          "base_uri": "https://localhost:8080/",
          "height": 132
        },
        "outputId": "be402255-7e45-47ac-a0ae-f62774a959e1"
      },
      "source": [
        "if a < 3"
      ],
      "execution_count": 1,
      "outputs": [
        {
          "output_type": "error",
          "ename": "SyntaxError",
          "evalue": "ignored",
          "traceback": [
            "\u001b[0;36m  File \u001b[0;32m\"<ipython-input-1-3e28e520013d>\"\u001b[0;36m, line \u001b[0;32m1\u001b[0m\n\u001b[0;31m    if a < 3\u001b[0m\n\u001b[0m            ^\u001b[0m\n\u001b[0;31mSyntaxError\u001b[0m\u001b[0;31m:\u001b[0m invalid syntax\n"
          ]
        }
      ]
    },
    {
      "cell_type": "markdown",
      "metadata": {
        "id": "FYkAGQilSlU0",
        "colab_type": "text"
      },
      "source": [
        "We can notice here that a colon is missing in the if statement."
      ]
    },
    {
      "cell_type": "markdown",
      "metadata": {
        "id": "q6MX1He8Soyt",
        "colab_type": "text"
      },
      "source": [
        "Errors can also occur at runtime and these are called exceptions. They occur, for example, when a file we try to open does not exist (FileNotFoundError), dividing a number by zero (ZeroDivisionError), module we try to import is not found (ImportError) etc.\n",
        "\n",
        "Whenever these type of runtime error occur, Python creates an exception object. If not handled properly, it prints a traceback to that error along with some details about why that error occurred."
      ]
    },
    {
      "cell_type": "code",
      "metadata": {
        "id": "F_Uhnx9dSjfw",
        "colab_type": "code",
        "colab": {
          "base_uri": "https://localhost:8080/",
          "height": 167
        },
        "outputId": "6af42275-7a25-4d9f-b56a-66cfb27b26b3"
      },
      "source": [
        "1 / 0"
      ],
      "execution_count": 2,
      "outputs": [
        {
          "output_type": "error",
          "ename": "ZeroDivisionError",
          "evalue": "ignored",
          "traceback": [
            "\u001b[0;31m---------------------------------------------------------------------------\u001b[0m",
            "\u001b[0;31mZeroDivisionError\u001b[0m                         Traceback (most recent call last)",
            "\u001b[0;32m<ipython-input-2-bc757c3fda29>\u001b[0m in \u001b[0;36m<module>\u001b[0;34m()\u001b[0m\n\u001b[0;32m----> 1\u001b[0;31m \u001b[0;36m1\u001b[0m \u001b[0;34m/\u001b[0m \u001b[0;36m0\u001b[0m\u001b[0;34m\u001b[0m\u001b[0;34m\u001b[0m\u001b[0m\n\u001b[0m",
            "\u001b[0;31mZeroDivisionError\u001b[0m: division by zero"
          ]
        }
      ]
    },
    {
      "cell_type": "code",
      "metadata": {
        "id": "WRSa74J8SwJv",
        "colab_type": "code",
        "colab": {
          "base_uri": "https://localhost:8080/",
          "height": 167
        },
        "outputId": "36de976d-72d8-47e7-adb7-8508071e4d32"
      },
      "source": [
        "open(\"imaginary.txt\")"
      ],
      "execution_count": 3,
      "outputs": [
        {
          "output_type": "error",
          "ename": "FileNotFoundError",
          "evalue": "ignored",
          "traceback": [
            "\u001b[0;31m---------------------------------------------------------------------------\u001b[0m",
            "\u001b[0;31mFileNotFoundError\u001b[0m                         Traceback (most recent call last)",
            "\u001b[0;32m<ipython-input-3-2bedf9c67314>\u001b[0m in \u001b[0;36m<module>\u001b[0;34m()\u001b[0m\n\u001b[0;32m----> 1\u001b[0;31m \u001b[0mopen\u001b[0m\u001b[0;34m(\u001b[0m\u001b[0;34m\"imaginary.txt\"\u001b[0m\u001b[0;34m)\u001b[0m\u001b[0;34m\u001b[0m\u001b[0;34m\u001b[0m\u001b[0m\n\u001b[0m",
            "\u001b[0;31mFileNotFoundError\u001b[0m: [Errno 2] No such file or directory: 'imaginary.txt'"
          ]
        }
      ]
    },
    {
      "cell_type": "markdown",
      "metadata": {
        "id": "cFIWU-ylSz6e",
        "colab_type": "text"
      },
      "source": [
        "**Python Built-in Exceptions**\n",
        "\n",
        "Illegal operations can raise exceptions. There are plenty of built-in exceptions in Python that are raised when corresponding errors occur. We can view all the built-in exceptions using the local() built-in functions as follows.\n"
      ]
    },
    {
      "cell_type": "code",
      "metadata": {
        "id": "S-6OkyF1SxUo",
        "colab_type": "code",
        "colab": {
          "base_uri": "https://localhost:8080/",
          "height": 34
        },
        "outputId": "3d4a0459-baca-4f48-94a5-bcb177808493"
      },
      "source": [
        "locals()['__builtins__']"
      ],
      "execution_count": 6,
      "outputs": [
        {
          "output_type": "execute_result",
          "data": {
            "text/plain": [
              "<module 'builtins' (built-in)>"
            ]
          },
          "metadata": {
            "tags": []
          },
          "execution_count": 6
        }
      ]
    },
    {
      "cell_type": "markdown",
      "metadata": {
        "id": "SBScST6QTI0H",
        "colab_type": "text"
      },
      "source": [
        "This will return us a dictionary of built-in exceptions, functions and attributes.\n",
        "\n",
        "Some of the common built-in exceptions in Python programming along with the error that cause then are tabulated below.\n",
        "\n",
        "![alt text](https://drive.google.com/uc?export=view&id=1vfcXPmwx193pq-x-WqBcNqG-cCSzEFY_)\n",
        "\n"
      ]
    },
    {
      "cell_type": "markdown",
      "metadata": {
        "id": "dI9x4ww4TnhD",
        "colab_type": "text"
      },
      "source": [
        "We can also define our own exception in Python (if required). Visit this page to learn more about user-defined exceptions. \n",
        "\n",
        "We can handle these built-in and user-defined exceptions in Python using try, except and finally statements. \n"
      ]
    },
    {
      "cell_type": "code",
      "metadata": {
        "id": "4ZI5DeglS6dY",
        "colab_type": "code",
        "colab": {}
      },
      "source": [
        ""
      ],
      "execution_count": 0,
      "outputs": []
    }
  ]
}