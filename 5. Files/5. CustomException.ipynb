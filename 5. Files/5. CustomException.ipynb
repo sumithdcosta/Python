{
  "nbformat": 4,
  "nbformat_minor": 0,
  "metadata": {
    "colab": {
      "name": "Untitled39.ipynb",
      "provenance": [],
      "collapsed_sections": [],
      "include_colab_link": true
    },
    "kernelspec": {
      "name": "python3",
      "display_name": "Python 3"
    }
  },
  "cells": [
    {
      "cell_type": "markdown",
      "metadata": {
        "id": "view-in-github",
        "colab_type": "text"
      },
      "source": [
        "<a href=\"https://colab.research.google.com/github/sumithdcosta/Python/blob/master/5.%20Files/5.%20CustomException.ipynb\" target=\"_parent\"><img src=\"https://colab.research.google.com/assets/colab-badge.svg\" alt=\"Open In Colab\"/></a>"
      ]
    },
    {
      "cell_type": "markdown",
      "metadata": {
        "id": "Nd2Z9hdoZu_v",
        "colab_type": "text"
      },
      "source": [
        "5. Files/5. CustomException.ipynb\n",
        "\n",
        "\n"
      ]
    },
    {
      "cell_type": "markdown",
      "metadata": {
        "id": "KqtnD89aZ1pm",
        "colab_type": "text"
      },
      "source": [
        "**Python Custom Exceptions**\n",
        "\n",
        "Python has many built-in exceptions which forces your program to output an error when something in it goes wrong.\n",
        "\n",
        "However, sometimes you may need to create custom exceptions that serves your purpose.\n",
        "\n",
        "In Python, users can define such exceptions by creating a new class. This exception class has to be derived, either directly or indirectly, from Exception class. Most of the built-in exceptions are also derived form this class.\n"
      ]
    },
    {
      "cell_type": "code",
      "metadata": {
        "id": "rdcjNCdBZuYk",
        "colab_type": "code",
        "colab": {}
      },
      "source": [
        "class CustomError(Exception):\n",
        "     pass"
      ],
      "execution_count": 0,
      "outputs": []
    },
    {
      "cell_type": "code",
      "metadata": {
        "id": "GvyictDnZ_VP",
        "colab_type": "code",
        "colab": {
          "base_uri": "https://localhost:8080/",
          "height": 167
        },
        "outputId": "2da17f5c-eb99-4a40-82f9-a1fb5d3822cb"
      },
      "source": [
        "raise CustomError"
      ],
      "execution_count": 2,
      "outputs": [
        {
          "output_type": "error",
          "ename": "CustomError",
          "evalue": "ignored",
          "traceback": [
            "\u001b[0;31m---------------------------------------------------------------------------\u001b[0m",
            "\u001b[0;31mCustomError\u001b[0m                               Traceback (most recent call last)",
            "\u001b[0;32m<ipython-input-2-dfca0b041b3d>\u001b[0m in \u001b[0;36m<module>\u001b[0;34m()\u001b[0m\n\u001b[0;32m----> 1\u001b[0;31m \u001b[0;32mraise\u001b[0m \u001b[0mCustomError\u001b[0m\u001b[0;34m\u001b[0m\u001b[0;34m\u001b[0m\u001b[0m\n\u001b[0m",
            "\u001b[0;31mCustomError\u001b[0m: "
          ]
        }
      ]
    },
    {
      "cell_type": "code",
      "metadata": {
        "id": "jNFa8hDKaAj9",
        "colab_type": "code",
        "colab": {
          "base_uri": "https://localhost:8080/",
          "height": 167
        },
        "outputId": "c377ff23-98bc-46de-e43c-789fb8ae0a6f"
      },
      "source": [
        "raise CustomError(\"An error occurred\")"
      ],
      "execution_count": 3,
      "outputs": [
        {
          "output_type": "error",
          "ename": "CustomError",
          "evalue": "ignored",
          "traceback": [
            "\u001b[0;31m---------------------------------------------------------------------------\u001b[0m",
            "\u001b[0;31mCustomError\u001b[0m                               Traceback (most recent call last)",
            "\u001b[0;32m<ipython-input-3-d75c9779269a>\u001b[0m in \u001b[0;36m<module>\u001b[0;34m()\u001b[0m\n\u001b[0;32m----> 1\u001b[0;31m \u001b[0;32mraise\u001b[0m \u001b[0mCustomError\u001b[0m\u001b[0;34m(\u001b[0m\u001b[0;34m\"An error occurred\"\u001b[0m\u001b[0;34m)\u001b[0m\u001b[0;34m\u001b[0m\u001b[0;34m\u001b[0m\u001b[0m\n\u001b[0m",
            "\u001b[0;31mCustomError\u001b[0m: An error occurred"
          ]
        }
      ]
    },
    {
      "cell_type": "markdown",
      "metadata": {
        "id": "buWKLjq4aEb2",
        "colab_type": "text"
      },
      "source": [
        "Here, we have created a user-defined exception called **CustomError** which is derived from the Exception class. This new exception can be raised, like other exceptions, using the raise statement with an optional error message.\n",
        "\n",
        "When we are developing a large Python program, it is a good practice to place all the user-defined exceptions that our program raises in a separate file. Many standard modules do this. They define their exceptions separately as **exceptions.py** or **errors.py** (generally but not always).\n",
        "\n",
        "User-defined exception class can implement everything a normal class can do, but we generally make them simple and concise. Most implementations declare a custom base class and derive others exception classes from this base class. This concept is made clearer in the following example."
      ]
    },
    {
      "cell_type": "markdown",
      "metadata": {
        "id": "NQ-bvYaEaVFa",
        "colab_type": "text"
      },
      "source": [
        "**Example: User-Defined Exception in Python**\n",
        "\n",
        "In this example, we will illustrate how user-defined exceptions can be used in a program to raise and catch errors.\n",
        "\n",
        "This program will ask the user to enter a number until they guess a stored number correctly. To help them figure it out, hint is provided whether their guess is greater than or less than the stored number.\n"
      ]
    },
    {
      "cell_type": "code",
      "metadata": {
        "id": "U-GFcHssaCLO",
        "colab_type": "code",
        "colab": {
          "base_uri": "https://localhost:8080/",
          "height": 158
        },
        "outputId": "f41e0581-a5f5-4ffe-e73e-d887fe90a6b4"
      },
      "source": [
        "# define Python user-defined exceptions\n",
        "class Error(Exception):\n",
        "   \"\"\"Base class for other exceptions\"\"\"\n",
        "   pass\n",
        "\n",
        "class ValueTooSmallError(Error):\n",
        "   \"\"\"Raised when the input value is too small\"\"\"\n",
        "   pass\n",
        "\n",
        "class ValueTooLargeError(Error):\n",
        "   \"\"\"Raised when the input value is too large\"\"\"\n",
        "   pass\n",
        "\n",
        "# our main program\n",
        "# user guesses a number until he/she gets it right\n",
        "\n",
        "# you need to guess this number\n",
        "number = 10\n",
        "\n",
        "while True:\n",
        "  try:\n",
        "    i_num = int(input(\"Enter a number: \"))\n",
        "    if i_num < number:\n",
        "      raise ValueTooSmallError\n",
        "    elif i_num > number:\n",
        "      raise ValueTooLargeError\n",
        "    break\n",
        "  except ValueTooSmallError:\n",
        "    print(\"This value is too small, try again!\")\n",
        "    print()\n",
        "  except ValueTooLargeError:\n",
        "    print(\"This value is too large, try again!\")\n",
        "    print()\n",
        "  except Exception as exc:\n",
        "    print(\"Oops!\", exc)\n",
        "    print() \n",
        "print(\"Congratulations! You guessed it correctly.\")"
      ],
      "execution_count": 13,
      "outputs": [
        {
          "output_type": "stream",
          "text": [
            "Enter a number: 1\n",
            "This value is too small, try again!\n",
            "\n",
            "Enter a number: 11\n",
            "This value is too large, try again!\n",
            "\n",
            "Enter a number: 10\n",
            "Congratulations! You guessed it correctly.\n"
          ],
          "name": "stdout"
        }
      ]
    },
    {
      "cell_type": "markdown",
      "metadata": {
        "id": "wnVUE11ucBw0",
        "colab_type": "text"
      },
      "source": [
        "Here, we have defined a base class called Error.\n",
        "\n",
        "The other two exceptions (ValueTooSmallError and ValueTooLargeError) that are actually raised by our program are derived from this class. This is the standard way to define user-defined exceptions in Python programming, but you are not limited to this way only."
      ]
    },
    {
      "cell_type": "code",
      "metadata": {
        "id": "l7dExvWnagCu",
        "colab_type": "code",
        "colab": {}
      },
      "source": [
        ""
      ],
      "execution_count": 0,
      "outputs": []
    }
  ]
}