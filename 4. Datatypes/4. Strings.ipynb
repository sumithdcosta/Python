{
  "nbformat": 4,
  "nbformat_minor": 0,
  "metadata": {
    "colab": {
      "name": "Untitled28.ipynb",
      "provenance": [],
      "include_colab_link": true
    },
    "kernelspec": {
      "name": "python3",
      "display_name": "Python 3"
    }
  },
  "cells": [
    {
      "cell_type": "markdown",
      "metadata": {
        "id": "view-in-github",
        "colab_type": "text"
      },
      "source": [
        "<a href=\"https://colab.research.google.com/github/sumithdcosta/Python/blob/master/4.%20Datatypes/4.%20Strings.ipynb\" target=\"_parent\"><img src=\"https://colab.research.google.com/assets/colab-badge.svg\" alt=\"Open In Colab\"/></a>"
      ]
    },
    {
      "cell_type": "markdown",
      "metadata": {
        "id": "AaEkeGVIjAcD",
        "colab_type": "text"
      },
      "source": [
        "4. Datatypes/4. Strings.ipynb"
      ]
    },
    {
      "cell_type": "markdown",
      "metadata": {
        "id": "LZlJ3K0KjHOU",
        "colab_type": "text"
      },
      "source": [
        "**What is String in Python?**\n",
        "\n",
        "A string is a sequence of characters.\n",
        "\n",
        "A character is simply a symbol. For example, the English language has 26 characters.\n",
        "\n",
        "Computers do not deal with characters, they deal with numbers (binary). Even though you may see characters on your screen, internally it is stored and manipulated as a combination of 0's and 1's.\n",
        "\n",
        "This conversion of character to a number is called encoding, and the reverse process is decoding. ASCII and Unicode are some of the popular encoding used.\n",
        "\n",
        "In Python, string is a sequence of Unicode character. Unicode was introduced to include every character in all languages and bring uniformity in encoding. "
      ]
    },
    {
      "cell_type": "markdown",
      "metadata": {
        "id": "-OzbXjzAjfPv",
        "colab_type": "text"
      },
      "source": [
        "**How to create a string in Python?**\n",
        "\n",
        "Strings can be created by enclosing characters inside a single quote or double quotes. Even triple quotes can be used in Python but generally used to represent multiline strings and docstrings.\n"
      ]
    },
    {
      "cell_type": "code",
      "metadata": {
        "id": "jrziued6i_9E",
        "colab_type": "code",
        "outputId": "b5d10760-20a8-4204-9f46-4406f8780f63",
        "colab": {
          "base_uri": "https://localhost:8080/",
          "height": 105
        }
      },
      "source": [
        "# all of the following are equivalent\n",
        "my_string = 'Hello'\n",
        "print(my_string)\n",
        "\n",
        "my_string = \"Hello\"\n",
        "print(my_string)\n",
        "\n",
        "my_string = '''Hello'''\n",
        "print(my_string)\n",
        "\n",
        "# triple quotes string can extend multiple lines\n",
        "my_string = \"\"\"Hello, welcome to\n",
        "           the world of Python\"\"\"\n",
        "print(my_string)"
      ],
      "execution_count": 0,
      "outputs": [
        {
          "output_type": "stream",
          "text": [
            "Hello\n",
            "Hello\n",
            "Hello\n",
            "Hello, welcome to\n",
            "           the world of Python\n"
          ],
          "name": "stdout"
        }
      ]
    },
    {
      "cell_type": "markdown",
      "metadata": {
        "id": "bz6KRB8zkZxz",
        "colab_type": "text"
      },
      "source": [
        "**How to access characters in a string?**\n",
        "\n",
        "We can access individual characters using indexing and a range of characters using slicing. Index starts from 0. Trying to access a character out of index range will raise an IndexError. The index must be an integer. We can't use float or other types, this will result into TypeError.\n",
        "\n",
        "Python allows negative indexing for its sequences.\n",
        "\n",
        "The index of -1 refers to the last item, -2 to the second last item and so on. We can access a range of items in a string by using the slicing operator (colon)."
      ]
    },
    {
      "cell_type": "code",
      "metadata": {
        "id": "Nr55o6JbkU-y",
        "colab_type": "code",
        "outputId": "296fdeff-c08f-41b2-dec0-bd26c90c8b53",
        "colab": {
          "base_uri": "https://localhost:8080/",
          "height": 105
        }
      },
      "source": [
        "str = 'programiz'\n",
        "print('str = ', str)\n",
        "\n",
        "#first character\n",
        "print('str[0] = ', str[0])\n",
        "\n",
        "#last character\n",
        "print('str[-1] = ', str[-1])\n",
        "\n",
        "#slicing 2nd to 5th character\n",
        "print('str[1:5] = ', str[1:5])\n",
        "\n",
        "#slicing 6th to 2nd last character\n",
        "print('str[5:-2] = ', str[5:-2])"
      ],
      "execution_count": 0,
      "outputs": [
        {
          "output_type": "stream",
          "text": [
            "str =  programiz\n",
            "str[0] =  p\n",
            "str[-1] =  z\n",
            "str[1:5] =  rogr\n",
            "str[5:-2] =  am\n"
          ],
          "name": "stdout"
        }
      ]
    },
    {
      "cell_type": "markdown",
      "metadata": {
        "id": "n4GsxkuRkoBf",
        "colab_type": "text"
      },
      "source": [
        "If we try to access index out of the range or use decimal number, we will get errors."
      ]
    },
    {
      "cell_type": "code",
      "metadata": {
        "id": "EDOdZVQykjTa",
        "colab_type": "code",
        "outputId": "8552c66b-3607-4da8-b9e2-401e6233a67e",
        "colab": {
          "base_uri": "https://localhost:8080/",
          "height": 185
        }
      },
      "source": [
        "my_string = 'Hello'\n",
        "my_string[15]"
      ],
      "execution_count": 0,
      "outputs": [
        {
          "output_type": "error",
          "ename": "IndexError",
          "evalue": "ignored",
          "traceback": [
            "\u001b[0;31m---------------------------------------------------------------------------\u001b[0m",
            "\u001b[0;31mIndexError\u001b[0m                                Traceback (most recent call last)",
            "\u001b[0;32m<ipython-input-5-ca5eeda94c15>\u001b[0m in \u001b[0;36m<module>\u001b[0;34m()\u001b[0m\n\u001b[1;32m      1\u001b[0m \u001b[0mmy_string\u001b[0m \u001b[0;34m=\u001b[0m \u001b[0;34m'Hello'\u001b[0m\u001b[0;34m\u001b[0m\u001b[0;34m\u001b[0m\u001b[0m\n\u001b[0;32m----> 2\u001b[0;31m \u001b[0mmy_string\u001b[0m\u001b[0;34m[\u001b[0m\u001b[0;36m15\u001b[0m\u001b[0;34m]\u001b[0m\u001b[0;34m\u001b[0m\u001b[0;34m\u001b[0m\u001b[0m\n\u001b[0m",
            "\u001b[0;31mIndexError\u001b[0m: string index out of range"
          ]
        }
      ]
    },
    {
      "cell_type": "code",
      "metadata": {
        "id": "zC3nNhBykqSy",
        "colab_type": "code",
        "outputId": "0083926b-b406-48ec-db90-ce4aa9f572bf",
        "colab": {
          "base_uri": "https://localhost:8080/",
          "height": 167
        }
      },
      "source": [
        "my_string[1.5] "
      ],
      "execution_count": 0,
      "outputs": [
        {
          "output_type": "error",
          "ename": "TypeError",
          "evalue": "ignored",
          "traceback": [
            "\u001b[0;31m---------------------------------------------------------------------------\u001b[0m",
            "\u001b[0;31mTypeError\u001b[0m                                 Traceback (most recent call last)",
            "\u001b[0;32m<ipython-input-4-c83873bce821>\u001b[0m in \u001b[0;36m<module>\u001b[0;34m()\u001b[0m\n\u001b[0;32m----> 1\u001b[0;31m \u001b[0mmy_string\u001b[0m\u001b[0;34m[\u001b[0m\u001b[0;36m1.5\u001b[0m\u001b[0;34m]\u001b[0m\u001b[0;34m\u001b[0m\u001b[0;34m\u001b[0m\u001b[0m\n\u001b[0m",
            "\u001b[0;31mTypeError\u001b[0m: string indices must be integers"
          ]
        }
      ]
    },
    {
      "cell_type": "markdown",
      "metadata": {
        "id": "MGeFkeCnk4fs",
        "colab_type": "text"
      },
      "source": [
        "Slicing can be best visualized by considering the index to be between the elements as shown below.\n",
        "\n",
        "If we want to access a range, we need the index that will slice the portion from the string.\n"
      ]
    },
    {
      "cell_type": "markdown",
      "metadata": {
        "id": "r0pQNQbak-Mh",
        "colab_type": "text"
      },
      "source": [
        "**How to change or delete a string?**\n",
        "\n",
        "Strings are immutable. This means that elements of a string cannot be changed once it has been assigned. We can simply reassign different strings to the same name.\n"
      ]
    },
    {
      "cell_type": "code",
      "metadata": {
        "id": "Uc8k41AlkyLK",
        "colab_type": "code",
        "outputId": "20f8ef13-73e1-47f5-8c28-ec7b917c255f",
        "colab": {
          "base_uri": "https://localhost:8080/",
          "height": 185
        }
      },
      "source": [
        "my_string = 'programiz'\n",
        "my_string[5] = 'a'"
      ],
      "execution_count": 0,
      "outputs": [
        {
          "output_type": "error",
          "ename": "TypeError",
          "evalue": "ignored",
          "traceback": [
            "\u001b[0;31m---------------------------------------------------------------------------\u001b[0m",
            "\u001b[0;31mTypeError\u001b[0m                                 Traceback (most recent call last)",
            "\u001b[0;32m<ipython-input-7-dcb637a78c61>\u001b[0m in \u001b[0;36m<module>\u001b[0;34m()\u001b[0m\n\u001b[1;32m      1\u001b[0m \u001b[0mmy_string\u001b[0m \u001b[0;34m=\u001b[0m \u001b[0;34m'programiz'\u001b[0m\u001b[0;34m\u001b[0m\u001b[0;34m\u001b[0m\u001b[0m\n\u001b[0;32m----> 2\u001b[0;31m \u001b[0mmy_string\u001b[0m\u001b[0;34m[\u001b[0m\u001b[0;36m5\u001b[0m\u001b[0;34m]\u001b[0m \u001b[0;34m=\u001b[0m \u001b[0;34m'a'\u001b[0m\u001b[0;34m\u001b[0m\u001b[0;34m\u001b[0m\u001b[0m\n\u001b[0m",
            "\u001b[0;31mTypeError\u001b[0m: 'str' object does not support item assignment"
          ]
        }
      ]
    },
    {
      "cell_type": "code",
      "metadata": {
        "id": "Gn5FY66alDJj",
        "colab_type": "code",
        "outputId": "defb07ef-a83a-4853-fa45-15111ac02349",
        "colab": {
          "base_uri": "https://localhost:8080/",
          "height": 34
        }
      },
      "source": [
        "my_string = 'Python'\n",
        "my_string"
      ],
      "execution_count": 0,
      "outputs": [
        {
          "output_type": "execute_result",
          "data": {
            "text/plain": [
              "'Python'"
            ]
          },
          "metadata": {
            "tags": []
          },
          "execution_count": 8
        }
      ]
    },
    {
      "cell_type": "markdown",
      "metadata": {
        "id": "eOwgsgSNlJBT",
        "colab_type": "text"
      },
      "source": [
        "We cannot delete or remove characters from a string. But deleting the string entirely is possible using the keyword del."
      ]
    },
    {
      "cell_type": "code",
      "metadata": {
        "id": "s2m3bb9KlHjS",
        "colab_type": "code",
        "outputId": "abea901d-0601-454c-b356-593b1de88aba",
        "colab": {
          "base_uri": "https://localhost:8080/",
          "height": 167
        }
      },
      "source": [
        "del my_string[1]"
      ],
      "execution_count": 0,
      "outputs": [
        {
          "output_type": "error",
          "ename": "TypeError",
          "evalue": "ignored",
          "traceback": [
            "\u001b[0;31m---------------------------------------------------------------------------\u001b[0m",
            "\u001b[0;31mTypeError\u001b[0m                                 Traceback (most recent call last)",
            "\u001b[0;32m<ipython-input-9-d6fdf108d0d3>\u001b[0m in \u001b[0;36m<module>\u001b[0;34m()\u001b[0m\n\u001b[0;32m----> 1\u001b[0;31m \u001b[0;32mdel\u001b[0m \u001b[0mmy_string\u001b[0m\u001b[0;34m[\u001b[0m\u001b[0;36m1\u001b[0m\u001b[0;34m]\u001b[0m\u001b[0;34m\u001b[0m\u001b[0;34m\u001b[0m\u001b[0m\n\u001b[0m",
            "\u001b[0;31mTypeError\u001b[0m: 'str' object doesn't support item deletion"
          ]
        }
      ]
    },
    {
      "cell_type": "code",
      "metadata": {
        "id": "k0yJQosllNkD",
        "colab_type": "code",
        "outputId": "83ef9a1f-2c23-46ca-ba09-85d776e12892",
        "colab": {
          "base_uri": "https://localhost:8080/",
          "height": 185
        }
      },
      "source": [
        "del my_string\n",
        "my_string"
      ],
      "execution_count": 0,
      "outputs": [
        {
          "output_type": "error",
          "ename": "NameError",
          "evalue": "ignored",
          "traceback": [
            "\u001b[0;31m---------------------------------------------------------------------------\u001b[0m",
            "\u001b[0;31mNameError\u001b[0m                                 Traceback (most recent call last)",
            "\u001b[0;32m<ipython-input-10-0a2d59ca20bb>\u001b[0m in \u001b[0;36m<module>\u001b[0;34m()\u001b[0m\n\u001b[1;32m      1\u001b[0m \u001b[0;32mdel\u001b[0m \u001b[0mmy_string\u001b[0m\u001b[0;34m\u001b[0m\u001b[0;34m\u001b[0m\u001b[0m\n\u001b[0;32m----> 2\u001b[0;31m \u001b[0mmy_string\u001b[0m\u001b[0;34m\u001b[0m\u001b[0;34m\u001b[0m\u001b[0m\n\u001b[0m",
            "\u001b[0;31mNameError\u001b[0m: name 'my_string' is not defined"
          ]
        }
      ]
    },
    {
      "cell_type": "markdown",
      "metadata": {
        "id": "DMRawB76lSyv",
        "colab_type": "text"
      },
      "source": [
        "**Python String Operations**\n",
        "\n",
        "There are many operations that can be performed with string which makes it one of the most used datatypes in Python.\n",
        "\n",
        "**Concatenation of Two or More Strings**\n",
        "\n",
        "Joining of two or more strings into a single one is called **concatenation**.\n",
        "\n",
        "The + operator does this in Python. Simply writing two string literals together also concatenates them.\n",
        "\n",
        "The * operator can be used to repeat the string for a given number of times."
      ]
    },
    {
      "cell_type": "code",
      "metadata": {
        "id": "HTgWW1NblPpz",
        "colab_type": "code",
        "outputId": "f1251511-e02c-4df0-e7ff-aca535b791af",
        "colab": {
          "base_uri": "https://localhost:8080/",
          "height": 52
        }
      },
      "source": [
        "str1 = 'Hello'\n",
        "str2 ='World!'\n",
        "\n",
        "# using +\n",
        "print('str1 + str2 = ', str1 + str2)\n",
        "\n",
        "# using *\n",
        "print('str1 * 3 =', str1 * 3)"
      ],
      "execution_count": 0,
      "outputs": [
        {
          "output_type": "stream",
          "text": [
            "str1 + str2 =  HelloWorld!\n",
            "str1 * 3 = HelloHelloHello\n"
          ],
          "name": "stdout"
        }
      ]
    },
    {
      "cell_type": "markdown",
      "metadata": {
        "id": "v3yPC1LllgWx",
        "colab_type": "text"
      },
      "source": [
        "Writing two string literals together also concatenates them like + operator.\n",
        "\n",
        "If we want to concatenate strings in different lines, we can use parentheses."
      ]
    },
    {
      "cell_type": "code",
      "metadata": {
        "id": "90UZrpbvletM",
        "colab_type": "code",
        "outputId": "71415385-2f3e-46ce-88bf-5d492819d947",
        "colab": {
          "base_uri": "https://localhost:8080/",
          "height": 34
        }
      },
      "source": [
        "# two string literals together\n",
        "'Hello ''World!'"
      ],
      "execution_count": 0,
      "outputs": [
        {
          "output_type": "execute_result",
          "data": {
            "text/plain": [
              "'Hello World!'"
            ]
          },
          "metadata": {
            "tags": []
          },
          "execution_count": 12
        }
      ]
    },
    {
      "cell_type": "code",
      "metadata": {
        "id": "Z38egNoTlloM",
        "colab_type": "code",
        "outputId": "c27c06a2-6a5f-4784-d561-17cc8349c3d8",
        "colab": {
          "base_uri": "https://localhost:8080/",
          "height": 34
        }
      },
      "source": [
        "# using parentheses\n",
        "s = ('Hello '\n",
        "      'World')\n",
        "s"
      ],
      "execution_count": 0,
      "outputs": [
        {
          "output_type": "execute_result",
          "data": {
            "text/plain": [
              "'Hello World'"
            ]
          },
          "metadata": {
            "tags": []
          },
          "execution_count": 13
        }
      ]
    },
    {
      "cell_type": "markdown",
      "metadata": {
        "id": "1-u4iYcGlrsi",
        "colab_type": "text"
      },
      "source": [
        "**Iterating Through String**\n",
        "\n",
        "Using for loop we can iterate through a string. Here is an example to count the number of 'l' in a string.\n"
      ]
    },
    {
      "cell_type": "code",
      "metadata": {
        "id": "GIhbxumDlqEk",
        "colab_type": "code",
        "outputId": "f4d89cb3-4165-481a-db3c-5cc6fcd8fa01",
        "colab": {
          "base_uri": "https://localhost:8080/",
          "height": 34
        }
      },
      "source": [
        "count = 0\n",
        "for letter in 'Hello World':\n",
        "    if(letter == 'l'):\n",
        "        count += 1\n",
        "print(count,'letters found')\n"
      ],
      "execution_count": 0,
      "outputs": [
        {
          "output_type": "stream",
          "text": [
            "3 letters found\n"
          ],
          "name": "stdout"
        }
      ]
    },
    {
      "cell_type": "markdown",
      "metadata": {
        "id": "8nGXNEgilzw-",
        "colab_type": "text"
      },
      "source": [
        "**String Membership Test**\n",
        "\n",
        "We can test if a sub string exists within a string or not, using the keyword in."
      ]
    },
    {
      "cell_type": "code",
      "metadata": {
        "id": "O8UyKdlyl2t8",
        "colab_type": "code",
        "outputId": "1ef8b46b-a58d-4c94-e561-7800fa125377",
        "colab": {
          "base_uri": "https://localhost:8080/",
          "height": 34
        }
      },
      "source": [
        "'a' in 'program'"
      ],
      "execution_count": 0,
      "outputs": [
        {
          "output_type": "execute_result",
          "data": {
            "text/plain": [
              "True"
            ]
          },
          "metadata": {
            "tags": []
          },
          "execution_count": 15
        }
      ]
    },
    {
      "cell_type": "code",
      "metadata": {
        "id": "kZXO2zWul3d8",
        "colab_type": "code",
        "outputId": "ca908786-ca3d-4e6a-f9a1-eb6f37b531c5",
        "colab": {
          "base_uri": "https://localhost:8080/",
          "height": 34
        }
      },
      "source": [
        "'at' not in 'battle'"
      ],
      "execution_count": 0,
      "outputs": [
        {
          "output_type": "execute_result",
          "data": {
            "text/plain": [
              "False"
            ]
          },
          "metadata": {
            "tags": []
          },
          "execution_count": 16
        }
      ]
    },
    {
      "cell_type": "markdown",
      "metadata": {
        "id": "dpmSeieEl7Hr",
        "colab_type": "text"
      },
      "source": [
        "**Built-in functions to Work with Python**\n",
        "\n",
        "Various built-in functions that work with sequence, works with string as well.\n",
        "\n",
        "Some of the commonly used ones are **enumerate**() and **len**(). The **enumerate**() function returns an enumerate object. It contains the index and value of all the items in the string as pairs. This can be useful for iteration.\n",
        "\n",
        "Similarly, **len**() returns the length (number of characters) of the string."
      ]
    },
    {
      "cell_type": "code",
      "metadata": {
        "id": "gFjWuKn5l5ak",
        "colab_type": "code",
        "outputId": "9b4ab606-0769-4359-cc52-b3808c2a7c7f",
        "colab": {
          "base_uri": "https://localhost:8080/",
          "height": 52
        }
      },
      "source": [
        "str = 'cold'\n",
        "\n",
        "# enumerate()\n",
        "list_enumerate = list(enumerate(str))\n",
        "print('list(enumerate(str) = ', list_enumerate)\n",
        "\n",
        "#character count\n",
        "print('len(str) = ', len(str))"
      ],
      "execution_count": 0,
      "outputs": [
        {
          "output_type": "stream",
          "text": [
            "list(enumerate(str) =  [(0, 'c'), (1, 'o'), (2, 'l'), (3, 'd')]\n",
            "len(str) =  4\n"
          ],
          "name": "stdout"
        }
      ]
    },
    {
      "cell_type": "markdown",
      "metadata": {
        "id": "Ymtj8W-MnYX_",
        "colab_type": "text"
      },
      "source": [
        "**Python String Formatting**\n",
        "\n",
        "**Escape Sequence**\n",
        "\n",
        "If we want to print a text like -He said, \"What's there?\"- we can neither use single quote or double quotes. This will result into SyntaxError as the text itself contains both single and double quotes.\n"
      ]
    },
    {
      "cell_type": "code",
      "metadata": {
        "id": "w5GvCh2DnCl3",
        "colab_type": "code",
        "outputId": "581d18d2-6ec6-4bd2-c254-bc8469483085",
        "colab": {
          "base_uri": "https://localhost:8080/",
          "height": 132
        }
      },
      "source": [
        "print(\"He said, \"What's there?\"\")"
      ],
      "execution_count": 0,
      "outputs": [
        {
          "output_type": "error",
          "ename": "SyntaxError",
          "evalue": "ignored",
          "traceback": [
            "\u001b[0;36m  File \u001b[0;32m\"<ipython-input-18-5b2db8c64782>\"\u001b[0;36m, line \u001b[0;32m1\u001b[0m\n\u001b[0;31m    print(\"He said, \"What's there?\"\")\u001b[0m\n\u001b[0m                        ^\u001b[0m\n\u001b[0;31mSyntaxError\u001b[0m\u001b[0;31m:\u001b[0m invalid syntax\n"
          ]
        }
      ]
    },
    {
      "cell_type": "code",
      "metadata": {
        "id": "H8caWk2xnhOp",
        "colab_type": "code",
        "outputId": "002b6e26-34c5-47a2-b7a4-a33bdf19ffc0",
        "colab": {
          "base_uri": "https://localhost:8080/",
          "height": 132
        }
      },
      "source": [
        "print('He said, \"What's there?\"')"
      ],
      "execution_count": 0,
      "outputs": [
        {
          "output_type": "error",
          "ename": "SyntaxError",
          "evalue": "ignored",
          "traceback": [
            "\u001b[0;36m  File \u001b[0;32m\"<ipython-input-19-5c6702031631>\"\u001b[0;36m, line \u001b[0;32m1\u001b[0m\n\u001b[0;31m    print('He said, \"What's there?\"')\u001b[0m\n\u001b[0m                          ^\u001b[0m\n\u001b[0;31mSyntaxError\u001b[0m\u001b[0;31m:\u001b[0m invalid syntax\n"
          ]
        }
      ]
    },
    {
      "cell_type": "markdown",
      "metadata": {
        "id": "xmrO1fdbnkqv",
        "colab_type": "text"
      },
      "source": [
        "One way to get around this problem is to use triple quotes. Alternatively, we can use escape sequences.\n",
        "\n",
        "An escape sequence starts with a backslash and is interpreted differently. If we use single quote to represent a string, all the single quotes inside the string must be escaped. Similar is the case with double quotes. Here is how it can be done to represent the above text.\n"
      ]
    },
    {
      "cell_type": "code",
      "metadata": {
        "id": "0ccmKq6lni05",
        "colab_type": "code",
        "outputId": "22c6a5f3-02c4-4b56-902c-7119910388b3",
        "colab": {
          "base_uri": "https://localhost:8080/",
          "height": 70
        }
      },
      "source": [
        "# using triple quotes\n",
        "print('''He said, \"What's there?\"''')\n",
        "\n",
        "# escaping single quotes\n",
        "print('He said, \"What\\'s there?\"')\n",
        "\n",
        "# escaping double quotes\n",
        "print(\"He said, \\\"What's there?\\\"\")"
      ],
      "execution_count": 0,
      "outputs": [
        {
          "output_type": "stream",
          "text": [
            "He said, \"What's there?\"\n",
            "He said, \"What's there?\"\n",
            "He said, \"What's there?\"\n"
          ],
          "name": "stdout"
        }
      ]
    },
    {
      "cell_type": "markdown",
      "metadata": {
        "id": "6NtDBel7nsR1",
        "colab_type": "text"
      },
      "source": [
        "Here is a list of all the escape sequence supported by Python.\n",
        "\n",
        "Escape Sequence in Python\n",
        "\n",
        "![alt text](https://drive.google.com/uc?export=view&id=1GIJnCP-L-ejnm8YVrporBvcZQiQaWpIZ)\n",
        "\n",
        "Here are some examples\n",
        "\n"
      ]
    },
    {
      "cell_type": "code",
      "metadata": {
        "id": "7bay2eudnqiZ",
        "colab_type": "code",
        "outputId": "9a9e48ab-e1db-4de5-a3ae-ed3c4c3b7897",
        "colab": {
          "base_uri": "https://localhost:8080/",
          "height": 34
        }
      },
      "source": [
        "print(\"C:\\\\Python32\\\\Lib\")"
      ],
      "execution_count": 0,
      "outputs": [
        {
          "output_type": "stream",
          "text": [
            "C:\\Python32\\Lib\n"
          ],
          "name": "stdout"
        }
      ]
    },
    {
      "cell_type": "code",
      "metadata": {
        "id": "f6CRTHUQoN7S",
        "colab_type": "code",
        "outputId": "4ec690a3-22d9-444c-faf2-106280d78ef5",
        "colab": {
          "base_uri": "https://localhost:8080/",
          "height": 52
        }
      },
      "source": [
        "print(\"This is printed\\nin two lines\")"
      ],
      "execution_count": 0,
      "outputs": [
        {
          "output_type": "stream",
          "text": [
            "This is printed\n",
            "in two lines\n"
          ],
          "name": "stdout"
        }
      ]
    },
    {
      "cell_type": "code",
      "metadata": {
        "id": "mQQzcREnoPuC",
        "colab_type": "code",
        "outputId": "6e68d0ce-4632-4424-81fc-358823fc7949",
        "colab": {
          "base_uri": "https://localhost:8080/",
          "height": 34
        }
      },
      "source": [
        "print(\"This is \\x48\\x45\\x58 representation\")"
      ],
      "execution_count": 0,
      "outputs": [
        {
          "output_type": "stream",
          "text": [
            "This is HEX representation\n"
          ],
          "name": "stdout"
        }
      ]
    },
    {
      "cell_type": "markdown",
      "metadata": {
        "id": "e_edL7b0oSyZ",
        "colab_type": "text"
      },
      "source": [
        "**Raw String to ignore escape sequence**\n",
        "\n",
        "Sometimes we may wish to ignore the escape sequences inside a string. To do this we can place r or R in front of the string. This will imply that it is a raw string and any escape sequence inside it will be ignored."
      ]
    },
    {
      "cell_type": "code",
      "metadata": {
        "id": "1_lDk5JroYt8",
        "colab_type": "code",
        "outputId": "4c7aa12d-5c4b-465b-8ee6-913bc0ea0358",
        "colab": {
          "base_uri": "https://localhost:8080/",
          "height": 52
        }
      },
      "source": [
        "print(\"This is \\x61 \\ngood example\")"
      ],
      "execution_count": 0,
      "outputs": [
        {
          "output_type": "stream",
          "text": [
            "This is a \n",
            "good example\n"
          ],
          "name": "stdout"
        }
      ]
    },
    {
      "cell_type": "code",
      "metadata": {
        "id": "tGMtSWv5oZLC",
        "colab_type": "code",
        "outputId": "87d93dfe-b240-451b-831c-e496ac02769c",
        "colab": {
          "base_uri": "https://localhost:8080/",
          "height": 34
        }
      },
      "source": [
        "print(r\"This is \\x61 \\ngood example\")"
      ],
      "execution_count": 0,
      "outputs": [
        {
          "output_type": "stream",
          "text": [
            "This is \\x61 \\ngood example\n"
          ],
          "name": "stdout"
        }
      ]
    },
    {
      "cell_type": "markdown",
      "metadata": {
        "id": "xLo3gczVgsyL",
        "colab_type": "text"
      },
      "source": [
        "\n",
        "**The format() Method for Formatting Strings**\n",
        "\n",
        "The **format**() method that is available with the string object is very versatile and powerful in formatting strings. Format strings contains curly braces {} as placeholders or replacement fields which gets replaced.\n",
        "\n",
        "We can use positional arguments or keyword arguments to specify the order."
      ]
    },
    {
      "cell_type": "code",
      "metadata": {
        "id": "fSCGyNvhoa8y",
        "colab_type": "code",
        "colab": {
          "base_uri": "https://localhost:8080/",
          "height": 176
        },
        "outputId": "6b5360b5-47fc-4801-ee5a-803ebe1e4895"
      },
      "source": [
        "# default(implicit) order\n",
        "default_order = \"{}, {} and {}\".format('John','Bill','Sean')\n",
        "print('\\n--- Default Order ---')\n",
        "print(default_order)\n",
        "\n",
        "# order using positional argument\n",
        "positional_order = \"{1}, {0} and {2}\".format('John','Bill','Sean')\n",
        "print('\\n--- Positional Order ---')\n",
        "print(positional_order)\n",
        "\n",
        "# order using keyword argument\n",
        "keyword_order = \"{s}, {b} and {j}\".format(j='John',b='Bill',s='Sean')\n",
        "print('\\n--- Keyword Order ---')\n",
        "print(keyword_order)\n"
      ],
      "execution_count": 1,
      "outputs": [
        {
          "output_type": "stream",
          "text": [
            "\n",
            "--- Default Order ---\n",
            "John, Bill and Sean\n",
            "\n",
            "--- Positional Order ---\n",
            "Bill, John and Sean\n",
            "\n",
            "--- Keyword Order ---\n",
            "Sean, Bill and John\n"
          ],
          "name": "stdout"
        }
      ]
    },
    {
      "cell_type": "markdown",
      "metadata": {
        "id": "SPsSKUCEg9Xo",
        "colab_type": "text"
      },
      "source": [
        "The **format**() method can have optional format specifications. They are separated from field name using colon. For example, we can left-justify <, right-justify > or center ^ a string in the given space. We can also format integers as binary, hexadecimal etc. and floats can be rounded or displayed in the exponent format. There are a ton of formatting you can use. "
      ]
    },
    {
      "cell_type": "code",
      "metadata": {
        "id": "jqMCjL14hI21",
        "colab_type": "code",
        "colab": {
          "base_uri": "https://localhost:8080/",
          "height": 87
        },
        "outputId": "fb8fc34c-1f2b-4773-c235-19257b83ed4c"
      },
      "source": [
        "# formatting integers\n",
        "print(\"Binary representation of {0} is {0:b}\".format(12))\n",
        "#'Binary representation of 12 is 1100'\n",
        "\n",
        "# formatting floats\n",
        "print(\"Exponent representation: {0:e}\".format(1566.345))\n",
        "#'Exponent representation: 1.566345e+03'\n",
        "\n",
        "# round off\n",
        "print(\"One third is: {0:.3f}\".format(1/3))\n",
        "#'One third is: 0.333'\n",
        "\n",
        "# string alignment\n",
        "print(\"|{:<10}|{:^10}|{:>10}|\".format('butter','bread','ham'))\n",
        "#'|butter    |  bread   |       ham|'"
      ],
      "execution_count": 4,
      "outputs": [
        {
          "output_type": "stream",
          "text": [
            "Binary representation of 12 is 1100\n",
            "Exponent representation: 1.566345e+03\n",
            "One third is: 0.333\n",
            "|butter    |  bread   |       ham|\n"
          ],
          "name": "stdout"
        }
      ]
    },
    {
      "cell_type": "markdown",
      "metadata": {
        "id": "5E8ibpPyhy9o",
        "colab_type": "text"
      },
      "source": [
        "**Old style formatting**\n",
        "\n",
        "We can even format strings like the old sprintf() style used in C programming language. We use the % operator to accomplish this."
      ]
    },
    {
      "cell_type": "code",
      "metadata": {
        "id": "9HSFSPKdhUQu",
        "colab_type": "code",
        "colab": {
          "base_uri": "https://localhost:8080/",
          "height": 52
        },
        "outputId": "f17e7f6e-8175-4868-a807-070fb01804c8"
      },
      "source": [
        "x = 12.3456789\n",
        "print('The value of x is %3.2f' %x)\n",
        "#The value of x is 12.35\n",
        "print('The value of x is %3.4f' %x)\n",
        "#The value of x is 12.3457"
      ],
      "execution_count": 5,
      "outputs": [
        {
          "output_type": "stream",
          "text": [
            "The value of x is 12.35\n",
            "The value of x is 12.3457\n"
          ],
          "name": "stdout"
        }
      ]
    },
    {
      "cell_type": "markdown",
      "metadata": {
        "id": "IJWn7j48iEPB",
        "colab_type": "text"
      },
      "source": [
        "**Common Python String Methods**\n",
        "\n",
        "There are numerous methods available with the string object. The **format**() method that we mentioned above is one of them. Some of the commonly used methods are **lower**(), **upper**(), **join**(), **split**(), **find**(), **replace**() etc. Here is a complete list of all the built-in methods to work with strings in Python."
      ]
    },
    {
      "cell_type": "code",
      "metadata": {
        "id": "U24lbegmh53u",
        "colab_type": "code",
        "colab": {
          "base_uri": "https://localhost:8080/",
          "height": 123
        },
        "outputId": "a2476d93-1c69-46b2-b617-0eb7b3edecc4"
      },
      "source": [
        "print(\"PrOgRaMiZ\".lower())\n",
        "#'programiz'\n",
        "print(\"PrOgRaMiZ\".upper())\n",
        "#'PROGRAMIZ'\n",
        "print(\"This will split all words into a list\".split())\n",
        "#['This', 'will', 'split', 'all', 'words', 'into', 'a', 'list']\n",
        "print(' '.join(['This', 'will', 'join', 'all', 'words', 'into', 'a', 'string']))\n",
        "#'This will join all words into a string'\n",
        "print('Happy New Year'.find('ew'))\n",
        "#7\n",
        "print('Happy New Year'.replace('Happy','Brilliant'))\n",
        "#'Brilliant New Year'"
      ],
      "execution_count": 7,
      "outputs": [
        {
          "output_type": "stream",
          "text": [
            "programiz\n",
            "PROGRAMIZ\n",
            "['This', 'will', 'split', 'all', 'words', 'into', 'a', 'list']\n",
            "This will join all words into a string\n",
            "7\n",
            "Brilliant New Year\n"
          ],
          "name": "stdout"
        }
      ]
    },
    {
      "cell_type": "code",
      "metadata": {
        "id": "hUREyZyiiW5W",
        "colab_type": "code",
        "colab": {}
      },
      "source": [
        ""
      ],
      "execution_count": 0,
      "outputs": []
    }
  ]
}