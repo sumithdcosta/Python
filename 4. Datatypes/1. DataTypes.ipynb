{
  "nbformat": 4,
  "nbformat_minor": 0,
  "metadata": {
    "colab": {
      "name": "Untitled24.ipynb",
      "provenance": [],
      "include_colab_link": true
    },
    "kernelspec": {
      "name": "python3",
      "display_name": "Python 3"
    }
  },
  "cells": [
    {
      "cell_type": "markdown",
      "metadata": {
        "id": "view-in-github",
        "colab_type": "text"
      },
      "source": [
        "<a href=\"https://colab.research.google.com/github/sumithdcosta/Python/blob/master/4.%20Datatypes/1.%20DataTypes.ipynb\" target=\"_parent\"><img src=\"https://colab.research.google.com/assets/colab-badge.svg\" alt=\"Open In Colab\"/></a>"
      ]
    },
    {
      "cell_type": "markdown",
      "metadata": {
        "id": "emxFYMrmJrYn",
        "colab_type": "text"
      },
      "source": [
        "4. Datatypes/1. DataTypes.ipynb"
      ]
    },
    {
      "cell_type": "markdown",
      "metadata": {
        "id": "cwDc75JvJz3V",
        "colab_type": "text"
      },
      "source": [
        "**Python Numbers, Type Conversion and Mathematics**\n",
        "\n",
        "Python supports integers, floating point numbers and complex numbers. They are defined as int, float and complex class in Python.\n",
        "\n",
        "Integers and floating points are separated by the presence or absence of a decimal point. 5 is integer whereas 5.0 is a floating point number.\n",
        "\n",
        "Complex numbers are written in the form, x + yj, where x is the real part and y is the imaginary part.\n",
        "\n",
        "We can use the type() function to know which class a variable or a value belongs to and isinstance() function to check if it belongs to a particular class."
      ]
    },
    {
      "cell_type": "code",
      "metadata": {
        "id": "H55Oa5e4Jq3L",
        "colab_type": "code",
        "colab": {}
      },
      "source": [
        ""
      ],
      "execution_count": 0,
      "outputs": []
    }
  ]
}