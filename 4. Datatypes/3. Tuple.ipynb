{
  "nbformat": 4,
  "nbformat_minor": 0,
  "metadata": {
    "colab": {
      "name": "Untitled27.ipynb",
      "provenance": [],
      "include_colab_link": true
    },
    "kernelspec": {
      "name": "python3",
      "display_name": "Python 3"
    }
  },
  "cells": [
    {
      "cell_type": "markdown",
      "metadata": {
        "id": "view-in-github",
        "colab_type": "text"
      },
      "source": [
        "<a href=\"https://colab.research.google.com/github/sumithdcosta/Python/blob/master/4.%20Datatypes/3.%20Tuple.ipynb\" target=\"_parent\"><img src=\"https://colab.research.google.com/assets/colab-badge.svg\" alt=\"Open In Colab\"/></a>"
      ]
    },
    {
      "cell_type": "markdown",
      "metadata": {
        "id": "uojIZ-yYeodV",
        "colab_type": "text"
      },
      "source": [
        "4. Datatypes/3. Tuple.ipynb"
      ]
    },
    {
      "cell_type": "markdown",
      "metadata": {
        "id": "Q4FwkqmoexTt",
        "colab_type": "text"
      },
      "source": [
        "**What is tuple?**\n",
        "\n",
        "In Python programming, a tuple is similar to a list. The difference between the two is that we cannot change the elements of a tuple once it is assigned whereas in a list, elements can be changed.\n",
        "\n",
        "**Advantages of Tuple over List**\n",
        "\n",
        "Since, tuples are quite similiar to lists, both of them are used in similar situations as well.\n",
        "\n",
        "However, there are certain advantages of implementing a tuple over a list. Below listed are some of the main advantages:\n",
        "\n",
        "* We generally use tuple for heterogeneous (different) datatypes and list for homogeneous (similar) datatypes.\n",
        "* Since tuple are immutable, iterating through tuple is faster than with list. So there is a slight performance boost.\n",
        "* Tuples that contain immutable elements can be used as key for a dictionary. With list, this is not possible.\n",
        "* If you have data that doesn't change, implementing it as tuple will guarantee that it remains write-protected"
      ]
    },
    {
      "cell_type": "markdown",
      "metadata": {
        "id": "nFyK8UGQff8w",
        "colab_type": "text"
      },
      "source": [
        "**Creating a Tuple**\n",
        "\n",
        "A tuple is created by placing all the items (elements) inside a parentheses (), separated by comma. The parentheses are optional but is a good practice to write it.\n",
        "\n",
        "A tuple can have any number of items and they may be of different types (integer, float, list, string etc.)."
      ]
    },
    {
      "cell_type": "code",
      "metadata": {
        "id": "tQEbd5iVen8c",
        "colab_type": "code",
        "colab": {
          "base_uri": "https://localhost:8080/",
          "height": 158
        },
        "outputId": "fe5f0b54-e012-41e6-b2b9-3b21312fdc21"
      },
      "source": [
        "# empty tuple\n",
        "# Output: ()\n",
        "my_tuple = ()\n",
        "print(my_tuple)\n",
        "\n",
        "# tuple having integers\n",
        "# Output: (1, 2, 3)\n",
        "my_tuple = (1, 2, 3)\n",
        "print(my_tuple)\n",
        "\n",
        "# tuple with mixed datatypes\n",
        "# Output: (1, \"Hello\", 3.4)\n",
        "my_tuple = (1, \"Hello\", 3.4)\n",
        "print(my_tuple)\n",
        "\n",
        "# nested tuple\n",
        "# Output: (\"mouse\", [8, 4, 6], (1, 2, 3))\n",
        "my_tuple = (\"mouse\", [8, 4, 6], (1, 2, 3))\n",
        "print(my_tuple)\n",
        "\n",
        "# tuple can be created without parentheses\n",
        "# also called tuple packing\n",
        "# Output: 3, 4.6, \"dog\"\n",
        "\n",
        "my_tuple = 3, 4.6, \"dog\"\n",
        "print(my_tuple)\n",
        "\n",
        "# tuple unpacking is also possible\n",
        "# Output:\n",
        "# 3\n",
        "# 4.6\n",
        "# dog\n",
        "a, b, c = my_tuple\n",
        "print(a)\n",
        "print(b)\n",
        "print(c)"
      ],
      "execution_count": 1,
      "outputs": [
        {
          "output_type": "stream",
          "text": [
            "()\n",
            "(1, 2, 3)\n",
            "(1, 'Hello', 3.4)\n",
            "('mouse', [8, 4, 6], (1, 2, 3))\n",
            "(3, 4.6, 'dog')\n",
            "3\n",
            "4.6\n",
            "dog\n"
          ],
          "name": "stdout"
        }
      ]
    },
    {
      "cell_type": "markdown",
      "metadata": {
        "id": "kVSrdh5-f0nt",
        "colab_type": "text"
      },
      "source": [
        "Creating a tuple with one element is a bit tricky.\n",
        "\n",
        "Having one element within parentheses is not enough. We will need a trailing comma to indicate that it is in fact a tuple."
      ]
    },
    {
      "cell_type": "code",
      "metadata": {
        "id": "07SHRl_Ufr40",
        "colab_type": "code",
        "colab": {
          "base_uri": "https://localhost:8080/",
          "height": 70
        },
        "outputId": "1969192e-e7fb-46f3-b806-8228997adb77"
      },
      "source": [
        "# only parentheses is not enough\n",
        "# Output: <class 'str'>\n",
        "my_tuple = (\"hello\")\n",
        "print(type(my_tuple))\n",
        "\n",
        "# need a comma at the end\n",
        "# Output: <class 'tuple'>\n",
        "my_tuple = (\"hello\",)  \n",
        "print(type(my_tuple))\n",
        "\n",
        "# parentheses is optional\n",
        "# Output: <class 'tuple'>\n",
        "my_tuple = \"hello\",\n",
        "print(type(my_tuple))"
      ],
      "execution_count": 2,
      "outputs": [
        {
          "output_type": "stream",
          "text": [
            "<class 'str'>\n",
            "<class 'tuple'>\n",
            "<class 'tuple'>\n"
          ],
          "name": "stdout"
        }
      ]
    },
    {
      "cell_type": "markdown",
      "metadata": {
        "id": "6x7ehrNUf_E3",
        "colab_type": "text"
      },
      "source": [
        "**Accessing Elements in a Tuple**\n",
        "\n",
        "There are various ways in which we can access the elements of a tuple."
      ]
    },
    {
      "cell_type": "markdown",
      "metadata": {
        "id": "YdUfx82OgBen",
        "colab_type": "text"
      },
      "source": [
        "1. **Indexing**\n",
        "\n",
        "We can use the index operator [] to access an item in a tuple where the index starts from 0.\n",
        "\n",
        "So, a tuple having 6 elements will have index from 0 to 5. Trying to access an element other that (6, 7,...) will raise an IndexError.\n",
        "\n",
        "The index must be an integer, so we cannot use float or other types. This will result into TypeError.\n",
        "\n",
        "Likewise, nested tuple are accessed using nested indexing, as shown in the example below."
      ]
    },
    {
      "cell_type": "code",
      "metadata": {
        "id": "Zr4huytWf6LH",
        "colab_type": "code",
        "colab": {
          "base_uri": "https://localhost:8080/",
          "height": 52
        },
        "outputId": "c975d564-f109-4488-fcd5-73b8165aa47f"
      },
      "source": [
        "my_tuple = ('p','e','r','m','i','t')\n",
        "\n",
        "# Output: 'p'\n",
        "print(my_tuple[0])\n",
        "\n",
        "# Output: 't'\n",
        "print(my_tuple[5])"
      ],
      "execution_count": 3,
      "outputs": [
        {
          "output_type": "stream",
          "text": [
            "p\n",
            "t\n"
          ],
          "name": "stdout"
        }
      ]
    },
    {
      "cell_type": "code",
      "metadata": {
        "id": "IrmErbPlgPtg",
        "colab_type": "code",
        "colab": {
          "base_uri": "https://localhost:8080/",
          "height": 185
        },
        "outputId": "51e750ad-6c28-46e3-fbcb-013fb2a73537"
      },
      "source": [
        "# index must be in range\n",
        "# If you uncomment line 14,\n",
        "# you will get an error.\n",
        "# IndexError: list index out of range\n",
        "\n",
        "print(my_tuple[6])\n"
      ],
      "execution_count": 4,
      "outputs": [
        {
          "output_type": "error",
          "ename": "IndexError",
          "evalue": "ignored",
          "traceback": [
            "\u001b[0;31m---------------------------------------------------------------------------\u001b[0m",
            "\u001b[0;31mIndexError\u001b[0m                                Traceback (most recent call last)",
            "\u001b[0;32m<ipython-input-4-3dbe532c5ff0>\u001b[0m in \u001b[0;36m<module>\u001b[0;34m()\u001b[0m\n\u001b[1;32m      1\u001b[0m \u001b[0;34m\u001b[0m\u001b[0m\n\u001b[0;32m----> 2\u001b[0;31m \u001b[0mprint\u001b[0m\u001b[0;34m(\u001b[0m\u001b[0mmy_tuple\u001b[0m\u001b[0;34m[\u001b[0m\u001b[0;36m6\u001b[0m\u001b[0;34m]\u001b[0m\u001b[0;34m)\u001b[0m\u001b[0;34m\u001b[0m\u001b[0;34m\u001b[0m\u001b[0m\n\u001b[0m",
            "\u001b[0;31mIndexError\u001b[0m: tuple index out of range"
          ]
        }
      ]
    },
    {
      "cell_type": "code",
      "metadata": {
        "id": "7pTyNw77gTUC",
        "colab_type": "code",
        "colab": {
          "base_uri": "https://localhost:8080/",
          "height": 203
        },
        "outputId": "95a76258-9d9c-44eb-c4dd-d4ff4a3721b8"
      },
      "source": [
        "# index must be an integer\n",
        "# If you uncomment line 21,\n",
        "# you will get an error.\n",
        "# TypeError: list indices must be integers, not float\n",
        "\n",
        "my_tuple[2.0]\n",
        "\n"
      ],
      "execution_count": 5,
      "outputs": [
        {
          "output_type": "error",
          "ename": "TypeError",
          "evalue": "ignored",
          "traceback": [
            "\u001b[0;31m---------------------------------------------------------------------------\u001b[0m",
            "\u001b[0;31mTypeError\u001b[0m                                 Traceback (most recent call last)",
            "\u001b[0;32m<ipython-input-5-ffe0ed197036>\u001b[0m in \u001b[0;36m<module>\u001b[0;34m()\u001b[0m\n\u001b[1;32m      1\u001b[0m \u001b[0;34m\u001b[0m\u001b[0m\n\u001b[0;32m----> 2\u001b[0;31m \u001b[0mmy_tuple\u001b[0m\u001b[0;34m[\u001b[0m\u001b[0;36m2.0\u001b[0m\u001b[0;34m]\u001b[0m\u001b[0;34m\u001b[0m\u001b[0;34m\u001b[0m\u001b[0m\n\u001b[0m\u001b[1;32m      3\u001b[0m \u001b[0;34m\u001b[0m\u001b[0m\n",
            "\u001b[0;31mTypeError\u001b[0m: tuple indices must be integers or slices, not float"
          ]
        }
      ]
    },
    {
      "cell_type": "code",
      "metadata": {
        "id": "0n2BOGKHgVNJ",
        "colab_type": "code",
        "colab": {
          "base_uri": "https://localhost:8080/",
          "height": 52
        },
        "outputId": "29be7ebf-7c38-4414-cb69-39278e3620e7"
      },
      "source": [
        "# nested tuple\n",
        "n_tuple = (\"mouse\", [8, 4, 6], (1, 2, 3))\n",
        "\n",
        "# nested index\n",
        "# Output: 's'\n",
        "print(n_tuple[0][3])\n",
        "\n",
        "# nested index\n",
        "# Output: 4\n",
        "print(n_tuple[1][1])"
      ],
      "execution_count": 6,
      "outputs": [
        {
          "output_type": "stream",
          "text": [
            "s\n",
            "4\n"
          ],
          "name": "stdout"
        }
      ]
    },
    {
      "cell_type": "markdown",
      "metadata": {
        "id": "c5dksuC5gaC0",
        "colab_type": "text"
      },
      "source": [
        "2. **Negative Indexing**\n",
        "\n",
        "Python allows negative indexing for its sequences.\n",
        "\n",
        "The index of -1 refers to the last item, -2 to the second last item and so on."
      ]
    },
    {
      "cell_type": "code",
      "metadata": {
        "id": "bzUWB0QXgWAx",
        "colab_type": "code",
        "colab": {
          "base_uri": "https://localhost:8080/",
          "height": 52
        },
        "outputId": "4d460d45-5194-43e0-e81f-ab787b613622"
      },
      "source": [
        "my_tuple = ('p','e','r','m','i','t')\n",
        "\n",
        "# Output: 't'\n",
        "print(my_tuple[-1])\n",
        "\n",
        "# Output: 'p'\n",
        "print(my_tuple[-6])"
      ],
      "execution_count": 7,
      "outputs": [
        {
          "output_type": "stream",
          "text": [
            "t\n",
            "p\n"
          ],
          "name": "stdout"
        }
      ]
    },
    {
      "cell_type": "markdown",
      "metadata": {
        "id": "dUp4xfs_giYy",
        "colab_type": "text"
      },
      "source": [
        "3. **Slicing**\n",
        "\n",
        "We can access a range of items in a tuple by using the slicing operator - colon \":\".\n"
      ]
    },
    {
      "cell_type": "code",
      "metadata": {
        "id": "Gm3JX3uRgfkY",
        "colab_type": "code",
        "colab": {
          "base_uri": "https://localhost:8080/",
          "height": 87
        },
        "outputId": "3c766603-bfbc-4daf-f0ac-cc12d09665cc"
      },
      "source": [
        "my_tuple = ('p','r','o','g','r','a','m','i','z')\n",
        "\n",
        "# elements 2nd to 4th\n",
        "# Output: ('r', 'o', 'g')\n",
        "print(my_tuple[1:4])\n",
        "\n",
        "# elements beginning to 2nd\n",
        "# Output: ('p', 'r')\n",
        "print(my_tuple[:-7])\n",
        "\n",
        "# elements 8th to end\n",
        "# Output: ('i', 'z')\n",
        "print(my_tuple[7:])\n",
        "\n",
        "# elements beginning to end\n",
        "# Output: ('p', 'r', 'o', 'g', 'r', 'a', 'm', 'i', 'z')\n",
        "print(my_tuple[:])\n"
      ],
      "execution_count": 8,
      "outputs": [
        {
          "output_type": "stream",
          "text": [
            "('r', 'o', 'g')\n",
            "('p', 'r')\n",
            "('i', 'z')\n",
            "('p', 'r', 'o', 'g', 'r', 'a', 'm', 'i', 'z')\n"
          ],
          "name": "stdout"
        }
      ]
    },
    {
      "cell_type": "markdown",
      "metadata": {
        "id": "Y4LZqiCCgqgE",
        "colab_type": "text"
      },
      "source": [
        "Slicing can be best visualized by considering the index to be between the elements as shown below. So if we want to access a range, we need the index that will slice the portion from the tuple."
      ]
    },
    {
      "cell_type": "markdown",
      "metadata": {
        "id": "W1MJjjRWgs3B",
        "colab_type": "text"
      },
      "source": [
        "**Changing a Tuple**\n",
        "\n",
        "Unlike lists, tuples are immutable.\n",
        "\n",
        "This means that elements of a tuple cannot be changed once it has been assigned. But, if the element is itself a mutable datatype like list, its nested items can be changed.\n",
        "\n",
        "We can also assign a tuple to different values (reassignment)."
      ]
    },
    {
      "cell_type": "code",
      "metadata": {
        "id": "xc_zqpABgpBp",
        "colab_type": "code",
        "colab": {
          "base_uri": "https://localhost:8080/",
          "height": 52
        },
        "outputId": "f7e9e913-6976-429b-ae91-bcc5e911a934"
      },
      "source": [
        "my_tuple = (4, 2, 3, [6, 5])\n",
        "\n",
        "# we cannot change an element\n",
        "# If you uncomment line 8\n",
        "# you will get an error:\n",
        "# TypeError: 'tuple' object does not support item assignment\n",
        "\n",
        "#my_tuple[1] = 9\n",
        "\n",
        "# but item of mutable element can be changed\n",
        "# Output: (4, 2, 3, [9, 5])\n",
        "my_tuple[3][0] = 9\n",
        "print(my_tuple)\n",
        "\n",
        "# tuples can be reassigned\n",
        "# Output: ('p', 'r', 'o', 'g', 'r', 'a', 'm', 'i', 'z')\n",
        "my_tuple = ('p','r','o','g','r','a','m','i','z')\n",
        "print(my_tuple)\n"
      ],
      "execution_count": 9,
      "outputs": [
        {
          "output_type": "stream",
          "text": [
            "(4, 2, 3, [9, 5])\n",
            "('p', 'r', 'o', 'g', 'r', 'a', 'm', 'i', 'z')\n"
          ],
          "name": "stdout"
        }
      ]
    },
    {
      "cell_type": "markdown",
      "metadata": {
        "id": "1LBcnyoShAIH",
        "colab_type": "text"
      },
      "source": [
        "We can use + operator to combine two tuples. This is also called **concatenation**.\n",
        "\n",
        "We can also **repeat** the elements in a tuple for a given number of times using the * operator.\n",
        "\n",
        "Both + and * operations result into a new tuple."
      ]
    },
    {
      "cell_type": "code",
      "metadata": {
        "id": "r-vt2fCeg2PC",
        "colab_type": "code",
        "colab": {
          "base_uri": "https://localhost:8080/",
          "height": 52
        },
        "outputId": "d33c16d5-054e-433b-8580-2ca076d152e8"
      },
      "source": [
        "# Concatenation\n",
        "# Output: (1, 2, 3, 4, 5, 6)\n",
        "print((1, 2, 3) + (4, 5, 6))\n",
        "\n",
        "# Repeat\n",
        "# Output: ('Repeat', 'Repeat', 'Repeat')\n",
        "print((\"Repeat\",) * 3)"
      ],
      "execution_count": 10,
      "outputs": [
        {
          "output_type": "stream",
          "text": [
            "(1, 2, 3, 4, 5, 6)\n",
            "('Repeat', 'Repeat', 'Repeat')\n"
          ],
          "name": "stdout"
        }
      ]
    },
    {
      "cell_type": "markdown",
      "metadata": {
        "id": "svUZ2cWthIyO",
        "colab_type": "text"
      },
      "source": [
        "**Deleting a Tuple**\n",
        "\n",
        "As discussed above, we cannot change the elements in a tuple. That also means we cannot delete or remove items from a tuple.\n",
        "\n",
        "But deleting a tuple entirely is possible using the keyword del."
      ]
    },
    {
      "cell_type": "code",
      "metadata": {
        "id": "eXxGLzWdhGJn",
        "colab_type": "code",
        "colab": {
          "base_uri": "https://localhost:8080/",
          "height": 203
        },
        "outputId": "f2b8c7dc-2359-4e14-a1e7-3c24d0052103"
      },
      "source": [
        "my_tuple = ('p','r','o','g','r','a','m','i','z')\n",
        "\n",
        "# can't delete items\n",
        "# if you uncomment line 8,\n",
        "# you will get an error:\n",
        "# TypeError: 'tuple' object doesn't support item deletion\n",
        "\n",
        "#del my_tuple[3]\n",
        "\n",
        "# can delete entire tuple\n",
        "# NameError: name 'my_tuple' is not defined\n",
        "del my_tuple\n",
        "my_tuple"
      ],
      "execution_count": 11,
      "outputs": [
        {
          "output_type": "error",
          "ename": "NameError",
          "evalue": "ignored",
          "traceback": [
            "\u001b[0;31m---------------------------------------------------------------------------\u001b[0m",
            "\u001b[0;31mNameError\u001b[0m                                 Traceback (most recent call last)",
            "\u001b[0;32m<ipython-input-11-f11869f2954d>\u001b[0m in \u001b[0;36m<module>\u001b[0;34m()\u001b[0m\n\u001b[1;32m     11\u001b[0m \u001b[0;31m# NameError: name 'my_tuple' is not defined\u001b[0m\u001b[0;34m\u001b[0m\u001b[0;34m\u001b[0m\u001b[0;34m\u001b[0m\u001b[0m\n\u001b[1;32m     12\u001b[0m \u001b[0;32mdel\u001b[0m \u001b[0mmy_tuple\u001b[0m\u001b[0;34m\u001b[0m\u001b[0;34m\u001b[0m\u001b[0m\n\u001b[0;32m---> 13\u001b[0;31m \u001b[0mmy_tuple\u001b[0m\u001b[0;34m\u001b[0m\u001b[0;34m\u001b[0m\u001b[0m\n\u001b[0m",
            "\u001b[0;31mNameError\u001b[0m: name 'my_tuple' is not defined"
          ]
        }
      ]
    },
    {
      "cell_type": "markdown",
      "metadata": {
        "id": "NlUsxOU2hWDG",
        "colab_type": "text"
      },
      "source": [
        "**Python Tuple Methods**\n",
        "Methods that add items or remove items are not available with tuple. Only the following two methods are available.\n",
        "\n",
        "**Python Tuple Method**\n",
        "\n",
        "* count(x) -- \n",
        "Return the number of items that is equal to x\n",
        "* index(x) --\n",
        "Return index of first item that is equal to x\n"
      ]
    },
    {
      "cell_type": "code",
      "metadata": {
        "id": "D7SQWDN_hOlD",
        "colab_type": "code",
        "colab": {
          "base_uri": "https://localhost:8080/",
          "height": 52
        },
        "outputId": "08d72862-25b2-45bd-b828-b4c2114dad40"
      },
      "source": [
        "my_tuple = ('a','p','p','l','e',)\n",
        "\n",
        "# Count\n",
        "# Output: 2\n",
        "print(my_tuple.count('p'))\n",
        "\n",
        "# Index\n",
        "# Output: 3\n",
        "print(my_tuple.index('l'))"
      ],
      "execution_count": 12,
      "outputs": [
        {
          "output_type": "stream",
          "text": [
            "2\n",
            "3\n"
          ],
          "name": "stdout"
        }
      ]
    },
    {
      "cell_type": "markdown",
      "metadata": {
        "id": "uQwjIqSihlSa",
        "colab_type": "text"
      },
      "source": [
        "**Other Tuple Operations**\n",
        "\n",
        "1. **Tuple Membership Test**\n",
        "\n",
        "We can test if an item exists in a tuple or not, using the keyword in.\n"
      ]
    },
    {
      "cell_type": "code",
      "metadata": {
        "id": "UOEgeEZdhhxT",
        "colab_type": "code",
        "colab": {
          "base_uri": "https://localhost:8080/",
          "height": 70
        },
        "outputId": "c99b37e4-5237-4a78-be08-7ff832f5b1ce"
      },
      "source": [
        "my_tuple = ('a','p','p','l','e',)\n",
        "\n",
        "# In operation\n",
        "# Output: True\n",
        "print('a' in my_tuple)\n",
        "\n",
        "# Output: False\n",
        "print('b' in my_tuple)\n",
        "\n",
        "# Not in operation\n",
        "# Output: True\n",
        "print('g' not in my_tuple)"
      ],
      "execution_count": 13,
      "outputs": [
        {
          "output_type": "stream",
          "text": [
            "True\n",
            "False\n",
            "True\n"
          ],
          "name": "stdout"
        }
      ]
    },
    {
      "cell_type": "markdown",
      "metadata": {
        "id": "3G8vfceph0h8",
        "colab_type": "text"
      },
      "source": [
        "2. **Iterating Through a Tuple**\n",
        "\n",
        "Using a for loop we can iterate though each item in a tuple."
      ]
    },
    {
      "cell_type": "code",
      "metadata": {
        "id": "foaQN6L1htr8",
        "colab_type": "code",
        "colab": {
          "base_uri": "https://localhost:8080/",
          "height": 52
        },
        "outputId": "7c2365d8-cd49-4671-ca82-ccb7c4bdda7b"
      },
      "source": [
        "# Output: \n",
        "# Hello John\n",
        "# Hello Kate\n",
        "for name in ('John','Kate'):\n",
        "     print(\"Hello\",name)    \n"
      ],
      "execution_count": 14,
      "outputs": [
        {
          "output_type": "stream",
          "text": [
            "Hello John\n",
            "Hello Kate\n"
          ],
          "name": "stdout"
        }
      ]
    },
    {
      "cell_type": "markdown",
      "metadata": {
        "id": "eNwH66vCh6xq",
        "colab_type": "text"
      },
      "source": [
        "3. **Built-in Functions with Tuple**\n",
        "\n",
        "Built-in functions like all(), any(), enumerate(), len(), max(), min(), sorted(), tuple() etc. are commonly used with tuple to perform different tasks.\n",
        "\n",
        "Built-in Functions with Tuple\n",
        "\n",
        "![alt text](https://drive.google.com/uc?export=view&id=12BQflqDLm6q_EyiQuXF8Rzi6EksBYkuu)\n"
      ]
    },
    {
      "cell_type": "code",
      "metadata": {
        "id": "bLsh67c3h4ls",
        "colab_type": "code",
        "colab": {}
      },
      "source": [
        ""
      ],
      "execution_count": 0,
      "outputs": []
    }
  ]
}