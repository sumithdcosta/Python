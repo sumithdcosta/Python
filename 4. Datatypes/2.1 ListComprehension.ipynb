{
  "nbformat": 4,
  "nbformat_minor": 0,
  "metadata": {
    "colab": {
      "name": "Untitled33.ipynb",
      "provenance": [],
      "include_colab_link": true
    },
    "kernelspec": {
      "name": "python3",
      "display_name": "Python 3"
    }
  },
  "cells": [
    {
      "cell_type": "markdown",
      "metadata": {
        "id": "view-in-github",
        "colab_type": "text"
      },
      "source": [
        "<a href=\"https://colab.research.google.com/github/sumithdcosta/Python/blob/master/4.%20Datatypes/2.1%20ListComprehension.ipynb\" target=\"_parent\"><img src=\"https://colab.research.google.com/assets/colab-badge.svg\" alt=\"Open In Colab\"/></a>"
      ]
    },
    {
      "cell_type": "markdown",
      "metadata": {
        "id": "88K7WdoQr9T9",
        "colab_type": "text"
      },
      "source": [
        "4. Datatypes/2.1 ListComprehension.ipynb"
      ]
    },
    {
      "cell_type": "markdown",
      "metadata": {
        "id": "Js71iedRsHMV",
        "colab_type": "text"
      },
      "source": [
        "List Comprehension vs For Loop in Python\n",
        "Suppose, we want to separate the letters of the word human and add the letters as items of a list. The first thing that comes in mind would be using for loop."
      ]
    },
    {
      "cell_type": "markdown",
      "metadata": {
        "id": "72ogSl92sM_2",
        "colab_type": "text"
      },
      "source": [
        "**Example 1: Iterating through a string Using for Loop**"
      ]
    },
    {
      "cell_type": "code",
      "metadata": {
        "id": "d1XM93HZr8rm",
        "colab_type": "code",
        "colab": {
          "base_uri": "https://localhost:8080/",
          "height": 34
        },
        "outputId": "9b188668-4e6a-42f7-c2b3-28076aa17d27"
      },
      "source": [
        "h_letters = []\n",
        "\n",
        "for letter in 'human':\n",
        "    h_letters.append(letter)\n",
        "\n",
        "print(h_letters)"
      ],
      "execution_count": 1,
      "outputs": [
        {
          "output_type": "stream",
          "text": [
            "['h', 'u', 'm', 'a', 'n']\n"
          ],
          "name": "stdout"
        }
      ]
    },
    {
      "cell_type": "markdown",
      "metadata": {
        "id": "zG8wPA9ssUNv",
        "colab_type": "text"
      },
      "source": [
        "However, Python has an easier way to solve this issue using List Comprehension. List comprehension is an elegant way to define and create lists based on existing lists.\n",
        "\n",
        "Let’s see how the above program can be written using list comprehensions."
      ]
    },
    {
      "cell_type": "code",
      "metadata": {
        "id": "OjiVrj2YsPug",
        "colab_type": "code",
        "colab": {
          "base_uri": "https://localhost:8080/",
          "height": 34
        },
        "outputId": "c134ee9c-b7f8-4753-f8d1-a54b95ded368"
      },
      "source": [
        "h_letters = [ letter for letter in 'human' ]\n",
        "print( h_letters)"
      ],
      "execution_count": 2,
      "outputs": [
        {
          "output_type": "stream",
          "text": [
            "['h', 'u', 'm', 'a', 'n']\n"
          ],
          "name": "stdout"
        }
      ]
    },
    {
      "cell_type": "markdown",
      "metadata": {
        "id": "BIsy4Yg5sbSI",
        "colab_type": "text"
      },
      "source": [
        "In the above example, a new list is assigned to variable h_letters, and list contains the items of the iterable string 'human'. We call print() function to receive the output."
      ]
    },
    {
      "cell_type": "markdown",
      "metadata": {
        "id": "_KwBHpYWsgB9",
        "colab_type": "text"
      },
      "source": [
        "**Syntax of List Comprehension**\n",
        "```\n",
        "[expression for item in list]\n",
        "```\n",
        "\n",
        "![alt text](https://drive.google.com/uc?export=view&id=1S9f20lEwoOmkRwNxP4NaMj1sQllJHe1Q)\n",
        "\n",
        "We can now identify where list comprehensions are used.\n",
        "\n",
        "If you noticed, human is a string, not a list. This is the power of list comprehension. It can identify when it receives a string or a tuple and work on it like a list.\n",
        "\n",
        "You can do that using loops. However, not every loop can be rewritten as list comprehension. But as you learn and get comfortable with list comprehensions, you will find yourself replacing more and more loops with this elegant syntax.\n"
      ]
    },
    {
      "cell_type": "markdown",
      "metadata": {
        "id": "9umoYk4etFtB",
        "colab_type": "text"
      },
      "source": [
        "**List Comprehensions vs Lambda functions**\n",
        "\n",
        "List comprehensions aren’t the only way to work on lists. Various built-in functions and lambda functions can create and modify lists in less lines of code."
      ]
    },
    {
      "cell_type": "code",
      "metadata": {
        "id": "VqftloSdsZDm",
        "colab_type": "code",
        "colab": {
          "base_uri": "https://localhost:8080/",
          "height": 34
        },
        "outputId": "2941ac1d-85e9-4aeb-fcdb-b7dedb36b2a1"
      },
      "source": [
        "letters = list(map(lambda x: x, 'human'))\n",
        "print(letters)"
      ],
      "execution_count": 3,
      "outputs": [
        {
          "output_type": "stream",
          "text": [
            "['h', 'u', 'm', 'a', 'n']\n"
          ],
          "name": "stdout"
        }
      ]
    },
    {
      "cell_type": "markdown",
      "metadata": {
        "id": "hZkuy1E7tR-o",
        "colab_type": "text"
      },
      "source": [
        "However, list comprehensions are usually more human readable than lambda functions. It is easier to understand what the programmer was trying to accomplish when list comprehensions are used."
      ]
    },
    {
      "cell_type": "markdown",
      "metadata": {
        "id": "vqjH1dedtWzn",
        "colab_type": "text"
      },
      "source": [
        "**Conditionals in List Comprehension**\n",
        "\n",
        "List comprehensions can utilize conditional statement to modify existing list (or other tuples). We will create list that uses mathematical operators, integers, and range().\n",
        "\n",
        "**Example 4: Using if with List Comprehension**"
      ]
    },
    {
      "cell_type": "code",
      "metadata": {
        "id": "ghhO4_uVtNFe",
        "colab_type": "code",
        "colab": {
          "base_uri": "https://localhost:8080/",
          "height": 34
        },
        "outputId": "be8103ce-4ac7-4f90-a132-f51bbb03c570"
      },
      "source": [
        "number_list = [ x for x in range(20) if x % 2 == 0]\n",
        "print(number_list)"
      ],
      "execution_count": 4,
      "outputs": [
        {
          "output_type": "stream",
          "text": [
            "[0, 2, 4, 6, 8, 10, 12, 14, 16, 18]\n"
          ],
          "name": "stdout"
        }
      ]
    },
    {
      "cell_type": "markdown",
      "metadata": {
        "id": "vn3AtMeythKo",
        "colab_type": "text"
      },
      "source": [
        "The list ,number_list, will be populated by the items in range from 0-19 if the item's value is divisible by 2.\n",
        "\n",
        "**Example 5: Nested IF with List Comprehension**"
      ]
    },
    {
      "cell_type": "code",
      "metadata": {
        "id": "6MDjSCEAtfaN",
        "colab_type": "code",
        "colab": {
          "base_uri": "https://localhost:8080/",
          "height": 34
        },
        "outputId": "da0533c8-fa58-4b9d-bf27-09432f4e6f8c"
      },
      "source": [
        "num_list = [y for y in range(100) if y % 2 == 0 if y % 5 == 0]\n",
        "print(num_list)"
      ],
      "execution_count": 5,
      "outputs": [
        {
          "output_type": "stream",
          "text": [
            "[0, 10, 20, 30, 40, 50, 60, 70, 80, 90]\n"
          ],
          "name": "stdout"
        }
      ]
    },
    {
      "cell_type": "markdown",
      "metadata": {
        "id": "7DBRBA0xtp3W",
        "colab_type": "text"
      },
      "source": [
        "Here, list comprehension checks:\n",
        "\n",
        "1. Is y divisible by 2 or not?\n",
        "2. Is y divisible by 5 or not?"
      ]
    },
    {
      "cell_type": "markdown",
      "metadata": {
        "id": "V1DshHmEtwPR",
        "colab_type": "text"
      },
      "source": [
        "**Example 6: if...else With List Comprehension**"
      ]
    },
    {
      "cell_type": "code",
      "metadata": {
        "id": "355qTGKLtyyL",
        "colab_type": "code",
        "colab": {
          "base_uri": "https://localhost:8080/",
          "height": 34
        },
        "outputId": "95c05cd3-e4a4-46f2-e7ff-0b7e5083b27e"
      },
      "source": [
        "obj = [\"Even\" if i%2==0 else \"Odd\" for i in range(10)]\n",
        "print(obj)"
      ],
      "execution_count": 6,
      "outputs": [
        {
          "output_type": "stream",
          "text": [
            "['Even', 'Odd', 'Even', 'Odd', 'Even', 'Odd', 'Even', 'Odd', 'Even', 'Odd']\n"
          ],
          "name": "stdout"
        }
      ]
    },
    {
      "cell_type": "markdown",
      "metadata": {
        "id": "73cIN-yft5w9",
        "colab_type": "text"
      },
      "source": [
        "Here, list comprehension will check the 10 numbers from 0 to 9. If i is divisible by 2, then Even is appended to the obj list. If not, Odd is appended."
      ]
    },
    {
      "cell_type": "markdown",
      "metadata": {
        "id": "HDGVsuZGt-Nn",
        "colab_type": "text"
      },
      "source": [
        "**Nested Loops in List Comprehension**\n",
        "\n",
        "Suppose, we need to compute transpose of a matrix which requires nested for loop. Let’s see how it is done using normal for loop first.\n",
        "\n",
        "**Example 7: Transpose of Matrix using Nested Loops**"
      ]
    },
    {
      "cell_type": "code",
      "metadata": {
        "id": "5YDL6ej5t3G9",
        "colab_type": "code",
        "colab": {
          "base_uri": "https://localhost:8080/",
          "height": 34
        },
        "outputId": "f990942c-f221-4104-84df-8c33c3a5a11e"
      },
      "source": [
        "transposed = []\n",
        "matrix = [[1, 2, 3, 4], [4, 5, 6, 8]]\n",
        "\n",
        "for i in range(len(matrix[0])):\n",
        "    transposed_row = []\n",
        "\n",
        "    for row in matrix:\n",
        "        transposed_row.append(row[i])\n",
        "    transposed.append(transposed_row)\n",
        "\n",
        "print(transposed)\n",
        "\n",
        "#Output: [[1, 4], [2, 5], [3, 6]]"
      ],
      "execution_count": 7,
      "outputs": [
        {
          "output_type": "stream",
          "text": [
            "[[1, 4], [2, 5], [3, 6], [4, 8]]\n"
          ],
          "name": "stdout"
        }
      ]
    },
    {
      "cell_type": "markdown",
      "metadata": {
        "id": "GjvBf7rfuhhf",
        "colab_type": "text"
      },
      "source": [
        "The above code use two for loops to find transpose of the matrix.\n",
        "\n",
        "We can also perform nested iteration inside a list comprehension. In this section, we will find transpose of a matrix using nested loop inside list comprehension."
      ]
    },
    {
      "cell_type": "markdown",
      "metadata": {
        "id": "9OPKGPw2uloo",
        "colab_type": "text"
      },
      "source": [
        "**Example 8: Transpose of a Matrix using List Comprehension**"
      ]
    },
    {
      "cell_type": "code",
      "metadata": {
        "id": "MyTqQxdguLqs",
        "colab_type": "code",
        "colab": {
          "base_uri": "https://localhost:8080/",
          "height": 34
        },
        "outputId": "379cc4fa-a9e1-492f-bae9-5386e543672d"
      },
      "source": [
        "matrix = [[1, 2], [3,4], [5,6], [7,8]]\n",
        "transpose = [[row[i] for row in matrix] for i in range(len(matrix[0]))]\n",
        "print (transpose)"
      ],
      "execution_count": 9,
      "outputs": [
        {
          "output_type": "stream",
          "text": [
            "[[1, 3, 5, 7], [2, 4, 6, 8]]\n"
          ],
          "name": "stdout"
        }
      ]
    },
    {
      "cell_type": "markdown",
      "metadata": {
        "id": "O07yOouuvAxl",
        "colab_type": "text"
      },
      "source": [
        "In above program, we have a variable matrix which have 4 rows and 2 columns.We need to find transpose of the matrix. For that, we used list comprehension.\n",
        "\n",
        "Note: The nested loops in list comprehension don’t work like normal nested loops. In the above program, **for i in range(2)** is executed before **row[i] for row in matrix**. Hence at first, a value is assigned to **i** then item directed by **row[i]** is appended in the **transpose** variable."
      ]
    },
    {
      "cell_type": "markdown",
      "metadata": {
        "id": "Xuq3xXCivTUN",
        "colab_type": "text"
      },
      "source": [
        "**Key Points to Remember**\n",
        "\n",
        "* List comprehension is an elegant way to define and create lists based on existing lists.\n",
        "* List comprehension is generally more compact and faster than normal functions and loops for creating list.\n",
        "* However, we should avoid writing very long list comprehensions in one line to ensure that code is user-friendly.\n",
        "* Remember, every list comprehension can be rewritten in for loop, but every for loop can’t be rewritten in the form of list comprehension."
      ]
    },
    {
      "cell_type": "code",
      "metadata": {
        "id": "QNvdIjcGurpm",
        "colab_type": "code",
        "colab": {}
      },
      "source": [
        ""
      ],
      "execution_count": 0,
      "outputs": []
    }
  ]
}