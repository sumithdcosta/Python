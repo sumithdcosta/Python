{
  "nbformat": 4,
  "nbformat_minor": 0,
  "metadata": {
    "colab": {
      "name": "Untitled32.ipynb",
      "provenance": [],
      "include_colab_link": true
    },
    "kernelspec": {
      "name": "python3",
      "display_name": "Python 3"
    }
  },
  "cells": [
    {
      "cell_type": "markdown",
      "metadata": {
        "id": "view-in-github",
        "colab_type": "text"
      },
      "source": [
        "<a href=\"https://colab.research.google.com/github/sumithdcosta/Python/blob/master/4.%20Datatypes/8.%20Arrays.ipynb\" target=\"_parent\"><img src=\"https://colab.research.google.com/assets/colab-badge.svg\" alt=\"Open In Colab\"/></a>"
      ]
    },
    {
      "cell_type": "markdown",
      "metadata": {
        "id": "7E4VmfoNmMiq",
        "colab_type": "text"
      },
      "source": [
        "4. Datatypes/8. Arrays.ipynb"
      ]
    },
    {
      "cell_type": "markdown",
      "metadata": {
        "id": "5P7xuq4YmV97",
        "colab_type": "text"
      },
      "source": [
        "**Array**\n",
        "\n",
        "In programming, an **array** is a collection of elements of the same type.\n",
        "\n",
        "Arrays are popular in most programming languages like: Java, C/C++, JavaScript and so on. However, in Python, they are not that common. When people talk about Python **arrays**, more often than not, they are talking about Python lists. \n",
        "\n",
        "That being said, array of numeric values are supported in Python by the array module."
      ]
    },
    {
      "cell_type": "markdown",
      "metadata": {
        "id": "TZ37u11Fnb8K",
        "colab_type": "text"
      },
      "source": [
        "**Python Lists Vs array Module as Arrays**\n",
        "\n",
        "We can treat lists as arrays. However, we cannot constrain the type of elements stored in a list. For example:\n"
      ]
    },
    {
      "cell_type": "code",
      "metadata": {
        "id": "SX_9aU7smI__",
        "colab_type": "code",
        "colab": {}
      },
      "source": [
        "a = [1, 3.5, \"Hello\"] "
      ],
      "execution_count": 0,
      "outputs": []
    },
    {
      "cell_type": "markdown",
      "metadata": {
        "id": "QibgRd-tnhVy",
        "colab_type": "text"
      },
      "source": [
        "If you create arrays using array module, all elements of the array must be of the same numeric type."
      ]
    },
    {
      "cell_type": "code",
      "metadata": {
        "id": "U4KEEgkvnf7P",
        "colab_type": "code",
        "colab": {
          "base_uri": "https://localhost:8080/",
          "height": 185
        },
        "outputId": "f6fe1b11-54a5-4fc7-bad4-ff22276e702a"
      },
      "source": [
        "import array as arr\n",
        "a = arr.array('d', [1, 3.5, \"Hello\"])   // Error"
      ],
      "execution_count": 2,
      "outputs": [
        {
          "output_type": "error",
          "ename": "TypeError",
          "evalue": "ignored",
          "traceback": [
            "\u001b[0;31m---------------------------------------------------------------------------\u001b[0m",
            "\u001b[0;31mTypeError\u001b[0m                                 Traceback (most recent call last)",
            "\u001b[0;32m<ipython-input-2-54af81fea9fb>\u001b[0m in \u001b[0;36m<module>\u001b[0;34m()\u001b[0m\n\u001b[1;32m      1\u001b[0m \u001b[0;32mimport\u001b[0m \u001b[0marray\u001b[0m \u001b[0;32mas\u001b[0m \u001b[0marr\u001b[0m\u001b[0;34m\u001b[0m\u001b[0;34m\u001b[0m\u001b[0m\n\u001b[0;32m----> 2\u001b[0;31m \u001b[0ma\u001b[0m \u001b[0;34m=\u001b[0m \u001b[0marr\u001b[0m\u001b[0;34m.\u001b[0m\u001b[0marray\u001b[0m\u001b[0;34m(\u001b[0m\u001b[0;34m'd'\u001b[0m\u001b[0;34m,\u001b[0m \u001b[0;34m[\u001b[0m\u001b[0;36m1\u001b[0m\u001b[0;34m,\u001b[0m \u001b[0;36m3.5\u001b[0m\u001b[0;34m,\u001b[0m \u001b[0;34m\"Hello\"\u001b[0m\u001b[0;34m]\u001b[0m\u001b[0;34m)\u001b[0m   \u001b[0;34m//\u001b[0m \u001b[0mError\u001b[0m\u001b[0;34m\u001b[0m\u001b[0;34m\u001b[0m\u001b[0m\n\u001b[0m",
            "\u001b[0;31mTypeError\u001b[0m: must be real number, not str"
          ]
        }
      ]
    },
    {
      "cell_type": "markdown",
      "metadata": {
        "id": "prjoRKNRno6u",
        "colab_type": "text"
      },
      "source": [
        "**How to create arrays?**\n",
        "\n",
        "As you might have guessed from the above example, we need to import array module to create arrays. For example:"
      ]
    },
    {
      "cell_type": "code",
      "metadata": {
        "id": "xV2W22IknnhV",
        "colab_type": "code",
        "colab": {
          "base_uri": "https://localhost:8080/",
          "height": 34
        },
        "outputId": "27d409f6-851e-4342-f580-c0af6d0eada8"
      },
      "source": [
        "import array as arr\n",
        "a = arr.array('d', [1.1, 3.5, 4.5])\n",
        "print(a)"
      ],
      "execution_count": 3,
      "outputs": [
        {
          "output_type": "stream",
          "text": [
            "array('d', [1.1, 3.5, 4.5])\n"
          ],
          "name": "stdout"
        }
      ]
    },
    {
      "cell_type": "markdown",
      "metadata": {
        "id": "06qQ37lJny4D",
        "colab_type": "text"
      },
      "source": [
        "Here, we created an array of float type. The letter 'd' is a type code. This determines the type of the array during creation.\n",
        "\n",
        "Commonly used type codes:\n",
        "\n",
        "![alt text](https://drive.google.com/uc?export=view&id=1g5AXxSpL6uzL_n8g1jhUq_aRJoGDEx-9)\n",
        "\n",
        "We will not discuss about different C types in this article. We will use two type codes in this entire article: 'i' for integers and 'd' for floats.\n",
        "\n",
        "Note: The 'u' type code for Unicode characters is deprecated since version 3.3. Avoid using it when possible.\n",
        "\n",
        "\n"
      ]
    },
    {
      "cell_type": "markdown",
      "metadata": {
        "id": "UJDoX83PoefZ",
        "colab_type": "text"
      },
      "source": [
        "**How to access array elements?**\n",
        "\n",
        "We use indices to access elements of an array:\n"
      ]
    },
    {
      "cell_type": "code",
      "metadata": {
        "id": "quvoJ78Fns_-",
        "colab_type": "code",
        "colab": {
          "base_uri": "https://localhost:8080/",
          "height": 70
        },
        "outputId": "58750c87-cd8d-4b76-b453-6e3d437b06e2"
      },
      "source": [
        "import array as arr\n",
        "a = arr.array('i', [2, 4, 6, 8])\n",
        "\n",
        "print(\"First element:\", a[0])\n",
        "print(\"Second element:\", a[1])\n",
        "print(\"Second last element:\", a[-1])"
      ],
      "execution_count": 4,
      "outputs": [
        {
          "output_type": "stream",
          "text": [
            "First element: 2\n",
            "Second element: 4\n",
            "Second last element: 8\n"
          ],
          "name": "stdout"
        }
      ]
    },
    {
      "cell_type": "markdown",
      "metadata": {
        "id": "KRtwQD6iokJq",
        "colab_type": "text"
      },
      "source": [
        "Remember, index starts from 0 (not 1) similar like lists.\n"
      ]
    },
    {
      "cell_type": "markdown",
      "metadata": {
        "id": "9_7jRIj6omsO",
        "colab_type": "text"
      },
      "source": [
        "**How to slice arrays?**\n",
        "\n",
        "We can access a range of items in an array by using the slicing operator :.\n"
      ]
    },
    {
      "cell_type": "code",
      "metadata": {
        "id": "PEjZHbDIoh8T",
        "colab_type": "code",
        "colab": {
          "base_uri": "https://localhost:8080/",
          "height": 87
        },
        "outputId": "45054517-ab28-47d4-83cd-090ca6b4ab33"
      },
      "source": [
        "import array as arr\n",
        "\n",
        "numbers_list = [2, 5, 62, 5, 42, 52, 48, 5]\n",
        "numbers_array = arr.array('i', numbers_list)\n",
        "\n",
        "print(numbers_array[2:5]) # 3rd to 5th\n",
        "print(numbers_array[:-5]) # beginning to 4th\n",
        "print(numbers_array[5:])  # 6th to end\n",
        "print(numbers_array[:])   # beginning to end"
      ],
      "execution_count": 5,
      "outputs": [
        {
          "output_type": "stream",
          "text": [
            "array('i', [62, 5, 42])\n",
            "array('i', [2, 5, 62])\n",
            "array('i', [52, 48, 5])\n",
            "array('i', [2, 5, 62, 5, 42, 52, 48, 5])\n"
          ],
          "name": "stdout"
        }
      ]
    },
    {
      "cell_type": "markdown",
      "metadata": {
        "id": "zUz5BgQjovCl",
        "colab_type": "text"
      },
      "source": [
        "**How to change or add elements?**\n",
        "\n",
        "Arrays are mutable; their elements can be changed in a similar way like lists."
      ]
    },
    {
      "cell_type": "code",
      "metadata": {
        "id": "T422U5yuosKl",
        "colab_type": "code",
        "colab": {
          "base_uri": "https://localhost:8080/",
          "height": 52
        },
        "outputId": "fed3baad-a2df-428d-b595-6351ba417bbe"
      },
      "source": [
        "import array as arr\n",
        "\n",
        "numbers = arr.array('i', [1, 2, 3, 5, 7, 10])\n",
        "\n",
        "# changing first element\n",
        "numbers[0] = 0    \n",
        "print(numbers)     # Output: array('i', [0, 2, 3, 5, 7, 10])\n",
        "\n",
        "# changing 3rd to 5th element\n",
        "numbers[2:5] = arr.array('i', [4, 6, 8])   \n",
        "print(numbers)     # Output: array('i', [0, 2, 4, 6, 8, 10])"
      ],
      "execution_count": 6,
      "outputs": [
        {
          "output_type": "stream",
          "text": [
            "array('i', [0, 2, 3, 5, 7, 10])\n",
            "array('i', [0, 2, 4, 6, 8, 10])\n"
          ],
          "name": "stdout"
        }
      ]
    },
    {
      "cell_type": "markdown",
      "metadata": {
        "id": "ZRhWqLU_o39b",
        "colab_type": "text"
      },
      "source": [
        "We can add one item to a list using **append**() method or add several items using **extend**() method."
      ]
    },
    {
      "cell_type": "code",
      "metadata": {
        "id": "yTBYDepco0a8",
        "colab_type": "code",
        "colab": {
          "base_uri": "https://localhost:8080/",
          "height": 52
        },
        "outputId": "f487268a-92a8-4ebf-e2d9-430877d42eec"
      },
      "source": [
        "import array as arr\n",
        "\n",
        "numbers = arr.array('i', [1, 2, 3])\n",
        "\n",
        "numbers.append(4)\n",
        "print(numbers)     # Output: array('i', [1, 2, 3, 4])\n",
        "\n",
        "# extend() appends iterable to the end of the array\n",
        "numbers.extend([5, 6, 7]) \n",
        "print(numbers)     # Output: array('i', [1, 2, 3, 4, 5, 6, 7])"
      ],
      "execution_count": 7,
      "outputs": [
        {
          "output_type": "stream",
          "text": [
            "array('i', [1, 2, 3, 4])\n",
            "array('i', [1, 2, 3, 4, 5, 6, 7])\n"
          ],
          "name": "stdout"
        }
      ]
    },
    {
      "cell_type": "markdown",
      "metadata": {
        "id": "7oOad1A9pBHR",
        "colab_type": "text"
      },
      "source": [
        "We can concatenate two arrays using + operator."
      ]
    },
    {
      "cell_type": "code",
      "metadata": {
        "id": "dubyHsVlo-m8",
        "colab_type": "code",
        "colab": {
          "base_uri": "https://localhost:8080/",
          "height": 34
        },
        "outputId": "b4b4f3f4-9722-49d3-b149-4312494f8e35"
      },
      "source": [
        "import array as arr\n",
        "\n",
        "odd = arr.array('i', [1, 3, 5])\n",
        "even = arr.array('i', [2, 4, 6])\n",
        "\n",
        "numbers = arr.array('i')   # creating empty array of integer\n",
        "numbers = odd + even\n",
        "\n",
        "print(numbers)  "
      ],
      "execution_count": 8,
      "outputs": [
        {
          "output_type": "stream",
          "text": [
            "array('i', [1, 3, 5, 2, 4, 6])\n"
          ],
          "name": "stdout"
        }
      ]
    },
    {
      "cell_type": "markdown",
      "metadata": {
        "id": "gdSnk1rxpHsz",
        "colab_type": "text"
      },
      "source": [
        "**How to remove/delete elements?**\n",
        "\n",
        "We can delete one or more items from an array using Python's del statement.\n"
      ]
    },
    {
      "cell_type": "code",
      "metadata": {
        "id": "gHJXxeL2pE1T",
        "colab_type": "code",
        "colab": {
          "base_uri": "https://localhost:8080/",
          "height": 221
        },
        "outputId": "c9a46bd0-9a23-4700-bf6e-fb7e5500fae6"
      },
      "source": [
        "import array as arr\n",
        "\n",
        "number = arr.array('i', [1, 2, 3, 3, 4])\n",
        "\n",
        "del number[2] # removing third element\n",
        "print(number) # Output: array('i', [1, 2, 3, 4])\n",
        "\n",
        "del number # deleting entire array\n",
        "print(number) # Error: array is not defined"
      ],
      "execution_count": 9,
      "outputs": [
        {
          "output_type": "stream",
          "text": [
            "array('i', [1, 2, 3, 4])\n"
          ],
          "name": "stdout"
        },
        {
          "output_type": "error",
          "ename": "NameError",
          "evalue": "ignored",
          "traceback": [
            "\u001b[0;31m---------------------------------------------------------------------------\u001b[0m",
            "\u001b[0;31mNameError\u001b[0m                                 Traceback (most recent call last)",
            "\u001b[0;32m<ipython-input-9-a2991b5bede7>\u001b[0m in \u001b[0;36m<module>\u001b[0;34m()\u001b[0m\n\u001b[1;32m      7\u001b[0m \u001b[0;34m\u001b[0m\u001b[0m\n\u001b[1;32m      8\u001b[0m \u001b[0;32mdel\u001b[0m \u001b[0mnumber\u001b[0m \u001b[0;31m# deleting entire array\u001b[0m\u001b[0;34m\u001b[0m\u001b[0;34m\u001b[0m\u001b[0m\n\u001b[0;32m----> 9\u001b[0;31m \u001b[0mprint\u001b[0m\u001b[0;34m(\u001b[0m\u001b[0mnumber\u001b[0m\u001b[0;34m)\u001b[0m \u001b[0;31m# Error: array is not defined\u001b[0m\u001b[0;34m\u001b[0m\u001b[0;34m\u001b[0m\u001b[0m\n\u001b[0m",
            "\u001b[0;31mNameError\u001b[0m: name 'number' is not defined"
          ]
        }
      ]
    },
    {
      "cell_type": "markdown",
      "metadata": {
        "id": "CUMVAdjNpORr",
        "colab_type": "text"
      },
      "source": [
        "We can use the **remove**() method to remove the given item, and **pop**() method to remove an item at the given index.\n"
      ]
    },
    {
      "cell_type": "code",
      "metadata": {
        "id": "gnUnBfIJpLbt",
        "colab_type": "code",
        "colab": {
          "base_uri": "https://localhost:8080/",
          "height": 70
        },
        "outputId": "7f661225-4301-4cbf-c919-9be52029c4a8"
      },
      "source": [
        "import array as arr\n",
        "\n",
        "numbers = arr.array('i', [10, 11, 12, 12, 13])\n",
        "\n",
        "numbers.remove(12)\n",
        "print(numbers)   # Output: array('i', [10, 11, 12, 13])\n",
        "\n",
        "print(numbers.pop(2))   # Output: 12\n",
        "print(numbers)   # Output: array('i', [10, 11, 13])"
      ],
      "execution_count": 10,
      "outputs": [
        {
          "output_type": "stream",
          "text": [
            "array('i', [10, 11, 12, 13])\n",
            "12\n",
            "array('i', [10, 11, 13])\n"
          ],
          "name": "stdout"
        }
      ]
    },
    {
      "cell_type": "code",
      "metadata": {
        "id": "DSS1h2kepUid",
        "colab_type": "code",
        "colab": {}
      },
      "source": [
        ""
      ],
      "execution_count": 0,
      "outputs": []
    },
    {
      "cell_type": "markdown",
      "metadata": {
        "id": "GfO6sN-8pgks",
        "colab_type": "text"
      },
      "source": [
        "**When to use arrays?**\n",
        "\n",
        "Lists are much more flexible than arrays. They can store elements of different data types including string. Also, lists are faster than arrays. And, if you need to do mathematical computation on arrays and matrices, you are much better off using something like NumPy library.\n",
        "\n",
        "Unless you don't really need arrays (array module may be needed to interface with C code), don't use them.\n"
      ]
    }
  ]
}