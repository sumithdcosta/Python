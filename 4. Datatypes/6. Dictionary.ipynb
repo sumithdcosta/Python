{
  "nbformat": 4,
  "nbformat_minor": 0,
  "metadata": {
    "colab": {
      "name": "Untitled30.ipynb",
      "provenance": [],
      "include_colab_link": true
    },
    "kernelspec": {
      "name": "python3",
      "display_name": "Python 3"
    }
  },
  "cells": [
    {
      "cell_type": "markdown",
      "metadata": {
        "id": "view-in-github",
        "colab_type": "text"
      },
      "source": [
        "<a href=\"https://colab.research.google.com/github/sumithdcosta/Python/blob/master/4.%20Datatypes/6.%20Dictionary.ipynb\" target=\"_parent\"><img src=\"https://colab.research.google.com/assets/colab-badge.svg\" alt=\"Open In Colab\"/></a>"
      ]
    },
    {
      "cell_type": "markdown",
      "metadata": {
        "id": "LvoKgtwkxsDI",
        "colab_type": "text"
      },
      "source": [
        "4. Datatypes/6. Dictionary.ipynb"
      ]
    },
    {
      "cell_type": "markdown",
      "metadata": {
        "id": "k5IuyMK1xumq",
        "colab_type": "text"
      },
      "source": [
        "**What is dictionary in Python?**\n",
        "\n",
        "Python dictionary is an unordered collection of items. While other compound data types have only value as an element, a dictionary has a key: value pair.\n",
        "\n",
        "Dictionaries are optimized to retrieve values when the key is known."
      ]
    },
    {
      "cell_type": "markdown",
      "metadata": {
        "id": "pIE--4h4x0qu",
        "colab_type": "text"
      },
      "source": [
        "**How to create a dictionary?**\n",
        "\n",
        "Creating a dictionary is as simple as placing items inside curly braces {} separated by comma.\n",
        "\n",
        "An item has a key and the corresponding value expressed as a pair, key: value.\n",
        "\n",
        "While values can be of any data type and can repeat, keys must be of immutable type (string, number or tuple with immutable elements) and must be unique."
      ]
    },
    {
      "cell_type": "code",
      "metadata": {
        "id": "ZyXgU2Mix9O4",
        "colab_type": "code",
        "colab": {}
      },
      "source": [
        "# empty dictionary\n",
        "my_dict = {}\n",
        "\n",
        "# dictionary with integer keys\n",
        "my_dict = {1: 'apple', 2: 'ball'}\n",
        "\n",
        "# dictionary with mixed keys\n",
        "my_dict = {'name': 'John', 1: [2, 4, 3]}\n",
        "\n",
        "# using dict()\n",
        "my_dict = dict({1:'apple', 2:'ball'})\n",
        "\n",
        "# from sequence having each item as a pair\n",
        "my_dict = dict([(1,'apple'), (2,'ball')])"
      ],
      "execution_count": 0,
      "outputs": []
    },
    {
      "cell_type": "markdown",
      "metadata": {
        "id": "PNRQ60CMyHZV",
        "colab_type": "text"
      },
      "source": [
        "As you can see above, we can also create a dictionary using the built-in function dict()."
      ]
    },
    {
      "cell_type": "markdown",
      "metadata": {
        "id": "3GdDmhdzyJ3j",
        "colab_type": "text"
      },
      "source": [
        "**How to access elements from a dictionary?**\n",
        "\n",
        "While indexing is used with other container types to access values, dictionary uses keys. Key can be used either inside square brackets or with the **get**() method.\n",
        "\n",
        "The difference while using **get**() is that it returns **None** instead of **KeyError**, if the key is not found."
      ]
    },
    {
      "cell_type": "code",
      "metadata": {
        "id": "Omx2oWn5x_j5",
        "colab_type": "code",
        "colab": {
          "base_uri": "https://localhost:8080/",
          "height": 52
        },
        "outputId": "4610879f-8e42-4318-d225-26c362a3bb06"
      },
      "source": [
        "my_dict = {'name':'Jack', 'age': 26}\n",
        "\n",
        "# Output: Jack\n",
        "print(my_dict['name'])\n",
        "\n",
        "# Output: 26\n",
        "print(my_dict.get('age'))"
      ],
      "execution_count": 2,
      "outputs": [
        {
          "output_type": "stream",
          "text": [
            "Jack\n",
            "26\n"
          ],
          "name": "stdout"
        }
      ]
    },
    {
      "cell_type": "code",
      "metadata": {
        "id": "gRvXV8QwyT7C",
        "colab_type": "code",
        "colab": {}
      },
      "source": [
        "# Trying to access keys which doesn't exist throws error\n",
        "my_dict.get('address')"
      ],
      "execution_count": 0,
      "outputs": []
    },
    {
      "cell_type": "code",
      "metadata": {
        "id": "jKdHcClh1Mt2",
        "colab_type": "code",
        "colab": {
          "base_uri": "https://localhost:8080/",
          "height": 167
        },
        "outputId": "44819f82-d988-47bf-b9d8-8d9c41556e85"
      },
      "source": [
        "my_dict['address']"
      ],
      "execution_count": 6,
      "outputs": [
        {
          "output_type": "error",
          "ename": "KeyError",
          "evalue": "ignored",
          "traceback": [
            "\u001b[0;31m---------------------------------------------------------------------------\u001b[0m",
            "\u001b[0;31mKeyError\u001b[0m                                  Traceback (most recent call last)",
            "\u001b[0;32m<ipython-input-6-b5c2477cb08e>\u001b[0m in \u001b[0;36m<module>\u001b[0;34m()\u001b[0m\n\u001b[0;32m----> 1\u001b[0;31m \u001b[0mmy_dict\u001b[0m\u001b[0;34m[\u001b[0m\u001b[0;34m'address'\u001b[0m\u001b[0;34m]\u001b[0m\u001b[0;34m\u001b[0m\u001b[0;34m\u001b[0m\u001b[0m\n\u001b[0m",
            "\u001b[0;31mKeyError\u001b[0m: 'address'"
          ]
        }
      ]
    },
    {
      "cell_type": "markdown",
      "metadata": {
        "id": "8-7Arbeh1Yue",
        "colab_type": "text"
      },
      "source": [
        "\n",
        "**How to change or add elements in a dictionary?**\n",
        "\n",
        "Dictionary are mutable. We can add new items or change the value of existing items using assignment operator.\n",
        "\n",
        "If the key is already present, value gets updated, else a new key: value pair is added to the dictionary.\n"
      ]
    },
    {
      "cell_type": "code",
      "metadata": {
        "id": "vPuWDsIW1WJt",
        "colab_type": "code",
        "colab": {
          "base_uri": "https://localhost:8080/",
          "height": 52
        },
        "outputId": "5785b622-0ad5-42ed-c992-21af57e87c25"
      },
      "source": [
        "my_dict = {'name':'Jack', 'age': 26}\n",
        "\n",
        "# update value\n",
        "my_dict['age'] = 27\n",
        "\n",
        "#Output: {'age': 27, 'name': 'Jack'}\n",
        "print(my_dict)\n",
        "\n",
        "# add item\n",
        "my_dict['address'] = 'Downtown'  \n",
        "\n",
        "# Output: {'address': 'Downtown', 'age': 27, 'name': 'Jack'}\n",
        "print(my_dict)"
      ],
      "execution_count": 7,
      "outputs": [
        {
          "output_type": "stream",
          "text": [
            "{'name': 'Jack', 'age': 27}\n",
            "{'name': 'Jack', 'age': 27, 'address': 'Downtown'}\n"
          ],
          "name": "stdout"
        }
      ]
    },
    {
      "cell_type": "markdown",
      "metadata": {
        "id": "llGvaCqD1paj",
        "colab_type": "text"
      },
      "source": [
        "**How to delete or remove elements from a dictionary?**\n",
        "\n",
        "We can remove a particular item in a dictionary by using the method pop(). This method removes as item with the provided key and returns the value.\n",
        "\n",
        "The method, **popitem**() can be used to remove and return an arbitrary item (key, value) form the dictionary. All the items can be removed at once using the **clear**() method.\n",
        "\n",
        "We can also use the **del** keyword to remove individual items or the entire dictionary itself."
      ]
    },
    {
      "cell_type": "code",
      "metadata": {
        "id": "Qgo1ykag1gwc",
        "colab_type": "code",
        "colab": {
          "base_uri": "https://localhost:8080/",
          "height": 87
        },
        "outputId": "a7f5c9fa-cbbf-421e-9406-3983d0c1c280"
      },
      "source": [
        "# create a dictionary\n",
        "squares = {1:1, 2:4, 3:9, 4:16, 5:25}  \n",
        "\n",
        "# remove a particular item\n",
        "# Output: 16\n",
        "print(squares.pop(4))  \n",
        "\n",
        "# Output: {1: 1, 2: 4, 3: 9, 5: 25}\n",
        "print(squares)\n",
        "\n",
        "# remove an arbitrary item\n",
        "# Output: (1, 1)\n",
        "print(squares.popitem())\n",
        "\n",
        "# Output: {2: 4, 3: 9, 5: 25}\n",
        "print(squares)"
      ],
      "execution_count": 12,
      "outputs": [
        {
          "output_type": "stream",
          "text": [
            "16\n",
            "{1: 1, 2: 4, 3: 9, 5: 25}\n",
            "(5, 25)\n",
            "{1: 1, 2: 4, 3: 9}\n"
          ],
          "name": "stdout"
        }
      ]
    },
    {
      "cell_type": "code",
      "metadata": {
        "id": "q0WZCkED11h9",
        "colab_type": "code",
        "colab": {
          "base_uri": "https://localhost:8080/",
          "height": 52
        },
        "outputId": "8df8eaec-4748-4208-e5ac-968f610fcd6b"
      },
      "source": [
        "# delete a particular item\n",
        "del squares[2]  \n",
        "\n",
        "# Output: {2: 4, 3: 9}\n",
        "print(squares)\n",
        "\n",
        "# remove all items\n",
        "squares.clear()\n",
        "\n",
        "# Output: {}\n",
        "print(squares)\n",
        "\n",
        "# delete the dictionary itself\n",
        "del squares"
      ],
      "execution_count": 13,
      "outputs": [
        {
          "output_type": "stream",
          "text": [
            "{1: 1, 3: 9}\n",
            "{}\n"
          ],
          "name": "stdout"
        }
      ]
    },
    {
      "cell_type": "code",
      "metadata": {
        "id": "08Ka7KrQ2TP8",
        "colab_type": "code",
        "colab": {
          "base_uri": "https://localhost:8080/",
          "height": 167
        },
        "outputId": "8ad79b44-aee5-42c7-d6de-7e2a7eef7ef2"
      },
      "source": [
        "# Throws Error\n",
        "print(squares)"
      ],
      "execution_count": 14,
      "outputs": [
        {
          "output_type": "error",
          "ename": "NameError",
          "evalue": "ignored",
          "traceback": [
            "\u001b[0;31m---------------------------------------------------------------------------\u001b[0m",
            "\u001b[0;31mNameError\u001b[0m                                 Traceback (most recent call last)",
            "\u001b[0;32m<ipython-input-14-00129ae3ba48>\u001b[0m in \u001b[0;36m<module>\u001b[0;34m()\u001b[0m\n\u001b[0;32m----> 1\u001b[0;31m \u001b[0mprint\u001b[0m\u001b[0;34m(\u001b[0m\u001b[0msquares\u001b[0m\u001b[0;34m)\u001b[0m\u001b[0;34m\u001b[0m\u001b[0;34m\u001b[0m\u001b[0m\n\u001b[0m",
            "\u001b[0;31mNameError\u001b[0m: name 'squares' is not defined"
          ]
        }
      ]
    },
    {
      "cell_type": "markdown",
      "metadata": {
        "id": "SnJP-6VA2hzk",
        "colab_type": "text"
      },
      "source": [
        "**Python Dictionary Methods**\n",
        "\n",
        "Methods that are available with dictionary are tabulated below. Some of them have already been used in the above examples.\n",
        "\n",
        "**Python Dictionary Methods**\n",
        "\n",
        "![alt text](https://drive.google.com/uc?export=view&id=1kplkyhLHz1o9JxwZnAelOriPOZeIAvOR)\n",
        "\n",
        "Here are a few example use of these methods.\n"
      ]
    },
    {
      "cell_type": "code",
      "metadata": {
        "id": "pFktYf4P2XFs",
        "colab_type": "code",
        "colab": {
          "base_uri": "https://localhost:8080/",
          "height": 105
        },
        "outputId": "64beb524-07d4-4b6e-ef93-d397d09777db"
      },
      "source": [
        "marks = {}.fromkeys(['Math','English','Science'], 0)\n",
        "\n",
        "# Output: {'English': 0, 'Math': 0, 'Science': 0}\n",
        "print(marks)\n",
        "\n",
        "for item in marks.items():\n",
        "    print(item)\n",
        "\n",
        "# Output: ['English', 'Math', 'Science']\n",
        "list(sorted(marks.keys()))\n"
      ],
      "execution_count": 15,
      "outputs": [
        {
          "output_type": "stream",
          "text": [
            "{'Math': 0, 'English': 0, 'Science': 0}\n",
            "('Math', 0)\n",
            "('English', 0)\n",
            "('Science', 0)\n"
          ],
          "name": "stdout"
        },
        {
          "output_type": "execute_result",
          "data": {
            "text/plain": [
              "['English', 'Math', 'Science']"
            ]
          },
          "metadata": {
            "tags": []
          },
          "execution_count": 15
        }
      ]
    },
    {
      "cell_type": "markdown",
      "metadata": {
        "id": "X9VKurXA3au9",
        "colab_type": "text"
      },
      "source": [
        "**Python Dictionary Comprehension**\n",
        "\n",
        "Dictionary comprehension is an elegant and concise way to create new dictionary from an iterable in Python.\n",
        "\n",
        "Dictionary comprehension consists of an expression pair (key: value) followed by for statement inside curly braces {}.\n",
        "\n",
        "Here is an example to make a dictionary with each item being a pair of a number and its square."
      ]
    },
    {
      "cell_type": "code",
      "metadata": {
        "id": "IWUdsyDY3CpM",
        "colab_type": "code",
        "colab": {
          "base_uri": "https://localhost:8080/",
          "height": 34
        },
        "outputId": "77815e17-177b-4596-f672-441b29351876"
      },
      "source": [
        "squares = {x: x*x for x in range(6)}\n",
        "\n",
        "# Output: {0: 0, 1: 1, 2: 4, 3: 9, 4: 16, 5: 25}\n",
        "print(squares)"
      ],
      "execution_count": 16,
      "outputs": [
        {
          "output_type": "stream",
          "text": [
            "{0: 0, 1: 1, 2: 4, 3: 9, 4: 16, 5: 25}\n"
          ],
          "name": "stdout"
        }
      ]
    },
    {
      "cell_type": "markdown",
      "metadata": {
        "id": "IA5iPhjD4qtE",
        "colab_type": "text"
      },
      "source": [
        "This code is equivalent to"
      ]
    },
    {
      "cell_type": "code",
      "metadata": {
        "id": "1E-hUm7P4lvU",
        "colab_type": "code",
        "colab": {}
      },
      "source": [
        "squares = {}\n",
        "for x in range(6):\n",
        "   squares[x] = x*x\n"
      ],
      "execution_count": 0,
      "outputs": []
    },
    {
      "cell_type": "markdown",
      "metadata": {
        "id": "x80eJZLa4uiC",
        "colab_type": "text"
      },
      "source": [
        "A dictionary comprehension can optionally contain more **for** or **if statements**.\n",
        "\n",
        "An optional **if** statement can filter out items to form the new dictionary.\n",
        "\n",
        "Here are some examples to make dictionary with only odd items."
      ]
    },
    {
      "cell_type": "code",
      "metadata": {
        "id": "S1-ZKVD54seg",
        "colab_type": "code",
        "colab": {
          "base_uri": "https://localhost:8080/",
          "height": 34
        },
        "outputId": "6d39344f-9aeb-407a-e8c1-f5ec0fe2c92d"
      },
      "source": [
        "odd_squares = {x: x*x for x in range(11) if x%2 == 1}\n",
        "\n",
        "# Output: {1: 1, 3: 9, 5: 25, 7: 49, 9: 81}\n",
        "print(odd_squares)"
      ],
      "execution_count": 18,
      "outputs": [
        {
          "output_type": "stream",
          "text": [
            "{1: 1, 3: 9, 5: 25, 7: 49, 9: 81}\n"
          ],
          "name": "stdout"
        }
      ]
    },
    {
      "cell_type": "markdown",
      "metadata": {
        "id": "WIaHivfO49qM",
        "colab_type": "text"
      },
      "source": [
        "**Other Dictionary Operations**\n",
        "\n",
        "**Dictionary Membership Test**\n",
        "\n",
        "We can test if a key is in a dictionary or not using the keyword in. Notice that membership test is for keys only, not for values."
      ]
    },
    {
      "cell_type": "code",
      "metadata": {
        "id": "fS780pC643Mg",
        "colab_type": "code",
        "colab": {
          "base_uri": "https://localhost:8080/",
          "height": 70
        },
        "outputId": "fe13b183-3c2b-4dfd-e51a-e24f88a37e8f"
      },
      "source": [
        "squares = {1: 1, 3: 9, 5: 25, 7: 49, 9: 81}\n",
        "\n",
        "# Output: True\n",
        "print(1 in squares)\n",
        "\n",
        "# Output: True\n",
        "print(2 not in squares)\n",
        "\n",
        "# membership tests for key only not value\n",
        "# Output: False\n",
        "print(49 in squares)"
      ],
      "execution_count": 19,
      "outputs": [
        {
          "output_type": "stream",
          "text": [
            "True\n",
            "True\n",
            "False\n"
          ],
          "name": "stdout"
        }
      ]
    },
    {
      "cell_type": "markdown",
      "metadata": {
        "id": "RSOrCwWi5QnQ",
        "colab_type": "text"
      },
      "source": [
        "**Iterating Through a Dictionary**\n",
        "\n",
        "Using a **for** loop we can iterate though each key in a dictionary."
      ]
    },
    {
      "cell_type": "code",
      "metadata": {
        "id": "KujNOevr5Gqx",
        "colab_type": "code",
        "colab": {
          "base_uri": "https://localhost:8080/",
          "height": 105
        },
        "outputId": "6ee9466e-d309-4152-dd08-e13d937a6b9f"
      },
      "source": [
        "squares = {1: 1, 3: 9, 5: 25, 7: 49, 9: 81}\n",
        "for i in squares:\n",
        "    print(squares[i])"
      ],
      "execution_count": 20,
      "outputs": [
        {
          "output_type": "stream",
          "text": [
            "1\n",
            "9\n",
            "25\n",
            "49\n",
            "81\n"
          ],
          "name": "stdout"
        }
      ]
    },
    {
      "cell_type": "markdown",
      "metadata": {
        "id": "ncwR-yvG5aZJ",
        "colab_type": "text"
      },
      "source": [
        "**Built-in Functions with Dictionary**\n",
        "\n",
        "Built-in functions like **all(), any(), len(), cmp(), sorted()** etc. are commonly used with dictionary to perform different tasks.\n",
        "\n",
        "**Built-in Functions with Dictionary**\n",
        "\n",
        "![alt text](https://drive.google.com/uc?export=view&id=1xEX-2o3XdHCk5w2Jp24T_8EPIcBxblsT)"
      ]
    },
    {
      "cell_type": "code",
      "metadata": {
        "id": "o9qElXRt5X2g",
        "colab_type": "code",
        "colab": {
          "base_uri": "https://localhost:8080/",
          "height": 52
        },
        "outputId": "f7bc397d-099d-4733-a8d7-ae215687be8e"
      },
      "source": [
        "#Here are some examples that uses built-in functions to work with dictionary.\n",
        "\n",
        "squares = {1: 1, 3: 9, 5: 25, 7: 49, 9: 81}\n",
        "\n",
        "# Output: 5\n",
        "print(len(squares))\n",
        "\n",
        "# Output: [1, 3, 5, 7, 9]\n",
        "print(sorted(squares))"
      ],
      "execution_count": 21,
      "outputs": [
        {
          "output_type": "stream",
          "text": [
            "5\n",
            "[1, 3, 5, 7, 9]\n"
          ],
          "name": "stdout"
        }
      ]
    },
    {
      "cell_type": "code",
      "metadata": {
        "id": "z0vnVpGu56Dv",
        "colab_type": "code",
        "colab": {}
      },
      "source": [
        ""
      ],
      "execution_count": 0,
      "outputs": []
    }
  ]
}