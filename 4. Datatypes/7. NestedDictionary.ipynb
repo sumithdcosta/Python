{
  "nbformat": 4,
  "nbformat_minor": 0,
  "metadata": {
    "colab": {
      "name": "Untitled31.ipynb",
      "provenance": [],
      "include_colab_link": true
    },
    "kernelspec": {
      "name": "python3",
      "display_name": "Python 3"
    }
  },
  "cells": [
    {
      "cell_type": "markdown",
      "metadata": {
        "id": "view-in-github",
        "colab_type": "text"
      },
      "source": [
        "<a href=\"https://colab.research.google.com/github/sumithdcosta/Python/blob/master/4.%20Datatypes/7.%20NestedDictionary.ipynb\" target=\"_parent\"><img src=\"https://colab.research.google.com/assets/colab-badge.svg\" alt=\"Open In Colab\"/></a>"
      ]
    },
    {
      "cell_type": "markdown",
      "metadata": {
        "id": "tt219evp9eKy",
        "colab_type": "text"
      },
      "source": [
        "4. Datatypes/7. NestedDictionary.ipynb"
      ]
    },
    {
      "cell_type": "markdown",
      "metadata": {
        "id": "0PUNyalA9kzr",
        "colab_type": "text"
      },
      "source": [
        "**Nested Dicitionary**\n",
        "\n",
        "In Python, a dictionary is an unordered collection of items. For example:"
      ]
    },
    {
      "cell_type": "code",
      "metadata": {
        "id": "oTEsqky39dZv",
        "colab_type": "code",
        "colab": {}
      },
      "source": [
        "dictionary = {'key' : 'value',\n",
        "'key_2': 'value_2'}"
      ],
      "execution_count": 0,
      "outputs": []
    },
    {
      "cell_type": "markdown",
      "metadata": {
        "id": "OjCQOR5N9pqG",
        "colab_type": "text"
      },
      "source": [
        "Here, **dictionary** has a **key:value** pair enclosed within curly brackets {}."
      ]
    },
    {
      "cell_type": "code",
      "metadata": {
        "id": "iS1gcRoi9nO7",
        "colab_type": "code",
        "colab": {}
      },
      "source": [
        "nested_dict = { 'dictA': {'key_1': 'value_1'},\n",
        "                'dictB': {'key_2': 'value_2'}}"
      ],
      "execution_count": 0,
      "outputs": []
    },
    {
      "cell_type": "markdown",
      "metadata": {
        "id": "a1MxKfA89xF5",
        "colab_type": "text"
      },
      "source": [
        "Here, the **nested_dict** is a nested dictionary with the dictionary **dictA** and **dictB**. They are two dictionary each having own key and value."
      ]
    },
    {
      "cell_type": "markdown",
      "metadata": {
        "id": "E3Ms6OmZ-fAL",
        "colab_type": "text"
      },
      "source": [
        "**Create a Nested Dictionary**\n",
        "\n",
        "We're going to create dictionary of people within a dictionary.\n",
        "\n",
        "**Example 1: How to create a nested dictionary**"
      ]
    },
    {
      "cell_type": "code",
      "metadata": {
        "id": "UhRufdUs9t8y",
        "colab_type": "code",
        "colab": {
          "base_uri": "https://localhost:8080/",
          "height": 34
        },
        "outputId": "22ec8937-d03e-4d52-aa96-4c95d562c2d8"
      },
      "source": [
        "people = {1: {'name': 'John', 'age': '27', 'sex': 'Male'},\n",
        "          2: {'name': 'Marie', 'age': '22', 'sex': 'Female'}}\n",
        "print(people)"
      ],
      "execution_count": 5,
      "outputs": [
        {
          "output_type": "stream",
          "text": [
            "{1: {'name': 'John', 'age': '27', 'sex': 'Male'}, 2: {'name': 'Marie', 'age': '22', 'sex': 'Female'}}\n"
          ],
          "name": "stdout"
        }
      ]
    },
    {
      "cell_type": "markdown",
      "metadata": {
        "id": "rkTJlYL5-pf4",
        "colab_type": "text"
      },
      "source": [
        "In the above program, **people** is a nested dictionary. The internal dictionary **1** and **2** is assigned to people. Here, both the dictionary have key **name, age , sex** with different values. Now, we print the result of people.\n",
        "\n",
        "Access elements of a Nested Dictionary\n",
        "\n",
        "To access element of a nested dictionary, we use indexing [] syntax in Python.\n",
        "\n",
        "**Example 2: Access the elements using the [] syntax**"
      ]
    },
    {
      "cell_type": "code",
      "metadata": {
        "id": "1o1VVPaO-lQa",
        "colab_type": "code",
        "colab": {
          "base_uri": "https://localhost:8080/",
          "height": 70
        },
        "outputId": "4648d800-570b-4e2e-815e-1cc397aba7d3"
      },
      "source": [
        "people = {1: {'name': 'John', 'age': '27', 'sex': 'Male'},\n",
        "          2: {'name': 'Marie', 'age': '22', 'sex': 'Female'}}\n",
        "\n",
        "print(people[1]['name'])\n",
        "print(people[1]['age'])\n",
        "print(people[1]['sex'])"
      ],
      "execution_count": 6,
      "outputs": [
        {
          "output_type": "stream",
          "text": [
            "John\n",
            "27\n",
            "Male\n"
          ],
          "name": "stdout"
        }
      ]
    },
    {
      "cell_type": "markdown",
      "metadata": {
        "id": "ojo21Tzl-_T6",
        "colab_type": "text"
      },
      "source": [
        "In the above program, we print the value of key **name** using i.e. **people[1]['name']** from internal dictionary **1**. Similarly, we print the value of **age** and **sex** one by one."
      ]
    },
    {
      "cell_type": "markdown",
      "metadata": {
        "id": "KzYrwKEi_IJ7",
        "colab_type": "text"
      },
      "source": [
        "**Add element to a Nested Dictionary**\n",
        "\n",
        "**Example 3: How to change or add elements in a nested dictionary?**"
      ]
    },
    {
      "cell_type": "code",
      "metadata": {
        "id": "8Xz96QAU-3Sx",
        "colab_type": "code",
        "colab": {
          "base_uri": "https://localhost:8080/",
          "height": 34
        },
        "outputId": "1b00843d-cb6f-47b5-d9cd-72b81c4a0ada"
      },
      "source": [
        "people = {1: {'name': 'John', 'age': '27', 'sex': 'Male'},\n",
        "          2: {'name': 'Marie', 'age': '22', 'sex': 'Female'}}\n",
        "\n",
        "people[3] = {}\n",
        "\n",
        "people[3]['name'] = 'Luna'\n",
        "people[3]['age'] = '24'\n",
        "people[3]['sex'] = 'Female'\n",
        "people[3]['married'] = 'No'\n",
        "\n",
        "print(people[3])\n"
      ],
      "execution_count": 8,
      "outputs": [
        {
          "output_type": "stream",
          "text": [
            "{'name': 'Luna', 'age': '24', 'sex': 'Female', 'married': 'No'}\n"
          ],
          "name": "stdout"
        }
      ]
    },
    {
      "cell_type": "markdown",
      "metadata": {
        "id": "iFFlzMV7_T8Q",
        "colab_type": "text"
      },
      "source": [
        "In the above program, we create an empty dictionary 3 inside the dictionary **people**.\n",
        "\n",
        "Then, we add the key:value pair i.e people[3]['Name'] = 'Luna' inside the dictionary 3. Similarly, we do this for key age, sex and married one by one. When we print the people[3], we get key:value pairs of dictionary 3."
      ]
    },
    {
      "cell_type": "markdown",
      "metadata": {
        "id": "ULVeee0A_bJe",
        "colab_type": "text"
      },
      "source": [
        "**Example 4: Add another dictionary to the nested dictionary**"
      ]
    },
    {
      "cell_type": "code",
      "metadata": {
        "id": "P38ykg_h_Nuq",
        "colab_type": "code",
        "colab": {
          "base_uri": "https://localhost:8080/",
          "height": 34
        },
        "outputId": "5af2ea7f-037e-408a-cb8c-73d56d022cb8"
      },
      "source": [
        "people = {1: {'name': 'John', 'age': '27', 'sex': 'Male'},\n",
        "          2: {'name': 'Marie', 'age': '22', 'sex': 'Female'},\n",
        "          3: {'name': 'Luna', 'age': '24', 'sex': 'Female', 'married': 'No'}}\n",
        "\n",
        "people[4] = {'name': 'Peter', 'age': '29', 'sex': 'Male', 'married': 'Yes'}\n",
        "print(people[4])\n"
      ],
      "execution_count": 9,
      "outputs": [
        {
          "output_type": "stream",
          "text": [
            "{'name': 'Peter', 'age': '29', 'sex': 'Male', 'married': 'Yes'}\n"
          ],
          "name": "stdout"
        }
      ]
    },
    {
      "cell_type": "markdown",
      "metadata": {
        "id": "FrJi8Rwt_h0Y",
        "colab_type": "text"
      },
      "source": [
        "In the above program, we assign a dictionary literal to people[4]. The literal have keys name, age and sex with respective values. Then we print the people[4], to see that the dictionary 4 is added in nested dictionary people."
      ]
    },
    {
      "cell_type": "markdown",
      "metadata": {
        "id": "VzTWFow1_rBG",
        "colab_type": "text"
      },
      "source": [
        "**Delete elements from a Nested Dictionary**\n",
        "\n",
        "In Python, we use “ del “ statement to delete elements from nested dictionary.\n",
        "\n",
        "**Example 5: How to delete elements from a nested dictionary?**"
      ]
    },
    {
      "cell_type": "code",
      "metadata": {
        "id": "pd9ZwCOG_f1A",
        "colab_type": "code",
        "colab": {
          "base_uri": "https://localhost:8080/",
          "height": 52
        },
        "outputId": "1b05fd62-2775-4bf9-ad5a-2898afb445f5"
      },
      "source": [
        "people = {1: {'name': 'John', 'age': '27', 'sex': 'Male'},\n",
        "          2: {'name': 'Marie', 'age': '22', 'sex': 'Female'},\n",
        "          3: {'name': 'Luna', 'age': '24', 'sex': 'Female', 'married': 'No'},\n",
        "          4: {'name': 'Peter', 'age': '29', 'sex': 'Male', 'married': 'Yes'}}\n",
        "\n",
        "del people[3]['married']\n",
        "del people[4]['married']\n",
        "\n",
        "print(people[3])\n",
        "print(people[4])"
      ],
      "execution_count": 10,
      "outputs": [
        {
          "output_type": "stream",
          "text": [
            "{'name': 'Luna', 'age': '24', 'sex': 'Female'}\n",
            "{'name': 'Peter', 'age': '29', 'sex': 'Male'}\n"
          ],
          "name": "stdout"
        }
      ]
    },
    {
      "cell_type": "markdown",
      "metadata": {
        "id": "OTxIWdli_y6m",
        "colab_type": "text"
      },
      "source": [
        "\n",
        "In the above program, we delete the key:value pairs of married from internal dictionary 3 and 4. Then, we print the people[3] and people[4] to confirm changes."
      ]
    },
    {
      "cell_type": "markdown",
      "metadata": {
        "id": "yjxVP6w8_2Au",
        "colab_type": "text"
      },
      "source": [
        "**Example 6: How to delete dictionary from a nested dictionary?**"
      ]
    },
    {
      "cell_type": "code",
      "metadata": {
        "id": "e-GD90EB_uiP",
        "colab_type": "code",
        "colab": {
          "base_uri": "https://localhost:8080/",
          "height": 34
        },
        "outputId": "a615b7bb-f3c4-42db-d704-96bb56dd7347"
      },
      "source": [
        "people = {1: {'name': 'John', 'age': '27', 'sex': 'Male'},\n",
        "          2: {'name': 'Marie', 'age': '22', 'sex': 'Female'},\n",
        "          3: {'name': 'Luna', 'age': '24', 'sex': 'Female'},\n",
        "          4: {'name': 'Peter', 'age': '29', 'sex': 'Male'}}\n",
        "\n",
        "del people[3], people[4]\n",
        "print(people)"
      ],
      "execution_count": 11,
      "outputs": [
        {
          "output_type": "stream",
          "text": [
            "{1: {'name': 'John', 'age': '27', 'sex': 'Male'}, 2: {'name': 'Marie', 'age': '22', 'sex': 'Female'}}\n"
          ],
          "name": "stdout"
        }
      ]
    },
    {
      "cell_type": "markdown",
      "metadata": {
        "id": "8EhewXse_7TL",
        "colab_type": "text"
      },
      "source": [
        "In the above program, we delete both the internal dictionary 3 and 4 using del from the nested dictionary people. Then, we print the nested dictionary people to confirm changes."
      ]
    },
    {
      "cell_type": "markdown",
      "metadata": {
        "id": "M_ao-Y05__My",
        "colab_type": "text"
      },
      "source": [
        "**Iterating Through a Nested Dictionary**\n",
        "\n",
        "Using the for loops, we can iterate through each elements in a nested dictionary.\n",
        "\n",
        "**Example 7: How to iterate through a Nested dictionary?**"
      ]
    },
    {
      "cell_type": "code",
      "metadata": {
        "id": "J_OnR1IE_4EX",
        "colab_type": "code",
        "colab": {
          "base_uri": "https://localhost:8080/",
          "height": 194
        },
        "outputId": "d3c2da59-94b6-4cbb-f520-ef207ec147cc"
      },
      "source": [
        "people = {1: {'Name': 'John', 'Age': '27', 'Sex': 'Male'},\n",
        "          2: {'Name': 'Marie', 'Age': '22', 'Sex': 'Female'}}\n",
        "\n",
        "for p_id, p_info in people.items():\n",
        "    print(\"\\nPerson ID:\", p_id)\n",
        "\n",
        "    for key in p_info:\n",
        "        print(key + ':', p_info[key])"
      ],
      "execution_count": 12,
      "outputs": [
        {
          "output_type": "stream",
          "text": [
            "\n",
            "Person ID: 1\n",
            "Name: John\n",
            "Age: 27\n",
            "Sex: Male\n",
            "\n",
            "Person ID: 2\n",
            "Name: Marie\n",
            "Age: 22\n",
            "Sex: Female\n"
          ],
          "name": "stdout"
        }
      ]
    },
    {
      "cell_type": "markdown",
      "metadata": {
        "id": "HtLpIcD5ANP6",
        "colab_type": "text"
      },
      "source": [
        "\n",
        "In the above program, the first loop returns all the keys in the nested dictionary **people**. It consist of the IDs p_id of each person. We use these IDs to unpack the information p_info of each person.\n",
        "\n",
        "The second loop goes through the information of each person. Then, it returns all of the keys name, age, sex of each person's dictionary.\n",
        "\n",
        "Now, we print the key of the person’s information and the value for that key."
      ]
    },
    {
      "cell_type": "markdown",
      "metadata": {
        "id": "qP3RFeJAAaX7",
        "colab_type": "text"
      },
      "source": [
        "**Key Points to Remember:**\n",
        "\n",
        "* Nested dictionary is an unordered collection of dictionary\n",
        "Slicing Nested Dictionary is not possible.\n",
        "* We can shrink or grow nested dictionary as need.\n",
        "* Like Dictionary, it also has key and value.\n",
        "* Dictionary are accessed using key."
      ]
    },
    {
      "cell_type": "code",
      "metadata": {
        "id": "B2Q8GLd-AEdn",
        "colab_type": "code",
        "colab": {}
      },
      "source": [
        ""
      ],
      "execution_count": 0,
      "outputs": []
    }
  ]
}