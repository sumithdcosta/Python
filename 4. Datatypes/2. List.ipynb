{
  "nbformat": 4,
  "nbformat_minor": 0,
  "metadata": {
    "colab": {
      "name": "Untitled26.ipynb",
      "provenance": [],
      "include_colab_link": true
    },
    "kernelspec": {
      "name": "python3",
      "display_name": "Python 3"
    }
  },
  "cells": [
    {
      "cell_type": "markdown",
      "metadata": {
        "id": "view-in-github",
        "colab_type": "text"
      },
      "source": [
        "<a href=\"https://colab.research.google.com/github/sumithdcosta/Python/blob/master/4.%20Datatypes/2.%20List.ipynb\" target=\"_parent\"><img src=\"https://colab.research.google.com/assets/colab-badge.svg\" alt=\"Open In Colab\"/></a>"
      ]
    },
    {
      "cell_type": "markdown",
      "metadata": {
        "id": "wAeUHak4ZKVw",
        "colab_type": "text"
      },
      "source": [
        "4. Datatypes/2. List.ipynb"
      ]
    },
    {
      "cell_type": "markdown",
      "metadata": {
        "id": "nVpsm9wVZbvY",
        "colab_type": "text"
      },
      "source": [
        "**List**\n",
        "\n",
        "Python offers a range of compound datatypes often referred to as sequences. List is one of the most frequently used and very versatile datatype used in Python.\n",
        "\n",
        "**How to create a list?**\n",
        "\n",
        "In Python programming, a list is created by placing all the items (elements) inside a square bracket [ ], separated by commas.\n",
        "\n",
        "It can have any number of items and they may be of different types (integer, float, string etc.)."
      ]
    },
    {
      "cell_type": "code",
      "metadata": {
        "id": "24n3UDwYZl-r",
        "colab_type": "code",
        "colab": {}
      },
      "source": [
        "# empty list\n",
        "my_list = []\n",
        "\n",
        "# list of integers\n",
        "my_list = [1, 2, 3]\n",
        "\n",
        "# list with mixed datatypes\n",
        "my_list = [1, \"Hello\", 3.4]\n"
      ],
      "execution_count": 0,
      "outputs": []
    },
    {
      "cell_type": "markdown",
      "metadata": {
        "id": "MmPFm7NfZ9Xc",
        "colab_type": "text"
      },
      "source": [
        "Also, a list can even have another list as an item. This is called nested list."
      ]
    },
    {
      "cell_type": "code",
      "metadata": {
        "id": "KIwV27Z5ZmpE",
        "colab_type": "code",
        "colab": {}
      },
      "source": [
        "# nested list\n",
        "my_list = [\"mouse\", [8, 4, 6], ['a']]"
      ],
      "execution_count": 0,
      "outputs": []
    },
    {
      "cell_type": "markdown",
      "metadata": {
        "id": "k7J2kMeRaByt",
        "colab_type": "text"
      },
      "source": [
        "**How to access elements from a list?**\n",
        "\n",
        "There are various ways in which we can access the elements of a list.\n",
        "\n",
        "**List Index**\n",
        "\n",
        "We can use the index operator [] to access an item in a list. Index starts from 0. So, a list having 5 elements will have index from 0 to 4.\n",
        "\n",
        "Trying to access an element other that this will raise an **IndexError**. The index must be an integer. We can't use float or other types, this will result into **TypeError**.\n",
        "\n",
        "Nested list are accessed using nested indexing."
      ]
    },
    {
      "cell_type": "code",
      "metadata": {
        "id": "UaviTroEZ_3M",
        "colab_type": "code",
        "colab": {
          "base_uri": "https://localhost:8080/",
          "height": 105
        },
        "outputId": "2c419935-0ca1-441a-cfbd-dbe79c4362bd"
      },
      "source": [
        "my_list = ['p','r','o','b','e']\n",
        "# Output: p\n",
        "print(my_list[0])\n",
        "\n",
        "# Output: o\n",
        "print(my_list[2])\n",
        "\n",
        "# Output: e\n",
        "print(my_list[4])\n",
        "\n",
        "# Error! Only integer can be used for indexing\n",
        "# my_list[4.0]\n",
        "\n",
        "# Nested List\n",
        "n_list = [\"Happy\", [2,0,1,5]]\n",
        "\n",
        "# Nested indexing\n",
        "\n",
        "# Output: a\n",
        "print(n_list[0][1])    \n",
        "\n",
        "# Output: 5\n",
        "print(n_list[1][3])"
      ],
      "execution_count": 3,
      "outputs": [
        {
          "output_type": "stream",
          "text": [
            "p\n",
            "o\n",
            "e\n",
            "a\n",
            "5\n"
          ],
          "name": "stdout"
        }
      ]
    },
    {
      "cell_type": "markdown",
      "metadata": {
        "id": "QIuUntUjaZfs",
        "colab_type": "text"
      },
      "source": [
        "**Negative indexing**\n",
        "\n",
        "Python allows negative indexing for its sequences. The index of -1 refers to the last item, -2 to the second last item and so on."
      ]
    },
    {
      "cell_type": "code",
      "metadata": {
        "id": "4IPsTphPaWnM",
        "colab_type": "code",
        "colab": {
          "base_uri": "https://localhost:8080/",
          "height": 52
        },
        "outputId": "6f53271d-1422-4500-ea4d-5dacf3bd73b8"
      },
      "source": [
        "my_list = ['p','r','o','b','e']\n",
        "\n",
        "# Output: e\n",
        "print(my_list[-1])\n",
        "\n",
        "# Output: p\n",
        "print(my_list[-5])\n"
      ],
      "execution_count": 4,
      "outputs": [
        {
          "output_type": "stream",
          "text": [
            "e\n",
            "p\n"
          ],
          "name": "stdout"
        }
      ]
    },
    {
      "cell_type": "markdown",
      "metadata": {
        "id": "aWByiQ6-afQT",
        "colab_type": "text"
      },
      "source": [
        "**How to slice lists in Python?**\n",
        "\n",
        "We can access a range of items in a list by using the slicing operator (colon).\n"
      ]
    },
    {
      "cell_type": "code",
      "metadata": {
        "id": "WBKDNgGOadst",
        "colab_type": "code",
        "colab": {
          "base_uri": "https://localhost:8080/",
          "height": 87
        },
        "outputId": "898b9269-d6ed-43e8-a54e-6b316af28e98"
      },
      "source": [
        "my_list = ['p','r','o','g','r','a','m','i','z']\n",
        "# elements 3rd to 5th\n",
        "print(my_list[2:5])\n",
        "\n",
        "# elements beginning to 4th\n",
        "print(my_list[:-5])\n",
        "\n",
        "# elements 6th to end\n",
        "print(my_list[5:])\n",
        "\n",
        "# elements beginning to end\n",
        "print(my_list[:])"
      ],
      "execution_count": 5,
      "outputs": [
        {
          "output_type": "stream",
          "text": [
            "['o', 'g', 'r']\n",
            "['p', 'r', 'o', 'g']\n",
            "['a', 'm', 'i', 'z']\n",
            "['p', 'r', 'o', 'g', 'r', 'a', 'm', 'i', 'z']\n"
          ],
          "name": "stdout"
        }
      ]
    },
    {
      "cell_type": "markdown",
      "metadata": {
        "id": "ShnXP89MapBU",
        "colab_type": "text"
      },
      "source": [
        "Slicing can be best visualized by considering the index to be between the elements as shown below. So if we want to access a range, we need two index that will slice that portion from the list.\n",
        "\n",
        "![alt text](https://drive.google.com/uc?export=view&id=1Q35k2nEkHIXd_CunPooAnnggJBvsJF8e)\n",
        "\n",
        "\n",
        "**How to change or add elements to a list?**\n",
        "\n",
        "List are mutable, meaning, their elements can be changed unlike string or tuple.\n",
        "\n",
        "We can use assignment operator (=) to change an item or a range of items."
      ]
    },
    {
      "cell_type": "code",
      "metadata": {
        "id": "M8w6ZBUnakad",
        "colab_type": "code",
        "colab": {
          "base_uri": "https://localhost:8080/",
          "height": 52
        },
        "outputId": "98a641ee-2fd3-4cf6-f68b-d8ea164a75f3"
      },
      "source": [
        "# mistake values\n",
        "odd = [2, 4, 6, 8]\n",
        "\n",
        "# change the 1st item    \n",
        "odd[0] = 1            \n",
        "\n",
        "# Output: [1, 4, 6, 8]\n",
        "print(odd)\n",
        "\n",
        "# change 2nd to 4th items\n",
        "odd[1:4] = [3, 5, 7]  \n",
        "\n",
        "# Output: [1, 3, 5, 7]\n",
        "print(odd)  "
      ],
      "execution_count": 6,
      "outputs": [
        {
          "output_type": "stream",
          "text": [
            "[1, 4, 6, 8]\n",
            "[1, 3, 5, 7]\n"
          ],
          "name": "stdout"
        }
      ]
    },
    {
      "cell_type": "markdown",
      "metadata": {
        "id": "zo0sHywLbVyU",
        "colab_type": "text"
      },
      "source": [
        "We can add one item to a list using **append**() method or add several items using **extend**() method."
      ]
    },
    {
      "cell_type": "code",
      "metadata": {
        "id": "vFI1DTBTbQlm",
        "colab_type": "code",
        "colab": {
          "base_uri": "https://localhost:8080/",
          "height": 52
        },
        "outputId": "9dd24d13-f75a-4a7a-b1b0-3bb4f902cb13"
      },
      "source": [
        "odd = [1, 3, 5]\n",
        "\n",
        "odd.append(7)\n",
        "\n",
        "# Output: [1, 3, 5, 7]\n",
        "print(odd)\n",
        "\n",
        "odd.extend([9, 11, 13])\n",
        "\n",
        "# Output: [1, 3, 5, 7, 9, 11, 13]\n",
        "print(odd)\n"
      ],
      "execution_count": 7,
      "outputs": [
        {
          "output_type": "stream",
          "text": [
            "[1, 3, 5, 7]\n",
            "[1, 3, 5, 7, 9, 11, 13]\n"
          ],
          "name": "stdout"
        }
      ]
    },
    {
      "cell_type": "markdown",
      "metadata": {
        "id": "5yjn7v6Sbeop",
        "colab_type": "text"
      },
      "source": [
        "We can also use **+** operator to combine two lists. This is also called **concatenation**.\n",
        "\n",
        "The * operator repeats a list for the given number of times."
      ]
    },
    {
      "cell_type": "code",
      "metadata": {
        "id": "enWQq_FSbZlx",
        "colab_type": "code",
        "colab": {
          "base_uri": "https://localhost:8080/",
          "height": 52
        },
        "outputId": "c1bc3220-7690-417e-e451-c8ed48c4d929"
      },
      "source": [
        "odd = [1, 3, 5]\n",
        "\n",
        "# Output: [1, 3, 5, 9, 7, 5]\n",
        "print(odd + [9, 7, 5])\n",
        "\n",
        "#Output: [\"re\", \"re\", \"re\"]\n",
        "print([\"re\"] * 3)"
      ],
      "execution_count": 8,
      "outputs": [
        {
          "output_type": "stream",
          "text": [
            "[1, 3, 5, 9, 7, 5]\n",
            "['re', 're', 're']\n"
          ],
          "name": "stdout"
        }
      ]
    },
    {
      "cell_type": "markdown",
      "metadata": {
        "id": "VX1jjGhzbn0U",
        "colab_type": "text"
      },
      "source": [
        "Furthermore, we can insert one item at a desired location by using the method **insert**() or insert multiple items by squeezing it into an empty slice of a list."
      ]
    },
    {
      "cell_type": "code",
      "metadata": {
        "id": "l5hc2WXoblf3",
        "colab_type": "code",
        "colab": {
          "base_uri": "https://localhost:8080/",
          "height": 52
        },
        "outputId": "36e3766a-e33e-4ada-dc2d-f254fa846158"
      },
      "source": [
        "odd = [1, 9]\n",
        "odd.insert(1,3)\n",
        "\n",
        "# Output: [1, 3, 9] \n",
        "print(odd)\n",
        "\n",
        "odd[2:2] = [5, 7]\n",
        "\n",
        "# Output: [1, 3, 5, 7, 9]\n",
        "print(odd)"
      ],
      "execution_count": 9,
      "outputs": [
        {
          "output_type": "stream",
          "text": [
            "[1, 3, 9]\n",
            "[1, 3, 5, 7, 9]\n"
          ],
          "name": "stdout"
        }
      ]
    },
    {
      "cell_type": "markdown",
      "metadata": {
        "id": "jqJwwEyXb5oV",
        "colab_type": "text"
      },
      "source": [
        "**How to delete or remove elements from a list?**\n",
        "\n",
        "We can delete one or more items from a list using the keyword del. It can even delete the list entirely."
      ]
    },
    {
      "cell_type": "code",
      "metadata": {
        "id": "VygHQA1IbxPH",
        "colab_type": "code",
        "colab": {
          "base_uri": "https://localhost:8080/",
          "height": 52
        },
        "outputId": "0a36ad67-7f11-4022-d5f8-fabd0260c096"
      },
      "source": [
        "my_list = ['p','r','o','b','l','e','m']\n",
        "\n",
        "# delete one item\n",
        "del my_list[2]\n",
        "\n",
        "# Output: ['p', 'r', 'b', 'l', 'e', 'm']     \n",
        "print(my_list)\n",
        "\n",
        "# delete multiple items\n",
        "del my_list[1:5]  \n",
        "\n",
        "# Output: ['p', 'm']\n",
        "print(my_list)\n",
        "\n",
        "# delete entire list\n",
        "del my_list       "
      ],
      "execution_count": 11,
      "outputs": [
        {
          "output_type": "stream",
          "text": [
            "['p', 'r', 'b', 'l', 'e', 'm']\n",
            "['p', 'm']\n"
          ],
          "name": "stdout"
        }
      ]
    },
    {
      "cell_type": "code",
      "metadata": {
        "id": "xxoaUWi-b-WA",
        "colab_type": "code",
        "colab": {
          "base_uri": "https://localhost:8080/",
          "height": 167
        },
        "outputId": "4a021f09-9a9d-4c1f-c986-cdf4af13ba2e"
      },
      "source": [
        "# Error: List not defined\n",
        "print(my_list)"
      ],
      "execution_count": 12,
      "outputs": [
        {
          "output_type": "error",
          "ename": "NameError",
          "evalue": "ignored",
          "traceback": [
            "\u001b[0;31m---------------------------------------------------------------------------\u001b[0m",
            "\u001b[0;31mNameError\u001b[0m                                 Traceback (most recent call last)",
            "\u001b[0;32m<ipython-input-12-77fb34908292>\u001b[0m in \u001b[0;36m<module>\u001b[0;34m()\u001b[0m\n\u001b[0;32m----> 1\u001b[0;31m \u001b[0mprint\u001b[0m\u001b[0;34m(\u001b[0m\u001b[0mmy_list\u001b[0m\u001b[0;34m)\u001b[0m\u001b[0;34m\u001b[0m\u001b[0;34m\u001b[0m\u001b[0m\n\u001b[0m",
            "\u001b[0;31mNameError\u001b[0m: name 'my_list' is not defined"
          ]
        }
      ]
    },
    {
      "cell_type": "markdown",
      "metadata": {
        "id": "pdG8tDJkcF29",
        "colab_type": "text"
      },
      "source": [
        "We can use **remove**() method to remove the given item or **pop**() method to remove an item at the given index.\n",
        "\n",
        "The **pop**() method removes and returns the last item if index is not provided. This helps us implement lists as stacks (first in, last out data structure).\n",
        "\n",
        "We can also use the clear() method to empty a list."
      ]
    },
    {
      "cell_type": "code",
      "metadata": {
        "id": "kOHw6iMPcDrP",
        "colab_type": "code",
        "colab": {
          "base_uri": "https://localhost:8080/",
          "height": 123
        },
        "outputId": "ae6e4fc7-bd2a-44a7-a4bb-59819d7bc98b"
      },
      "source": [
        "my_list = ['p','r','o','b','l','e','m']\n",
        "my_list.remove('p')\n",
        "\n",
        "# Output: ['r', 'o', 'b', 'l', 'e', 'm']\n",
        "print(my_list)\n",
        "\n",
        "# Output: 'o'\n",
        "print(my_list.pop(1))\n",
        "\n",
        "# Output: ['r', 'b', 'l', 'e', 'm']\n",
        "print(my_list)\n",
        "\n",
        "# Output: 'm'\n",
        "print(my_list.pop())\n",
        "\n",
        "# Output: ['r', 'b', 'l', 'e']\n",
        "print(my_list)\n",
        "\n",
        "my_list.clear()\n",
        "\n",
        "# Output: []\n",
        "print(my_list)"
      ],
      "execution_count": 13,
      "outputs": [
        {
          "output_type": "stream",
          "text": [
            "['r', 'o', 'b', 'l', 'e', 'm']\n",
            "o\n",
            "['r', 'b', 'l', 'e', 'm']\n",
            "m\n",
            "['r', 'b', 'l', 'e']\n",
            "[]\n"
          ],
          "name": "stdout"
        }
      ]
    },
    {
      "cell_type": "markdown",
      "metadata": {
        "id": "ZbMOPqgTcXBa",
        "colab_type": "text"
      },
      "source": [
        "Finally, we can also delete items in a list by assigning an empty list to a slice of elements."
      ]
    },
    {
      "cell_type": "code",
      "metadata": {
        "id": "rJRfoEVkcPFp",
        "colab_type": "code",
        "colab": {
          "base_uri": "https://localhost:8080/",
          "height": 34
        },
        "outputId": "60ce181b-52a5-4986-daf2-bf6b9eeb8dcd"
      },
      "source": [
        "my_list = ['p','r','o','b','l','e','m']\n",
        "my_list[2:3] = []\n",
        "my_list"
      ],
      "execution_count": 14,
      "outputs": [
        {
          "output_type": "execute_result",
          "data": {
            "text/plain": [
              "['p', 'r', 'b', 'l', 'e', 'm']"
            ]
          },
          "metadata": {
            "tags": []
          },
          "execution_count": 14
        }
      ]
    },
    {
      "cell_type": "code",
      "metadata": {
        "id": "PyC7udNNccPx",
        "colab_type": "code",
        "colab": {
          "base_uri": "https://localhost:8080/",
          "height": 34
        },
        "outputId": "3901482f-0b37-4554-98ce-39e3c109d3a7"
      },
      "source": [
        "my_list[2:5] = []\n",
        "my_list"
      ],
      "execution_count": 15,
      "outputs": [
        {
          "output_type": "execute_result",
          "data": {
            "text/plain": [
              "['p', 'r', 'm']"
            ]
          },
          "metadata": {
            "tags": []
          },
          "execution_count": 15
        }
      ]
    },
    {
      "cell_type": "markdown",
      "metadata": {
        "id": "JU8HG66jciIa",
        "colab_type": "text"
      },
      "source": [
        "**Python List Methods**\n",
        "\n",
        "Methods that are available with list object in Python programming are tabulated below.\n",
        "\n",
        "They are accessed as list.method(). Some of the methods have already been used above.\n",
        "\n",
        "![alt text](https://drive.google.com/uc?export=view&id=1ZeYpLxSoTNyhOTIqAZ4ozGqZXKm8SYBx)\n",
        "\n",
        "Some examples of Python list methods:\n",
        "\n"
      ]
    },
    {
      "cell_type": "code",
      "metadata": {
        "id": "rK7cl8L7cfdh",
        "colab_type": "code",
        "colab": {
          "base_uri": "https://localhost:8080/",
          "height": 87
        },
        "outputId": "afee8f34-b628-451e-b61f-824e5fa0fb40"
      },
      "source": [
        "my_list = [3, 8, 1, 6, 0, 8, 4]\n",
        "\n",
        "# Output: 1\n",
        "print(my_list.index(8))\n",
        "\n",
        "# Output: 2\n",
        "print(my_list.count(8))\n",
        "\n",
        "my_list.sort()\n",
        "\n",
        "# Output: [0, 1, 3, 4, 6, 8, 8]\n",
        "print(my_list)\n",
        "\n",
        "my_list.reverse()\n",
        "\n",
        "# Output: [8, 8, 6, 4, 3, 1, 0]\n",
        "print(my_list)"
      ],
      "execution_count": 16,
      "outputs": [
        {
          "output_type": "stream",
          "text": [
            "1\n",
            "2\n",
            "[0, 1, 3, 4, 6, 8, 8]\n",
            "[8, 8, 6, 4, 3, 1, 0]\n"
          ],
          "name": "stdout"
        }
      ]
    },
    {
      "cell_type": "markdown",
      "metadata": {
        "id": "MdYt7_7wdOsY",
        "colab_type": "text"
      },
      "source": [
        "**List Comprehension: Elegant way to create new List**\n",
        "\n",
        "List comprehension is an elegant and concise way to create new list from an existing list in Python.\n",
        "\n",
        "List comprehension consists of an expression followed by for statement inside square brackets.\n",
        "\n",
        "Here is an example to make a list with each item being increasing power of 2.\n"
      ]
    },
    {
      "cell_type": "code",
      "metadata": {
        "id": "2FXRH-NrdBw8",
        "colab_type": "code",
        "colab": {
          "base_uri": "https://localhost:8080/",
          "height": 34
        },
        "outputId": "93ceee05-891e-40ff-f4b8-c30e844b4795"
      },
      "source": [
        "pow2 = [2 ** x for x in range(10)]\n",
        "\n",
        "# Output: [1, 2, 4, 8, 16, 32, 64, 128, 256, 512]\n",
        "print(pow2)"
      ],
      "execution_count": 17,
      "outputs": [
        {
          "output_type": "stream",
          "text": [
            "[1, 2, 4, 8, 16, 32, 64, 128, 256, 512]\n"
          ],
          "name": "stdout"
        }
      ]
    },
    {
      "cell_type": "markdown",
      "metadata": {
        "id": "zDKOgEDEdZxt",
        "colab_type": "text"
      },
      "source": [
        "This code is equivalent to\n"
      ]
    },
    {
      "cell_type": "code",
      "metadata": {
        "id": "rzBg-F2RdXlL",
        "colab_type": "code",
        "colab": {
          "base_uri": "https://localhost:8080/",
          "height": 34
        },
        "outputId": "c5ae9755-3438-408a-a6b6-d568b14b9037"
      },
      "source": [
        "pow2 = []\n",
        "for x in range(10):\n",
        "   pow2.append(2 ** x)\n",
        "print(pow2)"
      ],
      "execution_count": 19,
      "outputs": [
        {
          "output_type": "stream",
          "text": [
            "[1, 2, 4, 8, 16, 32, 64, 128, 256, 512]\n"
          ],
          "name": "stdout"
        }
      ]
    },
    {
      "cell_type": "markdown",
      "metadata": {
        "id": "pLRaR-AydlHY",
        "colab_type": "text"
      },
      "source": [
        "A list comprehension can optionally contain more for or if statements. An optional if statement can filter out items for the new list. Here are some examples.\n"
      ]
    },
    {
      "cell_type": "code",
      "metadata": {
        "id": "6sdd-HJkddfT",
        "colab_type": "code",
        "colab": {
          "base_uri": "https://localhost:8080/",
          "height": 34
        },
        "outputId": "f0442d75-a1ee-4bce-90bd-3090aedaeafa"
      },
      "source": [
        "pow2 = [2 ** x for x in range(10) if x > 5]\n",
        "pow2"
      ],
      "execution_count": 20,
      "outputs": [
        {
          "output_type": "execute_result",
          "data": {
            "text/plain": [
              "[64, 128, 256, 512]"
            ]
          },
          "metadata": {
            "tags": []
          },
          "execution_count": 20
        }
      ]
    },
    {
      "cell_type": "code",
      "metadata": {
        "id": "ll24LjXjdpM0",
        "colab_type": "code",
        "colab": {
          "base_uri": "https://localhost:8080/",
          "height": 34
        },
        "outputId": "312c62e4-8cdd-4d4c-8c7d-751cf9d34f1c"
      },
      "source": [
        "odd = [x for x in range(20) if x % 2 == 1]\n",
        "odd"
      ],
      "execution_count": 21,
      "outputs": [
        {
          "output_type": "execute_result",
          "data": {
            "text/plain": [
              "[1, 3, 5, 7, 9, 11, 13, 15, 17, 19]"
            ]
          },
          "metadata": {
            "tags": []
          },
          "execution_count": 21
        }
      ]
    },
    {
      "cell_type": "code",
      "metadata": {
        "id": "mukVMxdZduDE",
        "colab_type": "code",
        "colab": {
          "base_uri": "https://localhost:8080/",
          "height": 34
        },
        "outputId": "cc3c5e56-b4fb-49de-a121-8dd32960efcc"
      },
      "source": [
        "[x+y for x in ['Python ','C '] for y in ['Language','Programming']]"
      ],
      "execution_count": 22,
      "outputs": [
        {
          "output_type": "execute_result",
          "data": {
            "text/plain": [
              "['Python Language', 'Python Programming', 'C Language', 'C Programming']"
            ]
          },
          "metadata": {
            "tags": []
          },
          "execution_count": 22
        }
      ]
    },
    {
      "cell_type": "markdown",
      "metadata": {
        "id": "hBJJQDQqd1cW",
        "colab_type": "text"
      },
      "source": [
        "**Other List Operations in Python**\n",
        "\n",
        "**List Membership Test**\n",
        "\n",
        "We can test if an item exists in a list or not, using the keyword in."
      ]
    },
    {
      "cell_type": "code",
      "metadata": {
        "id": "O4W0Z94zdwbD",
        "colab_type": "code",
        "colab": {
          "base_uri": "https://localhost:8080/",
          "height": 70
        },
        "outputId": "a7e534d7-25a0-4c39-d068-395f1d526465"
      },
      "source": [
        "my_list = ['p','r','o','b','l','e','m']\n",
        "\n",
        "# Output: True\n",
        "print('p' in my_list)\n",
        "\n",
        "# Output: False\n",
        "print('a' in my_list)\n",
        "\n",
        "# Output: True\n",
        "print('c' not in my_list)"
      ],
      "execution_count": 23,
      "outputs": [
        {
          "output_type": "stream",
          "text": [
            "True\n",
            "False\n",
            "True\n"
          ],
          "name": "stdout"
        }
      ]
    },
    {
      "cell_type": "markdown",
      "metadata": {
        "id": "cMNUfZ2-d-KX",
        "colab_type": "text"
      },
      "source": [
        "**Iterating Through a List**\n",
        "\n",
        "Using a for loop we can iterate though each item in a list."
      ]
    },
    {
      "cell_type": "code",
      "metadata": {
        "id": "a26tmpGQd8Cc",
        "colab_type": "code",
        "colab": {
          "base_uri": "https://localhost:8080/",
          "height": 70
        },
        "outputId": "c0645045-05e4-4818-98b2-0ac895052bee"
      },
      "source": [
        "for fruit in ['apple','banana','mango']:\n",
        "    print(\"I like\",fruit)"
      ],
      "execution_count": 24,
      "outputs": [
        {
          "output_type": "stream",
          "text": [
            "I like apple\n",
            "I like banana\n",
            "I like mango\n"
          ],
          "name": "stdout"
        }
      ]
    },
    {
      "cell_type": "code",
      "metadata": {
        "id": "EA10thFGeA4X",
        "colab_type": "code",
        "colab": {}
      },
      "source": [
        ""
      ],
      "execution_count": 0,
      "outputs": []
    },
    {
      "cell_type": "markdown",
      "metadata": {
        "id": "LwfcfybxeCh_",
        "colab_type": "text"
      },
      "source": [
        "**Built-in Functions with List**\n",
        "\n",
        "Built-in functions like all(), any(), enumerate(), len(), max(), min(), list(), sorted() etc. are commonly used with list to perform different tasks.\n",
        "\n",
        "![alt text](https://drive.google.com/uc?export=view&id=1uJJAaSD9N3-fXfwuuAFiPOox379VTKK_)\n",
        "\n"
      ]
    }
  ]
}