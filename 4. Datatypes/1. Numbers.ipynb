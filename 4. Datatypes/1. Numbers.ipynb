{
  "nbformat": 4,
  "nbformat_minor": 0,
  "metadata": {
    "colab": {
      "name": "Untitled25.ipynb",
      "provenance": [],
      "include_colab_link": true
    },
    "kernelspec": {
      "name": "python3",
      "display_name": "Python 3"
    }
  },
  "cells": [
    {
      "cell_type": "markdown",
      "metadata": {
        "id": "view-in-github",
        "colab_type": "text"
      },
      "source": [
        "<a href=\"https://colab.research.google.com/github/sumithdcosta/Python/blob/master/4.%20Datatypes/1.%20Numbers.ipynb\" target=\"_parent\"><img src=\"https://colab.research.google.com/assets/colab-badge.svg\" alt=\"Open In Colab\"/></a>"
      ]
    },
    {
      "cell_type": "markdown",
      "metadata": {
        "id": "CES2AHJMKM1k",
        "colab_type": "text"
      },
      "source": [
        "4. Datatypes/1. Numbers.ipynb"
      ]
    },
    {
      "cell_type": "markdown",
      "metadata": {
        "id": "4aRCNK-mKR2c",
        "colab_type": "text"
      },
      "source": [
        "**Python Numbers, Type Conversion and Mathematics**\n",
        "\n",
        "Python supports integers, floating point numbers and complex numbers. They are defined as int, float and complex class in Python.\n",
        "\n",
        "Integers and floating points are separated by the presence or absence of a decimal point. 5 is integer whereas 5.0 is a floating point number.\n",
        "\n",
        "Complex numbers are written in the form, x + yj, where x is the real part and y is the imaginary part.\n",
        "\n",
        "We can use the **type**() function to know which class a variable or a value belongs to and **isinstance**() function to check if it belongs to a particular class."
      ]
    },
    {
      "cell_type": "code",
      "metadata": {
        "id": "4PUNc7EeKMEm",
        "colab_type": "code",
        "colab": {
          "base_uri": "https://localhost:8080/",
          "height": 105
        },
        "outputId": "3e53ea51-535d-4e79-cf6d-5a00d38f52d8"
      },
      "source": [
        "a = 5\n",
        "\n",
        "# Output: <class 'int'>\n",
        "print(type(a))\n",
        "\n",
        "# Output: <class 'float'>\n",
        "print(type(5.0))\n",
        "\n",
        "# Output: (8+3j)\n",
        "c = 5 + 3j\n",
        "print(c + 3)\n",
        "print(type(c))\n",
        "\n",
        "# Output: True\n",
        "print(isinstance(c, complex))"
      ],
      "execution_count": 3,
      "outputs": [
        {
          "output_type": "stream",
          "text": [
            "<class 'int'>\n",
            "<class 'float'>\n",
            "(8+3j)\n",
            "<class 'complex'>\n",
            "True\n"
          ],
          "name": "stdout"
        }
      ]
    },
    {
      "cell_type": "markdown",
      "metadata": {
        "id": "PsTYes--Kven",
        "colab_type": "text"
      },
      "source": [
        "While integers can be of any length, a floating point number is accurate only up to 15 decimal places (the 16th place is inaccurate).\n",
        "\n",
        "Numbers we deal with everyday are decimal (base 10) number system. But computer programmers (generally embedded programmer) need to work with binary (base 2), hexadecimal (base 16) and octal (base 8) number systems.\n",
        "\n",
        "In Python, we can represent these numbers by appropriately placing a prefix before that number. Following table lists these prefix.\n",
        "\n",
        "Number system prefix for Python numbers\n",
        "\n",
        "![alt text](https://drive.google.com/uc?export=view&id=1Svd7x-owQvTTajow6vEXejt9vZkd7TFw)\n",
        "\n",
        "Here are some examples\n"
      ]
    },
    {
      "cell_type": "code",
      "metadata": {
        "id": "fnDrGO7rKhnr",
        "colab_type": "code",
        "colab": {
          "base_uri": "https://localhost:8080/",
          "height": 70
        },
        "outputId": "f2aad75a-b793-4f47-d9d5-d1572352185b"
      },
      "source": [
        "# Output: 107\n",
        "print(0b1101011)\n",
        "\n",
        "# Output: 253 (251 + 2)\n",
        "print(0xFB + 0b10)\n",
        "\n",
        "# Output: 13\n",
        "print(0o15)\n",
        "\n",
        "#When you run the program, the output will be:"
      ],
      "execution_count": 4,
      "outputs": [
        {
          "output_type": "stream",
          "text": [
            "107\n",
            "253\n",
            "13\n"
          ],
          "name": "stdout"
        }
      ]
    },
    {
      "cell_type": "markdown",
      "metadata": {
        "id": "ySeIaDyWLUxK",
        "colab_type": "text"
      },
      "source": [
        "**Type Conversion**\n",
        "\n",
        "We can convert one type of number into another. This is also known as coercion.\n",
        "\n",
        "Operations like addition, subtraction coerce integer to float implicitly (automatically), if one of the operand is float.\n"
      ]
    },
    {
      "cell_type": "code",
      "metadata": {
        "id": "1zr13hdULQGm",
        "colab_type": "code",
        "colab": {
          "base_uri": "https://localhost:8080/",
          "height": 34
        },
        "outputId": "b45004ff-a138-4b62-9900-4c09560696f5"
      },
      "source": [
        "1 + 2.0"
      ],
      "execution_count": 5,
      "outputs": [
        {
          "output_type": "execute_result",
          "data": {
            "text/plain": [
              "3.0"
            ]
          },
          "metadata": {
            "tags": []
          },
          "execution_count": 5
        }
      ]
    },
    {
      "cell_type": "markdown",
      "metadata": {
        "id": "FIbYe8SJLeOK",
        "colab_type": "text"
      },
      "source": [
        "We can see above that 1 (integer) is coerced into 1.0 (float) for addition and the result is also a floating point number.\n",
        "\n",
        "We can also use built-in functions like int(), float() and complex() to convert between types explicitly. These function can even convert from strings."
      ]
    },
    {
      "cell_type": "code",
      "metadata": {
        "id": "n2nBmZqCLcg1",
        "colab_type": "code",
        "colab": {
          "base_uri": "https://localhost:8080/",
          "height": 34
        },
        "outputId": "d8ed8206-d506-4bbb-e866-615f17d2127b"
      },
      "source": [
        "int(2.3)"
      ],
      "execution_count": 6,
      "outputs": [
        {
          "output_type": "execute_result",
          "data": {
            "text/plain": [
              "2"
            ]
          },
          "metadata": {
            "tags": []
          },
          "execution_count": 6
        }
      ]
    },
    {
      "cell_type": "code",
      "metadata": {
        "id": "ZNJtHySILlRM",
        "colab_type": "code",
        "colab": {
          "base_uri": "https://localhost:8080/",
          "height": 34
        },
        "outputId": "719fea0f-8ec0-4cc9-a5d1-14b2ced22960"
      },
      "source": [
        "int(-2.8)"
      ],
      "execution_count": 7,
      "outputs": [
        {
          "output_type": "execute_result",
          "data": {
            "text/plain": [
              "-2"
            ]
          },
          "metadata": {
            "tags": []
          },
          "execution_count": 7
        }
      ]
    },
    {
      "cell_type": "code",
      "metadata": {
        "id": "yykcDZJdLmQM",
        "colab_type": "code",
        "colab": {
          "base_uri": "https://localhost:8080/",
          "height": 34
        },
        "outputId": "b841b89f-14eb-4aec-b7ac-c24b7e1e29cc"
      },
      "source": [
        "float(5)"
      ],
      "execution_count": 8,
      "outputs": [
        {
          "output_type": "execute_result",
          "data": {
            "text/plain": [
              "5.0"
            ]
          },
          "metadata": {
            "tags": []
          },
          "execution_count": 8
        }
      ]
    },
    {
      "cell_type": "code",
      "metadata": {
        "id": "vWUvGQjRLnz8",
        "colab_type": "code",
        "colab": {
          "base_uri": "https://localhost:8080/",
          "height": 34
        },
        "outputId": "87b9d4f1-7f4b-45ab-b096-2746b55040ec"
      },
      "source": [
        "complex('3+5j')"
      ],
      "execution_count": 9,
      "outputs": [
        {
          "output_type": "execute_result",
          "data": {
            "text/plain": [
              "(3+5j)"
            ]
          },
          "metadata": {
            "tags": []
          },
          "execution_count": 9
        }
      ]
    },
    {
      "cell_type": "markdown",
      "metadata": {
        "id": "oGgqcH8eLw8d",
        "colab_type": "text"
      },
      "source": [
        "**Python Decimal**\n",
        "\n",
        "Python built-in class float performs some calculations that might amaze us. We all know that the sum of 1.1 and 2.2 is 3.3, but Python seems to disagree.\n"
      ]
    },
    {
      "cell_type": "code",
      "metadata": {
        "id": "CXKk3pwbLo1V",
        "colab_type": "code",
        "colab": {
          "base_uri": "https://localhost:8080/",
          "height": 34
        },
        "outputId": "c557dfe5-5672-4048-88f8-fdf555441133"
      },
      "source": [
        "(1.1 + 2.2) == 3.3"
      ],
      "execution_count": 10,
      "outputs": [
        {
          "output_type": "execute_result",
          "data": {
            "text/plain": [
              "False"
            ]
          },
          "metadata": {
            "tags": []
          },
          "execution_count": 10
        }
      ]
    },
    {
      "cell_type": "markdown",
      "metadata": {
        "id": "ESZc5AeKL55e",
        "colab_type": "text"
      },
      "source": [
        "What is going on?\n",
        "\n",
        "It turns out that floating-point numbers are implemented in computer hardware as binary fractions, as computer only understands binary (0 and 1). Due to this reason, most of the decimal fractions we know, cannot be accurately stored in our computer.\n",
        "\n",
        "Let's take an example. We cannot represent the fraction 1/3 as a decimal number. This will give 0.33333333... which is infinitely long, and we can only approximate it.\n",
        "\n",
        "Turns out decimal fraction 0.1 will result into an infinitely long binary fraction of 0.000110011001100110011... and our computer only stores a finite number of it.\n",
        "\n",
        "This will only approximate 0.1 but never be equal. Hence, it is the limitation of our computer hardware and not an error in Python"
      ]
    },
    {
      "cell_type": "code",
      "metadata": {
        "id": "ULAbL2j8L3iG",
        "colab_type": "code",
        "colab": {
          "base_uri": "https://localhost:8080/",
          "height": 34
        },
        "outputId": "e007318a-cfbd-49c6-a59b-3dee613d8cb0"
      },
      "source": [
        "1.1 + 2.2"
      ],
      "execution_count": 11,
      "outputs": [
        {
          "output_type": "execute_result",
          "data": {
            "text/plain": [
              "3.3000000000000003"
            ]
          },
          "metadata": {
            "tags": []
          },
          "execution_count": 11
        }
      ]
    },
    {
      "cell_type": "markdown",
      "metadata": {
        "id": "s42CK1qYM49X",
        "colab_type": "text"
      },
      "source": [
        "To overcome this issue, we can use decimal module that comes with Python. While floating point numbers have precision up to 15 decimal places, the decimal module has user settable precision."
      ]
    },
    {
      "cell_type": "code",
      "metadata": {
        "id": "glsbAjwCMKPm",
        "colab_type": "code",
        "colab": {
          "base_uri": "https://localhost:8080/",
          "height": 34
        },
        "outputId": "c3e470f2-7991-4be6-ee1f-16e5b63bd562"
      },
      "source": [
        "import decimal\n",
        "# Output: 0.1\n",
        "print(0.1)"
      ],
      "execution_count": 12,
      "outputs": [
        {
          "output_type": "stream",
          "text": [
            "0.1\n"
          ],
          "name": "stdout"
        }
      ]
    },
    {
      "cell_type": "code",
      "metadata": {
        "id": "Nwudg8NdNAvh",
        "colab_type": "code",
        "colab": {
          "base_uri": "https://localhost:8080/",
          "height": 34
        },
        "outputId": "287c4252-2dd5-42b0-d476-84ca012f6181"
      },
      "source": [
        "print(decimal.Decimal(0.1))"
      ],
      "execution_count": 13,
      "outputs": [
        {
          "output_type": "stream",
          "text": [
            "0.1000000000000000055511151231257827021181583404541015625\n"
          ],
          "name": "stdout"
        }
      ]
    },
    {
      "cell_type": "markdown",
      "metadata": {
        "id": "fkSejlc3NFMb",
        "colab_type": "text"
      },
      "source": [
        "This module is used when we want to carry out decimal calculations like we learned in school.\n",
        "\n",
        "It also preserves significance. We know 25.50 kg is more accurate than 25.5 kg as it has two significant decimal places compared to one."
      ]
    },
    {
      "cell_type": "code",
      "metadata": {
        "id": "dtizZaFGNC6Y",
        "colab_type": "code",
        "colab": {
          "base_uri": "https://localhost:8080/",
          "height": 52
        },
        "outputId": "598fb55c-f26b-465d-dfbd-4c30307a167c"
      },
      "source": [
        "from decimal import Decimal as D\n",
        "# Output: Decimal('3.3')\n",
        "print(D('1.1') + D('2.2'))\n",
        "\n",
        "# Output: Decimal('3.000')\n",
        "print(D('1.2') * D('2.50'))"
      ],
      "execution_count": 14,
      "outputs": [
        {
          "output_type": "stream",
          "text": [
            "3.3\n",
            "3.000\n"
          ],
          "name": "stdout"
        }
      ]
    },
    {
      "cell_type": "markdown",
      "metadata": {
        "id": "WH5hRUx4NdOK",
        "colab_type": "text"
      },
      "source": [
        "Notice the trailing zeroes in the above example.\n",
        "\n",
        "We might ask, why not implement Decimal every time, instead of float? The main reason is efficiency. Floating point operations are carried out must faster than Decimal operations.\n"
      ]
    },
    {
      "cell_type": "markdown",
      "metadata": {
        "id": "T2UDNWBDNr5I",
        "colab_type": "text"
      },
      "source": [
        "**When to use Decimal instead of float?**\n",
        "\n",
        "We generally use Decimal in the following cases.\n",
        "\n",
        "* When we are making financial applications that need exact decimal representation.\n",
        "* When we want to control the level of precision required.\n",
        "* When we want to implement the notion of significant decimal places.\n",
        "* When we want the operations\n"
      ]
    },
    {
      "cell_type": "markdown",
      "metadata": {
        "id": "YluaHXTAN1WB",
        "colab_type": "text"
      },
      "source": [
        "**Python Fractions**\n",
        "\n",
        "Python provides operations involving fractional numbers through its fractions module.\n",
        "\n",
        "A fraction has a numerator and a denominator, both of which are integers. This module has support for rational number arithmetic.\n",
        "\n",
        "We can create Fraction objects in various ways.\n"
      ]
    },
    {
      "cell_type": "code",
      "metadata": {
        "id": "BQSJKnmdNQ_4",
        "colab_type": "code",
        "colab": {
          "base_uri": "https://localhost:8080/",
          "height": 70
        },
        "outputId": "bb5c5cdd-5700-4cd0-9246-2abea592f0bd"
      },
      "source": [
        "import fractions\n",
        "\n",
        "# Output: 3/2\n",
        "print(fractions.Fraction(1.5))\n",
        "\n",
        "# Output: 5\n",
        "print(fractions.Fraction(5))\n",
        "\n",
        "# Output: 1/3\n",
        "print(fractions.Fraction(1,3))\n"
      ],
      "execution_count": 19,
      "outputs": [
        {
          "output_type": "stream",
          "text": [
            "3/2\n",
            "5\n",
            "1/3\n"
          ],
          "name": "stdout"
        }
      ]
    },
    {
      "cell_type": "markdown",
      "metadata": {
        "id": "WubzM9xQOBRX",
        "colab_type": "text"
      },
      "source": [
        "While creating Fraction from float, we might get some unusual results. This is due to the imperfect binary floating point number representation as discussed in the previous section.\n",
        "\n",
        "Fortunately, Fraction allows us to instantiate with string as well. This is the preferred options when using decimal numbers."
      ]
    },
    {
      "cell_type": "code",
      "metadata": {
        "id": "L346B_dON7_k",
        "colab_type": "code",
        "colab": {
          "base_uri": "https://localhost:8080/",
          "height": 52
        },
        "outputId": "f4611ecd-213a-43a3-bcde-b0c6fdfb28d8"
      },
      "source": [
        "import fractions\n",
        "\n",
        "# As float\n",
        "# Output: 2476979795053773/2251799813685248\n",
        "print(fractions.Fraction(1.1))\n",
        "\n",
        "# As string\n",
        "# Output: 11/10\n",
        "print(fractions.Fraction('1.1'))"
      ],
      "execution_count": 16,
      "outputs": [
        {
          "output_type": "stream",
          "text": [
            "2476979795053773/2251799813685248\n",
            "11/10\n"
          ],
          "name": "stdout"
        }
      ]
    },
    {
      "cell_type": "markdown",
      "metadata": {
        "id": "cizQpA0bOX0C",
        "colab_type": "text"
      },
      "source": [
        "This datatype supports all basic operations. Here are few examples."
      ]
    },
    {
      "cell_type": "code",
      "metadata": {
        "id": "zJetsppbOHip",
        "colab_type": "code",
        "colab": {
          "base_uri": "https://localhost:8080/",
          "height": 87
        },
        "outputId": "5210dbf1-1c30-47b0-cf61-0197207a3b01"
      },
      "source": [
        "from fractions import Fraction as F\n",
        "\n",
        "# Output: 2/3\n",
        "print(F(1,3) + F(1,3))\n",
        "\n",
        "# Output: 6/5\n",
        "print(1 / F(5,6))\n",
        "\n",
        "# Output: False\n",
        "print(F(-3,10) > 0)\n",
        "\n",
        "# Output: True\n",
        "print(F(-3,10) < 0)"
      ],
      "execution_count": 20,
      "outputs": [
        {
          "output_type": "stream",
          "text": [
            "2/3\n",
            "6/5\n",
            "False\n",
            "True\n"
          ],
          "name": "stdout"
        }
      ]
    },
    {
      "cell_type": "markdown",
      "metadata": {
        "id": "QUnZtKG7Og9T",
        "colab_type": "text"
      },
      "source": [
        "**Python Mathematics**\n",
        "\n",
        "Python offers modules like math and random to carry out different mathematics like trigonometry, logarithms, probability and statistics, etc."
      ]
    },
    {
      "cell_type": "code",
      "metadata": {
        "id": "ZFyUcvd8Odza",
        "colab_type": "code",
        "colab": {
          "base_uri": "https://localhost:8080/",
          "height": 123
        },
        "outputId": "ae66b9b1-020b-4f0c-909d-0b401cf8a453"
      },
      "source": [
        "import math\n",
        "\n",
        "# Output: 3.141592653589793\n",
        "print(math.pi)\n",
        "\n",
        "# Output: -1.0\n",
        "print(math.cos(math.pi))\n",
        "\n",
        "# Output: 22026.465794806718\n",
        "print(math.exp(10))\n",
        "\n",
        "# Output: 3.0\n",
        "print(math.log10(1000))\n",
        "\n",
        "# Output: 1.1752011936438014\n",
        "print(math.sinh(1))\n",
        "\n",
        "# Output: 720\n",
        "print(math.factorial(6))"
      ],
      "execution_count": 21,
      "outputs": [
        {
          "output_type": "stream",
          "text": [
            "3.141592653589793\n",
            "-1.0\n",
            "22026.465794806718\n",
            "3.0\n",
            "1.1752011936438014\n",
            "720\n"
          ],
          "name": "stdout"
        }
      ]
    },
    {
      "cell_type": "code",
      "metadata": {
        "id": "5u5BATiKOmlj",
        "colab_type": "code",
        "colab": {
          "base_uri": "https://localhost:8080/",
          "height": 87
        },
        "outputId": "f4322c70-d98f-4587-c838-0e58df83f73e"
      },
      "source": [
        "import random\n",
        "\n",
        "# Output: 16\n",
        "print(random.randrange(10,20))\n",
        "\n",
        "x = ['a', 'b', 'c', 'd', 'e']\n",
        "\n",
        "# Get random choice\n",
        "print(random.choice(x))\n",
        "\n",
        "# Shuffle x\n",
        "random.shuffle(x)\n",
        "\n",
        "# Print the shuffled x\n",
        "print(x)\n",
        "\n",
        "# Print random element\n",
        "print(random.random())"
      ],
      "execution_count": 22,
      "outputs": [
        {
          "output_type": "stream",
          "text": [
            "10\n",
            "e\n",
            "['b', 'e', 'c', 'd', 'a']\n",
            "0.1039234826159785\n"
          ],
          "name": "stdout"
        }
      ]
    },
    {
      "cell_type": "code",
      "metadata": {
        "id": "Iz362_QbOwQi",
        "colab_type": "code",
        "colab": {}
      },
      "source": [
        ""
      ],
      "execution_count": 0,
      "outputs": []
    }
  ]
}