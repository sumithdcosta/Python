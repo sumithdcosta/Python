{
  "nbformat": 4,
  "nbformat_minor": 0,
  "metadata": {
    "colab": {
      "name": "Untitled29.ipynb",
      "provenance": [],
      "include_colab_link": true
    },
    "kernelspec": {
      "name": "python3",
      "display_name": "Python 3"
    }
  },
  "cells": [
    {
      "cell_type": "markdown",
      "metadata": {
        "id": "view-in-github",
        "colab_type": "text"
      },
      "source": [
        "<a href=\"https://colab.research.google.com/github/sumithdcosta/Python/blob/master/4.%20Datatypes/5.%20Set.ipynb\" target=\"_parent\"><img src=\"https://colab.research.google.com/assets/colab-badge.svg\" alt=\"Open In Colab\"/></a>"
      ]
    },
    {
      "cell_type": "markdown",
      "metadata": {
        "id": "zpS0M_kwi27b",
        "colab_type": "text"
      },
      "source": [
        "4. Datatypes/5. Set.ipynb"
      ]
    },
    {
      "cell_type": "markdown",
      "metadata": {
        "id": "_kPpvikSi6lf",
        "colab_type": "text"
      },
      "source": [
        "**What is a set in Python?**\n",
        "\n",
        "A set is an unordered collection of items. Every element is unique (no duplicates) and must be immutable (which cannot be changed).\n",
        "\n",
        "However, the set itself is mutable. We can add or remove items from it.\n",
        "\n",
        "Sets can be used to perform mathematical set operations like union, intersection, symmetric difference etc."
      ]
    },
    {
      "cell_type": "markdown",
      "metadata": {
        "id": "fVn69FOhkJHS",
        "colab_type": "text"
      },
      "source": [
        "**How to create a set?**\n",
        "\n",
        "A set is created by placing all the items (elements) inside curly braces {}, separated by comma or by using the built-in function set().\n",
        "\n",
        "It can have any number of items and they may be of different types (integer, float, tuple, string etc.). But a set cannot have a mutable element, like list, set or dictionary, as its element."
      ]
    },
    {
      "cell_type": "code",
      "metadata": {
        "id": "cYn32Hv3i1Y0",
        "colab_type": "code",
        "colab": {
          "base_uri": "https://localhost:8080/",
          "height": 52
        },
        "outputId": "d9fc5023-3322-42ae-c1ab-c18dc7fa8302"
      },
      "source": [
        "# set of integers\n",
        "my_set = {1, 2, 3}\n",
        "print(my_set)\n",
        "\n",
        "# set of mixed datatypes\n",
        "my_set = {1.0, \"Hello\", (1, 2, 3)}\n",
        "print(my_set)"
      ],
      "execution_count": 1,
      "outputs": [
        {
          "output_type": "stream",
          "text": [
            "{1, 2, 3}\n",
            "{1.0, 'Hello', (1, 2, 3)}\n"
          ],
          "name": "stdout"
        }
      ]
    },
    {
      "cell_type": "code",
      "metadata": {
        "id": "LRjk6u-zkeLq",
        "colab_type": "code",
        "colab": {
          "base_uri": "https://localhost:8080/",
          "height": 34
        },
        "outputId": "3c770c1a-7a67-46a0-c67f-86ecab36c9c2"
      },
      "source": [
        "# set do not have duplicates\n",
        "# Output: {1, 2, 3, 4}\n",
        "my_set = {1,2,3,4,3,2}\n",
        "print(my_set)"
      ],
      "execution_count": 5,
      "outputs": [
        {
          "output_type": "stream",
          "text": [
            "{1, 2, 3, 4}\n"
          ],
          "name": "stdout"
        }
      ]
    },
    {
      "cell_type": "code",
      "metadata": {
        "id": "GjCooOvHkn6d",
        "colab_type": "code",
        "colab": {
          "base_uri": "https://localhost:8080/",
          "height": 185
        },
        "outputId": "510c4cb0-37a1-43cd-a58c-48fd505c0c3a"
      },
      "source": [
        "# set cannot have mutable items\n",
        "# here [3, 4] is a mutable list\n",
        "# If you uncomment line #12,\n",
        "# this will cause an error.\n",
        "# TypeError: unhashable type: 'list'\n",
        "\n",
        "my_set = {1, 2, [3, 4]}"
      ],
      "execution_count": 6,
      "outputs": [
        {
          "output_type": "error",
          "ename": "TypeError",
          "evalue": "ignored",
          "traceback": [
            "\u001b[0;31m---------------------------------------------------------------------------\u001b[0m",
            "\u001b[0;31mTypeError\u001b[0m                                 Traceback (most recent call last)",
            "\u001b[0;32m<ipython-input-6-4d57d9e6a3ce>\u001b[0m in \u001b[0;36m<module>\u001b[0;34m()\u001b[0m\n\u001b[1;32m      1\u001b[0m \u001b[0;34m\u001b[0m\u001b[0m\n\u001b[0;32m----> 2\u001b[0;31m \u001b[0mmy_set\u001b[0m \u001b[0;34m=\u001b[0m \u001b[0;34m{\u001b[0m\u001b[0;36m1\u001b[0m\u001b[0;34m,\u001b[0m \u001b[0;36m2\u001b[0m\u001b[0;34m,\u001b[0m \u001b[0;34m[\u001b[0m\u001b[0;36m3\u001b[0m\u001b[0;34m,\u001b[0m \u001b[0;36m4\u001b[0m\u001b[0;34m]\u001b[0m\u001b[0;34m}\u001b[0m\u001b[0;34m\u001b[0m\u001b[0;34m\u001b[0m\u001b[0m\n\u001b[0m",
            "\u001b[0;31mTypeError\u001b[0m: unhashable type: 'list'"
          ]
        }
      ]
    },
    {
      "cell_type": "code",
      "metadata": {
        "id": "ZpBrPVWBkvTy",
        "colab_type": "code",
        "colab": {
          "base_uri": "https://localhost:8080/",
          "height": 34
        },
        "outputId": "9979f9d8-9ee7-4b9f-c1b0-4de5fc5b5bbf"
      },
      "source": [
        "# we can make set from a list\n",
        "# Output: {1, 2, 3}\n",
        "my_set = set([1,2,3,2])\n",
        "print(my_set)"
      ],
      "execution_count": 7,
      "outputs": [
        {
          "output_type": "stream",
          "text": [
            "{1, 2, 3}\n"
          ],
          "name": "stdout"
        }
      ]
    },
    {
      "cell_type": "markdown",
      "metadata": {
        "id": "in3VxnP0k5UZ",
        "colab_type": "text"
      },
      "source": [
        "Creating an empty set is a bit tricky.\n",
        "\n",
        "Empty curly braces {} will make an empty dictionary in Python. To make a set without any elements we use the set() function without any argument."
      ]
    },
    {
      "cell_type": "code",
      "metadata": {
        "id": "a1MOygLOkxvi",
        "colab_type": "code",
        "colab": {
          "base_uri": "https://localhost:8080/",
          "height": 52
        },
        "outputId": "770a1673-dff4-4b70-d614-61ee22de8c74"
      },
      "source": [
        "# initialize a with {}\n",
        "a = {}\n",
        "\n",
        "# check data type of a\n",
        "# Output: <class 'dict'>\n",
        "print(type(a))\n",
        "\n",
        "# initialize a with set()\n",
        "a = set()\n",
        "\n",
        "# check data type of a\n",
        "# Output: <class 'set'>\n",
        "print(type(a))"
      ],
      "execution_count": 8,
      "outputs": [
        {
          "output_type": "stream",
          "text": [
            "<class 'dict'>\n",
            "<class 'set'>\n"
          ],
          "name": "stdout"
        }
      ]
    },
    {
      "cell_type": "markdown",
      "metadata": {
        "id": "AbjHHa5HlB4J",
        "colab_type": "text"
      },
      "source": [
        "**How to change a set in Python?**\n",
        "\n",
        "Sets are mutable. But since they are unordered, indexing have no meaning.\n",
        "\n",
        "We cannot access or change an element of set using indexing or slicing. Set does not support it.\n",
        "\n",
        "We can add single element using the **add**() method and multiple elements using the **update**() method. The **update**() method can take tuples, lists, strings or other sets as its argument. In all cases, duplicates are avoided."
      ]
    },
    {
      "cell_type": "code",
      "metadata": {
        "id": "Y8hvJFGtk_Xy",
        "colab_type": "code",
        "colab": {
          "base_uri": "https://localhost:8080/",
          "height": 221
        },
        "outputId": "71f3d8a1-4694-463c-afba-d6ce43a396e8"
      },
      "source": [
        "# initialize my_set\n",
        "my_set = {1,3}\n",
        "print(my_set)\n",
        "\n",
        "# if you uncomment line 9,\n",
        "# you will get an error\n",
        "# TypeError: 'set' object does not support indexing\n",
        "\n",
        "my_set[0]"
      ],
      "execution_count": 9,
      "outputs": [
        {
          "output_type": "stream",
          "text": [
            "{1, 3}\n"
          ],
          "name": "stdout"
        },
        {
          "output_type": "error",
          "ename": "TypeError",
          "evalue": "ignored",
          "traceback": [
            "\u001b[0;31m---------------------------------------------------------------------------\u001b[0m",
            "\u001b[0;31mTypeError\u001b[0m                                 Traceback (most recent call last)",
            "\u001b[0;32m<ipython-input-9-ddfc5ebc2b49>\u001b[0m in \u001b[0;36m<module>\u001b[0;34m()\u001b[0m\n\u001b[1;32m      6\u001b[0m \u001b[0;31m# TypeError: 'set' object does not support indexing\u001b[0m\u001b[0;34m\u001b[0m\u001b[0;34m\u001b[0m\u001b[0;34m\u001b[0m\u001b[0m\n\u001b[1;32m      7\u001b[0m \u001b[0;34m\u001b[0m\u001b[0m\n\u001b[0;32m----> 8\u001b[0;31m \u001b[0mmy_set\u001b[0m\u001b[0;34m[\u001b[0m\u001b[0;36m0\u001b[0m\u001b[0;34m]\u001b[0m\u001b[0;34m\u001b[0m\u001b[0;34m\u001b[0m\u001b[0m\n\u001b[0m",
            "\u001b[0;31mTypeError\u001b[0m: 'set' object does not support indexing"
          ]
        }
      ]
    },
    {
      "cell_type": "code",
      "metadata": {
        "id": "0GDNkqPwlS6S",
        "colab_type": "code",
        "colab": {
          "base_uri": "https://localhost:8080/",
          "height": 70
        },
        "outputId": "14662d4f-0f90-4522-a441-fe3c5f6cd5fb"
      },
      "source": [
        "# add an element\n",
        "# Output: {1, 2, 3}\n",
        "my_set.add(2)\n",
        "print(my_set)\n",
        "\n",
        "# add multiple elements\n",
        "# Output: {1, 2, 3, 4}\n",
        "my_set.update([2,3,4])\n",
        "print(my_set)\n",
        "\n",
        "# add list and set\n",
        "# Output: {1, 2, 3, 4, 5, 6, 8}\n",
        "my_set.update([4,5], {1,6,8})\n",
        "print(my_set)"
      ],
      "execution_count": 10,
      "outputs": [
        {
          "output_type": "stream",
          "text": [
            "{1, 2, 3}\n",
            "{1, 2, 3, 4}\n",
            "{1, 2, 3, 4, 5, 6, 8}\n"
          ],
          "name": "stdout"
        }
      ]
    },
    {
      "cell_type": "markdown",
      "metadata": {
        "id": "TC1kvxcklhsP",
        "colab_type": "text"
      },
      "source": [
        "**How to remove elements from a set?**\n",
        "\n",
        "A particular item can be removed from set using methods, discard() and remove().\n",
        "\n",
        "The only difference between the two is that, while using discard() if the item does not exist in the set, it remains unchanged. But remove() will raise an error in such condition.\n",
        "\n",
        "The following example will illustrate this."
      ]
    },
    {
      "cell_type": "code",
      "metadata": {
        "id": "RLeOn7dWlUYn",
        "colab_type": "code",
        "colab": {
          "base_uri": "https://localhost:8080/",
          "height": 87
        },
        "outputId": "227591f6-6d25-49ec-f89a-623a6dc09abd"
      },
      "source": [
        "# initialize my_set\n",
        "my_set = {1, 3, 4, 5, 6}\n",
        "print(my_set)\n",
        "\n",
        "# discard an element\n",
        "# Output: {1, 3, 5, 6}\n",
        "my_set.discard(4)\n",
        "print(my_set)\n",
        "\n",
        "# remove an element\n",
        "# Output: {1, 3, 5}\n",
        "my_set.remove(6)\n",
        "print(my_set)\n",
        "\n",
        "# discard an element\n",
        "# not present in my_set\n",
        "# Output: {1, 3, 5}\n",
        "my_set.discard(2)\n",
        "print(my_set)"
      ],
      "execution_count": 11,
      "outputs": [
        {
          "output_type": "stream",
          "text": [
            "{1, 3, 4, 5, 6}\n",
            "{1, 3, 5, 6}\n",
            "{1, 3, 5}\n",
            "{1, 3, 5}\n"
          ],
          "name": "stdout"
        }
      ]
    },
    {
      "cell_type": "code",
      "metadata": {
        "id": "j90GiMYdlq_q",
        "colab_type": "code",
        "colab": {
          "base_uri": "https://localhost:8080/",
          "height": 185
        },
        "outputId": "b2152c31-31fc-4e55-f861-9d51b70ce1f4"
      },
      "source": [
        "# remove an element\n",
        "# not present in my_set\n",
        "# If you uncomment line 27,\n",
        "# you will get an error.\n",
        "# Output: KeyError: 2\n",
        "\n",
        "my_set.remove(2)"
      ],
      "execution_count": 12,
      "outputs": [
        {
          "output_type": "error",
          "ename": "KeyError",
          "evalue": "ignored",
          "traceback": [
            "\u001b[0;31m---------------------------------------------------------------------------\u001b[0m",
            "\u001b[0;31mKeyError\u001b[0m                                  Traceback (most recent call last)",
            "\u001b[0;32m<ipython-input-12-bf2b486052a9>\u001b[0m in \u001b[0;36m<module>\u001b[0;34m()\u001b[0m\n\u001b[1;32m      1\u001b[0m \u001b[0;34m\u001b[0m\u001b[0m\n\u001b[0;32m----> 2\u001b[0;31m \u001b[0mmy_set\u001b[0m\u001b[0;34m.\u001b[0m\u001b[0mremove\u001b[0m\u001b[0;34m(\u001b[0m\u001b[0;36m2\u001b[0m\u001b[0;34m)\u001b[0m\u001b[0;34m\u001b[0m\u001b[0;34m\u001b[0m\u001b[0m\n\u001b[0m",
            "\u001b[0;31mKeyError\u001b[0m: 2"
          ]
        }
      ]
    },
    {
      "cell_type": "markdown",
      "metadata": {
        "id": "CTLh6uGklvzx",
        "colab_type": "text"
      },
      "source": [
        "Similarly, we can remove and return an item using the pop() method.\n",
        "\n",
        "Set being unordered, there is no way of determining which item will be popped. It is completely arbitrary.\n",
        "\n",
        "We can also remove all items from a set using clear()."
      ]
    },
    {
      "cell_type": "code",
      "metadata": {
        "id": "7u6MFWiWluMB",
        "colab_type": "code",
        "colab": {
          "base_uri": "https://localhost:8080/",
          "height": 87
        },
        "outputId": "c6fd5383-fc39-4ae2-c09d-c934edfd38dd"
      },
      "source": [
        "# initialize my_set\n",
        "# Output: set of unique elements\n",
        "my_set = set(\"HelloWorld\")\n",
        "print(my_set)\n",
        "\n",
        "# pop an element\n",
        "# Output: random element\n",
        "print(my_set.pop())\n",
        "\n",
        "# pop another element\n",
        "# Output: random element\n",
        "my_set.pop()\n",
        "print(my_set)\n",
        "\n",
        "# clear my_set\n",
        "#Output: set()\n",
        "my_set.clear()\n",
        "print(my_set)\n"
      ],
      "execution_count": 13,
      "outputs": [
        {
          "output_type": "stream",
          "text": [
            "{'r', 'H', 'o', 'l', 'd', 'W', 'e'}\n",
            "r\n",
            "{'o', 'l', 'd', 'W', 'e'}\n",
            "set()\n"
          ],
          "name": "stdout"
        }
      ]
    },
    {
      "cell_type": "markdown",
      "metadata": {
        "id": "Lbc4ztadmCyA",
        "colab_type": "text"
      },
      "source": [
        "**Python Set Operations**\n",
        "\n",
        "Sets can be used to carry out mathematical set operations like union, intersection, difference and symmetric difference. We can do this with operators or methods.\n",
        "\n",
        "Let us consider the following two sets for the following operations."
      ]
    },
    {
      "cell_type": "code",
      "metadata": {
        "id": "ED4fptg3l4zp",
        "colab_type": "code",
        "colab": {}
      },
      "source": [
        "A = {1, 2, 3, 4, 5}\n",
        "B = {4, 5, 6, 7, 8}"
      ],
      "execution_count": 0,
      "outputs": []
    },
    {
      "cell_type": "markdown",
      "metadata": {
        "id": "_Z4hoIermh7a",
        "colab_type": "text"
      },
      "source": [
        "![alt text](https://drive.google.com/uc?export=view&id=1Qwv-jIJc-wwPE3Fnp5cXW5GR-kJjVcfD)\n",
        "\n",
        "Union is performed using | operator. Same can be accomplished using the method union()."
      ]
    },
    {
      "cell_type": "code",
      "metadata": {
        "id": "gOyVnhFWm1ra",
        "colab_type": "code",
        "colab": {
          "base_uri": "https://localhost:8080/",
          "height": 34
        },
        "outputId": "89e08e84-7c17-4d57-a2df-2923ddcfa6d7"
      },
      "source": [
        "# initialize A and B\n",
        "A = {1, 2, 3, 4, 5}\n",
        "B = {4, 5, 6, 7, 8}\n",
        "\n",
        "# use | operator\n",
        "# Output: {1, 2, 3, 4, 5, 6, 7, 8}\n",
        "print(A | B)"
      ],
      "execution_count": 14,
      "outputs": [
        {
          "output_type": "stream",
          "text": [
            "{1, 2, 3, 4, 5, 6, 7, 8}\n"
          ],
          "name": "stdout"
        }
      ]
    },
    {
      "cell_type": "markdown",
      "metadata": {
        "id": "Mjzi_XJim38Z",
        "colab_type": "text"
      },
      "source": [
        "Try the following examples on Python shell."
      ]
    },
    {
      "cell_type": "code",
      "metadata": {
        "id": "bIFQXhLVm2Xg",
        "colab_type": "code",
        "colab": {
          "base_uri": "https://localhost:8080/",
          "height": 34
        },
        "outputId": "e86faa68-09d5-42b2-e9e1-1aad2a13e160"
      },
      "source": [
        "# use union function\n",
        "A.union(B)"
      ],
      "execution_count": 15,
      "outputs": [
        {
          "output_type": "execute_result",
          "data": {
            "text/plain": [
              "{1, 2, 3, 4, 5, 6, 7, 8}"
            ]
          },
          "metadata": {
            "tags": []
          },
          "execution_count": 15
        }
      ]
    },
    {
      "cell_type": "code",
      "metadata": {
        "id": "tZCImv2qm65H",
        "colab_type": "code",
        "colab": {
          "base_uri": "https://localhost:8080/",
          "height": 34
        },
        "outputId": "29b85ff3-74b8-4f60-efdf-a706aebe5c30"
      },
      "source": [
        "# use union function on B\n",
        "B.union(A)"
      ],
      "execution_count": 16,
      "outputs": [
        {
          "output_type": "execute_result",
          "data": {
            "text/plain": [
              "{1, 2, 3, 4, 5, 6, 7, 8}"
            ]
          },
          "metadata": {
            "tags": []
          },
          "execution_count": 16
        }
      ]
    },
    {
      "cell_type": "markdown",
      "metadata": {
        "id": "TUs6Qn_AnU2E",
        "colab_type": "text"
      },
      "source": [
        "![alt text](https://drive.google.com/uc?export=view&id=111gpyITHsWnMwGG47zsXwdz7ilv8R-oH)\n",
        "\n",
        "Intersection is performed using & operator. Same can be accomplished using the method **intersection**()."
      ]
    },
    {
      "cell_type": "code",
      "metadata": {
        "id": "pqQLX9donBxG",
        "colab_type": "code",
        "colab": {
          "base_uri": "https://localhost:8080/",
          "height": 34
        },
        "outputId": "3a784247-f9fb-4dc3-a970-3d2f64883d4f"
      },
      "source": [
        "# initialize A and B\n",
        "A = {1, 2, 3, 4, 5}\n",
        "B = {4, 5, 6, 7, 8}\n",
        "\n",
        "# use & operator\n",
        "# Output: {4, 5}\n",
        "print(A & B)"
      ],
      "execution_count": 17,
      "outputs": [
        {
          "output_type": "stream",
          "text": [
            "{4, 5}\n"
          ],
          "name": "stdout"
        }
      ]
    },
    {
      "cell_type": "markdown",
      "metadata": {
        "id": "Vm4nk6FungtI",
        "colab_type": "text"
      },
      "source": [
        "Try the following examples on Python shell."
      ]
    },
    {
      "cell_type": "code",
      "metadata": {
        "id": "8Fv2XvpXnfVf",
        "colab_type": "code",
        "colab": {
          "base_uri": "https://localhost:8080/",
          "height": 52
        },
        "outputId": "f3c8d80d-f95e-49d5-973a-3e932778f5f9"
      },
      "source": [
        "# use intersection function on A\n",
        "print(A.intersection(B))\n",
        "#{4, 5}\n",
        "\n",
        "# use intersection function on B\n",
        "print(B.intersection(A))\n",
        "#{4, 5}"
      ],
      "execution_count": 19,
      "outputs": [
        {
          "output_type": "stream",
          "text": [
            "{4, 5}\n",
            "{4, 5}\n"
          ],
          "name": "stdout"
        }
      ]
    },
    {
      "cell_type": "markdown",
      "metadata": {
        "id": "w5mhtHdbn6QG",
        "colab_type": "text"
      },
      "source": [
        "![alt text](https://drive.google.com/uc?export=view&id=19Rybkq0gJXGv6sLTN6xKISi8tmFRBOko)\n",
        "\n",
        "Difference of A and B (A - B) is a set of elements that are only in A but not in B. Similarly, B - A is a set of element in B but not in A.\n",
        "\n",
        "Difference is performed using - operator. Same can be accomplished using the method difference().\n"
      ]
    },
    {
      "cell_type": "code",
      "metadata": {
        "id": "nXP8uGFJoLRa",
        "colab_type": "code",
        "colab": {
          "base_uri": "https://localhost:8080/",
          "height": 34
        },
        "outputId": "c75cb1c9-80aa-4a0a-87f1-f9152cc80c0d"
      },
      "source": [
        "# initialize A and B\n",
        "A = {1, 2, 3, 4, 5}\n",
        "B = {4, 5, 6, 7, 8}\n",
        "\n",
        "# use - operator on A\n",
        "# Output: {1, 2, 3}\n",
        "print(A - B)"
      ],
      "execution_count": 20,
      "outputs": [
        {
          "output_type": "stream",
          "text": [
            "{1, 2, 3}\n"
          ],
          "name": "stdout"
        }
      ]
    },
    {
      "cell_type": "markdown",
      "metadata": {
        "id": "W9N_B-zWoNwe",
        "colab_type": "text"
      },
      "source": [
        "Try the following examples on Python shell."
      ]
    },
    {
      "cell_type": "code",
      "metadata": {
        "id": "tgXtRyjLnlgY",
        "colab_type": "code",
        "colab": {
          "base_uri": "https://localhost:8080/",
          "height": 70
        },
        "outputId": "b04fcacf-daa1-4b4d-c6e5-464f60ca753c"
      },
      "source": [
        "# use difference function on A\n",
        "print(A.difference(B))\n",
        "#{1, 2, 3}\n",
        "\n",
        "# use - operator on B\n",
        "print(B - A)\n",
        "#{8, 6, 7}\n",
        "\n",
        "# use difference function on B\n",
        "print(B.difference(A))\n",
        "#{8, 6, 7}\n"
      ],
      "execution_count": 22,
      "outputs": [
        {
          "output_type": "stream",
          "text": [
            "{1, 2, 3}\n",
            "{8, 6, 7}\n",
            "{8, 6, 7}\n"
          ],
          "name": "stdout"
        }
      ]
    },
    {
      "cell_type": "markdown",
      "metadata": {
        "id": "Sxhjx0hRtmqh",
        "colab_type": "text"
      },
      "source": [
        "![alt text](https://drive.google.com/uc?export=view&id=1jjgHt0AIQUU_yycTse68Q_yZWGfCt3bi)\n",
        "\n",
        "Symmetric Difference of A and B is a set of elements in both A and B except those that are common in both.\n",
        "\n",
        "Symmetric difference is performed using ^ operator. Same can be accomplished using the method symmetric_difference()."
      ]
    },
    {
      "cell_type": "code",
      "metadata": {
        "id": "3P9YMKDBoUNW",
        "colab_type": "code",
        "colab": {
          "base_uri": "https://localhost:8080/",
          "height": 70
        },
        "outputId": "a37ca059-589b-4818-f340-c63cd8c416cc"
      },
      "source": [
        "# initialize A and B\n",
        "A = {1, 2, 3, 4, 5}\n",
        "B = {4, 5, 6, 7, 8}\n",
        "\n",
        "# use ^ operator\n",
        "# Output: {1, 2, 3, 6, 7, 8}\n",
        "print(A ^ B)\n",
        "\n",
        "#Try the following examples on Python shell.\n",
        "\n",
        "# use symmetric_difference function on A\n",
        "print(A.symmetric_difference(B))\n",
        "#{1, 2, 3, 6, 7, 8}\n",
        "\n",
        "# use symmetric_difference function on B\n",
        "print(B.symmetric_difference(A))\n",
        "#{1, 2, 3, 6, 7, 8}"
      ],
      "execution_count": 25,
      "outputs": [
        {
          "output_type": "stream",
          "text": [
            "{1, 2, 3, 6, 7, 8}\n",
            "{1, 2, 3, 6, 7, 8}\n",
            "{1, 2, 3, 6, 7, 8}\n"
          ],
          "name": "stdout"
        }
      ]
    },
    {
      "cell_type": "markdown",
      "metadata": {
        "id": "_najoDopvQC7",
        "colab_type": "text"
      },
      "source": [
        "**Different Python Set Methods**\n",
        "\n",
        "There are many set methods, some of which we have already used above. Here is a list of all the methods that are available with set objects.\n",
        "\n",
        "**Python Set Methods**\n",
        "\n",
        "![alt text](https://drive.google.com/uc?export=view&id=1VM-KzOidws-brixEKB7yoPRPahlj2CgQ)\n"
      ]
    },
    {
      "cell_type": "code",
      "metadata": {
        "id": "0TOLuFEBvCQf",
        "colab_type": "code",
        "colab": {}
      },
      "source": [
        ""
      ],
      "execution_count": 0,
      "outputs": []
    }
  ]
}