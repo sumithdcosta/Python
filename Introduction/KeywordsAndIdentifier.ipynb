{
  "nbformat": 4,
  "nbformat_minor": 0,
  "metadata": {
    "colab": {
      "name": "Untitled1.ipynb",
      "provenance": [],
      "include_colab_link": true
    },
    "kernelspec": {
      "name": "python3",
      "display_name": "Python 3"
    }
  },
  "cells": [
    {
      "cell_type": "markdown",
      "metadata": {
        "id": "view-in-github",
        "colab_type": "text"
      },
      "source": [
        "<a href=\"https://colab.research.google.com/github/sumithdcosta/Python/blob/master/Introduction/KeywordsAndIdentifier.ipynb\" target=\"_parent\"><img src=\"https://colab.research.google.com/assets/colab-badge.svg\" alt=\"Open In Colab\"/></a>"
      ]
    },
    {
      "cell_type": "markdown",
      "metadata": {
        "id": "xXBtKsSj9lVr",
        "colab_type": "text"
      },
      "source": [
        "# Keywords and Identifier\n",
        "\n",
        "\n",
        "Python Keywords\n",
        "\n",
        "Keywords are the reserved words in Python.\n",
        "\n",
        "We cannot use a keyword as variable name, function name or any other identifier. They are used to define the syntax and structure of the Python language.\n",
        "\n",
        "In Python, keywords are case sensitive.\n",
        "\n",
        "There are 33 keywords in Python 3.3. This number can vary slightly in course of time.\n",
        "\n",
        "All the keywords except True, False and None are in lowercase and they must be written as it is. The list of all the keywords are given below."
      ]
    }
  ]
}