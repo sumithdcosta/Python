{
  "nbformat": 4,
  "nbformat_minor": 0,
  "metadata": {
    "colab": {
      "name": "Untitled44.ipynb",
      "provenance": [],
      "include_colab_link": true
    },
    "kernelspec": {
      "name": "python3",
      "display_name": "Python 3"
    }
  },
  "cells": [
    {
      "cell_type": "markdown",
      "metadata": {
        "id": "view-in-github",
        "colab_type": "text"
      },
      "source": [
        "<a href=\"https://colab.research.google.com/github/sumithdcosta/Python/blob/master/6.%20Objects%26Class/5.%20OperatorOverloading.ipynb\" target=\"_parent\"><img src=\"https://colab.research.google.com/assets/colab-badge.svg\" alt=\"Open In Colab\"/></a>"
      ]
    },
    {
      "cell_type": "markdown",
      "metadata": {
        "id": "d-kT1Ckts86U",
        "colab_type": "text"
      },
      "source": [
        "6. Objects&Class/5. OperatorOverloading.ipynb"
      ]
    },
    {
      "cell_type": "markdown",
      "metadata": {
        "id": "ZPoCoXPstEfn",
        "colab_type": "text"
      },
      "source": [
        "**What is operator overloading in Python?**\n",
        "\n",
        "Python operators work for built-in classes. But same operator behaves differently with different types. For example, the + operator will, perform arithmetic addition on two numbers, merge two lists and concatenate two strings.\n",
        "\n",
        "This feature in Python, that allows same operator to have different meaning according to the context is called **operator overloading.**\n",
        "\n",
        "So what happens when we use them with objects of a user-defined class? Let us consider the following class, which tries to simulate a point in 2-D coordinate system."
      ]
    },
    {
      "cell_type": "code",
      "metadata": {
        "id": "ljYkDzaQs8PX",
        "colab_type": "code",
        "colab": {}
      },
      "source": [
        "class Point:\n",
        "    def __init__(self, x = 0, y = 0):\n",
        "        self.x = x\n",
        "        self.y = y\n"
      ],
      "execution_count": 0,
      "outputs": []
    },
    {
      "cell_type": "markdown",
      "metadata": {
        "id": "WZOb2jLCtUwO",
        "colab_type": "text"
      },
      "source": [
        "Now, run the code and try to add two points in Python shell."
      ]
    },
    {
      "cell_type": "code",
      "metadata": {
        "id": "JGee0PRMtRhq",
        "colab_type": "code",
        "colab": {
          "base_uri": "https://localhost:8080/",
          "height": 203
        },
        "outputId": "4b5cafce-b1ff-4ef7-d640-8272c63397d7"
      },
      "source": [
        "p1 = Point(2,3)\n",
        "p2 = Point(-1,2)\n",
        "p1 + p2"
      ],
      "execution_count": 2,
      "outputs": [
        {
          "output_type": "error",
          "ename": "TypeError",
          "evalue": "ignored",
          "traceback": [
            "\u001b[0;31m---------------------------------------------------------------------------\u001b[0m",
            "\u001b[0;31mTypeError\u001b[0m                                 Traceback (most recent call last)",
            "\u001b[0;32m<ipython-input-2-382eb40812ed>\u001b[0m in \u001b[0;36m<module>\u001b[0;34m()\u001b[0m\n\u001b[1;32m      1\u001b[0m \u001b[0mp1\u001b[0m \u001b[0;34m=\u001b[0m \u001b[0mPoint\u001b[0m\u001b[0;34m(\u001b[0m\u001b[0;36m2\u001b[0m\u001b[0;34m,\u001b[0m\u001b[0;36m3\u001b[0m\u001b[0;34m)\u001b[0m\u001b[0;34m\u001b[0m\u001b[0;34m\u001b[0m\u001b[0m\n\u001b[1;32m      2\u001b[0m \u001b[0mp2\u001b[0m \u001b[0;34m=\u001b[0m \u001b[0mPoint\u001b[0m\u001b[0;34m(\u001b[0m\u001b[0;34m-\u001b[0m\u001b[0;36m1\u001b[0m\u001b[0;34m,\u001b[0m\u001b[0;36m2\u001b[0m\u001b[0;34m)\u001b[0m\u001b[0;34m\u001b[0m\u001b[0;34m\u001b[0m\u001b[0m\n\u001b[0;32m----> 3\u001b[0;31m \u001b[0mp1\u001b[0m \u001b[0;34m+\u001b[0m \u001b[0mp2\u001b[0m\u001b[0;34m\u001b[0m\u001b[0;34m\u001b[0m\u001b[0m\n\u001b[0m",
            "\u001b[0;31mTypeError\u001b[0m: unsupported operand type(s) for +: 'Point' and 'Point'"
          ]
        }
      ]
    },
    {
      "cell_type": "markdown",
      "metadata": {
        "id": "_SeOYRfytao8",
        "colab_type": "text"
      },
      "source": [
        "Whoa! That's a lot of complains. TypeError was raised since Python didn't know how to add two Point objects together.\n",
        "\n",
        "However, the good news is that we can teach this to Python through operator overloading. But first, let's get a notion about special functions."
      ]
    },
    {
      "cell_type": "markdown",
      "metadata": {
        "id": "bJT9hCEbthrs",
        "colab_type": "text"
      },
      "source": [
        "**Special Functions in Python**\n",
        "\n",
        "Class functions that begins with double underscore __ are called special functions in Python. This is because, well, they are not ordinary. The **\\_\\_init\\__()** function we defined above, is one of them. It gets called every time we create a new object of that class. There are a ton of special functions in Python.\n",
        "\n",
        "Using special functions, we can make our class compatible with built-in functions."
      ]
    },
    {
      "cell_type": "code",
      "metadata": {
        "id": "IHchFWoFtX7g",
        "colab_type": "code",
        "colab": {
          "base_uri": "https://localhost:8080/",
          "height": 34
        },
        "outputId": "d2331f5d-a422-4c5d-a3c9-5d27efb82b75"
      },
      "source": [
        "p1 = Point(2,3)\n",
        "print(p1)"
      ],
      "execution_count": 4,
      "outputs": [
        {
          "output_type": "stream",
          "text": [
            "<__main__.Point object at 0x7fce433ab828>\n"
          ],
          "name": "stdout"
        }
      ]
    },
    {
      "cell_type": "markdown",
      "metadata": {
        "id": "1PkZZnTrt-29",
        "colab_type": "text"
      },
      "source": [
        "That did not print well. But if we define **\\_\\_str__()** method in our class, we can control how it gets printed. So, let's add this to our class.\n"
      ]
    },
    {
      "cell_type": "code",
      "metadata": {
        "id": "S2tyDeJvt7TS",
        "colab_type": "code",
        "colab": {}
      },
      "source": [
        "class Point:\n",
        "    def __init__(self, x=0, y=0):\n",
        "        self.x = x\n",
        "        self.y = y\n",
        "\n",
        "    def __str__(self):\n",
        "        return \"({0},{1})\".format(self.x, self.y)\n"
      ],
      "execution_count": 0,
      "outputs": []
    },
    {
      "cell_type": "markdown",
      "metadata": {
        "id": "lduDP72BuMl4",
        "colab_type": "text"
      },
      "source": [
        "Now let's try the print() function again."
      ]
    },
    {
      "cell_type": "code",
      "metadata": {
        "id": "82T3f5qruMJq",
        "colab_type": "code",
        "colab": {
          "base_uri": "https://localhost:8080/",
          "height": 34
        },
        "outputId": "4917eb53-4ab3-4308-fc56-4c2b0b4a6b75"
      },
      "source": [
        "p1 = Point(2,3)\n",
        "print(p1)"
      ],
      "execution_count": 6,
      "outputs": [
        {
          "output_type": "stream",
          "text": [
            "(2,3)\n"
          ],
          "name": "stdout"
        }
      ]
    },
    {
      "cell_type": "markdown",
      "metadata": {
        "id": "oGaWQfVauUzW",
        "colab_type": "text"
      },
      "source": [
        "That's better. Turns out, that this same method is invoked when we use the built-in function **str()** or **format()**."
      ]
    },
    {
      "cell_type": "code",
      "metadata": {
        "id": "HQv85ooRuOYr",
        "colab_type": "code",
        "colab": {
          "base_uri": "https://localhost:8080/",
          "height": 34
        },
        "outputId": "4883c3b1-915c-4656-8d0a-e01caa70deab"
      },
      "source": [
        "str(p1)"
      ],
      "execution_count": 7,
      "outputs": [
        {
          "output_type": "execute_result",
          "data": {
            "text/plain": [
              "'(2,3)'"
            ]
          },
          "metadata": {
            "tags": []
          },
          "execution_count": 7
        }
      ]
    },
    {
      "cell_type": "code",
      "metadata": {
        "id": "Z3j1Fj0HuaTz",
        "colab_type": "code",
        "colab": {
          "base_uri": "https://localhost:8080/",
          "height": 34
        },
        "outputId": "486d402e-a3f2-40ab-8ba4-f829cf5aa259"
      },
      "source": [
        "format(p1)"
      ],
      "execution_count": 8,
      "outputs": [
        {
          "output_type": "execute_result",
          "data": {
            "text/plain": [
              "'(2,3)'"
            ]
          },
          "metadata": {
            "tags": []
          },
          "execution_count": 8
        }
      ]
    },
    {
      "cell_type": "markdown",
      "metadata": {
        "id": "0wEATBCeueyb",
        "colab_type": "text"
      },
      "source": [
        "So, when you do str(p1) or format(p1), Python is internally doing p1.\\_\\_str__(). Hence the name, special functions.\n",
        "\n",
        "Ok, now back to operator overloading."
      ]
    },
    {
      "cell_type": "markdown",
      "metadata": {
        "id": "U_iF4C2uukOL",
        "colab_type": "text"
      },
      "source": [
        "**Overloading the + Operator in Python**\n",
        "\n",
        "To overload the + sign, we will need to implement \\_\\_add__() function in the class. With great power comes great responsibility. We can do whatever we like, inside this function. But it is sensible to return a Point object of the coordinate sum."
      ]
    },
    {
      "cell_type": "code",
      "metadata": {
        "id": "dZVAYK7RubhD",
        "colab_type": "code",
        "colab": {}
      },
      "source": [
        "class Point:\n",
        "    def __init__(self, x=0, y=0):\n",
        "        self.x = x\n",
        "        self.y = y\n",
        "\n",
        "    def __str__(self):\n",
        "        return \"({0},{1})\".format(self.x, self.y)\n",
        "\n",
        "    def __add__(self, other):\n",
        "        x = self.x + other.x\n",
        "        y = self.y + other.y\n",
        "        return Point(x, y)"
      ],
      "execution_count": 0,
      "outputs": []
    },
    {
      "cell_type": "code",
      "metadata": {
        "id": "i8yOqsgCuz0c",
        "colab_type": "code",
        "colab": {
          "base_uri": "https://localhost:8080/",
          "height": 34
        },
        "outputId": "f305c2a5-b72f-422b-cf5b-1fe6f04513e6"
      },
      "source": [
        "#Now let's try that addition again.\n",
        "p1 = Point(2,3)\n",
        "p2 = Point(-1,2)\n",
        "print(p1 + p2)"
      ],
      "execution_count": 10,
      "outputs": [
        {
          "output_type": "stream",
          "text": [
            "(1,5)\n"
          ],
          "name": "stdout"
        }
      ]
    },
    {
      "cell_type": "markdown",
      "metadata": {
        "id": "pObjBLQUvNNG",
        "colab_type": "text"
      },
      "source": [
        "What actually happens is that, when you do p1 + p2, Python will call p1.\\_\\_add__(p2) which in turn is Point.\\_\\_add__(p1,p2). Similarly, we can overload other operators as well. The special function that we need to implement is tabulated below.\n",
        "\n",
        "![alt text](https://drive.google.com/uc?export=view&id=1LHstdb7KrguLyPX3uI4tXEKr3rgEql-C)"
      ]
    },
    {
      "cell_type": "markdown",
      "metadata": {
        "id": "KMyZi4WDvsrH",
        "colab_type": "text"
      },
      "source": [
        "**Overloading Comparison Operators in Python**\n",
        "\n",
        "Python does not limit operator overloading to arithmetic operators only. We can overload comparison operators as well.\n",
        "\n",
        "Suppose, we wanted to implement the less than symbol < symbol in our Point class.\n",
        "\n",
        "Let us compare the magnitude of these points from the origin and return the result for this purpose. It can be implemented as follows.\n"
      ]
    },
    {
      "cell_type": "code",
      "metadata": {
        "id": "4qUeB5FXu5X-",
        "colab_type": "code",
        "colab": {}
      },
      "source": [
        "class Point:\n",
        "    def __init__(self, x=0, y=0):\n",
        "        self.x = x\n",
        "        self.y = y\n",
        "\n",
        "    def __str__(self):\n",
        "        return \"({0},{1})\".format(self.x, self.y)\n",
        "\n",
        "    def __lt__(self, other):\n",
        "        self_mag = (self.x ** 2) + (self.y ** 2)\n",
        "        other_mag = (other.x ** 2) + (other.y ** 2)\n",
        "        return self_mag < other_mag"
      ],
      "execution_count": 0,
      "outputs": []
    },
    {
      "cell_type": "code",
      "metadata": {
        "id": "lqZjvWlpv8IY",
        "colab_type": "code",
        "colab": {
          "base_uri": "https://localhost:8080/",
          "height": 34
        },
        "outputId": "3e030093-26c5-4235-ce37-897e76aaa642"
      },
      "source": [
        "#Try these sample runs in Python shell.\n",
        "Point(1,1) < Point(-2,-3)"
      ],
      "execution_count": 12,
      "outputs": [
        {
          "output_type": "execute_result",
          "data": {
            "text/plain": [
              "True"
            ]
          },
          "metadata": {
            "tags": []
          },
          "execution_count": 12
        }
      ]
    },
    {
      "cell_type": "code",
      "metadata": {
        "id": "KVmotUibv_QI",
        "colab_type": "code",
        "colab": {
          "base_uri": "https://localhost:8080/",
          "height": 34
        },
        "outputId": "8260bab1-5e93-4e95-e193-4193338417f8"
      },
      "source": [
        "Point(1,1) < Point(0.5,-0.2)"
      ],
      "execution_count": 13,
      "outputs": [
        {
          "output_type": "execute_result",
          "data": {
            "text/plain": [
              "False"
            ]
          },
          "metadata": {
            "tags": []
          },
          "execution_count": 13
        }
      ]
    },
    {
      "cell_type": "code",
      "metadata": {
        "id": "u2JNVEwbwAa4",
        "colab_type": "code",
        "colab": {
          "base_uri": "https://localhost:8080/",
          "height": 34
        },
        "outputId": "daeb0ae1-0e0a-489d-f854-81f6ae94789a"
      },
      "source": [
        "Point(1,1) < Point(1,1)"
      ],
      "execution_count": 14,
      "outputs": [
        {
          "output_type": "execute_result",
          "data": {
            "text/plain": [
              "False"
            ]
          },
          "metadata": {
            "tags": []
          },
          "execution_count": 14
        }
      ]
    },
    {
      "cell_type": "markdown",
      "metadata": {
        "id": "07gPbJimwDaa",
        "colab_type": "text"
      },
      "source": [
        "Similarly, the special functions that we need to implement, to overload other comparison operators are tabulated below.\n",
        "\n",
        "![alt text](https://drive.google.com/uc?export=view&id=1-q7OcCtIfBbjNB5tTQQmAgzLdN3dXgwy)"
      ]
    },
    {
      "cell_type": "code",
      "metadata": {
        "id": "yYf3MxyPwBiY",
        "colab_type": "code",
        "colab": {}
      },
      "source": [
        ""
      ],
      "execution_count": 0,
      "outputs": []
    }
  ]
}