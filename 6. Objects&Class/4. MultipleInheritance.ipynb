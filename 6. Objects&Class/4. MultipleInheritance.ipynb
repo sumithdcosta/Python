{
  "nbformat": 4,
  "nbformat_minor": 0,
  "metadata": {
    "colab": {
      "name": "Untitled43.ipynb",
      "provenance": [],
      "include_colab_link": true
    },
    "kernelspec": {
      "name": "python3",
      "display_name": "Python 3"
    }
  },
  "cells": [
    {
      "cell_type": "markdown",
      "metadata": {
        "id": "view-in-github",
        "colab_type": "text"
      },
      "source": [
        "<a href=\"https://colab.research.google.com/github/sumithdcosta/Python/blob/master/6.%20Objects%26Class/4.%20MultipleInheritance.ipynb\" target=\"_parent\"><img src=\"https://colab.research.google.com/assets/colab-badge.svg\" alt=\"Open In Colab\"/></a>"
      ]
    },
    {
      "cell_type": "markdown",
      "metadata": {
        "id": "i1gITfCEgHll",
        "colab_type": "text"
      },
      "source": [
        "6. Objects&Class/4. MultipleInheritance.ipynb"
      ]
    },
    {
      "cell_type": "markdown",
      "metadata": {
        "id": "skAMGzYDgSi6",
        "colab_type": "text"
      },
      "source": [
        "**Multiple Inheritance in Python**\n",
        "\n",
        "Like C++, a class can be derived from more than one base classes in Python. This is called multiple inheritance.\n",
        "\n",
        "In multiple inheritance, the features of all the base classes are inherited into the derived class. The syntax for multiple inheritance is similar to single inheritance.\n",
        "\n",
        "\n",
        "Example :\n"
      ]
    },
    {
      "cell_type": "code",
      "metadata": {
        "id": "eTBa84uveq1Y",
        "colab_type": "code",
        "colab": {}
      },
      "source": [
        "class Base1:\n",
        "    pass\n",
        "\n",
        "class Base2:\n",
        "    pass\n",
        "\n",
        "class MultiDerived(Base1, Base2):\n",
        "    pass"
      ],
      "execution_count": 0,
      "outputs": []
    },
    {
      "cell_type": "markdown",
      "metadata": {
        "id": "aXkk9MGQg4Xl",
        "colab_type": "text"
      },
      "source": [
        "![alt text](https://drive.google.com/uc?export=view&id=1xvqp3-Aii0XP6JFjaTpoU3Ia3sy-XKKN)\n"
      ]
    },
    {
      "cell_type": "markdown",
      "metadata": {
        "id": "QHsDgzf7hAN7",
        "colab_type": "text"
      },
      "source": [
        "**Multilevel Inheritance in Python**\n",
        "\n",
        "On the other hand, we can also inherit form a derived class. This is called multilevel inheritance. It can be of any depth in Python.\n",
        "\n",
        "In multilevel inheritance, features of the base class and the derived class is inherited into the new derived class.\n",
        "\n",
        "An example with corresponding visualization is given below."
      ]
    },
    {
      "cell_type": "code",
      "metadata": {
        "id": "fIW4-MQTgeMR",
        "colab_type": "code",
        "colab": {}
      },
      "source": [
        "class Base:\n",
        "    pass\n",
        "\n",
        "class Derived1(Base):\n",
        "    pass\n",
        "\n",
        "class Derived2(Derived1):\n",
        "    pass\n"
      ],
      "execution_count": 0,
      "outputs": []
    },
    {
      "cell_type": "markdown",
      "metadata": {
        "id": "Z38EjaMKhahz",
        "colab_type": "text"
      },
      "source": [
        "![alt text](https://drive.google.com/uc?export=view&id=1xKsewbUofUS62C6wGcZF3aZFawOcrors)"
      ]
    },
    {
      "cell_type": "markdown",
      "metadata": {
        "id": "Toqx3lu8hihI",
        "colab_type": "text"
      },
      "source": [
        "**Method Resolution Order in Python**\n",
        "\n",
        "Every class in Python is derived from the class object. It is the most base type in Python.\n",
        "\n",
        "So technically, all other class, either built-in or user-defines, are derived classes and all objects are instances of object class."
      ]
    },
    {
      "cell_type": "code",
      "metadata": {
        "id": "mNOJ8kPohHRD",
        "colab_type": "code",
        "colab": {
          "base_uri": "https://localhost:8080/",
          "height": 70
        },
        "outputId": "86078f3d-9a64-4976-ec3a-ff9d3b6cd8b5"
      },
      "source": [
        "# Output: True\n",
        "print(issubclass(list,object))\n",
        "\n",
        "# Output: True\n",
        "print(isinstance(5.5,object))\n",
        "\n",
        "# Output: True\n",
        "print(isinstance(\"Hello\",object))\n"
      ],
      "execution_count": 3,
      "outputs": [
        {
          "output_type": "stream",
          "text": [
            "True\n",
            "True\n",
            "True\n"
          ],
          "name": "stdout"
        }
      ]
    },
    {
      "cell_type": "markdown",
      "metadata": {
        "id": "OomJSNVIrukU",
        "colab_type": "text"
      },
      "source": [
        "In the multiple inheritance scenario, any specified attribute is searched first in the current class. If not found, the search continues into parent classes in depth-first, *left-right* fashion without searching same class twice.\n",
        "\n",
        "So, in the above example of MultiDerived class the search order is [MultiDerived, Base1, Base2, object]. This order is also called linearization of MultiDerived class and the set of rules used to find this order is called **Method Resolution Order (MRO)**.\n",
        "\n",
        "MRO must prevent local precedence ordering and also provide monotonicity. It ensures that a class always appears before its parents and in case of multiple parents, the order is same as tuple of base classes.\n",
        "\n",
        "MRO of a class can be viewed as the **\\_\\_mro\\_\\_** attribute or mro() method. The former returns a tuple while latter returns a list"
      ]
    },
    {
      "cell_type": "code",
      "metadata": {
        "id": "hHp7w8NFrsto",
        "colab_type": "code",
        "colab": {
          "base_uri": "https://localhost:8080/",
          "height": 34
        },
        "outputId": "17e5c275-d540-4645-93df-4d214d644ba4"
      },
      "source": [
        "MultiDerived.__mro__"
      ],
      "execution_count": 4,
      "outputs": [
        {
          "output_type": "execute_result",
          "data": {
            "text/plain": [
              "(__main__.MultiDerived, __main__.Base1, __main__.Base2, object)"
            ]
          },
          "metadata": {
            "tags": []
          },
          "execution_count": 4
        }
      ]
    },
    {
      "cell_type": "code",
      "metadata": {
        "id": "dtNNjaVTsIyU",
        "colab_type": "code",
        "colab": {
          "base_uri": "https://localhost:8080/",
          "height": 34
        },
        "outputId": "b1264dd8-8b34-469f-dae1-d6b33155fa07"
      },
      "source": [
        "MultiDerived.mro()"
      ],
      "execution_count": 5,
      "outputs": [
        {
          "output_type": "execute_result",
          "data": {
            "text/plain": [
              "[__main__.MultiDerived, __main__.Base1, __main__.Base2, object]"
            ]
          },
          "metadata": {
            "tags": []
          },
          "execution_count": 5
        }
      ]
    },
    {
      "cell_type": "markdown",
      "metadata": {
        "id": "lYuyG2-1sOik",
        "colab_type": "text"
      },
      "source": [
        "Here is a little more complex multiple inheritance example and its visualization along with the MRO.\n",
        "\n",
        "![alt text](https://drive.google.com/uc?export=view&id=11zczArKTWSOq6lqj7TrISvWn3peFoqLj)"
      ]
    },
    {
      "cell_type": "code",
      "metadata": {
        "id": "687yOx2wsLdM",
        "colab_type": "code",
        "colab": {}
      },
      "source": [
        "class X: pass\n",
        "class Y: pass\n",
        "class Z: pass\n",
        "\n",
        "class A(X,Y): pass\n",
        "class B(Y,Z): pass\n",
        "\n",
        "class M(B,A,Z): pass"
      ],
      "execution_count": 0,
      "outputs": []
    },
    {
      "cell_type": "code",
      "metadata": {
        "id": "SVlZR3uqsjte",
        "colab_type": "code",
        "colab": {
          "base_uri": "https://localhost:8080/",
          "height": 54
        },
        "outputId": "d52bbe63-da74-49ce-81f1-af74e88999a4"
      },
      "source": [
        "print(M.mro())"
      ],
      "execution_count": 7,
      "outputs": [
        {
          "output_type": "stream",
          "text": [
            "[<class '__main__.M'>, <class '__main__.B'>, <class '__main__.A'>, <class '__main__.X'>, <class '__main__.Y'>, <class '__main__.Z'>, <class 'object'>]\n"
          ],
          "name": "stdout"
        }
      ]
    },
    {
      "cell_type": "markdown",
      "metadata": {
        "id": "0kb-piYLsupo",
        "colab_type": "text"
      },
      "source": [
        "Refer to this, for further discussion on MRO and to know the actual algorithm how it is calculated."
      ]
    },
    {
      "cell_type": "code",
      "metadata": {
        "id": "70UQ5Jluslu2",
        "colab_type": "code",
        "colab": {}
      },
      "source": [
        ""
      ],
      "execution_count": 0,
      "outputs": []
    }
  ]
}