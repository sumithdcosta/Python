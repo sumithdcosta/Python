{
  "nbformat": 4,
  "nbformat_minor": 0,
  "metadata": {
    "colab": {
      "name": "Untitled40.ipynb",
      "provenance": [],
      "include_colab_link": true
    },
    "kernelspec": {
      "name": "python3",
      "display_name": "Python 3"
    }
  },
  "cells": [
    {
      "cell_type": "markdown",
      "metadata": {
        "id": "view-in-github",
        "colab_type": "text"
      },
      "source": [
        "<a href=\"https://colab.research.google.com/github/sumithdcosta/Python/blob/master/6.%20Objects%26Class/1.%20OOPS.ipynb\" target=\"_parent\"><img src=\"https://colab.research.google.com/assets/colab-badge.svg\" alt=\"Open In Colab\"/></a>"
      ]
    },
    {
      "cell_type": "markdown",
      "metadata": {
        "id": "FUBgIBRfIO7e",
        "colab_type": "text"
      },
      "source": [
        "6. Objects&Class/1. OOPS.ipynb"
      ]
    },
    {
      "cell_type": "markdown",
      "metadata": {
        "id": "yVE79gPy84Dr",
        "colab_type": "text"
      },
      "source": [
        "**Python Object Oriented Programming**\n",
        "\n",
        "**Introduction to OOPs in Python:**\n",
        "\n",
        "Python is a multi-paradigm programming language. Meaning, it supports different programming approach.\n",
        "\n",
        "One of the popular approach to solve a programming problem is by creating objects. This is known as **Object-Oriented Programming (OOP).**\n",
        "\n",
        "An object has two characteristics:\n",
        "\n",
        "* attributes\n",
        "* behavior\n",
        "\n",
        "Let's take an example:\n",
        "\n",
        "Parrot is an object,\n",
        "\n",
        "* name, age, color are attributes\n",
        "* singing, dancing are behavior"
      ]
    },
    {
      "cell_type": "markdown",
      "metadata": {
        "id": "BPLIhbqP9S6Y",
        "colab_type": "text"
      },
      "source": [
        "The concept of OOP in Python focuses on creating reusable code. This concept is also known as DRY (Don't Repeat Yourself).\n",
        "\n",
        "In Python, the concept of OOP follows some basic principles:\n",
        "\n",
        "1. Inheritance\t  - \tA process of using details from a new class without modifying existing class.\n",
        "2. Encapsulation\t- Hiding the private details of a class from other objects.\n",
        "3. Polymorphism\t- A concept of using common operation in different ways for different data input.\n"
      ]
    },
    {
      "cell_type": "markdown",
      "metadata": {
        "id": "kXYvnULd9t8h",
        "colab_type": "text"
      },
      "source": [
        "**Class:**\n",
        "\n",
        "A class is a blueprint for the object.\n",
        "\n",
        "We can think of class as an sketch of a parrot with labels. It contains all the details about the name, colors, size etc. Based on these descriptions, we can study about the parrot. Here, parrot is an object.\n",
        "\n",
        "The example for class of parrot can be :"
      ]
    },
    {
      "cell_type": "code",
      "metadata": {
        "id": "vfpARIAF922W",
        "colab_type": "code",
        "colab": {}
      },
      "source": [
        "class Parrot:\n",
        "    pass"
      ],
      "execution_count": 0,
      "outputs": []
    },
    {
      "cell_type": "markdown",
      "metadata": {
        "id": "WkzTOrch946X",
        "colab_type": "text"
      },
      "source": [
        "Here, we use class keyword to define an empty class Parrot. From class, we construct instances. An instance is a specific object created from a particular class."
      ]
    },
    {
      "cell_type": "markdown",
      "metadata": {
        "id": "I-l-x-ZK-FcY",
        "colab_type": "text"
      },
      "source": [
        "**Object:**\n",
        "\n",
        "An object (instance) is an instantiation of a class. When class is defined, only the description for the object is defined. Therefore, no memory or storage is allocated.\n",
        "\n",
        "The example for object of parrot class can be:"
      ]
    },
    {
      "cell_type": "code",
      "metadata": {
        "id": "5ifbyfNS-NSi",
        "colab_type": "code",
        "colab": {}
      },
      "source": [
        "obj = Parrot()"
      ],
      "execution_count": 0,
      "outputs": []
    },
    {
      "cell_type": "markdown",
      "metadata": {
        "id": "we5BhKkm-Q2F",
        "colab_type": "text"
      },
      "source": [
        "Here, obj is object of class Parrot.\n",
        "\n",
        "Suppose we have details of parrot. Now, we are going to show how to build the class and objects of parrot."
      ]
    },
    {
      "cell_type": "markdown",
      "metadata": {
        "id": "du0PMFPf-WsD",
        "colab_type": "text"
      },
      "source": [
        "**Example 1: Creating Class and Object in Pyt**hon"
      ]
    },
    {
      "cell_type": "code",
      "metadata": {
        "id": "6yJNpFsh-N7g",
        "colab_type": "code",
        "colab": {
          "base_uri": "https://localhost:8080/",
          "height": 87
        },
        "outputId": "a5636608-d15f-49a5-9b2d-1d6d702a7935"
      },
      "source": [
        "class Parrot:\n",
        "    # class attribute\n",
        "    species = \"bird\"\n",
        "\n",
        "    # instance attribute\n",
        "    def __init__(self, name, age):\n",
        "        self.name = name\n",
        "        self.age = age\n",
        "\n",
        "# instantiate the Parrot class\n",
        "blu = Parrot(\"Blu\", 10)\n",
        "woo = Parrot(\"Woo\", 15)\n",
        "\n",
        "# access the class attributes\n",
        "print(\"Blu is a {}\".format(blu.__class__.species))\n",
        "print(\"Woo is also a {}\".format(woo.__class__.species))\n",
        "\n",
        "# access the instance attributes\n",
        "print(\"{} is {} years old\".format( blu.name, blu.age))\n",
        "print(\"{} is {} years old\".format( woo.name, woo.age))"
      ],
      "execution_count": 4,
      "outputs": [
        {
          "output_type": "stream",
          "text": [
            "Blu is a bird\n",
            "Woo is also a bird\n",
            "Blu is 10 years old\n",
            "Woo is 15 years old\n"
          ],
          "name": "stdout"
        }
      ]
    },
    {
      "cell_type": "markdown",
      "metadata": {
        "id": "BRsoA4JY-q_X",
        "colab_type": "text"
      },
      "source": [
        "\n",
        "In the above program, we create a class with name Parrot. Then, we define attributes. The attributes are a characteristic of an object.\n",
        "\n",
        "Then, we create instances of the Parrot class. Here, blu and woo are references (value) to our new objects.\n",
        "\n",
        "Then, we access the class attribute using __class __.species. Class attributes are same for all instances of a class. Similarly, we access the instance attributes using blu.name and blu.age. However, instance attributes are different for every instance of a class.\n",
        "\n",
        "To learn more about classes and objects, go to Python Classes and Objects"
      ]
    },
    {
      "cell_type": "markdown",
      "metadata": {
        "id": "uB7H_8IY_EaF",
        "colab_type": "text"
      },
      "source": [
        "**Methods :**\n",
        "\n",
        "Methods are functions defined inside the body of a class. They are used to define the behaviors of an object.\n",
        "\n",
        "**Example 2 : Creating Methods in Python**\n"
      ]
    },
    {
      "cell_type": "code",
      "metadata": {
        "id": "oosUWj-D-jQ_",
        "colab_type": "code",
        "colab": {
          "base_uri": "https://localhost:8080/",
          "height": 52
        },
        "outputId": "7220cdf1-43f4-4f20-c9eb-1f5d375c47e4"
      },
      "source": [
        "class Parrot:\n",
        "\n",
        "    # instance attributes\n",
        "    def __init__(self, name, age):\n",
        "        self.name = name\n",
        "        self.age = age\n",
        "\n",
        "    # instance method\n",
        "    def sing(self, song):\n",
        "        return \"{} sings {}\".format(self.name, song)\n",
        "\n",
        "    def dance(self):\n",
        "        return \"{} is now dancing\".format(self.name)\n",
        "\n",
        "\n",
        "# instantiate the object\n",
        "blu = Parrot(\"Blu\", 10)\n",
        "\n",
        "# call our instance methods\n",
        "print(blu.sing(\"'Happy'\"))\n",
        "print(blu.dance())"
      ],
      "execution_count": 5,
      "outputs": [
        {
          "output_type": "stream",
          "text": [
            "Blu sings 'Happy'\n",
            "Blu is now dancing\n"
          ],
          "name": "stdout"
        }
      ]
    },
    {
      "cell_type": "markdown",
      "metadata": {
        "id": "yoAncsK-_j2k",
        "colab_type": "text"
      },
      "source": [
        "In the above program, we define two methods i.e sing() and dance(). These are called instance method because they are called on an instance object i.e blu."
      ]
    },
    {
      "cell_type": "markdown",
      "metadata": {
        "id": "Wb52UAkM_0Zn",
        "colab_type": "text"
      },
      "source": [
        "**Inheritance:**\n",
        "\n",
        "Inheritance is a way of creating new class for using details of existing class without modifying it. The newly formed class is a derived class (or child class). Similarly, the existing class is a base class (or parent class).\n",
        "\n",
        "**Example 3: Use of Inheritance in Python**"
      ]
    },
    {
      "cell_type": "code",
      "metadata": {
        "id": "MOCZKAWl_VdC",
        "colab_type": "code",
        "colab": {
          "base_uri": "https://localhost:8080/",
          "height": 105
        },
        "outputId": "c60c30a3-65e0-469f-dae9-154c3371bc7f"
      },
      "source": [
        "# parent class\n",
        "class Bird:\n",
        "\n",
        "    def __init__(self):\n",
        "        print(\"Bird is ready\")\n",
        "\n",
        "    def whoisThis(self):\n",
        "        print(\"Bird\")\n",
        "\n",
        "    def swim(self):\n",
        "        print(\"Swim faster\")\n",
        "\n",
        "\n",
        "# child class\n",
        "class Penguin(Bird):\n",
        "\n",
        "    def __init__(self):\n",
        "        # call super() function\n",
        "        super().__init__()\n",
        "        print(\"Penguin is ready\")\n",
        "\n",
        "    def whoisThis(self):\n",
        "        print(\"Penguin\")\n",
        "\n",
        "    def run(self):\n",
        "        print(\"Run faster\")\n",
        "\n",
        "\n",
        "peggy = Penguin()\n",
        "peggy.whoisThis()\n",
        "peggy.swim()\n",
        "peggy.run()"
      ],
      "execution_count": 6,
      "outputs": [
        {
          "output_type": "stream",
          "text": [
            "Bird is ready\n",
            "Penguin is ready\n",
            "Penguin\n",
            "Swim faster\n",
            "Run faster\n"
          ],
          "name": "stdout"
        }
      ]
    },
    {
      "cell_type": "markdown",
      "metadata": {
        "id": "tcRM7FySAVgP",
        "colab_type": "text"
      },
      "source": [
        "In the above program, we created two classes i.e. Bird (parent class) and Penguin (child class). The child class inherits the functions of parent class. We can see this from swim() method. Again, the child class modified the behavior of parent class. We can see this from whoisThis() method. Furthermore, we extend the functions of parent class, by creating a new run() method.\n",
        "\n",
        "Additionally, we use **super()** function before **\\_\\_init\\_\\_()** method. This is because we want to pull the content of **\\_\\_init\\_\\_()** method from the parent class into the child class."
      ]
    },
    {
      "cell_type": "markdown",
      "metadata": {
        "id": "AaUqCkQoAvdm",
        "colab_type": "text"
      },
      "source": [
        "**Encapsulation:**\n",
        "\n",
        "Using OOP in Python, we can restrict access to methods and variables. This prevent data from direct modification which is called **encapsulation**. In Python, we denote private attribute using underscore as prefix i.e single “ _ “ or double “ __“.\n",
        "\n",
        "**Example 4: Data Encapsulation in Python**"
      ]
    },
    {
      "cell_type": "code",
      "metadata": {
        "id": "NIzExcckADdT",
        "colab_type": "code",
        "colab": {
          "base_uri": "https://localhost:8080/",
          "height": 70
        },
        "outputId": "94e3ca56-2a13-44c1-d67c-b78792c4b3b5"
      },
      "source": [
        "class Computer:\n",
        "\n",
        "    def __init__(self):\n",
        "        self.__maxprice = 900\n",
        "\n",
        "    def sell(self):\n",
        "        print(\"Selling Price: {}\".format(self.__maxprice))\n",
        "\n",
        "    def setMaxPrice(self, price):\n",
        "        self.__maxprice = price\n",
        "\n",
        "c = Computer()\n",
        "c.sell()\n",
        "\n",
        "# change the price\n",
        "c.__maxprice = 1000\n",
        "c.sell()\n",
        "\n",
        "# using setter function\n",
        "c.setMaxPrice(1000)\n",
        "c.sell()"
      ],
      "execution_count": 7,
      "outputs": [
        {
          "output_type": "stream",
          "text": [
            "Selling Price: 900\n",
            "Selling Price: 900\n",
            "Selling Price: 1000\n"
          ],
          "name": "stdout"
        }
      ]
    },
    {
      "cell_type": "markdown",
      "metadata": {
        "id": "SYP5GRhoFC0v",
        "colab_type": "text"
      },
      "source": [
        "In the above program, we defined a class Computer. We use **\\_\\_init\\_\\_()** method to store the maximum selling price of computer. We tried to modify the price. However, we can’t change it because Python treats the **\\_\\_maxprice** as private attributes. To change the value, we used a setter function i.e setMaxPrice() which takes price as parameter.\n"
      ]
    },
    {
      "cell_type": "markdown",
      "metadata": {
        "id": "MwQ46CK0FbD4",
        "colab_type": "text"
      },
      "source": [
        "**Polymorphism**\n",
        "\n",
        "**Polymorphism** is an ability (in OOP) to use common interface for multiple form (data types).\n",
        "\n",
        "Suppose, we need to color a shape, there are multiple shape option (rectangle, square, circle). However we could use same method to color any shape. This concept is called **Polymorphism**.\n",
        "\n",
        "Example 5: Using Polymorphism in Python **bold text**"
      ]
    },
    {
      "cell_type": "code",
      "metadata": {
        "id": "mtOVepTvBBQ9",
        "colab_type": "code",
        "colab": {}
      },
      "source": [
        "class Parrot:\n",
        "\n",
        "    def fly(self):\n",
        "        print(\"Parrot can fly\")\n",
        "\n",
        "    def swim(self):\n",
        "        print(\"Parrot can't swim\")\n",
        "\n",
        "\n",
        "class Penguin:\n",
        "\n",
        "    def fly(self):\n",
        "        print(\"Penguin can't fly\")\n",
        "\n",
        "    def swim(self):\n",
        "        print(\"Penguin can swim\")\n",
        "\n",
        "\n",
        "# common interface\n",
        "def flying_test(bird):\n",
        "    bird.fly()\n",
        "\n",
        "\n",
        "# instantiate objects\n",
        "blu = Parrot()\n",
        "peggy = Penguin()\n",
        "\n",
        "# passing the object\n",
        "flying_test(blu)\n",
        "flying_test(peggy)"
      ],
      "execution_count": 0,
      "outputs": []
    },
    {
      "cell_type": "markdown",
      "metadata": {
        "id": "g0ZsL37NF-i8",
        "colab_type": "text"
      },
      "source": [
        "In the above program, we defined two classes Parrot and Penguin. Each of them have common method fly() method. However, their functions are different. To allow polymorphism, we created common interface i.e flying_test() function that can take any object. Then, we passed the objects blu and peggy in the flying_test() function, it ran effectively"
      ]
    },
    {
      "cell_type": "markdown",
      "metadata": {
        "id": "cvKHJY5bGzkU",
        "colab_type": "text"
      },
      "source": [
        "**Key Points to Remember:**\n",
        "* The programming gets easy and efficient.\n",
        "* The class is sharable, so codes can be reused.\n",
        "* The productivity of programmars increases\n",
        "* Data is safe and secure with data abstraction."
      ]
    }
  ]
}