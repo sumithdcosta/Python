{
  "nbformat": 4,
  "nbformat_minor": 0,
  "metadata": {
    "colab": {
      "name": "Untitled42.ipynb",
      "provenance": [],
      "include_colab_link": true
    },
    "kernelspec": {
      "name": "python3",
      "display_name": "Python 3"
    }
  },
  "cells": [
    {
      "cell_type": "markdown",
      "metadata": {
        "id": "view-in-github",
        "colab_type": "text"
      },
      "source": [
        "<a href=\"https://colab.research.google.com/github/sumithdcosta/Python/blob/master/6.%20Objects%26Class/3.%20Inheritance.ipynb\" target=\"_parent\"><img src=\"https://colab.research.google.com/assets/colab-badge.svg\" alt=\"Open In Colab\"/></a>"
      ]
    },
    {
      "cell_type": "markdown",
      "metadata": {
        "id": "btM8ctTHdRvn",
        "colab_type": "text"
      },
      "source": [
        "6. Objects&Class/3. Inheritance.ipynb"
      ]
    },
    {
      "cell_type": "markdown",
      "metadata": {
        "id": "l1fSf9ptdPtv",
        "colab_type": "text"
      },
      "source": [
        "**What is Inheritance?**\n",
        "\n",
        "Inheritance is a powerful feature in object oriented programming.\n",
        "\n",
        "It refers to defining a new class with little or no modification to an existing class. The new class is called **derived (or child) class** and the one from which it inherits is called the **base (or parent) class**.\n",
        "\n",
        "**Python Inheritance Syntax**"
      ]
    },
    {
      "cell_type": "code",
      "metadata": {
        "id": "gLf96ISddJn-",
        "colab_type": "code",
        "colab": {}
      },
      "source": [
        "class BaseClass:\n",
        "  #Body of base class\n",
        "  pass\n",
        "class DerivedClass(BaseClass):\n",
        "  #Body of derived class\n",
        "  pass"
      ],
      "execution_count": 0,
      "outputs": []
    },
    {
      "cell_type": "markdown",
      "metadata": {
        "id": "_lRInOJJdpyR",
        "colab_type": "text"
      },
      "source": [
        "Derived class inherits features from the base class, adding new features to it. This results into re-usability of code."
      ]
    },
    {
      "cell_type": "markdown",
      "metadata": {
        "id": "nzPQwuPtdtHi",
        "colab_type": "text"
      },
      "source": [
        "**Example of Inheritance in Python**\n",
        "\n",
        "To demonstrate the use of inheritance, let us take an example.\n",
        "\n",
        "A polygon is a closed figure with 3 or more sides. Say, we have a class called Polygon defined as follows.\n"
      ]
    },
    {
      "cell_type": "code",
      "metadata": {
        "id": "tRPvC0Uidl23",
        "colab_type": "code",
        "colab": {}
      },
      "source": [
        "class Polygon:\n",
        "    def __init__(self, no_of_sides):\n",
        "        self.n = no_of_sides\n",
        "        #to create default list of 0 eg:[0, 0, 0, 0, 0] for 5 sides\n",
        "        self.sides = [0 for i in range(no_of_sides)]\n",
        "\n",
        "    def inputSides(self):\n",
        "        self.sides = [float(input(\"Enter side \"+str(i+1)+\" : \")) for i in range(self.n)]\n",
        "\n",
        "    def dispSides(self):\n",
        "        for i in range(self.n):\n",
        "            print(\"Side\",i+1,\"is\",self.sides[i])"
      ],
      "execution_count": 0,
      "outputs": []
    },
    {
      "cell_type": "markdown",
      "metadata": {
        "id": "ycVuScngeSXd",
        "colab_type": "text"
      },
      "source": [
        "This class has data attributes to store the number of sides, n and magnitude of each side as a list, sides.\n",
        "\n",
        "Method inputSides() takes in magnitude of each side and similarly, dispSides() will display these properly.\n",
        "\n",
        "A triangle is a polygon with 3 sides. So, we can created a class called Triangle which inherits from Polygon. This makes all the attributes available in class Polygon readily available in Triangle. We don't need to define them again (code re-usability). Triangle is defined as follows."
      ]
    },
    {
      "cell_type": "code",
      "metadata": {
        "id": "sPUXM1WWd_z4",
        "colab_type": "code",
        "colab": {}
      },
      "source": [
        "class Triangle(Polygon):\n",
        "    def __init__(self):\n",
        "        Polygon.__init__(self,3)\n",
        "\n",
        "    def findArea(self):\n",
        "        a, b, c = self.sides\n",
        "        # calculate the semi-perimeter\n",
        "        s = (a + b + c) / 2\n",
        "        area = (s*(s-a)*(s-b)*(s-c)) ** 0.5\n",
        "        print('The area of the triangle is %0.2f' %area)"
      ],
      "execution_count": 0,
      "outputs": []
    },
    {
      "cell_type": "code",
      "metadata": {
        "id": "AFcI0liSenOI",
        "colab_type": "code",
        "colab": {}
      },
      "source": [
        "t = Triangle()"
      ],
      "execution_count": 0,
      "outputs": []
    },
    {
      "cell_type": "code",
      "metadata": {
        "id": "j6udZaDzepXQ",
        "colab_type": "code",
        "colab": {
          "base_uri": "https://localhost:8080/",
          "height": 70
        },
        "outputId": "8c7d136a-ca35-4261-ef49-c5f662666449"
      },
      "source": [
        "t.inputSides()"
      ],
      "execution_count": 5,
      "outputs": [
        {
          "output_type": "stream",
          "text": [
            "Enter side 1 : 3\n",
            "Enter side 2 : 5\n",
            "Enter side 3 : 4\n"
          ],
          "name": "stdout"
        }
      ]
    },
    {
      "cell_type": "code",
      "metadata": {
        "id": "cqq5yxhies8Z",
        "colab_type": "code",
        "colab": {
          "base_uri": "https://localhost:8080/",
          "height": 70
        },
        "outputId": "226f7b4e-2909-45d0-f8cd-d66df0e33939"
      },
      "source": [
        "t.dispSides()"
      ],
      "execution_count": 6,
      "outputs": [
        {
          "output_type": "stream",
          "text": [
            "Side 1 is 3.0\n",
            "Side 2 is 5.0\n",
            "Side 3 is 4.0\n"
          ],
          "name": "stdout"
        }
      ]
    },
    {
      "cell_type": "code",
      "metadata": {
        "id": "mTSO0DD3ey5h",
        "colab_type": "code",
        "colab": {
          "base_uri": "https://localhost:8080/",
          "height": 34
        },
        "outputId": "f8da4a3a-d9a0-4aca-b0ce-5b397294b1ba"
      },
      "source": [
        "t.findArea()"
      ],
      "execution_count": 7,
      "outputs": [
        {
          "output_type": "stream",
          "text": [
            "The area of the triangle is 6.00\n"
          ],
          "name": "stdout"
        }
      ]
    },
    {
      "cell_type": "markdown",
      "metadata": {
        "id": "1Z51WDBGfa99",
        "colab_type": "text"
      },
      "source": [
        "We can see that, even though we did not define methods like inputSides() or dispSides() for class Triangle, we were able to use them.\n",
        "\n",
        "If an attribute is not found in the class, search continues to the base class. This repeats recursively, if the base class is itself derived from other classes."
      ]
    },
    {
      "cell_type": "markdown",
      "metadata": {
        "id": "QepffP5yfkzw",
        "colab_type": "text"
      },
      "source": [
        "**Method Overriding in Python**\n",
        "\n",
        "\n",
        "In the above example, notice that **\\_\\_init\\_\\_**() method was defined in both classes, Triangle as well Polygon. When this happens, the method in the derived class overrides that in the base class. This is to say, **\\_\\_init\\_\\_**() in Triangle gets preference over the same in Polygon.\n",
        "\n",
        "Generally when overriding a base method, we tend to extend the definition rather than simply replace it. The same is being done by calling the method in base class from the one in derived class (calling Polygon.**\\_\\_init\\_\\_**() from **\\_\\_init\\_\\_**() in Triangle).\n",
        "\n",
        "A better option would be to use the built-in function super(). So, **super**().**\\_\\_init\\_\\_**(3) is equivalent to **Polygon**.**\\_\\_init\\_\\_**(self,3) and is preferred. You can learn more about the **super**() function in Python.\n",
        "\n",
        "Two built-in functions **isinstance**() and **issubclass**() are used to check inheritances. Function **isinstance**() returns True if the object is an instance of the class or other classes derived from it. Each and every class in Python inherits from the base class object."
      ]
    },
    {
      "cell_type": "code",
      "metadata": {
        "id": "erefSxM7fCRa",
        "colab_type": "code",
        "colab": {
          "base_uri": "https://localhost:8080/",
          "height": 34
        },
        "outputId": "d918d895-bbe9-406d-b894-c8fb778d85b5"
      },
      "source": [
        "isinstance(t,Triangle)"
      ],
      "execution_count": 10,
      "outputs": [
        {
          "output_type": "execute_result",
          "data": {
            "text/plain": [
              "True"
            ]
          },
          "metadata": {
            "tags": []
          },
          "execution_count": 10
        }
      ]
    },
    {
      "cell_type": "code",
      "metadata": {
        "id": "VgUNECsHgQIl",
        "colab_type": "code",
        "colab": {
          "base_uri": "https://localhost:8080/",
          "height": 34
        },
        "outputId": "a2013b29-f2a1-41b4-dfe7-13643988908f"
      },
      "source": [
        "isinstance(t,Polygon)"
      ],
      "execution_count": 11,
      "outputs": [
        {
          "output_type": "execute_result",
          "data": {
            "text/plain": [
              "True"
            ]
          },
          "metadata": {
            "tags": []
          },
          "execution_count": 11
        }
      ]
    },
    {
      "cell_type": "code",
      "metadata": {
        "id": "ZJlndAGdgRNc",
        "colab_type": "code",
        "colab": {
          "base_uri": "https://localhost:8080/",
          "height": 34
        },
        "outputId": "8d01b65d-41e1-4cc1-cdc8-33d95d13d046"
      },
      "source": [
        "isinstance(t,int)"
      ],
      "execution_count": 12,
      "outputs": [
        {
          "output_type": "execute_result",
          "data": {
            "text/plain": [
              "False"
            ]
          },
          "metadata": {
            "tags": []
          },
          "execution_count": 12
        }
      ]
    },
    {
      "cell_type": "code",
      "metadata": {
        "id": "dCebueMwgSZE",
        "colab_type": "code",
        "colab": {
          "base_uri": "https://localhost:8080/",
          "height": 34
        },
        "outputId": "bab50c73-86de-4fb9-f1fc-5e0ea414e659"
      },
      "source": [
        "isinstance(t,object)"
      ],
      "execution_count": 13,
      "outputs": [
        {
          "output_type": "execute_result",
          "data": {
            "text/plain": [
              "True"
            ]
          },
          "metadata": {
            "tags": []
          },
          "execution_count": 13
        }
      ]
    },
    {
      "cell_type": "markdown",
      "metadata": {
        "id": "yp4jhiPcgZMP",
        "colab_type": "text"
      },
      "source": [
        "Similarly, issubclass() is used to check for class inheritance."
      ]
    },
    {
      "cell_type": "code",
      "metadata": {
        "id": "IwUjMAjXgUN2",
        "colab_type": "code",
        "colab": {
          "base_uri": "https://localhost:8080/",
          "height": 34
        },
        "outputId": "383bd14e-ba2f-4dc9-eff4-6df7455c89eb"
      },
      "source": [
        "issubclass(Polygon,Triangle)"
      ],
      "execution_count": 14,
      "outputs": [
        {
          "output_type": "execute_result",
          "data": {
            "text/plain": [
              "False"
            ]
          },
          "metadata": {
            "tags": []
          },
          "execution_count": 14
        }
      ]
    },
    {
      "cell_type": "code",
      "metadata": {
        "id": "3fR9XH4RgcLM",
        "colab_type": "code",
        "colab": {
          "base_uri": "https://localhost:8080/",
          "height": 34
        },
        "outputId": "9e1bcfa8-4f36-4d94-c05c-e29660624fb0"
      },
      "source": [
        "issubclass(Triangle,Polygon)"
      ],
      "execution_count": 15,
      "outputs": [
        {
          "output_type": "execute_result",
          "data": {
            "text/plain": [
              "True"
            ]
          },
          "metadata": {
            "tags": []
          },
          "execution_count": 15
        }
      ]
    },
    {
      "cell_type": "code",
      "metadata": {
        "id": "0iUHjHsKgdns",
        "colab_type": "code",
        "colab": {
          "base_uri": "https://localhost:8080/",
          "height": 34
        },
        "outputId": "1d729362-ccb4-4126-e4ac-1e8635a687ed"
      },
      "source": [
        "issubclass(bool,int)"
      ],
      "execution_count": 16,
      "outputs": [
        {
          "output_type": "execute_result",
          "data": {
            "text/plain": [
              "True"
            ]
          },
          "metadata": {
            "tags": []
          },
          "execution_count": 16
        }
      ]
    },
    {
      "cell_type": "code",
      "metadata": {
        "id": "ZCJlJa1kgeyU",
        "colab_type": "code",
        "colab": {}
      },
      "source": [
        ""
      ],
      "execution_count": 0,
      "outputs": []
    }
  ]
}