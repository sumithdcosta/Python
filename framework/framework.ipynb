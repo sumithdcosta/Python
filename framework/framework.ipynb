{
  "nbformat": 4,
  "nbformat_minor": 0,
  "metadata": {
    "colab": {
      "name": "framework.ipynb",
      "provenance": [],
      "collapsed_sections": [],
      "authorship_tag": "ABX9TyNuuZNVAig4z5gcAS+D+eY0",
      "include_colab_link": true
    },
    "kernelspec": {
      "name": "python3",
      "display_name": "Python 3"
    },
    "language_info": {
      "name": "python"
    }
  },
  "cells": [
    {
      "cell_type": "markdown",
      "metadata": {
        "id": "view-in-github",
        "colab_type": "text"
      },
      "source": [
        "<a href=\"https://colab.research.google.com/github/sumithdcosta/Python/blob/master/framework/framework.ipynb\" target=\"_parent\"><img src=\"https://colab.research.google.com/assets/colab-badge.svg\" alt=\"Open In Colab\"/></a>"
      ]
    },
    {
      "cell_type": "code",
      "metadata": {
        "colab": {
          "base_uri": "https://localhost:8080/"
        },
        "id": "emhy2nvZPq48",
        "outputId": "1cec347e-f1d7-4101-d172-828bd21027b2"
      },
      "source": [
        "!mkdir /framework\n",
        "!mkdir /framework/dev\n",
        "!mkdir /framework/dev/project\n",
        "!mkdir /framework/dev/project/conf/\n",
        "!mkdir /framework/dev/project/bin/\n",
        "!mkdir /framework/dev/project/models/\n",
        "!mkdir /framework/dev/project/lib/\n",
        "!mkdir /framework/dev/project/lib/utils\n",
        "!mkdir /framework/dev/project/lib/db\n",
        "!touch /framework/dev/project/bin/sourceFileCopy.py\n",
        "!chmod 775 /framework/dev/project/bin/sourceFileCopy.py\n",
        "!mkdir /framework/dev/project/data/\n",
        "!mkdir /framework/dev/project/data/in/\n",
        "!mkdir /framework/dev/project/data/out/\n",
        "!mkdir /framework/dev/project/data/processing/\n",
        "!mkdir /framework/dev/project/data/reject/\n",
        "!echo \"Hello World\" > /framework/dev/project/data/in/testsourcefile.csv"
      ],
      "execution_count": 11,
      "outputs": [
        {
          "output_type": "stream",
          "text": [
            "mkdir: cannot create directory ‘/framework’: File exists\n",
            "mkdir: cannot create directory ‘/framework/dev’: File exists\n",
            "mkdir: cannot create directory ‘/framework/dev/project’: File exists\n",
            "mkdir: cannot create directory ‘/framework/dev/project/conf/’: File exists\n",
            "mkdir: cannot create directory ‘/framework/dev/project/bin/’: File exists\n",
            "mkdir: cannot create directory ‘/framework/dev/project/models/’: File exists\n",
            "mkdir: cannot create directory ‘/framework/dev/project/lib/’: File exists\n",
            "mkdir: cannot create directory ‘/framework/dev/project/lib/utils’: File exists\n",
            "mkdir: cannot create directory ‘/framework/dev/project/lib/db’: File exists\n",
            "mkdir: cannot create directory ‘/framework/dev/project/data/’: File exists\n",
            "mkdir: cannot create directory ‘/framework/dev/project/data/in/’: File exists\n",
            "mkdir: cannot create directory ‘/framework/dev/project/data/out/’: File exists\n",
            "mkdir: cannot create directory ‘/framework/dev/project/data/processing/’: File exists\n",
            "mkdir: cannot create directory ‘/framework/dev/project/data/reject/’: File exists\n"
          ],
          "name": "stdout"
        }
      ]
    },
    {
      "cell_type": "code",
      "metadata": {
        "colab": {
          "base_uri": "https://localhost:8080/"
        },
        "id": "28BLcsh36-GU",
        "outputId": "f21dc9b7-0cb9-4864-f558-9a1c55af4d0b"
      },
      "source": [
        "%%writefile /framework/dev/frameWork.ksh\n",
        "if [[ $1 = *[dD][eE][vV]* ]]; then\n",
        "  export PATH = '/framework/dev/'\n",
        "fi \n",
        "\n",
        "if [[ $1 = *[dD][eE][vV]* ]]; then\n",
        "  export PATH = '/framework/qa/'\n",
        "fi "
      ],
      "execution_count": 4,
      "outputs": [
        {
          "output_type": "stream",
          "text": [
            "Writing /framework/dev/frameWork.ksh\n"
          ],
          "name": "stdout"
        }
      ]
    },
    {
      "cell_type": "code",
      "metadata": {
        "colab": {
          "base_uri": "https://localhost:8080/"
        },
        "id": "WakrFKIC5Wr2",
        "outputId": "2bdff9fd-3fac-45e0-8c20-2443d5ebb74a"
      },
      "source": [
        "%%writefile /framework/dev/project/conf/project.ksh\n",
        "if [[ $1 = *[dD][eE][vV]* ]]; then\n",
        "  export PATH = '/framework/dev/project'\n",
        "fi \n",
        "\n",
        "if [[ $1 = *[dD][eE][vV]* ]]; then\n",
        "  export PATH = '/framework/qa/project'\n",
        "fi \n"
      ],
      "execution_count": 5,
      "outputs": [
        {
          "output_type": "stream",
          "text": [
            "Writing /framework/dev/project/conf/project.ksh\n"
          ],
          "name": "stdout"
        }
      ]
    },
    {
      "cell_type": "code",
      "metadata": {
        "colab": {
          "base_uri": "https://localhost:8080/"
        },
        "id": "nCiDBnamSxng",
        "outputId": "2bd81c92-f45e-4165-cb9a-78ebe0068199"
      },
      "source": [
        "%%writefile /framework/dev/project/bin/genExecute.ksh\n",
        "#!/bin/ksh\n",
        "\n",
        "#check for Environment and running profiles\n",
        "dirName=`dirname $0`\n",
        "\n",
        "if [[ $dirName = *[dD][eE][vV]* ]]\n",
        "  then\n",
        "  export environment=\"DEV\"\n",
        "  echo $environment\n",
        "elif [[ $dirName = *[qQ][aQ]* ]]\n",
        "  then\n",
        "  export environment=\"QA\"\n",
        "  echo $environment\n",
        "else\n",
        "  export environment=\"UNKNOWN\"\n",
        "  echo $environment\n",
        "  exit 6\n",
        "fi \n",
        "\n",
        "CONFPATH=`echo $dirName|sed -e 's/bin/conf/g'`\n",
        "if [ ! -f \"${CONFPATH}/project.ksh\" ];then\n",
        "  echo \"${CONFPATH}/project.ksh is missing\"\n",
        "  exit 7\n",
        "fi\n",
        "echo \"sourcing ${CONFPATH}/project.ksh\"\n",
        ". ${CONFPATH}/project.ksh $environment 2>/dev/null 1>/dev/null\n",
        "\n",
        "CONFPATH=`echo $dirName|sed -e 's/project\\/bin//g'`\n",
        "if [ ! -f \"${CONFPATH}/frameWork.ksh\" ];then\n",
        "  echo \"${CONFPATH}/frameWork.ksh is missing\"\n",
        "  exit 7\n",
        "fi\n",
        "echo \"sourcing ${CONFPATH}/frameWork.ksh\"\n",
        ". ${CONFPATH}/frameWork.ksh $environment 2>/dev/null 1>/dev/null\n",
        "\n",
        "echo $(dirname $0)/$*\n",
        "$(dirname $0)/$*\n"
      ],
      "execution_count": 6,
      "outputs": [
        {
          "output_type": "stream",
          "text": [
            "Writing /framework/dev/project/bin/genExecute.ksh\n"
          ],
          "name": "stdout"
        }
      ]
    },
    {
      "cell_type": "code",
      "metadata": {
        "colab": {
          "base_uri": "https://localhost:8080/"
        },
        "id": "x1w38cKT0ZEt",
        "outputId": "2afee558-b73d-4552-d4f9-aada41e79f77"
      },
      "source": [
        "%%writefile /framework/dev/project/conf/sourceFileCopyConf.json\n",
        "{\n",
        "    \"1\":{\n",
        "        \"step-types\":{\n",
        "            \"FILE_COPY\":[{\n",
        "                \"templateName\":\"SOURCE_FILE_COPY\",\n",
        "                \"SOURCE\":{\n",
        "                    \"Parameters\":[{\n",
        "                        \"SOURCE_PATH\":\"/framework/dev/project/data/in/\",\n",
        "                        \"SOURCE_FILE\":\"testsourcefile.csv\"\n",
        "                    }]\n",
        "                },\n",
        "                \"TARGET\":{\n",
        "                    \"Parameters\":[{\n",
        "                        \"TARGET_PATH\":\"/framework/dev/project/data/processing/\",\n",
        "                        \"APPEND_TIMESTAMP\":\"True\"\n",
        "                    }]\n",
        "                }\n",
        "            }]\n",
        "        }\n",
        "    }\n",
        "}"
      ],
      "execution_count": 29,
      "outputs": [
        {
          "output_type": "stream",
          "text": [
            "Overwriting /framework/dev/project/conf/sourceFileCopyConf.json\n"
          ],
          "name": "stdout"
        }
      ]
    },
    {
      "cell_type": "code",
      "metadata": {
        "colab": {
          "base_uri": "https://localhost:8080/"
        },
        "id": "dvlwkXtZqkLx",
        "outputId": "23223be9-5186-44c2-ee54-1e291bba8ac3"
      },
      "source": [
        "%%writefile /framework/dev/project/bin/sourceFileCopy.py\n",
        "#!/usr/local/bin/python\n",
        "#generic script to caopy the source data\n",
        "#Name           : sourceFileCopy.py\n",
        "#Descritpion    : script copies/move file from source directory\n",
        "#\n",
        "#/../../sourceFileCopy.ksh -cfg sourceFileCopyConfig.json\n",
        "#History\n",
        "#Version      | Date        | Editor      |Comment\n",
        "#-------------------------------------------------------------------------\n",
        "#1            | 28/07/2021  | Sumith      | initial version\n",
        "#\n",
        "import os\n",
        "import sys\n",
        "import argparse\n",
        "import logging\n",
        "import signal\n",
        "import threading\n",
        "import time\n",
        "from os import path\n",
        "import json\n",
        "\n",
        "lib_path = os.path.abspath(os.path.join(__file__,'..','..','lib'))\n",
        "sys.path.append(lib_path)\n",
        "\n",
        "class sourceFileCopyBase(object):\n",
        "  \"\"\"base Class for task SourceFileCopy\n",
        "  \"\"\"\n",
        "  sleep_timeout = 1\n",
        "    \n",
        "  def __init__(self, app_name):\n",
        "    \"\"\"Constructor.\n",
        "    \"\"\"\n",
        "    self._log = logging.getLogger('')\n",
        "    self._app_name = app_name\n",
        "    self._stop_event = threading.Event()\n",
        "\n",
        "  def __del__(self):\n",
        "    pass\n",
        "\n",
        "  def _on_start(self):\n",
        "    \"\"\"Subclass to implement what needs to run dring start of process\n",
        "    \"\"\"\n",
        "    pass\n",
        "\n",
        "  def _on_stop(self):\n",
        "    \"\"\"Subclass to implement what needs to run dring start of process\n",
        "    \"\"\"\n",
        "    pass      \n",
        "\n",
        "  def _install_signal_handlers(self):\n",
        "    \"\"\"Install signal handler for the process.\n",
        "    \"\"\"\n",
        "    self._log.debug('Installing Signal handler')   \n",
        "\n",
        "    def handler(signum, _):\n",
        "      \"\"\"signal handler.\n",
        "      \"\"\"\n",
        "      self._log.warning('Got Signal %s', signum)\n",
        "      self._on_stop()\n",
        "      sys.exit(signum)   \n",
        "\n",
        "      for sig in (signal.SIGHUP, signal.SIGINT, signal.SIGTERM,\n",
        "                  signal.SIGQUIT, signal.SIGABRT):\n",
        "        signal.signal(sig, handler)\n",
        "\n",
        "  def readConfigFile(self, configFile):\n",
        "    if path.exists(configFile):\n",
        "      self._log.info('reading config file')\n",
        "      with open(configFile) as configFile:\n",
        "        configData = json.load(configFile)\n",
        "      self._log.debug('configData : %s', json.dumps(configData, indent=4))\n",
        "    return configData\n",
        "\n",
        "  def _main_loop(self, configData):\n",
        "    \"\"\"Main Loop\n",
        "    \"\"\"\n",
        "    for key in range(1, 99):\n",
        "      try:\n",
        "        (configData[str(key)])\n",
        "      except KeyError:\n",
        "        self._log.info('No More steps')\n",
        "        break\n",
        "\n",
        "  def run(self, configFile):\n",
        "    \"\"\"Run application\n",
        "    \"\"\"\n",
        "    self.configFile = configFile\n",
        "    \n",
        "    self._log.info('HOSTNAME : %s', os.uname()[1])\n",
        "    self._log.info('USERID : %s', os.environ.get('USER'))\n",
        "    self._log.info('SCRIPT PATH : %s', os.path.abspath(__file__))\n",
        "    self._log.info('ConfigFile : %s', self.configFile)\n",
        "\n",
        "    exit_status = 0\n",
        "    self._install_signal_handlers()\n",
        "\n",
        "    try:\n",
        "      self._on_start()\n",
        "      configData = self.readConfigFile(configFile)\n",
        "      self._main_loop(configData)\n",
        "    except BaseException as exc:\n",
        "      self._log.exception('Unrecoverable exception in %s main loop.'\n",
        "                          'Exiting: %s', self._app_name, exc)\n",
        "      exit_status = 1\n",
        "    finally:\n",
        "      self._on_stop()\n",
        "      self._log.info('Done.')\n",
        "    return exit_status\n",
        "    \n",
        "\n",
        "def main(config):\n",
        "\n",
        "  class sourceFileCopy(sourceFileCopyBase):\n",
        "    \"\"\"initializing base call\n",
        "    \"\"\"\n",
        "\n",
        "  if (config.debug):\n",
        "    logging.basicConfig(format='%(asctime)s:%(filename)s[%(lineno)d]:%(process)d:%(levelname)s: %(message)s', datefmt='%m/%d/%Y %I:%M:%S %p', level=logging.DEBUG)\n",
        "  else:\n",
        "    logging.basicConfig(format='%(asctime)s:%(filename)s[%(lineno)d]:%(process)d:%(levelname)s: %(message)s', datefmt='%m/%d/%Y %I:%M:%S %p', level=logging.INFO)\n",
        "\n",
        "  configFile = config.configfile\n",
        "  returnCode = sourceFileCopy('SourceFileCopy').run(configFile)\n",
        "  if returnCode != 0:\n",
        "    sys.exit(1)\n",
        "\n",
        "\n",
        "if __name__ == '__main__':\n",
        "  parser = argparse.ArgumentParser(description='''Description : Source File copy ''',\n",
        "                                   formatter_class=argparse.RawDescriptionHelpFormatter,\n",
        "                                   epilog='''USAGE; {0} -cfg [config] '''.format(os.path.basename(sys.argv[0])))\n",
        "  \n",
        "  parser.add_argument('--configfile', '-c',\n",
        "                      help='Config json file',\n",
        "                      required=True)\n",
        "  \n",
        "  parser.add_argument('--debug', '-v',\n",
        "                      action='store_true',\n",
        "                      help='Debug/Verbose Mode')\n",
        "  \n",
        "  config = parser.parse_args(sys.argv[1:])\n",
        "\n",
        "  main(config)"
      ],
      "execution_count": 33,
      "outputs": [
        {
          "output_type": "stream",
          "text": [
            "Overwriting /framework/dev/project/bin/sourceFileCopy.py\n"
          ],
          "name": "stdout"
        }
      ]
    },
    {
      "cell_type": "code",
      "metadata": {
        "colab": {
          "base_uri": "https://localhost:8080/"
        },
        "id": "NOzH-Xu9UTzl",
        "outputId": "e86e3c2a-7277-403f-94ef-66ef04259f7b"
      },
      "source": [
        "!/bin/bash /framework/dev/project/bin/genExecute.ksh sourceFileCopy.py --config /framework/dev/project/conf/sourceFileCopyConf.json"
      ],
      "execution_count": 34,
      "outputs": [
        {
          "output_type": "stream",
          "text": [
            "DEV\n",
            "sourcing /framework/dev/project/conf/project.ksh\n",
            "sourcing /framework/dev//frameWork.ksh\n",
            "/framework/dev/project/bin/sourceFileCopy.py --config /framework/dev/project/conf/sourceFileCopyConf.json\n",
            "07/28/2021 04:15:14 PM:sourceFileCopy.py[89]:646:INFO: HOSTNAME : 205e1b142eea\n",
            "07/28/2021 04:15:14 PM:sourceFileCopy.py[90]:646:INFO: USERID : None\n",
            "07/28/2021 04:15:14 PM:sourceFileCopy.py[91]:646:INFO: SCRIPT PATH : /framework/dev/project/bin/sourceFileCopy.py\n",
            "07/28/2021 04:15:14 PM:sourceFileCopy.py[92]:646:INFO: ConfigFile : /framework/dev/project/conf/sourceFileCopyConf.json\n",
            "07/28/2021 04:15:14 PM:sourceFileCopy.py[68]:646:INFO: reading config file\n",
            "07/28/2021 04:15:14 PM:sourceFileCopy.py[81]:646:INFO: No More steps\n",
            "07/28/2021 04:15:14 PM:sourceFileCopy.py[107]:646:INFO: Done.\n"
          ],
          "name": "stdout"
        }
      ]
    },
    {
      "cell_type": "code",
      "metadata": {
        "colab": {
          "base_uri": "https://localhost:8080/"
        },
        "id": "6VSV4wlztDvI",
        "outputId": "47025b36-391b-4cc7-d8e2-ef6afd617eeb"
      },
      "source": [
        "!/bin/bash /framework/dev/project/bin/genExecute.ksh sourceFileCopy.py --config /framework/dev/project/conf/sourceFileCopyConf.json --debug"
      ],
      "execution_count": 35,
      "outputs": [
        {
          "output_type": "stream",
          "text": [
            "DEV\n",
            "sourcing /framework/dev/project/conf/project.ksh\n",
            "sourcing /framework/dev//frameWork.ksh\n",
            "/framework/dev/project/bin/sourceFileCopy.py --config /framework/dev/project/conf/sourceFileCopyConf.json --debug\n",
            "07/28/2021 04:15:16 PM:sourceFileCopy.py[89]:666:INFO: HOSTNAME : 205e1b142eea\n",
            "07/28/2021 04:15:16 PM:sourceFileCopy.py[90]:666:INFO: USERID : None\n",
            "07/28/2021 04:15:16 PM:sourceFileCopy.py[91]:666:INFO: SCRIPT PATH : /framework/dev/project/bin/sourceFileCopy.py\n",
            "07/28/2021 04:15:16 PM:sourceFileCopy.py[92]:666:INFO: ConfigFile : /framework/dev/project/conf/sourceFileCopyConf.json\n",
            "07/28/2021 04:15:16 PM:sourceFileCopy.py[53]:666:DEBUG: Installing Signal handler\n",
            "07/28/2021 04:15:16 PM:sourceFileCopy.py[68]:666:INFO: reading config file\n",
            "07/28/2021 04:15:16 PM:sourceFileCopy.py[71]:666:DEBUG: configData : {\n",
            "    \"1\": {\n",
            "        \"step-types\": {\n",
            "            \"FILE_COPY\": [\n",
            "                {\n",
            "                    \"templateName\": \"SOURCE_FILE_COPY\",\n",
            "                    \"SOURCE\": {\n",
            "                        \"Parameters\": [\n",
            "                            {\n",
            "                                \"SOURCE_PATH\": \"/framework/dev/project/data/in/\",\n",
            "                                \"SOURCE_FILE\": \"testsourcefile.csv\"\n",
            "                            }\n",
            "                        ]\n",
            "                    },\n",
            "                    \"TARGET\": {\n",
            "                        \"Parameters\": [\n",
            "                            {\n",
            "                                \"TARGET_PATH\": \"/framework/dev/project/data/processing/\",\n",
            "                                \"APPEND_TIMESTAMP\": \"True\"\n",
            "                            }\n",
            "                        ]\n",
            "                    }\n",
            "                }\n",
            "            ]\n",
            "        }\n",
            "    }\n",
            "}\n",
            "07/28/2021 04:15:16 PM:sourceFileCopy.py[81]:666:INFO: No More steps\n",
            "07/28/2021 04:15:16 PM:sourceFileCopy.py[107]:666:INFO: Done.\n"
          ],
          "name": "stdout"
        }
      ]
    },
    {
      "cell_type": "code",
      "metadata": {
        "colab": {
          "base_uri": "https://localhost:8080/"
        },
        "id": "U2zE2h7J3C63",
        "outputId": "3b45b8bd-5f9e-4f1b-b265-aef7e2ae2fc0"
      },
      "source": [
        "!cat /framework/dev/project/data/in/testsourcefile.csv"
      ],
      "execution_count": 12,
      "outputs": [
        {
          "output_type": "stream",
          "text": [
            "Hello World\n"
          ],
          "name": "stdout"
        }
      ]
    },
    {
      "cell_type": "code",
      "metadata": {
        "colab": {
          "base_uri": "https://localhost:8080/"
        },
        "id": "yum73mPl2XCu",
        "outputId": "410a856f-f91e-4828-9c74-2d8d7e2832f8"
      },
      "source": [
        "ls -rlt /framework/dev/project/conf/sourceFileCopyConf.json"
      ],
      "execution_count": 24,
      "outputs": [
        {
          "output_type": "stream",
          "text": [
            "-rw-r--r-- 1 root root 616 Jul 28 16:01 /framework/dev/project/conf/sourceFileCopyConf.json\n"
          ],
          "name": "stdout"
        }
      ]
    },
    {
      "cell_type": "code",
      "metadata": {
        "id": "_3opLTpV4gpD"
      },
      "source": [
        ""
      ],
      "execution_count": null,
      "outputs": []
    }
  ]
}