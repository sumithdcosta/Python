{
  "nbformat": 4,
  "nbformat_minor": 0,
  "metadata": {
    "colab": {
      "name": "framework.ipynb",
      "provenance": [],
      "collapsed_sections": [],
      "authorship_tag": "ABX9TyOk++TaE5PVEqz6kVSH90uB",
      "include_colab_link": true
    },
    "kernelspec": {
      "name": "python3",
      "display_name": "Python 3"
    },
    "language_info": {
      "name": "python"
    }
  },
  "cells": [
    {
      "cell_type": "markdown",
      "metadata": {
        "id": "view-in-github",
        "colab_type": "text"
      },
      "source": [
        "<a href=\"https://colab.research.google.com/github/sumithdcosta/Python/blob/master/framework/framework.ipynb\" target=\"_parent\"><img src=\"https://colab.research.google.com/assets/colab-badge.svg\" alt=\"Open In Colab\"/></a>"
      ]
    },
    {
      "cell_type": "code",
      "metadata": {
        "id": "emhy2nvZPq48"
      },
      "source": [
        "!mkdir /framework\n",
        "!mkdir /framework/dev\n",
        "!mkdir /framework/dev/project\n",
        "!mkdir /framework/dev/project/conf/\n",
        "!mkdir /framework/dev/project/bin/\n",
        "!mkdir /framework/dev/project/models/\n",
        "!mkdir /framework/dev/project/lib/\n",
        "!mkdir /framework/dev/project/lib/utils\n",
        "!mkdir /framework/dev/project/lib/db\n",
        "!touch /framework/dev/project/bin/sourceFileCopy.py\n",
        "!chmod 775 /framework/dev/project/bin/sourceFileCopy.py\n",
        "!mkdir /framework/dev/project/data/\n",
        "!mkdir /framework/dev/project/data/in/\n",
        "!mkdir /framework/dev/project/data/out/\n",
        "!mkdir /framework/dev/project/data/processing/\n",
        "!mkdir /framework/dev/project/data/reject/\n",
        "!echo \"Hello World\" > /framework/dev/project/data/in/testsourcefile.csv"
      ],
      "execution_count": 1,
      "outputs": []
    },
    {
      "cell_type": "code",
      "metadata": {
        "colab": {
          "base_uri": "https://localhost:8080/"
        },
        "id": "28BLcsh36-GU",
        "outputId": "032417f5-e942-4b43-8ac1-55e07138bedc"
      },
      "source": [
        "%%writefile /framework/dev/frameWork.ksh\n",
        "if [[ $1 = *[dD][eE][vV]* ]]; then\n",
        "  export PATH = '/framework/dev/'\n",
        "fi \n",
        "\n",
        "if [[ $1 = *[dD][eE][vV]* ]]; then\n",
        "  export PATH = '/framework/qa/'\n",
        "fi "
      ],
      "execution_count": 2,
      "outputs": [
        {
          "output_type": "stream",
          "text": [
            "Writing /framework/dev/frameWork.ksh\n"
          ],
          "name": "stdout"
        }
      ]
    },
    {
      "cell_type": "code",
      "metadata": {
        "colab": {
          "base_uri": "https://localhost:8080/"
        },
        "id": "WakrFKIC5Wr2",
        "outputId": "adcf9454-3345-41bd-de49-21c36129cff6"
      },
      "source": [
        "%%writefile /framework/dev/project/conf/project.ksh\n",
        "if [[ $1 = *[dD][eE][vV]* ]]; then\n",
        "  export PATH = '/framework/dev/project'\n",
        "fi \n",
        "\n",
        "if [[ $1 = *[dD][eE][vV]* ]]; then\n",
        "  export PATH = '/framework/qa/project'\n",
        "fi \n"
      ],
      "execution_count": 3,
      "outputs": [
        {
          "output_type": "stream",
          "text": [
            "Writing /framework/dev/project/conf/project.ksh\n"
          ],
          "name": "stdout"
        }
      ]
    },
    {
      "cell_type": "code",
      "metadata": {
        "colab": {
          "base_uri": "https://localhost:8080/"
        },
        "id": "nCiDBnamSxng",
        "outputId": "9e886688-07ab-4792-d0d4-98af2db964b3"
      },
      "source": [
        "%%writefile /framework/dev/project/bin/genExecute.ksh\n",
        "#!/bin/ksh\n",
        "\n",
        "#check for Environment and running profiles\n",
        "dirName=`dirname $0`\n",
        "\n",
        "if [[ $dirName = *[dD][eE][vV]* ]]\n",
        "  then\n",
        "  export environment=\"DEV\"\n",
        "  echo $environment\n",
        "elif [[ $dirName = *[qQ][aQ]* ]]\n",
        "  then\n",
        "  export environment=\"QA\"\n",
        "  echo $environment\n",
        "else\n",
        "  export environment=\"UNKNOWN\"\n",
        "  echo $environment\n",
        "  exit 6\n",
        "fi \n",
        "\n",
        "CONFPATH=`echo $dirName|sed -e 's/bin/conf/g'`\n",
        "if [ ! -f \"${CONFPATH}/project.ksh\" ];then\n",
        "  echo \"${CONFPATH}/project.ksh is missing\"\n",
        "  exit 7\n",
        "fi\n",
        "echo \"sourcing ${CONFPATH}/project.ksh\"\n",
        ". ${CONFPATH}/project.ksh $environment 2>/dev/null 1>/dev/null\n",
        "\n",
        "CONFPATH=`echo $dirName|sed -e 's/project\\/bin//g'`\n",
        "if [ ! -f \"${CONFPATH}/frameWork.ksh\" ];then\n",
        "  echo \"${CONFPATH}/frameWork.ksh is missing\"\n",
        "  exit 7\n",
        "fi\n",
        "echo \"sourcing ${CONFPATH}/frameWork.ksh\"\n",
        ". ${CONFPATH}/frameWork.ksh $environment 2>/dev/null 1>/dev/null\n",
        "\n",
        "echo $(dirname $0)/$*\n",
        "$(dirname $0)/$*\n"
      ],
      "execution_count": 4,
      "outputs": [
        {
          "output_type": "stream",
          "text": [
            "Writing /framework/dev/project/bin/genExecute.ksh\n"
          ],
          "name": "stdout"
        }
      ]
    },
    {
      "cell_type": "code",
      "metadata": {
        "colab": {
          "base_uri": "https://localhost:8080/"
        },
        "id": "x1w38cKT0ZEt",
        "outputId": "f778ba1c-e3b5-4b9e-86c2-e10d394613a6"
      },
      "source": [
        "%%writefile /framework/dev/project/conf/sourceFileCopyConf.json\n",
        "{\n",
        "    \"1\":{\n",
        "        \"step-types\":{\n",
        "            \"FILE_COPY\":[{\n",
        "                \"templateName\":\"SOURCE_FILE_COPY\",\n",
        "                \"SOURCE\":{\n",
        "                    \"Parameters\":[{\n",
        "                        \"SOURCE_PATH\":\"/framework/dev/project/data/in/\",\n",
        "                        \"SOURCE_FILE\":\"testsourcefile.csv\"\n",
        "                    }]\n",
        "                },\n",
        "                \"TARGET\":{\n",
        "                    \"Parameters\":[{\n",
        "                        \"TARGET_PATH\":\"/framework/dev/project/data/processing/\"                        \n",
        "                    }]\n",
        "                }\n",
        "            }]\n",
        "        }\n",
        "    }\n",
        "}"
      ],
      "execution_count": 118,
      "outputs": [
        {
          "output_type": "stream",
          "text": [
            "Overwriting /framework/dev/project/conf/sourceFileCopyConf.json\n"
          ],
          "name": "stdout"
        }
      ]
    },
    {
      "cell_type": "code",
      "metadata": {
        "colab": {
          "base_uri": "https://localhost:8080/"
        },
        "id": "h1OrbTWXes9k",
        "outputId": "b0358458-c735-4d10-f2ef-be7e1714d5e5"
      },
      "source": [
        "%%writefile /framework/dev/project/conf/sourceFileCopyAppendTimeStampConf.json\n",
        "{\n",
        "    \"1\":{\n",
        "        \"step-types\":{\n",
        "            \"FILE_COPY\":[{\n",
        "                \"templateName\":\"SOURCE_FILE_COPY\",\n",
        "                \"SOURCE\":{\n",
        "                    \"Parameters\":[{\n",
        "                        \"SOURCE_PATH\":\"/framework/dev/project/data/in/\",\n",
        "                        \"SOURCE_FILE\":\"testsourcefile.csv\"\n",
        "                    }]\n",
        "                },\n",
        "                \"TARGET\":{\n",
        "                    \"Parameters\":[{\n",
        "                        \"TARGET_PATH\":\"/framework/dev/project/data/processing/\",\n",
        "                        \"APPEND_TIMESTAMP\":\"True\"\n",
        "                    }]\n",
        "                }\n",
        "            }]\n",
        "        }\n",
        "    }\n",
        "}"
      ],
      "execution_count": 119,
      "outputs": [
        {
          "output_type": "stream",
          "text": [
            "Overwriting /framework/dev/project/conf/sourceFileCopyAppendTimeStampConf.json\n"
          ],
          "name": "stdout"
        }
      ]
    },
    {
      "cell_type": "code",
      "metadata": {
        "colab": {
          "base_uri": "https://localhost:8080/"
        },
        "id": "oacoN2VApI5S",
        "outputId": "e351af31-8c98-4c8a-e6e1-2f7737b057eb"
      },
      "source": [
        "%%writefile /framework/dev/project/conf/sourceFileMoveConf.json\n",
        "{\n",
        "    \"1\":{\n",
        "        \"step-types\":{\n",
        "            \"FILE_MOVE\":[{\n",
        "                \"templateName\":\"SOURCE_FILE_MOVE\",\n",
        "                \"SOURCE\":{\n",
        "                    \"Parameters\":[{\n",
        "                        \"SOURCE_PATH\":\"/framework/dev/project/data/in/\",\n",
        "                        \"SOURCE_FILE\":\"testsourcefile.csv\"\n",
        "                    }]\n",
        "                },\n",
        "                \"TARGET\":{\n",
        "                    \"Parameters\":[{\n",
        "                        \"TARGET_PATH\":\"/framework/dev/project/data/processing/\"                        \n",
        "                    }]\n",
        "                }\n",
        "            }]\n",
        "        }\n",
        "    }\n",
        "}"
      ],
      "execution_count": 120,
      "outputs": [
        {
          "output_type": "stream",
          "text": [
            "Overwriting /framework/dev/project/conf/sourceFileMoveConf.json\n"
          ],
          "name": "stdout"
        }
      ]
    },
    {
      "cell_type": "code",
      "metadata": {
        "colab": {
          "base_uri": "https://localhost:8080/"
        },
        "id": "cUF2OcMPpWjs",
        "outputId": "a5d77303-72cc-4a8f-dc9d-f5bddf494301"
      },
      "source": [
        "%%writefile /framework/dev/project/conf/sourceFileMoveAppendTimeStampConf.json\n",
        "{\n",
        "    \"1\":{\n",
        "        \"step-types\":{\n",
        "            \"FILE_MOVE\":[{\n",
        "                \"templateName\":\"SOURCE_FILE_MOVE\",\n",
        "                \"SOURCE\":{\n",
        "                    \"Parameters\":[{\n",
        "                        \"SOURCE_PATH\":\"/framework/dev/project/data/in/\",\n",
        "                        \"SOURCE_FILE\":\"testsourcefile.csv\"\n",
        "                    }]\n",
        "                },\n",
        "                \"TARGET\":{\n",
        "                    \"Parameters\":[{\n",
        "                        \"TARGET_PATH\":\"/framework/dev/project/data/processing/\",\n",
        "                        \"APPEND_TIMESTAMP\":\"True\"\n",
        "                    }]\n",
        "                }\n",
        "            }]\n",
        "        }\n",
        "    }\n",
        "}"
      ],
      "execution_count": 121,
      "outputs": [
        {
          "output_type": "stream",
          "text": [
            "Overwriting /framework/dev/project/conf/sourceFileMoveAppendTimeStampConf.json\n"
          ],
          "name": "stdout"
        }
      ]
    },
    {
      "cell_type": "code",
      "metadata": {
        "colab": {
          "base_uri": "https://localhost:8080/"
        },
        "id": "Onx-gxeqacIT",
        "outputId": "524cbd08-b169-49f6-f021-6bb325795d18"
      },
      "source": [
        "%%writefile /framework/dev/project/lib/utils/__init__.py\n",
        "from lib.utils.unixOperations import unixOperations"
      ],
      "execution_count": 122,
      "outputs": [
        {
          "output_type": "stream",
          "text": [
            "Overwriting /framework/dev/project/lib/utils/__init__.py\n"
          ],
          "name": "stdout"
        }
      ]
    },
    {
      "cell_type": "code",
      "metadata": {
        "colab": {
          "base_uri": "https://localhost:8080/"
        },
        "id": "C9t7SO4EJyZH",
        "outputId": "9359e7a6-d6cb-426b-efdd-0855df6c8ef2"
      },
      "source": [
        "%%writefile /framework/dev/project/lib/utils/unixOperations.py\n",
        "#!/usr/local/bin/python\n",
        "import logging\n",
        "import glob\n",
        "import shutil\n",
        "import sys\n",
        "import os\n",
        "from datetime import datetime\n",
        "import zipfile\n",
        "from os.path import join\n",
        "\n",
        "lib_path = os.path.abspath(os.path.join(__file__,'..','..'))\n",
        "sys.path.append(lib_path)\n",
        "\n",
        "class unixOperations():\n",
        "\n",
        "  def __init__(self):\n",
        "    self._log = logging.getLogger('unixOperations')\n",
        "\n",
        "  def __del__(self):\n",
        "    pass\n",
        "\n",
        "  def _on_start(self):\n",
        "    pass\n",
        "\n",
        "  def _on_stop(self):\n",
        "    pass\n",
        "\n",
        "  def getFileList(self, rawFileName):\n",
        "    self.rawFileName = rawFileName\n",
        "    self.fileList = [files for files in glob.glob(self.rawFileName)]\n",
        "    return self.fileList\n",
        "\n",
        "  def touchFile(self, outdir, outfile):\n",
        "    self._log.info('touch file : %s%s' %(outdir, outfile))\n",
        "    open(outdir+'/'+outfile, 'a').close()\n",
        "    os.utime(outdir+'/'+outfile, None)\n",
        "\n",
        "  def fileCopy(self, indir, infile, outdir, outfile):\n",
        "    self.touchFile(outdir, outfile)\n",
        "    self._log.info('copy file: %s/%s to %s/%s' %(indir, infile, outdir, outfile))\n",
        "    shutil.copy(indir+'/'+infile, outdir+'/'+outfile)\n",
        "    self._log.info('Copy Completed')\n",
        "\n",
        "  def copyFileToDirectory(self, absFileNameToCopy, targetPath):\n",
        "    self.absFileNameToCopy = absFileNameToCopy\n",
        "    self.targetPath = targetPath\n",
        "    if not os.path.exists(self.targetPath):\n",
        "      os.makedirs(self.targetPath)\n",
        "    if os.path.isfile(self.absFileNameToCopy):\n",
        "      self._log.info(\"Copy file from :\" + self.absFileNameToCopy + \" To \" + self.targetPath)\n",
        "      shutil.copy2((self.absFileNameToCopy),(self.targetPath))\n",
        "    else:\n",
        "      self._log.info(\"Error while Copying file :\" + self.absFileNameToCopy)\n",
        "\n",
        "  def copyFile(self, absFileNameToCopy, absTargetFileName):\n",
        "    self.absFileNameToCopy = absFileNameToCopy\n",
        "    self.absTargetFileName = absTargetFileName\n",
        "    if os.path.isfile(self.absFileNameToCopy):\n",
        "      self._log.info(\"Copy file from :\" + self.absFileNameToCopy + \" To \" + self.absTargetFileName)\n",
        "      shutil.copy2((self.absFileNameToCopy),(self.absTargetFileName))\n",
        "    else:\n",
        "      self._log.info(\"Error while Copying file :\" + self.absFileNameToCopy)\n",
        "\n",
        "  def moveFileToDirectory(self, absFileNameToMove, targetPath):\n",
        "    self.absFileNameToMove = absFileNameToMove\n",
        "    self.targetPath = targetPath\n",
        "    if not os.path.exists(self.targetPath):\n",
        "      os.makedirs(self.targetPath)\n",
        "    if os.path.isfile(self.absFileNameToMove):\n",
        "      self._log.info(\"Move file from :\" + self.absFileNameToMove + \" To \" + self.targetPath)\n",
        "      shutil.copy2((self.absFileNameToMove),(self.targetPath))\n",
        "      os.remove(self.absFileNameToMove)\n",
        "    else:\n",
        "      self._log.info(\"Error while Moving file :\" + self.absFileNameToMove)\n",
        "\n",
        "  def moveFile(self, absFileNameToMove, absTargetFileName):\n",
        "    self.absFileNameToMove = absFileNameToMove\n",
        "    self.absTargetFileName = absTargetFileName\n",
        "    if os.path.isfile(self.absFileNameToMove):\n",
        "      self._log.info(\"Move file from :\" + self.absFileNameToMove + \" To \" + self.absTargetFileName)\n",
        "      shutil.copy2((self.absFileNameToMove),(self.absTargetFileName))\n",
        "      os.remove(self.absFileNameToMove)\n",
        "    else:\n",
        "      self._log.info(\"Error while Moving file :\" + self.absFileNameToMove)\n",
        "\n",
        "\n"
      ],
      "execution_count": 142,
      "outputs": [
        {
          "output_type": "stream",
          "text": [
            "Overwriting /framework/dev/project/lib/utils/unixOperations.py\n"
          ],
          "name": "stdout"
        }
      ]
    },
    {
      "cell_type": "code",
      "metadata": {
        "colab": {
          "base_uri": "https://localhost:8080/"
        },
        "id": "l2ljseynIwzh",
        "outputId": "c288c4d2-c772-4c7e-f9aa-28e1a817382e"
      },
      "source": [
        "%%writefile /framework/dev/project/models/__init__.py\n",
        "from models.fileCopy import fileCopy\n",
        "from models.fileMove import fileMove"
      ],
      "execution_count": 143,
      "outputs": [
        {
          "output_type": "stream",
          "text": [
            "Overwriting /framework/dev/project/models/__init__.py\n"
          ],
          "name": "stdout"
        }
      ]
    },
    {
      "cell_type": "code",
      "metadata": {
        "colab": {
          "base_uri": "https://localhost:8080/"
        },
        "id": "EI82jA1d9vej",
        "outputId": "476e8fd3-387a-4e64-b90a-25c805c18fd8"
      },
      "source": [
        "%%writefile /framework/dev/project/models/fileCopy.py\n",
        "#!/usr/local/bin/python\n",
        "import logging\n",
        "import glob\n",
        "import shutil\n",
        "import sys\n",
        "import os\n",
        "from os.path import isfile, join\n",
        "from datetime import datetime\n",
        "\n",
        "lib_path = os.path.abspath(os.path.join(__file__,'..','..'))\n",
        "sys.path.append(lib_path)\n",
        "\n",
        "from lib.utils.unixOperations import unixOperations\n",
        "\n",
        "class fileCopy():\n",
        "\n",
        "  def __init__(self):\n",
        "    self._log = logging.getLogger('fileCopy')\n",
        "\n",
        "  def __del__(self):\n",
        "    pass\n",
        "  \n",
        "  def _on_start(self):\n",
        "    pass\n",
        "\n",
        "  def _on_stop():\n",
        "    pass\n",
        "  \n",
        "  def copy(self, configData):\n",
        "    self.configData = configData\n",
        "    self._log.debug('copy configData: %s', (configData))\n",
        "\n",
        "    #reading source information from JSON file\n",
        "    self.sourceFileParameters = self.configData[\"SOURCE\"][\"Parameters\"]\n",
        "    self._log.info('sourceFileParameters : %s ', (self.sourceFileParameters))\n",
        "\n",
        "    #reading target information from JSON file\n",
        "    self.targetFileParameters = self.configData[\"TARGET\"][\"Parameters\"]\n",
        "    self._log.info('targetFileParameters : %s ', (self.targetFileParameters))\n",
        "\n",
        "    #building source list\n",
        "    self.sourceFileList = unixOperations().getFileList(join(self.sourceFileParameters[0]['SOURCE_PATH'],\\\n",
        "                                                            self.sourceFileParameters[0][\"SOURCE_FILE\"]))\n",
        "\n",
        "    #processing file from List\n",
        "    if not self.sourceFileList:\n",
        "      self._log.info('sourceFileList is empty')\n",
        "    elif self.targetFileParameters[0].get('APPEND_TIMESTAMP',False):\n",
        "      self.currentTimeStamp = datetime.now().strftime(\"%Y%m%d%H%M%S\")\n",
        "      for sourceFile in self.sourceFileList:\n",
        "        self.sourceFileNameSplit = os.path.split(sourceFile)\n",
        "        self.sourceFileNamePrefix = str(os.path.splitext(self.sourceFileNameSplit[1])[0])\n",
        "        self.sourceFileNamePostfix = str(os.path.splitext(self.sourceFileNameSplit[1])[1])\n",
        "        self.targetFileName = self.sourceFileNamePrefix.strip() +\"_\"+ str(self.currentTimeStamp) + self.sourceFileNamePostfix.strip()\n",
        "        unixOperations().copyFile(sourceFile, join(self.targetFileParameters[0][\"TARGET_PATH\"], self.targetFileName))\n",
        "    else:\n",
        "      for sourceFile in self.sourceFileList:\n",
        "        unixOperations().copyFileToDirectory(sourceFile, self.targetFileParameters[0][\"TARGET_PATH\"])\n",
        "\n",
        "\n",
        "\n",
        "\n"
      ],
      "execution_count": 125,
      "outputs": [
        {
          "output_type": "stream",
          "text": [
            "Overwriting /framework/dev/project/models/fileCopy.py\n"
          ],
          "name": "stdout"
        }
      ]
    },
    {
      "cell_type": "code",
      "metadata": {
        "colab": {
          "base_uri": "https://localhost:8080/"
        },
        "id": "17vR2YbdfxNs",
        "outputId": "b7af6475-9c13-41b0-99e4-0d7dcfa1d9af"
      },
      "source": [
        "%%writefile /framework/dev/project/models/fileMove.py\n",
        "#!/usr/local/bin/python\n",
        "import logging\n",
        "import glob\n",
        "import shutil\n",
        "import sys\n",
        "import os\n",
        "from os.path import isfile, join\n",
        "from datetime import datetime\n",
        "\n",
        "lib_path = os.path.abspath(os.path.join(__file__,'..','..'))\n",
        "sys.path.append(lib_path)\n",
        "\n",
        "from lib.utils.unixOperations import unixOperations\n",
        "\n",
        "class fileMove():\n",
        "\n",
        "  def __init__(self):\n",
        "    self._log = logging.getLogger('fileMove')\n",
        "\n",
        "  def __del__(self):\n",
        "    pass\n",
        "  \n",
        "  def _on_start(self):\n",
        "    pass\n",
        "\n",
        "  def _on_stop():\n",
        "    pass\n",
        "  \n",
        "  def move(self, configData):\n",
        "    self.configData = configData\n",
        "    self._log.debug('copy configData: %s', (configData))\n",
        "\n",
        "    #reading source information from JSON file\n",
        "    self.sourceFileParameters = self.configData[\"SOURCE\"][\"Parameters\"]\n",
        "    self._log.info('sourceFileParameters : %s ', (self.sourceFileParameters))\n",
        "\n",
        "    #reading target information from JSON file\n",
        "    self.targetFileParameters = self.configData[\"TARGET\"][\"Parameters\"]\n",
        "    self._log.info('targetFileParameters : %s ', (self.targetFileParameters))\n",
        "\n",
        "    #building source list\n",
        "    self.sourceFileList = unixOperations().getFileList(join(self.sourceFileParameters[0]['SOURCE_PATH'],\\\n",
        "                                                            self.sourceFileParameters[0][\"SOURCE_FILE\"]))\n",
        "\n",
        "    #processing file from List\n",
        "    if not self.sourceFileList:\n",
        "      self._log.info('sourceFileList is empty')\n",
        "    elif self.targetFileParameters[0].get('APPEND_TIMESTAMP',False):\n",
        "      self.currentTimeStamp = datetime.now().strftime(\"%Y%m%d%H%M%S\")\n",
        "      for sourceFile in self.sourceFileList:\n",
        "        self.sourceFileNameSplit = os.path.split(sourceFile)\n",
        "        self.sourceFileNamePrefix = str(os.path.splitext(self.sourceFileNameSplit[1])[0])\n",
        "        self.sourceFileNamePostfix = str(os.path.splitext(self.sourceFileNameSplit[1])[1])\n",
        "        self.targetFileName = self.sourceFileNamePrefix.strip() +\"_\"+ str(self.currentTimeStamp) + self.sourceFileNamePostfix.strip()\n",
        "        unixOperations().moveFile(sourceFile, join(self.targetFileParameters[0][\"TARGET_PATH\"], self.targetFileName))\n",
        "    else:\n",
        "      for sourceFile in self.sourceFileList:\n",
        "        unixOperations().moveFileToDirectory(sourceFile, self.targetFileParameters[0][\"TARGET_PATH\"])\n",
        "\n",
        "\n",
        "\n",
        "\n"
      ],
      "execution_count": 126,
      "outputs": [
        {
          "output_type": "stream",
          "text": [
            "Overwriting /framework/dev/project/models/fileMove.py\n"
          ],
          "name": "stdout"
        }
      ]
    },
    {
      "cell_type": "code",
      "metadata": {
        "colab": {
          "base_uri": "https://localhost:8080/"
        },
        "id": "dvlwkXtZqkLx",
        "outputId": "c3cb5e61-9720-4901-d2ca-3af700dbbd57"
      },
      "source": [
        "%%writefile /framework/dev/project/bin/sourceFileCopy.py\n",
        "#!/usr/local/bin/python\n",
        "#generic script to caopy the source data\n",
        "#Name           : sourceFileCopy.py\n",
        "#Descritpion    : script copies/move file from source directory\n",
        "#\n",
        "#/../../sourceFileCopy.ksh -cfg sourceFileCopyConfig.json\n",
        "#History\n",
        "#Version      | Date        | Editor      |Comment\n",
        "#-------------------------------------------------------------------------\n",
        "#1            | 28/07/2021  | Sumith      | initial version\n",
        "#\n",
        "import os\n",
        "import sys\n",
        "import argparse\n",
        "import logging\n",
        "import signal\n",
        "import threading\n",
        "import time\n",
        "from os import path\n",
        "import json\n",
        "\n",
        "lib_path = os.path.abspath(os.path.join(__file__,'..','..'))\n",
        "sys.path.append(lib_path)\n",
        "\n",
        "from models.fileCopy import fileCopy\n",
        "from models.fileMove import fileMove\n",
        "\n",
        "class sourceFileCopyBase(object):\n",
        "  \"\"\"base Class for task SourceFileCopy\n",
        "  \"\"\"\n",
        "  sleep_timeout = 1\n",
        "    \n",
        "  def __init__(self, app_name):\n",
        "    \"\"\"Constructor.\n",
        "    \"\"\"\n",
        "    self._log = logging.getLogger('')\n",
        "    self._app_name = app_name\n",
        "    self._stop_event = threading.Event()\n",
        "\n",
        "  def __del__(self):\n",
        "    pass\n",
        "\n",
        "  def _on_start(self):\n",
        "    \"\"\"Subclass to implement what needs to run dring start of process\n",
        "    \"\"\"\n",
        "    pass\n",
        "\n",
        "  def _on_stop(self):\n",
        "    \"\"\"Subclass to implement what needs to run dring start of process\n",
        "    \"\"\"\n",
        "    pass      \n",
        "\n",
        "  def _install_signal_handlers(self):\n",
        "    \"\"\"Install signal handler for the process.\n",
        "    \"\"\"\n",
        "    self._log.debug('Installing Signal handler')   \n",
        "\n",
        "    def handler(signum, _):\n",
        "      \"\"\"signal handler.\n",
        "      \"\"\"\n",
        "      self._log.warning('Got Signal %s', signum)\n",
        "      self._on_stop()\n",
        "      sys.exit(signum)   \n",
        "\n",
        "      for sig in (signal.SIGHUP, signal.SIGINT, signal.SIGTERM,\n",
        "                  signal.SIGQUIT, signal.SIGABRT):\n",
        "        signal.signal(sig, handler)\n",
        "\n",
        "  def readConfigFile(self, configFile):\n",
        "    if path.exists(configFile):\n",
        "      self._log.info('reading config file')\n",
        "      with open(configFile) as configFile:\n",
        "        configData = json.load(configFile)\n",
        "      self._log.debug('configData : %s', json.dumps(configData, indent=4))\n",
        "    return configData\n",
        "\n",
        "  def _main_loop(self, configData):\n",
        "    \"\"\"Main Loop\n",
        "    \"\"\"\n",
        "    for key in range(1, 99):\n",
        "      try:\n",
        "        (configData[str(key)])\n",
        "        self._log.info('Starting step : %s',str(key))\n",
        "      except KeyError:\n",
        "        self._log.info('No More steps')\n",
        "        break\n",
        "\n",
        "      if 'SOURCE_FILE_COPY' in configData[str(key)][\"step-types\"]:\n",
        "        self._log.info('Step : SOURCE_FILE_COPY')\n",
        "        self.sourceCopy = sourceCopy()\n",
        "        self.sourceCopy.sourceFileCopy(configData[str(key)][\"step-types\"][\"SOURCE_FILE_COPY\"][0])\n",
        "        del self.sourceCopy\n",
        "      if 'FILE_COPY' in configData[str(key)][\"step-types\"]:\n",
        "        self._log.info('Step : FILE_COPY')\n",
        "        self.fileCopy = fileCopy()\n",
        "        self.fileCopy.copy(configData[str(key)][\"step-types\"][\"FILE_COPY\"][0])\n",
        "        del self.fileCopy\n",
        "      if 'FILE_MOVE' in configData[str(key)][\"step-types\"]:\n",
        "        self._log.info('Step : FILE_MOVE')\n",
        "        self.fileMove = fileMove()\n",
        "        self.fileMove.move(configData[str(key)][\"step-types\"][\"FILE_MOVE\"][0])\n",
        "        del self.fileMove              \n",
        "      else:\n",
        "        self._log.info('Step : None')\n",
        "    \n",
        "\n",
        "  def run(self, configFile):\n",
        "    \"\"\"Run application\n",
        "    \"\"\"\n",
        "    self.configFile = configFile\n",
        "    \n",
        "    self._log.info('HOSTNAME : %s', os.uname()[1])\n",
        "    self._log.info('USERID : %s', os.environ.get('USER'))\n",
        "    self._log.info('SCRIPT PATH : %s', os.path.abspath(__file__))\n",
        "    self._log.info('ConfigFile : %s', self.configFile)\n",
        "\n",
        "    exit_status = 0\n",
        "    self._install_signal_handlers()\n",
        "\n",
        "    try:\n",
        "      self._on_start()\n",
        "      configData = self.readConfigFile(configFile)\n",
        "      self._main_loop(configData)\n",
        "    except BaseException as exc:\n",
        "      self._log.exception('Unrecoverable exception in %s main loop.'\n",
        "                          'Exiting: %s', self._app_name, exc)\n",
        "      exit_status = 1\n",
        "    finally:\n",
        "      self._on_stop()\n",
        "      self._log.info('Done.')\n",
        "    return exit_status\n",
        "    \n",
        "\n",
        "def main(config):\n",
        "\n",
        "  class sourceFileCopy(sourceFileCopyBase):\n",
        "    \"\"\"initializing base call\n",
        "    \"\"\"\n",
        "\n",
        "  if (config.debug):\n",
        "    logging.basicConfig(format='%(asctime)s:%(filename)s[%(lineno)d]:%(process)d:%(levelname)s: %(message)s', datefmt='%m/%d/%Y %I:%M:%S %p', level=logging.DEBUG)\n",
        "  else:\n",
        "    logging.basicConfig(format='%(asctime)s:%(filename)s[%(lineno)d]:%(process)d:%(levelname)s: %(message)s', datefmt='%m/%d/%Y %I:%M:%S %p', level=logging.INFO)\n",
        "\n",
        "  configFile = config.configfile\n",
        "  returnCode = sourceFileCopy('SourceFileCopy').run(configFile)\n",
        "  if returnCode != 0:\n",
        "    sys.exit(1)\n",
        "\n",
        "\n",
        "if __name__ == '__main__':\n",
        "  parser = argparse.ArgumentParser(description='''Description : Source File copy ''',\n",
        "                                   formatter_class=argparse.RawDescriptionHelpFormatter,\n",
        "                                   epilog='''USAGE; {0} -cfg [config] '''.format(os.path.basename(sys.argv[0])))\n",
        "  \n",
        "  parser.add_argument('--configfile', '-c',\n",
        "                      help='Config json file',\n",
        "                      required=True)\n",
        "  \n",
        "  parser.add_argument('--debug', '-v',\n",
        "                      action='store_true',\n",
        "                      help='Debug/Verbose Mode')\n",
        "  \n",
        "  config = parser.parse_args(sys.argv[1:])\n",
        "\n",
        "  main(config)"
      ],
      "execution_count": 132,
      "outputs": [
        {
          "output_type": "stream",
          "text": [
            "Overwriting /framework/dev/project/bin/sourceFileCopy.py\n"
          ],
          "name": "stdout"
        }
      ]
    },
    {
      "cell_type": "code",
      "metadata": {
        "id": "ovdvPkKVazOb"
      },
      "source": [
        ""
      ],
      "execution_count": 132,
      "outputs": []
    },
    {
      "cell_type": "code",
      "metadata": {
        "colab": {
          "base_uri": "https://localhost:8080/"
        },
        "id": "NOzH-Xu9UTzl",
        "outputId": "e65ccde7-a134-402f-9dbc-f675c09983e4"
      },
      "source": [
        "!/bin/bash /framework/dev/project/bin/genExecute.ksh sourceFileCopy.py --config /framework/dev/project/conf/sourceFileCopyConf.json"
      ],
      "execution_count": 133,
      "outputs": [
        {
          "output_type": "stream",
          "text": [
            "DEV\n",
            "sourcing /framework/dev/project/conf/project.ksh\n",
            "sourcing /framework/dev//frameWork.ksh\n",
            "/framework/dev/project/bin/sourceFileCopy.py --config /framework/dev/project/conf/sourceFileCopyConf.json\n",
            "08/03/2021 11:00:29 AM:sourceFileCopy.py[112]:2169:INFO: HOSTNAME : 60f9e801d1d1\n",
            "08/03/2021 11:00:29 AM:sourceFileCopy.py[113]:2169:INFO: USERID : None\n",
            "08/03/2021 11:00:29 AM:sourceFileCopy.py[114]:2169:INFO: SCRIPT PATH : /framework/dev/project/bin/sourceFileCopy.py\n",
            "08/03/2021 11:00:29 AM:sourceFileCopy.py[115]:2169:INFO: ConfigFile : /framework/dev/project/conf/sourceFileCopyConf.json\n",
            "08/03/2021 11:00:29 AM:sourceFileCopy.py[71]:2169:INFO: reading config file\n",
            "08/03/2021 11:00:29 AM:sourceFileCopy.py[83]:2169:INFO: Starting step : 1\n",
            "08/03/2021 11:00:29 AM:sourceFileCopy.py[94]:2169:INFO: Step : FILE_COPY\n",
            "08/03/2021 11:00:29 AM:fileCopy.py[35]:2169:INFO: sourceFileParameters : [{'SOURCE_PATH': '/framework/dev/project/data/in/', 'SOURCE_FILE': 'testsourcefile.csv'}] \n",
            "08/03/2021 11:00:29 AM:fileCopy.py[39]:2169:INFO: targetFileParameters : [{'TARGET_PATH': '/framework/dev/project/data/processing/'}] \n",
            "08/03/2021 11:00:29 AM:unixOperations.py[50]:2169:INFO: Copy file from :/framework/dev/project/data/in/testsourcefile.csv To /framework/dev/project/data/processing/\n",
            "08/03/2021 11:00:29 AM:sourceFileCopy.py[104]:2169:INFO: Step : None\n",
            "08/03/2021 11:00:29 AM:sourceFileCopy.py[85]:2169:INFO: No More steps\n",
            "08/03/2021 11:00:29 AM:sourceFileCopy.py[130]:2169:INFO: Done.\n"
          ],
          "name": "stdout"
        }
      ]
    },
    {
      "cell_type": "code",
      "metadata": {
        "colab": {
          "base_uri": "https://localhost:8080/"
        },
        "id": "M0itTZ4KazR7",
        "outputId": "facec978-6a7b-4c81-9a14-3b0ac30e4bca"
      },
      "source": [
        "!/bin/bash /framework/dev/project/bin/genExecute.ksh sourceFileCopy.py --config /framework/dev/project/conf/sourceFileCopyAppendTimeStampConf.json"
      ],
      "execution_count": 134,
      "outputs": [
        {
          "output_type": "stream",
          "text": [
            "DEV\n",
            "sourcing /framework/dev/project/conf/project.ksh\n",
            "sourcing /framework/dev//frameWork.ksh\n",
            "/framework/dev/project/bin/sourceFileCopy.py --config /framework/dev/project/conf/sourceFileCopyAppendTimeStampConf.json\n",
            "08/03/2021 11:00:30 AM:sourceFileCopy.py[112]:2187:INFO: HOSTNAME : 60f9e801d1d1\n",
            "08/03/2021 11:00:30 AM:sourceFileCopy.py[113]:2187:INFO: USERID : None\n",
            "08/03/2021 11:00:30 AM:sourceFileCopy.py[114]:2187:INFO: SCRIPT PATH : /framework/dev/project/bin/sourceFileCopy.py\n",
            "08/03/2021 11:00:30 AM:sourceFileCopy.py[115]:2187:INFO: ConfigFile : /framework/dev/project/conf/sourceFileCopyAppendTimeStampConf.json\n",
            "08/03/2021 11:00:30 AM:sourceFileCopy.py[71]:2187:INFO: reading config file\n",
            "08/03/2021 11:00:30 AM:sourceFileCopy.py[83]:2187:INFO: Starting step : 1\n",
            "08/03/2021 11:00:30 AM:sourceFileCopy.py[94]:2187:INFO: Step : FILE_COPY\n",
            "08/03/2021 11:00:30 AM:fileCopy.py[35]:2187:INFO: sourceFileParameters : [{'SOURCE_PATH': '/framework/dev/project/data/in/', 'SOURCE_FILE': 'testsourcefile.csv'}] \n",
            "08/03/2021 11:00:30 AM:fileCopy.py[39]:2187:INFO: targetFileParameters : [{'TARGET_PATH': '/framework/dev/project/data/processing/', 'APPEND_TIMESTAMP': 'True'}] \n",
            "08/03/2021 11:00:30 AM:unixOperations.py[59]:2187:INFO: Copy file from :/framework/dev/project/data/in/testsourcefile.csv To /framework/dev/project/data/processing/testsourcefile_20210803110030.csv\n",
            "08/03/2021 11:00:30 AM:sourceFileCopy.py[104]:2187:INFO: Step : None\n",
            "08/03/2021 11:00:30 AM:sourceFileCopy.py[85]:2187:INFO: No More steps\n",
            "08/03/2021 11:00:30 AM:sourceFileCopy.py[130]:2187:INFO: Done.\n"
          ],
          "name": "stdout"
        }
      ]
    },
    {
      "cell_type": "code",
      "metadata": {
        "colab": {
          "base_uri": "https://localhost:8080/"
        },
        "id": "M31XxjomayjN",
        "outputId": "b2fd5ff9-8092-4a62-a528-d7c1b06f5b54"
      },
      "source": [
        "!echo \"Hello World move file to directory\" > /framework/dev/project/data/in/testsourcefile.csv\n",
        "!/bin/bash /framework/dev/project/bin/genExecute.ksh sourceFileCopy.py --config /framework/dev/project/conf/sourceFileMoveConf.json\n",
        "!ls -lrt /framework/dev/project/data/in/testsourcefile.csv"
      ],
      "execution_count": 145,
      "outputs": [
        {
          "output_type": "stream",
          "text": [
            "DEV\n",
            "sourcing /framework/dev/project/conf/project.ksh\n",
            "sourcing /framework/dev//frameWork.ksh\n",
            "/framework/dev/project/bin/sourceFileCopy.py --config /framework/dev/project/conf/sourceFileMoveConf.json\n",
            "08/03/2021 11:08:22 AM:sourceFileCopy.py[112]:2413:INFO: HOSTNAME : 60f9e801d1d1\n",
            "08/03/2021 11:08:22 AM:sourceFileCopy.py[113]:2413:INFO: USERID : None\n",
            "08/03/2021 11:08:22 AM:sourceFileCopy.py[114]:2413:INFO: SCRIPT PATH : /framework/dev/project/bin/sourceFileCopy.py\n",
            "08/03/2021 11:08:22 AM:sourceFileCopy.py[115]:2413:INFO: ConfigFile : /framework/dev/project/conf/sourceFileMoveConf.json\n",
            "08/03/2021 11:08:22 AM:sourceFileCopy.py[71]:2413:INFO: reading config file\n",
            "08/03/2021 11:08:22 AM:sourceFileCopy.py[83]:2413:INFO: Starting step : 1\n",
            "08/03/2021 11:08:22 AM:sourceFileCopy.py[99]:2413:INFO: Step : FILE_MOVE\n",
            "08/03/2021 11:08:22 AM:fileMove.py[35]:2413:INFO: sourceFileParameters : [{'SOURCE_PATH': '/framework/dev/project/data/in/', 'SOURCE_FILE': 'testsourcefile.csv'}] \n",
            "08/03/2021 11:08:22 AM:fileMove.py[39]:2413:INFO: targetFileParameters : [{'TARGET_PATH': '/framework/dev/project/data/processing/'}] \n",
            "08/03/2021 11:08:22 AM:unixOperations.py[70]:2413:INFO: Move file from :/framework/dev/project/data/in/testsourcefile.csv To /framework/dev/project/data/processing/\n",
            "08/03/2021 11:08:22 AM:sourceFileCopy.py[85]:2413:INFO: No More steps\n",
            "08/03/2021 11:08:22 AM:sourceFileCopy.py[130]:2413:INFO: Done.\n",
            "ls: cannot access '/framework/dev/project/data/in/testsourcefile.csv': No such file or directory\n"
          ],
          "name": "stdout"
        }
      ]
    },
    {
      "cell_type": "code",
      "metadata": {
        "colab": {
          "base_uri": "https://localhost:8080/"
        },
        "id": "RHwTQbn8aym2",
        "outputId": "a059709f-6f9a-42c6-fb49-fdb8a7b34284"
      },
      "source": [
        "!echo \"Hello World !! move file to diretcory with time stamp\" > /framework/dev/project/data/in/testsourcefile.csv\n",
        "!/bin/bash /framework/dev/project/bin/genExecute.ksh sourceFileCopy.py --config /framework/dev/project/conf/sourceFileMoveAppendTimeStampConf.json\n",
        "!ls -lrt /framework/dev/project/data/in/testsourcefile.csv"
      ],
      "execution_count": 146,
      "outputs": [
        {
          "output_type": "stream",
          "text": [
            "DEV\n",
            "sourcing /framework/dev/project/conf/project.ksh\n",
            "sourcing /framework/dev//frameWork.ksh\n",
            "/framework/dev/project/bin/sourceFileCopy.py --config /framework/dev/project/conf/sourceFileMoveAppendTimeStampConf.json\n",
            "08/03/2021 11:08:38 AM:sourceFileCopy.py[112]:2437:INFO: HOSTNAME : 60f9e801d1d1\n",
            "08/03/2021 11:08:38 AM:sourceFileCopy.py[113]:2437:INFO: USERID : None\n",
            "08/03/2021 11:08:38 AM:sourceFileCopy.py[114]:2437:INFO: SCRIPT PATH : /framework/dev/project/bin/sourceFileCopy.py\n",
            "08/03/2021 11:08:38 AM:sourceFileCopy.py[115]:2437:INFO: ConfigFile : /framework/dev/project/conf/sourceFileMoveAppendTimeStampConf.json\n",
            "08/03/2021 11:08:38 AM:sourceFileCopy.py[71]:2437:INFO: reading config file\n",
            "08/03/2021 11:08:38 AM:sourceFileCopy.py[83]:2437:INFO: Starting step : 1\n",
            "08/03/2021 11:08:38 AM:sourceFileCopy.py[99]:2437:INFO: Step : FILE_MOVE\n",
            "08/03/2021 11:08:38 AM:fileMove.py[35]:2437:INFO: sourceFileParameters : [{'SOURCE_PATH': '/framework/dev/project/data/in/', 'SOURCE_FILE': 'testsourcefile.csv'}] \n",
            "08/03/2021 11:08:38 AM:fileMove.py[39]:2437:INFO: targetFileParameters : [{'TARGET_PATH': '/framework/dev/project/data/processing/', 'APPEND_TIMESTAMP': 'True'}] \n",
            "08/03/2021 11:08:38 AM:unixOperations.py[80]:2437:INFO: Move file from :/framework/dev/project/data/in/testsourcefile.csv To /framework/dev/project/data/processing/testsourcefile_20210803110838.csv\n",
            "08/03/2021 11:08:38 AM:sourceFileCopy.py[85]:2437:INFO: No More steps\n",
            "08/03/2021 11:08:38 AM:sourceFileCopy.py[130]:2437:INFO: Done.\n",
            "ls: cannot access '/framework/dev/project/data/in/testsourcefile.csv': No such file or directory\n"
          ],
          "name": "stdout"
        }
      ]
    },
    {
      "cell_type": "code",
      "metadata": {
        "id": "1sfIBzhHSoi2"
      },
      "source": [
        ""
      ],
      "execution_count": 146,
      "outputs": []
    },
    {
      "cell_type": "code",
      "metadata": {
        "id": "JOodgK9vaxf3"
      },
      "source": [
        ""
      ],
      "execution_count": null,
      "outputs": []
    },
    {
      "cell_type": "code",
      "metadata": {
        "id": "DOodqFf7axin"
      },
      "source": [
        ""
      ],
      "execution_count": null,
      "outputs": []
    },
    {
      "cell_type": "code",
      "metadata": {
        "id": "dEXBRelBaxlA"
      },
      "source": [
        ""
      ],
      "execution_count": null,
      "outputs": []
    },
    {
      "cell_type": "code",
      "metadata": {
        "id": "f9zfVPZ-SomQ"
      },
      "source": [
        ""
      ],
      "execution_count": null,
      "outputs": []
    },
    {
      "cell_type": "code",
      "metadata": {
        "id": "7SQbnLPHSoq-"
      },
      "source": [
        ""
      ],
      "execution_count": null,
      "outputs": []
    },
    {
      "cell_type": "code",
      "metadata": {
        "id": "bqmKIrKPSouC"
      },
      "source": [
        ""
      ],
      "execution_count": null,
      "outputs": []
    },
    {
      "cell_type": "code",
      "metadata": {
        "id": "dQFLbeKrSowr"
      },
      "source": [
        ""
      ],
      "execution_count": null,
      "outputs": []
    },
    {
      "cell_type": "code",
      "metadata": {
        "colab": {
          "base_uri": "https://localhost:8080/"
        },
        "id": "6VSV4wlztDvI",
        "outputId": "eb1f5ef7-4958-4acd-8475-a12494caeae5"
      },
      "source": [
        "!/bin/bash /framework/dev/project/bin/genExecute.ksh sourceFileCopy.py --config /framework/dev/project/conf/sourceFileCopyConf.json --debug"
      ],
      "execution_count": 19,
      "outputs": [
        {
          "output_type": "stream",
          "text": [
            "DEV\n",
            "sourcing /framework/dev/project/conf/project.ksh\n",
            "sourcing /framework/dev//frameWork.ksh\n",
            "/framework/dev/project/bin/sourceFileCopy.py --config /framework/dev/project/conf/sourceFileCopyConf.json --debug\n",
            "08/03/2021 09:10:23 AM:sourceFileCopy.py[109]:654:INFO: HOSTNAME : 60f9e801d1d1\n",
            "08/03/2021 09:10:23 AM:sourceFileCopy.py[110]:654:INFO: USERID : None\n",
            "08/03/2021 09:10:23 AM:sourceFileCopy.py[111]:654:INFO: SCRIPT PATH : /framework/dev/project/bin/sourceFileCopy.py\n",
            "08/03/2021 09:10:23 AM:sourceFileCopy.py[112]:654:INFO: ConfigFile : /framework/dev/project/conf/sourceFileCopyConf.json\n",
            "08/03/2021 09:10:23 AM:sourceFileCopy.py[53]:654:DEBUG: Installing Signal handler\n",
            "08/03/2021 09:10:23 AM:sourceFileCopy.py[68]:654:INFO: reading config file\n",
            "08/03/2021 09:10:23 AM:sourceFileCopy.py[71]:654:DEBUG: configData : {\n",
            "    \"1\": {\n",
            "        \"step-types\": {\n",
            "            \"FILE_COPY\": [\n",
            "                {\n",
            "                    \"templateName\": \"SOURCE_FILE_COPY\",\n",
            "                    \"SOURCE\": {\n",
            "                        \"Parameters\": [\n",
            "                            {\n",
            "                                \"SOURCE_PATH\": \"/framework/dev/project/data/in/\",\n",
            "                                \"SOURCE_FILE\": \"testsourcefile.csv\"\n",
            "                            }\n",
            "                        ]\n",
            "                    },\n",
            "                    \"TARGET\": {\n",
            "                        \"Parameters\": [\n",
            "                            {\n",
            "                                \"TARGET_PATH\": \"/framework/dev/project/data/processing/\",\n",
            "                                \"APPEND_TIMESTAMP\": \"True\"\n",
            "                            }\n",
            "                        ]\n",
            "                    }\n",
            "                }\n",
            "            ]\n",
            "        }\n",
            "    }\n",
            "}\n",
            "08/03/2021 09:10:23 AM:sourceFileCopy.py[80]:654:INFO: Starting step : %s\n",
            "08/03/2021 09:10:23 AM:sourceFileCopy.py[91]:654:INFO: Step : FILE_COPY\n",
            "08/03/2021 09:10:23 AM:sourceFileCopy.py[123]:654:ERROR: Unrecoverable exception in SourceFileCopy main loop.Exiting: name 'fileCopy' is not defined\n",
            "Traceback (most recent call last):\n",
            "  File \"/framework/dev/project/bin/sourceFileCopy.py\", line 120, in run\n",
            "    self._main_loop(configData)\n",
            "  File \"/framework/dev/project/bin/sourceFileCopy.py\", line 92, in _main_loop\n",
            "    self.fileCopy = fileCopy()\n",
            "NameError: name 'fileCopy' is not defined\n",
            "08/03/2021 09:10:23 AM:sourceFileCopy.py[127]:654:INFO: Done.\n"
          ],
          "name": "stdout"
        }
      ]
    },
    {
      "cell_type": "code",
      "metadata": {
        "id": "9lECAKE8Sm5-"
      },
      "source": [
        ""
      ],
      "execution_count": null,
      "outputs": []
    },
    {
      "cell_type": "code",
      "metadata": {
        "id": "5thySLzhSm83"
      },
      "source": [
        ""
      ],
      "execution_count": null,
      "outputs": []
    },
    {
      "cell_type": "code",
      "metadata": {
        "id": "B8DDxciHSm_6"
      },
      "source": [
        ""
      ],
      "execution_count": null,
      "outputs": []
    },
    {
      "cell_type": "code",
      "metadata": {
        "colab": {
          "base_uri": "https://localhost:8080/"
        },
        "id": "U2zE2h7J3C63",
        "outputId": "f87d1e95-e6a4-41e8-dafd-9d7222942784"
      },
      "source": [
        "!cat /framework/dev/project/data/in/testsourcefile.csv"
      ],
      "execution_count": 10,
      "outputs": [
        {
          "output_type": "stream",
          "text": [
            "Hello World\n"
          ],
          "name": "stdout"
        }
      ]
    },
    {
      "cell_type": "code",
      "metadata": {
        "colab": {
          "base_uri": "https://localhost:8080/"
        },
        "id": "yum73mPl2XCu",
        "outputId": "2fbcc31e-2ce5-440c-d9b4-2760394268d7"
      },
      "source": [
        "ls -rlt /framework/dev/project/conf/sourceFileCopyConf.json"
      ],
      "execution_count": 11,
      "outputs": [
        {
          "output_type": "stream",
          "text": [
            "-rw-r--r-- 1 root root 617 Jul 30 10:26 /framework/dev/project/conf/sourceFileCopyConf.json\n"
          ],
          "name": "stdout"
        }
      ]
    },
    {
      "cell_type": "code",
      "metadata": {
        "id": "_3opLTpV4gpD"
      },
      "source": [
        ""
      ],
      "execution_count": null,
      "outputs": []
    }
  ]
}