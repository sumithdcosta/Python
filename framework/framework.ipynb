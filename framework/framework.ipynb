{
  "nbformat": 4,
  "nbformat_minor": 0,
  "metadata": {
    "colab": {
      "name": "run.ipynb",
      "provenance": [],
      "collapsed_sections": [],
      "authorship_tag": "ABX9TyMtFRDKlVcqCiAx8RrvG0aR",
      "include_colab_link": true
    },
    "kernelspec": {
      "name": "python3",
      "display_name": "Python 3"
    },
    "language_info": {
      "name": "python"
    }
  },
  "cells": [
    {
      "cell_type": "markdown",
      "metadata": {
        "id": "view-in-github",
        "colab_type": "text"
      },
      "source": [
        "<a href=\"https://colab.research.google.com/github/sumithdcosta/Python/blob/master/framework/framework.ipynb\" target=\"_parent\"><img src=\"https://colab.research.google.com/assets/colab-badge.svg\" alt=\"Open In Colab\"/></a>"
      ]
    },
    {
      "cell_type": "code",
      "metadata": {
        "id": "emhy2nvZPq48"
      },
      "source": [
        "!mkdir /framework\n",
        "!mkdir /framework/dev\n",
        "!mkdir /framework/dev/project\n",
        "!mkdir /framework/dev/project/conf/\n",
        "!mkdir /framework/dev/project/bin/\n",
        "!mkdir /framework/dev/project/models/\n",
        "!mkdir /framework/dev/project/lib/\n",
        "!mkdir /framework/dev/project/lib/utils\n",
        "!mkdir /framework/dev/project/lib/db\n",
        "!touch /framework/dev/project/bin/sourceFileCopy.py\n",
        "!chmod 775 /framework/dev/project/bin/sourceFileCopy.py"
      ],
      "execution_count": 1,
      "outputs": []
    },
    {
      "cell_type": "code",
      "metadata": {
        "colab": {
          "base_uri": "https://localhost:8080/"
        },
        "id": "28BLcsh36-GU",
        "outputId": "9f1f69c3-b426-4b5e-e2e6-a33745632c02"
      },
      "source": [
        "%%writefile /framework/dev/frameWork.ksh\n",
        "if [[ $1 = *[dD][eE][vV]* ]]; then\n",
        "  export PATH = '/framework/dev/'\n",
        "fi \n",
        "\n",
        "if [[ $1 = *[dD][eE][vV]* ]]; then\n",
        "  export PATH = '/framework/qa/'\n",
        "fi "
      ],
      "execution_count": 2,
      "outputs": [
        {
          "output_type": "stream",
          "text": [
            "Writing /framework/dev/frameWork.ksh\n"
          ],
          "name": "stdout"
        }
      ]
    },
    {
      "cell_type": "code",
      "metadata": {
        "colab": {
          "base_uri": "https://localhost:8080/"
        },
        "id": "WakrFKIC5Wr2",
        "outputId": "9dda54f4-5921-4e61-c872-1536cf361c06"
      },
      "source": [
        "%%writefile /framework/dev/project/conf/project.ksh\n",
        "if [[ $1 = *[dD][eE][vV]* ]]; then\n",
        "  export PATH = '/framework/dev/project'\n",
        "fi \n",
        "\n",
        "if [[ $1 = *[dD][eE][vV]* ]]; then\n",
        "  export PATH = '/framework/qa/project'\n",
        "fi \n"
      ],
      "execution_count": 3,
      "outputs": [
        {
          "output_type": "stream",
          "text": [
            "Writing /framework/dev/project/conf/project.ksh\n"
          ],
          "name": "stdout"
        }
      ]
    },
    {
      "cell_type": "code",
      "metadata": {
        "colab": {
          "base_uri": "https://localhost:8080/"
        },
        "id": "nCiDBnamSxng",
        "outputId": "925ff26b-94a1-48f7-f9fa-d50bb8b40c07"
      },
      "source": [
        "%%writefile /framework/dev/project/bin/genExecute.ksh\n",
        "#!/bin/ksh\n",
        "\n",
        "#check for Environment and running profiles\n",
        "dirName=`dirname $0`\n",
        "\n",
        "if [[ $dirName = *[dD][eE][vV]* ]]\n",
        "  then\n",
        "  export environment=\"DEV\"\n",
        "  echo $environment\n",
        "elif [[ $dirName = *[qQ][aQ]* ]]\n",
        "  then\n",
        "  export environment=\"QA\"\n",
        "  echo $environment\n",
        "else\n",
        "  export environment=\"UNKNOWN\"\n",
        "  echo $environment\n",
        "  exit 6\n",
        "fi \n",
        "\n",
        "CONFPATH=`echo $dirName|sed -e 's/bin/conf/g'`\n",
        "if [ ! -f \"${CONFPATH}/project.ksh\" ];then\n",
        "  echo \"${CONFPATH}/project.ksh is missing\"\n",
        "  exit 7\n",
        "fi\n",
        "echo \"sourcing ${CONFPATH}/project.ksh\"\n",
        ". ${CONFPATH}/project.ksh $environment 2>/dev/null 1>/dev/null\n",
        "\n",
        "CONFPATH=`echo $dirName|sed -e 's/project\\/bin//g'`\n",
        "if [ ! -f \"${CONFPATH}/frameWork.ksh\" ];then\n",
        "  echo \"${CONFPATH}/frameWork.ksh is missing\"\n",
        "  exit 7\n",
        "fi\n",
        "echo \"sourcing ${CONFPATH}/frameWork.ksh\"\n",
        ". ${CONFPATH}/frameWork.ksh $environment 2>/dev/null 1>/dev/null\n",
        "\n",
        "echo $(dirname $0)/$*\n",
        "$(dirname $0)/$*\n"
      ],
      "execution_count": 6,
      "outputs": [
        {
          "output_type": "stream",
          "text": [
            "Overwriting /framework/dev/project/bin/genExecute.ksh\n"
          ],
          "name": "stdout"
        }
      ]
    },
    {
      "cell_type": "code",
      "metadata": {
        "colab": {
          "base_uri": "https://localhost:8080/"
        },
        "id": "dvlwkXtZqkLx",
        "outputId": "de1e4cf7-8b24-4ce9-b1f4-9249ef900f74"
      },
      "source": [
        "%%writefile /framework/dev/project/bin/sourceFileCopy.py\n",
        "#!/usr/local/bin/python\n",
        "#generic script to caopy the source data\n",
        "#Name           : sourceFileCopy.py\n",
        "#Descritpion    : script copies/move file from source directory\n",
        "#\n",
        "#/../../sourceFileCopy.ksh -cfg sourceFileCopyConfig.json\n",
        "#History\n",
        "#Version      | Date        | Editor      |Comment\n",
        "#-------------------------------------------------------------------------\n",
        "#1            | 28/07/2021  | Sumith      | initial version\n",
        "#\n",
        "import os\n",
        "import sys\n",
        "import argparse\n",
        "import logging\n",
        "import signal\n",
        "import threading\n",
        "import time\n",
        "from os import path\n",
        "import json\n",
        "\n",
        "lib_path = os.path.abspath(os.path.join(__file__,'..','..','lib'))\n",
        "sys.path.append(lib_path)\n",
        "\n",
        "class sourceFileCopyBase(object):\n",
        "  \"\"\"base Class for task SourceFileCopy\n",
        "  \"\"\"\n",
        "  sleep_timeout = 1\n",
        "    \n",
        "  def __init__(self, app_name):\n",
        "    \"\"\"Constructor.\n",
        "    \"\"\"\n",
        "    self._log = logging.getLogger('')\n",
        "    self._app_name = app_name\n",
        "    self._stop_event = threading.Event()\n",
        "\n",
        "  def __del__(self):\n",
        "    pass\n",
        "\n",
        "  def _on_start(self):\n",
        "    \"\"\"Subclass to implement what needs to run dring start of process\n",
        "    \"\"\"\n",
        "    pass\n",
        "\n",
        "  def _on_stop(self):\n",
        "    \"\"\"Subclass to implement what needs to run dring start of process\n",
        "    \"\"\"\n",
        "    pass      \n",
        "\n",
        "  def _install_signal_handlers(self):\n",
        "    \"\"\"Install signal handler for the process.\n",
        "    \"\"\"\n",
        "    self._log.debug('Installing Signal handler')   \n",
        "\n",
        "    def handler(signum, _):\n",
        "      \"\"\"signal handler.\n",
        "      \"\"\"\n",
        "      self._log.warning('Got Signal %s', signum)\n",
        "      self._on_stop()\n",
        "      sys.exit(signum)   \n",
        "\n",
        "      for sig in (signal.SIGHUP, signal.SIGINT, signal.SIGTERM,\n",
        "                  signal.SIGQUIT, signal.SIGABRT):\n",
        "        signal.signal(sig, handler)\n",
        "\n",
        "  def readConfigFile(self, config):\n",
        "    pass\n",
        "\n",
        "  def _main_loop(self, config):\n",
        "    pass\n",
        "\n",
        "  def run(self, configFile):\n",
        "    \"\"\"Run application\n",
        "    \"\"\"\n",
        "    self.configFile = configFile\n",
        "    \n",
        "    self._log.info('HOSTNAME : %s', os.uname()[1])\n",
        "    self._log.info('USERID : %s', os.environ.get('USER'))\n",
        "    self._log.info('SCRIPT PATH : %s', os.path.abspath(__file__))\n",
        "    self._log.info('ConfigFile : %s', self.configFile)\n",
        "\n",
        "    exit_status = 0\n",
        "    self._install_signal_handlers()\n",
        "\n",
        "    try:\n",
        "      self._on_start()\n",
        "      configData = self.readConfigFile(config)\n",
        "      self._main_loop(configData)\n",
        "    except BaseException as exc:\n",
        "      self._log.exception('Unrecoverable exception in %s main loop.'\n",
        "                          'Exiting: %s', self._app_name, exc)\n",
        "      exit_status = 1\n",
        "    finally:\n",
        "      self._on_stop()\n",
        "      self._log.info('Done.')\n",
        "    return exit_status\n",
        "    \n",
        "\n",
        "def main(config):\n",
        "\n",
        "  class sourceFileCopy(sourceFileCopyBase):\n",
        "    \"\"\"initializing base call\n",
        "    \"\"\"\n",
        "\n",
        "  if (config.debug):\n",
        "    logging.basicConfig(format='%(asctime)s:%(filename)s[%(lineno)d]:%(process)d:%(levelname)s: %(message)s', datefmt='%m/%d/%Y %I:%M:%S %p', level=logging.DEBUG)\n",
        "  else:\n",
        "    logging.basicConfig(format='%(asctime)s:%(filename)s[%(lineno)d]:%(process)d:%(levelname)s: %(message)s', datefmt='%m/%d/%Y %I:%M:%S %p', level=logging.INFO)\n",
        "\n",
        "  configFile = config.configfile\n",
        "  returnCode = sourceFileCopy('SourceFileCopy').run(configFile)\n",
        "  if returnCode != 0:\n",
        "    sys.exit(1)\n",
        "\n",
        "\n",
        "if __name__ == '__main__':\n",
        "  parser = argparse.ArgumentParser(description='''Description : Source File copy ''',\n",
        "                                   formatter_class=argparse.RawDescriptionHelpFormatter,\n",
        "                                   epilog='''USAGE; {0} -cfg [config] '''.format(os.path.basename(sys.argv[0])))\n",
        "  \n",
        "  parser.add_argument('--configfile', '-c',\n",
        "                      help='Config json file',\n",
        "                      required=True)\n",
        "  \n",
        "  parser.add_argument('--debug', '-v',\n",
        "                      action='store_true',\n",
        "                      help='Debug/Verbose Mode')\n",
        "  \n",
        "  config = parser.parse_args(sys.argv[1:])\n",
        "\n",
        "  main(config)"
      ],
      "execution_count": 115,
      "outputs": [
        {
          "output_type": "stream",
          "text": [
            "Overwriting /framework/dev/project/bin/sourceFileCopy.py\n"
          ],
          "name": "stdout"
        }
      ]
    },
    {
      "cell_type": "code",
      "metadata": {
        "colab": {
          "base_uri": "https://localhost:8080/"
        },
        "id": "NOzH-Xu9UTzl",
        "outputId": "c0ee8fc5-83c1-43ed-bf94-351e57c37e17"
      },
      "source": [
        "!/bin/bash /framework/dev/project/bin/genExecute.ksh sourceFileCopy.py --config /framework/dev/project/conf/sourceFileCopyConf.json"
      ],
      "execution_count": 116,
      "outputs": [
        {
          "output_type": "stream",
          "text": [
            "DEV\n",
            "sourcing /framework/dev/project/conf/project.ksh\n",
            "sourcing /framework/dev//frameWork.ksh\n",
            "/framework/dev/project/bin/sourceFileCopy.py --config /framework/dev/project/conf/sourceFileCopyConf.json\n",
            "07/28/2021 12:11:06 PM:sourceFileCopy.py[77]:2406:INFO: HOSTNAME : 9bed842b81ae\n",
            "07/28/2021 12:11:06 PM:sourceFileCopy.py[78]:2406:INFO: USERID : None\n",
            "07/28/2021 12:11:06 PM:sourceFileCopy.py[79]:2406:INFO: SCRIPT PATH : /framework/dev/project/bin/sourceFileCopy.py\n",
            "07/28/2021 12:11:06 PM:sourceFileCopy.py[80]:2406:INFO: ConfigFile : /framework/dev/project/conf/sourceFileCopyConf.json\n",
            "07/28/2021 12:11:06 PM:sourceFileCopy.py[95]:2406:INFO: Done.\n"
          ],
          "name": "stdout"
        }
      ]
    },
    {
      "cell_type": "code",
      "metadata": {
        "colab": {
          "base_uri": "https://localhost:8080/"
        },
        "id": "6VSV4wlztDvI",
        "outputId": "4b101de6-9747-4154-db8e-8803dbd1c176"
      },
      "source": [
        "!/bin/bash /framework/dev/project/bin/genExecute.ksh sourceFileCopy.py --config /framework/dev/project/conf/sourceFileCopyConf.json --debug"
      ],
      "execution_count": 97,
      "outputs": [
        {
          "output_type": "stream",
          "text": [
            "DEV\n",
            "sourcing /framework/dev/project/conf/project.ksh\n",
            "sourcing /framework/dev//frameWork.ksh\n",
            "/framework/dev/project/bin/sourceFileCopy.py --config /framework/dev/project/conf/sourceFileCopyConf.json --debug\n"
          ],
          "name": "stdout"
        }
      ]
    },
    {
      "cell_type": "code",
      "metadata": {
        "id": "U2zE2h7J3C63"
      },
      "source": [
        ""
      ],
      "execution_count": null,
      "outputs": []
    }
  ]
}